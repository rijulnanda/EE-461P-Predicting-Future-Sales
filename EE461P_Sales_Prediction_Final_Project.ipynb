{
 "cells": [
  {
   "cell_type": "markdown",
   "metadata": {},
   "source": [
    "# EE 461P: Sales Prediction"
   ]
  },
  {
   "cell_type": "code",
   "execution_count": 10,
   "metadata": {},
   "outputs": [],
   "source": [
    "import pandas as pd\n",
    "import numpy as np\n",
    "\n",
    "from sklearn.model_selection import train_test_split\n",
    "from sklearn.preprocessing import LabelEncoder\n",
    "from sklearn.metrics import mean_squared_error\n",
    "from itertools import product\n",
    "\n",
    "from sklearn.svm import LinearSVC\n",
    "from sklearn.ensemble import GradientBoostingClassifier, RandomForestClassifier, RandomForestRegressor\n",
    "from sklearn.neighbors import KNeighborsClassifier\n",
    "from sklearn.naive_bayes import GaussianNB\n",
    "from sklearn.linear_model import LinearRegression, LogisticRegression, SGDClassifier\n",
    "from sklearn.tree import DecisionTreeClassifier, DecisionTreeRegressor\n",
    "from xgboost import XGBRegressor, plot_importance\n",
    "import matplotlib.pyplot as plt\n",
    "from sklearn.preprocessing import LabelEncoder\n",
    "from itertools import product\n",
    "import gc\n",
    "import re\n",
    "from sklearn.model_selection import GridSearchCV"
   ]
  },
  {
   "cell_type": "code",
   "execution_count": 11,
   "metadata": {},
   "outputs": [],
   "source": [
    "# make a ton of dataframes for all files\n",
    "df_items = pd.read_csv('items.csv')\n",
    "df_cat = pd.read_csv('item_categories.csv')\n",
    "df_sales = pd.read_csv('sales_train.csv')\n",
    "df_test = pd.read_csv('test.csv')\n",
    "df_shops = pd.read_csv('shops.csv')\n",
    "sample = pd.read_csv('sample_submission.csv')"
   ]
  },
  {
   "cell_type": "code",
   "execution_count": 3,
   "metadata": {},
   "outputs": [],
   "source": [
    "# look at the shops\n",
    "# df_shops['shop_name'].value_counts()"
   ]
  },
  {
   "cell_type": "markdown",
   "metadata": {},
   "source": [
    "### Preprocessing"
   ]
  },
  {
   "cell_type": "code",
   "execution_count": 12,
   "metadata": {},
   "outputs": [],
   "source": [
    "# fix shops that are the same thing\n",
    "df_shops.loc[df_shops['shop_id']==0, 'shop_id'] = 57\n",
    "df_shops.loc[df_shops['shop_id']==1, 'shop_id'] = 58\n",
    "df_shops.loc[df_shops['shop_id']==10, 'shop_id'] = 11\n",
    "# df_shops"
   ]
  },
  {
   "cell_type": "code",
   "execution_count": 13,
   "metadata": {},
   "outputs": [
    {
     "data": {
      "text/html": [
       "<div>\n",
       "<style scoped>\n",
       "    .dataframe tbody tr th:only-of-type {\n",
       "        vertical-align: middle;\n",
       "    }\n",
       "\n",
       "    .dataframe tbody tr th {\n",
       "        vertical-align: top;\n",
       "    }\n",
       "\n",
       "    .dataframe thead th {\n",
       "        text-align: right;\n",
       "    }\n",
       "</style>\n",
       "<table border=\"1\" class=\"dataframe\">\n",
       "  <thead>\n",
       "    <tr style=\"text-align: right;\">\n",
       "      <th>date_block_num</th>\n",
       "      <th>shop_id</th>\n",
       "      <th>item_id</th>\n",
       "      <th>0</th>\n",
       "      <th>1</th>\n",
       "      <th>2</th>\n",
       "      <th>3</th>\n",
       "      <th>4</th>\n",
       "      <th>5</th>\n",
       "      <th>6</th>\n",
       "      <th>7</th>\n",
       "      <th>...</th>\n",
       "      <th>24</th>\n",
       "      <th>25</th>\n",
       "      <th>26</th>\n",
       "      <th>27</th>\n",
       "      <th>28</th>\n",
       "      <th>29</th>\n",
       "      <th>30</th>\n",
       "      <th>31</th>\n",
       "      <th>32</th>\n",
       "      <th>33</th>\n",
       "    </tr>\n",
       "  </thead>\n",
       "  <tbody>\n",
       "    <tr>\n",
       "      <th>0</th>\n",
       "      <td>0</td>\n",
       "      <td>30</td>\n",
       "      <td>0</td>\n",
       "      <td>31</td>\n",
       "      <td>0</td>\n",
       "      <td>0</td>\n",
       "      <td>0</td>\n",
       "      <td>0</td>\n",
       "      <td>0</td>\n",
       "      <td>0</td>\n",
       "      <td>...</td>\n",
       "      <td>0</td>\n",
       "      <td>0</td>\n",
       "      <td>0</td>\n",
       "      <td>0</td>\n",
       "      <td>0</td>\n",
       "      <td>0</td>\n",
       "      <td>0</td>\n",
       "      <td>0</td>\n",
       "      <td>0</td>\n",
       "      <td>0</td>\n",
       "    </tr>\n",
       "    <tr>\n",
       "      <th>1</th>\n",
       "      <td>0</td>\n",
       "      <td>31</td>\n",
       "      <td>0</td>\n",
       "      <td>11</td>\n",
       "      <td>0</td>\n",
       "      <td>0</td>\n",
       "      <td>0</td>\n",
       "      <td>0</td>\n",
       "      <td>0</td>\n",
       "      <td>0</td>\n",
       "      <td>...</td>\n",
       "      <td>0</td>\n",
       "      <td>0</td>\n",
       "      <td>0</td>\n",
       "      <td>0</td>\n",
       "      <td>0</td>\n",
       "      <td>0</td>\n",
       "      <td>0</td>\n",
       "      <td>0</td>\n",
       "      <td>0</td>\n",
       "      <td>0</td>\n",
       "    </tr>\n",
       "    <tr>\n",
       "      <th>2</th>\n",
       "      <td>0</td>\n",
       "      <td>32</td>\n",
       "      <td>6</td>\n",
       "      <td>10</td>\n",
       "      <td>0</td>\n",
       "      <td>0</td>\n",
       "      <td>0</td>\n",
       "      <td>0</td>\n",
       "      <td>0</td>\n",
       "      <td>0</td>\n",
       "      <td>...</td>\n",
       "      <td>0</td>\n",
       "      <td>0</td>\n",
       "      <td>0</td>\n",
       "      <td>0</td>\n",
       "      <td>0</td>\n",
       "      <td>0</td>\n",
       "      <td>0</td>\n",
       "      <td>0</td>\n",
       "      <td>0</td>\n",
       "      <td>0</td>\n",
       "    </tr>\n",
       "    <tr>\n",
       "      <th>3</th>\n",
       "      <td>0</td>\n",
       "      <td>33</td>\n",
       "      <td>3</td>\n",
       "      <td>3</td>\n",
       "      <td>0</td>\n",
       "      <td>0</td>\n",
       "      <td>0</td>\n",
       "      <td>0</td>\n",
       "      <td>0</td>\n",
       "      <td>0</td>\n",
       "      <td>...</td>\n",
       "      <td>0</td>\n",
       "      <td>0</td>\n",
       "      <td>0</td>\n",
       "      <td>0</td>\n",
       "      <td>0</td>\n",
       "      <td>0</td>\n",
       "      <td>0</td>\n",
       "      <td>0</td>\n",
       "      <td>0</td>\n",
       "      <td>0</td>\n",
       "    </tr>\n",
       "    <tr>\n",
       "      <th>4</th>\n",
       "      <td>0</td>\n",
       "      <td>35</td>\n",
       "      <td>1</td>\n",
       "      <td>14</td>\n",
       "      <td>0</td>\n",
       "      <td>0</td>\n",
       "      <td>0</td>\n",
       "      <td>0</td>\n",
       "      <td>0</td>\n",
       "      <td>0</td>\n",
       "      <td>...</td>\n",
       "      <td>0</td>\n",
       "      <td>0</td>\n",
       "      <td>0</td>\n",
       "      <td>0</td>\n",
       "      <td>0</td>\n",
       "      <td>0</td>\n",
       "      <td>0</td>\n",
       "      <td>0</td>\n",
       "      <td>0</td>\n",
       "      <td>0</td>\n",
       "    </tr>\n",
       "  </tbody>\n",
       "</table>\n",
       "<p>5 rows × 36 columns</p>\n",
       "</div>"
      ],
      "text/plain": [
       "date_block_num  shop_id  item_id  0   1  2  3  4  5  6  7  ...  24  25  26  \\\n",
       "0                     0       30  0  31  0  0  0  0  0  0  ...   0   0   0   \n",
       "1                     0       31  0  11  0  0  0  0  0  0  ...   0   0   0   \n",
       "2                     0       32  6  10  0  0  0  0  0  0  ...   0   0   0   \n",
       "3                     0       33  3   3  0  0  0  0  0  0  ...   0   0   0   \n",
       "4                     0       35  1  14  0  0  0  0  0  0  ...   0   0   0   \n",
       "\n",
       "date_block_num  27  28  29  30  31  32  33  \n",
       "0                0   0   0   0   0   0   0  \n",
       "1                0   0   0   0   0   0   0  \n",
       "2                0   0   0   0   0   0   0  \n",
       "3                0   0   0   0   0   0   0  \n",
       "4                0   0   0   0   0   0   0  \n",
       "\n",
       "[5 rows x 36 columns]"
      ]
     },
     "execution_count": 13,
     "metadata": {},
     "output_type": "execute_result"
    }
   ],
   "source": [
    "df_dropped = df_sales.drop(['date','item_price'], axis=1)\n",
    "\n",
    "df_group = df_dropped.groupby(['date_block_num', 'shop_id', 'item_id']).sum().reset_index()\n",
    "df_train = df_group.pivot_table(index=['shop_id','item_id'], columns='date_block_num', values='item_cnt_day', \n",
    "                        fill_value=0)\n",
    "\n",
    "df_train.reset_index(inplace=True)\n",
    "df_train.head()"
   ]
  },
  {
   "cell_type": "code",
   "execution_count": 14,
   "metadata": {},
   "outputs": [],
   "source": [
    "df_forecast_dropped = df_test.drop(['ID'], axis=1)\n",
    "df_test_actual = pd.merge(df_forecast_dropped, df_train, on=['shop_id','item_id'], how='left').fillna(0)"
   ]
  },
  {
   "cell_type": "markdown",
   "metadata": {},
   "source": [
    "### Model writing - DTR, RFR No Tune"
   ]
  },
  {
   "cell_type": "code",
   "execution_count": 6,
   "metadata": {},
   "outputs": [
    {
     "name": "stdout",
     "output_type": "stream",
     "text": [
      "(424124, 35)\n",
      "(424124,)\n"
     ]
    }
   ],
   "source": [
    "X = df_train[df_train.columns[:-1]].values\n",
    "y = df_train[df_train.columns[-1]]\n",
    "print(X.shape)\n",
    "print(y.shape)"
   ]
  },
  {
   "cell_type": "code",
   "execution_count": 7,
   "metadata": {},
   "outputs": [],
   "source": [
    "from sklearn.model_selection import train_test_split\n",
    "X_train, X_test, y_train, y_test = train_test_split(X, y, train_size = 0.8, test_size=0.15, random_state=15)"
   ]
  },
  {
   "cell_type": "code",
   "execution_count": 8,
   "metadata": {},
   "outputs": [
    {
     "data": {
      "text/plain": [
       "76.70510382118549"
      ]
     },
     "execution_count": 8,
     "metadata": {},
     "output_type": "execute_result"
    }
   ],
   "source": [
    "dtr = DecisionTreeRegressor().fit(X_train, y_train)\n",
    "y_preds = dtr.predict(X_test)\n",
    "mean_squared_error(y_test, y_preds)"
   ]
  },
  {
   "cell_type": "code",
   "execution_count": 15,
   "metadata": {},
   "outputs": [],
   "source": [
    "rfr = RandomForestRegressor().fit(X_train, y_train)\n",
    "y_preds = rfr.predict(X_test)\n",
    "mean_squared_error(y_test, y_preds)"
   ]
  },
  {
   "cell_type": "code",
   "execution_count": null,
   "metadata": {},
   "outputs": [],
   "source": [
    "X_forecast = df_test_actual[df_test_actual.columns[:-1]].values\n",
    "y_forecast_pred = rfr.predict(X_forecast)\n",
    "y_forecast_pred = list(map(round, y_forecast_pred))\n",
    "\n",
    "submission = pd.DataFrame()\n",
    "submission['ID'] = df_test['ID']\n",
    "submission['item_cnt_month'] = y_forecast_pred # predictions on the test dataset"
   ]
  },
  {
   "cell_type": "code",
   "execution_count": null,
   "metadata": {},
   "outputs": [],
   "source": [
    "submission.to_csv('rfr_notune.csv', index=False)"
   ]
  },
  {
   "cell_type": "markdown",
   "metadata": {},
   "source": [
    "### New Preprocessing"
   ]
  },
  {
   "cell_type": "code",
   "execution_count": 16,
   "metadata": {},
   "outputs": [],
   "source": [
    "# make a ton of dataframes for all files\n",
    "df_items = pd.read_csv('items.csv')\n",
    "df_cat = pd.read_csv('item_categories.csv')\n",
    "df_sales = pd.read_csv('sales_train.csv')\n",
    "df_test = pd.read_csv('test.csv')\n",
    "df_shops = pd.read_csv('shops.csv')\n",
    "sample = pd.read_csv('sample_submission.csv')"
   ]
  },
  {
   "cell_type": "code",
   "execution_count": 17,
   "metadata": {},
   "outputs": [],
   "source": [
    "# fix shops that are the same thing\n",
    "df_shops.loc[df_shops['shop_id']==0, 'shop_id'] = 57\n",
    "df_shops.loc[df_shops['shop_id']==1, 'shop_id'] = 58\n",
    "df_shops.loc[df_shops['shop_id']==10, 'shop_id'] = 11\n",
    "# df_shops"
   ]
  },
  {
   "cell_type": "code",
   "execution_count": 18,
   "metadata": {},
   "outputs": [],
   "source": [
    "# outlier removal\n",
    "df_sales = df_sales[df_sales['item_price'] > 0]\n",
    "df_sales = df_sales[df_sales['item_price'] < 50000]\n",
    "df_sales = df_sales[df_sales['item_cnt_day'] > 0]\n",
    "df_sales = df_sales[df_sales['item_cnt_day'] < 1000]"
   ]
  },
  {
   "cell_type": "code",
   "execution_count": 19,
   "metadata": {},
   "outputs": [],
   "source": [
    "# fix shop ID in the main dfs\n",
    "df_sales.loc[df_sales['shop_id'] == 0, 'shop_id'] = 57\n",
    "df_sales.loc[df_sales['shop_id'] == 1, 'shop_id'] = 58\n",
    "df_sales.loc[df_sales['shop_id'] == 10, 'shop_id'] = 11\n",
    "df_sales.loc[df_sales['shop_id'] == 39, 'shop_id'] = 40\n",
    "\n",
    "df_test.loc[df_test['shop_id'] == 0, 'shop_id'] = 57\n",
    "df_test.loc[df_test['shop_id'] == 1, 'shop_id'] = 58\n",
    "df_test.loc[df_test['shop_id'] == 10, 'shop_id'] = 11\n",
    "df_test.loc[df_test['shop_id'] == 39, 'shop_id'] = 40"
   ]
  },
  {
   "cell_type": "code",
   "execution_count": 16,
   "metadata": {},
   "outputs": [
    {
     "data": {
      "text/html": [
       "<div>\n",
       "<style scoped>\n",
       "    .dataframe tbody tr th:only-of-type {\n",
       "        vertical-align: middle;\n",
       "    }\n",
       "\n",
       "    .dataframe tbody tr th {\n",
       "        vertical-align: top;\n",
       "    }\n",
       "\n",
       "    .dataframe thead th {\n",
       "        text-align: right;\n",
       "    }\n",
       "</style>\n",
       "<table border=\"1\" class=\"dataframe\">\n",
       "  <thead>\n",
       "    <tr style=\"text-align: right;\">\n",
       "      <th></th>\n",
       "      <th>item_name</th>\n",
       "      <th>item_id</th>\n",
       "      <th>item_category_id</th>\n",
       "    </tr>\n",
       "  </thead>\n",
       "  <tbody>\n",
       "    <tr>\n",
       "      <th>0</th>\n",
       "      <td>! ВО ВЛАСТИ НАВАЖДЕНИЯ (ПЛАСТ.)         D</td>\n",
       "      <td>0</td>\n",
       "      <td>40</td>\n",
       "    </tr>\n",
       "    <tr>\n",
       "      <th>1</th>\n",
       "      <td>!ABBYY FineReader 12 Professional Edition Full...</td>\n",
       "      <td>1</td>\n",
       "      <td>76</td>\n",
       "    </tr>\n",
       "    <tr>\n",
       "      <th>2</th>\n",
       "      <td>***В ЛУЧАХ СЛАВЫ   (UNV)                    D</td>\n",
       "      <td>2</td>\n",
       "      <td>40</td>\n",
       "    </tr>\n",
       "    <tr>\n",
       "      <th>3</th>\n",
       "      <td>***ГОЛУБАЯ ВОЛНА  (Univ)                      D</td>\n",
       "      <td>3</td>\n",
       "      <td>40</td>\n",
       "    </tr>\n",
       "    <tr>\n",
       "      <th>4</th>\n",
       "      <td>***КОРОБКА (СТЕКЛО)                       D</td>\n",
       "      <td>4</td>\n",
       "      <td>40</td>\n",
       "    </tr>\n",
       "    <tr>\n",
       "      <th>...</th>\n",
       "      <td>...</td>\n",
       "      <td>...</td>\n",
       "      <td>...</td>\n",
       "    </tr>\n",
       "    <tr>\n",
       "      <th>22165</th>\n",
       "      <td>Ядерный титбит 2 [PC, Цифровая версия]</td>\n",
       "      <td>22165</td>\n",
       "      <td>31</td>\n",
       "    </tr>\n",
       "    <tr>\n",
       "      <th>22166</th>\n",
       "      <td>Язык запросов 1С:Предприятия  [Цифровая версия]</td>\n",
       "      <td>22166</td>\n",
       "      <td>54</td>\n",
       "    </tr>\n",
       "    <tr>\n",
       "      <th>22167</th>\n",
       "      <td>Язык запросов 1С:Предприятия 8 (+CD). Хрустале...</td>\n",
       "      <td>22167</td>\n",
       "      <td>49</td>\n",
       "    </tr>\n",
       "    <tr>\n",
       "      <th>22168</th>\n",
       "      <td>Яйцо для Little Inu</td>\n",
       "      <td>22168</td>\n",
       "      <td>62</td>\n",
       "    </tr>\n",
       "    <tr>\n",
       "      <th>22169</th>\n",
       "      <td>Яйцо дракона (Игра престолов)</td>\n",
       "      <td>22169</td>\n",
       "      <td>69</td>\n",
       "    </tr>\n",
       "  </tbody>\n",
       "</table>\n",
       "<p>22170 rows × 3 columns</p>\n",
       "</div>"
      ],
      "text/plain": [
       "                                               item_name  item_id  \\\n",
       "0              ! ВО ВЛАСТИ НАВАЖДЕНИЯ (ПЛАСТ.)         D        0   \n",
       "1      !ABBYY FineReader 12 Professional Edition Full...        1   \n",
       "2          ***В ЛУЧАХ СЛАВЫ   (UNV)                    D        2   \n",
       "3        ***ГОЛУБАЯ ВОЛНА  (Univ)                      D        3   \n",
       "4            ***КОРОБКА (СТЕКЛО)                       D        4   \n",
       "...                                                  ...      ...   \n",
       "22165             Ядерный титбит 2 [PC, Цифровая версия]    22165   \n",
       "22166    Язык запросов 1С:Предприятия  [Цифровая версия]    22166   \n",
       "22167  Язык запросов 1С:Предприятия 8 (+CD). Хрустале...    22167   \n",
       "22168                                Яйцо для Little Inu    22168   \n",
       "22169                      Яйцо дракона (Игра престолов)    22169   \n",
       "\n",
       "       item_category_id  \n",
       "0                    40  \n",
       "1                    76  \n",
       "2                    40  \n",
       "3                    40  \n",
       "4                    40  \n",
       "...                 ...  \n",
       "22165                31  \n",
       "22166                54  \n",
       "22167                49  \n",
       "22168                62  \n",
       "22169                69  \n",
       "\n",
       "[22170 rows x 3 columns]"
      ]
     },
     "execution_count": 16,
     "metadata": {},
     "output_type": "execute_result"
    }
   ],
   "source": [
    "df_items"
   ]
  },
  {
   "cell_type": "markdown",
   "metadata": {},
   "source": [
    "### Feature Engineering - In all CSVs, create new cols"
   ]
  },
  {
   "cell_type": "code",
   "execution_count": 20,
   "metadata": {},
   "outputs": [
    {
     "data": {
      "text/html": [
       "<div>\n",
       "<style scoped>\n",
       "    .dataframe tbody tr th:only-of-type {\n",
       "        vertical-align: middle;\n",
       "    }\n",
       "\n",
       "    .dataframe tbody tr th {\n",
       "        vertical-align: top;\n",
       "    }\n",
       "\n",
       "    .dataframe thead th {\n",
       "        text-align: right;\n",
       "    }\n",
       "</style>\n",
       "<table border=\"1\" class=\"dataframe\">\n",
       "  <thead>\n",
       "    <tr style=\"text-align: right;\">\n",
       "      <th></th>\n",
       "      <th>item_category_name</th>\n",
       "      <th>item_category_id</th>\n",
       "      <th>type</th>\n",
       "      <th>type_code</th>\n",
       "      <th>sub_type</th>\n",
       "      <th>sub_type_code</th>\n",
       "    </tr>\n",
       "  </thead>\n",
       "  <tbody>\n",
       "    <tr>\n",
       "      <th>0</th>\n",
       "      <td>PC - Гарнитуры/Наушники</td>\n",
       "      <td>0</td>\n",
       "      <td>PC</td>\n",
       "      <td>0</td>\n",
       "      <td>Гарнитуры/Наушники</td>\n",
       "      <td>29</td>\n",
       "    </tr>\n",
       "    <tr>\n",
       "      <th>1</th>\n",
       "      <td>Аксессуары - PS2</td>\n",
       "      <td>1</td>\n",
       "      <td>Аксессуары</td>\n",
       "      <td>1</td>\n",
       "      <td>PS2</td>\n",
       "      <td>9</td>\n",
       "    </tr>\n",
       "    <tr>\n",
       "      <th>2</th>\n",
       "      <td>Аксессуары - PS3</td>\n",
       "      <td>2</td>\n",
       "      <td>Аксессуары</td>\n",
       "      <td>1</td>\n",
       "      <td>PS3</td>\n",
       "      <td>10</td>\n",
       "    </tr>\n",
       "    <tr>\n",
       "      <th>3</th>\n",
       "      <td>Аксессуары - PS4</td>\n",
       "      <td>3</td>\n",
       "      <td>Аксессуары</td>\n",
       "      <td>1</td>\n",
       "      <td>PS4</td>\n",
       "      <td>11</td>\n",
       "    </tr>\n",
       "    <tr>\n",
       "      <th>4</th>\n",
       "      <td>Аксессуары - PSP</td>\n",
       "      <td>4</td>\n",
       "      <td>Аксессуары</td>\n",
       "      <td>1</td>\n",
       "      <td>PSP</td>\n",
       "      <td>13</td>\n",
       "    </tr>\n",
       "  </tbody>\n",
       "</table>\n",
       "</div>"
      ],
      "text/plain": [
       "        item_category_name  item_category_id         type  type_code  \\\n",
       "0  PC - Гарнитуры/Наушники                 0          PC           0   \n",
       "1         Аксессуары - PS2                 1  Аксессуары           1   \n",
       "2         Аксессуары - PS3                 2  Аксессуары           1   \n",
       "3         Аксессуары - PS4                 3  Аксессуары           1   \n",
       "4         Аксессуары - PSP                 4  Аксессуары           1   \n",
       "\n",
       "             sub_type  sub_type_code  \n",
       "0  Гарнитуры/Наушники             29  \n",
       "1                 PS2              9  \n",
       "2                 PS3             10  \n",
       "3                 PS4             11  \n",
       "4                 PSP             13  "
      ]
     },
     "execution_count": 20,
     "metadata": {},
     "output_type": "execute_result"
    }
   ],
   "source": [
    "# df_shops\n",
    "\n",
    "# create type and type_code cols\n",
    "df_cat['type'] = df_cat['item_category_name'].str.split('-').map(lambda x:x[0])\n",
    "df_cat['type_code'] = LabelEncoder().fit_transform(df_cat['type'])\n",
    "\n",
    "# get subtype and subtype_code cols\n",
    "df_cat['sub_type'] = df_cat['item_category_name'].str.split('-').map(lambda x:x[1].strip() if len(x) > 1 else x[0].strip())\n",
    "df_cat['sub_type_code'] = LabelEncoder().fit_transform(df_cat['sub_type'])\n",
    "df_cat.head()"
   ]
  },
  {
   "cell_type": "code",
   "execution_count": 21,
   "metadata": {},
   "outputs": [
    {
     "data": {
      "text/html": [
       "<div>\n",
       "<style scoped>\n",
       "    .dataframe tbody tr th:only-of-type {\n",
       "        vertical-align: middle;\n",
       "    }\n",
       "\n",
       "    .dataframe tbody tr th {\n",
       "        vertical-align: top;\n",
       "    }\n",
       "\n",
       "    .dataframe thead th {\n",
       "        text-align: right;\n",
       "    }\n",
       "</style>\n",
       "<table border=\"1\" class=\"dataframe\">\n",
       "  <thead>\n",
       "    <tr style=\"text-align: right;\">\n",
       "      <th></th>\n",
       "      <th>date</th>\n",
       "      <th>date_block_num</th>\n",
       "      <th>shop_id</th>\n",
       "      <th>item_id</th>\n",
       "      <th>item_price</th>\n",
       "      <th>item_cnt_day</th>\n",
       "    </tr>\n",
       "  </thead>\n",
       "  <tbody>\n",
       "    <tr>\n",
       "      <th>0</th>\n",
       "      <td>2013-01-02</td>\n",
       "      <td>0</td>\n",
       "      <td>59</td>\n",
       "      <td>22154</td>\n",
       "      <td>999.00</td>\n",
       "      <td>1.0</td>\n",
       "    </tr>\n",
       "    <tr>\n",
       "      <th>1</th>\n",
       "      <td>2013-01-03</td>\n",
       "      <td>0</td>\n",
       "      <td>25</td>\n",
       "      <td>2552</td>\n",
       "      <td>899.00</td>\n",
       "      <td>1.0</td>\n",
       "    </tr>\n",
       "    <tr>\n",
       "      <th>3</th>\n",
       "      <td>2013-01-06</td>\n",
       "      <td>0</td>\n",
       "      <td>25</td>\n",
       "      <td>2554</td>\n",
       "      <td>1709.05</td>\n",
       "      <td>1.0</td>\n",
       "    </tr>\n",
       "    <tr>\n",
       "      <th>4</th>\n",
       "      <td>2013-01-15</td>\n",
       "      <td>0</td>\n",
       "      <td>25</td>\n",
       "      <td>2555</td>\n",
       "      <td>1099.00</td>\n",
       "      <td>1.0</td>\n",
       "    </tr>\n",
       "    <tr>\n",
       "      <th>5</th>\n",
       "      <td>2013-01-10</td>\n",
       "      <td>0</td>\n",
       "      <td>25</td>\n",
       "      <td>2564</td>\n",
       "      <td>349.00</td>\n",
       "      <td>1.0</td>\n",
       "    </tr>\n",
       "  </tbody>\n",
       "</table>\n",
       "</div>"
      ],
      "text/plain": [
       "        date  date_block_num  shop_id  item_id  item_price  item_cnt_day\n",
       "0 2013-01-02               0       59    22154      999.00           1.0\n",
       "1 2013-01-03               0       25     2552      899.00           1.0\n",
       "3 2013-01-06               0       25     2554     1709.05           1.0\n",
       "4 2013-01-15               0       25     2555     1099.00           1.0\n",
       "5 2013-01-10               0       25     2564      349.00           1.0"
      ]
     },
     "execution_count": 21,
     "metadata": {},
     "output_type": "execute_result"
    }
   ],
   "source": [
    "# df_sales\n",
    "\n",
    "# replace the negative item_price to mean value\n",
    "mean = df_sales[(df_sales[\"shop_id\"] == 32) & (df_sales[\"item_id\"] == 2973) & \n",
    "                (df_sales[\"date_block_num\"] == 4) & (df_sales[\"item_price\"] > 0)][\"item_price\"].mean()\n",
    "df_sales.loc[df_sales.item_price < 0, 'item_price'] = mean\n",
    "\n",
    "# clean the outliers\n",
    "df_sales = df_sales[df_sales[\"item_price\"] < np.percentile(df_sales[\"item_price\"], q = 100)]\n",
    "df_sales = df_sales[(df_sales[\"item_cnt_day\"] >= 0) & (df_sales[\"item_cnt_day\"] < np.percentile(df_sales[\"item_cnt_day\"], q = 100))]\n",
    "\n",
    "# change the format of date\n",
    "df_sales[\"date\"] = pd.to_datetime(df_sales[\"date\"], format = \"%d.%m.%Y\")\n",
    "df_sales.head()"
   ]
  },
  {
   "cell_type": "code",
   "execution_count": 22,
   "metadata": {},
   "outputs": [],
   "source": [
    "for i in [(0, 57), (1, 58), (10, 11)]:\n",
    "    df_sales.loc[df_sales['shop_id'] == i[0], 'shop_id'] = i[1]\n",
    "    df_test.loc[df_test['shop_id'] == i[0], 'shop_id'] = i[1]"
   ]
  },
  {
   "cell_type": "code",
   "execution_count": 23,
   "metadata": {},
   "outputs": [],
   "source": [
    "df_sales['revenue'] = df_sales['item_cnt_day'] * df_sales['item_price']"
   ]
  },
  {
   "cell_type": "code",
   "execution_count": 24,
   "metadata": {},
   "outputs": [
    {
     "name": "stderr",
     "output_type": "stream",
     "text": [
      "<ipython-input-24-f6abc034c128>:4: FutureWarning: Columnar iteration over characters will be deprecated in future releases.\n",
      "  df_items['name1'], df_items['name2'] = df_items['item_name'].str.split('[', 1).str\n",
      "<ipython-input-24-f6abc034c128>:5: FutureWarning: Columnar iteration over characters will be deprecated in future releases.\n",
      "  df_items['name1'], df_items['name3'] = df_items['item_name'].str.split('(', 1).str\n"
     ]
    }
   ],
   "source": [
    "# df_items\n",
    "\n",
    "# split item names by first bracket\n",
    "df_items['name1'], df_items['name2'] = df_items['item_name'].str.split('[', 1).str\n",
    "df_items['name1'], df_items['name3'] = df_items['item_name'].str.split('(', 1).str\n",
    "\n",
    "# replace special characters and turn to lower case\n",
    "df_items['name2'] = df_items['name2'].str.replace('[^A-Za-z0-9А-Яа-я]+', \" \").str.lower()\n",
    "df_items['name3'] = df_items['name3'].str.replace('[^A-Za-z0-9А-Яа-я]+', \" \").str.lower()\n",
    "\n",
    "# fill nulls with '0'\n",
    "df_items = df_items.fillna('0')\n",
    "\n",
    "# return all characters except the last if name 2 is not \"0\" - the closing bracket\n",
    "df_items['name2'] = df_items['name2'].apply(lambda x: x[:-1] if x != '0' else '0')"
   ]
  },
  {
   "cell_type": "code",
   "execution_count": 25,
   "metadata": {},
   "outputs": [],
   "source": [
    "df_items['type'] = (df_items['name2'].apply(lambda x: x[0:8] if x.split(' ')[0] == 'xbox' else x.split(' ')[0]))\n",
    "\n",
    "df_items.loc[(df_items['type'] == 'x360')|(df_items['type'] == 'xbox360')|(df_items['type'] == 'xbox 360'),'type'] = 'xbox 360'\n",
    "df_items.loc[df_items['type'] == '', 'type'] = 'mac'\n",
    "df_items.type = (df_items['type'].apply(lambda x: x.replace(' ', '')))\n",
    "df_items.loc[(df_items['type'] == 'pc' )|(df_items['type'] == 'pс')|(df_items['type'] == 'pс'),'type'] = 'pс'\n",
    "\n",
    "df_items.loc[df_items['type'] == 'рs3' , 'type'] = 'рs3'"
   ]
  },
  {
   "cell_type": "code",
   "execution_count": 26,
   "metadata": {},
   "outputs": [],
   "source": [
    "# Create \"grid\" with columns\n",
    "index_cols = ['shop_id', 'item_id', 'date_block_num']\n",
    "\n",
    "# For every month we create a grid from all shops/items combinations from that month\n",
    "grid = [] \n",
    "for month in df_sales['date_block_num'].unique():\n",
    "    cur_shops = df_sales.loc[df_sales['date_block_num'] == month, 'shop_id'].unique()\n",
    "    cur_items = df_sales.loc[df_sales['date_block_num'] == month, 'item_id'].unique()\n",
    "    grid.append(np.array(list(product(*[cur_shops, cur_items, [month]])),dtype='int32'))\n",
    "\n",
    "# Turn the grid into a dataframe\n",
    "grid = pd.DataFrame(np.vstack(grid), columns = index_cols,dtype=np.int32)\n",
    "\n",
    "# Groupby data to get shop-item-month aggregates\n",
    "gb = df_sales.groupby(index_cols,as_index=False).agg({'item_cnt_day':'sum'})\n",
    "gb.rename(columns ={'item_cnt_day':'item_cnt_month'},inplace = True)\n",
    "train_data = pd.merge(grid, gb, how='left', on=index_cols).fillna(0)\n",
    "\n",
    "#Clip target values\n",
    "train_data['item_cnt_month'] = np.clip(train_data['item_cnt_month'],0,20)\n",
    "train_data.sort_values(index_cols, inplace = True)"
   ]
  },
  {
   "cell_type": "code",
   "execution_count": 27,
   "metadata": {},
   "outputs": [
    {
     "data": {
      "text/html": [
       "<div>\n",
       "<style scoped>\n",
       "    .dataframe tbody tr th:only-of-type {\n",
       "        vertical-align: middle;\n",
       "    }\n",
       "\n",
       "    .dataframe tbody tr th {\n",
       "        vertical-align: top;\n",
       "    }\n",
       "\n",
       "    .dataframe thead th {\n",
       "        text-align: right;\n",
       "    }\n",
       "</style>\n",
       "<table border=\"1\" class=\"dataframe\">\n",
       "  <thead>\n",
       "    <tr style=\"text-align: right;\">\n",
       "      <th></th>\n",
       "      <th>shop_id</th>\n",
       "      <th>item_id</th>\n",
       "      <th>date_block_num</th>\n",
       "      <th>item_cnt_month</th>\n",
       "    </tr>\n",
       "  </thead>\n",
       "  <tbody>\n",
       "    <tr>\n",
       "      <th>7118778</th>\n",
       "      <td>2</td>\n",
       "      <td>0</td>\n",
       "      <td>20</td>\n",
       "      <td>0.0</td>\n",
       "    </tr>\n",
       "    <tr>\n",
       "      <th>5646744</th>\n",
       "      <td>2</td>\n",
       "      <td>1</td>\n",
       "      <td>15</td>\n",
       "      <td>0.0</td>\n",
       "    </tr>\n",
       "    <tr>\n",
       "      <th>6711465</th>\n",
       "      <td>2</td>\n",
       "      <td>1</td>\n",
       "      <td>18</td>\n",
       "      <td>0.0</td>\n",
       "    </tr>\n",
       "    <tr>\n",
       "      <th>7026005</th>\n",
       "      <td>2</td>\n",
       "      <td>1</td>\n",
       "      <td>19</td>\n",
       "      <td>0.0</td>\n",
       "    </tr>\n",
       "    <tr>\n",
       "      <th>7121093</th>\n",
       "      <td>2</td>\n",
       "      <td>1</td>\n",
       "      <td>20</td>\n",
       "      <td>0.0</td>\n",
       "    </tr>\n",
       "    <tr>\n",
       "      <th>214195</th>\n",
       "      <td>45</td>\n",
       "      <td>18454</td>\n",
       "      <td>34</td>\n",
       "      <td>0.0</td>\n",
       "    </tr>\n",
       "    <tr>\n",
       "      <th>214196</th>\n",
       "      <td>45</td>\n",
       "      <td>16188</td>\n",
       "      <td>34</td>\n",
       "      <td>0.0</td>\n",
       "    </tr>\n",
       "    <tr>\n",
       "      <th>214197</th>\n",
       "      <td>45</td>\n",
       "      <td>15757</td>\n",
       "      <td>34</td>\n",
       "      <td>0.0</td>\n",
       "    </tr>\n",
       "    <tr>\n",
       "      <th>214198</th>\n",
       "      <td>45</td>\n",
       "      <td>19648</td>\n",
       "      <td>34</td>\n",
       "      <td>0.0</td>\n",
       "    </tr>\n",
       "    <tr>\n",
       "      <th>214199</th>\n",
       "      <td>45</td>\n",
       "      <td>969</td>\n",
       "      <td>34</td>\n",
       "      <td>0.0</td>\n",
       "    </tr>\n",
       "  </tbody>\n",
       "</table>\n",
       "</div>"
      ],
      "text/plain": [
       "         shop_id  item_id  date_block_num  item_cnt_month\n",
       "7118778        2        0              20             0.0\n",
       "5646744        2        1              15             0.0\n",
       "6711465        2        1              18             0.0\n",
       "7026005        2        1              19             0.0\n",
       "7121093        2        1              20             0.0\n",
       "214195        45    18454              34             0.0\n",
       "214196        45    16188              34             0.0\n",
       "214197        45    15757              34             0.0\n",
       "214198        45    19648              34             0.0\n",
       "214199        45      969              34             0.0"
      ]
     },
     "execution_count": 27,
     "metadata": {},
     "output_type": "execute_result"
    }
   ],
   "source": [
    "df_test.insert(loc=3, column='date_block_num', value=34)\n",
    "train_data = train_data.append(df_test.drop('ID', axis = 1)).fillna(0)\n",
    "train_data.head().append(train_data.tail())"
   ]
  },
  {
   "cell_type": "markdown",
   "metadata": {},
   "source": [
    "### Modeling again - XGB, DTR, RFR"
   ]
  },
  {
   "cell_type": "code",
   "execution_count": 17,
   "metadata": {},
   "outputs": [],
   "source": [
    "X_train = train_data[train_data.date_block_num < 33].drop(['item_cnt_month'], axis=1)\n",
    "Y_train = train_data[train_data.date_block_num < 33]['item_cnt_month']\n",
    "X_valid = train_data[train_data.date_block_num == 33].drop(['item_cnt_month'], axis=1)\n",
    "Y_valid = train_data[train_data.date_block_num == 33]['item_cnt_month']\n",
    "X_test = train_data[train_data.date_block_num == 34].drop(['item_cnt_month'], axis=1)"
   ]
  },
  {
   "cell_type": "code",
   "execution_count": 104,
   "metadata": {},
   "outputs": [
    {
     "name": "stdout",
     "output_type": "stream",
     "text": [
      "[0]\tvalidation_0-rmse:1.24241\tvalidation_1-rmse:1.15543\n",
      "[1]\tvalidation_0-rmse:1.23508\tvalidation_1-rmse:1.14944\n",
      "[2]\tvalidation_0-rmse:1.23072\tvalidation_1-rmse:1.14457\n",
      "[3]\tvalidation_0-rmse:1.22635\tvalidation_1-rmse:1.14031\n",
      "[4]\tvalidation_0-rmse:1.22175\tvalidation_1-rmse:1.13694\n",
      "[5]\tvalidation_0-rmse:1.22020\tvalidation_1-rmse:1.13406\n",
      "[6]\tvalidation_0-rmse:1.21869\tvalidation_1-rmse:1.13183\n",
      "[7]\tvalidation_0-rmse:1.21673\tvalidation_1-rmse:1.12993\n",
      "[8]\tvalidation_0-rmse:1.21523\tvalidation_1-rmse:1.12831\n",
      "[9]\tvalidation_0-rmse:1.21384\tvalidation_1-rmse:1.12701\n",
      "[10]\tvalidation_0-rmse:1.21218\tvalidation_1-rmse:1.12596\n",
      "[11]\tvalidation_0-rmse:1.21044\tvalidation_1-rmse:1.12506\n",
      "[12]\tvalidation_0-rmse:1.20948\tvalidation_1-rmse:1.12424\n",
      "[13]\tvalidation_0-rmse:1.20877\tvalidation_1-rmse:1.12354\n",
      "[14]\tvalidation_0-rmse:1.20775\tvalidation_1-rmse:1.12309\n",
      "[15]\tvalidation_0-rmse:1.20663\tvalidation_1-rmse:1.12266\n",
      "[16]\tvalidation_0-rmse:1.20619\tvalidation_1-rmse:1.12223\n",
      "[17]\tvalidation_0-rmse:1.20571\tvalidation_1-rmse:1.12184\n",
      "[18]\tvalidation_0-rmse:1.20485\tvalidation_1-rmse:1.12149\n",
      "[19]\tvalidation_0-rmse:1.20429\tvalidation_1-rmse:1.12125\n",
      "[20]\tvalidation_0-rmse:1.20383\tvalidation_1-rmse:1.12106\n",
      "[21]\tvalidation_0-rmse:1.20345\tvalidation_1-rmse:1.12090\n",
      "[22]\tvalidation_0-rmse:1.20326\tvalidation_1-rmse:1.12065\n",
      "[23]\tvalidation_0-rmse:1.20294\tvalidation_1-rmse:1.12063\n",
      "[24]\tvalidation_0-rmse:1.20279\tvalidation_1-rmse:1.12047\n",
      "[25]\tvalidation_0-rmse:1.20254\tvalidation_1-rmse:1.12044\n",
      "[26]\tvalidation_0-rmse:1.20236\tvalidation_1-rmse:1.12024\n",
      "[27]\tvalidation_0-rmse:1.20224\tvalidation_1-rmse:1.12012\n",
      "[28]\tvalidation_0-rmse:1.20198\tvalidation_1-rmse:1.12014\n",
      "[29]\tvalidation_0-rmse:1.20174\tvalidation_1-rmse:1.12021\n",
      "[30]\tvalidation_0-rmse:1.20153\tvalidation_1-rmse:1.12031\n",
      "[31]\tvalidation_0-rmse:1.20145\tvalidation_1-rmse:1.12016\n",
      "[32]\tvalidation_0-rmse:1.20127\tvalidation_1-rmse:1.12027\n",
      "[33]\tvalidation_0-rmse:1.20100\tvalidation_1-rmse:1.12014\n",
      "[34]\tvalidation_0-rmse:1.20086\tvalidation_1-rmse:1.12019\n",
      "[35]\tvalidation_0-rmse:1.20080\tvalidation_1-rmse:1.12009\n",
      "[36]\tvalidation_0-rmse:1.20066\tvalidation_1-rmse:1.12011\n",
      "[37]\tvalidation_0-rmse:1.20063\tvalidation_1-rmse:1.12004\n",
      "[38]\tvalidation_0-rmse:1.20031\tvalidation_1-rmse:1.11986\n",
      "[39]\tvalidation_0-rmse:1.20026\tvalidation_1-rmse:1.11980\n",
      "[40]\tvalidation_0-rmse:1.19999\tvalidation_1-rmse:1.11975\n",
      "[41]\tvalidation_0-rmse:1.19980\tvalidation_1-rmse:1.11977\n",
      "[42]\tvalidation_0-rmse:1.19965\tvalidation_1-rmse:1.11979\n",
      "[43]\tvalidation_0-rmse:1.19952\tvalidation_1-rmse:1.11982\n",
      "[44]\tvalidation_0-rmse:1.19946\tvalidation_1-rmse:1.11975\n",
      "[45]\tvalidation_0-rmse:1.19938\tvalidation_1-rmse:1.11973\n",
      "[46]\tvalidation_0-rmse:1.19921\tvalidation_1-rmse:1.11970\n",
      "[47]\tvalidation_0-rmse:1.19912\tvalidation_1-rmse:1.11973\n",
      "[48]\tvalidation_0-rmse:1.19894\tvalidation_1-rmse:1.11962\n",
      "[49]\tvalidation_0-rmse:1.19884\tvalidation_1-rmse:1.11966\n",
      "[50]\tvalidation_0-rmse:1.19880\tvalidation_1-rmse:1.11960\n",
      "[51]\tvalidation_0-rmse:1.19876\tvalidation_1-rmse:1.11956\n",
      "[52]\tvalidation_0-rmse:1.19873\tvalidation_1-rmse:1.11954\n",
      "[53]\tvalidation_0-rmse:1.19859\tvalidation_1-rmse:1.11943\n",
      "[54]\tvalidation_0-rmse:1.19853\tvalidation_1-rmse:1.11949\n",
      "[55]\tvalidation_0-rmse:1.19851\tvalidation_1-rmse:1.11948\n",
      "[56]\tvalidation_0-rmse:1.19840\tvalidation_1-rmse:1.11945\n",
      "[57]\tvalidation_0-rmse:1.19837\tvalidation_1-rmse:1.11939\n",
      "[58]\tvalidation_0-rmse:1.19823\tvalidation_1-rmse:1.11945\n",
      "[59]\tvalidation_0-rmse:1.19816\tvalidation_1-rmse:1.11943\n",
      "[60]\tvalidation_0-rmse:1.19814\tvalidation_1-rmse:1.11943\n",
      "[61]\tvalidation_0-rmse:1.19809\tvalidation_1-rmse:1.11943\n",
      "[62]\tvalidation_0-rmse:1.19807\tvalidation_1-rmse:1.11940\n",
      "[63]\tvalidation_0-rmse:1.19799\tvalidation_1-rmse:1.11939\n",
      "[64]\tvalidation_0-rmse:1.19793\tvalidation_1-rmse:1.11940\n",
      "[65]\tvalidation_0-rmse:1.19792\tvalidation_1-rmse:1.11937\n",
      "[66]\tvalidation_0-rmse:1.19791\tvalidation_1-rmse:1.11935\n",
      "[67]\tvalidation_0-rmse:1.19790\tvalidation_1-rmse:1.11935\n",
      "[68]\tvalidation_0-rmse:1.19780\tvalidation_1-rmse:1.11920\n",
      "[69]\tvalidation_0-rmse:1.19767\tvalidation_1-rmse:1.11926\n",
      "[70]\tvalidation_0-rmse:1.19760\tvalidation_1-rmse:1.11925\n",
      "[71]\tvalidation_0-rmse:1.19754\tvalidation_1-rmse:1.11933\n",
      "[72]\tvalidation_0-rmse:1.19749\tvalidation_1-rmse:1.11937\n",
      "[73]\tvalidation_0-rmse:1.19742\tvalidation_1-rmse:1.11927\n",
      "[74]\tvalidation_0-rmse:1.19735\tvalidation_1-rmse:1.11930\n",
      "[75]\tvalidation_0-rmse:1.19732\tvalidation_1-rmse:1.11930\n",
      "[76]\tvalidation_0-rmse:1.19731\tvalidation_1-rmse:1.11925\n",
      "[77]\tvalidation_0-rmse:1.19728\tvalidation_1-rmse:1.11926\n",
      "[78]\tvalidation_0-rmse:1.19723\tvalidation_1-rmse:1.11924\n"
     ]
    },
    {
     "data": {
      "text/plain": [
       "XGBRegressor(base_score=0.5, booster='gbtree', colsample_bylevel=1,\n",
       "             colsample_bynode=1, colsample_bytree=0.8, eta=0.1, gamma=0,\n",
       "             gpu_id=-1, importance_type='gain', interaction_constraints='',\n",
       "             learning_rate=0.100000001, max_delta_step=0, max_depth=8,\n",
       "             min_child_weight=300, missing=nan, monotone_constraints='()',\n",
       "             n_estimators=1000, n_jobs=12, num_parallel_tree=1, random_state=42,\n",
       "             reg_alpha=0, reg_lambda=1, scale_pos_weight=1, seed=42,\n",
       "             subsample=0.8, tree_method='approx', validate_parameters=1,\n",
       "             verbosity=None)"
      ]
     },
     "execution_count": 104,
     "metadata": {},
     "output_type": "execute_result"
    }
   ],
   "source": [
    "model = XGBRegressor(\n",
    "    max_depth=8,\n",
    "    n_estimators=1000,\n",
    "    min_child_weight=300, \n",
    "    colsample_bytree=0.8, \n",
    "    subsample=0.8, \n",
    "    eta=0.1,    \n",
    "    seed=42)\n",
    "\n",
    "model.fit(\n",
    "    X_train,\n",
    "    Y_train,\n",
    "    eval_metric=\"rmse\",\n",
    "    eval_set=[(X_train, Y_train), (X_valid, Y_valid)],\n",
    "    verbose=True,\n",
    "    early_stopping_rounds = 10)"
   ]
  },
  {
   "cell_type": "code",
   "execution_count": 105,
   "metadata": {},
   "outputs": [
    {
     "name": "stderr",
     "output_type": "stream",
     "text": [
      "D:\\Anaconda\\lib\\site-packages\\xgboost\\data.py:112: UserWarning: Use subset (sliced data) of np.ndarray is not recommended because it will generate extra copies and increase memory consumption\n",
      "  warnings.warn(\n"
     ]
    }
   ],
   "source": [
    "y_pred = model.predict(X_test).clip(0,20)\n",
    "sample['item_cnt_month'] = y_pred \n",
    "sample.to_csv('xgb_try1.csv', index=False)"
   ]
  },
  {
   "cell_type": "code",
   "execution_count": 106,
   "metadata": {},
   "outputs": [
    {
     "data": {
      "text/plain": [
       "1.6384847364795618"
      ]
     },
     "execution_count": 106,
     "metadata": {},
     "output_type": "execute_result"
    }
   ],
   "source": [
    "dtr = DecisionTreeRegressor().fit(X_train, Y_train)\n",
    "y_preds = dtr.predict(X_valid)\n",
    "mean_squared_error(Y_valid, y_preds)"
   ]
  },
  {
   "cell_type": "code",
   "execution_count": 107,
   "metadata": {},
   "outputs": [],
   "source": [
    "y_pred = dtr.predict(X_test).clip(0,20)\n",
    "sample['item_cnt_month'] = y_pred\n",
    "sample.to_csv('dtr_try2.csv', index=False)"
   ]
  },
  {
   "cell_type": "code",
   "execution_count": 109,
   "metadata": {},
   "outputs": [],
   "source": [
    "rfr = RandomForestRegressor().fit(X_train, Y_train)\n",
    "y_preds = rfr.predict(X_valid)\n",
    "mean_squared_error(Y_valid, y_preds)"
   ]
  },
  {
   "cell_type": "code",
   "execution_count": null,
   "metadata": {},
   "outputs": [],
   "source": [
    "y_pred = rfr.predict(X_test).clip(0,20)\n",
    "sample['item_cnt_month'] = y_pred\n",
    "sample.to_csv('rfr_try2.csv', index=False)"
   ]
  },
  {
   "cell_type": "code",
   "execution_count": 110,
   "metadata": {},
   "outputs": [
    {
     "data": {
      "text/html": [
       "<div>\n",
       "<style scoped>\n",
       "    .dataframe tbody tr th:only-of-type {\n",
       "        vertical-align: middle;\n",
       "    }\n",
       "\n",
       "    .dataframe tbody tr th {\n",
       "        vertical-align: top;\n",
       "    }\n",
       "\n",
       "    .dataframe thead th {\n",
       "        text-align: right;\n",
       "    }\n",
       "</style>\n",
       "<table border=\"1\" class=\"dataframe\">\n",
       "  <thead>\n",
       "    <tr style=\"text-align: right;\">\n",
       "      <th></th>\n",
       "      <th>shop_id</th>\n",
       "      <th>item_id</th>\n",
       "      <th>date_block_num</th>\n",
       "      <th>item_cnt_month</th>\n",
       "    </tr>\n",
       "  </thead>\n",
       "  <tbody>\n",
       "    <tr>\n",
       "      <th>7118778</th>\n",
       "      <td>2</td>\n",
       "      <td>0</td>\n",
       "      <td>20</td>\n",
       "      <td>0.0</td>\n",
       "    </tr>\n",
       "    <tr>\n",
       "      <th>5646744</th>\n",
       "      <td>2</td>\n",
       "      <td>1</td>\n",
       "      <td>15</td>\n",
       "      <td>0.0</td>\n",
       "    </tr>\n",
       "    <tr>\n",
       "      <th>6711465</th>\n",
       "      <td>2</td>\n",
       "      <td>1</td>\n",
       "      <td>18</td>\n",
       "      <td>0.0</td>\n",
       "    </tr>\n",
       "    <tr>\n",
       "      <th>7026005</th>\n",
       "      <td>2</td>\n",
       "      <td>1</td>\n",
       "      <td>19</td>\n",
       "      <td>0.0</td>\n",
       "    </tr>\n",
       "    <tr>\n",
       "      <th>7121093</th>\n",
       "      <td>2</td>\n",
       "      <td>1</td>\n",
       "      <td>20</td>\n",
       "      <td>0.0</td>\n",
       "    </tr>\n",
       "    <tr>\n",
       "      <th>...</th>\n",
       "      <td>...</td>\n",
       "      <td>...</td>\n",
       "      <td>...</td>\n",
       "      <td>...</td>\n",
       "    </tr>\n",
       "    <tr>\n",
       "      <th>214195</th>\n",
       "      <td>45</td>\n",
       "      <td>18454</td>\n",
       "      <td>34</td>\n",
       "      <td>0.0</td>\n",
       "    </tr>\n",
       "    <tr>\n",
       "      <th>214196</th>\n",
       "      <td>45</td>\n",
       "      <td>16188</td>\n",
       "      <td>34</td>\n",
       "      <td>0.0</td>\n",
       "    </tr>\n",
       "    <tr>\n",
       "      <th>214197</th>\n",
       "      <td>45</td>\n",
       "      <td>15757</td>\n",
       "      <td>34</td>\n",
       "      <td>0.0</td>\n",
       "    </tr>\n",
       "    <tr>\n",
       "      <th>214198</th>\n",
       "      <td>45</td>\n",
       "      <td>19648</td>\n",
       "      <td>34</td>\n",
       "      <td>0.0</td>\n",
       "    </tr>\n",
       "    <tr>\n",
       "      <th>214199</th>\n",
       "      <td>45</td>\n",
       "      <td>969</td>\n",
       "      <td>34</td>\n",
       "      <td>0.0</td>\n",
       "    </tr>\n",
       "  </tbody>\n",
       "</table>\n",
       "<p>11026919 rows × 4 columns</p>\n",
       "</div>"
      ],
      "text/plain": [
       "         shop_id  item_id  date_block_num  item_cnt_month\n",
       "7118778        2        0              20             0.0\n",
       "5646744        2        1              15             0.0\n",
       "6711465        2        1              18             0.0\n",
       "7026005        2        1              19             0.0\n",
       "7121093        2        1              20             0.0\n",
       "...          ...      ...             ...             ...\n",
       "214195        45    18454              34             0.0\n",
       "214196        45    16188              34             0.0\n",
       "214197        45    15757              34             0.0\n",
       "214198        45    19648              34             0.0\n",
       "214199        45      969              34             0.0\n",
       "\n",
       "[11026919 rows x 4 columns]"
      ]
     },
     "execution_count": 110,
     "metadata": {},
     "output_type": "execute_result"
    }
   ],
   "source": [
    "train_data"
   ]
  },
  {
   "cell_type": "code",
   "execution_count": 25,
   "metadata": {},
   "outputs": [],
   "source": [
    "#lag feature\n",
    "for i in [1,2,3,6,12]:\n",
    "    shifted = train_data[['date_block_num','shop_id','item_id','item_cnt_month']].copy()\n",
    "    shifted.columns = ['date_block_num','shop_id','item_id', 'item_cnt_month'+'_lag_'+str(i)]\n",
    "    shifted['date_block_num'] += i\n",
    "    train_data = pd.merge(train_data, shifted, on=['date_block_num','shop_id','item_id'], how='left')"
   ]
  },
  {
   "cell_type": "code",
   "execution_count": 26,
   "metadata": {},
   "outputs": [],
   "source": [
    "group = train_data.groupby(['date_block_num','item_id'])['item_cnt_month'].mean().rename('date_item_avg_cnt').reset_index()\n",
    "train_data = pd.merge(train_data, group, on=['date_block_num', 'item_id'], how='left')\n",
    "for i in [1,2,3,6,12]:\n",
    "    shifted = train_data[['date_block_num','shop_id','item_id','date_item_avg_cnt']].copy()\n",
    "    shifted.columns = ['date_block_num','shop_id','item_id', 'date_item_avg_cnt'+'_lag_'+str(i)]\n",
    "    shifted['date_block_num'] += i\n",
    "    train_data = pd.merge(train_data, shifted, on=['date_block_num','shop_id','item_id'], how='left')\n",
    "train_data.drop(['date_item_avg_cnt'], axis=1, inplace=True)"
   ]
  },
  {
   "cell_type": "code",
   "execution_count": 27,
   "metadata": {},
   "outputs": [],
   "source": [
    "group = train_data.groupby(['date_block_num','shop_id'])['item_cnt_month'].mean().rename('date_shop_avg_cnt').reset_index()\n",
    "train_data = pd.merge(train_data, group, on=['date_block_num', 'shop_id'], how='left')\n",
    "for i in [1,2,3,6,12]:\n",
    "    shifted = train_data[['date_block_num','shop_id','item_id','date_shop_avg_cnt']].copy()\n",
    "    shifted.columns = ['date_block_num','shop_id','item_id', 'date_shop_avg_cnt'+'_lag_'+str(i)]\n",
    "    shifted['date_block_num'] += i\n",
    "    train_data = pd.merge(train_data, shifted, on=['date_block_num','shop_id','item_id'], how='left')\n",
    "train_data.drop(['date_shop_avg_cnt'], axis=1, inplace=True)"
   ]
  },
  {
   "cell_type": "code",
   "execution_count": 28,
   "metadata": {},
   "outputs": [],
   "source": [
    "group = train_data.groupby(['date_block_num'])['item_cnt_month'].mean().rename('date_avg_cnt').reset_index()\n",
    "train_data = pd.merge(train_data, group, on=['date_block_num'], how='left')\n",
    "shifted = train_data[['date_block_num','shop_id','item_id','date_avg_cnt']].copy()\n",
    "shifted.columns = ['date_block_num','shop_id','item_id', 'date_avg_cnt'+'_lag_'+str(1)]\n",
    "shifted['date_block_num'] += 1\n",
    "train_data = pd.merge(train_data, shifted, on=['date_block_num','shop_id','item_id'], how='left')\n",
    "train_data.drop(['date_avg_cnt'], axis=1, inplace=True)"
   ]
  },
  {
   "cell_type": "code",
   "execution_count": 29,
   "metadata": {},
   "outputs": [],
   "source": [
    "group = train_data.groupby(['date_block_num','shop_id','item_id'])['item_cnt_month'].mean().rename('date_shop_item_avg_cnt').reset_index()\n",
    "train_data = pd.merge(train_data, group, on=['date_block_num', 'shop_id','item_id'], how='left')\n",
    "for i in [1,2,3]:\n",
    "    shifted = train_data[['date_block_num','shop_id','item_id','date_shop_item_avg_cnt']].copy()\n",
    "    shifted.columns = ['date_block_num','shop_id','item_id', 'date_shop_item_avg_cnt'+'_lag_'+str(i)]\n",
    "    shifted['date_block_num'] += i\n",
    "    train_data = pd.merge(train_data, shifted, on=['date_block_num','shop_id','item_id'], how='left')\n",
    "train_data.drop(['date_shop_item_avg_cnt'], axis=1, inplace=True)"
   ]
  },
  {
   "cell_type": "code",
   "execution_count": 30,
   "metadata": {},
   "outputs": [],
   "source": [
    "#trend\n",
    "group = df_sales.groupby(['item_id'])['item_price'].mean().rename('item_avg_price').reset_index()\n",
    "train_data = pd.merge(train_data, group, on=['item_id'], how='left')"
   ]
  },
  {
   "cell_type": "code",
   "execution_count": 31,
   "metadata": {},
   "outputs": [],
   "source": [
    "group = df_sales.groupby(['date_block_num','item_id'])['item_price'].mean().rename('date_item_avg_price').reset_index()\n",
    "train_data = pd.merge(train_data, group, on=['date_block_num','item_id'], how='left')"
   ]
  },
  {
   "cell_type": "code",
   "execution_count": 32,
   "metadata": {},
   "outputs": [],
   "source": [
    "lags = [1,2,3,4,5,6]\n",
    "for i in lags:\n",
    "    shifted = train_data[['date_block_num','shop_id','item_id','date_item_avg_price']].copy()\n",
    "    shifted.columns = ['date_block_num','shop_id','item_id', 'date_item_avg_price'+'_lag_'+str(i)]\n",
    "    shifted['date_block_num'] += i\n",
    "    train_data = pd.merge(train_data, shifted, on=['date_block_num','shop_id','item_id'], how='left')"
   ]
  },
  {
   "cell_type": "code",
   "execution_count": 33,
   "metadata": {},
   "outputs": [],
   "source": [
    "for i in lags:\n",
    "    train_data['trend_price_lag_'+str(i)] = (train_data['date_item_avg_price_lag_'+str(i)] - train_data['item_avg_price']) / train_data['item_avg_price']"
   ]
  },
  {
   "cell_type": "code",
   "execution_count": 34,
   "metadata": {},
   "outputs": [],
   "source": [
    "def trend(row):\n",
    "    for i in lags:\n",
    "        if row['trend_price_lag_'+str(i)]:\n",
    "            return row['trend_price_lag_'+str(i)]\n",
    "    return 0\n",
    "train_data['trend_price_lag'] = train_data.apply(trend, axis=1)"
   ]
  },
  {
   "cell_type": "code",
   "execution_count": 35,
   "metadata": {},
   "outputs": [],
   "source": [
    "fetures_to_drop = ['item_avg_price', 'date_item_avg_price']\n",
    "for i in lags:\n",
    "    fetures_to_drop += ['date_item_avg_price_lag_'+str(i)]\n",
    "    fetures_to_drop += ['trend_price_lag_'+str(i)]\n",
    "train_data.drop(fetures_to_drop, axis=1, inplace=True)"
   ]
  },
  {
   "cell_type": "code",
   "execution_count": 36,
   "metadata": {},
   "outputs": [],
   "source": [
    "group = df_sales.groupby(['date_block_num','shop_id',])['revenue'].sum().rename('sum_date_shops_revenue').reset_index()\n",
    "train_data = pd.merge(train_data, group, on=['date_block_num','shop_id'], how='left')"
   ]
  },
  {
   "cell_type": "code",
   "execution_count": 37,
   "metadata": {},
   "outputs": [],
   "source": [
    "group = group.groupby(['shop_id',])['sum_date_shops_revenue'].mean().rename('mean_shops_revenue').reset_index()\n",
    "train_data = pd.merge(train_data, group, on=['shop_id'], how='left')"
   ]
  },
  {
   "cell_type": "code",
   "execution_count": 38,
   "metadata": {},
   "outputs": [],
   "source": [
    "train_data['trend_revenue'] = (train_data['sum_date_shops_revenue'] - train_data['mean_shops_revenue']) / train_data['mean_shops_revenue']\n",
    "shifted = train_data[['date_block_num','shop_id','item_id','trend_revenue']].copy()\n",
    "shifted.columns = ['date_block_num','shop_id','item_id', 'trend_revenue'+'_lag_'+str(1)]\n",
    "shifted['date_block_num'] += 1\n",
    "train_data = pd.merge(train_data, shifted, on=['date_block_num','shop_id','item_id'], how='left')"
   ]
  },
  {
   "cell_type": "code",
   "execution_count": 39,
   "metadata": {},
   "outputs": [],
   "source": [
    "train_data.drop(['sum_date_shops_revenue'], axis=1, inplace=True)\n",
    "train_data.drop(['mean_shops_revenue'], axis=1, inplace=True)\n",
    "train_data.drop(['trend_revenue'], axis=1, inplace=True)"
   ]
  },
  {
   "cell_type": "code",
   "execution_count": 40,
   "metadata": {},
   "outputs": [],
   "source": [
    "train_data['item_shop_first_sale'] = (\n",
    "    train_data['date_block_num'] - train_data.groupby(['item_id', 'shop_id'])['date_block_num'].transform('min')\n",
    ")\n",
    "train_data['item_first_sale'] = (\n",
    "    train_data['date_block_num'] - train_data.groupby(['item_id'])['date_block_num'].transform('min')\n",
    ")"
   ]
  },
  {
   "cell_type": "code",
   "execution_count": 41,
   "metadata": {},
   "outputs": [],
   "source": [
    "train_data.fillna(0,inplace = True)"
   ]
  },
  {
   "cell_type": "code",
   "execution_count": 42,
   "metadata": {},
   "outputs": [
    {
     "data": {
      "text/html": [
       "<div>\n",
       "<style scoped>\n",
       "    .dataframe tbody tr th:only-of-type {\n",
       "        vertical-align: middle;\n",
       "    }\n",
       "\n",
       "    .dataframe tbody tr th {\n",
       "        vertical-align: top;\n",
       "    }\n",
       "\n",
       "    .dataframe thead th {\n",
       "        text-align: right;\n",
       "    }\n",
       "</style>\n",
       "<table border=\"1\" class=\"dataframe\">\n",
       "  <thead>\n",
       "    <tr style=\"text-align: right;\">\n",
       "      <th></th>\n",
       "      <th>shop_id</th>\n",
       "      <th>item_id</th>\n",
       "      <th>date_block_num</th>\n",
       "      <th>item_cnt_month</th>\n",
       "      <th>item_cnt_month_lag_1</th>\n",
       "      <th>item_cnt_month_lag_2</th>\n",
       "      <th>item_cnt_month_lag_3</th>\n",
       "      <th>item_cnt_month_lag_6</th>\n",
       "      <th>item_cnt_month_lag_12</th>\n",
       "      <th>date_item_avg_cnt_lag_1</th>\n",
       "      <th>...</th>\n",
       "      <th>date_shop_avg_cnt_lag_6</th>\n",
       "      <th>date_shop_avg_cnt_lag_12</th>\n",
       "      <th>date_avg_cnt_lag_1</th>\n",
       "      <th>date_shop_item_avg_cnt_lag_1</th>\n",
       "      <th>date_shop_item_avg_cnt_lag_2</th>\n",
       "      <th>date_shop_item_avg_cnt_lag_3</th>\n",
       "      <th>trend_price_lag</th>\n",
       "      <th>trend_revenue_lag_1</th>\n",
       "      <th>item_shop_first_sale</th>\n",
       "      <th>item_first_sale</th>\n",
       "    </tr>\n",
       "  </thead>\n",
       "  <tbody>\n",
       "    <tr>\n",
       "      <th>0</th>\n",
       "      <td>2</td>\n",
       "      <td>0</td>\n",
       "      <td>20</td>\n",
       "      <td>0.0</td>\n",
       "      <td>0.0</td>\n",
       "      <td>0.0</td>\n",
       "      <td>0.0</td>\n",
       "      <td>0.0</td>\n",
       "      <td>0.0</td>\n",
       "      <td>0.000000</td>\n",
       "      <td>...</td>\n",
       "      <td>0.000000</td>\n",
       "      <td>0.0000</td>\n",
       "      <td>0.000000</td>\n",
       "      <td>0.0</td>\n",
       "      <td>0.0</td>\n",
       "      <td>0.0</td>\n",
       "      <td>0.000000</td>\n",
       "      <td>0.000000</td>\n",
       "      <td>0</td>\n",
       "      <td>0</td>\n",
       "    </tr>\n",
       "    <tr>\n",
       "      <th>1</th>\n",
       "      <td>2</td>\n",
       "      <td>1</td>\n",
       "      <td>15</td>\n",
       "      <td>0.0</td>\n",
       "      <td>0.0</td>\n",
       "      <td>0.0</td>\n",
       "      <td>0.0</td>\n",
       "      <td>0.0</td>\n",
       "      <td>0.0</td>\n",
       "      <td>0.000000</td>\n",
       "      <td>...</td>\n",
       "      <td>0.000000</td>\n",
       "      <td>0.0000</td>\n",
       "      <td>0.000000</td>\n",
       "      <td>0.0</td>\n",
       "      <td>0.0</td>\n",
       "      <td>0.0</td>\n",
       "      <td>0.000000</td>\n",
       "      <td>0.000000</td>\n",
       "      <td>0</td>\n",
       "      <td>0</td>\n",
       "    </tr>\n",
       "    <tr>\n",
       "      <th>2</th>\n",
       "      <td>2</td>\n",
       "      <td>1</td>\n",
       "      <td>18</td>\n",
       "      <td>0.0</td>\n",
       "      <td>0.0</td>\n",
       "      <td>0.0</td>\n",
       "      <td>0.0</td>\n",
       "      <td>0.0</td>\n",
       "      <td>0.0</td>\n",
       "      <td>0.000000</td>\n",
       "      <td>...</td>\n",
       "      <td>0.000000</td>\n",
       "      <td>0.0000</td>\n",
       "      <td>0.000000</td>\n",
       "      <td>0.0</td>\n",
       "      <td>0.0</td>\n",
       "      <td>0.0</td>\n",
       "      <td>0.000000</td>\n",
       "      <td>0.000000</td>\n",
       "      <td>3</td>\n",
       "      <td>3</td>\n",
       "    </tr>\n",
       "    <tr>\n",
       "      <th>3</th>\n",
       "      <td>2</td>\n",
       "      <td>1</td>\n",
       "      <td>19</td>\n",
       "      <td>0.0</td>\n",
       "      <td>0.0</td>\n",
       "      <td>0.0</td>\n",
       "      <td>0.0</td>\n",
       "      <td>0.0</td>\n",
       "      <td>0.0</td>\n",
       "      <td>0.020408</td>\n",
       "      <td>...</td>\n",
       "      <td>0.000000</td>\n",
       "      <td>0.0000</td>\n",
       "      <td>0.260610</td>\n",
       "      <td>0.0</td>\n",
       "      <td>0.0</td>\n",
       "      <td>0.0</td>\n",
       "      <td>0.000000</td>\n",
       "      <td>-0.148407</td>\n",
       "      <td>4</td>\n",
       "      <td>4</td>\n",
       "    </tr>\n",
       "    <tr>\n",
       "      <th>4</th>\n",
       "      <td>2</td>\n",
       "      <td>1</td>\n",
       "      <td>20</td>\n",
       "      <td>0.0</td>\n",
       "      <td>0.0</td>\n",
       "      <td>0.0</td>\n",
       "      <td>0.0</td>\n",
       "      <td>0.0</td>\n",
       "      <td>0.0</td>\n",
       "      <td>0.020000</td>\n",
       "      <td>...</td>\n",
       "      <td>0.000000</td>\n",
       "      <td>0.0000</td>\n",
       "      <td>0.296927</td>\n",
       "      <td>0.0</td>\n",
       "      <td>0.0</td>\n",
       "      <td>0.0</td>\n",
       "      <td>0.000000</td>\n",
       "      <td>-0.081304</td>\n",
       "      <td>5</td>\n",
       "      <td>5</td>\n",
       "    </tr>\n",
       "    <tr>\n",
       "      <th>11026914</th>\n",
       "      <td>45</td>\n",
       "      <td>18454</td>\n",
       "      <td>34</td>\n",
       "      <td>0.0</td>\n",
       "      <td>1.0</td>\n",
       "      <td>0.0</td>\n",
       "      <td>0.0</td>\n",
       "      <td>0.0</td>\n",
       "      <td>0.0</td>\n",
       "      <td>0.045455</td>\n",
       "      <td>...</td>\n",
       "      <td>0.137611</td>\n",
       "      <td>0.0000</td>\n",
       "      <td>0.259152</td>\n",
       "      <td>1.0</td>\n",
       "      <td>0.0</td>\n",
       "      <td>0.0</td>\n",
       "      <td>-0.475305</td>\n",
       "      <td>-0.292428</td>\n",
       "      <td>11</td>\n",
       "      <td>11</td>\n",
       "    </tr>\n",
       "    <tr>\n",
       "      <th>11026915</th>\n",
       "      <td>45</td>\n",
       "      <td>16188</td>\n",
       "      <td>34</td>\n",
       "      <td>0.0</td>\n",
       "      <td>0.0</td>\n",
       "      <td>0.0</td>\n",
       "      <td>0.0</td>\n",
       "      <td>0.0</td>\n",
       "      <td>0.0</td>\n",
       "      <td>0.022727</td>\n",
       "      <td>...</td>\n",
       "      <td>0.000000</td>\n",
       "      <td>0.0000</td>\n",
       "      <td>0.259152</td>\n",
       "      <td>0.0</td>\n",
       "      <td>0.0</td>\n",
       "      <td>0.0</td>\n",
       "      <td>0.081167</td>\n",
       "      <td>-0.292428</td>\n",
       "      <td>2</td>\n",
       "      <td>2</td>\n",
       "    </tr>\n",
       "    <tr>\n",
       "      <th>11026916</th>\n",
       "      <td>45</td>\n",
       "      <td>15757</td>\n",
       "      <td>34</td>\n",
       "      <td>0.0</td>\n",
       "      <td>0.0</td>\n",
       "      <td>0.0</td>\n",
       "      <td>0.0</td>\n",
       "      <td>0.0</td>\n",
       "      <td>0.0</td>\n",
       "      <td>0.113636</td>\n",
       "      <td>...</td>\n",
       "      <td>0.137611</td>\n",
       "      <td>0.1813</td>\n",
       "      <td>0.259152</td>\n",
       "      <td>0.0</td>\n",
       "      <td>0.0</td>\n",
       "      <td>0.0</td>\n",
       "      <td>0.155919</td>\n",
       "      <td>-0.292428</td>\n",
       "      <td>34</td>\n",
       "      <td>34</td>\n",
       "    </tr>\n",
       "    <tr>\n",
       "      <th>11026917</th>\n",
       "      <td>45</td>\n",
       "      <td>19648</td>\n",
       "      <td>34</td>\n",
       "      <td>0.0</td>\n",
       "      <td>0.0</td>\n",
       "      <td>0.0</td>\n",
       "      <td>0.0</td>\n",
       "      <td>0.0</td>\n",
       "      <td>0.0</td>\n",
       "      <td>0.045455</td>\n",
       "      <td>...</td>\n",
       "      <td>0.137611</td>\n",
       "      <td>0.0000</td>\n",
       "      <td>0.259152</td>\n",
       "      <td>0.0</td>\n",
       "      <td>0.0</td>\n",
       "      <td>0.0</td>\n",
       "      <td>-0.091709</td>\n",
       "      <td>-0.292428</td>\n",
       "      <td>11</td>\n",
       "      <td>11</td>\n",
       "    </tr>\n",
       "    <tr>\n",
       "      <th>11026918</th>\n",
       "      <td>45</td>\n",
       "      <td>969</td>\n",
       "      <td>34</td>\n",
       "      <td>0.0</td>\n",
       "      <td>0.0</td>\n",
       "      <td>0.0</td>\n",
       "      <td>0.0</td>\n",
       "      <td>0.0</td>\n",
       "      <td>0.0</td>\n",
       "      <td>0.068182</td>\n",
       "      <td>...</td>\n",
       "      <td>0.137611</td>\n",
       "      <td>0.1813</td>\n",
       "      <td>0.259152</td>\n",
       "      <td>0.0</td>\n",
       "      <td>0.0</td>\n",
       "      <td>0.0</td>\n",
       "      <td>-0.605811</td>\n",
       "      <td>-0.292428</td>\n",
       "      <td>17</td>\n",
       "      <td>17</td>\n",
       "    </tr>\n",
       "  </tbody>\n",
       "</table>\n",
       "<p>10 rows × 27 columns</p>\n",
       "</div>"
      ],
      "text/plain": [
       "          shop_id  item_id  date_block_num  item_cnt_month  \\\n",
       "0               2        0              20             0.0   \n",
       "1               2        1              15             0.0   \n",
       "2               2        1              18             0.0   \n",
       "3               2        1              19             0.0   \n",
       "4               2        1              20             0.0   \n",
       "11026914       45    18454              34             0.0   \n",
       "11026915       45    16188              34             0.0   \n",
       "11026916       45    15757              34             0.0   \n",
       "11026917       45    19648              34             0.0   \n",
       "11026918       45      969              34             0.0   \n",
       "\n",
       "          item_cnt_month_lag_1  item_cnt_month_lag_2  item_cnt_month_lag_3  \\\n",
       "0                          0.0                   0.0                   0.0   \n",
       "1                          0.0                   0.0                   0.0   \n",
       "2                          0.0                   0.0                   0.0   \n",
       "3                          0.0                   0.0                   0.0   \n",
       "4                          0.0                   0.0                   0.0   \n",
       "11026914                   1.0                   0.0                   0.0   \n",
       "11026915                   0.0                   0.0                   0.0   \n",
       "11026916                   0.0                   0.0                   0.0   \n",
       "11026917                   0.0                   0.0                   0.0   \n",
       "11026918                   0.0                   0.0                   0.0   \n",
       "\n",
       "          item_cnt_month_lag_6  item_cnt_month_lag_12  \\\n",
       "0                          0.0                    0.0   \n",
       "1                          0.0                    0.0   \n",
       "2                          0.0                    0.0   \n",
       "3                          0.0                    0.0   \n",
       "4                          0.0                    0.0   \n",
       "11026914                   0.0                    0.0   \n",
       "11026915                   0.0                    0.0   \n",
       "11026916                   0.0                    0.0   \n",
       "11026917                   0.0                    0.0   \n",
       "11026918                   0.0                    0.0   \n",
       "\n",
       "          date_item_avg_cnt_lag_1  ...  date_shop_avg_cnt_lag_6  \\\n",
       "0                        0.000000  ...                 0.000000   \n",
       "1                        0.000000  ...                 0.000000   \n",
       "2                        0.000000  ...                 0.000000   \n",
       "3                        0.020408  ...                 0.000000   \n",
       "4                        0.020000  ...                 0.000000   \n",
       "11026914                 0.045455  ...                 0.137611   \n",
       "11026915                 0.022727  ...                 0.000000   \n",
       "11026916                 0.113636  ...                 0.137611   \n",
       "11026917                 0.045455  ...                 0.137611   \n",
       "11026918                 0.068182  ...                 0.137611   \n",
       "\n",
       "          date_shop_avg_cnt_lag_12  date_avg_cnt_lag_1  \\\n",
       "0                           0.0000            0.000000   \n",
       "1                           0.0000            0.000000   \n",
       "2                           0.0000            0.000000   \n",
       "3                           0.0000            0.260610   \n",
       "4                           0.0000            0.296927   \n",
       "11026914                    0.0000            0.259152   \n",
       "11026915                    0.0000            0.259152   \n",
       "11026916                    0.1813            0.259152   \n",
       "11026917                    0.0000            0.259152   \n",
       "11026918                    0.1813            0.259152   \n",
       "\n",
       "          date_shop_item_avg_cnt_lag_1  date_shop_item_avg_cnt_lag_2  \\\n",
       "0                                  0.0                           0.0   \n",
       "1                                  0.0                           0.0   \n",
       "2                                  0.0                           0.0   \n",
       "3                                  0.0                           0.0   \n",
       "4                                  0.0                           0.0   \n",
       "11026914                           1.0                           0.0   \n",
       "11026915                           0.0                           0.0   \n",
       "11026916                           0.0                           0.0   \n",
       "11026917                           0.0                           0.0   \n",
       "11026918                           0.0                           0.0   \n",
       "\n",
       "          date_shop_item_avg_cnt_lag_3  trend_price_lag  trend_revenue_lag_1  \\\n",
       "0                                  0.0         0.000000             0.000000   \n",
       "1                                  0.0         0.000000             0.000000   \n",
       "2                                  0.0         0.000000             0.000000   \n",
       "3                                  0.0         0.000000            -0.148407   \n",
       "4                                  0.0         0.000000            -0.081304   \n",
       "11026914                           0.0        -0.475305            -0.292428   \n",
       "11026915                           0.0         0.081167            -0.292428   \n",
       "11026916                           0.0         0.155919            -0.292428   \n",
       "11026917                           0.0        -0.091709            -0.292428   \n",
       "11026918                           0.0        -0.605811            -0.292428   \n",
       "\n",
       "          item_shop_first_sale  item_first_sale  \n",
       "0                            0                0  \n",
       "1                            0                0  \n",
       "2                            3                3  \n",
       "3                            4                4  \n",
       "4                            5                5  \n",
       "11026914                    11               11  \n",
       "11026915                     2                2  \n",
       "11026916                    34               34  \n",
       "11026917                    11               11  \n",
       "11026918                    17               17  \n",
       "\n",
       "[10 rows x 27 columns]"
      ]
     },
     "execution_count": 42,
     "metadata": {},
     "output_type": "execute_result"
    }
   ],
   "source": [
    "train_data = train_data[train_data['date_block_num'] > 3]\n",
    "train_data.head().append(train_data.tail())"
   ]
  },
  {
   "cell_type": "code",
   "execution_count": 43,
   "metadata": {},
   "outputs": [],
   "source": [
    "X_train = train_data[train_data.date_block_num < 33].drop(['item_cnt_month'], axis=1)\n",
    "Y_train = train_data[train_data.date_block_num < 33]['item_cnt_month']\n",
    "X_valid = train_data[train_data.date_block_num == 33].drop(['item_cnt_month'], axis=1)\n",
    "Y_valid = train_data[train_data.date_block_num == 33]['item_cnt_month']\n",
    "X_test = train_data[train_data.date_block_num == 34].drop(['item_cnt_month'], axis=1)"
   ]
  },
  {
   "cell_type": "code",
   "execution_count": 37,
   "metadata": {},
   "outputs": [],
   "source": [
    "xgb_model = XGBRegressor()"
   ]
  },
  {
   "cell_type": "code",
   "execution_count": 38,
   "metadata": {},
   "outputs": [],
   "source": [
    "param_grid = {\n",
    "    'max_depth':[1,2,4],\n",
    "    'n_estimators':[1, 10, 100],\n",
    "    'min_child_weight':[100, 200, 300],\n",
    "    'colsample_bytree':[0.2, 0.4, 0.6],\n",
    "    'seed':[42]\n",
    "}"
   ]
  },
  {
   "cell_type": "code",
   "execution_count": 39,
   "metadata": {},
   "outputs": [],
   "source": [
    "cv = GridSearchCV(estimator=xgb_model, param_grid=param_grid, cv= 5)"
   ]
  },
  {
   "cell_type": "code",
   "execution_count": 40,
   "metadata": {},
   "outputs": [
    {
     "name": "stdout",
     "output_type": "stream",
     "text": [
      "[0]\tvalidation_0-rmse:1.20151\tvalidation_1-rmse:1.13556\n"
     ]
    },
    {
     "name": "stderr",
     "output_type": "stream",
     "text": [
      "D:\\Anaconda\\lib\\site-packages\\xgboost\\data.py:112: UserWarning: Use subset (sliced data) of np.ndarray is not recommended because it will generate extra copies and increase memory consumption\n",
      "  warnings.warn(\n"
     ]
    },
    {
     "name": "stdout",
     "output_type": "stream",
     "text": [
      "[0]\tvalidation_0-rmse:1.20348\tvalidation_1-rmse:1.13523\n"
     ]
    },
    {
     "name": "stderr",
     "output_type": "stream",
     "text": [
      "D:\\Anaconda\\lib\\site-packages\\xgboost\\data.py:112: UserWarning: Use subset (sliced data) of np.ndarray is not recommended because it will generate extra copies and increase memory consumption\n",
      "  warnings.warn(\n"
     ]
    },
    {
     "name": "stdout",
     "output_type": "stream",
     "text": [
      "[0]\tvalidation_0-rmse:1.20506\tvalidation_1-rmse:1.13511\n"
     ]
    },
    {
     "name": "stderr",
     "output_type": "stream",
     "text": [
      "D:\\Anaconda\\lib\\site-packages\\xgboost\\data.py:112: UserWarning: Use subset (sliced data) of np.ndarray is not recommended because it will generate extra copies and increase memory consumption\n",
      "  warnings.warn(\n"
     ]
    },
    {
     "name": "stdout",
     "output_type": "stream",
     "text": [
      "[0]\tvalidation_0-rmse:1.20333\tvalidation_1-rmse:1.13561\n"
     ]
    },
    {
     "name": "stderr",
     "output_type": "stream",
     "text": [
      "D:\\Anaconda\\lib\\site-packages\\xgboost\\data.py:112: UserWarning: Use subset (sliced data) of np.ndarray is not recommended because it will generate extra copies and increase memory consumption\n",
      "  warnings.warn(\n"
     ]
    },
    {
     "name": "stdout",
     "output_type": "stream",
     "text": [
      "[0]\tvalidation_0-rmse:1.20330\tvalidation_1-rmse:1.13501\n"
     ]
    },
    {
     "name": "stderr",
     "output_type": "stream",
     "text": [
      "D:\\Anaconda\\lib\\site-packages\\xgboost\\data.py:112: UserWarning: Use subset (sliced data) of np.ndarray is not recommended because it will generate extra copies and increase memory consumption\n",
      "  warnings.warn(\n"
     ]
    },
    {
     "name": "stdout",
     "output_type": "stream",
     "text": [
      "[0]\tvalidation_0-rmse:1.20151\tvalidation_1-rmse:1.13556\n",
      "[1]\tvalidation_0-rmse:1.17520\tvalidation_1-rmse:1.11357\n",
      "[2]\tvalidation_0-rmse:1.16276\tvalidation_1-rmse:1.10017\n",
      "[3]\tvalidation_0-rmse:1.11017\tvalidation_1-rmse:1.06312\n",
      "[4]\tvalidation_0-rmse:1.09118\tvalidation_1-rmse:1.05197\n",
      "[5]\tvalidation_0-rmse:1.08374\tvalidation_1-rmse:1.04616\n",
      "[6]\tvalidation_0-rmse:1.06772\tvalidation_1-rmse:1.03607\n",
      "[7]\tvalidation_0-rmse:1.04042\tvalidation_1-rmse:1.01913\n",
      "[8]\tvalidation_0-rmse:1.03837\tvalidation_1-rmse:1.01595\n",
      "[9]\tvalidation_0-rmse:1.03555\tvalidation_1-rmse:1.01322\n"
     ]
    },
    {
     "name": "stderr",
     "output_type": "stream",
     "text": [
      "D:\\Anaconda\\lib\\site-packages\\xgboost\\data.py:112: UserWarning: Use subset (sliced data) of np.ndarray is not recommended because it will generate extra copies and increase memory consumption\n",
      "  warnings.warn(\n"
     ]
    },
    {
     "name": "stdout",
     "output_type": "stream",
     "text": [
      "[0]\tvalidation_0-rmse:1.20348\tvalidation_1-rmse:1.13523\n",
      "[1]\tvalidation_0-rmse:1.17507\tvalidation_1-rmse:1.11270\n",
      "[2]\tvalidation_0-rmse:1.16312\tvalidation_1-rmse:1.09931\n",
      "[3]\tvalidation_0-rmse:1.10656\tvalidation_1-rmse:1.06218\n",
      "[4]\tvalidation_0-rmse:1.09122\tvalidation_1-rmse:1.05100\n",
      "[5]\tvalidation_0-rmse:1.08571\tvalidation_1-rmse:1.04531\n",
      "[6]\tvalidation_0-rmse:1.06675\tvalidation_1-rmse:1.03587\n",
      "[7]\tvalidation_0-rmse:1.04287\tvalidation_1-rmse:1.01870\n",
      "[8]\tvalidation_0-rmse:1.03807\tvalidation_1-rmse:1.01598\n",
      "[9]\tvalidation_0-rmse:1.03523\tvalidation_1-rmse:1.01320\n"
     ]
    },
    {
     "name": "stderr",
     "output_type": "stream",
     "text": [
      "D:\\Anaconda\\lib\\site-packages\\xgboost\\data.py:112: UserWarning: Use subset (sliced data) of np.ndarray is not recommended because it will generate extra copies and increase memory consumption\n",
      "  warnings.warn(\n"
     ]
    },
    {
     "name": "stdout",
     "output_type": "stream",
     "text": [
      "[0]\tvalidation_0-rmse:1.20506\tvalidation_1-rmse:1.13511\n",
      "[1]\tvalidation_0-rmse:1.17716\tvalidation_1-rmse:1.11255\n",
      "[2]\tvalidation_0-rmse:1.16460\tvalidation_1-rmse:1.09826\n",
      "[3]\tvalidation_0-rmse:1.10974\tvalidation_1-rmse:1.06221\n",
      "[4]\tvalidation_0-rmse:1.09390\tvalidation_1-rmse:1.05025\n",
      "[5]\tvalidation_0-rmse:1.08426\tvalidation_1-rmse:1.04436\n",
      "[6]\tvalidation_0-rmse:1.06984\tvalidation_1-rmse:1.03518\n",
      "[7]\tvalidation_0-rmse:1.04679\tvalidation_1-rmse:1.01802\n",
      "[8]\tvalidation_0-rmse:1.04148\tvalidation_1-rmse:1.01532\n",
      "[9]\tvalidation_0-rmse:1.03833\tvalidation_1-rmse:1.01194\n"
     ]
    },
    {
     "name": "stderr",
     "output_type": "stream",
     "text": [
      "D:\\Anaconda\\lib\\site-packages\\xgboost\\data.py:112: UserWarning: Use subset (sliced data) of np.ndarray is not recommended because it will generate extra copies and increase memory consumption\n",
      "  warnings.warn(\n"
     ]
    },
    {
     "name": "stdout",
     "output_type": "stream",
     "text": [
      "[0]\tvalidation_0-rmse:1.20333\tvalidation_1-rmse:1.13561\n",
      "[1]\tvalidation_0-rmse:1.17382\tvalidation_1-rmse:1.11305\n",
      "[2]\tvalidation_0-rmse:1.16462\tvalidation_1-rmse:1.09953\n",
      "[3]\tvalidation_0-rmse:1.10586\tvalidation_1-rmse:1.06236\n",
      "[4]\tvalidation_0-rmse:1.08899\tvalidation_1-rmse:1.05112\n",
      "[5]\tvalidation_0-rmse:1.08376\tvalidation_1-rmse:1.04513\n",
      "[6]\tvalidation_0-rmse:1.06438\tvalidation_1-rmse:1.03544\n",
      "[7]\tvalidation_0-rmse:1.04169\tvalidation_1-rmse:1.01850\n",
      "[8]\tvalidation_0-rmse:1.03912\tvalidation_1-rmse:1.01551\n",
      "[9]\tvalidation_0-rmse:1.03408\tvalidation_1-rmse:1.01282\n"
     ]
    },
    {
     "name": "stderr",
     "output_type": "stream",
     "text": [
      "D:\\Anaconda\\lib\\site-packages\\xgboost\\data.py:112: UserWarning: Use subset (sliced data) of np.ndarray is not recommended because it will generate extra copies and increase memory consumption\n",
      "  warnings.warn(\n"
     ]
    },
    {
     "name": "stdout",
     "output_type": "stream",
     "text": [
      "[0]\tvalidation_0-rmse:1.20330\tvalidation_1-rmse:1.13501\n",
      "[1]\tvalidation_0-rmse:1.17485\tvalidation_1-rmse:1.11276\n",
      "[2]\tvalidation_0-rmse:1.16256\tvalidation_1-rmse:1.09866\n",
      "[3]\tvalidation_0-rmse:1.10863\tvalidation_1-rmse:1.06245\n",
      "[4]\tvalidation_0-rmse:1.09255\tvalidation_1-rmse:1.05038\n",
      "[5]\tvalidation_0-rmse:1.08742\tvalidation_1-rmse:1.04421\n",
      "[6]\tvalidation_0-rmse:1.06795\tvalidation_1-rmse:1.03464\n",
      "[7]\tvalidation_0-rmse:1.04448\tvalidation_1-rmse:1.01737\n",
      "[8]\tvalidation_0-rmse:1.03944\tvalidation_1-rmse:1.01430\n",
      "[9]\tvalidation_0-rmse:1.03628\tvalidation_1-rmse:1.01097\n"
     ]
    },
    {
     "name": "stderr",
     "output_type": "stream",
     "text": [
      "D:\\Anaconda\\lib\\site-packages\\xgboost\\data.py:112: UserWarning: Use subset (sliced data) of np.ndarray is not recommended because it will generate extra copies and increase memory consumption\n",
      "  warnings.warn(\n"
     ]
    },
    {
     "name": "stdout",
     "output_type": "stream",
     "text": [
      "[0]\tvalidation_0-rmse:1.20151\tvalidation_1-rmse:1.13556\n",
      "[1]\tvalidation_0-rmse:1.17520\tvalidation_1-rmse:1.11357\n",
      "[2]\tvalidation_0-rmse:1.16276\tvalidation_1-rmse:1.10017\n",
      "[3]\tvalidation_0-rmse:1.11017\tvalidation_1-rmse:1.06312\n",
      "[4]\tvalidation_0-rmse:1.09118\tvalidation_1-rmse:1.05197\n",
      "[5]\tvalidation_0-rmse:1.08374\tvalidation_1-rmse:1.04616\n",
      "[6]\tvalidation_0-rmse:1.06772\tvalidation_1-rmse:1.03607\n",
      "[7]\tvalidation_0-rmse:1.04042\tvalidation_1-rmse:1.01913\n",
      "[8]\tvalidation_0-rmse:1.03837\tvalidation_1-rmse:1.01595\n",
      "[9]\tvalidation_0-rmse:1.03555\tvalidation_1-rmse:1.01322\n",
      "[10]\tvalidation_0-rmse:1.03214\tvalidation_1-rmse:1.01075\n",
      "[11]\tvalidation_0-rmse:1.01832\tvalidation_1-rmse:1.00214\n",
      "[12]\tvalidation_0-rmse:1.00778\tvalidation_1-rmse:0.99557\n",
      "[13]\tvalidation_0-rmse:1.00433\tvalidation_1-rmse:0.99381\n",
      "[14]\tvalidation_0-rmse:0.99388\tvalidation_1-rmse:0.99099\n",
      "[15]\tvalidation_0-rmse:0.99000\tvalidation_1-rmse:0.98835\n",
      "[16]\tvalidation_0-rmse:0.98668\tvalidation_1-rmse:0.98729\n",
      "[17]\tvalidation_0-rmse:0.98727\tvalidation_1-rmse:0.98643\n",
      "[18]\tvalidation_0-rmse:0.98254\tvalidation_1-rmse:0.98286\n",
      "[19]\tvalidation_0-rmse:0.98187\tvalidation_1-rmse:0.98200\n",
      "[20]\tvalidation_0-rmse:0.98101\tvalidation_1-rmse:0.98119\n",
      "[21]\tvalidation_0-rmse:0.97912\tvalidation_1-rmse:0.98019\n",
      "[22]\tvalidation_0-rmse:0.97851\tvalidation_1-rmse:0.97949\n",
      "[23]\tvalidation_0-rmse:0.97567\tvalidation_1-rmse:0.97827\n",
      "[24]\tvalidation_0-rmse:0.97432\tvalidation_1-rmse:0.97781\n",
      "[25]\tvalidation_0-rmse:0.97230\tvalidation_1-rmse:0.97655\n",
      "[26]\tvalidation_0-rmse:0.97090\tvalidation_1-rmse:0.97649\n",
      "[27]\tvalidation_0-rmse:0.97034\tvalidation_1-rmse:0.97655\n",
      "[28]\tvalidation_0-rmse:0.96898\tvalidation_1-rmse:0.97705\n",
      "[29]\tvalidation_0-rmse:0.96816\tvalidation_1-rmse:0.97699\n",
      "[30]\tvalidation_0-rmse:0.96741\tvalidation_1-rmse:0.97657\n",
      "[31]\tvalidation_0-rmse:0.96720\tvalidation_1-rmse:0.97646\n",
      "[32]\tvalidation_0-rmse:0.96603\tvalidation_1-rmse:0.97556\n",
      "[33]\tvalidation_0-rmse:0.96566\tvalidation_1-rmse:0.97494\n",
      "[34]\tvalidation_0-rmse:0.96503\tvalidation_1-rmse:0.97447\n",
      "[35]\tvalidation_0-rmse:0.96416\tvalidation_1-rmse:0.97396\n",
      "[36]\tvalidation_0-rmse:0.96381\tvalidation_1-rmse:0.97365\n",
      "[37]\tvalidation_0-rmse:0.96330\tvalidation_1-rmse:0.97398\n",
      "[38]\tvalidation_0-rmse:0.96243\tvalidation_1-rmse:0.97418\n",
      "[39]\tvalidation_0-rmse:0.96218\tvalidation_1-rmse:0.97380\n",
      "[40]\tvalidation_0-rmse:0.96163\tvalidation_1-rmse:0.97335\n",
      "[41]\tvalidation_0-rmse:0.96122\tvalidation_1-rmse:0.97345\n",
      "[42]\tvalidation_0-rmse:0.96088\tvalidation_1-rmse:0.97373\n",
      "[43]\tvalidation_0-rmse:0.96087\tvalidation_1-rmse:0.97341\n",
      "[44]\tvalidation_0-rmse:0.96043\tvalidation_1-rmse:0.97345\n",
      "[45]\tvalidation_0-rmse:0.96016\tvalidation_1-rmse:0.97276\n",
      "[46]\tvalidation_0-rmse:0.95987\tvalidation_1-rmse:0.97237\n",
      "[47]\tvalidation_0-rmse:0.95981\tvalidation_1-rmse:0.97223\n",
      "[48]\tvalidation_0-rmse:0.95965\tvalidation_1-rmse:0.97231\n",
      "[49]\tvalidation_0-rmse:0.95920\tvalidation_1-rmse:0.97243\n",
      "[50]\tvalidation_0-rmse:0.95902\tvalidation_1-rmse:0.97228\n",
      "[51]\tvalidation_0-rmse:0.95858\tvalidation_1-rmse:0.97184\n",
      "[52]\tvalidation_0-rmse:0.95840\tvalidation_1-rmse:0.97218\n",
      "[53]\tvalidation_0-rmse:0.95811\tvalidation_1-rmse:0.97226\n",
      "[54]\tvalidation_0-rmse:0.95776\tvalidation_1-rmse:0.97193\n",
      "[55]\tvalidation_0-rmse:0.95762\tvalidation_1-rmse:0.97238\n"
     ]
    },
    {
     "name": "stderr",
     "output_type": "stream",
     "text": [
      "D:\\Anaconda\\lib\\site-packages\\xgboost\\data.py:112: UserWarning: Use subset (sliced data) of np.ndarray is not recommended because it will generate extra copies and increase memory consumption\n",
      "  warnings.warn(\n"
     ]
    },
    {
     "name": "stdout",
     "output_type": "stream",
     "text": [
      "[0]\tvalidation_0-rmse:1.20348\tvalidation_1-rmse:1.13523\n",
      "[1]\tvalidation_0-rmse:1.17507\tvalidation_1-rmse:1.11270\n",
      "[2]\tvalidation_0-rmse:1.16312\tvalidation_1-rmse:1.09931\n",
      "[3]\tvalidation_0-rmse:1.10656\tvalidation_1-rmse:1.06218\n",
      "[4]\tvalidation_0-rmse:1.09122\tvalidation_1-rmse:1.05100\n",
      "[5]\tvalidation_0-rmse:1.08571\tvalidation_1-rmse:1.04531\n",
      "[6]\tvalidation_0-rmse:1.06675\tvalidation_1-rmse:1.03587\n",
      "[7]\tvalidation_0-rmse:1.04287\tvalidation_1-rmse:1.01870\n",
      "[8]\tvalidation_0-rmse:1.03807\tvalidation_1-rmse:1.01598\n",
      "[9]\tvalidation_0-rmse:1.03523\tvalidation_1-rmse:1.01320\n",
      "[10]\tvalidation_0-rmse:1.03312\tvalidation_1-rmse:1.01087\n",
      "[11]\tvalidation_0-rmse:1.01917\tvalidation_1-rmse:1.00187\n",
      "[12]\tvalidation_0-rmse:1.00357\tvalidation_1-rmse:0.99540\n",
      "[13]\tvalidation_0-rmse:1.00029\tvalidation_1-rmse:0.99359\n",
      "[14]\tvalidation_0-rmse:0.99475\tvalidation_1-rmse:0.99072\n",
      "[15]\tvalidation_0-rmse:0.99059\tvalidation_1-rmse:0.98858\n",
      "[16]\tvalidation_0-rmse:0.98706\tvalidation_1-rmse:0.98686\n",
      "[17]\tvalidation_0-rmse:0.98755\tvalidation_1-rmse:0.98590\n",
      "[18]\tvalidation_0-rmse:0.98097\tvalidation_1-rmse:0.98245\n",
      "[19]\tvalidation_0-rmse:0.98013\tvalidation_1-rmse:0.98170\n",
      "[20]\tvalidation_0-rmse:0.97908\tvalidation_1-rmse:0.98091\n",
      "[21]\tvalidation_0-rmse:0.97869\tvalidation_1-rmse:0.98000\n",
      "[22]\tvalidation_0-rmse:0.97795\tvalidation_1-rmse:0.97903\n",
      "[23]\tvalidation_0-rmse:0.97567\tvalidation_1-rmse:0.97838\n",
      "[24]\tvalidation_0-rmse:0.97391\tvalidation_1-rmse:0.97738\n",
      "[25]\tvalidation_0-rmse:0.97219\tvalidation_1-rmse:0.97589\n",
      "[26]\tvalidation_0-rmse:0.97040\tvalidation_1-rmse:0.97559\n",
      "[27]\tvalidation_0-rmse:0.96981\tvalidation_1-rmse:0.97562\n",
      "[28]\tvalidation_0-rmse:0.96898\tvalidation_1-rmse:0.97579\n",
      "[29]\tvalidation_0-rmse:0.96812\tvalidation_1-rmse:0.97526\n",
      "[30]\tvalidation_0-rmse:0.96706\tvalidation_1-rmse:0.97533\n",
      "[31]\tvalidation_0-rmse:0.96657\tvalidation_1-rmse:0.97544\n",
      "[32]\tvalidation_0-rmse:0.96559\tvalidation_1-rmse:0.97467\n",
      "[33]\tvalidation_0-rmse:0.96513\tvalidation_1-rmse:0.97407\n",
      "[34]\tvalidation_0-rmse:0.96454\tvalidation_1-rmse:0.97360\n",
      "[35]\tvalidation_0-rmse:0.96418\tvalidation_1-rmse:0.97368\n",
      "[36]\tvalidation_0-rmse:0.96387\tvalidation_1-rmse:0.97334\n",
      "[37]\tvalidation_0-rmse:0.96334\tvalidation_1-rmse:0.97283\n",
      "[38]\tvalidation_0-rmse:0.96261\tvalidation_1-rmse:0.97290\n",
      "[39]\tvalidation_0-rmse:0.96228\tvalidation_1-rmse:0.97239\n",
      "[40]\tvalidation_0-rmse:0.96194\tvalidation_1-rmse:0.97202\n",
      "[41]\tvalidation_0-rmse:0.96143\tvalidation_1-rmse:0.97191\n",
      "[42]\tvalidation_0-rmse:0.96104\tvalidation_1-rmse:0.97217\n",
      "[43]\tvalidation_0-rmse:0.96091\tvalidation_1-rmse:0.97176\n",
      "[44]\tvalidation_0-rmse:0.96050\tvalidation_1-rmse:0.97180\n",
      "[45]\tvalidation_0-rmse:0.96026\tvalidation_1-rmse:0.97104\n",
      "[46]\tvalidation_0-rmse:0.96018\tvalidation_1-rmse:0.97078\n",
      "[47]\tvalidation_0-rmse:0.95963\tvalidation_1-rmse:0.97064\n",
      "[48]\tvalidation_0-rmse:0.95939\tvalidation_1-rmse:0.97060\n",
      "[49]\tvalidation_0-rmse:0.95919\tvalidation_1-rmse:0.97079\n",
      "[50]\tvalidation_0-rmse:0.95901\tvalidation_1-rmse:0.97062\n",
      "[51]\tvalidation_0-rmse:0.95861\tvalidation_1-rmse:0.97032\n",
      "[52]\tvalidation_0-rmse:0.95828\tvalidation_1-rmse:0.97004\n",
      "[53]\tvalidation_0-rmse:0.95821\tvalidation_1-rmse:0.97012\n",
      "[54]\tvalidation_0-rmse:0.95806\tvalidation_1-rmse:0.97035\n",
      "[55]\tvalidation_0-rmse:0.95793\tvalidation_1-rmse:0.97016\n",
      "[56]\tvalidation_0-rmse:0.95786\tvalidation_1-rmse:0.96997\n",
      "[57]\tvalidation_0-rmse:0.95765\tvalidation_1-rmse:0.96922\n",
      "[58]\tvalidation_0-rmse:0.95738\tvalidation_1-rmse:0.96928\n",
      "[59]\tvalidation_0-rmse:0.95722\tvalidation_1-rmse:0.96899\n",
      "[60]\tvalidation_0-rmse:0.95704\tvalidation_1-rmse:0.96893\n",
      "[61]\tvalidation_0-rmse:0.95685\tvalidation_1-rmse:0.96925\n",
      "[62]\tvalidation_0-rmse:0.95673\tvalidation_1-rmse:0.96942\n",
      "[63]\tvalidation_0-rmse:0.95653\tvalidation_1-rmse:0.96912\n",
      "[64]\tvalidation_0-rmse:0.95637\tvalidation_1-rmse:0.96916\n"
     ]
    },
    {
     "name": "stderr",
     "output_type": "stream",
     "text": [
      "D:\\Anaconda\\lib\\site-packages\\xgboost\\data.py:112: UserWarning: Use subset (sliced data) of np.ndarray is not recommended because it will generate extra copies and increase memory consumption\n",
      "  warnings.warn(\n"
     ]
    },
    {
     "name": "stdout",
     "output_type": "stream",
     "text": [
      "[0]\tvalidation_0-rmse:1.20506\tvalidation_1-rmse:1.13511\n",
      "[1]\tvalidation_0-rmse:1.17716\tvalidation_1-rmse:1.11255\n",
      "[2]\tvalidation_0-rmse:1.16460\tvalidation_1-rmse:1.09826\n",
      "[3]\tvalidation_0-rmse:1.10974\tvalidation_1-rmse:1.06221\n",
      "[4]\tvalidation_0-rmse:1.09390\tvalidation_1-rmse:1.05025\n",
      "[5]\tvalidation_0-rmse:1.08426\tvalidation_1-rmse:1.04436\n",
      "[6]\tvalidation_0-rmse:1.06984\tvalidation_1-rmse:1.03518\n",
      "[7]\tvalidation_0-rmse:1.04679\tvalidation_1-rmse:1.01802\n",
      "[8]\tvalidation_0-rmse:1.04148\tvalidation_1-rmse:1.01532\n",
      "[9]\tvalidation_0-rmse:1.03833\tvalidation_1-rmse:1.01194\n",
      "[10]\tvalidation_0-rmse:1.03628\tvalidation_1-rmse:1.01003\n",
      "[11]\tvalidation_0-rmse:1.01819\tvalidation_1-rmse:1.00154\n",
      "[12]\tvalidation_0-rmse:1.00675\tvalidation_1-rmse:0.99454\n",
      "[13]\tvalidation_0-rmse:1.00353\tvalidation_1-rmse:0.99277\n",
      "[14]\tvalidation_0-rmse:0.99751\tvalidation_1-rmse:0.98969\n",
      "[15]\tvalidation_0-rmse:0.99259\tvalidation_1-rmse:0.98685\n",
      "[16]\tvalidation_0-rmse:0.98926\tvalidation_1-rmse:0.98562\n",
      "[17]\tvalidation_0-rmse:0.99017\tvalidation_1-rmse:0.98475\n",
      "[18]\tvalidation_0-rmse:0.98451\tvalidation_1-rmse:0.98138\n",
      "[19]\tvalidation_0-rmse:0.98223\tvalidation_1-rmse:0.98074\n",
      "[20]\tvalidation_0-rmse:0.98171\tvalidation_1-rmse:0.98020\n",
      "[21]\tvalidation_0-rmse:0.98064\tvalidation_1-rmse:0.97916\n",
      "[22]\tvalidation_0-rmse:0.98020\tvalidation_1-rmse:0.97815\n",
      "[23]\tvalidation_0-rmse:0.97813\tvalidation_1-rmse:0.97687\n",
      "[24]\tvalidation_0-rmse:0.97647\tvalidation_1-rmse:0.97636\n",
      "[25]\tvalidation_0-rmse:0.97479\tvalidation_1-rmse:0.97479\n",
      "[26]\tvalidation_0-rmse:0.97266\tvalidation_1-rmse:0.97436\n",
      "[27]\tvalidation_0-rmse:0.97221\tvalidation_1-rmse:0.97436\n",
      "[28]\tvalidation_0-rmse:0.97092\tvalidation_1-rmse:0.97441\n",
      "[29]\tvalidation_0-rmse:0.96951\tvalidation_1-rmse:0.97305\n",
      "[30]\tvalidation_0-rmse:0.96854\tvalidation_1-rmse:0.97311\n",
      "[31]\tvalidation_0-rmse:0.96801\tvalidation_1-rmse:0.97306\n",
      "[32]\tvalidation_0-rmse:0.96718\tvalidation_1-rmse:0.97260\n",
      "[33]\tvalidation_0-rmse:0.96660\tvalidation_1-rmse:0.97209\n",
      "[34]\tvalidation_0-rmse:0.96632\tvalidation_1-rmse:0.97142\n",
      "[35]\tvalidation_0-rmse:0.96566\tvalidation_1-rmse:0.97145\n",
      "[36]\tvalidation_0-rmse:0.96507\tvalidation_1-rmse:0.97113\n",
      "[37]\tvalidation_0-rmse:0.96472\tvalidation_1-rmse:0.97071\n",
      "[38]\tvalidation_0-rmse:0.96387\tvalidation_1-rmse:0.97067\n",
      "[39]\tvalidation_0-rmse:0.96345\tvalidation_1-rmse:0.97034\n",
      "[40]\tvalidation_0-rmse:0.96303\tvalidation_1-rmse:0.97041\n",
      "[41]\tvalidation_0-rmse:0.96253\tvalidation_1-rmse:0.97049\n",
      "[42]\tvalidation_0-rmse:0.96213\tvalidation_1-rmse:0.97074\n",
      "[43]\tvalidation_0-rmse:0.96176\tvalidation_1-rmse:0.97040\n"
     ]
    },
    {
     "name": "stderr",
     "output_type": "stream",
     "text": [
      "D:\\Anaconda\\lib\\site-packages\\xgboost\\data.py:112: UserWarning: Use subset (sliced data) of np.ndarray is not recommended because it will generate extra copies and increase memory consumption\n",
      "  warnings.warn(\n"
     ]
    },
    {
     "name": "stdout",
     "output_type": "stream",
     "text": [
      "[0]\tvalidation_0-rmse:1.20333\tvalidation_1-rmse:1.13561\n",
      "[1]\tvalidation_0-rmse:1.17382\tvalidation_1-rmse:1.11305\n",
      "[2]\tvalidation_0-rmse:1.16462\tvalidation_1-rmse:1.09953\n",
      "[3]\tvalidation_0-rmse:1.10586\tvalidation_1-rmse:1.06236\n",
      "[4]\tvalidation_0-rmse:1.08899\tvalidation_1-rmse:1.05112\n",
      "[5]\tvalidation_0-rmse:1.08376\tvalidation_1-rmse:1.04513\n",
      "[6]\tvalidation_0-rmse:1.06438\tvalidation_1-rmse:1.03544\n",
      "[7]\tvalidation_0-rmse:1.04169\tvalidation_1-rmse:1.01850\n",
      "[8]\tvalidation_0-rmse:1.03912\tvalidation_1-rmse:1.01551\n",
      "[9]\tvalidation_0-rmse:1.03408\tvalidation_1-rmse:1.01282\n",
      "[10]\tvalidation_0-rmse:1.03231\tvalidation_1-rmse:1.01043\n",
      "[11]\tvalidation_0-rmse:1.01843\tvalidation_1-rmse:1.00149\n",
      "[12]\tvalidation_0-rmse:1.00794\tvalidation_1-rmse:0.99491\n",
      "[13]\tvalidation_0-rmse:0.99955\tvalidation_1-rmse:0.99315\n",
      "[14]\tvalidation_0-rmse:0.99383\tvalidation_1-rmse:0.99029\n",
      "[15]\tvalidation_0-rmse:0.98991\tvalidation_1-rmse:0.98832\n",
      "[16]\tvalidation_0-rmse:0.98581\tvalidation_1-rmse:0.98650\n",
      "[17]\tvalidation_0-rmse:0.98691\tvalidation_1-rmse:0.98547\n",
      "[18]\tvalidation_0-rmse:0.98154\tvalidation_1-rmse:0.98201\n",
      "[19]\tvalidation_0-rmse:0.97936\tvalidation_1-rmse:0.98124\n",
      "[20]\tvalidation_0-rmse:0.97871\tvalidation_1-rmse:0.98043\n",
      "[21]\tvalidation_0-rmse:0.97810\tvalidation_1-rmse:0.97952\n",
      "[22]\tvalidation_0-rmse:0.97741\tvalidation_1-rmse:0.97867\n",
      "[23]\tvalidation_0-rmse:0.97521\tvalidation_1-rmse:0.97805\n",
      "[24]\tvalidation_0-rmse:0.97337\tvalidation_1-rmse:0.97701\n",
      "[25]\tvalidation_0-rmse:0.97134\tvalidation_1-rmse:0.97564\n",
      "[26]\tvalidation_0-rmse:0.96970\tvalidation_1-rmse:0.97550\n",
      "[27]\tvalidation_0-rmse:0.96906\tvalidation_1-rmse:0.97555\n",
      "[28]\tvalidation_0-rmse:0.96864\tvalidation_1-rmse:0.97566\n",
      "[29]\tvalidation_0-rmse:0.96747\tvalidation_1-rmse:0.97507\n",
      "[30]\tvalidation_0-rmse:0.96626\tvalidation_1-rmse:0.97518\n",
      "[31]\tvalidation_0-rmse:0.96631\tvalidation_1-rmse:0.97511\n",
      "[32]\tvalidation_0-rmse:0.96534\tvalidation_1-rmse:0.97496\n",
      "[33]\tvalidation_0-rmse:0.96478\tvalidation_1-rmse:0.97444\n",
      "[34]\tvalidation_0-rmse:0.96371\tvalidation_1-rmse:0.97362\n",
      "[35]\tvalidation_0-rmse:0.96349\tvalidation_1-rmse:0.97391\n",
      "[36]\tvalidation_0-rmse:0.96319\tvalidation_1-rmse:0.97358\n",
      "[37]\tvalidation_0-rmse:0.96250\tvalidation_1-rmse:0.97305\n",
      "[38]\tvalidation_0-rmse:0.96206\tvalidation_1-rmse:0.97318\n",
      "[39]\tvalidation_0-rmse:0.96179\tvalidation_1-rmse:0.97270\n",
      "[40]\tvalidation_0-rmse:0.96128\tvalidation_1-rmse:0.97234\n",
      "[41]\tvalidation_0-rmse:0.96088\tvalidation_1-rmse:0.97261\n",
      "[42]\tvalidation_0-rmse:0.96091\tvalidation_1-rmse:0.97249\n",
      "[43]\tvalidation_0-rmse:0.96078\tvalidation_1-rmse:0.97214\n",
      "[44]\tvalidation_0-rmse:0.96035\tvalidation_1-rmse:0.97215\n",
      "[45]\tvalidation_0-rmse:0.96003\tvalidation_1-rmse:0.97138\n",
      "[46]\tvalidation_0-rmse:0.95971\tvalidation_1-rmse:0.97110\n",
      "[47]\tvalidation_0-rmse:0.95957\tvalidation_1-rmse:0.97091\n",
      "[48]\tvalidation_0-rmse:0.95927\tvalidation_1-rmse:0.97103\n",
      "[49]\tvalidation_0-rmse:0.95912\tvalidation_1-rmse:0.97125\n",
      "[50]\tvalidation_0-rmse:0.95895\tvalidation_1-rmse:0.97115\n",
      "[51]\tvalidation_0-rmse:0.95864\tvalidation_1-rmse:0.97088\n",
      "[52]\tvalidation_0-rmse:0.95838\tvalidation_1-rmse:0.97064\n",
      "[53]\tvalidation_0-rmse:0.95795\tvalidation_1-rmse:0.97038\n",
      "[54]\tvalidation_0-rmse:0.95813\tvalidation_1-rmse:0.97071\n",
      "[55]\tvalidation_0-rmse:0.95795\tvalidation_1-rmse:0.97054\n",
      "[56]\tvalidation_0-rmse:0.95762\tvalidation_1-rmse:0.97062\n",
      "[57]\tvalidation_0-rmse:0.95740\tvalidation_1-rmse:0.96983\n",
      "[58]\tvalidation_0-rmse:0.95749\tvalidation_1-rmse:0.96960\n",
      "[59]\tvalidation_0-rmse:0.95737\tvalidation_1-rmse:0.96934\n",
      "[60]\tvalidation_0-rmse:0.95713\tvalidation_1-rmse:0.96940\n",
      "[61]\tvalidation_0-rmse:0.95684\tvalidation_1-rmse:0.96971\n",
      "[62]\tvalidation_0-rmse:0.95661\tvalidation_1-rmse:0.96991\n",
      "[63]\tvalidation_0-rmse:0.95646\tvalidation_1-rmse:0.96958\n",
      "[64]\tvalidation_0-rmse:0.95629\tvalidation_1-rmse:0.96954\n"
     ]
    },
    {
     "name": "stderr",
     "output_type": "stream",
     "text": [
      "D:\\Anaconda\\lib\\site-packages\\xgboost\\data.py:112: UserWarning: Use subset (sliced data) of np.ndarray is not recommended because it will generate extra copies and increase memory consumption\n",
      "  warnings.warn(\n"
     ]
    },
    {
     "name": "stdout",
     "output_type": "stream",
     "text": [
      "[0]\tvalidation_0-rmse:1.20330\tvalidation_1-rmse:1.13501\n",
      "[1]\tvalidation_0-rmse:1.17485\tvalidation_1-rmse:1.11276\n",
      "[2]\tvalidation_0-rmse:1.16256\tvalidation_1-rmse:1.09866\n",
      "[3]\tvalidation_0-rmse:1.10863\tvalidation_1-rmse:1.06245\n",
      "[4]\tvalidation_0-rmse:1.09255\tvalidation_1-rmse:1.05038\n",
      "[5]\tvalidation_0-rmse:1.08742\tvalidation_1-rmse:1.04421\n",
      "[6]\tvalidation_0-rmse:1.06795\tvalidation_1-rmse:1.03464\n",
      "[7]\tvalidation_0-rmse:1.04448\tvalidation_1-rmse:1.01737\n",
      "[8]\tvalidation_0-rmse:1.03944\tvalidation_1-rmse:1.01430\n",
      "[9]\tvalidation_0-rmse:1.03628\tvalidation_1-rmse:1.01097\n",
      "[10]\tvalidation_0-rmse:1.03398\tvalidation_1-rmse:1.00883\n",
      "[11]\tvalidation_0-rmse:1.01629\tvalidation_1-rmse:1.00048\n",
      "[12]\tvalidation_0-rmse:1.00544\tvalidation_1-rmse:0.99383\n",
      "[13]\tvalidation_0-rmse:1.00172\tvalidation_1-rmse:0.99206\n",
      "[14]\tvalidation_0-rmse:0.99541\tvalidation_1-rmse:0.98866\n",
      "[15]\tvalidation_0-rmse:0.99064\tvalidation_1-rmse:0.98612\n",
      "[16]\tvalidation_0-rmse:0.98760\tvalidation_1-rmse:0.98511\n",
      "[17]\tvalidation_0-rmse:0.98799\tvalidation_1-rmse:0.98406\n",
      "[18]\tvalidation_0-rmse:0.98103\tvalidation_1-rmse:0.98054\n",
      "[19]\tvalidation_0-rmse:0.98048\tvalidation_1-rmse:0.97972\n",
      "[20]\tvalidation_0-rmse:0.97978\tvalidation_1-rmse:0.97907\n",
      "[21]\tvalidation_0-rmse:0.97876\tvalidation_1-rmse:0.97802\n",
      "[22]\tvalidation_0-rmse:0.97787\tvalidation_1-rmse:0.97724\n",
      "[23]\tvalidation_0-rmse:0.97583\tvalidation_1-rmse:0.97652\n",
      "[24]\tvalidation_0-rmse:0.97431\tvalidation_1-rmse:0.97563\n",
      "[25]\tvalidation_0-rmse:0.97251\tvalidation_1-rmse:0.97421\n",
      "[26]\tvalidation_0-rmse:0.97084\tvalidation_1-rmse:0.97399\n",
      "[27]\tvalidation_0-rmse:0.97017\tvalidation_1-rmse:0.97408\n",
      "[28]\tvalidation_0-rmse:0.96962\tvalidation_1-rmse:0.97408\n",
      "[29]\tvalidation_0-rmse:0.96808\tvalidation_1-rmse:0.97396\n",
      "[30]\tvalidation_0-rmse:0.96745\tvalidation_1-rmse:0.97353\n",
      "[31]\tvalidation_0-rmse:0.96679\tvalidation_1-rmse:0.97344\n",
      "[32]\tvalidation_0-rmse:0.96594\tvalidation_1-rmse:0.97267\n",
      "[33]\tvalidation_0-rmse:0.96560\tvalidation_1-rmse:0.97206\n",
      "[34]\tvalidation_0-rmse:0.96512\tvalidation_1-rmse:0.97164\n",
      "[35]\tvalidation_0-rmse:0.96496\tvalidation_1-rmse:0.97191\n",
      "[36]\tvalidation_0-rmse:0.96410\tvalidation_1-rmse:0.97143\n",
      "[37]\tvalidation_0-rmse:0.96376\tvalidation_1-rmse:0.97049\n",
      "[38]\tvalidation_0-rmse:0.96297\tvalidation_1-rmse:0.97060\n",
      "[39]\tvalidation_0-rmse:0.96265\tvalidation_1-rmse:0.97012\n",
      "[40]\tvalidation_0-rmse:0.96212\tvalidation_1-rmse:0.96971\n",
      "[41]\tvalidation_0-rmse:0.96168\tvalidation_1-rmse:0.96962\n",
      "[42]\tvalidation_0-rmse:0.96126\tvalidation_1-rmse:0.96974\n",
      "[43]\tvalidation_0-rmse:0.96111\tvalidation_1-rmse:0.96937\n",
      "[44]\tvalidation_0-rmse:0.96076\tvalidation_1-rmse:0.96942\n",
      "[45]\tvalidation_0-rmse:0.96056\tvalidation_1-rmse:0.96914\n",
      "[46]\tvalidation_0-rmse:0.96038\tvalidation_1-rmse:0.96884\n",
      "[47]\tvalidation_0-rmse:0.95987\tvalidation_1-rmse:0.96861\n",
      "[48]\tvalidation_0-rmse:0.95950\tvalidation_1-rmse:0.96870\n",
      "[49]\tvalidation_0-rmse:0.95930\tvalidation_1-rmse:0.96893\n",
      "[50]\tvalidation_0-rmse:0.95925\tvalidation_1-rmse:0.96869\n",
      "[51]\tvalidation_0-rmse:0.95892\tvalidation_1-rmse:0.96832\n",
      "[52]\tvalidation_0-rmse:0.95861\tvalidation_1-rmse:0.96858\n",
      "[53]\tvalidation_0-rmse:0.95833\tvalidation_1-rmse:0.96865\n",
      "[54]\tvalidation_0-rmse:0.95806\tvalidation_1-rmse:0.96846\n",
      "[55]\tvalidation_0-rmse:0.95807\tvalidation_1-rmse:0.96881\n",
      "[56]\tvalidation_0-rmse:0.95797\tvalidation_1-rmse:0.96856\n"
     ]
    },
    {
     "name": "stderr",
     "output_type": "stream",
     "text": [
      "D:\\Anaconda\\lib\\site-packages\\xgboost\\data.py:112: UserWarning: Use subset (sliced data) of np.ndarray is not recommended because it will generate extra copies and increase memory consumption\n",
      "  warnings.warn(\n"
     ]
    },
    {
     "name": "stdout",
     "output_type": "stream",
     "text": [
      "[0]\tvalidation_0-rmse:1.20151\tvalidation_1-rmse:1.13556\n"
     ]
    },
    {
     "name": "stderr",
     "output_type": "stream",
     "text": [
      "D:\\Anaconda\\lib\\site-packages\\xgboost\\data.py:112: UserWarning: Use subset (sliced data) of np.ndarray is not recommended because it will generate extra copies and increase memory consumption\n",
      "  warnings.warn(\n"
     ]
    },
    {
     "name": "stdout",
     "output_type": "stream",
     "text": [
      "[0]\tvalidation_0-rmse:1.20348\tvalidation_1-rmse:1.13523\n"
     ]
    },
    {
     "name": "stderr",
     "output_type": "stream",
     "text": [
      "D:\\Anaconda\\lib\\site-packages\\xgboost\\data.py:112: UserWarning: Use subset (sliced data) of np.ndarray is not recommended because it will generate extra copies and increase memory consumption\n",
      "  warnings.warn(\n"
     ]
    },
    {
     "name": "stdout",
     "output_type": "stream",
     "text": [
      "[0]\tvalidation_0-rmse:1.20506\tvalidation_1-rmse:1.13511\n"
     ]
    },
    {
     "name": "stderr",
     "output_type": "stream",
     "text": [
      "D:\\Anaconda\\lib\\site-packages\\xgboost\\data.py:112: UserWarning: Use subset (sliced data) of np.ndarray is not recommended because it will generate extra copies and increase memory consumption\n",
      "  warnings.warn(\n"
     ]
    },
    {
     "name": "stdout",
     "output_type": "stream",
     "text": [
      "[0]\tvalidation_0-rmse:1.20333\tvalidation_1-rmse:1.13561\n"
     ]
    },
    {
     "name": "stderr",
     "output_type": "stream",
     "text": [
      "D:\\Anaconda\\lib\\site-packages\\xgboost\\data.py:112: UserWarning: Use subset (sliced data) of np.ndarray is not recommended because it will generate extra copies and increase memory consumption\n",
      "  warnings.warn(\n"
     ]
    },
    {
     "name": "stdout",
     "output_type": "stream",
     "text": [
      "[0]\tvalidation_0-rmse:1.20330\tvalidation_1-rmse:1.13501\n"
     ]
    },
    {
     "name": "stderr",
     "output_type": "stream",
     "text": [
      "D:\\Anaconda\\lib\\site-packages\\xgboost\\data.py:112: UserWarning: Use subset (sliced data) of np.ndarray is not recommended because it will generate extra copies and increase memory consumption\n",
      "  warnings.warn(\n"
     ]
    },
    {
     "name": "stdout",
     "output_type": "stream",
     "text": [
      "[0]\tvalidation_0-rmse:1.20151\tvalidation_1-rmse:1.13556\n",
      "[1]\tvalidation_0-rmse:1.17520\tvalidation_1-rmse:1.11357\n",
      "[2]\tvalidation_0-rmse:1.16276\tvalidation_1-rmse:1.10017\n",
      "[3]\tvalidation_0-rmse:1.11017\tvalidation_1-rmse:1.06312\n",
      "[4]\tvalidation_0-rmse:1.09118\tvalidation_1-rmse:1.05197\n",
      "[5]\tvalidation_0-rmse:1.08374\tvalidation_1-rmse:1.04616\n",
      "[6]\tvalidation_0-rmse:1.06772\tvalidation_1-rmse:1.03607\n",
      "[7]\tvalidation_0-rmse:1.04042\tvalidation_1-rmse:1.01913\n",
      "[8]\tvalidation_0-rmse:1.03837\tvalidation_1-rmse:1.01595\n",
      "[9]\tvalidation_0-rmse:1.03555\tvalidation_1-rmse:1.01322\n"
     ]
    },
    {
     "name": "stderr",
     "output_type": "stream",
     "text": [
      "D:\\Anaconda\\lib\\site-packages\\xgboost\\data.py:112: UserWarning: Use subset (sliced data) of np.ndarray is not recommended because it will generate extra copies and increase memory consumption\n",
      "  warnings.warn(\n"
     ]
    },
    {
     "name": "stdout",
     "output_type": "stream",
     "text": [
      "[0]\tvalidation_0-rmse:1.20348\tvalidation_1-rmse:1.13523\n",
      "[1]\tvalidation_0-rmse:1.17507\tvalidation_1-rmse:1.11270\n",
      "[2]\tvalidation_0-rmse:1.16312\tvalidation_1-rmse:1.09931\n",
      "[3]\tvalidation_0-rmse:1.10656\tvalidation_1-rmse:1.06218\n",
      "[4]\tvalidation_0-rmse:1.09122\tvalidation_1-rmse:1.05100\n",
      "[5]\tvalidation_0-rmse:1.08571\tvalidation_1-rmse:1.04531\n",
      "[6]\tvalidation_0-rmse:1.06675\tvalidation_1-rmse:1.03587\n",
      "[7]\tvalidation_0-rmse:1.04287\tvalidation_1-rmse:1.01870\n",
      "[8]\tvalidation_0-rmse:1.03807\tvalidation_1-rmse:1.01598\n",
      "[9]\tvalidation_0-rmse:1.03523\tvalidation_1-rmse:1.01320\n"
     ]
    },
    {
     "name": "stderr",
     "output_type": "stream",
     "text": [
      "D:\\Anaconda\\lib\\site-packages\\xgboost\\data.py:112: UserWarning: Use subset (sliced data) of np.ndarray is not recommended because it will generate extra copies and increase memory consumption\n",
      "  warnings.warn(\n"
     ]
    },
    {
     "name": "stdout",
     "output_type": "stream",
     "text": [
      "[0]\tvalidation_0-rmse:1.20506\tvalidation_1-rmse:1.13511\n",
      "[1]\tvalidation_0-rmse:1.17716\tvalidation_1-rmse:1.11255\n",
      "[2]\tvalidation_0-rmse:1.16460\tvalidation_1-rmse:1.09826\n",
      "[3]\tvalidation_0-rmse:1.10974\tvalidation_1-rmse:1.06221\n",
      "[4]\tvalidation_0-rmse:1.09390\tvalidation_1-rmse:1.05025\n",
      "[5]\tvalidation_0-rmse:1.08426\tvalidation_1-rmse:1.04436\n",
      "[6]\tvalidation_0-rmse:1.06984\tvalidation_1-rmse:1.03518\n",
      "[7]\tvalidation_0-rmse:1.04679\tvalidation_1-rmse:1.01802\n",
      "[8]\tvalidation_0-rmse:1.04148\tvalidation_1-rmse:1.01532\n",
      "[9]\tvalidation_0-rmse:1.03833\tvalidation_1-rmse:1.01194\n"
     ]
    },
    {
     "name": "stderr",
     "output_type": "stream",
     "text": [
      "D:\\Anaconda\\lib\\site-packages\\xgboost\\data.py:112: UserWarning: Use subset (sliced data) of np.ndarray is not recommended because it will generate extra copies and increase memory consumption\n",
      "  warnings.warn(\n"
     ]
    },
    {
     "name": "stdout",
     "output_type": "stream",
     "text": [
      "[0]\tvalidation_0-rmse:1.20333\tvalidation_1-rmse:1.13561\n",
      "[1]\tvalidation_0-rmse:1.17382\tvalidation_1-rmse:1.11305\n",
      "[2]\tvalidation_0-rmse:1.16462\tvalidation_1-rmse:1.09953\n",
      "[3]\tvalidation_0-rmse:1.10586\tvalidation_1-rmse:1.06236\n",
      "[4]\tvalidation_0-rmse:1.08899\tvalidation_1-rmse:1.05112\n",
      "[5]\tvalidation_0-rmse:1.08376\tvalidation_1-rmse:1.04513\n",
      "[6]\tvalidation_0-rmse:1.06438\tvalidation_1-rmse:1.03544\n",
      "[7]\tvalidation_0-rmse:1.04169\tvalidation_1-rmse:1.01850\n",
      "[8]\tvalidation_0-rmse:1.03912\tvalidation_1-rmse:1.01551\n",
      "[9]\tvalidation_0-rmse:1.03408\tvalidation_1-rmse:1.01282\n"
     ]
    },
    {
     "name": "stderr",
     "output_type": "stream",
     "text": [
      "D:\\Anaconda\\lib\\site-packages\\xgboost\\data.py:112: UserWarning: Use subset (sliced data) of np.ndarray is not recommended because it will generate extra copies and increase memory consumption\n",
      "  warnings.warn(\n"
     ]
    },
    {
     "name": "stdout",
     "output_type": "stream",
     "text": [
      "[0]\tvalidation_0-rmse:1.20330\tvalidation_1-rmse:1.13501\n",
      "[1]\tvalidation_0-rmse:1.17485\tvalidation_1-rmse:1.11276\n",
      "[2]\tvalidation_0-rmse:1.16256\tvalidation_1-rmse:1.09866\n",
      "[3]\tvalidation_0-rmse:1.10863\tvalidation_1-rmse:1.06245\n",
      "[4]\tvalidation_0-rmse:1.09255\tvalidation_1-rmse:1.05038\n",
      "[5]\tvalidation_0-rmse:1.08742\tvalidation_1-rmse:1.04421\n",
      "[6]\tvalidation_0-rmse:1.06795\tvalidation_1-rmse:1.03464\n",
      "[7]\tvalidation_0-rmse:1.04448\tvalidation_1-rmse:1.01737\n",
      "[8]\tvalidation_0-rmse:1.03944\tvalidation_1-rmse:1.01430\n",
      "[9]\tvalidation_0-rmse:1.03628\tvalidation_1-rmse:1.01097\n"
     ]
    },
    {
     "name": "stderr",
     "output_type": "stream",
     "text": [
      "D:\\Anaconda\\lib\\site-packages\\xgboost\\data.py:112: UserWarning: Use subset (sliced data) of np.ndarray is not recommended because it will generate extra copies and increase memory consumption\n",
      "  warnings.warn(\n"
     ]
    },
    {
     "name": "stdout",
     "output_type": "stream",
     "text": [
      "[0]\tvalidation_0-rmse:1.20151\tvalidation_1-rmse:1.13556\n",
      "[1]\tvalidation_0-rmse:1.17520\tvalidation_1-rmse:1.11357\n",
      "[2]\tvalidation_0-rmse:1.16276\tvalidation_1-rmse:1.10017\n",
      "[3]\tvalidation_0-rmse:1.11017\tvalidation_1-rmse:1.06312\n",
      "[4]\tvalidation_0-rmse:1.09118\tvalidation_1-rmse:1.05197\n",
      "[5]\tvalidation_0-rmse:1.08374\tvalidation_1-rmse:1.04616\n",
      "[6]\tvalidation_0-rmse:1.06772\tvalidation_1-rmse:1.03607\n",
      "[7]\tvalidation_0-rmse:1.04042\tvalidation_1-rmse:1.01913\n",
      "[8]\tvalidation_0-rmse:1.03837\tvalidation_1-rmse:1.01595\n",
      "[9]\tvalidation_0-rmse:1.03555\tvalidation_1-rmse:1.01322\n",
      "[10]\tvalidation_0-rmse:1.03214\tvalidation_1-rmse:1.01075\n",
      "[11]\tvalidation_0-rmse:1.01832\tvalidation_1-rmse:1.00214\n",
      "[12]\tvalidation_0-rmse:1.00778\tvalidation_1-rmse:0.99557\n",
      "[13]\tvalidation_0-rmse:1.00433\tvalidation_1-rmse:0.99381\n",
      "[14]\tvalidation_0-rmse:0.99388\tvalidation_1-rmse:0.99099\n",
      "[15]\tvalidation_0-rmse:0.99000\tvalidation_1-rmse:0.98835\n",
      "[16]\tvalidation_0-rmse:0.98668\tvalidation_1-rmse:0.98729\n",
      "[17]\tvalidation_0-rmse:0.98727\tvalidation_1-rmse:0.98643\n",
      "[18]\tvalidation_0-rmse:0.98254\tvalidation_1-rmse:0.98286\n",
      "[19]\tvalidation_0-rmse:0.98187\tvalidation_1-rmse:0.98200\n",
      "[20]\tvalidation_0-rmse:0.98101\tvalidation_1-rmse:0.98119\n",
      "[21]\tvalidation_0-rmse:0.97912\tvalidation_1-rmse:0.98019\n",
      "[22]\tvalidation_0-rmse:0.97851\tvalidation_1-rmse:0.97949\n",
      "[23]\tvalidation_0-rmse:0.97567\tvalidation_1-rmse:0.97827\n",
      "[24]\tvalidation_0-rmse:0.97432\tvalidation_1-rmse:0.97781\n",
      "[25]\tvalidation_0-rmse:0.97230\tvalidation_1-rmse:0.97655\n",
      "[26]\tvalidation_0-rmse:0.97090\tvalidation_1-rmse:0.97649\n",
      "[27]\tvalidation_0-rmse:0.97034\tvalidation_1-rmse:0.97655\n",
      "[28]\tvalidation_0-rmse:0.96898\tvalidation_1-rmse:0.97705\n",
      "[29]\tvalidation_0-rmse:0.96816\tvalidation_1-rmse:0.97699\n",
      "[30]\tvalidation_0-rmse:0.96741\tvalidation_1-rmse:0.97657\n",
      "[31]\tvalidation_0-rmse:0.96720\tvalidation_1-rmse:0.97646\n",
      "[32]\tvalidation_0-rmse:0.96603\tvalidation_1-rmse:0.97556\n",
      "[33]\tvalidation_0-rmse:0.96566\tvalidation_1-rmse:0.97494\n",
      "[34]\tvalidation_0-rmse:0.96503\tvalidation_1-rmse:0.97447\n",
      "[35]\tvalidation_0-rmse:0.96416\tvalidation_1-rmse:0.97396\n",
      "[36]\tvalidation_0-rmse:0.96381\tvalidation_1-rmse:0.97365\n",
      "[37]\tvalidation_0-rmse:0.96330\tvalidation_1-rmse:0.97398\n",
      "[38]\tvalidation_0-rmse:0.96243\tvalidation_1-rmse:0.97418\n",
      "[39]\tvalidation_0-rmse:0.96218\tvalidation_1-rmse:0.97380\n",
      "[40]\tvalidation_0-rmse:0.96163\tvalidation_1-rmse:0.97335\n",
      "[41]\tvalidation_0-rmse:0.96122\tvalidation_1-rmse:0.97345\n",
      "[42]\tvalidation_0-rmse:0.96088\tvalidation_1-rmse:0.97373\n",
      "[43]\tvalidation_0-rmse:0.96087\tvalidation_1-rmse:0.97341\n",
      "[44]\tvalidation_0-rmse:0.96043\tvalidation_1-rmse:0.97345\n",
      "[45]\tvalidation_0-rmse:0.96016\tvalidation_1-rmse:0.97276\n",
      "[46]\tvalidation_0-rmse:0.95987\tvalidation_1-rmse:0.97237\n",
      "[47]\tvalidation_0-rmse:0.95981\tvalidation_1-rmse:0.97223\n",
      "[48]\tvalidation_0-rmse:0.95965\tvalidation_1-rmse:0.97231\n",
      "[49]\tvalidation_0-rmse:0.95920\tvalidation_1-rmse:0.97243\n",
      "[50]\tvalidation_0-rmse:0.95902\tvalidation_1-rmse:0.97228\n",
      "[51]\tvalidation_0-rmse:0.95858\tvalidation_1-rmse:0.97184\n",
      "[52]\tvalidation_0-rmse:0.95840\tvalidation_1-rmse:0.97218\n",
      "[53]\tvalidation_0-rmse:0.95811\tvalidation_1-rmse:0.97226\n",
      "[54]\tvalidation_0-rmse:0.95776\tvalidation_1-rmse:0.97193\n",
      "[55]\tvalidation_0-rmse:0.95762\tvalidation_1-rmse:0.97238\n",
      "[56]\tvalidation_0-rmse:0.95744\tvalidation_1-rmse:0.97212\n"
     ]
    },
    {
     "name": "stderr",
     "output_type": "stream",
     "text": [
      "D:\\Anaconda\\lib\\site-packages\\xgboost\\data.py:112: UserWarning: Use subset (sliced data) of np.ndarray is not recommended because it will generate extra copies and increase memory consumption\n",
      "  warnings.warn(\n"
     ]
    },
    {
     "name": "stdout",
     "output_type": "stream",
     "text": [
      "[0]\tvalidation_0-rmse:1.20348\tvalidation_1-rmse:1.13523\n",
      "[1]\tvalidation_0-rmse:1.17507\tvalidation_1-rmse:1.11270\n",
      "[2]\tvalidation_0-rmse:1.16312\tvalidation_1-rmse:1.09931\n",
      "[3]\tvalidation_0-rmse:1.10656\tvalidation_1-rmse:1.06218\n",
      "[4]\tvalidation_0-rmse:1.09122\tvalidation_1-rmse:1.05100\n",
      "[5]\tvalidation_0-rmse:1.08571\tvalidation_1-rmse:1.04531\n",
      "[6]\tvalidation_0-rmse:1.06675\tvalidation_1-rmse:1.03587\n",
      "[7]\tvalidation_0-rmse:1.04287\tvalidation_1-rmse:1.01870\n",
      "[8]\tvalidation_0-rmse:1.03807\tvalidation_1-rmse:1.01598\n",
      "[9]\tvalidation_0-rmse:1.03523\tvalidation_1-rmse:1.01320\n",
      "[10]\tvalidation_0-rmse:1.03312\tvalidation_1-rmse:1.01087\n",
      "[11]\tvalidation_0-rmse:1.01917\tvalidation_1-rmse:1.00187\n",
      "[12]\tvalidation_0-rmse:1.00357\tvalidation_1-rmse:0.99540\n",
      "[13]\tvalidation_0-rmse:1.00029\tvalidation_1-rmse:0.99359\n",
      "[14]\tvalidation_0-rmse:0.99475\tvalidation_1-rmse:0.99072\n",
      "[15]\tvalidation_0-rmse:0.99059\tvalidation_1-rmse:0.98858\n",
      "[16]\tvalidation_0-rmse:0.98706\tvalidation_1-rmse:0.98686\n",
      "[17]\tvalidation_0-rmse:0.98755\tvalidation_1-rmse:0.98590\n",
      "[18]\tvalidation_0-rmse:0.98097\tvalidation_1-rmse:0.98245\n",
      "[19]\tvalidation_0-rmse:0.98013\tvalidation_1-rmse:0.98170\n",
      "[20]\tvalidation_0-rmse:0.97908\tvalidation_1-rmse:0.98091\n",
      "[21]\tvalidation_0-rmse:0.97869\tvalidation_1-rmse:0.98000\n",
      "[22]\tvalidation_0-rmse:0.97795\tvalidation_1-rmse:0.97903\n",
      "[23]\tvalidation_0-rmse:0.97567\tvalidation_1-rmse:0.97838\n",
      "[24]\tvalidation_0-rmse:0.97391\tvalidation_1-rmse:0.97738\n",
      "[25]\tvalidation_0-rmse:0.97219\tvalidation_1-rmse:0.97589\n",
      "[26]\tvalidation_0-rmse:0.97040\tvalidation_1-rmse:0.97559\n",
      "[27]\tvalidation_0-rmse:0.96981\tvalidation_1-rmse:0.97562\n",
      "[28]\tvalidation_0-rmse:0.96898\tvalidation_1-rmse:0.97579\n",
      "[29]\tvalidation_0-rmse:0.96812\tvalidation_1-rmse:0.97526\n",
      "[30]\tvalidation_0-rmse:0.96706\tvalidation_1-rmse:0.97533\n",
      "[31]\tvalidation_0-rmse:0.96657\tvalidation_1-rmse:0.97544\n",
      "[32]\tvalidation_0-rmse:0.96559\tvalidation_1-rmse:0.97467\n",
      "[33]\tvalidation_0-rmse:0.96513\tvalidation_1-rmse:0.97407\n",
      "[34]\tvalidation_0-rmse:0.96454\tvalidation_1-rmse:0.97360\n",
      "[35]\tvalidation_0-rmse:0.96418\tvalidation_1-rmse:0.97368\n",
      "[36]\tvalidation_0-rmse:0.96387\tvalidation_1-rmse:0.97334\n",
      "[37]\tvalidation_0-rmse:0.96334\tvalidation_1-rmse:0.97283\n",
      "[38]\tvalidation_0-rmse:0.96261\tvalidation_1-rmse:0.97290\n",
      "[39]\tvalidation_0-rmse:0.96228\tvalidation_1-rmse:0.97239\n",
      "[40]\tvalidation_0-rmse:0.96194\tvalidation_1-rmse:0.97202\n",
      "[41]\tvalidation_0-rmse:0.96143\tvalidation_1-rmse:0.97191\n",
      "[42]\tvalidation_0-rmse:0.96104\tvalidation_1-rmse:0.97217\n",
      "[43]\tvalidation_0-rmse:0.96091\tvalidation_1-rmse:0.97176\n",
      "[44]\tvalidation_0-rmse:0.96050\tvalidation_1-rmse:0.97180\n",
      "[45]\tvalidation_0-rmse:0.96026\tvalidation_1-rmse:0.97104\n",
      "[46]\tvalidation_0-rmse:0.96018\tvalidation_1-rmse:0.97078\n",
      "[47]\tvalidation_0-rmse:0.95963\tvalidation_1-rmse:0.97064\n",
      "[48]\tvalidation_0-rmse:0.95939\tvalidation_1-rmse:0.97060\n",
      "[49]\tvalidation_0-rmse:0.95919\tvalidation_1-rmse:0.97079\n",
      "[50]\tvalidation_0-rmse:0.95901\tvalidation_1-rmse:0.97062\n",
      "[51]\tvalidation_0-rmse:0.95861\tvalidation_1-rmse:0.97032\n",
      "[52]\tvalidation_0-rmse:0.95828\tvalidation_1-rmse:0.97004\n",
      "[53]\tvalidation_0-rmse:0.95821\tvalidation_1-rmse:0.97012\n",
      "[54]\tvalidation_0-rmse:0.95806\tvalidation_1-rmse:0.97035\n",
      "[55]\tvalidation_0-rmse:0.95793\tvalidation_1-rmse:0.97016\n",
      "[56]\tvalidation_0-rmse:0.95786\tvalidation_1-rmse:0.96997\n",
      "[57]\tvalidation_0-rmse:0.95765\tvalidation_1-rmse:0.96922\n",
      "[58]\tvalidation_0-rmse:0.95738\tvalidation_1-rmse:0.96928\n",
      "[59]\tvalidation_0-rmse:0.95722\tvalidation_1-rmse:0.96899\n",
      "[60]\tvalidation_0-rmse:0.95704\tvalidation_1-rmse:0.96893\n",
      "[61]\tvalidation_0-rmse:0.95685\tvalidation_1-rmse:0.96925\n",
      "[62]\tvalidation_0-rmse:0.95673\tvalidation_1-rmse:0.96942\n",
      "[63]\tvalidation_0-rmse:0.95653\tvalidation_1-rmse:0.96912\n",
      "[64]\tvalidation_0-rmse:0.95637\tvalidation_1-rmse:0.96916\n"
     ]
    },
    {
     "name": "stderr",
     "output_type": "stream",
     "text": [
      "D:\\Anaconda\\lib\\site-packages\\xgboost\\data.py:112: UserWarning: Use subset (sliced data) of np.ndarray is not recommended because it will generate extra copies and increase memory consumption\n",
      "  warnings.warn(\n"
     ]
    },
    {
     "name": "stdout",
     "output_type": "stream",
     "text": [
      "[0]\tvalidation_0-rmse:1.20506\tvalidation_1-rmse:1.13511\n",
      "[1]\tvalidation_0-rmse:1.17716\tvalidation_1-rmse:1.11255\n",
      "[2]\tvalidation_0-rmse:1.16460\tvalidation_1-rmse:1.09826\n",
      "[3]\tvalidation_0-rmse:1.10974\tvalidation_1-rmse:1.06221\n",
      "[4]\tvalidation_0-rmse:1.09390\tvalidation_1-rmse:1.05025\n",
      "[5]\tvalidation_0-rmse:1.08426\tvalidation_1-rmse:1.04436\n",
      "[6]\tvalidation_0-rmse:1.06984\tvalidation_1-rmse:1.03518\n",
      "[7]\tvalidation_0-rmse:1.04679\tvalidation_1-rmse:1.01802\n",
      "[8]\tvalidation_0-rmse:1.04148\tvalidation_1-rmse:1.01532\n",
      "[9]\tvalidation_0-rmse:1.03833\tvalidation_1-rmse:1.01194\n",
      "[10]\tvalidation_0-rmse:1.03628\tvalidation_1-rmse:1.01003\n",
      "[11]\tvalidation_0-rmse:1.01819\tvalidation_1-rmse:1.00154\n",
      "[12]\tvalidation_0-rmse:1.00675\tvalidation_1-rmse:0.99454\n",
      "[13]\tvalidation_0-rmse:1.00353\tvalidation_1-rmse:0.99277\n",
      "[14]\tvalidation_0-rmse:0.99751\tvalidation_1-rmse:0.98969\n",
      "[15]\tvalidation_0-rmse:0.99259\tvalidation_1-rmse:0.98685\n",
      "[16]\tvalidation_0-rmse:0.98926\tvalidation_1-rmse:0.98562\n",
      "[17]\tvalidation_0-rmse:0.99017\tvalidation_1-rmse:0.98475\n",
      "[18]\tvalidation_0-rmse:0.98451\tvalidation_1-rmse:0.98138\n",
      "[19]\tvalidation_0-rmse:0.98223\tvalidation_1-rmse:0.98074\n",
      "[20]\tvalidation_0-rmse:0.98171\tvalidation_1-rmse:0.98020\n",
      "[21]\tvalidation_0-rmse:0.98064\tvalidation_1-rmse:0.97916\n",
      "[22]\tvalidation_0-rmse:0.98020\tvalidation_1-rmse:0.97815\n",
      "[23]\tvalidation_0-rmse:0.97813\tvalidation_1-rmse:0.97687\n",
      "[24]\tvalidation_0-rmse:0.97647\tvalidation_1-rmse:0.97636\n",
      "[25]\tvalidation_0-rmse:0.97479\tvalidation_1-rmse:0.97479\n",
      "[26]\tvalidation_0-rmse:0.97266\tvalidation_1-rmse:0.97436\n",
      "[27]\tvalidation_0-rmse:0.97221\tvalidation_1-rmse:0.97436\n",
      "[28]\tvalidation_0-rmse:0.97092\tvalidation_1-rmse:0.97441\n",
      "[29]\tvalidation_0-rmse:0.96951\tvalidation_1-rmse:0.97305\n",
      "[30]\tvalidation_0-rmse:0.96854\tvalidation_1-rmse:0.97311\n",
      "[31]\tvalidation_0-rmse:0.96801\tvalidation_1-rmse:0.97306\n",
      "[32]\tvalidation_0-rmse:0.96718\tvalidation_1-rmse:0.97260\n",
      "[33]\tvalidation_0-rmse:0.96660\tvalidation_1-rmse:0.97209\n",
      "[34]\tvalidation_0-rmse:0.96632\tvalidation_1-rmse:0.97142\n",
      "[35]\tvalidation_0-rmse:0.96566\tvalidation_1-rmse:0.97145\n",
      "[36]\tvalidation_0-rmse:0.96507\tvalidation_1-rmse:0.97113\n",
      "[37]\tvalidation_0-rmse:0.96472\tvalidation_1-rmse:0.97071\n",
      "[38]\tvalidation_0-rmse:0.96387\tvalidation_1-rmse:0.97067\n",
      "[39]\tvalidation_0-rmse:0.96345\tvalidation_1-rmse:0.97034\n",
      "[40]\tvalidation_0-rmse:0.96303\tvalidation_1-rmse:0.97041\n",
      "[41]\tvalidation_0-rmse:0.96253\tvalidation_1-rmse:0.97049\n",
      "[42]\tvalidation_0-rmse:0.96213\tvalidation_1-rmse:0.97074\n",
      "[43]\tvalidation_0-rmse:0.96176\tvalidation_1-rmse:0.97040\n"
     ]
    },
    {
     "name": "stderr",
     "output_type": "stream",
     "text": [
      "D:\\Anaconda\\lib\\site-packages\\xgboost\\data.py:112: UserWarning: Use subset (sliced data) of np.ndarray is not recommended because it will generate extra copies and increase memory consumption\n",
      "  warnings.warn(\n"
     ]
    },
    {
     "name": "stdout",
     "output_type": "stream",
     "text": [
      "[0]\tvalidation_0-rmse:1.20333\tvalidation_1-rmse:1.13561\n",
      "[1]\tvalidation_0-rmse:1.17382\tvalidation_1-rmse:1.11305\n",
      "[2]\tvalidation_0-rmse:1.16462\tvalidation_1-rmse:1.09953\n",
      "[3]\tvalidation_0-rmse:1.10586\tvalidation_1-rmse:1.06236\n",
      "[4]\tvalidation_0-rmse:1.08899\tvalidation_1-rmse:1.05112\n",
      "[5]\tvalidation_0-rmse:1.08376\tvalidation_1-rmse:1.04513\n",
      "[6]\tvalidation_0-rmse:1.06438\tvalidation_1-rmse:1.03544\n",
      "[7]\tvalidation_0-rmse:1.04169\tvalidation_1-rmse:1.01850\n",
      "[8]\tvalidation_0-rmse:1.03912\tvalidation_1-rmse:1.01551\n",
      "[9]\tvalidation_0-rmse:1.03408\tvalidation_1-rmse:1.01282\n",
      "[10]\tvalidation_0-rmse:1.03231\tvalidation_1-rmse:1.01043\n",
      "[11]\tvalidation_0-rmse:1.01843\tvalidation_1-rmse:1.00149\n",
      "[12]\tvalidation_0-rmse:1.00794\tvalidation_1-rmse:0.99491\n",
      "[13]\tvalidation_0-rmse:0.99955\tvalidation_1-rmse:0.99315\n",
      "[14]\tvalidation_0-rmse:0.99383\tvalidation_1-rmse:0.99029\n",
      "[15]\tvalidation_0-rmse:0.98991\tvalidation_1-rmse:0.98832\n",
      "[16]\tvalidation_0-rmse:0.98581\tvalidation_1-rmse:0.98650\n",
      "[17]\tvalidation_0-rmse:0.98691\tvalidation_1-rmse:0.98547\n",
      "[18]\tvalidation_0-rmse:0.98154\tvalidation_1-rmse:0.98201\n",
      "[19]\tvalidation_0-rmse:0.97936\tvalidation_1-rmse:0.98124\n",
      "[20]\tvalidation_0-rmse:0.97871\tvalidation_1-rmse:0.98043\n",
      "[21]\tvalidation_0-rmse:0.97810\tvalidation_1-rmse:0.97952\n",
      "[22]\tvalidation_0-rmse:0.97741\tvalidation_1-rmse:0.97867\n",
      "[23]\tvalidation_0-rmse:0.97521\tvalidation_1-rmse:0.97805\n",
      "[24]\tvalidation_0-rmse:0.97337\tvalidation_1-rmse:0.97701\n",
      "[25]\tvalidation_0-rmse:0.97134\tvalidation_1-rmse:0.97564\n",
      "[26]\tvalidation_0-rmse:0.96970\tvalidation_1-rmse:0.97550\n",
      "[27]\tvalidation_0-rmse:0.96906\tvalidation_1-rmse:0.97555\n",
      "[28]\tvalidation_0-rmse:0.96864\tvalidation_1-rmse:0.97566\n",
      "[29]\tvalidation_0-rmse:0.96747\tvalidation_1-rmse:0.97507\n",
      "[30]\tvalidation_0-rmse:0.96626\tvalidation_1-rmse:0.97518\n",
      "[31]\tvalidation_0-rmse:0.96631\tvalidation_1-rmse:0.97511\n",
      "[32]\tvalidation_0-rmse:0.96534\tvalidation_1-rmse:0.97496\n",
      "[33]\tvalidation_0-rmse:0.96478\tvalidation_1-rmse:0.97444\n",
      "[34]\tvalidation_0-rmse:0.96371\tvalidation_1-rmse:0.97362\n",
      "[35]\tvalidation_0-rmse:0.96349\tvalidation_1-rmse:0.97391\n",
      "[36]\tvalidation_0-rmse:0.96319\tvalidation_1-rmse:0.97358\n",
      "[37]\tvalidation_0-rmse:0.96250\tvalidation_1-rmse:0.97305\n",
      "[38]\tvalidation_0-rmse:0.96206\tvalidation_1-rmse:0.97318\n",
      "[39]\tvalidation_0-rmse:0.96179\tvalidation_1-rmse:0.97270\n",
      "[40]\tvalidation_0-rmse:0.96128\tvalidation_1-rmse:0.97234\n",
      "[41]\tvalidation_0-rmse:0.96088\tvalidation_1-rmse:0.97261\n",
      "[42]\tvalidation_0-rmse:0.96091\tvalidation_1-rmse:0.97249\n",
      "[43]\tvalidation_0-rmse:0.96078\tvalidation_1-rmse:0.97214\n",
      "[44]\tvalidation_0-rmse:0.96035\tvalidation_1-rmse:0.97215\n",
      "[45]\tvalidation_0-rmse:0.96003\tvalidation_1-rmse:0.97138\n",
      "[46]\tvalidation_0-rmse:0.95971\tvalidation_1-rmse:0.97110\n",
      "[47]\tvalidation_0-rmse:0.95957\tvalidation_1-rmse:0.97091\n",
      "[48]\tvalidation_0-rmse:0.95927\tvalidation_1-rmse:0.97103\n",
      "[49]\tvalidation_0-rmse:0.95912\tvalidation_1-rmse:0.97125\n",
      "[50]\tvalidation_0-rmse:0.95895\tvalidation_1-rmse:0.97115\n",
      "[51]\tvalidation_0-rmse:0.95864\tvalidation_1-rmse:0.97088\n",
      "[52]\tvalidation_0-rmse:0.95838\tvalidation_1-rmse:0.97064\n",
      "[53]\tvalidation_0-rmse:0.95795\tvalidation_1-rmse:0.97038\n",
      "[54]\tvalidation_0-rmse:0.95813\tvalidation_1-rmse:0.97071\n",
      "[55]\tvalidation_0-rmse:0.95795\tvalidation_1-rmse:0.97054\n",
      "[56]\tvalidation_0-rmse:0.95762\tvalidation_1-rmse:0.97062\n",
      "[57]\tvalidation_0-rmse:0.95740\tvalidation_1-rmse:0.96983\n",
      "[58]\tvalidation_0-rmse:0.95749\tvalidation_1-rmse:0.96960\n",
      "[59]\tvalidation_0-rmse:0.95737\tvalidation_1-rmse:0.96934\n",
      "[60]\tvalidation_0-rmse:0.95713\tvalidation_1-rmse:0.96940\n",
      "[61]\tvalidation_0-rmse:0.95684\tvalidation_1-rmse:0.96971\n",
      "[62]\tvalidation_0-rmse:0.95661\tvalidation_1-rmse:0.96991\n",
      "[63]\tvalidation_0-rmse:0.95646\tvalidation_1-rmse:0.96958\n"
     ]
    },
    {
     "name": "stderr",
     "output_type": "stream",
     "text": [
      "D:\\Anaconda\\lib\\site-packages\\xgboost\\data.py:112: UserWarning: Use subset (sliced data) of np.ndarray is not recommended because it will generate extra copies and increase memory consumption\n",
      "  warnings.warn(\n"
     ]
    },
    {
     "name": "stdout",
     "output_type": "stream",
     "text": [
      "[0]\tvalidation_0-rmse:1.20330\tvalidation_1-rmse:1.13501\n",
      "[1]\tvalidation_0-rmse:1.17485\tvalidation_1-rmse:1.11276\n",
      "[2]\tvalidation_0-rmse:1.16256\tvalidation_1-rmse:1.09866\n",
      "[3]\tvalidation_0-rmse:1.10863\tvalidation_1-rmse:1.06245\n",
      "[4]\tvalidation_0-rmse:1.09255\tvalidation_1-rmse:1.05038\n",
      "[5]\tvalidation_0-rmse:1.08742\tvalidation_1-rmse:1.04421\n",
      "[6]\tvalidation_0-rmse:1.06795\tvalidation_1-rmse:1.03464\n",
      "[7]\tvalidation_0-rmse:1.04448\tvalidation_1-rmse:1.01737\n",
      "[8]\tvalidation_0-rmse:1.03944\tvalidation_1-rmse:1.01430\n",
      "[9]\tvalidation_0-rmse:1.03628\tvalidation_1-rmse:1.01097\n",
      "[10]\tvalidation_0-rmse:1.03398\tvalidation_1-rmse:1.00883\n",
      "[11]\tvalidation_0-rmse:1.01629\tvalidation_1-rmse:1.00048\n",
      "[12]\tvalidation_0-rmse:1.00544\tvalidation_1-rmse:0.99383\n",
      "[13]\tvalidation_0-rmse:1.00172\tvalidation_1-rmse:0.99206\n",
      "[14]\tvalidation_0-rmse:0.99541\tvalidation_1-rmse:0.98866\n",
      "[15]\tvalidation_0-rmse:0.99064\tvalidation_1-rmse:0.98612\n",
      "[16]\tvalidation_0-rmse:0.98760\tvalidation_1-rmse:0.98511\n",
      "[17]\tvalidation_0-rmse:0.98799\tvalidation_1-rmse:0.98406\n",
      "[18]\tvalidation_0-rmse:0.98103\tvalidation_1-rmse:0.98054\n",
      "[19]\tvalidation_0-rmse:0.98048\tvalidation_1-rmse:0.97972\n",
      "[20]\tvalidation_0-rmse:0.97978\tvalidation_1-rmse:0.97907\n",
      "[21]\tvalidation_0-rmse:0.97876\tvalidation_1-rmse:0.97802\n",
      "[22]\tvalidation_0-rmse:0.97787\tvalidation_1-rmse:0.97724\n",
      "[23]\tvalidation_0-rmse:0.97583\tvalidation_1-rmse:0.97652\n",
      "[24]\tvalidation_0-rmse:0.97431\tvalidation_1-rmse:0.97563\n",
      "[25]\tvalidation_0-rmse:0.97251\tvalidation_1-rmse:0.97421\n",
      "[26]\tvalidation_0-rmse:0.97084\tvalidation_1-rmse:0.97399\n",
      "[27]\tvalidation_0-rmse:0.97017\tvalidation_1-rmse:0.97408\n",
      "[28]\tvalidation_0-rmse:0.96962\tvalidation_1-rmse:0.97408\n",
      "[29]\tvalidation_0-rmse:0.96808\tvalidation_1-rmse:0.97396\n",
      "[30]\tvalidation_0-rmse:0.96745\tvalidation_1-rmse:0.97353\n",
      "[31]\tvalidation_0-rmse:0.96679\tvalidation_1-rmse:0.97344\n",
      "[32]\tvalidation_0-rmse:0.96594\tvalidation_1-rmse:0.97267\n",
      "[33]\tvalidation_0-rmse:0.96560\tvalidation_1-rmse:0.97206\n",
      "[34]\tvalidation_0-rmse:0.96512\tvalidation_1-rmse:0.97164\n",
      "[35]\tvalidation_0-rmse:0.96496\tvalidation_1-rmse:0.97191\n",
      "[36]\tvalidation_0-rmse:0.96410\tvalidation_1-rmse:0.97143\n",
      "[37]\tvalidation_0-rmse:0.96376\tvalidation_1-rmse:0.97049\n",
      "[38]\tvalidation_0-rmse:0.96297\tvalidation_1-rmse:0.97060\n",
      "[39]\tvalidation_0-rmse:0.96265\tvalidation_1-rmse:0.97012\n",
      "[40]\tvalidation_0-rmse:0.96212\tvalidation_1-rmse:0.96971\n",
      "[41]\tvalidation_0-rmse:0.96168\tvalidation_1-rmse:0.96962\n",
      "[42]\tvalidation_0-rmse:0.96126\tvalidation_1-rmse:0.96974\n",
      "[43]\tvalidation_0-rmse:0.96111\tvalidation_1-rmse:0.96937\n",
      "[44]\tvalidation_0-rmse:0.96076\tvalidation_1-rmse:0.96942\n",
      "[45]\tvalidation_0-rmse:0.96056\tvalidation_1-rmse:0.96914\n",
      "[46]\tvalidation_0-rmse:0.96038\tvalidation_1-rmse:0.96884\n",
      "[47]\tvalidation_0-rmse:0.95987\tvalidation_1-rmse:0.96861\n",
      "[48]\tvalidation_0-rmse:0.95950\tvalidation_1-rmse:0.96870\n",
      "[49]\tvalidation_0-rmse:0.95930\tvalidation_1-rmse:0.96893\n",
      "[50]\tvalidation_0-rmse:0.95925\tvalidation_1-rmse:0.96869\n",
      "[51]\tvalidation_0-rmse:0.95892\tvalidation_1-rmse:0.96832\n",
      "[52]\tvalidation_0-rmse:0.95861\tvalidation_1-rmse:0.96858\n",
      "[53]\tvalidation_0-rmse:0.95833\tvalidation_1-rmse:0.96865\n",
      "[54]\tvalidation_0-rmse:0.95806\tvalidation_1-rmse:0.96846\n",
      "[55]\tvalidation_0-rmse:0.95807\tvalidation_1-rmse:0.96881\n"
     ]
    },
    {
     "name": "stderr",
     "output_type": "stream",
     "text": [
      "D:\\Anaconda\\lib\\site-packages\\xgboost\\data.py:112: UserWarning: Use subset (sliced data) of np.ndarray is not recommended because it will generate extra copies and increase memory consumption\n",
      "  warnings.warn(\n"
     ]
    },
    {
     "name": "stdout",
     "output_type": "stream",
     "text": [
      "[0]\tvalidation_0-rmse:1.20151\tvalidation_1-rmse:1.13556\n"
     ]
    },
    {
     "name": "stderr",
     "output_type": "stream",
     "text": [
      "D:\\Anaconda\\lib\\site-packages\\xgboost\\data.py:112: UserWarning: Use subset (sliced data) of np.ndarray is not recommended because it will generate extra copies and increase memory consumption\n",
      "  warnings.warn(\n"
     ]
    },
    {
     "name": "stdout",
     "output_type": "stream",
     "text": [
      "[0]\tvalidation_0-rmse:1.20348\tvalidation_1-rmse:1.13523\n"
     ]
    },
    {
     "name": "stderr",
     "output_type": "stream",
     "text": [
      "D:\\Anaconda\\lib\\site-packages\\xgboost\\data.py:112: UserWarning: Use subset (sliced data) of np.ndarray is not recommended because it will generate extra copies and increase memory consumption\n",
      "  warnings.warn(\n"
     ]
    },
    {
     "name": "stdout",
     "output_type": "stream",
     "text": [
      "[0]\tvalidation_0-rmse:1.20506\tvalidation_1-rmse:1.13511\n"
     ]
    },
    {
     "name": "stderr",
     "output_type": "stream",
     "text": [
      "D:\\Anaconda\\lib\\site-packages\\xgboost\\data.py:112: UserWarning: Use subset (sliced data) of np.ndarray is not recommended because it will generate extra copies and increase memory consumption\n",
      "  warnings.warn(\n"
     ]
    },
    {
     "name": "stdout",
     "output_type": "stream",
     "text": [
      "[0]\tvalidation_0-rmse:1.20333\tvalidation_1-rmse:1.13561\n"
     ]
    },
    {
     "name": "stderr",
     "output_type": "stream",
     "text": [
      "D:\\Anaconda\\lib\\site-packages\\xgboost\\data.py:112: UserWarning: Use subset (sliced data) of np.ndarray is not recommended because it will generate extra copies and increase memory consumption\n",
      "  warnings.warn(\n"
     ]
    },
    {
     "name": "stdout",
     "output_type": "stream",
     "text": [
      "[0]\tvalidation_0-rmse:1.20330\tvalidation_1-rmse:1.13501\n"
     ]
    },
    {
     "name": "stderr",
     "output_type": "stream",
     "text": [
      "D:\\Anaconda\\lib\\site-packages\\xgboost\\data.py:112: UserWarning: Use subset (sliced data) of np.ndarray is not recommended because it will generate extra copies and increase memory consumption\n",
      "  warnings.warn(\n"
     ]
    },
    {
     "name": "stdout",
     "output_type": "stream",
     "text": [
      "[0]\tvalidation_0-rmse:1.20151\tvalidation_1-rmse:1.13556\n",
      "[1]\tvalidation_0-rmse:1.17520\tvalidation_1-rmse:1.11357\n",
      "[2]\tvalidation_0-rmse:1.16276\tvalidation_1-rmse:1.10017\n",
      "[3]\tvalidation_0-rmse:1.11017\tvalidation_1-rmse:1.06312\n",
      "[4]\tvalidation_0-rmse:1.09118\tvalidation_1-rmse:1.05197\n",
      "[5]\tvalidation_0-rmse:1.08374\tvalidation_1-rmse:1.04616\n",
      "[6]\tvalidation_0-rmse:1.06772\tvalidation_1-rmse:1.03607\n",
      "[7]\tvalidation_0-rmse:1.04042\tvalidation_1-rmse:1.01913\n",
      "[8]\tvalidation_0-rmse:1.03837\tvalidation_1-rmse:1.01595\n",
      "[9]\tvalidation_0-rmse:1.03555\tvalidation_1-rmse:1.01322\n"
     ]
    },
    {
     "name": "stderr",
     "output_type": "stream",
     "text": [
      "D:\\Anaconda\\lib\\site-packages\\xgboost\\data.py:112: UserWarning: Use subset (sliced data) of np.ndarray is not recommended because it will generate extra copies and increase memory consumption\n",
      "  warnings.warn(\n"
     ]
    },
    {
     "name": "stdout",
     "output_type": "stream",
     "text": [
      "[0]\tvalidation_0-rmse:1.20348\tvalidation_1-rmse:1.13523\n",
      "[1]\tvalidation_0-rmse:1.17507\tvalidation_1-rmse:1.11270\n",
      "[2]\tvalidation_0-rmse:1.16312\tvalidation_1-rmse:1.09931\n",
      "[3]\tvalidation_0-rmse:1.10656\tvalidation_1-rmse:1.06218\n",
      "[4]\tvalidation_0-rmse:1.09122\tvalidation_1-rmse:1.05100\n",
      "[5]\tvalidation_0-rmse:1.08571\tvalidation_1-rmse:1.04531\n",
      "[6]\tvalidation_0-rmse:1.06675\tvalidation_1-rmse:1.03587\n",
      "[7]\tvalidation_0-rmse:1.04287\tvalidation_1-rmse:1.01870\n",
      "[8]\tvalidation_0-rmse:1.03807\tvalidation_1-rmse:1.01598\n",
      "[9]\tvalidation_0-rmse:1.03523\tvalidation_1-rmse:1.01320\n"
     ]
    },
    {
     "name": "stderr",
     "output_type": "stream",
     "text": [
      "D:\\Anaconda\\lib\\site-packages\\xgboost\\data.py:112: UserWarning: Use subset (sliced data) of np.ndarray is not recommended because it will generate extra copies and increase memory consumption\n",
      "  warnings.warn(\n"
     ]
    },
    {
     "name": "stdout",
     "output_type": "stream",
     "text": [
      "[0]\tvalidation_0-rmse:1.20506\tvalidation_1-rmse:1.13511\n",
      "[1]\tvalidation_0-rmse:1.17716\tvalidation_1-rmse:1.11255\n",
      "[2]\tvalidation_0-rmse:1.16460\tvalidation_1-rmse:1.09826\n",
      "[3]\tvalidation_0-rmse:1.10974\tvalidation_1-rmse:1.06221\n",
      "[4]\tvalidation_0-rmse:1.09390\tvalidation_1-rmse:1.05025\n",
      "[5]\tvalidation_0-rmse:1.08426\tvalidation_1-rmse:1.04436\n",
      "[6]\tvalidation_0-rmse:1.06984\tvalidation_1-rmse:1.03518\n",
      "[7]\tvalidation_0-rmse:1.04679\tvalidation_1-rmse:1.01802\n",
      "[8]\tvalidation_0-rmse:1.04148\tvalidation_1-rmse:1.01532\n",
      "[9]\tvalidation_0-rmse:1.03833\tvalidation_1-rmse:1.01194\n"
     ]
    },
    {
     "name": "stderr",
     "output_type": "stream",
     "text": [
      "D:\\Anaconda\\lib\\site-packages\\xgboost\\data.py:112: UserWarning: Use subset (sliced data) of np.ndarray is not recommended because it will generate extra copies and increase memory consumption\n",
      "  warnings.warn(\n"
     ]
    },
    {
     "name": "stdout",
     "output_type": "stream",
     "text": [
      "[0]\tvalidation_0-rmse:1.20333\tvalidation_1-rmse:1.13561\n",
      "[1]\tvalidation_0-rmse:1.17382\tvalidation_1-rmse:1.11305\n",
      "[2]\tvalidation_0-rmse:1.16462\tvalidation_1-rmse:1.09953\n",
      "[3]\tvalidation_0-rmse:1.10586\tvalidation_1-rmse:1.06236\n",
      "[4]\tvalidation_0-rmse:1.08899\tvalidation_1-rmse:1.05112\n",
      "[5]\tvalidation_0-rmse:1.08376\tvalidation_1-rmse:1.04513\n",
      "[6]\tvalidation_0-rmse:1.06438\tvalidation_1-rmse:1.03544\n",
      "[7]\tvalidation_0-rmse:1.04169\tvalidation_1-rmse:1.01850\n",
      "[8]\tvalidation_0-rmse:1.03912\tvalidation_1-rmse:1.01551\n",
      "[9]\tvalidation_0-rmse:1.03408\tvalidation_1-rmse:1.01282\n"
     ]
    },
    {
     "name": "stderr",
     "output_type": "stream",
     "text": [
      "D:\\Anaconda\\lib\\site-packages\\xgboost\\data.py:112: UserWarning: Use subset (sliced data) of np.ndarray is not recommended because it will generate extra copies and increase memory consumption\n",
      "  warnings.warn(\n"
     ]
    },
    {
     "name": "stdout",
     "output_type": "stream",
     "text": [
      "[0]\tvalidation_0-rmse:1.20330\tvalidation_1-rmse:1.13501\n",
      "[1]\tvalidation_0-rmse:1.17485\tvalidation_1-rmse:1.11276\n",
      "[2]\tvalidation_0-rmse:1.16256\tvalidation_1-rmse:1.09866\n",
      "[3]\tvalidation_0-rmse:1.10863\tvalidation_1-rmse:1.06245\n",
      "[4]\tvalidation_0-rmse:1.09255\tvalidation_1-rmse:1.05038\n",
      "[5]\tvalidation_0-rmse:1.08742\tvalidation_1-rmse:1.04421\n",
      "[6]\tvalidation_0-rmse:1.06795\tvalidation_1-rmse:1.03464\n",
      "[7]\tvalidation_0-rmse:1.04448\tvalidation_1-rmse:1.01737\n",
      "[8]\tvalidation_0-rmse:1.03944\tvalidation_1-rmse:1.01430\n",
      "[9]\tvalidation_0-rmse:1.03628\tvalidation_1-rmse:1.01097\n"
     ]
    },
    {
     "name": "stderr",
     "output_type": "stream",
     "text": [
      "D:\\Anaconda\\lib\\site-packages\\xgboost\\data.py:112: UserWarning: Use subset (sliced data) of np.ndarray is not recommended because it will generate extra copies and increase memory consumption\n",
      "  warnings.warn(\n"
     ]
    },
    {
     "name": "stdout",
     "output_type": "stream",
     "text": [
      "[0]\tvalidation_0-rmse:1.20151\tvalidation_1-rmse:1.13556\n",
      "[1]\tvalidation_0-rmse:1.17520\tvalidation_1-rmse:1.11357\n",
      "[2]\tvalidation_0-rmse:1.16276\tvalidation_1-rmse:1.10017\n",
      "[3]\tvalidation_0-rmse:1.11017\tvalidation_1-rmse:1.06312\n",
      "[4]\tvalidation_0-rmse:1.09118\tvalidation_1-rmse:1.05197\n",
      "[5]\tvalidation_0-rmse:1.08374\tvalidation_1-rmse:1.04616\n",
      "[6]\tvalidation_0-rmse:1.06772\tvalidation_1-rmse:1.03607\n",
      "[7]\tvalidation_0-rmse:1.04042\tvalidation_1-rmse:1.01913\n",
      "[8]\tvalidation_0-rmse:1.03837\tvalidation_1-rmse:1.01595\n",
      "[9]\tvalidation_0-rmse:1.03555\tvalidation_1-rmse:1.01322\n",
      "[10]\tvalidation_0-rmse:1.03214\tvalidation_1-rmse:1.01075\n",
      "[11]\tvalidation_0-rmse:1.01832\tvalidation_1-rmse:1.00214\n",
      "[12]\tvalidation_0-rmse:1.00778\tvalidation_1-rmse:0.99557\n",
      "[13]\tvalidation_0-rmse:1.00433\tvalidation_1-rmse:0.99381\n",
      "[14]\tvalidation_0-rmse:0.99388\tvalidation_1-rmse:0.99099\n",
      "[15]\tvalidation_0-rmse:0.99000\tvalidation_1-rmse:0.98835\n",
      "[16]\tvalidation_0-rmse:0.98668\tvalidation_1-rmse:0.98729\n",
      "[17]\tvalidation_0-rmse:0.98727\tvalidation_1-rmse:0.98643\n",
      "[18]\tvalidation_0-rmse:0.98254\tvalidation_1-rmse:0.98286\n",
      "[19]\tvalidation_0-rmse:0.98187\tvalidation_1-rmse:0.98200\n",
      "[20]\tvalidation_0-rmse:0.98101\tvalidation_1-rmse:0.98119\n",
      "[21]\tvalidation_0-rmse:0.97912\tvalidation_1-rmse:0.98019\n",
      "[22]\tvalidation_0-rmse:0.97851\tvalidation_1-rmse:0.97949\n",
      "[23]\tvalidation_0-rmse:0.97567\tvalidation_1-rmse:0.97827\n",
      "[24]\tvalidation_0-rmse:0.97432\tvalidation_1-rmse:0.97781\n",
      "[25]\tvalidation_0-rmse:0.97230\tvalidation_1-rmse:0.97655\n",
      "[26]\tvalidation_0-rmse:0.97090\tvalidation_1-rmse:0.97649\n",
      "[27]\tvalidation_0-rmse:0.97034\tvalidation_1-rmse:0.97655\n",
      "[28]\tvalidation_0-rmse:0.96898\tvalidation_1-rmse:0.97705\n",
      "[29]\tvalidation_0-rmse:0.96816\tvalidation_1-rmse:0.97699\n",
      "[30]\tvalidation_0-rmse:0.96741\tvalidation_1-rmse:0.97657\n",
      "[31]\tvalidation_0-rmse:0.96720\tvalidation_1-rmse:0.97646\n",
      "[32]\tvalidation_0-rmse:0.96603\tvalidation_1-rmse:0.97556\n",
      "[33]\tvalidation_0-rmse:0.96566\tvalidation_1-rmse:0.97494\n",
      "[34]\tvalidation_0-rmse:0.96503\tvalidation_1-rmse:0.97447\n",
      "[35]\tvalidation_0-rmse:0.96416\tvalidation_1-rmse:0.97396\n",
      "[36]\tvalidation_0-rmse:0.96381\tvalidation_1-rmse:0.97365\n",
      "[37]\tvalidation_0-rmse:0.96330\tvalidation_1-rmse:0.97398\n",
      "[38]\tvalidation_0-rmse:0.96243\tvalidation_1-rmse:0.97418\n",
      "[39]\tvalidation_0-rmse:0.96218\tvalidation_1-rmse:0.97380\n",
      "[40]\tvalidation_0-rmse:0.96163\tvalidation_1-rmse:0.97335\n",
      "[41]\tvalidation_0-rmse:0.96122\tvalidation_1-rmse:0.97345\n",
      "[42]\tvalidation_0-rmse:0.96088\tvalidation_1-rmse:0.97373\n",
      "[43]\tvalidation_0-rmse:0.96087\tvalidation_1-rmse:0.97341\n",
      "[44]\tvalidation_0-rmse:0.96043\tvalidation_1-rmse:0.97345\n",
      "[45]\tvalidation_0-rmse:0.96016\tvalidation_1-rmse:0.97276\n",
      "[46]\tvalidation_0-rmse:0.95987\tvalidation_1-rmse:0.97237\n",
      "[47]\tvalidation_0-rmse:0.95981\tvalidation_1-rmse:0.97223\n",
      "[48]\tvalidation_0-rmse:0.95965\tvalidation_1-rmse:0.97231\n",
      "[49]\tvalidation_0-rmse:0.95920\tvalidation_1-rmse:0.97243\n",
      "[50]\tvalidation_0-rmse:0.95902\tvalidation_1-rmse:0.97228\n",
      "[51]\tvalidation_0-rmse:0.95858\tvalidation_1-rmse:0.97184\n",
      "[52]\tvalidation_0-rmse:0.95840\tvalidation_1-rmse:0.97218\n",
      "[53]\tvalidation_0-rmse:0.95811\tvalidation_1-rmse:0.97226\n",
      "[54]\tvalidation_0-rmse:0.95776\tvalidation_1-rmse:0.97193\n",
      "[55]\tvalidation_0-rmse:0.95762\tvalidation_1-rmse:0.97238\n",
      "[56]\tvalidation_0-rmse:0.95744\tvalidation_1-rmse:0.97212\n"
     ]
    },
    {
     "name": "stderr",
     "output_type": "stream",
     "text": [
      "D:\\Anaconda\\lib\\site-packages\\xgboost\\data.py:112: UserWarning: Use subset (sliced data) of np.ndarray is not recommended because it will generate extra copies and increase memory consumption\n",
      "  warnings.warn(\n"
     ]
    },
    {
     "name": "stdout",
     "output_type": "stream",
     "text": [
      "[0]\tvalidation_0-rmse:1.20348\tvalidation_1-rmse:1.13523\n",
      "[1]\tvalidation_0-rmse:1.17507\tvalidation_1-rmse:1.11270\n",
      "[2]\tvalidation_0-rmse:1.16312\tvalidation_1-rmse:1.09931\n",
      "[3]\tvalidation_0-rmse:1.10656\tvalidation_1-rmse:1.06218\n",
      "[4]\tvalidation_0-rmse:1.09122\tvalidation_1-rmse:1.05100\n",
      "[5]\tvalidation_0-rmse:1.08571\tvalidation_1-rmse:1.04531\n",
      "[6]\tvalidation_0-rmse:1.06675\tvalidation_1-rmse:1.03587\n",
      "[7]\tvalidation_0-rmse:1.04287\tvalidation_1-rmse:1.01870\n",
      "[8]\tvalidation_0-rmse:1.03807\tvalidation_1-rmse:1.01598\n",
      "[9]\tvalidation_0-rmse:1.03523\tvalidation_1-rmse:1.01320\n",
      "[10]\tvalidation_0-rmse:1.03312\tvalidation_1-rmse:1.01087\n",
      "[11]\tvalidation_0-rmse:1.01917\tvalidation_1-rmse:1.00187\n",
      "[12]\tvalidation_0-rmse:1.00357\tvalidation_1-rmse:0.99540\n",
      "[13]\tvalidation_0-rmse:1.00029\tvalidation_1-rmse:0.99359\n",
      "[14]\tvalidation_0-rmse:0.99475\tvalidation_1-rmse:0.99072\n",
      "[15]\tvalidation_0-rmse:0.99059\tvalidation_1-rmse:0.98858\n",
      "[16]\tvalidation_0-rmse:0.98706\tvalidation_1-rmse:0.98686\n",
      "[17]\tvalidation_0-rmse:0.98755\tvalidation_1-rmse:0.98590\n",
      "[18]\tvalidation_0-rmse:0.98097\tvalidation_1-rmse:0.98245\n",
      "[19]\tvalidation_0-rmse:0.98013\tvalidation_1-rmse:0.98170\n",
      "[20]\tvalidation_0-rmse:0.97908\tvalidation_1-rmse:0.98091\n",
      "[21]\tvalidation_0-rmse:0.97869\tvalidation_1-rmse:0.98000\n",
      "[22]\tvalidation_0-rmse:0.97795\tvalidation_1-rmse:0.97903\n",
      "[23]\tvalidation_0-rmse:0.97567\tvalidation_1-rmse:0.97838\n",
      "[24]\tvalidation_0-rmse:0.97391\tvalidation_1-rmse:0.97738\n",
      "[25]\tvalidation_0-rmse:0.97219\tvalidation_1-rmse:0.97589\n",
      "[26]\tvalidation_0-rmse:0.97040\tvalidation_1-rmse:0.97559\n",
      "[27]\tvalidation_0-rmse:0.96981\tvalidation_1-rmse:0.97562\n",
      "[28]\tvalidation_0-rmse:0.96898\tvalidation_1-rmse:0.97579\n",
      "[29]\tvalidation_0-rmse:0.96812\tvalidation_1-rmse:0.97526\n",
      "[30]\tvalidation_0-rmse:0.96706\tvalidation_1-rmse:0.97533\n",
      "[31]\tvalidation_0-rmse:0.96657\tvalidation_1-rmse:0.97544\n",
      "[32]\tvalidation_0-rmse:0.96559\tvalidation_1-rmse:0.97467\n",
      "[33]\tvalidation_0-rmse:0.96513\tvalidation_1-rmse:0.97407\n",
      "[34]\tvalidation_0-rmse:0.96454\tvalidation_1-rmse:0.97360\n",
      "[35]\tvalidation_0-rmse:0.96418\tvalidation_1-rmse:0.97368\n",
      "[36]\tvalidation_0-rmse:0.96387\tvalidation_1-rmse:0.97334\n",
      "[37]\tvalidation_0-rmse:0.96334\tvalidation_1-rmse:0.97283\n",
      "[38]\tvalidation_0-rmse:0.96261\tvalidation_1-rmse:0.97290\n",
      "[39]\tvalidation_0-rmse:0.96228\tvalidation_1-rmse:0.97239\n",
      "[40]\tvalidation_0-rmse:0.96194\tvalidation_1-rmse:0.97202\n",
      "[41]\tvalidation_0-rmse:0.96143\tvalidation_1-rmse:0.97191\n",
      "[42]\tvalidation_0-rmse:0.96104\tvalidation_1-rmse:0.97217\n",
      "[43]\tvalidation_0-rmse:0.96091\tvalidation_1-rmse:0.97176\n",
      "[44]\tvalidation_0-rmse:0.96050\tvalidation_1-rmse:0.97180\n",
      "[45]\tvalidation_0-rmse:0.96026\tvalidation_1-rmse:0.97104\n",
      "[46]\tvalidation_0-rmse:0.96018\tvalidation_1-rmse:0.97078\n",
      "[47]\tvalidation_0-rmse:0.95963\tvalidation_1-rmse:0.97064\n",
      "[48]\tvalidation_0-rmse:0.95939\tvalidation_1-rmse:0.97060\n",
      "[49]\tvalidation_0-rmse:0.95919\tvalidation_1-rmse:0.97079\n",
      "[50]\tvalidation_0-rmse:0.95901\tvalidation_1-rmse:0.97062\n",
      "[51]\tvalidation_0-rmse:0.95861\tvalidation_1-rmse:0.97032\n",
      "[52]\tvalidation_0-rmse:0.95828\tvalidation_1-rmse:0.97004\n",
      "[53]\tvalidation_0-rmse:0.95821\tvalidation_1-rmse:0.97012\n",
      "[54]\tvalidation_0-rmse:0.95806\tvalidation_1-rmse:0.97035\n",
      "[55]\tvalidation_0-rmse:0.95793\tvalidation_1-rmse:0.97016\n",
      "[56]\tvalidation_0-rmse:0.95786\tvalidation_1-rmse:0.96997\n",
      "[57]\tvalidation_0-rmse:0.95765\tvalidation_1-rmse:0.96922\n",
      "[58]\tvalidation_0-rmse:0.95738\tvalidation_1-rmse:0.96928\n",
      "[59]\tvalidation_0-rmse:0.95722\tvalidation_1-rmse:0.96899\n",
      "[60]\tvalidation_0-rmse:0.95704\tvalidation_1-rmse:0.96893\n",
      "[61]\tvalidation_0-rmse:0.95685\tvalidation_1-rmse:0.96925\n",
      "[62]\tvalidation_0-rmse:0.95673\tvalidation_1-rmse:0.96942\n",
      "[63]\tvalidation_0-rmse:0.95653\tvalidation_1-rmse:0.96912\n",
      "[64]\tvalidation_0-rmse:0.95637\tvalidation_1-rmse:0.96916\n",
      "[65]\tvalidation_0-rmse:0.95632\tvalidation_1-rmse:0.96908\n"
     ]
    },
    {
     "name": "stderr",
     "output_type": "stream",
     "text": [
      "D:\\Anaconda\\lib\\site-packages\\xgboost\\data.py:112: UserWarning: Use subset (sliced data) of np.ndarray is not recommended because it will generate extra copies and increase memory consumption\n",
      "  warnings.warn(\n"
     ]
    },
    {
     "name": "stdout",
     "output_type": "stream",
     "text": [
      "[0]\tvalidation_0-rmse:1.20506\tvalidation_1-rmse:1.13511\n",
      "[1]\tvalidation_0-rmse:1.17716\tvalidation_1-rmse:1.11255\n",
      "[2]\tvalidation_0-rmse:1.16460\tvalidation_1-rmse:1.09826\n",
      "[3]\tvalidation_0-rmse:1.10974\tvalidation_1-rmse:1.06221\n",
      "[4]\tvalidation_0-rmse:1.09390\tvalidation_1-rmse:1.05025\n",
      "[5]\tvalidation_0-rmse:1.08426\tvalidation_1-rmse:1.04436\n",
      "[6]\tvalidation_0-rmse:1.06984\tvalidation_1-rmse:1.03518\n",
      "[7]\tvalidation_0-rmse:1.04679\tvalidation_1-rmse:1.01802\n",
      "[8]\tvalidation_0-rmse:1.04148\tvalidation_1-rmse:1.01532\n",
      "[9]\tvalidation_0-rmse:1.03833\tvalidation_1-rmse:1.01194\n",
      "[10]\tvalidation_0-rmse:1.03628\tvalidation_1-rmse:1.01003\n",
      "[11]\tvalidation_0-rmse:1.01819\tvalidation_1-rmse:1.00154\n",
      "[12]\tvalidation_0-rmse:1.00675\tvalidation_1-rmse:0.99454\n",
      "[13]\tvalidation_0-rmse:1.00353\tvalidation_1-rmse:0.99277\n",
      "[14]\tvalidation_0-rmse:0.99751\tvalidation_1-rmse:0.98969\n",
      "[15]\tvalidation_0-rmse:0.99259\tvalidation_1-rmse:0.98685\n",
      "[16]\tvalidation_0-rmse:0.98926\tvalidation_1-rmse:0.98562\n",
      "[17]\tvalidation_0-rmse:0.99017\tvalidation_1-rmse:0.98475\n",
      "[18]\tvalidation_0-rmse:0.98451\tvalidation_1-rmse:0.98138\n",
      "[19]\tvalidation_0-rmse:0.98223\tvalidation_1-rmse:0.98074\n",
      "[20]\tvalidation_0-rmse:0.98171\tvalidation_1-rmse:0.98020\n",
      "[21]\tvalidation_0-rmse:0.98064\tvalidation_1-rmse:0.97916\n",
      "[22]\tvalidation_0-rmse:0.98020\tvalidation_1-rmse:0.97815\n",
      "[23]\tvalidation_0-rmse:0.97813\tvalidation_1-rmse:0.97687\n",
      "[24]\tvalidation_0-rmse:0.97647\tvalidation_1-rmse:0.97636\n",
      "[25]\tvalidation_0-rmse:0.97479\tvalidation_1-rmse:0.97479\n",
      "[26]\tvalidation_0-rmse:0.97266\tvalidation_1-rmse:0.97436\n",
      "[27]\tvalidation_0-rmse:0.97221\tvalidation_1-rmse:0.97436\n",
      "[28]\tvalidation_0-rmse:0.97092\tvalidation_1-rmse:0.97441\n",
      "[29]\tvalidation_0-rmse:0.96951\tvalidation_1-rmse:0.97305\n",
      "[30]\tvalidation_0-rmse:0.96854\tvalidation_1-rmse:0.97311\n",
      "[31]\tvalidation_0-rmse:0.96801\tvalidation_1-rmse:0.97306\n",
      "[32]\tvalidation_0-rmse:0.96718\tvalidation_1-rmse:0.97260\n",
      "[33]\tvalidation_0-rmse:0.96660\tvalidation_1-rmse:0.97209\n",
      "[34]\tvalidation_0-rmse:0.96632\tvalidation_1-rmse:0.97142\n",
      "[35]\tvalidation_0-rmse:0.96566\tvalidation_1-rmse:0.97145\n",
      "[36]\tvalidation_0-rmse:0.96507\tvalidation_1-rmse:0.97113\n",
      "[37]\tvalidation_0-rmse:0.96472\tvalidation_1-rmse:0.97071\n",
      "[38]\tvalidation_0-rmse:0.96387\tvalidation_1-rmse:0.97067\n",
      "[39]\tvalidation_0-rmse:0.96345\tvalidation_1-rmse:0.97034\n",
      "[40]\tvalidation_0-rmse:0.96303\tvalidation_1-rmse:0.97041\n",
      "[41]\tvalidation_0-rmse:0.96253\tvalidation_1-rmse:0.97049\n",
      "[42]\tvalidation_0-rmse:0.96213\tvalidation_1-rmse:0.97074\n",
      "[43]\tvalidation_0-rmse:0.96176\tvalidation_1-rmse:0.97040\n"
     ]
    },
    {
     "name": "stderr",
     "output_type": "stream",
     "text": [
      "D:\\Anaconda\\lib\\site-packages\\xgboost\\data.py:112: UserWarning: Use subset (sliced data) of np.ndarray is not recommended because it will generate extra copies and increase memory consumption\n",
      "  warnings.warn(\n"
     ]
    },
    {
     "name": "stdout",
     "output_type": "stream",
     "text": [
      "[0]\tvalidation_0-rmse:1.20333\tvalidation_1-rmse:1.13561\n",
      "[1]\tvalidation_0-rmse:1.17382\tvalidation_1-rmse:1.11305\n",
      "[2]\tvalidation_0-rmse:1.16462\tvalidation_1-rmse:1.09953\n",
      "[3]\tvalidation_0-rmse:1.10586\tvalidation_1-rmse:1.06236\n",
      "[4]\tvalidation_0-rmse:1.08899\tvalidation_1-rmse:1.05112\n",
      "[5]\tvalidation_0-rmse:1.08376\tvalidation_1-rmse:1.04513\n",
      "[6]\tvalidation_0-rmse:1.06438\tvalidation_1-rmse:1.03544\n",
      "[7]\tvalidation_0-rmse:1.04169\tvalidation_1-rmse:1.01850\n",
      "[8]\tvalidation_0-rmse:1.03912\tvalidation_1-rmse:1.01551\n",
      "[9]\tvalidation_0-rmse:1.03408\tvalidation_1-rmse:1.01282\n",
      "[10]\tvalidation_0-rmse:1.03231\tvalidation_1-rmse:1.01043\n",
      "[11]\tvalidation_0-rmse:1.01843\tvalidation_1-rmse:1.00149\n",
      "[12]\tvalidation_0-rmse:1.00794\tvalidation_1-rmse:0.99491\n",
      "[13]\tvalidation_0-rmse:0.99955\tvalidation_1-rmse:0.99315\n",
      "[14]\tvalidation_0-rmse:0.99383\tvalidation_1-rmse:0.99029\n",
      "[15]\tvalidation_0-rmse:0.98991\tvalidation_1-rmse:0.98832\n",
      "[16]\tvalidation_0-rmse:0.98581\tvalidation_1-rmse:0.98650\n",
      "[17]\tvalidation_0-rmse:0.98691\tvalidation_1-rmse:0.98547\n",
      "[18]\tvalidation_0-rmse:0.98154\tvalidation_1-rmse:0.98201\n",
      "[19]\tvalidation_0-rmse:0.97936\tvalidation_1-rmse:0.98124\n",
      "[20]\tvalidation_0-rmse:0.97871\tvalidation_1-rmse:0.98043\n",
      "[21]\tvalidation_0-rmse:0.97810\tvalidation_1-rmse:0.97952\n",
      "[22]\tvalidation_0-rmse:0.97741\tvalidation_1-rmse:0.97867\n",
      "[23]\tvalidation_0-rmse:0.97521\tvalidation_1-rmse:0.97805\n",
      "[24]\tvalidation_0-rmse:0.97337\tvalidation_1-rmse:0.97701\n",
      "[25]\tvalidation_0-rmse:0.97134\tvalidation_1-rmse:0.97564\n",
      "[26]\tvalidation_0-rmse:0.96970\tvalidation_1-rmse:0.97550\n",
      "[27]\tvalidation_0-rmse:0.96906\tvalidation_1-rmse:0.97555\n",
      "[28]\tvalidation_0-rmse:0.96864\tvalidation_1-rmse:0.97566\n",
      "[29]\tvalidation_0-rmse:0.96747\tvalidation_1-rmse:0.97507\n",
      "[30]\tvalidation_0-rmse:0.96626\tvalidation_1-rmse:0.97518\n",
      "[31]\tvalidation_0-rmse:0.96631\tvalidation_1-rmse:0.97511\n",
      "[32]\tvalidation_0-rmse:0.96534\tvalidation_1-rmse:0.97496\n",
      "[33]\tvalidation_0-rmse:0.96478\tvalidation_1-rmse:0.97444\n",
      "[34]\tvalidation_0-rmse:0.96371\tvalidation_1-rmse:0.97362\n",
      "[35]\tvalidation_0-rmse:0.96349\tvalidation_1-rmse:0.97391\n",
      "[36]\tvalidation_0-rmse:0.96319\tvalidation_1-rmse:0.97358\n",
      "[37]\tvalidation_0-rmse:0.96250\tvalidation_1-rmse:0.97305\n",
      "[38]\tvalidation_0-rmse:0.96206\tvalidation_1-rmse:0.97318\n",
      "[39]\tvalidation_0-rmse:0.96179\tvalidation_1-rmse:0.97270\n",
      "[40]\tvalidation_0-rmse:0.96128\tvalidation_1-rmse:0.97234\n",
      "[41]\tvalidation_0-rmse:0.96088\tvalidation_1-rmse:0.97261\n",
      "[42]\tvalidation_0-rmse:0.96091\tvalidation_1-rmse:0.97249\n",
      "[43]\tvalidation_0-rmse:0.96078\tvalidation_1-rmse:0.97214\n",
      "[44]\tvalidation_0-rmse:0.96035\tvalidation_1-rmse:0.97215\n",
      "[45]\tvalidation_0-rmse:0.96003\tvalidation_1-rmse:0.97138\n",
      "[46]\tvalidation_0-rmse:0.95971\tvalidation_1-rmse:0.97110\n",
      "[47]\tvalidation_0-rmse:0.95957\tvalidation_1-rmse:0.97091\n",
      "[48]\tvalidation_0-rmse:0.95927\tvalidation_1-rmse:0.97103\n",
      "[49]\tvalidation_0-rmse:0.95912\tvalidation_1-rmse:0.97125\n",
      "[50]\tvalidation_0-rmse:0.95895\tvalidation_1-rmse:0.97115\n",
      "[51]\tvalidation_0-rmse:0.95864\tvalidation_1-rmse:0.97088\n",
      "[52]\tvalidation_0-rmse:0.95838\tvalidation_1-rmse:0.97064\n",
      "[53]\tvalidation_0-rmse:0.95795\tvalidation_1-rmse:0.97038\n",
      "[54]\tvalidation_0-rmse:0.95813\tvalidation_1-rmse:0.97071\n",
      "[55]\tvalidation_0-rmse:0.95795\tvalidation_1-rmse:0.97054\n",
      "[56]\tvalidation_0-rmse:0.95762\tvalidation_1-rmse:0.97062\n",
      "[57]\tvalidation_0-rmse:0.95740\tvalidation_1-rmse:0.96983\n",
      "[58]\tvalidation_0-rmse:0.95749\tvalidation_1-rmse:0.96960\n",
      "[59]\tvalidation_0-rmse:0.95737\tvalidation_1-rmse:0.96934\n",
      "[60]\tvalidation_0-rmse:0.95713\tvalidation_1-rmse:0.96940\n",
      "[61]\tvalidation_0-rmse:0.95684\tvalidation_1-rmse:0.96971\n",
      "[62]\tvalidation_0-rmse:0.95661\tvalidation_1-rmse:0.96991\n",
      "[63]\tvalidation_0-rmse:0.95646\tvalidation_1-rmse:0.96958\n",
      "[64]\tvalidation_0-rmse:0.95629\tvalidation_1-rmse:0.96954\n"
     ]
    },
    {
     "name": "stderr",
     "output_type": "stream",
     "text": [
      "D:\\Anaconda\\lib\\site-packages\\xgboost\\data.py:112: UserWarning: Use subset (sliced data) of np.ndarray is not recommended because it will generate extra copies and increase memory consumption\n",
      "  warnings.warn(\n"
     ]
    },
    {
     "name": "stdout",
     "output_type": "stream",
     "text": [
      "[0]\tvalidation_0-rmse:1.20330\tvalidation_1-rmse:1.13501\n",
      "[1]\tvalidation_0-rmse:1.17485\tvalidation_1-rmse:1.11276\n",
      "[2]\tvalidation_0-rmse:1.16256\tvalidation_1-rmse:1.09866\n",
      "[3]\tvalidation_0-rmse:1.10863\tvalidation_1-rmse:1.06245\n",
      "[4]\tvalidation_0-rmse:1.09255\tvalidation_1-rmse:1.05038\n",
      "[5]\tvalidation_0-rmse:1.08742\tvalidation_1-rmse:1.04421\n",
      "[6]\tvalidation_0-rmse:1.06795\tvalidation_1-rmse:1.03464\n",
      "[7]\tvalidation_0-rmse:1.04448\tvalidation_1-rmse:1.01737\n",
      "[8]\tvalidation_0-rmse:1.03944\tvalidation_1-rmse:1.01430\n",
      "[9]\tvalidation_0-rmse:1.03628\tvalidation_1-rmse:1.01097\n",
      "[10]\tvalidation_0-rmse:1.03398\tvalidation_1-rmse:1.00883\n",
      "[11]\tvalidation_0-rmse:1.01629\tvalidation_1-rmse:1.00048\n",
      "[12]\tvalidation_0-rmse:1.00544\tvalidation_1-rmse:0.99383\n",
      "[13]\tvalidation_0-rmse:1.00172\tvalidation_1-rmse:0.99206\n",
      "[14]\tvalidation_0-rmse:0.99541\tvalidation_1-rmse:0.98866\n",
      "[15]\tvalidation_0-rmse:0.99064\tvalidation_1-rmse:0.98612\n",
      "[16]\tvalidation_0-rmse:0.98760\tvalidation_1-rmse:0.98511\n",
      "[17]\tvalidation_0-rmse:0.98799\tvalidation_1-rmse:0.98406\n",
      "[18]\tvalidation_0-rmse:0.98103\tvalidation_1-rmse:0.98054\n",
      "[19]\tvalidation_0-rmse:0.98048\tvalidation_1-rmse:0.97972\n",
      "[20]\tvalidation_0-rmse:0.97978\tvalidation_1-rmse:0.97907\n",
      "[21]\tvalidation_0-rmse:0.97876\tvalidation_1-rmse:0.97802\n",
      "[22]\tvalidation_0-rmse:0.97787\tvalidation_1-rmse:0.97724\n",
      "[23]\tvalidation_0-rmse:0.97583\tvalidation_1-rmse:0.97652\n",
      "[24]\tvalidation_0-rmse:0.97431\tvalidation_1-rmse:0.97563\n",
      "[25]\tvalidation_0-rmse:0.97251\tvalidation_1-rmse:0.97421\n",
      "[26]\tvalidation_0-rmse:0.97084\tvalidation_1-rmse:0.97399\n",
      "[27]\tvalidation_0-rmse:0.97017\tvalidation_1-rmse:0.97408\n",
      "[28]\tvalidation_0-rmse:0.96962\tvalidation_1-rmse:0.97408\n",
      "[29]\tvalidation_0-rmse:0.96808\tvalidation_1-rmse:0.97396\n",
      "[30]\tvalidation_0-rmse:0.96745\tvalidation_1-rmse:0.97353\n",
      "[31]\tvalidation_0-rmse:0.96679\tvalidation_1-rmse:0.97344\n",
      "[32]\tvalidation_0-rmse:0.96594\tvalidation_1-rmse:0.97267\n",
      "[33]\tvalidation_0-rmse:0.96560\tvalidation_1-rmse:0.97206\n",
      "[34]\tvalidation_0-rmse:0.96512\tvalidation_1-rmse:0.97164\n",
      "[35]\tvalidation_0-rmse:0.96496\tvalidation_1-rmse:0.97191\n",
      "[36]\tvalidation_0-rmse:0.96410\tvalidation_1-rmse:0.97143\n",
      "[37]\tvalidation_0-rmse:0.96376\tvalidation_1-rmse:0.97049\n",
      "[38]\tvalidation_0-rmse:0.96297\tvalidation_1-rmse:0.97060\n",
      "[39]\tvalidation_0-rmse:0.96265\tvalidation_1-rmse:0.97012\n",
      "[40]\tvalidation_0-rmse:0.96212\tvalidation_1-rmse:0.96971\n",
      "[41]\tvalidation_0-rmse:0.96168\tvalidation_1-rmse:0.96962\n",
      "[42]\tvalidation_0-rmse:0.96126\tvalidation_1-rmse:0.96974\n",
      "[43]\tvalidation_0-rmse:0.96111\tvalidation_1-rmse:0.96937\n",
      "[44]\tvalidation_0-rmse:0.96076\tvalidation_1-rmse:0.96942\n",
      "[45]\tvalidation_0-rmse:0.96056\tvalidation_1-rmse:0.96914\n",
      "[46]\tvalidation_0-rmse:0.96038\tvalidation_1-rmse:0.96884\n",
      "[47]\tvalidation_0-rmse:0.95987\tvalidation_1-rmse:0.96861\n",
      "[48]\tvalidation_0-rmse:0.95950\tvalidation_1-rmse:0.96870\n",
      "[49]\tvalidation_0-rmse:0.95930\tvalidation_1-rmse:0.96893\n",
      "[50]\tvalidation_0-rmse:0.95925\tvalidation_1-rmse:0.96869\n",
      "[51]\tvalidation_0-rmse:0.95892\tvalidation_1-rmse:0.96832\n",
      "[52]\tvalidation_0-rmse:0.95861\tvalidation_1-rmse:0.96858\n",
      "[53]\tvalidation_0-rmse:0.95833\tvalidation_1-rmse:0.96865\n",
      "[54]\tvalidation_0-rmse:0.95806\tvalidation_1-rmse:0.96846\n",
      "[55]\tvalidation_0-rmse:0.95807\tvalidation_1-rmse:0.96881\n",
      "[56]\tvalidation_0-rmse:0.95797\tvalidation_1-rmse:0.96856\n"
     ]
    },
    {
     "name": "stderr",
     "output_type": "stream",
     "text": [
      "D:\\Anaconda\\lib\\site-packages\\xgboost\\data.py:112: UserWarning: Use subset (sliced data) of np.ndarray is not recommended because it will generate extra copies and increase memory consumption\n",
      "  warnings.warn(\n"
     ]
    },
    {
     "name": "stdout",
     "output_type": "stream",
     "text": [
      "[0]\tvalidation_0-rmse:1.19246\tvalidation_1-rmse:1.12911\n"
     ]
    },
    {
     "name": "stderr",
     "output_type": "stream",
     "text": [
      "D:\\Anaconda\\lib\\site-packages\\xgboost\\data.py:112: UserWarning: Use subset (sliced data) of np.ndarray is not recommended because it will generate extra copies and increase memory consumption\n",
      "  warnings.warn(\n"
     ]
    },
    {
     "name": "stdout",
     "output_type": "stream",
     "text": [
      "[0]\tvalidation_0-rmse:1.19358\tvalidation_1-rmse:1.12859\n"
     ]
    },
    {
     "name": "stderr",
     "output_type": "stream",
     "text": [
      "D:\\Anaconda\\lib\\site-packages\\xgboost\\data.py:112: UserWarning: Use subset (sliced data) of np.ndarray is not recommended because it will generate extra copies and increase memory consumption\n",
      "  warnings.warn(\n"
     ]
    },
    {
     "name": "stdout",
     "output_type": "stream",
     "text": [
      "[0]\tvalidation_0-rmse:1.19555\tvalidation_1-rmse:1.12398\n"
     ]
    },
    {
     "name": "stderr",
     "output_type": "stream",
     "text": [
      "D:\\Anaconda\\lib\\site-packages\\xgboost\\data.py:112: UserWarning: Use subset (sliced data) of np.ndarray is not recommended because it will generate extra copies and increase memory consumption\n",
      "  warnings.warn(\n"
     ]
    },
    {
     "name": "stdout",
     "output_type": "stream",
     "text": [
      "[0]\tvalidation_0-rmse:1.19333\tvalidation_1-rmse:1.12911\n"
     ]
    },
    {
     "name": "stderr",
     "output_type": "stream",
     "text": [
      "D:\\Anaconda\\lib\\site-packages\\xgboost\\data.py:112: UserWarning: Use subset (sliced data) of np.ndarray is not recommended because it will generate extra copies and increase memory consumption\n",
      "  warnings.warn(\n"
     ]
    },
    {
     "name": "stdout",
     "output_type": "stream",
     "text": [
      "[0]\tvalidation_0-rmse:1.19308\tvalidation_1-rmse:1.12797\n"
     ]
    },
    {
     "name": "stderr",
     "output_type": "stream",
     "text": [
      "D:\\Anaconda\\lib\\site-packages\\xgboost\\data.py:112: UserWarning: Use subset (sliced data) of np.ndarray is not recommended because it will generate extra copies and increase memory consumption\n",
      "  warnings.warn(\n"
     ]
    },
    {
     "name": "stdout",
     "output_type": "stream",
     "text": [
      "[0]\tvalidation_0-rmse:1.19246\tvalidation_1-rmse:1.12911\n",
      "[1]\tvalidation_0-rmse:1.15668\tvalidation_1-rmse:1.09867\n",
      "[2]\tvalidation_0-rmse:1.13889\tvalidation_1-rmse:1.08033\n",
      "[3]\tvalidation_0-rmse:1.06360\tvalidation_1-rmse:1.02952\n",
      "[4]\tvalidation_0-rmse:1.04418\tvalidation_1-rmse:1.01613\n",
      "[5]\tvalidation_0-rmse:1.03961\tvalidation_1-rmse:1.01081\n",
      "[6]\tvalidation_0-rmse:1.02100\tvalidation_1-rmse:1.00144\n",
      "[7]\tvalidation_0-rmse:0.99917\tvalidation_1-rmse:0.98727\n",
      "[8]\tvalidation_0-rmse:0.99220\tvalidation_1-rmse:0.98407\n",
      "[9]\tvalidation_0-rmse:0.99139\tvalidation_1-rmse:0.98293\n"
     ]
    },
    {
     "name": "stderr",
     "output_type": "stream",
     "text": [
      "D:\\Anaconda\\lib\\site-packages\\xgboost\\data.py:112: UserWarning: Use subset (sliced data) of np.ndarray is not recommended because it will generate extra copies and increase memory consumption\n",
      "  warnings.warn(\n"
     ]
    },
    {
     "name": "stdout",
     "output_type": "stream",
     "text": [
      "[0]\tvalidation_0-rmse:1.19358\tvalidation_1-rmse:1.12859\n",
      "[1]\tvalidation_0-rmse:1.15768\tvalidation_1-rmse:1.09767\n",
      "[2]\tvalidation_0-rmse:1.13601\tvalidation_1-rmse:1.07915\n",
      "[3]\tvalidation_0-rmse:1.06459\tvalidation_1-rmse:1.02906\n",
      "[4]\tvalidation_0-rmse:1.04460\tvalidation_1-rmse:1.01562\n",
      "[5]\tvalidation_0-rmse:1.03891\tvalidation_1-rmse:1.01004\n",
      "[6]\tvalidation_0-rmse:1.01905\tvalidation_1-rmse:1.00053\n",
      "[7]\tvalidation_0-rmse:0.99585\tvalidation_1-rmse:0.98580\n",
      "[8]\tvalidation_0-rmse:0.99264\tvalidation_1-rmse:0.98322\n",
      "[9]\tvalidation_0-rmse:0.99067\tvalidation_1-rmse:0.98188\n"
     ]
    },
    {
     "name": "stderr",
     "output_type": "stream",
     "text": [
      "D:\\Anaconda\\lib\\site-packages\\xgboost\\data.py:112: UserWarning: Use subset (sliced data) of np.ndarray is not recommended because it will generate extra copies and increase memory consumption\n",
      "  warnings.warn(\n"
     ]
    },
    {
     "name": "stdout",
     "output_type": "stream",
     "text": [
      "[0]\tvalidation_0-rmse:1.19555\tvalidation_1-rmse:1.12398\n",
      "[1]\tvalidation_0-rmse:1.16059\tvalidation_1-rmse:1.09329\n",
      "[2]\tvalidation_0-rmse:1.13750\tvalidation_1-rmse:1.07477\n",
      "[3]\tvalidation_0-rmse:1.06312\tvalidation_1-rmse:1.02535\n",
      "[4]\tvalidation_0-rmse:1.04662\tvalidation_1-rmse:1.01212\n",
      "[5]\tvalidation_0-rmse:1.03923\tvalidation_1-rmse:1.00660\n",
      "[6]\tvalidation_0-rmse:1.02155\tvalidation_1-rmse:0.99818\n",
      "[7]\tvalidation_0-rmse:0.99775\tvalidation_1-rmse:0.98416\n",
      "[8]\tvalidation_0-rmse:0.99449\tvalidation_1-rmse:0.98147\n",
      "[9]\tvalidation_0-rmse:0.99333\tvalidation_1-rmse:0.98053\n"
     ]
    },
    {
     "name": "stderr",
     "output_type": "stream",
     "text": [
      "D:\\Anaconda\\lib\\site-packages\\xgboost\\data.py:112: UserWarning: Use subset (sliced data) of np.ndarray is not recommended because it will generate extra copies and increase memory consumption\n",
      "  warnings.warn(\n"
     ]
    },
    {
     "name": "stdout",
     "output_type": "stream",
     "text": [
      "[0]\tvalidation_0-rmse:1.19333\tvalidation_1-rmse:1.12911\n",
      "[1]\tvalidation_0-rmse:1.15728\tvalidation_1-rmse:1.09818\n",
      "[2]\tvalidation_0-rmse:1.13490\tvalidation_1-rmse:1.07964\n",
      "[3]\tvalidation_0-rmse:1.06275\tvalidation_1-rmse:1.02947\n",
      "[4]\tvalidation_0-rmse:1.04406\tvalidation_1-rmse:1.01575\n",
      "[5]\tvalidation_0-rmse:1.03727\tvalidation_1-rmse:1.01023\n",
      "[6]\tvalidation_0-rmse:1.02170\tvalidation_1-rmse:1.00028\n",
      "[7]\tvalidation_0-rmse:0.99502\tvalidation_1-rmse:0.98571\n",
      "[8]\tvalidation_0-rmse:0.99264\tvalidation_1-rmse:0.98265\n",
      "[9]\tvalidation_0-rmse:0.99112\tvalidation_1-rmse:0.98152\n"
     ]
    },
    {
     "name": "stderr",
     "output_type": "stream",
     "text": [
      "D:\\Anaconda\\lib\\site-packages\\xgboost\\data.py:112: UserWarning: Use subset (sliced data) of np.ndarray is not recommended because it will generate extra copies and increase memory consumption\n",
      "  warnings.warn(\n"
     ]
    },
    {
     "name": "stdout",
     "output_type": "stream",
     "text": [
      "[0]\tvalidation_0-rmse:1.19308\tvalidation_1-rmse:1.12797\n",
      "[1]\tvalidation_0-rmse:1.15742\tvalidation_1-rmse:1.09748\n",
      "[2]\tvalidation_0-rmse:1.13634\tvalidation_1-rmse:1.07902\n",
      "[3]\tvalidation_0-rmse:1.06512\tvalidation_1-rmse:1.02900\n",
      "[4]\tvalidation_0-rmse:1.04581\tvalidation_1-rmse:1.01573\n",
      "[5]\tvalidation_0-rmse:1.03887\tvalidation_1-rmse:1.01039\n",
      "[6]\tvalidation_0-rmse:1.01980\tvalidation_1-rmse:1.00153\n",
      "[7]\tvalidation_0-rmse:0.99685\tvalidation_1-rmse:0.98723\n",
      "[8]\tvalidation_0-rmse:0.99355\tvalidation_1-rmse:0.98397\n",
      "[9]\tvalidation_0-rmse:0.99236\tvalidation_1-rmse:0.98271\n"
     ]
    },
    {
     "name": "stderr",
     "output_type": "stream",
     "text": [
      "D:\\Anaconda\\lib\\site-packages\\xgboost\\data.py:112: UserWarning: Use subset (sliced data) of np.ndarray is not recommended because it will generate extra copies and increase memory consumption\n",
      "  warnings.warn(\n"
     ]
    },
    {
     "name": "stdout",
     "output_type": "stream",
     "text": [
      "[0]\tvalidation_0-rmse:1.19246\tvalidation_1-rmse:1.12911\n",
      "[1]\tvalidation_0-rmse:1.15668\tvalidation_1-rmse:1.09867\n",
      "[2]\tvalidation_0-rmse:1.13889\tvalidation_1-rmse:1.08033\n",
      "[3]\tvalidation_0-rmse:1.06360\tvalidation_1-rmse:1.02952\n",
      "[4]\tvalidation_0-rmse:1.04418\tvalidation_1-rmse:1.01613\n",
      "[5]\tvalidation_0-rmse:1.03961\tvalidation_1-rmse:1.01081\n",
      "[6]\tvalidation_0-rmse:1.02100\tvalidation_1-rmse:1.00144\n",
      "[7]\tvalidation_0-rmse:0.99917\tvalidation_1-rmse:0.98727\n",
      "[8]\tvalidation_0-rmse:0.99220\tvalidation_1-rmse:0.98407\n",
      "[9]\tvalidation_0-rmse:0.99139\tvalidation_1-rmse:0.98293\n",
      "[10]\tvalidation_0-rmse:0.98881\tvalidation_1-rmse:0.98201\n",
      "[11]\tvalidation_0-rmse:0.97822\tvalidation_1-rmse:0.97654\n",
      "[12]\tvalidation_0-rmse:0.97191\tvalidation_1-rmse:0.97372\n",
      "[13]\tvalidation_0-rmse:0.97037\tvalidation_1-rmse:0.97438\n",
      "[14]\tvalidation_0-rmse:0.96646\tvalidation_1-rmse:0.97361\n",
      "[15]\tvalidation_0-rmse:0.96499\tvalidation_1-rmse:0.97350\n",
      "[16]\tvalidation_0-rmse:0.96329\tvalidation_1-rmse:0.97350\n",
      "[17]\tvalidation_0-rmse:0.96328\tvalidation_1-rmse:0.97326\n",
      "[18]\tvalidation_0-rmse:0.96003\tvalidation_1-rmse:0.97139\n",
      "[19]\tvalidation_0-rmse:0.95934\tvalidation_1-rmse:0.97065\n",
      "[20]\tvalidation_0-rmse:0.95749\tvalidation_1-rmse:0.96923\n",
      "[21]\tvalidation_0-rmse:0.95734\tvalidation_1-rmse:0.96871\n",
      "[22]\tvalidation_0-rmse:0.95680\tvalidation_1-rmse:0.96854\n",
      "[23]\tvalidation_0-rmse:0.95569\tvalidation_1-rmse:0.96882\n",
      "[24]\tvalidation_0-rmse:0.95454\tvalidation_1-rmse:0.96969\n",
      "[25]\tvalidation_0-rmse:0.95371\tvalidation_1-rmse:0.96921\n",
      "[26]\tvalidation_0-rmse:0.95290\tvalidation_1-rmse:0.96955\n",
      "[27]\tvalidation_0-rmse:0.95267\tvalidation_1-rmse:0.96910\n"
     ]
    },
    {
     "name": "stderr",
     "output_type": "stream",
     "text": [
      "D:\\Anaconda\\lib\\site-packages\\xgboost\\data.py:112: UserWarning: Use subset (sliced data) of np.ndarray is not recommended because it will generate extra copies and increase memory consumption\n",
      "  warnings.warn(\n"
     ]
    },
    {
     "name": "stdout",
     "output_type": "stream",
     "text": [
      "[0]\tvalidation_0-rmse:1.19358\tvalidation_1-rmse:1.12859\n",
      "[1]\tvalidation_0-rmse:1.15768\tvalidation_1-rmse:1.09767\n",
      "[2]\tvalidation_0-rmse:1.13601\tvalidation_1-rmse:1.07915\n",
      "[3]\tvalidation_0-rmse:1.06459\tvalidation_1-rmse:1.02906\n",
      "[4]\tvalidation_0-rmse:1.04460\tvalidation_1-rmse:1.01562\n",
      "[5]\tvalidation_0-rmse:1.03891\tvalidation_1-rmse:1.01004\n",
      "[6]\tvalidation_0-rmse:1.01905\tvalidation_1-rmse:1.00053\n",
      "[7]\tvalidation_0-rmse:0.99585\tvalidation_1-rmse:0.98580\n",
      "[8]\tvalidation_0-rmse:0.99264\tvalidation_1-rmse:0.98322\n",
      "[9]\tvalidation_0-rmse:0.99067\tvalidation_1-rmse:0.98188\n",
      "[10]\tvalidation_0-rmse:0.98939\tvalidation_1-rmse:0.98074\n",
      "[11]\tvalidation_0-rmse:0.97847\tvalidation_1-rmse:0.97519\n",
      "[12]\tvalidation_0-rmse:0.97153\tvalidation_1-rmse:0.97306\n",
      "[13]\tvalidation_0-rmse:0.97027\tvalidation_1-rmse:0.97338\n",
      "[14]\tvalidation_0-rmse:0.96694\tvalidation_1-rmse:0.97253\n",
      "[15]\tvalidation_0-rmse:0.96533\tvalidation_1-rmse:0.97228\n",
      "[16]\tvalidation_0-rmse:0.96344\tvalidation_1-rmse:0.97224\n",
      "[17]\tvalidation_0-rmse:0.96326\tvalidation_1-rmse:0.97220\n",
      "[18]\tvalidation_0-rmse:0.95965\tvalidation_1-rmse:0.97043\n",
      "[19]\tvalidation_0-rmse:0.95906\tvalidation_1-rmse:0.96983\n",
      "[20]\tvalidation_0-rmse:0.95799\tvalidation_1-rmse:0.96855\n",
      "[21]\tvalidation_0-rmse:0.95758\tvalidation_1-rmse:0.96814\n",
      "[22]\tvalidation_0-rmse:0.95717\tvalidation_1-rmse:0.96794\n",
      "[23]\tvalidation_0-rmse:0.95586\tvalidation_1-rmse:0.96813\n",
      "[24]\tvalidation_0-rmse:0.95459\tvalidation_1-rmse:0.96885\n",
      "[25]\tvalidation_0-rmse:0.95356\tvalidation_1-rmse:0.96815\n",
      "[26]\tvalidation_0-rmse:0.95284\tvalidation_1-rmse:0.96833\n",
      "[27]\tvalidation_0-rmse:0.95247\tvalidation_1-rmse:0.96799\n"
     ]
    },
    {
     "name": "stderr",
     "output_type": "stream",
     "text": [
      "D:\\Anaconda\\lib\\site-packages\\xgboost\\data.py:112: UserWarning: Use subset (sliced data) of np.ndarray is not recommended because it will generate extra copies and increase memory consumption\n",
      "  warnings.warn(\n"
     ]
    },
    {
     "name": "stdout",
     "output_type": "stream",
     "text": [
      "[0]\tvalidation_0-rmse:1.19555\tvalidation_1-rmse:1.12398\n",
      "[1]\tvalidation_0-rmse:1.16059\tvalidation_1-rmse:1.09329\n",
      "[2]\tvalidation_0-rmse:1.13750\tvalidation_1-rmse:1.07477\n",
      "[3]\tvalidation_0-rmse:1.06312\tvalidation_1-rmse:1.02535\n",
      "[4]\tvalidation_0-rmse:1.04662\tvalidation_1-rmse:1.01212\n",
      "[5]\tvalidation_0-rmse:1.03923\tvalidation_1-rmse:1.00660\n",
      "[6]\tvalidation_0-rmse:1.02155\tvalidation_1-rmse:0.99818\n",
      "[7]\tvalidation_0-rmse:0.99775\tvalidation_1-rmse:0.98416\n",
      "[8]\tvalidation_0-rmse:0.99449\tvalidation_1-rmse:0.98147\n",
      "[9]\tvalidation_0-rmse:0.99333\tvalidation_1-rmse:0.98053\n",
      "[10]\tvalidation_0-rmse:0.99079\tvalidation_1-rmse:0.97930\n",
      "[11]\tvalidation_0-rmse:0.97922\tvalidation_1-rmse:0.97364\n",
      "[12]\tvalidation_0-rmse:0.97292\tvalidation_1-rmse:0.97116\n",
      "[13]\tvalidation_0-rmse:0.97048\tvalidation_1-rmse:0.97124\n",
      "[14]\tvalidation_0-rmse:0.96696\tvalidation_1-rmse:0.97044\n",
      "[15]\tvalidation_0-rmse:0.96515\tvalidation_1-rmse:0.97031\n",
      "[16]\tvalidation_0-rmse:0.96351\tvalidation_1-rmse:0.97035\n",
      "[17]\tvalidation_0-rmse:0.96321\tvalidation_1-rmse:0.96973\n",
      "[18]\tvalidation_0-rmse:0.95966\tvalidation_1-rmse:0.96796\n",
      "[19]\tvalidation_0-rmse:0.95911\tvalidation_1-rmse:0.96746\n",
      "[20]\tvalidation_0-rmse:0.95838\tvalidation_1-rmse:0.96645\n",
      "[21]\tvalidation_0-rmse:0.95782\tvalidation_1-rmse:0.96605\n",
      "[22]\tvalidation_0-rmse:0.95753\tvalidation_1-rmse:0.96582\n",
      "[23]\tvalidation_0-rmse:0.95625\tvalidation_1-rmse:0.96587\n",
      "[24]\tvalidation_0-rmse:0.95519\tvalidation_1-rmse:0.96662\n",
      "[25]\tvalidation_0-rmse:0.95420\tvalidation_1-rmse:0.96589\n",
      "[26]\tvalidation_0-rmse:0.95356\tvalidation_1-rmse:0.96601\n"
     ]
    },
    {
     "name": "stderr",
     "output_type": "stream",
     "text": [
      "D:\\Anaconda\\lib\\site-packages\\xgboost\\data.py:112: UserWarning: Use subset (sliced data) of np.ndarray is not recommended because it will generate extra copies and increase memory consumption\n",
      "  warnings.warn(\n"
     ]
    },
    {
     "name": "stdout",
     "output_type": "stream",
     "text": [
      "[0]\tvalidation_0-rmse:1.19333\tvalidation_1-rmse:1.12911\n",
      "[1]\tvalidation_0-rmse:1.15728\tvalidation_1-rmse:1.09818\n",
      "[2]\tvalidation_0-rmse:1.13490\tvalidation_1-rmse:1.07964\n",
      "[3]\tvalidation_0-rmse:1.06275\tvalidation_1-rmse:1.02947\n",
      "[4]\tvalidation_0-rmse:1.04406\tvalidation_1-rmse:1.01575\n",
      "[5]\tvalidation_0-rmse:1.03727\tvalidation_1-rmse:1.01023\n",
      "[6]\tvalidation_0-rmse:1.02170\tvalidation_1-rmse:1.00028\n",
      "[7]\tvalidation_0-rmse:0.99502\tvalidation_1-rmse:0.98571\n",
      "[8]\tvalidation_0-rmse:0.99264\tvalidation_1-rmse:0.98265\n",
      "[9]\tvalidation_0-rmse:0.99112\tvalidation_1-rmse:0.98152\n",
      "[10]\tvalidation_0-rmse:0.98909\tvalidation_1-rmse:0.98052\n",
      "[11]\tvalidation_0-rmse:0.97702\tvalidation_1-rmse:0.97413\n",
      "[12]\tvalidation_0-rmse:0.97045\tvalidation_1-rmse:0.97169\n",
      "[13]\tvalidation_0-rmse:0.96882\tvalidation_1-rmse:0.97159\n",
      "[14]\tvalidation_0-rmse:0.96628\tvalidation_1-rmse:0.97117\n",
      "[15]\tvalidation_0-rmse:0.96444\tvalidation_1-rmse:0.97044\n",
      "[16]\tvalidation_0-rmse:0.96259\tvalidation_1-rmse:0.97046\n",
      "[17]\tvalidation_0-rmse:0.96243\tvalidation_1-rmse:0.97053\n",
      "[18]\tvalidation_0-rmse:0.95941\tvalidation_1-rmse:0.96873\n",
      "[19]\tvalidation_0-rmse:0.95874\tvalidation_1-rmse:0.96815\n",
      "[20]\tvalidation_0-rmse:0.95768\tvalidation_1-rmse:0.96688\n",
      "[21]\tvalidation_0-rmse:0.95733\tvalidation_1-rmse:0.96652\n",
      "[22]\tvalidation_0-rmse:0.95679\tvalidation_1-rmse:0.96631\n",
      "[23]\tvalidation_0-rmse:0.95578\tvalidation_1-rmse:0.96657\n",
      "[24]\tvalidation_0-rmse:0.95468\tvalidation_1-rmse:0.96676\n",
      "[25]\tvalidation_0-rmse:0.95328\tvalidation_1-rmse:0.96583\n",
      "[26]\tvalidation_0-rmse:0.95236\tvalidation_1-rmse:0.96630\n",
      "[27]\tvalidation_0-rmse:0.95200\tvalidation_1-rmse:0.96600\n",
      "[28]\tvalidation_0-rmse:0.95142\tvalidation_1-rmse:0.96549\n",
      "[29]\tvalidation_0-rmse:0.95100\tvalidation_1-rmse:0.96568\n",
      "[30]\tvalidation_0-rmse:0.95044\tvalidation_1-rmse:0.96564\n",
      "[31]\tvalidation_0-rmse:0.95016\tvalidation_1-rmse:0.96536\n",
      "[32]\tvalidation_0-rmse:0.94924\tvalidation_1-rmse:0.96504\n",
      "[33]\tvalidation_0-rmse:0.94910\tvalidation_1-rmse:0.96506\n",
      "[34]\tvalidation_0-rmse:0.94867\tvalidation_1-rmse:0.96428\n",
      "[35]\tvalidation_0-rmse:0.94839\tvalidation_1-rmse:0.96424\n",
      "[36]\tvalidation_0-rmse:0.94765\tvalidation_1-rmse:0.96466\n",
      "[37]\tvalidation_0-rmse:0.94743\tvalidation_1-rmse:0.96435\n",
      "[38]\tvalidation_0-rmse:0.94727\tvalidation_1-rmse:0.96421\n",
      "[39]\tvalidation_0-rmse:0.94707\tvalidation_1-rmse:0.96406\n",
      "[40]\tvalidation_0-rmse:0.94673\tvalidation_1-rmse:0.96406\n",
      "[41]\tvalidation_0-rmse:0.94653\tvalidation_1-rmse:0.96409\n",
      "[42]\tvalidation_0-rmse:0.94631\tvalidation_1-rmse:0.96374\n",
      "[43]\tvalidation_0-rmse:0.94596\tvalidation_1-rmse:0.96322\n",
      "[44]\tvalidation_0-rmse:0.94587\tvalidation_1-rmse:0.96329\n",
      "[45]\tvalidation_0-rmse:0.94571\tvalidation_1-rmse:0.96275\n",
      "[46]\tvalidation_0-rmse:0.94541\tvalidation_1-rmse:0.96276\n",
      "[47]\tvalidation_0-rmse:0.94487\tvalidation_1-rmse:0.96290\n",
      "[48]\tvalidation_0-rmse:0.94468\tvalidation_1-rmse:0.96259\n",
      "[49]\tvalidation_0-rmse:0.94453\tvalidation_1-rmse:0.96273\n",
      "[50]\tvalidation_0-rmse:0.94445\tvalidation_1-rmse:0.96306\n",
      "[51]\tvalidation_0-rmse:0.94432\tvalidation_1-rmse:0.96318\n",
      "[52]\tvalidation_0-rmse:0.94391\tvalidation_1-rmse:0.96319\n",
      "[53]\tvalidation_0-rmse:0.94378\tvalidation_1-rmse:0.96320\n"
     ]
    },
    {
     "name": "stderr",
     "output_type": "stream",
     "text": [
      "D:\\Anaconda\\lib\\site-packages\\xgboost\\data.py:112: UserWarning: Use subset (sliced data) of np.ndarray is not recommended because it will generate extra copies and increase memory consumption\n",
      "  warnings.warn(\n"
     ]
    },
    {
     "name": "stdout",
     "output_type": "stream",
     "text": [
      "[0]\tvalidation_0-rmse:1.19308\tvalidation_1-rmse:1.12797\n",
      "[1]\tvalidation_0-rmse:1.15742\tvalidation_1-rmse:1.09748\n",
      "[2]\tvalidation_0-rmse:1.13634\tvalidation_1-rmse:1.07902\n",
      "[3]\tvalidation_0-rmse:1.06512\tvalidation_1-rmse:1.02900\n",
      "[4]\tvalidation_0-rmse:1.04581\tvalidation_1-rmse:1.01573\n",
      "[5]\tvalidation_0-rmse:1.03887\tvalidation_1-rmse:1.01039\n",
      "[6]\tvalidation_0-rmse:1.01980\tvalidation_1-rmse:1.00153\n",
      "[7]\tvalidation_0-rmse:0.99685\tvalidation_1-rmse:0.98723\n",
      "[8]\tvalidation_0-rmse:0.99355\tvalidation_1-rmse:0.98397\n",
      "[9]\tvalidation_0-rmse:0.99236\tvalidation_1-rmse:0.98271\n",
      "[10]\tvalidation_0-rmse:0.99055\tvalidation_1-rmse:0.98159\n",
      "[11]\tvalidation_0-rmse:0.97899\tvalidation_1-rmse:0.97598\n",
      "[12]\tvalidation_0-rmse:0.97308\tvalidation_1-rmse:0.97313\n",
      "[13]\tvalidation_0-rmse:0.97107\tvalidation_1-rmse:0.97367\n",
      "[14]\tvalidation_0-rmse:0.96734\tvalidation_1-rmse:0.97283\n",
      "[15]\tvalidation_0-rmse:0.96593\tvalidation_1-rmse:0.97247\n",
      "[16]\tvalidation_0-rmse:0.96412\tvalidation_1-rmse:0.97213\n",
      "[17]\tvalidation_0-rmse:0.96324\tvalidation_1-rmse:0.97167\n",
      "[18]\tvalidation_0-rmse:0.96060\tvalidation_1-rmse:0.96978\n",
      "[19]\tvalidation_0-rmse:0.95992\tvalidation_1-rmse:0.96912\n",
      "[20]\tvalidation_0-rmse:0.95903\tvalidation_1-rmse:0.96783\n",
      "[21]\tvalidation_0-rmse:0.95867\tvalidation_1-rmse:0.96747\n",
      "[22]\tvalidation_0-rmse:0.95796\tvalidation_1-rmse:0.96707\n",
      "[23]\tvalidation_0-rmse:0.95670\tvalidation_1-rmse:0.96724\n",
      "[24]\tvalidation_0-rmse:0.95554\tvalidation_1-rmse:0.96731\n",
      "[25]\tvalidation_0-rmse:0.95469\tvalidation_1-rmse:0.96710\n",
      "[26]\tvalidation_0-rmse:0.95335\tvalidation_1-rmse:0.96766\n"
     ]
    },
    {
     "name": "stderr",
     "output_type": "stream",
     "text": [
      "D:\\Anaconda\\lib\\site-packages\\xgboost\\data.py:112: UserWarning: Use subset (sliced data) of np.ndarray is not recommended because it will generate extra copies and increase memory consumption\n",
      "  warnings.warn(\n"
     ]
    },
    {
     "name": "stdout",
     "output_type": "stream",
     "text": [
      "[0]\tvalidation_0-rmse:1.19246\tvalidation_1-rmse:1.12911\n"
     ]
    },
    {
     "name": "stderr",
     "output_type": "stream",
     "text": [
      "D:\\Anaconda\\lib\\site-packages\\xgboost\\data.py:112: UserWarning: Use subset (sliced data) of np.ndarray is not recommended because it will generate extra copies and increase memory consumption\n",
      "  warnings.warn(\n"
     ]
    },
    {
     "name": "stdout",
     "output_type": "stream",
     "text": [
      "[0]\tvalidation_0-rmse:1.19358\tvalidation_1-rmse:1.12859\n"
     ]
    },
    {
     "name": "stderr",
     "output_type": "stream",
     "text": [
      "D:\\Anaconda\\lib\\site-packages\\xgboost\\data.py:112: UserWarning: Use subset (sliced data) of np.ndarray is not recommended because it will generate extra copies and increase memory consumption\n",
      "  warnings.warn(\n"
     ]
    },
    {
     "name": "stdout",
     "output_type": "stream",
     "text": [
      "[0]\tvalidation_0-rmse:1.19555\tvalidation_1-rmse:1.12398\n"
     ]
    },
    {
     "name": "stderr",
     "output_type": "stream",
     "text": [
      "D:\\Anaconda\\lib\\site-packages\\xgboost\\data.py:112: UserWarning: Use subset (sliced data) of np.ndarray is not recommended because it will generate extra copies and increase memory consumption\n",
      "  warnings.warn(\n"
     ]
    },
    {
     "name": "stdout",
     "output_type": "stream",
     "text": [
      "[0]\tvalidation_0-rmse:1.19333\tvalidation_1-rmse:1.12911\n"
     ]
    },
    {
     "name": "stderr",
     "output_type": "stream",
     "text": [
      "D:\\Anaconda\\lib\\site-packages\\xgboost\\data.py:112: UserWarning: Use subset (sliced data) of np.ndarray is not recommended because it will generate extra copies and increase memory consumption\n",
      "  warnings.warn(\n"
     ]
    },
    {
     "name": "stdout",
     "output_type": "stream",
     "text": [
      "[0]\tvalidation_0-rmse:1.19308\tvalidation_1-rmse:1.12797\n"
     ]
    },
    {
     "name": "stderr",
     "output_type": "stream",
     "text": [
      "D:\\Anaconda\\lib\\site-packages\\xgboost\\data.py:112: UserWarning: Use subset (sliced data) of np.ndarray is not recommended because it will generate extra copies and increase memory consumption\n",
      "  warnings.warn(\n"
     ]
    },
    {
     "name": "stdout",
     "output_type": "stream",
     "text": [
      "[0]\tvalidation_0-rmse:1.19246\tvalidation_1-rmse:1.12911\n",
      "[1]\tvalidation_0-rmse:1.15668\tvalidation_1-rmse:1.09867\n",
      "[2]\tvalidation_0-rmse:1.13889\tvalidation_1-rmse:1.08033\n",
      "[3]\tvalidation_0-rmse:1.06360\tvalidation_1-rmse:1.02952\n",
      "[4]\tvalidation_0-rmse:1.04418\tvalidation_1-rmse:1.01613\n",
      "[5]\tvalidation_0-rmse:1.03961\tvalidation_1-rmse:1.01081\n",
      "[6]\tvalidation_0-rmse:1.02100\tvalidation_1-rmse:1.00144\n",
      "[7]\tvalidation_0-rmse:0.99917\tvalidation_1-rmse:0.98727\n",
      "[8]\tvalidation_0-rmse:0.99220\tvalidation_1-rmse:0.98407\n",
      "[9]\tvalidation_0-rmse:0.99139\tvalidation_1-rmse:0.98293\n"
     ]
    },
    {
     "name": "stderr",
     "output_type": "stream",
     "text": [
      "D:\\Anaconda\\lib\\site-packages\\xgboost\\data.py:112: UserWarning: Use subset (sliced data) of np.ndarray is not recommended because it will generate extra copies and increase memory consumption\n",
      "  warnings.warn(\n"
     ]
    },
    {
     "name": "stdout",
     "output_type": "stream",
     "text": [
      "[0]\tvalidation_0-rmse:1.19358\tvalidation_1-rmse:1.12859\n",
      "[1]\tvalidation_0-rmse:1.15768\tvalidation_1-rmse:1.09767\n",
      "[2]\tvalidation_0-rmse:1.13601\tvalidation_1-rmse:1.07915\n",
      "[3]\tvalidation_0-rmse:1.06459\tvalidation_1-rmse:1.02906\n",
      "[4]\tvalidation_0-rmse:1.04460\tvalidation_1-rmse:1.01562\n",
      "[5]\tvalidation_0-rmse:1.03891\tvalidation_1-rmse:1.01004\n",
      "[6]\tvalidation_0-rmse:1.01905\tvalidation_1-rmse:1.00053\n",
      "[7]\tvalidation_0-rmse:0.99585\tvalidation_1-rmse:0.98580\n",
      "[8]\tvalidation_0-rmse:0.99264\tvalidation_1-rmse:0.98322\n",
      "[9]\tvalidation_0-rmse:0.99067\tvalidation_1-rmse:0.98188\n"
     ]
    },
    {
     "name": "stderr",
     "output_type": "stream",
     "text": [
      "D:\\Anaconda\\lib\\site-packages\\xgboost\\data.py:112: UserWarning: Use subset (sliced data) of np.ndarray is not recommended because it will generate extra copies and increase memory consumption\n",
      "  warnings.warn(\n"
     ]
    },
    {
     "name": "stdout",
     "output_type": "stream",
     "text": [
      "[0]\tvalidation_0-rmse:1.19555\tvalidation_1-rmse:1.12398\n",
      "[1]\tvalidation_0-rmse:1.16059\tvalidation_1-rmse:1.09329\n",
      "[2]\tvalidation_0-rmse:1.13750\tvalidation_1-rmse:1.07477\n",
      "[3]\tvalidation_0-rmse:1.06312\tvalidation_1-rmse:1.02535\n",
      "[4]\tvalidation_0-rmse:1.04662\tvalidation_1-rmse:1.01212\n",
      "[5]\tvalidation_0-rmse:1.03923\tvalidation_1-rmse:1.00660\n",
      "[6]\tvalidation_0-rmse:1.02155\tvalidation_1-rmse:0.99818\n",
      "[7]\tvalidation_0-rmse:0.99775\tvalidation_1-rmse:0.98416\n",
      "[8]\tvalidation_0-rmse:0.99449\tvalidation_1-rmse:0.98147\n",
      "[9]\tvalidation_0-rmse:0.99333\tvalidation_1-rmse:0.98053\n"
     ]
    },
    {
     "name": "stderr",
     "output_type": "stream",
     "text": [
      "D:\\Anaconda\\lib\\site-packages\\xgboost\\data.py:112: UserWarning: Use subset (sliced data) of np.ndarray is not recommended because it will generate extra copies and increase memory consumption\n",
      "  warnings.warn(\n"
     ]
    },
    {
     "name": "stdout",
     "output_type": "stream",
     "text": [
      "[0]\tvalidation_0-rmse:1.19333\tvalidation_1-rmse:1.12911\n",
      "[1]\tvalidation_0-rmse:1.15728\tvalidation_1-rmse:1.09818\n",
      "[2]\tvalidation_0-rmse:1.13490\tvalidation_1-rmse:1.07964\n",
      "[3]\tvalidation_0-rmse:1.06275\tvalidation_1-rmse:1.02947\n",
      "[4]\tvalidation_0-rmse:1.04406\tvalidation_1-rmse:1.01575\n",
      "[5]\tvalidation_0-rmse:1.03727\tvalidation_1-rmse:1.01023\n",
      "[6]\tvalidation_0-rmse:1.02170\tvalidation_1-rmse:1.00028\n",
      "[7]\tvalidation_0-rmse:0.99502\tvalidation_1-rmse:0.98571\n",
      "[8]\tvalidation_0-rmse:0.99264\tvalidation_1-rmse:0.98265\n",
      "[9]\tvalidation_0-rmse:0.99112\tvalidation_1-rmse:0.98152\n"
     ]
    },
    {
     "name": "stderr",
     "output_type": "stream",
     "text": [
      "D:\\Anaconda\\lib\\site-packages\\xgboost\\data.py:112: UserWarning: Use subset (sliced data) of np.ndarray is not recommended because it will generate extra copies and increase memory consumption\n",
      "  warnings.warn(\n"
     ]
    },
    {
     "name": "stdout",
     "output_type": "stream",
     "text": [
      "[0]\tvalidation_0-rmse:1.19308\tvalidation_1-rmse:1.12797\n",
      "[1]\tvalidation_0-rmse:1.15742\tvalidation_1-rmse:1.09748\n",
      "[2]\tvalidation_0-rmse:1.13634\tvalidation_1-rmse:1.07902\n",
      "[3]\tvalidation_0-rmse:1.06512\tvalidation_1-rmse:1.02900\n",
      "[4]\tvalidation_0-rmse:1.04581\tvalidation_1-rmse:1.01573\n",
      "[5]\tvalidation_0-rmse:1.03887\tvalidation_1-rmse:1.01039\n",
      "[6]\tvalidation_0-rmse:1.01980\tvalidation_1-rmse:1.00153\n",
      "[7]\tvalidation_0-rmse:0.99685\tvalidation_1-rmse:0.98723\n",
      "[8]\tvalidation_0-rmse:0.99355\tvalidation_1-rmse:0.98397\n",
      "[9]\tvalidation_0-rmse:0.99236\tvalidation_1-rmse:0.98271\n"
     ]
    },
    {
     "name": "stderr",
     "output_type": "stream",
     "text": [
      "D:\\Anaconda\\lib\\site-packages\\xgboost\\data.py:112: UserWarning: Use subset (sliced data) of np.ndarray is not recommended because it will generate extra copies and increase memory consumption\n",
      "  warnings.warn(\n"
     ]
    },
    {
     "name": "stdout",
     "output_type": "stream",
     "text": [
      "[0]\tvalidation_0-rmse:1.19246\tvalidation_1-rmse:1.12911\n",
      "[1]\tvalidation_0-rmse:1.15668\tvalidation_1-rmse:1.09867\n",
      "[2]\tvalidation_0-rmse:1.13889\tvalidation_1-rmse:1.08033\n",
      "[3]\tvalidation_0-rmse:1.06360\tvalidation_1-rmse:1.02952\n",
      "[4]\tvalidation_0-rmse:1.04418\tvalidation_1-rmse:1.01613\n",
      "[5]\tvalidation_0-rmse:1.03961\tvalidation_1-rmse:1.01081\n",
      "[6]\tvalidation_0-rmse:1.02100\tvalidation_1-rmse:1.00144\n",
      "[7]\tvalidation_0-rmse:0.99917\tvalidation_1-rmse:0.98727\n",
      "[8]\tvalidation_0-rmse:0.99220\tvalidation_1-rmse:0.98407\n",
      "[9]\tvalidation_0-rmse:0.99139\tvalidation_1-rmse:0.98293\n",
      "[10]\tvalidation_0-rmse:0.98881\tvalidation_1-rmse:0.98201\n",
      "[11]\tvalidation_0-rmse:0.97822\tvalidation_1-rmse:0.97654\n",
      "[12]\tvalidation_0-rmse:0.97191\tvalidation_1-rmse:0.97372\n",
      "[13]\tvalidation_0-rmse:0.97037\tvalidation_1-rmse:0.97438\n",
      "[14]\tvalidation_0-rmse:0.96646\tvalidation_1-rmse:0.97361\n",
      "[15]\tvalidation_0-rmse:0.96499\tvalidation_1-rmse:0.97350\n",
      "[16]\tvalidation_0-rmse:0.96329\tvalidation_1-rmse:0.97350\n",
      "[17]\tvalidation_0-rmse:0.96328\tvalidation_1-rmse:0.97326\n",
      "[18]\tvalidation_0-rmse:0.96003\tvalidation_1-rmse:0.97139\n",
      "[19]\tvalidation_0-rmse:0.95934\tvalidation_1-rmse:0.97065\n",
      "[20]\tvalidation_0-rmse:0.95749\tvalidation_1-rmse:0.96923\n",
      "[21]\tvalidation_0-rmse:0.95734\tvalidation_1-rmse:0.96871\n",
      "[22]\tvalidation_0-rmse:0.95680\tvalidation_1-rmse:0.96854\n",
      "[23]\tvalidation_0-rmse:0.95569\tvalidation_1-rmse:0.96882\n",
      "[24]\tvalidation_0-rmse:0.95454\tvalidation_1-rmse:0.96969\n",
      "[25]\tvalidation_0-rmse:0.95371\tvalidation_1-rmse:0.96921\n",
      "[26]\tvalidation_0-rmse:0.95290\tvalidation_1-rmse:0.96955\n"
     ]
    },
    {
     "name": "stderr",
     "output_type": "stream",
     "text": [
      "D:\\Anaconda\\lib\\site-packages\\xgboost\\data.py:112: UserWarning: Use subset (sliced data) of np.ndarray is not recommended because it will generate extra copies and increase memory consumption\n",
      "  warnings.warn(\n"
     ]
    },
    {
     "name": "stdout",
     "output_type": "stream",
     "text": [
      "[0]\tvalidation_0-rmse:1.19358\tvalidation_1-rmse:1.12859\n",
      "[1]\tvalidation_0-rmse:1.15768\tvalidation_1-rmse:1.09767\n",
      "[2]\tvalidation_0-rmse:1.13601\tvalidation_1-rmse:1.07915\n",
      "[3]\tvalidation_0-rmse:1.06459\tvalidation_1-rmse:1.02906\n",
      "[4]\tvalidation_0-rmse:1.04460\tvalidation_1-rmse:1.01562\n",
      "[5]\tvalidation_0-rmse:1.03891\tvalidation_1-rmse:1.01004\n",
      "[6]\tvalidation_0-rmse:1.01905\tvalidation_1-rmse:1.00053\n",
      "[7]\tvalidation_0-rmse:0.99585\tvalidation_1-rmse:0.98580\n",
      "[8]\tvalidation_0-rmse:0.99264\tvalidation_1-rmse:0.98322\n",
      "[9]\tvalidation_0-rmse:0.99067\tvalidation_1-rmse:0.98188\n",
      "[10]\tvalidation_0-rmse:0.98939\tvalidation_1-rmse:0.98074\n",
      "[11]\tvalidation_0-rmse:0.97847\tvalidation_1-rmse:0.97519\n",
      "[12]\tvalidation_0-rmse:0.97153\tvalidation_1-rmse:0.97306\n",
      "[13]\tvalidation_0-rmse:0.97027\tvalidation_1-rmse:0.97338\n",
      "[14]\tvalidation_0-rmse:0.96694\tvalidation_1-rmse:0.97253\n",
      "[15]\tvalidation_0-rmse:0.96533\tvalidation_1-rmse:0.97228\n",
      "[16]\tvalidation_0-rmse:0.96344\tvalidation_1-rmse:0.97224\n",
      "[17]\tvalidation_0-rmse:0.96326\tvalidation_1-rmse:0.97220\n",
      "[18]\tvalidation_0-rmse:0.95965\tvalidation_1-rmse:0.97043\n",
      "[19]\tvalidation_0-rmse:0.95906\tvalidation_1-rmse:0.96983\n",
      "[20]\tvalidation_0-rmse:0.95799\tvalidation_1-rmse:0.96855\n",
      "[21]\tvalidation_0-rmse:0.95758\tvalidation_1-rmse:0.96814\n",
      "[22]\tvalidation_0-rmse:0.95717\tvalidation_1-rmse:0.96794\n",
      "[23]\tvalidation_0-rmse:0.95586\tvalidation_1-rmse:0.96813\n",
      "[24]\tvalidation_0-rmse:0.95459\tvalidation_1-rmse:0.96885\n",
      "[25]\tvalidation_0-rmse:0.95356\tvalidation_1-rmse:0.96815\n",
      "[26]\tvalidation_0-rmse:0.95284\tvalidation_1-rmse:0.96833\n"
     ]
    },
    {
     "name": "stderr",
     "output_type": "stream",
     "text": [
      "D:\\Anaconda\\lib\\site-packages\\xgboost\\data.py:112: UserWarning: Use subset (sliced data) of np.ndarray is not recommended because it will generate extra copies and increase memory consumption\n",
      "  warnings.warn(\n"
     ]
    },
    {
     "name": "stdout",
     "output_type": "stream",
     "text": [
      "[0]\tvalidation_0-rmse:1.19555\tvalidation_1-rmse:1.12398\n",
      "[1]\tvalidation_0-rmse:1.16059\tvalidation_1-rmse:1.09329\n",
      "[2]\tvalidation_0-rmse:1.13750\tvalidation_1-rmse:1.07477\n",
      "[3]\tvalidation_0-rmse:1.06312\tvalidation_1-rmse:1.02535\n",
      "[4]\tvalidation_0-rmse:1.04662\tvalidation_1-rmse:1.01212\n",
      "[5]\tvalidation_0-rmse:1.03923\tvalidation_1-rmse:1.00660\n",
      "[6]\tvalidation_0-rmse:1.02155\tvalidation_1-rmse:0.99818\n",
      "[7]\tvalidation_0-rmse:0.99775\tvalidation_1-rmse:0.98416\n",
      "[8]\tvalidation_0-rmse:0.99449\tvalidation_1-rmse:0.98147\n",
      "[9]\tvalidation_0-rmse:0.99333\tvalidation_1-rmse:0.98053\n",
      "[10]\tvalidation_0-rmse:0.99079\tvalidation_1-rmse:0.97930\n",
      "[11]\tvalidation_0-rmse:0.97922\tvalidation_1-rmse:0.97364\n",
      "[12]\tvalidation_0-rmse:0.97292\tvalidation_1-rmse:0.97116\n",
      "[13]\tvalidation_0-rmse:0.97048\tvalidation_1-rmse:0.97124\n",
      "[14]\tvalidation_0-rmse:0.96696\tvalidation_1-rmse:0.97044\n",
      "[15]\tvalidation_0-rmse:0.96515\tvalidation_1-rmse:0.97031\n",
      "[16]\tvalidation_0-rmse:0.96351\tvalidation_1-rmse:0.97035\n",
      "[17]\tvalidation_0-rmse:0.96321\tvalidation_1-rmse:0.96973\n",
      "[18]\tvalidation_0-rmse:0.95966\tvalidation_1-rmse:0.96796\n",
      "[19]\tvalidation_0-rmse:0.95911\tvalidation_1-rmse:0.96746\n",
      "[20]\tvalidation_0-rmse:0.95838\tvalidation_1-rmse:0.96645\n",
      "[21]\tvalidation_0-rmse:0.95782\tvalidation_1-rmse:0.96605\n",
      "[22]\tvalidation_0-rmse:0.95753\tvalidation_1-rmse:0.96582\n",
      "[23]\tvalidation_0-rmse:0.95625\tvalidation_1-rmse:0.96587\n",
      "[24]\tvalidation_0-rmse:0.95519\tvalidation_1-rmse:0.96662\n",
      "[25]\tvalidation_0-rmse:0.95420\tvalidation_1-rmse:0.96589\n",
      "[26]\tvalidation_0-rmse:0.95356\tvalidation_1-rmse:0.96601\n",
      "[27]\tvalidation_0-rmse:0.95329\tvalidation_1-rmse:0.96588\n"
     ]
    },
    {
     "name": "stderr",
     "output_type": "stream",
     "text": [
      "D:\\Anaconda\\lib\\site-packages\\xgboost\\data.py:112: UserWarning: Use subset (sliced data) of np.ndarray is not recommended because it will generate extra copies and increase memory consumption\n",
      "  warnings.warn(\n"
     ]
    },
    {
     "name": "stdout",
     "output_type": "stream",
     "text": [
      "[0]\tvalidation_0-rmse:1.19333\tvalidation_1-rmse:1.12911\n",
      "[1]\tvalidation_0-rmse:1.15728\tvalidation_1-rmse:1.09818\n",
      "[2]\tvalidation_0-rmse:1.13490\tvalidation_1-rmse:1.07964\n",
      "[3]\tvalidation_0-rmse:1.06275\tvalidation_1-rmse:1.02947\n",
      "[4]\tvalidation_0-rmse:1.04406\tvalidation_1-rmse:1.01575\n",
      "[5]\tvalidation_0-rmse:1.03727\tvalidation_1-rmse:1.01023\n",
      "[6]\tvalidation_0-rmse:1.02170\tvalidation_1-rmse:1.00028\n",
      "[7]\tvalidation_0-rmse:0.99502\tvalidation_1-rmse:0.98571\n",
      "[8]\tvalidation_0-rmse:0.99264\tvalidation_1-rmse:0.98265\n",
      "[9]\tvalidation_0-rmse:0.99112\tvalidation_1-rmse:0.98152\n",
      "[10]\tvalidation_0-rmse:0.98909\tvalidation_1-rmse:0.98052\n",
      "[11]\tvalidation_0-rmse:0.97702\tvalidation_1-rmse:0.97413\n",
      "[12]\tvalidation_0-rmse:0.97045\tvalidation_1-rmse:0.97169\n",
      "[13]\tvalidation_0-rmse:0.96882\tvalidation_1-rmse:0.97159\n",
      "[14]\tvalidation_0-rmse:0.96628\tvalidation_1-rmse:0.97117\n",
      "[15]\tvalidation_0-rmse:0.96444\tvalidation_1-rmse:0.97044\n",
      "[16]\tvalidation_0-rmse:0.96259\tvalidation_1-rmse:0.97046\n",
      "[17]\tvalidation_0-rmse:0.96243\tvalidation_1-rmse:0.97053\n",
      "[18]\tvalidation_0-rmse:0.95941\tvalidation_1-rmse:0.96873\n",
      "[19]\tvalidation_0-rmse:0.95874\tvalidation_1-rmse:0.96815\n",
      "[20]\tvalidation_0-rmse:0.95768\tvalidation_1-rmse:0.96688\n",
      "[21]\tvalidation_0-rmse:0.95733\tvalidation_1-rmse:0.96652\n",
      "[22]\tvalidation_0-rmse:0.95679\tvalidation_1-rmse:0.96631\n",
      "[23]\tvalidation_0-rmse:0.95578\tvalidation_1-rmse:0.96657\n",
      "[24]\tvalidation_0-rmse:0.95468\tvalidation_1-rmse:0.96676\n",
      "[25]\tvalidation_0-rmse:0.95328\tvalidation_1-rmse:0.96583\n",
      "[26]\tvalidation_0-rmse:0.95236\tvalidation_1-rmse:0.96630\n",
      "[27]\tvalidation_0-rmse:0.95200\tvalidation_1-rmse:0.96600\n",
      "[28]\tvalidation_0-rmse:0.95142\tvalidation_1-rmse:0.96549\n",
      "[29]\tvalidation_0-rmse:0.95100\tvalidation_1-rmse:0.96568\n",
      "[30]\tvalidation_0-rmse:0.95044\tvalidation_1-rmse:0.96564\n",
      "[31]\tvalidation_0-rmse:0.95016\tvalidation_1-rmse:0.96536\n",
      "[32]\tvalidation_0-rmse:0.94924\tvalidation_1-rmse:0.96504\n",
      "[33]\tvalidation_0-rmse:0.94910\tvalidation_1-rmse:0.96506\n",
      "[34]\tvalidation_0-rmse:0.94867\tvalidation_1-rmse:0.96428\n",
      "[35]\tvalidation_0-rmse:0.94839\tvalidation_1-rmse:0.96424\n",
      "[36]\tvalidation_0-rmse:0.94765\tvalidation_1-rmse:0.96466\n",
      "[37]\tvalidation_0-rmse:0.94743\tvalidation_1-rmse:0.96435\n",
      "[38]\tvalidation_0-rmse:0.94727\tvalidation_1-rmse:0.96421\n",
      "[39]\tvalidation_0-rmse:0.94707\tvalidation_1-rmse:0.96406\n",
      "[40]\tvalidation_0-rmse:0.94673\tvalidation_1-rmse:0.96406\n",
      "[41]\tvalidation_0-rmse:0.94653\tvalidation_1-rmse:0.96409\n",
      "[42]\tvalidation_0-rmse:0.94631\tvalidation_1-rmse:0.96374\n",
      "[43]\tvalidation_0-rmse:0.94596\tvalidation_1-rmse:0.96322\n",
      "[44]\tvalidation_0-rmse:0.94587\tvalidation_1-rmse:0.96329\n",
      "[45]\tvalidation_0-rmse:0.94571\tvalidation_1-rmse:0.96275\n",
      "[46]\tvalidation_0-rmse:0.94541\tvalidation_1-rmse:0.96276\n",
      "[47]\tvalidation_0-rmse:0.94487\tvalidation_1-rmse:0.96290\n",
      "[48]\tvalidation_0-rmse:0.94468\tvalidation_1-rmse:0.96259\n",
      "[49]\tvalidation_0-rmse:0.94453\tvalidation_1-rmse:0.96273\n",
      "[50]\tvalidation_0-rmse:0.94445\tvalidation_1-rmse:0.96306\n",
      "[51]\tvalidation_0-rmse:0.94432\tvalidation_1-rmse:0.96318\n",
      "[52]\tvalidation_0-rmse:0.94391\tvalidation_1-rmse:0.96319\n",
      "[53]\tvalidation_0-rmse:0.94378\tvalidation_1-rmse:0.96320\n"
     ]
    },
    {
     "name": "stderr",
     "output_type": "stream",
     "text": [
      "D:\\Anaconda\\lib\\site-packages\\xgboost\\data.py:112: UserWarning: Use subset (sliced data) of np.ndarray is not recommended because it will generate extra copies and increase memory consumption\n",
      "  warnings.warn(\n"
     ]
    },
    {
     "name": "stdout",
     "output_type": "stream",
     "text": [
      "[0]\tvalidation_0-rmse:1.19308\tvalidation_1-rmse:1.12797\n",
      "[1]\tvalidation_0-rmse:1.15742\tvalidation_1-rmse:1.09748\n",
      "[2]\tvalidation_0-rmse:1.13634\tvalidation_1-rmse:1.07902\n",
      "[3]\tvalidation_0-rmse:1.06512\tvalidation_1-rmse:1.02900\n",
      "[4]\tvalidation_0-rmse:1.04581\tvalidation_1-rmse:1.01573\n",
      "[5]\tvalidation_0-rmse:1.03887\tvalidation_1-rmse:1.01039\n",
      "[6]\tvalidation_0-rmse:1.01980\tvalidation_1-rmse:1.00153\n",
      "[7]\tvalidation_0-rmse:0.99685\tvalidation_1-rmse:0.98723\n",
      "[8]\tvalidation_0-rmse:0.99355\tvalidation_1-rmse:0.98397\n",
      "[9]\tvalidation_0-rmse:0.99236\tvalidation_1-rmse:0.98271\n",
      "[10]\tvalidation_0-rmse:0.99055\tvalidation_1-rmse:0.98159\n",
      "[11]\tvalidation_0-rmse:0.97899\tvalidation_1-rmse:0.97598\n",
      "[12]\tvalidation_0-rmse:0.97308\tvalidation_1-rmse:0.97313\n",
      "[13]\tvalidation_0-rmse:0.97107\tvalidation_1-rmse:0.97367\n",
      "[14]\tvalidation_0-rmse:0.96734\tvalidation_1-rmse:0.97283\n",
      "[15]\tvalidation_0-rmse:0.96593\tvalidation_1-rmse:0.97247\n",
      "[16]\tvalidation_0-rmse:0.96412\tvalidation_1-rmse:0.97213\n",
      "[17]\tvalidation_0-rmse:0.96324\tvalidation_1-rmse:0.97167\n",
      "[18]\tvalidation_0-rmse:0.96060\tvalidation_1-rmse:0.96978\n",
      "[19]\tvalidation_0-rmse:0.95992\tvalidation_1-rmse:0.96912\n",
      "[20]\tvalidation_0-rmse:0.95903\tvalidation_1-rmse:0.96783\n",
      "[21]\tvalidation_0-rmse:0.95867\tvalidation_1-rmse:0.96747\n",
      "[22]\tvalidation_0-rmse:0.95796\tvalidation_1-rmse:0.96707\n",
      "[23]\tvalidation_0-rmse:0.95670\tvalidation_1-rmse:0.96724\n",
      "[24]\tvalidation_0-rmse:0.95554\tvalidation_1-rmse:0.96731\n",
      "[25]\tvalidation_0-rmse:0.95469\tvalidation_1-rmse:0.96710\n",
      "[26]\tvalidation_0-rmse:0.95335\tvalidation_1-rmse:0.96766\n"
     ]
    },
    {
     "name": "stderr",
     "output_type": "stream",
     "text": [
      "D:\\Anaconda\\lib\\site-packages\\xgboost\\data.py:112: UserWarning: Use subset (sliced data) of np.ndarray is not recommended because it will generate extra copies and increase memory consumption\n",
      "  warnings.warn(\n"
     ]
    },
    {
     "name": "stdout",
     "output_type": "stream",
     "text": [
      "[0]\tvalidation_0-rmse:1.19246\tvalidation_1-rmse:1.12911\n"
     ]
    },
    {
     "name": "stderr",
     "output_type": "stream",
     "text": [
      "D:\\Anaconda\\lib\\site-packages\\xgboost\\data.py:112: UserWarning: Use subset (sliced data) of np.ndarray is not recommended because it will generate extra copies and increase memory consumption\n",
      "  warnings.warn(\n"
     ]
    },
    {
     "name": "stdout",
     "output_type": "stream",
     "text": [
      "[0]\tvalidation_0-rmse:1.19358\tvalidation_1-rmse:1.12859\n"
     ]
    },
    {
     "name": "stderr",
     "output_type": "stream",
     "text": [
      "D:\\Anaconda\\lib\\site-packages\\xgboost\\data.py:112: UserWarning: Use subset (sliced data) of np.ndarray is not recommended because it will generate extra copies and increase memory consumption\n",
      "  warnings.warn(\n"
     ]
    },
    {
     "name": "stdout",
     "output_type": "stream",
     "text": [
      "[0]\tvalidation_0-rmse:1.19555\tvalidation_1-rmse:1.12398\n"
     ]
    },
    {
     "name": "stderr",
     "output_type": "stream",
     "text": [
      "D:\\Anaconda\\lib\\site-packages\\xgboost\\data.py:112: UserWarning: Use subset (sliced data) of np.ndarray is not recommended because it will generate extra copies and increase memory consumption\n",
      "  warnings.warn(\n"
     ]
    },
    {
     "name": "stdout",
     "output_type": "stream",
     "text": [
      "[0]\tvalidation_0-rmse:1.19333\tvalidation_1-rmse:1.12911\n"
     ]
    },
    {
     "name": "stderr",
     "output_type": "stream",
     "text": [
      "D:\\Anaconda\\lib\\site-packages\\xgboost\\data.py:112: UserWarning: Use subset (sliced data) of np.ndarray is not recommended because it will generate extra copies and increase memory consumption\n",
      "  warnings.warn(\n"
     ]
    },
    {
     "name": "stdout",
     "output_type": "stream",
     "text": [
      "[0]\tvalidation_0-rmse:1.19308\tvalidation_1-rmse:1.12797\n"
     ]
    },
    {
     "name": "stderr",
     "output_type": "stream",
     "text": [
      "D:\\Anaconda\\lib\\site-packages\\xgboost\\data.py:112: UserWarning: Use subset (sliced data) of np.ndarray is not recommended because it will generate extra copies and increase memory consumption\n",
      "  warnings.warn(\n"
     ]
    },
    {
     "name": "stdout",
     "output_type": "stream",
     "text": [
      "[0]\tvalidation_0-rmse:1.19246\tvalidation_1-rmse:1.12911\n",
      "[1]\tvalidation_0-rmse:1.15668\tvalidation_1-rmse:1.09867\n",
      "[2]\tvalidation_0-rmse:1.13889\tvalidation_1-rmse:1.08033\n",
      "[3]\tvalidation_0-rmse:1.06360\tvalidation_1-rmse:1.02952\n",
      "[4]\tvalidation_0-rmse:1.04418\tvalidation_1-rmse:1.01613\n",
      "[5]\tvalidation_0-rmse:1.03961\tvalidation_1-rmse:1.01081\n",
      "[6]\tvalidation_0-rmse:1.02100\tvalidation_1-rmse:1.00144\n",
      "[7]\tvalidation_0-rmse:0.99917\tvalidation_1-rmse:0.98727\n",
      "[8]\tvalidation_0-rmse:0.99220\tvalidation_1-rmse:0.98407\n",
      "[9]\tvalidation_0-rmse:0.99139\tvalidation_1-rmse:0.98293\n"
     ]
    },
    {
     "name": "stderr",
     "output_type": "stream",
     "text": [
      "D:\\Anaconda\\lib\\site-packages\\xgboost\\data.py:112: UserWarning: Use subset (sliced data) of np.ndarray is not recommended because it will generate extra copies and increase memory consumption\n",
      "  warnings.warn(\n"
     ]
    },
    {
     "name": "stdout",
     "output_type": "stream",
     "text": [
      "[0]\tvalidation_0-rmse:1.19358\tvalidation_1-rmse:1.12859\n",
      "[1]\tvalidation_0-rmse:1.15768\tvalidation_1-rmse:1.09767\n",
      "[2]\tvalidation_0-rmse:1.13601\tvalidation_1-rmse:1.07915\n",
      "[3]\tvalidation_0-rmse:1.06459\tvalidation_1-rmse:1.02906\n",
      "[4]\tvalidation_0-rmse:1.04460\tvalidation_1-rmse:1.01562\n",
      "[5]\tvalidation_0-rmse:1.03891\tvalidation_1-rmse:1.01004\n",
      "[6]\tvalidation_0-rmse:1.01905\tvalidation_1-rmse:1.00053\n",
      "[7]\tvalidation_0-rmse:0.99585\tvalidation_1-rmse:0.98580\n",
      "[8]\tvalidation_0-rmse:0.99264\tvalidation_1-rmse:0.98322\n",
      "[9]\tvalidation_0-rmse:0.99067\tvalidation_1-rmse:0.98188\n"
     ]
    },
    {
     "name": "stderr",
     "output_type": "stream",
     "text": [
      "D:\\Anaconda\\lib\\site-packages\\xgboost\\data.py:112: UserWarning: Use subset (sliced data) of np.ndarray is not recommended because it will generate extra copies and increase memory consumption\n",
      "  warnings.warn(\n"
     ]
    },
    {
     "name": "stdout",
     "output_type": "stream",
     "text": [
      "[0]\tvalidation_0-rmse:1.19555\tvalidation_1-rmse:1.12398\n",
      "[1]\tvalidation_0-rmse:1.16059\tvalidation_1-rmse:1.09329\n",
      "[2]\tvalidation_0-rmse:1.13750\tvalidation_1-rmse:1.07477\n",
      "[3]\tvalidation_0-rmse:1.06312\tvalidation_1-rmse:1.02535\n",
      "[4]\tvalidation_0-rmse:1.04662\tvalidation_1-rmse:1.01212\n",
      "[5]\tvalidation_0-rmse:1.03923\tvalidation_1-rmse:1.00660\n",
      "[6]\tvalidation_0-rmse:1.02155\tvalidation_1-rmse:0.99818\n",
      "[7]\tvalidation_0-rmse:0.99775\tvalidation_1-rmse:0.98416\n",
      "[8]\tvalidation_0-rmse:0.99449\tvalidation_1-rmse:0.98147\n",
      "[9]\tvalidation_0-rmse:0.99333\tvalidation_1-rmse:0.98053\n"
     ]
    },
    {
     "name": "stderr",
     "output_type": "stream",
     "text": [
      "D:\\Anaconda\\lib\\site-packages\\xgboost\\data.py:112: UserWarning: Use subset (sliced data) of np.ndarray is not recommended because it will generate extra copies and increase memory consumption\n",
      "  warnings.warn(\n"
     ]
    },
    {
     "name": "stdout",
     "output_type": "stream",
     "text": [
      "[0]\tvalidation_0-rmse:1.19333\tvalidation_1-rmse:1.12911\n",
      "[1]\tvalidation_0-rmse:1.15728\tvalidation_1-rmse:1.09818\n",
      "[2]\tvalidation_0-rmse:1.13490\tvalidation_1-rmse:1.07964\n",
      "[3]\tvalidation_0-rmse:1.06275\tvalidation_1-rmse:1.02947\n",
      "[4]\tvalidation_0-rmse:1.04406\tvalidation_1-rmse:1.01575\n",
      "[5]\tvalidation_0-rmse:1.03727\tvalidation_1-rmse:1.01023\n",
      "[6]\tvalidation_0-rmse:1.02170\tvalidation_1-rmse:1.00028\n",
      "[7]\tvalidation_0-rmse:0.99502\tvalidation_1-rmse:0.98571\n",
      "[8]\tvalidation_0-rmse:0.99264\tvalidation_1-rmse:0.98265\n",
      "[9]\tvalidation_0-rmse:0.99112\tvalidation_1-rmse:0.98152\n"
     ]
    },
    {
     "name": "stderr",
     "output_type": "stream",
     "text": [
      "D:\\Anaconda\\lib\\site-packages\\xgboost\\data.py:112: UserWarning: Use subset (sliced data) of np.ndarray is not recommended because it will generate extra copies and increase memory consumption\n",
      "  warnings.warn(\n"
     ]
    },
    {
     "name": "stdout",
     "output_type": "stream",
     "text": [
      "[0]\tvalidation_0-rmse:1.19308\tvalidation_1-rmse:1.12797\n",
      "[1]\tvalidation_0-rmse:1.15742\tvalidation_1-rmse:1.09748\n",
      "[2]\tvalidation_0-rmse:1.13634\tvalidation_1-rmse:1.07902\n",
      "[3]\tvalidation_0-rmse:1.06512\tvalidation_1-rmse:1.02900\n",
      "[4]\tvalidation_0-rmse:1.04581\tvalidation_1-rmse:1.01573\n",
      "[5]\tvalidation_0-rmse:1.03887\tvalidation_1-rmse:1.01039\n",
      "[6]\tvalidation_0-rmse:1.01980\tvalidation_1-rmse:1.00153\n",
      "[7]\tvalidation_0-rmse:0.99685\tvalidation_1-rmse:0.98723\n",
      "[8]\tvalidation_0-rmse:0.99355\tvalidation_1-rmse:0.98397\n",
      "[9]\tvalidation_0-rmse:0.99236\tvalidation_1-rmse:0.98271\n"
     ]
    },
    {
     "name": "stderr",
     "output_type": "stream",
     "text": [
      "D:\\Anaconda\\lib\\site-packages\\xgboost\\data.py:112: UserWarning: Use subset (sliced data) of np.ndarray is not recommended because it will generate extra copies and increase memory consumption\n",
      "  warnings.warn(\n"
     ]
    },
    {
     "name": "stdout",
     "output_type": "stream",
     "text": [
      "[0]\tvalidation_0-rmse:1.19246\tvalidation_1-rmse:1.12911\n",
      "[1]\tvalidation_0-rmse:1.15668\tvalidation_1-rmse:1.09867\n",
      "[2]\tvalidation_0-rmse:1.13889\tvalidation_1-rmse:1.08033\n",
      "[3]\tvalidation_0-rmse:1.06360\tvalidation_1-rmse:1.02952\n",
      "[4]\tvalidation_0-rmse:1.04418\tvalidation_1-rmse:1.01613\n",
      "[5]\tvalidation_0-rmse:1.03961\tvalidation_1-rmse:1.01081\n",
      "[6]\tvalidation_0-rmse:1.02100\tvalidation_1-rmse:1.00144\n",
      "[7]\tvalidation_0-rmse:0.99917\tvalidation_1-rmse:0.98727\n",
      "[8]\tvalidation_0-rmse:0.99220\tvalidation_1-rmse:0.98407\n",
      "[9]\tvalidation_0-rmse:0.99139\tvalidation_1-rmse:0.98293\n",
      "[10]\tvalidation_0-rmse:0.98881\tvalidation_1-rmse:0.98201\n",
      "[11]\tvalidation_0-rmse:0.97822\tvalidation_1-rmse:0.97654\n",
      "[12]\tvalidation_0-rmse:0.97191\tvalidation_1-rmse:0.97372\n",
      "[13]\tvalidation_0-rmse:0.97037\tvalidation_1-rmse:0.97438\n",
      "[14]\tvalidation_0-rmse:0.96646\tvalidation_1-rmse:0.97361\n",
      "[15]\tvalidation_0-rmse:0.96499\tvalidation_1-rmse:0.97350\n",
      "[16]\tvalidation_0-rmse:0.96329\tvalidation_1-rmse:0.97350\n",
      "[17]\tvalidation_0-rmse:0.96328\tvalidation_1-rmse:0.97326\n",
      "[18]\tvalidation_0-rmse:0.96003\tvalidation_1-rmse:0.97139\n",
      "[19]\tvalidation_0-rmse:0.95934\tvalidation_1-rmse:0.97065\n",
      "[20]\tvalidation_0-rmse:0.95749\tvalidation_1-rmse:0.96923\n",
      "[21]\tvalidation_0-rmse:0.95734\tvalidation_1-rmse:0.96871\n",
      "[22]\tvalidation_0-rmse:0.95680\tvalidation_1-rmse:0.96854\n",
      "[23]\tvalidation_0-rmse:0.95569\tvalidation_1-rmse:0.96882\n",
      "[24]\tvalidation_0-rmse:0.95454\tvalidation_1-rmse:0.96969\n",
      "[25]\tvalidation_0-rmse:0.95371\tvalidation_1-rmse:0.96921\n",
      "[26]\tvalidation_0-rmse:0.95290\tvalidation_1-rmse:0.96955\n",
      "[27]\tvalidation_0-rmse:0.95267\tvalidation_1-rmse:0.96910\n"
     ]
    },
    {
     "name": "stderr",
     "output_type": "stream",
     "text": [
      "D:\\Anaconda\\lib\\site-packages\\xgboost\\data.py:112: UserWarning: Use subset (sliced data) of np.ndarray is not recommended because it will generate extra copies and increase memory consumption\n",
      "  warnings.warn(\n"
     ]
    },
    {
     "name": "stdout",
     "output_type": "stream",
     "text": [
      "[0]\tvalidation_0-rmse:1.19358\tvalidation_1-rmse:1.12859\n",
      "[1]\tvalidation_0-rmse:1.15768\tvalidation_1-rmse:1.09767\n",
      "[2]\tvalidation_0-rmse:1.13601\tvalidation_1-rmse:1.07915\n",
      "[3]\tvalidation_0-rmse:1.06459\tvalidation_1-rmse:1.02906\n",
      "[4]\tvalidation_0-rmse:1.04460\tvalidation_1-rmse:1.01562\n",
      "[5]\tvalidation_0-rmse:1.03891\tvalidation_1-rmse:1.01004\n",
      "[6]\tvalidation_0-rmse:1.01905\tvalidation_1-rmse:1.00053\n",
      "[7]\tvalidation_0-rmse:0.99585\tvalidation_1-rmse:0.98580\n",
      "[8]\tvalidation_0-rmse:0.99264\tvalidation_1-rmse:0.98322\n",
      "[9]\tvalidation_0-rmse:0.99067\tvalidation_1-rmse:0.98188\n",
      "[10]\tvalidation_0-rmse:0.98939\tvalidation_1-rmse:0.98074\n",
      "[11]\tvalidation_0-rmse:0.97847\tvalidation_1-rmse:0.97519\n",
      "[12]\tvalidation_0-rmse:0.97153\tvalidation_1-rmse:0.97306\n",
      "[13]\tvalidation_0-rmse:0.97027\tvalidation_1-rmse:0.97338\n",
      "[14]\tvalidation_0-rmse:0.96694\tvalidation_1-rmse:0.97253\n",
      "[15]\tvalidation_0-rmse:0.96533\tvalidation_1-rmse:0.97228\n",
      "[16]\tvalidation_0-rmse:0.96344\tvalidation_1-rmse:0.97224\n",
      "[17]\tvalidation_0-rmse:0.96326\tvalidation_1-rmse:0.97220\n",
      "[18]\tvalidation_0-rmse:0.95965\tvalidation_1-rmse:0.97043\n",
      "[19]\tvalidation_0-rmse:0.95906\tvalidation_1-rmse:0.96983\n",
      "[20]\tvalidation_0-rmse:0.95799\tvalidation_1-rmse:0.96855\n",
      "[21]\tvalidation_0-rmse:0.95758\tvalidation_1-rmse:0.96814\n",
      "[22]\tvalidation_0-rmse:0.95717\tvalidation_1-rmse:0.96794\n",
      "[23]\tvalidation_0-rmse:0.95586\tvalidation_1-rmse:0.96813\n",
      "[24]\tvalidation_0-rmse:0.95459\tvalidation_1-rmse:0.96885\n",
      "[25]\tvalidation_0-rmse:0.95356\tvalidation_1-rmse:0.96815\n",
      "[26]\tvalidation_0-rmse:0.95284\tvalidation_1-rmse:0.96833\n"
     ]
    },
    {
     "name": "stderr",
     "output_type": "stream",
     "text": [
      "D:\\Anaconda\\lib\\site-packages\\xgboost\\data.py:112: UserWarning: Use subset (sliced data) of np.ndarray is not recommended because it will generate extra copies and increase memory consumption\n",
      "  warnings.warn(\n"
     ]
    },
    {
     "name": "stdout",
     "output_type": "stream",
     "text": [
      "[0]\tvalidation_0-rmse:1.19555\tvalidation_1-rmse:1.12398\n",
      "[1]\tvalidation_0-rmse:1.16059\tvalidation_1-rmse:1.09329\n",
      "[2]\tvalidation_0-rmse:1.13750\tvalidation_1-rmse:1.07477\n",
      "[3]\tvalidation_0-rmse:1.06312\tvalidation_1-rmse:1.02535\n",
      "[4]\tvalidation_0-rmse:1.04662\tvalidation_1-rmse:1.01212\n",
      "[5]\tvalidation_0-rmse:1.03923\tvalidation_1-rmse:1.00660\n",
      "[6]\tvalidation_0-rmse:1.02155\tvalidation_1-rmse:0.99818\n",
      "[7]\tvalidation_0-rmse:0.99775\tvalidation_1-rmse:0.98416\n",
      "[8]\tvalidation_0-rmse:0.99449\tvalidation_1-rmse:0.98147\n",
      "[9]\tvalidation_0-rmse:0.99333\tvalidation_1-rmse:0.98053\n",
      "[10]\tvalidation_0-rmse:0.99079\tvalidation_1-rmse:0.97930\n",
      "[11]\tvalidation_0-rmse:0.97922\tvalidation_1-rmse:0.97364\n",
      "[12]\tvalidation_0-rmse:0.97292\tvalidation_1-rmse:0.97116\n",
      "[13]\tvalidation_0-rmse:0.97048\tvalidation_1-rmse:0.97124\n",
      "[14]\tvalidation_0-rmse:0.96696\tvalidation_1-rmse:0.97044\n",
      "[15]\tvalidation_0-rmse:0.96515\tvalidation_1-rmse:0.97031\n",
      "[16]\tvalidation_0-rmse:0.96351\tvalidation_1-rmse:0.97035\n",
      "[17]\tvalidation_0-rmse:0.96321\tvalidation_1-rmse:0.96973\n",
      "[18]\tvalidation_0-rmse:0.95966\tvalidation_1-rmse:0.96796\n",
      "[19]\tvalidation_0-rmse:0.95911\tvalidation_1-rmse:0.96746\n",
      "[20]\tvalidation_0-rmse:0.95838\tvalidation_1-rmse:0.96645\n",
      "[21]\tvalidation_0-rmse:0.95782\tvalidation_1-rmse:0.96605\n",
      "[22]\tvalidation_0-rmse:0.95753\tvalidation_1-rmse:0.96582\n",
      "[23]\tvalidation_0-rmse:0.95625\tvalidation_1-rmse:0.96587\n",
      "[24]\tvalidation_0-rmse:0.95519\tvalidation_1-rmse:0.96662\n",
      "[25]\tvalidation_0-rmse:0.95420\tvalidation_1-rmse:0.96589\n",
      "[26]\tvalidation_0-rmse:0.95356\tvalidation_1-rmse:0.96601\n"
     ]
    },
    {
     "name": "stderr",
     "output_type": "stream",
     "text": [
      "D:\\Anaconda\\lib\\site-packages\\xgboost\\data.py:112: UserWarning: Use subset (sliced data) of np.ndarray is not recommended because it will generate extra copies and increase memory consumption\n",
      "  warnings.warn(\n"
     ]
    },
    {
     "name": "stdout",
     "output_type": "stream",
     "text": [
      "[0]\tvalidation_0-rmse:1.19333\tvalidation_1-rmse:1.12911\n",
      "[1]\tvalidation_0-rmse:1.15728\tvalidation_1-rmse:1.09818\n",
      "[2]\tvalidation_0-rmse:1.13490\tvalidation_1-rmse:1.07964\n",
      "[3]\tvalidation_0-rmse:1.06275\tvalidation_1-rmse:1.02947\n",
      "[4]\tvalidation_0-rmse:1.04406\tvalidation_1-rmse:1.01575\n",
      "[5]\tvalidation_0-rmse:1.03727\tvalidation_1-rmse:1.01023\n",
      "[6]\tvalidation_0-rmse:1.02170\tvalidation_1-rmse:1.00028\n",
      "[7]\tvalidation_0-rmse:0.99502\tvalidation_1-rmse:0.98571\n",
      "[8]\tvalidation_0-rmse:0.99264\tvalidation_1-rmse:0.98265\n",
      "[9]\tvalidation_0-rmse:0.99112\tvalidation_1-rmse:0.98152\n",
      "[10]\tvalidation_0-rmse:0.98909\tvalidation_1-rmse:0.98052\n",
      "[11]\tvalidation_0-rmse:0.97702\tvalidation_1-rmse:0.97413\n",
      "[12]\tvalidation_0-rmse:0.97045\tvalidation_1-rmse:0.97169\n",
      "[13]\tvalidation_0-rmse:0.96882\tvalidation_1-rmse:0.97159\n",
      "[14]\tvalidation_0-rmse:0.96628\tvalidation_1-rmse:0.97117\n",
      "[15]\tvalidation_0-rmse:0.96444\tvalidation_1-rmse:0.97044\n",
      "[16]\tvalidation_0-rmse:0.96259\tvalidation_1-rmse:0.97046\n",
      "[17]\tvalidation_0-rmse:0.96243\tvalidation_1-rmse:0.97053\n",
      "[18]\tvalidation_0-rmse:0.95941\tvalidation_1-rmse:0.96873\n",
      "[19]\tvalidation_0-rmse:0.95874\tvalidation_1-rmse:0.96815\n",
      "[20]\tvalidation_0-rmse:0.95768\tvalidation_1-rmse:0.96688\n",
      "[21]\tvalidation_0-rmse:0.95733\tvalidation_1-rmse:0.96652\n",
      "[22]\tvalidation_0-rmse:0.95679\tvalidation_1-rmse:0.96631\n",
      "[23]\tvalidation_0-rmse:0.95578\tvalidation_1-rmse:0.96657\n",
      "[24]\tvalidation_0-rmse:0.95468\tvalidation_1-rmse:0.96676\n",
      "[25]\tvalidation_0-rmse:0.95328\tvalidation_1-rmse:0.96583\n",
      "[26]\tvalidation_0-rmse:0.95236\tvalidation_1-rmse:0.96630\n",
      "[27]\tvalidation_0-rmse:0.95200\tvalidation_1-rmse:0.96600\n",
      "[28]\tvalidation_0-rmse:0.95142\tvalidation_1-rmse:0.96549\n",
      "[29]\tvalidation_0-rmse:0.95100\tvalidation_1-rmse:0.96568\n",
      "[30]\tvalidation_0-rmse:0.95044\tvalidation_1-rmse:0.96564\n",
      "[31]\tvalidation_0-rmse:0.95016\tvalidation_1-rmse:0.96536\n",
      "[32]\tvalidation_0-rmse:0.94924\tvalidation_1-rmse:0.96504\n",
      "[33]\tvalidation_0-rmse:0.94910\tvalidation_1-rmse:0.96506\n",
      "[34]\tvalidation_0-rmse:0.94867\tvalidation_1-rmse:0.96428\n",
      "[35]\tvalidation_0-rmse:0.94839\tvalidation_1-rmse:0.96424\n",
      "[36]\tvalidation_0-rmse:0.94765\tvalidation_1-rmse:0.96466\n",
      "[37]\tvalidation_0-rmse:0.94743\tvalidation_1-rmse:0.96435\n",
      "[38]\tvalidation_0-rmse:0.94727\tvalidation_1-rmse:0.96421\n",
      "[39]\tvalidation_0-rmse:0.94707\tvalidation_1-rmse:0.96406\n",
      "[40]\tvalidation_0-rmse:0.94673\tvalidation_1-rmse:0.96406\n",
      "[41]\tvalidation_0-rmse:0.94653\tvalidation_1-rmse:0.96409\n",
      "[42]\tvalidation_0-rmse:0.94631\tvalidation_1-rmse:0.96374\n",
      "[43]\tvalidation_0-rmse:0.94596\tvalidation_1-rmse:0.96322\n",
      "[44]\tvalidation_0-rmse:0.94587\tvalidation_1-rmse:0.96329\n",
      "[45]\tvalidation_0-rmse:0.94571\tvalidation_1-rmse:0.96275\n",
      "[46]\tvalidation_0-rmse:0.94541\tvalidation_1-rmse:0.96276\n",
      "[47]\tvalidation_0-rmse:0.94487\tvalidation_1-rmse:0.96290\n",
      "[48]\tvalidation_0-rmse:0.94468\tvalidation_1-rmse:0.96259\n",
      "[49]\tvalidation_0-rmse:0.94453\tvalidation_1-rmse:0.96273\n",
      "[50]\tvalidation_0-rmse:0.94445\tvalidation_1-rmse:0.96306\n",
      "[51]\tvalidation_0-rmse:0.94432\tvalidation_1-rmse:0.96318\n",
      "[52]\tvalidation_0-rmse:0.94391\tvalidation_1-rmse:0.96319\n"
     ]
    },
    {
     "name": "stderr",
     "output_type": "stream",
     "text": [
      "D:\\Anaconda\\lib\\site-packages\\xgboost\\data.py:112: UserWarning: Use subset (sliced data) of np.ndarray is not recommended because it will generate extra copies and increase memory consumption\n",
      "  warnings.warn(\n"
     ]
    },
    {
     "name": "stdout",
     "output_type": "stream",
     "text": [
      "[0]\tvalidation_0-rmse:1.19308\tvalidation_1-rmse:1.12797\n",
      "[1]\tvalidation_0-rmse:1.15742\tvalidation_1-rmse:1.09748\n",
      "[2]\tvalidation_0-rmse:1.13634\tvalidation_1-rmse:1.07902\n",
      "[3]\tvalidation_0-rmse:1.06512\tvalidation_1-rmse:1.02900\n",
      "[4]\tvalidation_0-rmse:1.04581\tvalidation_1-rmse:1.01573\n",
      "[5]\tvalidation_0-rmse:1.03887\tvalidation_1-rmse:1.01039\n",
      "[6]\tvalidation_0-rmse:1.01980\tvalidation_1-rmse:1.00153\n",
      "[7]\tvalidation_0-rmse:0.99685\tvalidation_1-rmse:0.98723\n",
      "[8]\tvalidation_0-rmse:0.99355\tvalidation_1-rmse:0.98397\n",
      "[9]\tvalidation_0-rmse:0.99236\tvalidation_1-rmse:0.98271\n",
      "[10]\tvalidation_0-rmse:0.99055\tvalidation_1-rmse:0.98159\n",
      "[11]\tvalidation_0-rmse:0.97899\tvalidation_1-rmse:0.97598\n",
      "[12]\tvalidation_0-rmse:0.97308\tvalidation_1-rmse:0.97313\n",
      "[13]\tvalidation_0-rmse:0.97107\tvalidation_1-rmse:0.97367\n",
      "[14]\tvalidation_0-rmse:0.96734\tvalidation_1-rmse:0.97283\n",
      "[15]\tvalidation_0-rmse:0.96593\tvalidation_1-rmse:0.97247\n",
      "[16]\tvalidation_0-rmse:0.96412\tvalidation_1-rmse:0.97213\n",
      "[17]\tvalidation_0-rmse:0.96324\tvalidation_1-rmse:0.97167\n",
      "[18]\tvalidation_0-rmse:0.96060\tvalidation_1-rmse:0.96978\n",
      "[19]\tvalidation_0-rmse:0.95992\tvalidation_1-rmse:0.96912\n",
      "[20]\tvalidation_0-rmse:0.95903\tvalidation_1-rmse:0.96783\n",
      "[21]\tvalidation_0-rmse:0.95867\tvalidation_1-rmse:0.96747\n",
      "[22]\tvalidation_0-rmse:0.95796\tvalidation_1-rmse:0.96707\n",
      "[23]\tvalidation_0-rmse:0.95670\tvalidation_1-rmse:0.96724\n",
      "[24]\tvalidation_0-rmse:0.95554\tvalidation_1-rmse:0.96731\n",
      "[25]\tvalidation_0-rmse:0.95469\tvalidation_1-rmse:0.96710\n",
      "[26]\tvalidation_0-rmse:0.95335\tvalidation_1-rmse:0.96766\n"
     ]
    },
    {
     "name": "stderr",
     "output_type": "stream",
     "text": [
      "D:\\Anaconda\\lib\\site-packages\\xgboost\\data.py:112: UserWarning: Use subset (sliced data) of np.ndarray is not recommended because it will generate extra copies and increase memory consumption\n",
      "  warnings.warn(\n"
     ]
    },
    {
     "name": "stdout",
     "output_type": "stream",
     "text": [
      "[0]\tvalidation_0-rmse:1.17575\tvalidation_1-rmse:1.10963\n"
     ]
    },
    {
     "name": "stderr",
     "output_type": "stream",
     "text": [
      "D:\\Anaconda\\lib\\site-packages\\xgboost\\data.py:112: UserWarning: Use subset (sliced data) of np.ndarray is not recommended because it will generate extra copies and increase memory consumption\n",
      "  warnings.warn(\n"
     ]
    },
    {
     "name": "stdout",
     "output_type": "stream",
     "text": [
      "[0]\tvalidation_0-rmse:1.17730\tvalidation_1-rmse:1.11015\n"
     ]
    },
    {
     "name": "stderr",
     "output_type": "stream",
     "text": [
      "D:\\Anaconda\\lib\\site-packages\\xgboost\\data.py:112: UserWarning: Use subset (sliced data) of np.ndarray is not recommended because it will generate extra copies and increase memory consumption\n",
      "  warnings.warn(\n"
     ]
    },
    {
     "name": "stdout",
     "output_type": "stream",
     "text": [
      "[0]\tvalidation_0-rmse:1.17757\tvalidation_1-rmse:1.10984\n"
     ]
    },
    {
     "name": "stderr",
     "output_type": "stream",
     "text": [
      "D:\\Anaconda\\lib\\site-packages\\xgboost\\data.py:112: UserWarning: Use subset (sliced data) of np.ndarray is not recommended because it will generate extra copies and increase memory consumption\n",
      "  warnings.warn(\n"
     ]
    },
    {
     "name": "stdout",
     "output_type": "stream",
     "text": [
      "[0]\tvalidation_0-rmse:1.17644\tvalidation_1-rmse:1.10912\n"
     ]
    },
    {
     "name": "stderr",
     "output_type": "stream",
     "text": [
      "D:\\Anaconda\\lib\\site-packages\\xgboost\\data.py:112: UserWarning: Use subset (sliced data) of np.ndarray is not recommended because it will generate extra copies and increase memory consumption\n",
      "  warnings.warn(\n"
     ]
    },
    {
     "name": "stdout",
     "output_type": "stream",
     "text": [
      "[0]\tvalidation_0-rmse:1.17607\tvalidation_1-rmse:1.10899\n"
     ]
    },
    {
     "name": "stderr",
     "output_type": "stream",
     "text": [
      "D:\\Anaconda\\lib\\site-packages\\xgboost\\data.py:112: UserWarning: Use subset (sliced data) of np.ndarray is not recommended because it will generate extra copies and increase memory consumption\n",
      "  warnings.warn(\n"
     ]
    },
    {
     "name": "stdout",
     "output_type": "stream",
     "text": [
      "[0]\tvalidation_0-rmse:1.17575\tvalidation_1-rmse:1.10963\n",
      "[1]\tvalidation_0-rmse:1.13323\tvalidation_1-rmse:1.07053\n",
      "[2]\tvalidation_0-rmse:1.10601\tvalidation_1-rmse:1.04919\n",
      "[3]\tvalidation_0-rmse:1.03499\tvalidation_1-rmse:1.00146\n",
      "[4]\tvalidation_0-rmse:1.01761\tvalidation_1-rmse:0.99114\n",
      "[5]\tvalidation_0-rmse:1.01228\tvalidation_1-rmse:0.98747\n",
      "[6]\tvalidation_0-rmse:0.99637\tvalidation_1-rmse:0.97954\n",
      "[7]\tvalidation_0-rmse:0.97381\tvalidation_1-rmse:0.96849\n",
      "[8]\tvalidation_0-rmse:0.97094\tvalidation_1-rmse:0.96586\n",
      "[9]\tvalidation_0-rmse:0.97005\tvalidation_1-rmse:0.96466\n"
     ]
    },
    {
     "name": "stderr",
     "output_type": "stream",
     "text": [
      "D:\\Anaconda\\lib\\site-packages\\xgboost\\data.py:112: UserWarning: Use subset (sliced data) of np.ndarray is not recommended because it will generate extra copies and increase memory consumption\n",
      "  warnings.warn(\n"
     ]
    },
    {
     "name": "stdout",
     "output_type": "stream",
     "text": [
      "[0]\tvalidation_0-rmse:1.17730\tvalidation_1-rmse:1.11015\n",
      "[1]\tvalidation_0-rmse:1.13427\tvalidation_1-rmse:1.07011\n",
      "[2]\tvalidation_0-rmse:1.10635\tvalidation_1-rmse:1.04855\n",
      "[3]\tvalidation_0-rmse:1.03680\tvalidation_1-rmse:1.00109\n",
      "[4]\tvalidation_0-rmse:1.01835\tvalidation_1-rmse:0.99070\n",
      "[5]\tvalidation_0-rmse:1.01274\tvalidation_1-rmse:0.98582\n",
      "[6]\tvalidation_0-rmse:0.99752\tvalidation_1-rmse:0.97908\n",
      "[7]\tvalidation_0-rmse:0.97504\tvalidation_1-rmse:0.96760\n",
      "[8]\tvalidation_0-rmse:0.97233\tvalidation_1-rmse:0.96519\n",
      "[9]\tvalidation_0-rmse:0.97136\tvalidation_1-rmse:0.96424\n"
     ]
    },
    {
     "name": "stderr",
     "output_type": "stream",
     "text": [
      "D:\\Anaconda\\lib\\site-packages\\xgboost\\data.py:112: UserWarning: Use subset (sliced data) of np.ndarray is not recommended because it will generate extra copies and increase memory consumption\n",
      "  warnings.warn(\n"
     ]
    },
    {
     "name": "stdout",
     "output_type": "stream",
     "text": [
      "[0]\tvalidation_0-rmse:1.17757\tvalidation_1-rmse:1.10984\n",
      "[1]\tvalidation_0-rmse:1.13571\tvalidation_1-rmse:1.06931\n",
      "[2]\tvalidation_0-rmse:1.10828\tvalidation_1-rmse:1.04805\n",
      "[3]\tvalidation_0-rmse:1.03639\tvalidation_1-rmse:1.00108\n",
      "[4]\tvalidation_0-rmse:1.01993\tvalidation_1-rmse:0.99054\n",
      "[5]\tvalidation_0-rmse:1.01518\tvalidation_1-rmse:0.98581\n",
      "[6]\tvalidation_0-rmse:1.00016\tvalidation_1-rmse:0.97892\n",
      "[7]\tvalidation_0-rmse:0.97747\tvalidation_1-rmse:0.96737\n",
      "[8]\tvalidation_0-rmse:0.97439\tvalidation_1-rmse:0.96510\n",
      "[9]\tvalidation_0-rmse:0.97364\tvalidation_1-rmse:0.96414\n"
     ]
    },
    {
     "name": "stderr",
     "output_type": "stream",
     "text": [
      "D:\\Anaconda\\lib\\site-packages\\xgboost\\data.py:112: UserWarning: Use subset (sliced data) of np.ndarray is not recommended because it will generate extra copies and increase memory consumption\n",
      "  warnings.warn(\n"
     ]
    },
    {
     "name": "stdout",
     "output_type": "stream",
     "text": [
      "[0]\tvalidation_0-rmse:1.17644\tvalidation_1-rmse:1.10912\n",
      "[1]\tvalidation_0-rmse:1.13378\tvalidation_1-rmse:1.06957\n",
      "[2]\tvalidation_0-rmse:1.10543\tvalidation_1-rmse:1.04907\n",
      "[3]\tvalidation_0-rmse:1.03533\tvalidation_1-rmse:1.00187\n",
      "[4]\tvalidation_0-rmse:1.01749\tvalidation_1-rmse:0.99112\n",
      "[5]\tvalidation_0-rmse:1.01245\tvalidation_1-rmse:0.98643\n",
      "[6]\tvalidation_0-rmse:0.99706\tvalidation_1-rmse:0.97949\n",
      "[7]\tvalidation_0-rmse:0.97401\tvalidation_1-rmse:0.96762\n",
      "[8]\tvalidation_0-rmse:0.97110\tvalidation_1-rmse:0.96530\n",
      "[9]\tvalidation_0-rmse:0.96975\tvalidation_1-rmse:0.96373\n"
     ]
    },
    {
     "name": "stderr",
     "output_type": "stream",
     "text": [
      "D:\\Anaconda\\lib\\site-packages\\xgboost\\data.py:112: UserWarning: Use subset (sliced data) of np.ndarray is not recommended because it will generate extra copies and increase memory consumption\n",
      "  warnings.warn(\n"
     ]
    },
    {
     "name": "stdout",
     "output_type": "stream",
     "text": [
      "[0]\tvalidation_0-rmse:1.17607\tvalidation_1-rmse:1.10899\n",
      "[1]\tvalidation_0-rmse:1.13381\tvalidation_1-rmse:1.06950\n",
      "[2]\tvalidation_0-rmse:1.10578\tvalidation_1-rmse:1.04802\n",
      "[3]\tvalidation_0-rmse:1.03719\tvalidation_1-rmse:1.00185\n",
      "[4]\tvalidation_0-rmse:1.01940\tvalidation_1-rmse:0.99171\n",
      "[5]\tvalidation_0-rmse:1.01481\tvalidation_1-rmse:0.98824\n",
      "[6]\tvalidation_0-rmse:0.99872\tvalidation_1-rmse:0.98019\n",
      "[7]\tvalidation_0-rmse:0.97659\tvalidation_1-rmse:0.96863\n",
      "[8]\tvalidation_0-rmse:0.97347\tvalidation_1-rmse:0.96570\n",
      "[9]\tvalidation_0-rmse:0.97240\tvalidation_1-rmse:0.96402\n"
     ]
    },
    {
     "name": "stderr",
     "output_type": "stream",
     "text": [
      "D:\\Anaconda\\lib\\site-packages\\xgboost\\data.py:112: UserWarning: Use subset (sliced data) of np.ndarray is not recommended because it will generate extra copies and increase memory consumption\n",
      "  warnings.warn(\n"
     ]
    },
    {
     "name": "stdout",
     "output_type": "stream",
     "text": [
      "[0]\tvalidation_0-rmse:1.17575\tvalidation_1-rmse:1.10963\n",
      "[1]\tvalidation_0-rmse:1.13323\tvalidation_1-rmse:1.07053\n",
      "[2]\tvalidation_0-rmse:1.10601\tvalidation_1-rmse:1.04919\n",
      "[3]\tvalidation_0-rmse:1.03499\tvalidation_1-rmse:1.00146\n",
      "[4]\tvalidation_0-rmse:1.01761\tvalidation_1-rmse:0.99114\n",
      "[5]\tvalidation_0-rmse:1.01228\tvalidation_1-rmse:0.98747\n",
      "[6]\tvalidation_0-rmse:0.99637\tvalidation_1-rmse:0.97954\n",
      "[7]\tvalidation_0-rmse:0.97381\tvalidation_1-rmse:0.96849\n",
      "[8]\tvalidation_0-rmse:0.97094\tvalidation_1-rmse:0.96586\n",
      "[9]\tvalidation_0-rmse:0.97005\tvalidation_1-rmse:0.96466\n",
      "[10]\tvalidation_0-rmse:0.96856\tvalidation_1-rmse:0.96395\n",
      "[11]\tvalidation_0-rmse:0.95892\tvalidation_1-rmse:0.96196\n",
      "[12]\tvalidation_0-rmse:0.95344\tvalidation_1-rmse:0.96177\n",
      "[13]\tvalidation_0-rmse:0.95171\tvalidation_1-rmse:0.96239\n",
      "[14]\tvalidation_0-rmse:0.94937\tvalidation_1-rmse:0.96271\n",
      "[15]\tvalidation_0-rmse:0.94758\tvalidation_1-rmse:0.96286\n",
      "[16]\tvalidation_0-rmse:0.94631\tvalidation_1-rmse:0.96352\n"
     ]
    },
    {
     "name": "stderr",
     "output_type": "stream",
     "text": [
      "D:\\Anaconda\\lib\\site-packages\\xgboost\\data.py:112: UserWarning: Use subset (sliced data) of np.ndarray is not recommended because it will generate extra copies and increase memory consumption\n",
      "  warnings.warn(\n"
     ]
    },
    {
     "name": "stdout",
     "output_type": "stream",
     "text": [
      "[0]\tvalidation_0-rmse:1.17730\tvalidation_1-rmse:1.11015\n",
      "[1]\tvalidation_0-rmse:1.13427\tvalidation_1-rmse:1.07011\n",
      "[2]\tvalidation_0-rmse:1.10635\tvalidation_1-rmse:1.04855\n",
      "[3]\tvalidation_0-rmse:1.03680\tvalidation_1-rmse:1.00109\n",
      "[4]\tvalidation_0-rmse:1.01835\tvalidation_1-rmse:0.99070\n",
      "[5]\tvalidation_0-rmse:1.01274\tvalidation_1-rmse:0.98582\n",
      "[6]\tvalidation_0-rmse:0.99752\tvalidation_1-rmse:0.97908\n",
      "[7]\tvalidation_0-rmse:0.97504\tvalidation_1-rmse:0.96760\n",
      "[8]\tvalidation_0-rmse:0.97233\tvalidation_1-rmse:0.96519\n",
      "[9]\tvalidation_0-rmse:0.97136\tvalidation_1-rmse:0.96424\n",
      "[10]\tvalidation_0-rmse:0.97000\tvalidation_1-rmse:0.96373\n",
      "[11]\tvalidation_0-rmse:0.96003\tvalidation_1-rmse:0.96141\n",
      "[12]\tvalidation_0-rmse:0.95481\tvalidation_1-rmse:0.96103\n",
      "[13]\tvalidation_0-rmse:0.95294\tvalidation_1-rmse:0.96149\n",
      "[14]\tvalidation_0-rmse:0.95080\tvalidation_1-rmse:0.96113\n",
      "[15]\tvalidation_0-rmse:0.94885\tvalidation_1-rmse:0.96027\n",
      "[16]\tvalidation_0-rmse:0.94728\tvalidation_1-rmse:0.96041\n",
      "[17]\tvalidation_0-rmse:0.94653\tvalidation_1-rmse:0.96042\n",
      "[18]\tvalidation_0-rmse:0.94504\tvalidation_1-rmse:0.95947\n",
      "[19]\tvalidation_0-rmse:0.94438\tvalidation_1-rmse:0.95927\n",
      "[20]\tvalidation_0-rmse:0.94373\tvalidation_1-rmse:0.95847\n",
      "[21]\tvalidation_0-rmse:0.94315\tvalidation_1-rmse:0.95750\n",
      "[22]\tvalidation_0-rmse:0.94239\tvalidation_1-rmse:0.95744\n",
      "[23]\tvalidation_0-rmse:0.94118\tvalidation_1-rmse:0.95771\n",
      "[24]\tvalidation_0-rmse:0.94026\tvalidation_1-rmse:0.95783\n",
      "[25]\tvalidation_0-rmse:0.93928\tvalidation_1-rmse:0.95779\n",
      "[26]\tvalidation_0-rmse:0.93886\tvalidation_1-rmse:0.95818\n",
      "[27]\tvalidation_0-rmse:0.93856\tvalidation_1-rmse:0.95806\n"
     ]
    },
    {
     "name": "stderr",
     "output_type": "stream",
     "text": [
      "D:\\Anaconda\\lib\\site-packages\\xgboost\\data.py:112: UserWarning: Use subset (sliced data) of np.ndarray is not recommended because it will generate extra copies and increase memory consumption\n",
      "  warnings.warn(\n"
     ]
    },
    {
     "name": "stdout",
     "output_type": "stream",
     "text": [
      "[0]\tvalidation_0-rmse:1.17757\tvalidation_1-rmse:1.10984\n",
      "[1]\tvalidation_0-rmse:1.13571\tvalidation_1-rmse:1.06931\n",
      "[2]\tvalidation_0-rmse:1.10828\tvalidation_1-rmse:1.04805\n",
      "[3]\tvalidation_0-rmse:1.03639\tvalidation_1-rmse:1.00108\n",
      "[4]\tvalidation_0-rmse:1.01993\tvalidation_1-rmse:0.99054\n",
      "[5]\tvalidation_0-rmse:1.01518\tvalidation_1-rmse:0.98581\n",
      "[6]\tvalidation_0-rmse:1.00016\tvalidation_1-rmse:0.97892\n",
      "[7]\tvalidation_0-rmse:0.97747\tvalidation_1-rmse:0.96737\n",
      "[8]\tvalidation_0-rmse:0.97439\tvalidation_1-rmse:0.96510\n",
      "[9]\tvalidation_0-rmse:0.97364\tvalidation_1-rmse:0.96414\n",
      "[10]\tvalidation_0-rmse:0.97213\tvalidation_1-rmse:0.96305\n",
      "[11]\tvalidation_0-rmse:0.96140\tvalidation_1-rmse:0.95993\n",
      "[12]\tvalidation_0-rmse:0.95559\tvalidation_1-rmse:0.95922\n",
      "[13]\tvalidation_0-rmse:0.95383\tvalidation_1-rmse:0.95938\n",
      "[14]\tvalidation_0-rmse:0.95107\tvalidation_1-rmse:0.95901\n",
      "[15]\tvalidation_0-rmse:0.94908\tvalidation_1-rmse:0.95870\n",
      "[16]\tvalidation_0-rmse:0.94749\tvalidation_1-rmse:0.95900\n",
      "[17]\tvalidation_0-rmse:0.94679\tvalidation_1-rmse:0.95900\n",
      "[18]\tvalidation_0-rmse:0.94532\tvalidation_1-rmse:0.95823\n",
      "[19]\tvalidation_0-rmse:0.94451\tvalidation_1-rmse:0.95809\n",
      "[20]\tvalidation_0-rmse:0.94389\tvalidation_1-rmse:0.95769\n",
      "[21]\tvalidation_0-rmse:0.94338\tvalidation_1-rmse:0.95703\n",
      "[22]\tvalidation_0-rmse:0.94278\tvalidation_1-rmse:0.95693\n",
      "[23]\tvalidation_0-rmse:0.94159\tvalidation_1-rmse:0.95712\n",
      "[24]\tvalidation_0-rmse:0.94057\tvalidation_1-rmse:0.95757\n",
      "[25]\tvalidation_0-rmse:0.93980\tvalidation_1-rmse:0.95743\n",
      "[26]\tvalidation_0-rmse:0.93917\tvalidation_1-rmse:0.95758\n",
      "[27]\tvalidation_0-rmse:0.93886\tvalidation_1-rmse:0.95740\n"
     ]
    },
    {
     "name": "stderr",
     "output_type": "stream",
     "text": [
      "D:\\Anaconda\\lib\\site-packages\\xgboost\\data.py:112: UserWarning: Use subset (sliced data) of np.ndarray is not recommended because it will generate extra copies and increase memory consumption\n",
      "  warnings.warn(\n"
     ]
    },
    {
     "name": "stdout",
     "output_type": "stream",
     "text": [
      "[0]\tvalidation_0-rmse:1.17644\tvalidation_1-rmse:1.10912\n",
      "[1]\tvalidation_0-rmse:1.13378\tvalidation_1-rmse:1.06957\n",
      "[2]\tvalidation_0-rmse:1.10543\tvalidation_1-rmse:1.04907\n",
      "[3]\tvalidation_0-rmse:1.03533\tvalidation_1-rmse:1.00187\n",
      "[4]\tvalidation_0-rmse:1.01749\tvalidation_1-rmse:0.99112\n",
      "[5]\tvalidation_0-rmse:1.01245\tvalidation_1-rmse:0.98643\n",
      "[6]\tvalidation_0-rmse:0.99706\tvalidation_1-rmse:0.97949\n",
      "[7]\tvalidation_0-rmse:0.97401\tvalidation_1-rmse:0.96762\n",
      "[8]\tvalidation_0-rmse:0.97110\tvalidation_1-rmse:0.96530\n",
      "[9]\tvalidation_0-rmse:0.96975\tvalidation_1-rmse:0.96373\n",
      "[10]\tvalidation_0-rmse:0.96818\tvalidation_1-rmse:0.96351\n",
      "[11]\tvalidation_0-rmse:0.95825\tvalidation_1-rmse:0.96121\n",
      "[12]\tvalidation_0-rmse:0.95282\tvalidation_1-rmse:0.96069\n",
      "[13]\tvalidation_0-rmse:0.95118\tvalidation_1-rmse:0.96111\n",
      "[14]\tvalidation_0-rmse:0.94888\tvalidation_1-rmse:0.96102\n",
      "[15]\tvalidation_0-rmse:0.94709\tvalidation_1-rmse:0.95959\n",
      "[16]\tvalidation_0-rmse:0.94575\tvalidation_1-rmse:0.96009\n",
      "[17]\tvalidation_0-rmse:0.94507\tvalidation_1-rmse:0.96010\n",
      "[18]\tvalidation_0-rmse:0.94370\tvalidation_1-rmse:0.95929\n",
      "[19]\tvalidation_0-rmse:0.94280\tvalidation_1-rmse:0.95869\n",
      "[20]\tvalidation_0-rmse:0.94219\tvalidation_1-rmse:0.95813\n",
      "[21]\tvalidation_0-rmse:0.94112\tvalidation_1-rmse:0.95664\n",
      "[22]\tvalidation_0-rmse:0.94041\tvalidation_1-rmse:0.95650\n",
      "[23]\tvalidation_0-rmse:0.93926\tvalidation_1-rmse:0.95702\n",
      "[24]\tvalidation_0-rmse:0.93842\tvalidation_1-rmse:0.95789\n",
      "[25]\tvalidation_0-rmse:0.93774\tvalidation_1-rmse:0.95809\n",
      "[26]\tvalidation_0-rmse:0.93738\tvalidation_1-rmse:0.95894\n",
      "[27]\tvalidation_0-rmse:0.93701\tvalidation_1-rmse:0.95870\n"
     ]
    },
    {
     "name": "stderr",
     "output_type": "stream",
     "text": [
      "D:\\Anaconda\\lib\\site-packages\\xgboost\\data.py:112: UserWarning: Use subset (sliced data) of np.ndarray is not recommended because it will generate extra copies and increase memory consumption\n",
      "  warnings.warn(\n"
     ]
    },
    {
     "name": "stdout",
     "output_type": "stream",
     "text": [
      "[0]\tvalidation_0-rmse:1.17607\tvalidation_1-rmse:1.10899\n",
      "[1]\tvalidation_0-rmse:1.13381\tvalidation_1-rmse:1.06950\n",
      "[2]\tvalidation_0-rmse:1.10578\tvalidation_1-rmse:1.04802\n",
      "[3]\tvalidation_0-rmse:1.03719\tvalidation_1-rmse:1.00185\n",
      "[4]\tvalidation_0-rmse:1.01940\tvalidation_1-rmse:0.99171\n",
      "[5]\tvalidation_0-rmse:1.01481\tvalidation_1-rmse:0.98824\n",
      "[6]\tvalidation_0-rmse:0.99872\tvalidation_1-rmse:0.98019\n",
      "[7]\tvalidation_0-rmse:0.97659\tvalidation_1-rmse:0.96863\n",
      "[8]\tvalidation_0-rmse:0.97347\tvalidation_1-rmse:0.96570\n",
      "[9]\tvalidation_0-rmse:0.97240\tvalidation_1-rmse:0.96402\n",
      "[10]\tvalidation_0-rmse:0.97105\tvalidation_1-rmse:0.96377\n",
      "[11]\tvalidation_0-rmse:0.96094\tvalidation_1-rmse:0.96131\n",
      "[12]\tvalidation_0-rmse:0.95533\tvalidation_1-rmse:0.96063\n",
      "[13]\tvalidation_0-rmse:0.95347\tvalidation_1-rmse:0.96113\n",
      "[14]\tvalidation_0-rmse:0.95103\tvalidation_1-rmse:0.96096\n",
      "[15]\tvalidation_0-rmse:0.94928\tvalidation_1-rmse:0.96080\n",
      "[16]\tvalidation_0-rmse:0.94789\tvalidation_1-rmse:0.96121\n",
      "[17]\tvalidation_0-rmse:0.94719\tvalidation_1-rmse:0.96123\n"
     ]
    },
    {
     "name": "stderr",
     "output_type": "stream",
     "text": [
      "D:\\Anaconda\\lib\\site-packages\\xgboost\\data.py:112: UserWarning: Use subset (sliced data) of np.ndarray is not recommended because it will generate extra copies and increase memory consumption\n",
      "  warnings.warn(\n"
     ]
    },
    {
     "name": "stdout",
     "output_type": "stream",
     "text": [
      "[0]\tvalidation_0-rmse:1.17575\tvalidation_1-rmse:1.10963\n"
     ]
    },
    {
     "name": "stderr",
     "output_type": "stream",
     "text": [
      "D:\\Anaconda\\lib\\site-packages\\xgboost\\data.py:112: UserWarning: Use subset (sliced data) of np.ndarray is not recommended because it will generate extra copies and increase memory consumption\n",
      "  warnings.warn(\n"
     ]
    },
    {
     "name": "stdout",
     "output_type": "stream",
     "text": [
      "[0]\tvalidation_0-rmse:1.17730\tvalidation_1-rmse:1.11015\n"
     ]
    },
    {
     "name": "stderr",
     "output_type": "stream",
     "text": [
      "D:\\Anaconda\\lib\\site-packages\\xgboost\\data.py:112: UserWarning: Use subset (sliced data) of np.ndarray is not recommended because it will generate extra copies and increase memory consumption\n",
      "  warnings.warn(\n"
     ]
    },
    {
     "name": "stdout",
     "output_type": "stream",
     "text": [
      "[0]\tvalidation_0-rmse:1.17757\tvalidation_1-rmse:1.10984\n"
     ]
    },
    {
     "name": "stderr",
     "output_type": "stream",
     "text": [
      "D:\\Anaconda\\lib\\site-packages\\xgboost\\data.py:112: UserWarning: Use subset (sliced data) of np.ndarray is not recommended because it will generate extra copies and increase memory consumption\n",
      "  warnings.warn(\n"
     ]
    },
    {
     "name": "stdout",
     "output_type": "stream",
     "text": [
      "[0]\tvalidation_0-rmse:1.17644\tvalidation_1-rmse:1.10912\n"
     ]
    },
    {
     "name": "stderr",
     "output_type": "stream",
     "text": [
      "D:\\Anaconda\\lib\\site-packages\\xgboost\\data.py:112: UserWarning: Use subset (sliced data) of np.ndarray is not recommended because it will generate extra copies and increase memory consumption\n",
      "  warnings.warn(\n"
     ]
    },
    {
     "name": "stdout",
     "output_type": "stream",
     "text": [
      "[0]\tvalidation_0-rmse:1.17607\tvalidation_1-rmse:1.10899\n"
     ]
    },
    {
     "name": "stderr",
     "output_type": "stream",
     "text": [
      "D:\\Anaconda\\lib\\site-packages\\xgboost\\data.py:112: UserWarning: Use subset (sliced data) of np.ndarray is not recommended because it will generate extra copies and increase memory consumption\n",
      "  warnings.warn(\n"
     ]
    },
    {
     "name": "stdout",
     "output_type": "stream",
     "text": [
      "[0]\tvalidation_0-rmse:1.17575\tvalidation_1-rmse:1.10963\n",
      "[1]\tvalidation_0-rmse:1.13323\tvalidation_1-rmse:1.07053\n",
      "[2]\tvalidation_0-rmse:1.10601\tvalidation_1-rmse:1.04919\n",
      "[3]\tvalidation_0-rmse:1.03499\tvalidation_1-rmse:1.00146\n",
      "[4]\tvalidation_0-rmse:1.01760\tvalidation_1-rmse:0.99116\n",
      "[5]\tvalidation_0-rmse:1.01227\tvalidation_1-rmse:0.98750\n",
      "[6]\tvalidation_0-rmse:0.99638\tvalidation_1-rmse:0.97956\n",
      "[7]\tvalidation_0-rmse:0.97384\tvalidation_1-rmse:0.96880\n",
      "[8]\tvalidation_0-rmse:0.97097\tvalidation_1-rmse:0.96613\n",
      "[9]\tvalidation_0-rmse:0.97007\tvalidation_1-rmse:0.96491\n"
     ]
    },
    {
     "name": "stderr",
     "output_type": "stream",
     "text": [
      "D:\\Anaconda\\lib\\site-packages\\xgboost\\data.py:112: UserWarning: Use subset (sliced data) of np.ndarray is not recommended because it will generate extra copies and increase memory consumption\n",
      "  warnings.warn(\n"
     ]
    },
    {
     "name": "stdout",
     "output_type": "stream",
     "text": [
      "[0]\tvalidation_0-rmse:1.17730\tvalidation_1-rmse:1.11015\n",
      "[1]\tvalidation_0-rmse:1.13427\tvalidation_1-rmse:1.07011\n",
      "[2]\tvalidation_0-rmse:1.10635\tvalidation_1-rmse:1.04855\n",
      "[3]\tvalidation_0-rmse:1.03680\tvalidation_1-rmse:1.00109\n",
      "[4]\tvalidation_0-rmse:1.01834\tvalidation_1-rmse:0.99071\n",
      "[5]\tvalidation_0-rmse:1.01274\tvalidation_1-rmse:0.98583\n",
      "[6]\tvalidation_0-rmse:0.99753\tvalidation_1-rmse:0.97910\n",
      "[7]\tvalidation_0-rmse:0.97507\tvalidation_1-rmse:0.96789\n",
      "[8]\tvalidation_0-rmse:0.97236\tvalidation_1-rmse:0.96545\n",
      "[9]\tvalidation_0-rmse:0.97137\tvalidation_1-rmse:0.96448\n"
     ]
    },
    {
     "name": "stderr",
     "output_type": "stream",
     "text": [
      "D:\\Anaconda\\lib\\site-packages\\xgboost\\data.py:112: UserWarning: Use subset (sliced data) of np.ndarray is not recommended because it will generate extra copies and increase memory consumption\n",
      "  warnings.warn(\n"
     ]
    },
    {
     "name": "stdout",
     "output_type": "stream",
     "text": [
      "[0]\tvalidation_0-rmse:1.17757\tvalidation_1-rmse:1.10984\n",
      "[1]\tvalidation_0-rmse:1.13571\tvalidation_1-rmse:1.06931\n",
      "[2]\tvalidation_0-rmse:1.10828\tvalidation_1-rmse:1.04805\n",
      "[3]\tvalidation_0-rmse:1.03638\tvalidation_1-rmse:1.00107\n",
      "[4]\tvalidation_0-rmse:1.01991\tvalidation_1-rmse:0.99051\n",
      "[5]\tvalidation_0-rmse:1.01516\tvalidation_1-rmse:0.98578\n",
      "[6]\tvalidation_0-rmse:1.00015\tvalidation_1-rmse:0.97889\n",
      "[7]\tvalidation_0-rmse:0.97746\tvalidation_1-rmse:0.96732\n",
      "[8]\tvalidation_0-rmse:0.97438\tvalidation_1-rmse:0.96504\n",
      "[9]\tvalidation_0-rmse:0.97363\tvalidation_1-rmse:0.96408\n"
     ]
    },
    {
     "name": "stderr",
     "output_type": "stream",
     "text": [
      "D:\\Anaconda\\lib\\site-packages\\xgboost\\data.py:112: UserWarning: Use subset (sliced data) of np.ndarray is not recommended because it will generate extra copies and increase memory consumption\n",
      "  warnings.warn(\n"
     ]
    },
    {
     "name": "stdout",
     "output_type": "stream",
     "text": [
      "[0]\tvalidation_0-rmse:1.17644\tvalidation_1-rmse:1.10912\n",
      "[1]\tvalidation_0-rmse:1.13378\tvalidation_1-rmse:1.06957\n",
      "[2]\tvalidation_0-rmse:1.10543\tvalidation_1-rmse:1.04907\n",
      "[3]\tvalidation_0-rmse:1.03533\tvalidation_1-rmse:1.00187\n",
      "[4]\tvalidation_0-rmse:1.01749\tvalidation_1-rmse:0.99112\n",
      "[5]\tvalidation_0-rmse:1.01245\tvalidation_1-rmse:0.98643\n",
      "[6]\tvalidation_0-rmse:0.99706\tvalidation_1-rmse:0.97949\n",
      "[7]\tvalidation_0-rmse:0.97403\tvalidation_1-rmse:0.96761\n",
      "[8]\tvalidation_0-rmse:0.97113\tvalidation_1-rmse:0.96531\n",
      "[9]\tvalidation_0-rmse:0.96978\tvalidation_1-rmse:0.96375\n"
     ]
    },
    {
     "name": "stderr",
     "output_type": "stream",
     "text": [
      "D:\\Anaconda\\lib\\site-packages\\xgboost\\data.py:112: UserWarning: Use subset (sliced data) of np.ndarray is not recommended because it will generate extra copies and increase memory consumption\n",
      "  warnings.warn(\n"
     ]
    },
    {
     "name": "stdout",
     "output_type": "stream",
     "text": [
      "[0]\tvalidation_0-rmse:1.17607\tvalidation_1-rmse:1.10899\n",
      "[1]\tvalidation_0-rmse:1.13381\tvalidation_1-rmse:1.06950\n",
      "[2]\tvalidation_0-rmse:1.10578\tvalidation_1-rmse:1.04802\n",
      "[3]\tvalidation_0-rmse:1.03719\tvalidation_1-rmse:1.00183\n",
      "[4]\tvalidation_0-rmse:1.01940\tvalidation_1-rmse:0.99168\n",
      "[5]\tvalidation_0-rmse:1.01480\tvalidation_1-rmse:0.98822\n",
      "[6]\tvalidation_0-rmse:0.99872\tvalidation_1-rmse:0.98016\n",
      "[7]\tvalidation_0-rmse:0.97659\tvalidation_1-rmse:0.96862\n",
      "[8]\tvalidation_0-rmse:0.97351\tvalidation_1-rmse:0.96587\n",
      "[9]\tvalidation_0-rmse:0.97250\tvalidation_1-rmse:0.96441\n"
     ]
    },
    {
     "name": "stderr",
     "output_type": "stream",
     "text": [
      "D:\\Anaconda\\lib\\site-packages\\xgboost\\data.py:112: UserWarning: Use subset (sliced data) of np.ndarray is not recommended because it will generate extra copies and increase memory consumption\n",
      "  warnings.warn(\n"
     ]
    },
    {
     "name": "stdout",
     "output_type": "stream",
     "text": [
      "[0]\tvalidation_0-rmse:1.17575\tvalidation_1-rmse:1.10963\n",
      "[1]\tvalidation_0-rmse:1.13323\tvalidation_1-rmse:1.07053\n",
      "[2]\tvalidation_0-rmse:1.10601\tvalidation_1-rmse:1.04919\n",
      "[3]\tvalidation_0-rmse:1.03499\tvalidation_1-rmse:1.00146\n",
      "[4]\tvalidation_0-rmse:1.01760\tvalidation_1-rmse:0.99116\n",
      "[5]\tvalidation_0-rmse:1.01227\tvalidation_1-rmse:0.98750\n",
      "[6]\tvalidation_0-rmse:0.99638\tvalidation_1-rmse:0.97956\n",
      "[7]\tvalidation_0-rmse:0.97384\tvalidation_1-rmse:0.96880\n",
      "[8]\tvalidation_0-rmse:0.97097\tvalidation_1-rmse:0.96613\n",
      "[9]\tvalidation_0-rmse:0.97007\tvalidation_1-rmse:0.96491\n",
      "[10]\tvalidation_0-rmse:0.96858\tvalidation_1-rmse:0.96421\n",
      "[11]\tvalidation_0-rmse:0.95895\tvalidation_1-rmse:0.96218\n",
      "[12]\tvalidation_0-rmse:0.95347\tvalidation_1-rmse:0.96134\n",
      "[13]\tvalidation_0-rmse:0.95173\tvalidation_1-rmse:0.96196\n",
      "[14]\tvalidation_0-rmse:0.94938\tvalidation_1-rmse:0.96212\n",
      "[15]\tvalidation_0-rmse:0.94759\tvalidation_1-rmse:0.96217\n",
      "[16]\tvalidation_0-rmse:0.94633\tvalidation_1-rmse:0.96281\n",
      "[17]\tvalidation_0-rmse:0.94498\tvalidation_1-rmse:0.96138\n"
     ]
    },
    {
     "name": "stderr",
     "output_type": "stream",
     "text": [
      "D:\\Anaconda\\lib\\site-packages\\xgboost\\data.py:112: UserWarning: Use subset (sliced data) of np.ndarray is not recommended because it will generate extra copies and increase memory consumption\n",
      "  warnings.warn(\n"
     ]
    },
    {
     "name": "stdout",
     "output_type": "stream",
     "text": [
      "[0]\tvalidation_0-rmse:1.17730\tvalidation_1-rmse:1.11015\n",
      "[1]\tvalidation_0-rmse:1.13427\tvalidation_1-rmse:1.07011\n",
      "[2]\tvalidation_0-rmse:1.10635\tvalidation_1-rmse:1.04855\n",
      "[3]\tvalidation_0-rmse:1.03680\tvalidation_1-rmse:1.00109\n",
      "[4]\tvalidation_0-rmse:1.01834\tvalidation_1-rmse:0.99071\n",
      "[5]\tvalidation_0-rmse:1.01274\tvalidation_1-rmse:0.98583\n",
      "[6]\tvalidation_0-rmse:0.99753\tvalidation_1-rmse:0.97910\n",
      "[7]\tvalidation_0-rmse:0.97507\tvalidation_1-rmse:0.96789\n",
      "[8]\tvalidation_0-rmse:0.97236\tvalidation_1-rmse:0.96545\n",
      "[9]\tvalidation_0-rmse:0.97137\tvalidation_1-rmse:0.96448\n",
      "[10]\tvalidation_0-rmse:0.97024\tvalidation_1-rmse:0.96453\n",
      "[11]\tvalidation_0-rmse:0.96028\tvalidation_1-rmse:0.96212\n",
      "[12]\tvalidation_0-rmse:0.95497\tvalidation_1-rmse:0.96175\n",
      "[13]\tvalidation_0-rmse:0.95318\tvalidation_1-rmse:0.96220\n",
      "[14]\tvalidation_0-rmse:0.95098\tvalidation_1-rmse:0.96189\n",
      "[15]\tvalidation_0-rmse:0.94890\tvalidation_1-rmse:0.96222\n",
      "[16]\tvalidation_0-rmse:0.94750\tvalidation_1-rmse:0.96279\n"
     ]
    },
    {
     "name": "stderr",
     "output_type": "stream",
     "text": [
      "D:\\Anaconda\\lib\\site-packages\\xgboost\\data.py:112: UserWarning: Use subset (sliced data) of np.ndarray is not recommended because it will generate extra copies and increase memory consumption\n",
      "  warnings.warn(\n"
     ]
    },
    {
     "name": "stdout",
     "output_type": "stream",
     "text": [
      "[0]\tvalidation_0-rmse:1.17757\tvalidation_1-rmse:1.10984\n",
      "[1]\tvalidation_0-rmse:1.13571\tvalidation_1-rmse:1.06931\n",
      "[2]\tvalidation_0-rmse:1.10828\tvalidation_1-rmse:1.04805\n",
      "[3]\tvalidation_0-rmse:1.03638\tvalidation_1-rmse:1.00107\n",
      "[4]\tvalidation_0-rmse:1.01991\tvalidation_1-rmse:0.99051\n",
      "[5]\tvalidation_0-rmse:1.01516\tvalidation_1-rmse:0.98578\n",
      "[6]\tvalidation_0-rmse:1.00015\tvalidation_1-rmse:0.97889\n",
      "[7]\tvalidation_0-rmse:0.97746\tvalidation_1-rmse:0.96732\n",
      "[8]\tvalidation_0-rmse:0.97438\tvalidation_1-rmse:0.96504\n",
      "[9]\tvalidation_0-rmse:0.97363\tvalidation_1-rmse:0.96408\n",
      "[10]\tvalidation_0-rmse:0.97212\tvalidation_1-rmse:0.96299\n",
      "[11]\tvalidation_0-rmse:0.96138\tvalidation_1-rmse:0.95986\n",
      "[12]\tvalidation_0-rmse:0.95557\tvalidation_1-rmse:0.95914\n",
      "[13]\tvalidation_0-rmse:0.95382\tvalidation_1-rmse:0.95930\n",
      "[14]\tvalidation_0-rmse:0.95105\tvalidation_1-rmse:0.95894\n",
      "[15]\tvalidation_0-rmse:0.94907\tvalidation_1-rmse:0.95862\n",
      "[16]\tvalidation_0-rmse:0.94749\tvalidation_1-rmse:0.95894\n",
      "[17]\tvalidation_0-rmse:0.94680\tvalidation_1-rmse:0.95894\n",
      "[18]\tvalidation_0-rmse:0.94533\tvalidation_1-rmse:0.95817\n",
      "[19]\tvalidation_0-rmse:0.94448\tvalidation_1-rmse:0.95801\n",
      "[20]\tvalidation_0-rmse:0.94387\tvalidation_1-rmse:0.95760\n",
      "[21]\tvalidation_0-rmse:0.94335\tvalidation_1-rmse:0.95696\n",
      "[22]\tvalidation_0-rmse:0.94257\tvalidation_1-rmse:0.95690\n",
      "[23]\tvalidation_0-rmse:0.94139\tvalidation_1-rmse:0.95708\n",
      "[24]\tvalidation_0-rmse:0.94033\tvalidation_1-rmse:0.95744\n",
      "[25]\tvalidation_0-rmse:0.93957\tvalidation_1-rmse:0.95731\n",
      "[26]\tvalidation_0-rmse:0.93896\tvalidation_1-rmse:0.95745\n",
      "[27]\tvalidation_0-rmse:0.93869\tvalidation_1-rmse:0.95726\n"
     ]
    },
    {
     "name": "stderr",
     "output_type": "stream",
     "text": [
      "D:\\Anaconda\\lib\\site-packages\\xgboost\\data.py:112: UserWarning: Use subset (sliced data) of np.ndarray is not recommended because it will generate extra copies and increase memory consumption\n",
      "  warnings.warn(\n"
     ]
    },
    {
     "name": "stdout",
     "output_type": "stream",
     "text": [
      "[0]\tvalidation_0-rmse:1.17644\tvalidation_1-rmse:1.10912\n",
      "[1]\tvalidation_0-rmse:1.13378\tvalidation_1-rmse:1.06957\n",
      "[2]\tvalidation_0-rmse:1.10543\tvalidation_1-rmse:1.04907\n",
      "[3]\tvalidation_0-rmse:1.03533\tvalidation_1-rmse:1.00187\n",
      "[4]\tvalidation_0-rmse:1.01749\tvalidation_1-rmse:0.99112\n",
      "[5]\tvalidation_0-rmse:1.01245\tvalidation_1-rmse:0.98643\n",
      "[6]\tvalidation_0-rmse:0.99706\tvalidation_1-rmse:0.97949\n",
      "[7]\tvalidation_0-rmse:0.97403\tvalidation_1-rmse:0.96761\n",
      "[8]\tvalidation_0-rmse:0.97113\tvalidation_1-rmse:0.96531\n",
      "[9]\tvalidation_0-rmse:0.96978\tvalidation_1-rmse:0.96375\n",
      "[10]\tvalidation_0-rmse:0.96821\tvalidation_1-rmse:0.96353\n",
      "[11]\tvalidation_0-rmse:0.95827\tvalidation_1-rmse:0.96124\n",
      "[12]\tvalidation_0-rmse:0.95284\tvalidation_1-rmse:0.96073\n",
      "[13]\tvalidation_0-rmse:0.95121\tvalidation_1-rmse:0.96115\n",
      "[14]\tvalidation_0-rmse:0.94890\tvalidation_1-rmse:0.96106\n",
      "[15]\tvalidation_0-rmse:0.94711\tvalidation_1-rmse:0.95962\n",
      "[16]\tvalidation_0-rmse:0.94582\tvalidation_1-rmse:0.96011\n",
      "[17]\tvalidation_0-rmse:0.94513\tvalidation_1-rmse:0.96012\n",
      "[18]\tvalidation_0-rmse:0.94375\tvalidation_1-rmse:0.95931\n",
      "[19]\tvalidation_0-rmse:0.94286\tvalidation_1-rmse:0.95871\n",
      "[20]\tvalidation_0-rmse:0.94225\tvalidation_1-rmse:0.95815\n",
      "[21]\tvalidation_0-rmse:0.94118\tvalidation_1-rmse:0.95667\n",
      "[22]\tvalidation_0-rmse:0.94047\tvalidation_1-rmse:0.95652\n",
      "[23]\tvalidation_0-rmse:0.93931\tvalidation_1-rmse:0.95709\n",
      "[24]\tvalidation_0-rmse:0.93848\tvalidation_1-rmse:0.95807\n",
      "[25]\tvalidation_0-rmse:0.93779\tvalidation_1-rmse:0.95826\n",
      "[26]\tvalidation_0-rmse:0.93744\tvalidation_1-rmse:0.95911\n",
      "[27]\tvalidation_0-rmse:0.93708\tvalidation_1-rmse:0.95882\n"
     ]
    },
    {
     "name": "stderr",
     "output_type": "stream",
     "text": [
      "D:\\Anaconda\\lib\\site-packages\\xgboost\\data.py:112: UserWarning: Use subset (sliced data) of np.ndarray is not recommended because it will generate extra copies and increase memory consumption\n",
      "  warnings.warn(\n"
     ]
    },
    {
     "name": "stdout",
     "output_type": "stream",
     "text": [
      "[0]\tvalidation_0-rmse:1.17607\tvalidation_1-rmse:1.10899\n",
      "[1]\tvalidation_0-rmse:1.13381\tvalidation_1-rmse:1.06950\n",
      "[2]\tvalidation_0-rmse:1.10578\tvalidation_1-rmse:1.04802\n",
      "[3]\tvalidation_0-rmse:1.03719\tvalidation_1-rmse:1.00183\n",
      "[4]\tvalidation_0-rmse:1.01940\tvalidation_1-rmse:0.99168\n",
      "[5]\tvalidation_0-rmse:1.01480\tvalidation_1-rmse:0.98822\n",
      "[6]\tvalidation_0-rmse:0.99872\tvalidation_1-rmse:0.98016\n",
      "[7]\tvalidation_0-rmse:0.97659\tvalidation_1-rmse:0.96862\n",
      "[8]\tvalidation_0-rmse:0.97351\tvalidation_1-rmse:0.96587\n",
      "[9]\tvalidation_0-rmse:0.97250\tvalidation_1-rmse:0.96441\n",
      "[10]\tvalidation_0-rmse:0.97108\tvalidation_1-rmse:0.96358\n",
      "[11]\tvalidation_0-rmse:0.96098\tvalidation_1-rmse:0.96098\n",
      "[12]\tvalidation_0-rmse:0.95565\tvalidation_1-rmse:0.96025\n",
      "[13]\tvalidation_0-rmse:0.95389\tvalidation_1-rmse:0.96070\n",
      "[14]\tvalidation_0-rmse:0.95144\tvalidation_1-rmse:0.96047\n",
      "[15]\tvalidation_0-rmse:0.94927\tvalidation_1-rmse:0.96038\n",
      "[16]\tvalidation_0-rmse:0.94770\tvalidation_1-rmse:0.96079\n",
      "[17]\tvalidation_0-rmse:0.94702\tvalidation_1-rmse:0.96080\n"
     ]
    },
    {
     "name": "stderr",
     "output_type": "stream",
     "text": [
      "D:\\Anaconda\\lib\\site-packages\\xgboost\\data.py:112: UserWarning: Use subset (sliced data) of np.ndarray is not recommended because it will generate extra copies and increase memory consumption\n",
      "  warnings.warn(\n"
     ]
    },
    {
     "name": "stdout",
     "output_type": "stream",
     "text": [
      "[0]\tvalidation_0-rmse:1.17575\tvalidation_1-rmse:1.10963\n"
     ]
    },
    {
     "name": "stderr",
     "output_type": "stream",
     "text": [
      "D:\\Anaconda\\lib\\site-packages\\xgboost\\data.py:112: UserWarning: Use subset (sliced data) of np.ndarray is not recommended because it will generate extra copies and increase memory consumption\n",
      "  warnings.warn(\n"
     ]
    },
    {
     "name": "stdout",
     "output_type": "stream",
     "text": [
      "[0]\tvalidation_0-rmse:1.17730\tvalidation_1-rmse:1.11015\n"
     ]
    },
    {
     "name": "stderr",
     "output_type": "stream",
     "text": [
      "D:\\Anaconda\\lib\\site-packages\\xgboost\\data.py:112: UserWarning: Use subset (sliced data) of np.ndarray is not recommended because it will generate extra copies and increase memory consumption\n",
      "  warnings.warn(\n"
     ]
    },
    {
     "name": "stdout",
     "output_type": "stream",
     "text": [
      "[0]\tvalidation_0-rmse:1.17757\tvalidation_1-rmse:1.10984\n"
     ]
    },
    {
     "name": "stderr",
     "output_type": "stream",
     "text": [
      "D:\\Anaconda\\lib\\site-packages\\xgboost\\data.py:112: UserWarning: Use subset (sliced data) of np.ndarray is not recommended because it will generate extra copies and increase memory consumption\n",
      "  warnings.warn(\n"
     ]
    },
    {
     "name": "stdout",
     "output_type": "stream",
     "text": [
      "[0]\tvalidation_0-rmse:1.17644\tvalidation_1-rmse:1.10912\n"
     ]
    },
    {
     "name": "stderr",
     "output_type": "stream",
     "text": [
      "D:\\Anaconda\\lib\\site-packages\\xgboost\\data.py:112: UserWarning: Use subset (sliced data) of np.ndarray is not recommended because it will generate extra copies and increase memory consumption\n",
      "  warnings.warn(\n"
     ]
    },
    {
     "name": "stdout",
     "output_type": "stream",
     "text": [
      "[0]\tvalidation_0-rmse:1.17607\tvalidation_1-rmse:1.10899\n"
     ]
    },
    {
     "name": "stderr",
     "output_type": "stream",
     "text": [
      "D:\\Anaconda\\lib\\site-packages\\xgboost\\data.py:112: UserWarning: Use subset (sliced data) of np.ndarray is not recommended because it will generate extra copies and increase memory consumption\n",
      "  warnings.warn(\n"
     ]
    },
    {
     "name": "stdout",
     "output_type": "stream",
     "text": [
      "[0]\tvalidation_0-rmse:1.17575\tvalidation_1-rmse:1.10963\n",
      "[1]\tvalidation_0-rmse:1.13323\tvalidation_1-rmse:1.07053\n",
      "[2]\tvalidation_0-rmse:1.10601\tvalidation_1-rmse:1.04919\n",
      "[3]\tvalidation_0-rmse:1.03499\tvalidation_1-rmse:1.00146\n",
      "[4]\tvalidation_0-rmse:1.01760\tvalidation_1-rmse:0.99116\n",
      "[5]\tvalidation_0-rmse:1.01227\tvalidation_1-rmse:0.98750\n",
      "[6]\tvalidation_0-rmse:0.99638\tvalidation_1-rmse:0.97956\n",
      "[7]\tvalidation_0-rmse:0.97384\tvalidation_1-rmse:0.96880\n",
      "[8]\tvalidation_0-rmse:0.97097\tvalidation_1-rmse:0.96620\n",
      "[9]\tvalidation_0-rmse:0.97009\tvalidation_1-rmse:0.96502\n"
     ]
    },
    {
     "name": "stderr",
     "output_type": "stream",
     "text": [
      "D:\\Anaconda\\lib\\site-packages\\xgboost\\data.py:112: UserWarning: Use subset (sliced data) of np.ndarray is not recommended because it will generate extra copies and increase memory consumption\n",
      "  warnings.warn(\n"
     ]
    },
    {
     "name": "stdout",
     "output_type": "stream",
     "text": [
      "[0]\tvalidation_0-rmse:1.17730\tvalidation_1-rmse:1.11015\n",
      "[1]\tvalidation_0-rmse:1.13427\tvalidation_1-rmse:1.07011\n",
      "[2]\tvalidation_0-rmse:1.10635\tvalidation_1-rmse:1.04855\n",
      "[3]\tvalidation_0-rmse:1.03680\tvalidation_1-rmse:1.00109\n",
      "[4]\tvalidation_0-rmse:1.01834\tvalidation_1-rmse:0.99071\n",
      "[5]\tvalidation_0-rmse:1.01274\tvalidation_1-rmse:0.98583\n",
      "[6]\tvalidation_0-rmse:0.99753\tvalidation_1-rmse:0.97910\n",
      "[7]\tvalidation_0-rmse:0.97507\tvalidation_1-rmse:0.96789\n",
      "[8]\tvalidation_0-rmse:0.97236\tvalidation_1-rmse:0.96545\n",
      "[9]\tvalidation_0-rmse:0.97140\tvalidation_1-rmse:0.96455\n"
     ]
    },
    {
     "name": "stderr",
     "output_type": "stream",
     "text": [
      "D:\\Anaconda\\lib\\site-packages\\xgboost\\data.py:112: UserWarning: Use subset (sliced data) of np.ndarray is not recommended because it will generate extra copies and increase memory consumption\n",
      "  warnings.warn(\n"
     ]
    },
    {
     "name": "stdout",
     "output_type": "stream",
     "text": [
      "[0]\tvalidation_0-rmse:1.17757\tvalidation_1-rmse:1.10984\n",
      "[1]\tvalidation_0-rmse:1.13571\tvalidation_1-rmse:1.06931\n",
      "[2]\tvalidation_0-rmse:1.10828\tvalidation_1-rmse:1.04805\n",
      "[3]\tvalidation_0-rmse:1.03639\tvalidation_1-rmse:1.00107\n",
      "[4]\tvalidation_0-rmse:1.01992\tvalidation_1-rmse:0.99052\n",
      "[5]\tvalidation_0-rmse:1.01517\tvalidation_1-rmse:0.98579\n",
      "[6]\tvalidation_0-rmse:1.00016\tvalidation_1-rmse:0.97890\n",
      "[7]\tvalidation_0-rmse:0.97746\tvalidation_1-rmse:0.96732\n",
      "[8]\tvalidation_0-rmse:0.97438\tvalidation_1-rmse:0.96504\n",
      "[9]\tvalidation_0-rmse:0.97363\tvalidation_1-rmse:0.96408\n"
     ]
    },
    {
     "name": "stderr",
     "output_type": "stream",
     "text": [
      "D:\\Anaconda\\lib\\site-packages\\xgboost\\data.py:112: UserWarning: Use subset (sliced data) of np.ndarray is not recommended because it will generate extra copies and increase memory consumption\n",
      "  warnings.warn(\n"
     ]
    },
    {
     "name": "stdout",
     "output_type": "stream",
     "text": [
      "[0]\tvalidation_0-rmse:1.17644\tvalidation_1-rmse:1.10912\n",
      "[1]\tvalidation_0-rmse:1.13378\tvalidation_1-rmse:1.06957\n",
      "[2]\tvalidation_0-rmse:1.10543\tvalidation_1-rmse:1.04907\n",
      "[3]\tvalidation_0-rmse:1.03533\tvalidation_1-rmse:1.00187\n",
      "[4]\tvalidation_0-rmse:1.01749\tvalidation_1-rmse:0.99112\n",
      "[5]\tvalidation_0-rmse:1.01245\tvalidation_1-rmse:0.98643\n",
      "[6]\tvalidation_0-rmse:0.99706\tvalidation_1-rmse:0.97949\n",
      "[7]\tvalidation_0-rmse:0.97404\tvalidation_1-rmse:0.96785\n",
      "[8]\tvalidation_0-rmse:0.97108\tvalidation_1-rmse:0.96536\n",
      "[9]\tvalidation_0-rmse:0.96973\tvalidation_1-rmse:0.96379\n"
     ]
    },
    {
     "name": "stderr",
     "output_type": "stream",
     "text": [
      "D:\\Anaconda\\lib\\site-packages\\xgboost\\data.py:112: UserWarning: Use subset (sliced data) of np.ndarray is not recommended because it will generate extra copies and increase memory consumption\n",
      "  warnings.warn(\n"
     ]
    },
    {
     "name": "stdout",
     "output_type": "stream",
     "text": [
      "[0]\tvalidation_0-rmse:1.17607\tvalidation_1-rmse:1.10899\n",
      "[1]\tvalidation_0-rmse:1.13381\tvalidation_1-rmse:1.06950\n",
      "[2]\tvalidation_0-rmse:1.10578\tvalidation_1-rmse:1.04802\n",
      "[3]\tvalidation_0-rmse:1.03719\tvalidation_1-rmse:1.00185\n",
      "[4]\tvalidation_0-rmse:1.01940\tvalidation_1-rmse:0.99170\n",
      "[5]\tvalidation_0-rmse:1.01481\tvalidation_1-rmse:0.98824\n",
      "[6]\tvalidation_0-rmse:0.99873\tvalidation_1-rmse:0.98018\n",
      "[7]\tvalidation_0-rmse:0.97659\tvalidation_1-rmse:0.96863\n",
      "[8]\tvalidation_0-rmse:0.97355\tvalidation_1-rmse:0.96589\n",
      "[9]\tvalidation_0-rmse:0.97255\tvalidation_1-rmse:0.96446\n"
     ]
    },
    {
     "name": "stderr",
     "output_type": "stream",
     "text": [
      "D:\\Anaconda\\lib\\site-packages\\xgboost\\data.py:112: UserWarning: Use subset (sliced data) of np.ndarray is not recommended because it will generate extra copies and increase memory consumption\n",
      "  warnings.warn(\n"
     ]
    },
    {
     "name": "stdout",
     "output_type": "stream",
     "text": [
      "[0]\tvalidation_0-rmse:1.17575\tvalidation_1-rmse:1.10963\n",
      "[1]\tvalidation_0-rmse:1.13323\tvalidation_1-rmse:1.07053\n",
      "[2]\tvalidation_0-rmse:1.10601\tvalidation_1-rmse:1.04919\n",
      "[3]\tvalidation_0-rmse:1.03499\tvalidation_1-rmse:1.00146\n",
      "[4]\tvalidation_0-rmse:1.01760\tvalidation_1-rmse:0.99116\n",
      "[5]\tvalidation_0-rmse:1.01227\tvalidation_1-rmse:0.98750\n",
      "[6]\tvalidation_0-rmse:0.99638\tvalidation_1-rmse:0.97956\n",
      "[7]\tvalidation_0-rmse:0.97384\tvalidation_1-rmse:0.96880\n",
      "[8]\tvalidation_0-rmse:0.97097\tvalidation_1-rmse:0.96620\n",
      "[9]\tvalidation_0-rmse:0.97009\tvalidation_1-rmse:0.96502\n",
      "[10]\tvalidation_0-rmse:0.96859\tvalidation_1-rmse:0.96430\n",
      "[11]\tvalidation_0-rmse:0.95896\tvalidation_1-rmse:0.96227\n",
      "[12]\tvalidation_0-rmse:0.95349\tvalidation_1-rmse:0.96142\n",
      "[13]\tvalidation_0-rmse:0.95176\tvalidation_1-rmse:0.96206\n",
      "[14]\tvalidation_0-rmse:0.94942\tvalidation_1-rmse:0.96229\n",
      "[15]\tvalidation_0-rmse:0.94770\tvalidation_1-rmse:0.96247\n",
      "[16]\tvalidation_0-rmse:0.94643\tvalidation_1-rmse:0.96309\n"
     ]
    },
    {
     "name": "stderr",
     "output_type": "stream",
     "text": [
      "D:\\Anaconda\\lib\\site-packages\\xgboost\\data.py:112: UserWarning: Use subset (sliced data) of np.ndarray is not recommended because it will generate extra copies and increase memory consumption\n",
      "  warnings.warn(\n"
     ]
    },
    {
     "name": "stdout",
     "output_type": "stream",
     "text": [
      "[0]\tvalidation_0-rmse:1.17730\tvalidation_1-rmse:1.11015\n",
      "[1]\tvalidation_0-rmse:1.13427\tvalidation_1-rmse:1.07011\n",
      "[2]\tvalidation_0-rmse:1.10635\tvalidation_1-rmse:1.04855\n",
      "[3]\tvalidation_0-rmse:1.03680\tvalidation_1-rmse:1.00109\n",
      "[4]\tvalidation_0-rmse:1.01834\tvalidation_1-rmse:0.99071\n",
      "[5]\tvalidation_0-rmse:1.01274\tvalidation_1-rmse:0.98583\n",
      "[6]\tvalidation_0-rmse:0.99753\tvalidation_1-rmse:0.97910\n",
      "[7]\tvalidation_0-rmse:0.97507\tvalidation_1-rmse:0.96789\n",
      "[8]\tvalidation_0-rmse:0.97236\tvalidation_1-rmse:0.96545\n",
      "[9]\tvalidation_0-rmse:0.97140\tvalidation_1-rmse:0.96455\n",
      "[10]\tvalidation_0-rmse:0.97026\tvalidation_1-rmse:0.96439\n",
      "[11]\tvalidation_0-rmse:0.96022\tvalidation_1-rmse:0.96199\n",
      "[12]\tvalidation_0-rmse:0.95502\tvalidation_1-rmse:0.96162\n",
      "[13]\tvalidation_0-rmse:0.95316\tvalidation_1-rmse:0.96205\n",
      "[14]\tvalidation_0-rmse:0.95100\tvalidation_1-rmse:0.96176\n",
      "[15]\tvalidation_0-rmse:0.94890\tvalidation_1-rmse:0.96231\n",
      "[16]\tvalidation_0-rmse:0.94735\tvalidation_1-rmse:0.96264\n",
      "[17]\tvalidation_0-rmse:0.94661\tvalidation_1-rmse:0.96266\n"
     ]
    },
    {
     "name": "stderr",
     "output_type": "stream",
     "text": [
      "D:\\Anaconda\\lib\\site-packages\\xgboost\\data.py:112: UserWarning: Use subset (sliced data) of np.ndarray is not recommended because it will generate extra copies and increase memory consumption\n",
      "  warnings.warn(\n"
     ]
    },
    {
     "name": "stdout",
     "output_type": "stream",
     "text": [
      "[0]\tvalidation_0-rmse:1.17757\tvalidation_1-rmse:1.10984\n",
      "[1]\tvalidation_0-rmse:1.13571\tvalidation_1-rmse:1.06931\n",
      "[2]\tvalidation_0-rmse:1.10828\tvalidation_1-rmse:1.04805\n",
      "[3]\tvalidation_0-rmse:1.03639\tvalidation_1-rmse:1.00107\n",
      "[4]\tvalidation_0-rmse:1.01992\tvalidation_1-rmse:0.99052\n",
      "[5]\tvalidation_0-rmse:1.01517\tvalidation_1-rmse:0.98579\n",
      "[6]\tvalidation_0-rmse:1.00016\tvalidation_1-rmse:0.97890\n",
      "[7]\tvalidation_0-rmse:0.97746\tvalidation_1-rmse:0.96732\n",
      "[8]\tvalidation_0-rmse:0.97438\tvalidation_1-rmse:0.96504\n",
      "[9]\tvalidation_0-rmse:0.97363\tvalidation_1-rmse:0.96408\n",
      "[10]\tvalidation_0-rmse:0.97212\tvalidation_1-rmse:0.96300\n",
      "[11]\tvalidation_0-rmse:0.96139\tvalidation_1-rmse:0.95986\n",
      "[12]\tvalidation_0-rmse:0.95558\tvalidation_1-rmse:0.95915\n",
      "[13]\tvalidation_0-rmse:0.95382\tvalidation_1-rmse:0.95931\n",
      "[14]\tvalidation_0-rmse:0.95105\tvalidation_1-rmse:0.95894\n",
      "[15]\tvalidation_0-rmse:0.94907\tvalidation_1-rmse:0.95863\n",
      "[16]\tvalidation_0-rmse:0.94747\tvalidation_1-rmse:0.95896\n",
      "[17]\tvalidation_0-rmse:0.94678\tvalidation_1-rmse:0.95897\n",
      "[18]\tvalidation_0-rmse:0.94530\tvalidation_1-rmse:0.95820\n",
      "[19]\tvalidation_0-rmse:0.94448\tvalidation_1-rmse:0.95802\n",
      "[20]\tvalidation_0-rmse:0.94386\tvalidation_1-rmse:0.95761\n",
      "[21]\tvalidation_0-rmse:0.94334\tvalidation_1-rmse:0.95698\n",
      "[22]\tvalidation_0-rmse:0.94257\tvalidation_1-rmse:0.95692\n",
      "[23]\tvalidation_0-rmse:0.94139\tvalidation_1-rmse:0.95710\n",
      "[24]\tvalidation_0-rmse:0.94037\tvalidation_1-rmse:0.95753\n",
      "[25]\tvalidation_0-rmse:0.93961\tvalidation_1-rmse:0.95739\n",
      "[26]\tvalidation_0-rmse:0.93899\tvalidation_1-rmse:0.95754\n",
      "[27]\tvalidation_0-rmse:0.93863\tvalidation_1-rmse:0.95733\n"
     ]
    },
    {
     "name": "stderr",
     "output_type": "stream",
     "text": [
      "D:\\Anaconda\\lib\\site-packages\\xgboost\\data.py:112: UserWarning: Use subset (sliced data) of np.ndarray is not recommended because it will generate extra copies and increase memory consumption\n",
      "  warnings.warn(\n"
     ]
    },
    {
     "name": "stdout",
     "output_type": "stream",
     "text": [
      "[0]\tvalidation_0-rmse:1.17644\tvalidation_1-rmse:1.10912\n",
      "[1]\tvalidation_0-rmse:1.13378\tvalidation_1-rmse:1.06957\n",
      "[2]\tvalidation_0-rmse:1.10543\tvalidation_1-rmse:1.04907\n",
      "[3]\tvalidation_0-rmse:1.03533\tvalidation_1-rmse:1.00187\n",
      "[4]\tvalidation_0-rmse:1.01749\tvalidation_1-rmse:0.99112\n",
      "[5]\tvalidation_0-rmse:1.01245\tvalidation_1-rmse:0.98643\n",
      "[6]\tvalidation_0-rmse:0.99706\tvalidation_1-rmse:0.97949\n",
      "[7]\tvalidation_0-rmse:0.97404\tvalidation_1-rmse:0.96785\n",
      "[8]\tvalidation_0-rmse:0.97108\tvalidation_1-rmse:0.96536\n",
      "[9]\tvalidation_0-rmse:0.96973\tvalidation_1-rmse:0.96379\n",
      "[10]\tvalidation_0-rmse:0.96814\tvalidation_1-rmse:0.96354\n",
      "[11]\tvalidation_0-rmse:0.95827\tvalidation_1-rmse:0.96125\n",
      "[12]\tvalidation_0-rmse:0.95284\tvalidation_1-rmse:0.96057\n",
      "[13]\tvalidation_0-rmse:0.95124\tvalidation_1-rmse:0.96099\n",
      "[14]\tvalidation_0-rmse:0.94891\tvalidation_1-rmse:0.96064\n",
      "[15]\tvalidation_0-rmse:0.94709\tvalidation_1-rmse:0.95927\n",
      "[16]\tvalidation_0-rmse:0.94577\tvalidation_1-rmse:0.95969\n",
      "[17]\tvalidation_0-rmse:0.94506\tvalidation_1-rmse:0.95970\n",
      "[18]\tvalidation_0-rmse:0.94371\tvalidation_1-rmse:0.95884\n",
      "[19]\tvalidation_0-rmse:0.94287\tvalidation_1-rmse:0.95839\n",
      "[20]\tvalidation_0-rmse:0.94226\tvalidation_1-rmse:0.95771\n",
      "[21]\tvalidation_0-rmse:0.94121\tvalidation_1-rmse:0.95619\n",
      "[22]\tvalidation_0-rmse:0.94048\tvalidation_1-rmse:0.95605\n",
      "[23]\tvalidation_0-rmse:0.93932\tvalidation_1-rmse:0.95657\n",
      "[24]\tvalidation_0-rmse:0.93851\tvalidation_1-rmse:0.95679\n",
      "[25]\tvalidation_0-rmse:0.93784\tvalidation_1-rmse:0.95695\n",
      "[26]\tvalidation_0-rmse:0.93745\tvalidation_1-rmse:0.95775\n",
      "[27]\tvalidation_0-rmse:0.93701\tvalidation_1-rmse:0.95758\n"
     ]
    },
    {
     "name": "stderr",
     "output_type": "stream",
     "text": [
      "D:\\Anaconda\\lib\\site-packages\\xgboost\\data.py:112: UserWarning: Use subset (sliced data) of np.ndarray is not recommended because it will generate extra copies and increase memory consumption\n",
      "  warnings.warn(\n"
     ]
    },
    {
     "name": "stdout",
     "output_type": "stream",
     "text": [
      "[0]\tvalidation_0-rmse:1.17607\tvalidation_1-rmse:1.10899\n",
      "[1]\tvalidation_0-rmse:1.13381\tvalidation_1-rmse:1.06950\n",
      "[2]\tvalidation_0-rmse:1.10578\tvalidation_1-rmse:1.04802\n",
      "[3]\tvalidation_0-rmse:1.03719\tvalidation_1-rmse:1.00185\n",
      "[4]\tvalidation_0-rmse:1.01940\tvalidation_1-rmse:0.99170\n",
      "[5]\tvalidation_0-rmse:1.01481\tvalidation_1-rmse:0.98824\n",
      "[6]\tvalidation_0-rmse:0.99873\tvalidation_1-rmse:0.98018\n",
      "[7]\tvalidation_0-rmse:0.97659\tvalidation_1-rmse:0.96863\n",
      "[8]\tvalidation_0-rmse:0.97355\tvalidation_1-rmse:0.96589\n",
      "[9]\tvalidation_0-rmse:0.97255\tvalidation_1-rmse:0.96446\n",
      "[10]\tvalidation_0-rmse:0.97123\tvalidation_1-rmse:0.96385\n",
      "[11]\tvalidation_0-rmse:0.96112\tvalidation_1-rmse:0.96119\n",
      "[12]\tvalidation_0-rmse:0.95552\tvalidation_1-rmse:0.96042\n",
      "[13]\tvalidation_0-rmse:0.95376\tvalidation_1-rmse:0.96073\n",
      "[14]\tvalidation_0-rmse:0.95120\tvalidation_1-rmse:0.96063\n",
      "[15]\tvalidation_0-rmse:0.94918\tvalidation_1-rmse:0.96018\n",
      "[16]\tvalidation_0-rmse:0.94776\tvalidation_1-rmse:0.96054\n",
      "[17]\tvalidation_0-rmse:0.94705\tvalidation_1-rmse:0.96055\n",
      "[18]\tvalidation_0-rmse:0.94568\tvalidation_1-rmse:0.95968\n",
      "[19]\tvalidation_0-rmse:0.94505\tvalidation_1-rmse:0.95934\n",
      "[20]\tvalidation_0-rmse:0.94440\tvalidation_1-rmse:0.95867\n",
      "[21]\tvalidation_0-rmse:0.94358\tvalidation_1-rmse:0.95811\n",
      "[22]\tvalidation_0-rmse:0.94293\tvalidation_1-rmse:0.95789\n",
      "[23]\tvalidation_0-rmse:0.94168\tvalidation_1-rmse:0.95822\n",
      "[24]\tvalidation_0-rmse:0.94062\tvalidation_1-rmse:0.95904\n",
      "[25]\tvalidation_0-rmse:0.93965\tvalidation_1-rmse:0.95898\n",
      "[26]\tvalidation_0-rmse:0.93912\tvalidation_1-rmse:0.95975\n",
      "[27]\tvalidation_0-rmse:0.93879\tvalidation_1-rmse:0.95961\n"
     ]
    },
    {
     "name": "stderr",
     "output_type": "stream",
     "text": [
      "D:\\Anaconda\\lib\\site-packages\\xgboost\\data.py:112: UserWarning: Use subset (sliced data) of np.ndarray is not recommended because it will generate extra copies and increase memory consumption\n",
      "  warnings.warn(\n"
     ]
    },
    {
     "name": "stdout",
     "output_type": "stream",
     "text": [
      "[0]\tvalidation_0-rmse:1.16059\tvalidation_1-rmse:1.10665\n"
     ]
    },
    {
     "name": "stderr",
     "output_type": "stream",
     "text": [
      "D:\\Anaconda\\lib\\site-packages\\xgboost\\data.py:112: UserWarning: Use subset (sliced data) of np.ndarray is not recommended because it will generate extra copies and increase memory consumption\n",
      "  warnings.warn(\n"
     ]
    },
    {
     "name": "stdout",
     "output_type": "stream",
     "text": [
      "[0]\tvalidation_0-rmse:1.16075\tvalidation_1-rmse:1.10584\n"
     ]
    },
    {
     "name": "stderr",
     "output_type": "stream",
     "text": [
      "D:\\Anaconda\\lib\\site-packages\\xgboost\\data.py:112: UserWarning: Use subset (sliced data) of np.ndarray is not recommended because it will generate extra copies and increase memory consumption\n",
      "  warnings.warn(\n"
     ]
    },
    {
     "name": "stdout",
     "output_type": "stream",
     "text": [
      "[0]\tvalidation_0-rmse:1.16199\tvalidation_1-rmse:1.10591\n"
     ]
    },
    {
     "name": "stderr",
     "output_type": "stream",
     "text": [
      "D:\\Anaconda\\lib\\site-packages\\xgboost\\data.py:112: UserWarning: Use subset (sliced data) of np.ndarray is not recommended because it will generate extra copies and increase memory consumption\n",
      "  warnings.warn(\n"
     ]
    },
    {
     "name": "stdout",
     "output_type": "stream",
     "text": [
      "[0]\tvalidation_0-rmse:1.15980\tvalidation_1-rmse:1.10596\n"
     ]
    },
    {
     "name": "stderr",
     "output_type": "stream",
     "text": [
      "D:\\Anaconda\\lib\\site-packages\\xgboost\\data.py:112: UserWarning: Use subset (sliced data) of np.ndarray is not recommended because it will generate extra copies and increase memory consumption\n",
      "  warnings.warn(\n"
     ]
    },
    {
     "name": "stdout",
     "output_type": "stream",
     "text": [
      "[0]\tvalidation_0-rmse:1.16146\tvalidation_1-rmse:1.10607\n"
     ]
    },
    {
     "name": "stderr",
     "output_type": "stream",
     "text": [
      "D:\\Anaconda\\lib\\site-packages\\xgboost\\data.py:112: UserWarning: Use subset (sliced data) of np.ndarray is not recommended because it will generate extra copies and increase memory consumption\n",
      "  warnings.warn(\n"
     ]
    },
    {
     "name": "stdout",
     "output_type": "stream",
     "text": [
      "[0]\tvalidation_0-rmse:1.16059\tvalidation_1-rmse:1.10665\n",
      "[1]\tvalidation_0-rmse:1.12824\tvalidation_1-rmse:1.08083\n",
      "[2]\tvalidation_0-rmse:1.10247\tvalidation_1-rmse:1.06307\n",
      "[3]\tvalidation_0-rmse:1.06925\tvalidation_1-rmse:1.04014\n",
      "[4]\tvalidation_0-rmse:1.04253\tvalidation_1-rmse:1.02723\n",
      "[5]\tvalidation_0-rmse:1.03156\tvalidation_1-rmse:1.02095\n",
      "[6]\tvalidation_0-rmse:1.02500\tvalidation_1-rmse:1.01526\n",
      "[7]\tvalidation_0-rmse:1.01077\tvalidation_1-rmse:1.00604\n",
      "[8]\tvalidation_0-rmse:1.00329\tvalidation_1-rmse:1.00146\n",
      "[9]\tvalidation_0-rmse:0.99814\tvalidation_1-rmse:0.99842\n"
     ]
    },
    {
     "name": "stderr",
     "output_type": "stream",
     "text": [
      "D:\\Anaconda\\lib\\site-packages\\xgboost\\data.py:112: UserWarning: Use subset (sliced data) of np.ndarray is not recommended because it will generate extra copies and increase memory consumption\n",
      "  warnings.warn(\n"
     ]
    },
    {
     "name": "stdout",
     "output_type": "stream",
     "text": [
      "[0]\tvalidation_0-rmse:1.16075\tvalidation_1-rmse:1.10584\n",
      "[1]\tvalidation_0-rmse:1.12642\tvalidation_1-rmse:1.07954\n",
      "[2]\tvalidation_0-rmse:1.10326\tvalidation_1-rmse:1.06287\n",
      "[3]\tvalidation_0-rmse:1.06533\tvalidation_1-rmse:1.03862\n",
      "[4]\tvalidation_0-rmse:1.04473\tvalidation_1-rmse:1.02561\n",
      "[5]\tvalidation_0-rmse:1.03338\tvalidation_1-rmse:1.01999\n",
      "[6]\tvalidation_0-rmse:1.02548\tvalidation_1-rmse:1.01449\n",
      "[7]\tvalidation_0-rmse:1.01086\tvalidation_1-rmse:1.00552\n",
      "[8]\tvalidation_0-rmse:1.00312\tvalidation_1-rmse:1.00112\n",
      "[9]\tvalidation_0-rmse:0.99997\tvalidation_1-rmse:0.99831\n"
     ]
    },
    {
     "name": "stderr",
     "output_type": "stream",
     "text": [
      "D:\\Anaconda\\lib\\site-packages\\xgboost\\data.py:112: UserWarning: Use subset (sliced data) of np.ndarray is not recommended because it will generate extra copies and increase memory consumption\n",
      "  warnings.warn(\n"
     ]
    },
    {
     "name": "stdout",
     "output_type": "stream",
     "text": [
      "[0]\tvalidation_0-rmse:1.16199\tvalidation_1-rmse:1.10591\n",
      "[1]\tvalidation_0-rmse:1.12864\tvalidation_1-rmse:1.07970\n",
      "[2]\tvalidation_0-rmse:1.10602\tvalidation_1-rmse:1.06322\n",
      "[3]\tvalidation_0-rmse:1.06897\tvalidation_1-rmse:1.03923\n",
      "[4]\tvalidation_0-rmse:1.04792\tvalidation_1-rmse:1.02627\n",
      "[5]\tvalidation_0-rmse:1.03661\tvalidation_1-rmse:1.02031\n",
      "[6]\tvalidation_0-rmse:1.02774\tvalidation_1-rmse:1.01468\n",
      "[7]\tvalidation_0-rmse:1.01236\tvalidation_1-rmse:1.00558\n",
      "[8]\tvalidation_0-rmse:1.00407\tvalidation_1-rmse:1.00116\n",
      "[9]\tvalidation_0-rmse:1.00182\tvalidation_1-rmse:0.99822\n"
     ]
    },
    {
     "name": "stderr",
     "output_type": "stream",
     "text": [
      "D:\\Anaconda\\lib\\site-packages\\xgboost\\data.py:112: UserWarning: Use subset (sliced data) of np.ndarray is not recommended because it will generate extra copies and increase memory consumption\n",
      "  warnings.warn(\n"
     ]
    },
    {
     "name": "stdout",
     "output_type": "stream",
     "text": [
      "[0]\tvalidation_0-rmse:1.15980\tvalidation_1-rmse:1.10596\n",
      "[1]\tvalidation_0-rmse:1.12567\tvalidation_1-rmse:1.07977\n",
      "[2]\tvalidation_0-rmse:1.10100\tvalidation_1-rmse:1.06280\n",
      "[3]\tvalidation_0-rmse:1.06463\tvalidation_1-rmse:1.03952\n",
      "[4]\tvalidation_0-rmse:1.04402\tvalidation_1-rmse:1.02639\n",
      "[5]\tvalidation_0-rmse:1.03257\tvalidation_1-rmse:1.02046\n",
      "[6]\tvalidation_0-rmse:1.02625\tvalidation_1-rmse:1.01465\n",
      "[7]\tvalidation_0-rmse:1.01206\tvalidation_1-rmse:1.00540\n",
      "[8]\tvalidation_0-rmse:1.00155\tvalidation_1-rmse:1.00099\n",
      "[9]\tvalidation_0-rmse:0.99860\tvalidation_1-rmse:0.99792\n"
     ]
    },
    {
     "name": "stderr",
     "output_type": "stream",
     "text": [
      "D:\\Anaconda\\lib\\site-packages\\xgboost\\data.py:112: UserWarning: Use subset (sliced data) of np.ndarray is not recommended because it will generate extra copies and increase memory consumption\n",
      "  warnings.warn(\n"
     ]
    },
    {
     "name": "stdout",
     "output_type": "stream",
     "text": [
      "[0]\tvalidation_0-rmse:1.16146\tvalidation_1-rmse:1.10607\n",
      "[1]\tvalidation_0-rmse:1.12814\tvalidation_1-rmse:1.07986\n",
      "[2]\tvalidation_0-rmse:1.10435\tvalidation_1-rmse:1.06304\n",
      "[3]\tvalidation_0-rmse:1.06626\tvalidation_1-rmse:1.03902\n",
      "[4]\tvalidation_0-rmse:1.04584\tvalidation_1-rmse:1.02619\n",
      "[5]\tvalidation_0-rmse:1.03511\tvalidation_1-rmse:1.02043\n",
      "[6]\tvalidation_0-rmse:1.02863\tvalidation_1-rmse:1.01481\n",
      "[7]\tvalidation_0-rmse:1.01313\tvalidation_1-rmse:1.00679\n",
      "[8]\tvalidation_0-rmse:1.00563\tvalidation_1-rmse:1.00291\n",
      "[9]\tvalidation_0-rmse:1.00024\tvalidation_1-rmse:0.99882\n"
     ]
    },
    {
     "name": "stderr",
     "output_type": "stream",
     "text": [
      "D:\\Anaconda\\lib\\site-packages\\xgboost\\data.py:112: UserWarning: Use subset (sliced data) of np.ndarray is not recommended because it will generate extra copies and increase memory consumption\n",
      "  warnings.warn(\n"
     ]
    },
    {
     "name": "stdout",
     "output_type": "stream",
     "text": [
      "[0]\tvalidation_0-rmse:1.16059\tvalidation_1-rmse:1.10665\n",
      "[1]\tvalidation_0-rmse:1.12824\tvalidation_1-rmse:1.08083\n",
      "[2]\tvalidation_0-rmse:1.10247\tvalidation_1-rmse:1.06307\n",
      "[3]\tvalidation_0-rmse:1.06925\tvalidation_1-rmse:1.04014\n",
      "[4]\tvalidation_0-rmse:1.04253\tvalidation_1-rmse:1.02723\n",
      "[5]\tvalidation_0-rmse:1.03156\tvalidation_1-rmse:1.02095\n",
      "[6]\tvalidation_0-rmse:1.02500\tvalidation_1-rmse:1.01526\n",
      "[7]\tvalidation_0-rmse:1.01077\tvalidation_1-rmse:1.00604\n",
      "[8]\tvalidation_0-rmse:1.00329\tvalidation_1-rmse:1.00146\n",
      "[9]\tvalidation_0-rmse:0.99814\tvalidation_1-rmse:0.99842\n",
      "[10]\tvalidation_0-rmse:0.99531\tvalidation_1-rmse:0.99674\n",
      "[11]\tvalidation_0-rmse:0.99130\tvalidation_1-rmse:0.99526\n",
      "[12]\tvalidation_0-rmse:0.98342\tvalidation_1-rmse:0.99195\n",
      "[13]\tvalidation_0-rmse:0.98083\tvalidation_1-rmse:0.98992\n",
      "[14]\tvalidation_0-rmse:0.97808\tvalidation_1-rmse:0.98915\n",
      "[15]\tvalidation_0-rmse:0.97634\tvalidation_1-rmse:0.98742\n",
      "[16]\tvalidation_0-rmse:0.97393\tvalidation_1-rmse:0.98601\n",
      "[17]\tvalidation_0-rmse:0.97274\tvalidation_1-rmse:0.98537\n",
      "[18]\tvalidation_0-rmse:0.96899\tvalidation_1-rmse:0.98374\n",
      "[19]\tvalidation_0-rmse:0.96742\tvalidation_1-rmse:0.98201\n",
      "[20]\tvalidation_0-rmse:0.96678\tvalidation_1-rmse:0.98102\n",
      "[21]\tvalidation_0-rmse:0.96561\tvalidation_1-rmse:0.97976\n",
      "[22]\tvalidation_0-rmse:0.96484\tvalidation_1-rmse:0.97887\n",
      "[23]\tvalidation_0-rmse:0.96401\tvalidation_1-rmse:0.97866\n",
      "[24]\tvalidation_0-rmse:0.96305\tvalidation_1-rmse:0.97879\n",
      "[25]\tvalidation_0-rmse:0.96265\tvalidation_1-rmse:0.97859\n",
      "[26]\tvalidation_0-rmse:0.96145\tvalidation_1-rmse:0.97911\n",
      "[27]\tvalidation_0-rmse:0.96085\tvalidation_1-rmse:0.97838\n",
      "[28]\tvalidation_0-rmse:0.96043\tvalidation_1-rmse:0.97741\n",
      "[29]\tvalidation_0-rmse:0.96014\tvalidation_1-rmse:0.97728\n",
      "[30]\tvalidation_0-rmse:0.95969\tvalidation_1-rmse:0.97664\n",
      "[31]\tvalidation_0-rmse:0.95945\tvalidation_1-rmse:0.97723\n",
      "[32]\tvalidation_0-rmse:0.95906\tvalidation_1-rmse:0.97672\n",
      "[33]\tvalidation_0-rmse:0.95870\tvalidation_1-rmse:0.97615\n",
      "[34]\tvalidation_0-rmse:0.95836\tvalidation_1-rmse:0.97583\n",
      "[35]\tvalidation_0-rmse:0.95810\tvalidation_1-rmse:0.97628\n",
      "[36]\tvalidation_0-rmse:0.95813\tvalidation_1-rmse:0.97612\n",
      "[37]\tvalidation_0-rmse:0.95791\tvalidation_1-rmse:0.97643\n",
      "[38]\tvalidation_0-rmse:0.95754\tvalidation_1-rmse:0.97611\n"
     ]
    },
    {
     "name": "stderr",
     "output_type": "stream",
     "text": [
      "D:\\Anaconda\\lib\\site-packages\\xgboost\\data.py:112: UserWarning: Use subset (sliced data) of np.ndarray is not recommended because it will generate extra copies and increase memory consumption\n",
      "  warnings.warn(\n"
     ]
    },
    {
     "name": "stdout",
     "output_type": "stream",
     "text": [
      "[0]\tvalidation_0-rmse:1.16075\tvalidation_1-rmse:1.10584\n",
      "[1]\tvalidation_0-rmse:1.12642\tvalidation_1-rmse:1.07954\n",
      "[2]\tvalidation_0-rmse:1.10326\tvalidation_1-rmse:1.06287\n",
      "[3]\tvalidation_0-rmse:1.06533\tvalidation_1-rmse:1.03862\n",
      "[4]\tvalidation_0-rmse:1.04473\tvalidation_1-rmse:1.02561\n",
      "[5]\tvalidation_0-rmse:1.03338\tvalidation_1-rmse:1.01999\n",
      "[6]\tvalidation_0-rmse:1.02548\tvalidation_1-rmse:1.01449\n",
      "[7]\tvalidation_0-rmse:1.01086\tvalidation_1-rmse:1.00552\n",
      "[8]\tvalidation_0-rmse:1.00312\tvalidation_1-rmse:1.00112\n",
      "[9]\tvalidation_0-rmse:0.99997\tvalidation_1-rmse:0.99831\n",
      "[10]\tvalidation_0-rmse:0.99236\tvalidation_1-rmse:0.99677\n",
      "[11]\tvalidation_0-rmse:0.98745\tvalidation_1-rmse:0.99462\n",
      "[12]\tvalidation_0-rmse:0.98432\tvalidation_1-rmse:0.99301\n",
      "[13]\tvalidation_0-rmse:0.98227\tvalidation_1-rmse:0.99188\n",
      "[14]\tvalidation_0-rmse:0.97848\tvalidation_1-rmse:0.98850\n",
      "[15]\tvalidation_0-rmse:0.97624\tvalidation_1-rmse:0.98805\n",
      "[16]\tvalidation_0-rmse:0.97198\tvalidation_1-rmse:0.98701\n",
      "[17]\tvalidation_0-rmse:0.97126\tvalidation_1-rmse:0.98564\n",
      "[18]\tvalidation_0-rmse:0.96977\tvalidation_1-rmse:0.98410\n",
      "[19]\tvalidation_0-rmse:0.96813\tvalidation_1-rmse:0.98250\n",
      "[20]\tvalidation_0-rmse:0.96666\tvalidation_1-rmse:0.98188\n",
      "[21]\tvalidation_0-rmse:0.96561\tvalidation_1-rmse:0.98059\n",
      "[22]\tvalidation_0-rmse:0.96469\tvalidation_1-rmse:0.97961\n",
      "[23]\tvalidation_0-rmse:0.96411\tvalidation_1-rmse:0.97874\n",
      "[24]\tvalidation_0-rmse:0.96365\tvalidation_1-rmse:0.97802\n",
      "[25]\tvalidation_0-rmse:0.96191\tvalidation_1-rmse:0.97746\n",
      "[26]\tvalidation_0-rmse:0.96087\tvalidation_1-rmse:0.97750\n",
      "[27]\tvalidation_0-rmse:0.96031\tvalidation_1-rmse:0.97783\n",
      "[28]\tvalidation_0-rmse:0.95987\tvalidation_1-rmse:0.97791\n",
      "[29]\tvalidation_0-rmse:0.95960\tvalidation_1-rmse:0.97789\n",
      "[30]\tvalidation_0-rmse:0.95922\tvalidation_1-rmse:0.97730\n",
      "[31]\tvalidation_0-rmse:0.95898\tvalidation_1-rmse:0.97749\n",
      "[32]\tvalidation_0-rmse:0.95870\tvalidation_1-rmse:0.97667\n",
      "[33]\tvalidation_0-rmse:0.95867\tvalidation_1-rmse:0.97636\n",
      "[34]\tvalidation_0-rmse:0.95844\tvalidation_1-rmse:0.97587\n",
      "[35]\tvalidation_0-rmse:0.95825\tvalidation_1-rmse:0.97605\n",
      "[36]\tvalidation_0-rmse:0.95786\tvalidation_1-rmse:0.97585\n",
      "[37]\tvalidation_0-rmse:0.95766\tvalidation_1-rmse:0.97505\n",
      "[38]\tvalidation_0-rmse:0.95738\tvalidation_1-rmse:0.97482\n",
      "[39]\tvalidation_0-rmse:0.95727\tvalidation_1-rmse:0.97462\n",
      "[40]\tvalidation_0-rmse:0.95709\tvalidation_1-rmse:0.97438\n",
      "[41]\tvalidation_0-rmse:0.95680\tvalidation_1-rmse:0.97410\n",
      "[42]\tvalidation_0-rmse:0.95646\tvalidation_1-rmse:0.97402\n",
      "[43]\tvalidation_0-rmse:0.95623\tvalidation_1-rmse:0.97375\n",
      "[44]\tvalidation_0-rmse:0.95610\tvalidation_1-rmse:0.97345\n",
      "[45]\tvalidation_0-rmse:0.95601\tvalidation_1-rmse:0.97312\n",
      "[46]\tvalidation_0-rmse:0.95581\tvalidation_1-rmse:0.97296\n",
      "[47]\tvalidation_0-rmse:0.95564\tvalidation_1-rmse:0.97297\n",
      "[48]\tvalidation_0-rmse:0.95552\tvalidation_1-rmse:0.97288\n",
      "[49]\tvalidation_0-rmse:0.95559\tvalidation_1-rmse:0.97282\n",
      "[50]\tvalidation_0-rmse:0.95550\tvalidation_1-rmse:0.97274\n",
      "[51]\tvalidation_0-rmse:0.95531\tvalidation_1-rmse:0.97257\n",
      "[52]\tvalidation_0-rmse:0.95520\tvalidation_1-rmse:0.97238\n",
      "[53]\tvalidation_0-rmse:0.95509\tvalidation_1-rmse:0.97187\n",
      "[54]\tvalidation_0-rmse:0.95485\tvalidation_1-rmse:0.97219\n",
      "[55]\tvalidation_0-rmse:0.95473\tvalidation_1-rmse:0.97202\n",
      "[56]\tvalidation_0-rmse:0.95460\tvalidation_1-rmse:0.97187\n",
      "[57]\tvalidation_0-rmse:0.95458\tvalidation_1-rmse:0.97173\n",
      "[58]\tvalidation_0-rmse:0.95450\tvalidation_1-rmse:0.97157\n",
      "[59]\tvalidation_0-rmse:0.95439\tvalidation_1-rmse:0.97121\n",
      "[60]\tvalidation_0-rmse:0.95428\tvalidation_1-rmse:0.97101\n",
      "[61]\tvalidation_0-rmse:0.95417\tvalidation_1-rmse:0.97081\n",
      "[62]\tvalidation_0-rmse:0.95409\tvalidation_1-rmse:0.97103\n",
      "[63]\tvalidation_0-rmse:0.95399\tvalidation_1-rmse:0.97070\n",
      "[64]\tvalidation_0-rmse:0.95390\tvalidation_1-rmse:0.97093\n",
      "[65]\tvalidation_0-rmse:0.95401\tvalidation_1-rmse:0.97116\n",
      "[66]\tvalidation_0-rmse:0.95365\tvalidation_1-rmse:0.97110\n",
      "[67]\tvalidation_0-rmse:0.95389\tvalidation_1-rmse:0.97109\n",
      "[68]\tvalidation_0-rmse:0.95383\tvalidation_1-rmse:0.97095\n"
     ]
    },
    {
     "name": "stderr",
     "output_type": "stream",
     "text": [
      "D:\\Anaconda\\lib\\site-packages\\xgboost\\data.py:112: UserWarning: Use subset (sliced data) of np.ndarray is not recommended because it will generate extra copies and increase memory consumption\n",
      "  warnings.warn(\n"
     ]
    },
    {
     "name": "stdout",
     "output_type": "stream",
     "text": [
      "[0]\tvalidation_0-rmse:1.16199\tvalidation_1-rmse:1.10591\n",
      "[1]\tvalidation_0-rmse:1.12864\tvalidation_1-rmse:1.07970\n",
      "[2]\tvalidation_0-rmse:1.10602\tvalidation_1-rmse:1.06322\n",
      "[3]\tvalidation_0-rmse:1.06897\tvalidation_1-rmse:1.03923\n",
      "[4]\tvalidation_0-rmse:1.04792\tvalidation_1-rmse:1.02627\n",
      "[5]\tvalidation_0-rmse:1.03661\tvalidation_1-rmse:1.02031\n",
      "[6]\tvalidation_0-rmse:1.02774\tvalidation_1-rmse:1.01468\n",
      "[7]\tvalidation_0-rmse:1.01236\tvalidation_1-rmse:1.00558\n",
      "[8]\tvalidation_0-rmse:1.00407\tvalidation_1-rmse:1.00116\n",
      "[9]\tvalidation_0-rmse:1.00182\tvalidation_1-rmse:0.99822\n",
      "[10]\tvalidation_0-rmse:0.99387\tvalidation_1-rmse:0.99651\n",
      "[11]\tvalidation_0-rmse:0.98902\tvalidation_1-rmse:0.99449\n",
      "[12]\tvalidation_0-rmse:0.98457\tvalidation_1-rmse:0.99261\n",
      "[13]\tvalidation_0-rmse:0.98342\tvalidation_1-rmse:0.99125\n",
      "[14]\tvalidation_0-rmse:0.97940\tvalidation_1-rmse:0.98796\n",
      "[15]\tvalidation_0-rmse:0.97729\tvalidation_1-rmse:0.98768\n",
      "[16]\tvalidation_0-rmse:0.97361\tvalidation_1-rmse:0.98652\n",
      "[17]\tvalidation_0-rmse:0.97221\tvalidation_1-rmse:0.98501\n",
      "[18]\tvalidation_0-rmse:0.97072\tvalidation_1-rmse:0.98347\n",
      "[19]\tvalidation_0-rmse:0.96901\tvalidation_1-rmse:0.98174\n",
      "[20]\tvalidation_0-rmse:0.96763\tvalidation_1-rmse:0.98098\n",
      "[21]\tvalidation_0-rmse:0.96686\tvalidation_1-rmse:0.97999\n",
      "[22]\tvalidation_0-rmse:0.96529\tvalidation_1-rmse:0.97879\n",
      "[23]\tvalidation_0-rmse:0.96407\tvalidation_1-rmse:0.97800\n",
      "[24]\tvalidation_0-rmse:0.96335\tvalidation_1-rmse:0.97818\n",
      "[25]\tvalidation_0-rmse:0.96267\tvalidation_1-rmse:0.97745\n",
      "[26]\tvalidation_0-rmse:0.96100\tvalidation_1-rmse:0.97722\n",
      "[27]\tvalidation_0-rmse:0.96067\tvalidation_1-rmse:0.97701\n",
      "[28]\tvalidation_0-rmse:0.96063\tvalidation_1-rmse:0.97659\n",
      "[29]\tvalidation_0-rmse:0.96029\tvalidation_1-rmse:0.97671\n",
      "[30]\tvalidation_0-rmse:0.95994\tvalidation_1-rmse:0.97607\n",
      "[31]\tvalidation_0-rmse:0.95965\tvalidation_1-rmse:0.97569\n",
      "[32]\tvalidation_0-rmse:0.95928\tvalidation_1-rmse:0.97479\n",
      "[33]\tvalidation_0-rmse:0.95898\tvalidation_1-rmse:0.97445\n",
      "[34]\tvalidation_0-rmse:0.95874\tvalidation_1-rmse:0.97396\n",
      "[35]\tvalidation_0-rmse:0.95820\tvalidation_1-rmse:0.97405\n",
      "[36]\tvalidation_0-rmse:0.95794\tvalidation_1-rmse:0.97321\n",
      "[37]\tvalidation_0-rmse:0.95727\tvalidation_1-rmse:0.97307\n",
      "[38]\tvalidation_0-rmse:0.95716\tvalidation_1-rmse:0.97272\n",
      "[39]\tvalidation_0-rmse:0.95697\tvalidation_1-rmse:0.97250\n",
      "[40]\tvalidation_0-rmse:0.95676\tvalidation_1-rmse:0.97225\n",
      "[41]\tvalidation_0-rmse:0.95650\tvalidation_1-rmse:0.97227\n",
      "[42]\tvalidation_0-rmse:0.95648\tvalidation_1-rmse:0.97215\n",
      "[43]\tvalidation_0-rmse:0.95627\tvalidation_1-rmse:0.97220\n",
      "[44]\tvalidation_0-rmse:0.95619\tvalidation_1-rmse:0.97204\n",
      "[45]\tvalidation_0-rmse:0.95607\tvalidation_1-rmse:0.97161\n",
      "[46]\tvalidation_0-rmse:0.95591\tvalidation_1-rmse:0.97139\n",
      "[47]\tvalidation_0-rmse:0.95575\tvalidation_1-rmse:0.97160\n",
      "[48]\tvalidation_0-rmse:0.95563\tvalidation_1-rmse:0.97130\n",
      "[49]\tvalidation_0-rmse:0.95546\tvalidation_1-rmse:0.97126\n",
      "[50]\tvalidation_0-rmse:0.95551\tvalidation_1-rmse:0.97107\n",
      "[51]\tvalidation_0-rmse:0.95539\tvalidation_1-rmse:0.97087\n",
      "[52]\tvalidation_0-rmse:0.95511\tvalidation_1-rmse:0.97088\n",
      "[53]\tvalidation_0-rmse:0.95505\tvalidation_1-rmse:0.97061\n",
      "[54]\tvalidation_0-rmse:0.95491\tvalidation_1-rmse:0.97048\n",
      "[55]\tvalidation_0-rmse:0.95483\tvalidation_1-rmse:0.97025\n",
      "[56]\tvalidation_0-rmse:0.95474\tvalidation_1-rmse:0.97020\n",
      "[57]\tvalidation_0-rmse:0.95467\tvalidation_1-rmse:0.97008\n",
      "[58]\tvalidation_0-rmse:0.95451\tvalidation_1-rmse:0.97010\n",
      "[59]\tvalidation_0-rmse:0.95451\tvalidation_1-rmse:0.97001\n",
      "[60]\tvalidation_0-rmse:0.95445\tvalidation_1-rmse:0.96986\n",
      "[61]\tvalidation_0-rmse:0.95444\tvalidation_1-rmse:0.96948\n",
      "[62]\tvalidation_0-rmse:0.95427\tvalidation_1-rmse:0.96968\n",
      "[63]\tvalidation_0-rmse:0.95428\tvalidation_1-rmse:0.96940\n",
      "[64]\tvalidation_0-rmse:0.95405\tvalidation_1-rmse:0.96935\n",
      "[65]\tvalidation_0-rmse:0.95395\tvalidation_1-rmse:0.96934\n",
      "[66]\tvalidation_0-rmse:0.95392\tvalidation_1-rmse:0.96927\n",
      "[67]\tvalidation_0-rmse:0.95385\tvalidation_1-rmse:0.96947\n",
      "[68]\tvalidation_0-rmse:0.95378\tvalidation_1-rmse:0.96930\n",
      "[69]\tvalidation_0-rmse:0.95370\tvalidation_1-rmse:0.96913\n",
      "[70]\tvalidation_0-rmse:0.95367\tvalidation_1-rmse:0.96886\n",
      "[71]\tvalidation_0-rmse:0.95359\tvalidation_1-rmse:0.96881\n",
      "[72]\tvalidation_0-rmse:0.95354\tvalidation_1-rmse:0.96881\n",
      "[73]\tvalidation_0-rmse:0.95341\tvalidation_1-rmse:0.96879\n",
      "[74]\tvalidation_0-rmse:0.95342\tvalidation_1-rmse:0.96868\n",
      "[75]\tvalidation_0-rmse:0.95321\tvalidation_1-rmse:0.96883\n",
      "[76]\tvalidation_0-rmse:0.95316\tvalidation_1-rmse:0.96850\n",
      "[77]\tvalidation_0-rmse:0.95309\tvalidation_1-rmse:0.96841\n",
      "[78]\tvalidation_0-rmse:0.95303\tvalidation_1-rmse:0.96859\n",
      "[79]\tvalidation_0-rmse:0.95298\tvalidation_1-rmse:0.96835\n",
      "[80]\tvalidation_0-rmse:0.95296\tvalidation_1-rmse:0.96832\n",
      "[81]\tvalidation_0-rmse:0.95288\tvalidation_1-rmse:0.96851\n",
      "[82]\tvalidation_0-rmse:0.95281\tvalidation_1-rmse:0.96839\n",
      "[83]\tvalidation_0-rmse:0.95275\tvalidation_1-rmse:0.96832\n",
      "[84]\tvalidation_0-rmse:0.95270\tvalidation_1-rmse:0.96823\n",
      "[85]\tvalidation_0-rmse:0.95256\tvalidation_1-rmse:0.96840\n",
      "[86]\tvalidation_0-rmse:0.95256\tvalidation_1-rmse:0.96828\n",
      "[87]\tvalidation_0-rmse:0.95250\tvalidation_1-rmse:0.96816\n",
      "[88]\tvalidation_0-rmse:0.95248\tvalidation_1-rmse:0.96818\n",
      "[89]\tvalidation_0-rmse:0.95247\tvalidation_1-rmse:0.96811\n",
      "[90]\tvalidation_0-rmse:0.95241\tvalidation_1-rmse:0.96809\n",
      "[91]\tvalidation_0-rmse:0.95235\tvalidation_1-rmse:0.96803\n",
      "[92]\tvalidation_0-rmse:0.95231\tvalidation_1-rmse:0.96793\n",
      "[93]\tvalidation_0-rmse:0.95231\tvalidation_1-rmse:0.96769\n",
      "[94]\tvalidation_0-rmse:0.95220\tvalidation_1-rmse:0.96787\n",
      "[95]\tvalidation_0-rmse:0.95221\tvalidation_1-rmse:0.96766\n",
      "[96]\tvalidation_0-rmse:0.95213\tvalidation_1-rmse:0.96782\n",
      "[97]\tvalidation_0-rmse:0.95208\tvalidation_1-rmse:0.96773\n",
      "[98]\tvalidation_0-rmse:0.95206\tvalidation_1-rmse:0.96767\n",
      "[99]\tvalidation_0-rmse:0.95202\tvalidation_1-rmse:0.96767\n"
     ]
    },
    {
     "name": "stderr",
     "output_type": "stream",
     "text": [
      "D:\\Anaconda\\lib\\site-packages\\xgboost\\data.py:112: UserWarning: Use subset (sliced data) of np.ndarray is not recommended because it will generate extra copies and increase memory consumption\n",
      "  warnings.warn(\n"
     ]
    },
    {
     "name": "stdout",
     "output_type": "stream",
     "text": [
      "[0]\tvalidation_0-rmse:1.15980\tvalidation_1-rmse:1.10596\n",
      "[1]\tvalidation_0-rmse:1.12567\tvalidation_1-rmse:1.07977\n",
      "[2]\tvalidation_0-rmse:1.10100\tvalidation_1-rmse:1.06280\n",
      "[3]\tvalidation_0-rmse:1.06463\tvalidation_1-rmse:1.03952\n",
      "[4]\tvalidation_0-rmse:1.04402\tvalidation_1-rmse:1.02639\n",
      "[5]\tvalidation_0-rmse:1.03257\tvalidation_1-rmse:1.02046\n",
      "[6]\tvalidation_0-rmse:1.02625\tvalidation_1-rmse:1.01465\n",
      "[7]\tvalidation_0-rmse:1.01206\tvalidation_1-rmse:1.00540\n",
      "[8]\tvalidation_0-rmse:1.00155\tvalidation_1-rmse:1.00099\n",
      "[9]\tvalidation_0-rmse:0.99860\tvalidation_1-rmse:0.99792\n",
      "[10]\tvalidation_0-rmse:0.99616\tvalidation_1-rmse:0.99623\n",
      "[11]\tvalidation_0-rmse:0.99228\tvalidation_1-rmse:0.99466\n",
      "[12]\tvalidation_0-rmse:0.98373\tvalidation_1-rmse:0.99141\n",
      "[13]\tvalidation_0-rmse:0.98038\tvalidation_1-rmse:0.98926\n",
      "[14]\tvalidation_0-rmse:0.97763\tvalidation_1-rmse:0.98854\n",
      "[15]\tvalidation_0-rmse:0.97629\tvalidation_1-rmse:0.98695\n",
      "[16]\tvalidation_0-rmse:0.97416\tvalidation_1-rmse:0.98554\n",
      "[17]\tvalidation_0-rmse:0.97089\tvalidation_1-rmse:0.98498\n",
      "[18]\tvalidation_0-rmse:0.96947\tvalidation_1-rmse:0.98323\n",
      "[19]\tvalidation_0-rmse:0.96784\tvalidation_1-rmse:0.98146\n",
      "[20]\tvalidation_0-rmse:0.96663\tvalidation_1-rmse:0.98036\n",
      "[21]\tvalidation_0-rmse:0.96554\tvalidation_1-rmse:0.97906\n",
      "[22]\tvalidation_0-rmse:0.96483\tvalidation_1-rmse:0.97808\n",
      "[23]\tvalidation_0-rmse:0.96408\tvalidation_1-rmse:0.97788\n",
      "[24]\tvalidation_0-rmse:0.96317\tvalidation_1-rmse:0.97805\n",
      "[25]\tvalidation_0-rmse:0.96161\tvalidation_1-rmse:0.97784\n",
      "[26]\tvalidation_0-rmse:0.96104\tvalidation_1-rmse:0.97705\n",
      "[27]\tvalidation_0-rmse:0.96060\tvalidation_1-rmse:0.97636\n",
      "[28]\tvalidation_0-rmse:0.96027\tvalidation_1-rmse:0.97676\n",
      "[29]\tvalidation_0-rmse:0.95973\tvalidation_1-rmse:0.97667\n",
      "[30]\tvalidation_0-rmse:0.95939\tvalidation_1-rmse:0.97615\n",
      "[31]\tvalidation_0-rmse:0.95909\tvalidation_1-rmse:0.97645\n",
      "[32]\tvalidation_0-rmse:0.95878\tvalidation_1-rmse:0.97549\n",
      "[33]\tvalidation_0-rmse:0.95844\tvalidation_1-rmse:0.97500\n",
      "[34]\tvalidation_0-rmse:0.95779\tvalidation_1-rmse:0.97474\n",
      "[35]\tvalidation_0-rmse:0.95756\tvalidation_1-rmse:0.97389\n",
      "[36]\tvalidation_0-rmse:0.95738\tvalidation_1-rmse:0.97354\n",
      "[37]\tvalidation_0-rmse:0.95740\tvalidation_1-rmse:0.97403\n",
      "[38]\tvalidation_0-rmse:0.95723\tvalidation_1-rmse:0.97436\n",
      "[39]\tvalidation_0-rmse:0.95717\tvalidation_1-rmse:0.97412\n",
      "[40]\tvalidation_0-rmse:0.95688\tvalidation_1-rmse:0.97387\n",
      "[41]\tvalidation_0-rmse:0.95676\tvalidation_1-rmse:0.97382\n"
     ]
    },
    {
     "name": "stderr",
     "output_type": "stream",
     "text": [
      "D:\\Anaconda\\lib\\site-packages\\xgboost\\data.py:112: UserWarning: Use subset (sliced data) of np.ndarray is not recommended because it will generate extra copies and increase memory consumption\n",
      "  warnings.warn(\n"
     ]
    },
    {
     "name": "stdout",
     "output_type": "stream",
     "text": [
      "[0]\tvalidation_0-rmse:1.16146\tvalidation_1-rmse:1.10607\n",
      "[1]\tvalidation_0-rmse:1.12814\tvalidation_1-rmse:1.07986\n",
      "[2]\tvalidation_0-rmse:1.10435\tvalidation_1-rmse:1.06304\n",
      "[3]\tvalidation_0-rmse:1.06626\tvalidation_1-rmse:1.03902\n",
      "[4]\tvalidation_0-rmse:1.04584\tvalidation_1-rmse:1.02619\n",
      "[5]\tvalidation_0-rmse:1.03511\tvalidation_1-rmse:1.02043\n",
      "[6]\tvalidation_0-rmse:1.02863\tvalidation_1-rmse:1.01481\n",
      "[7]\tvalidation_0-rmse:1.01313\tvalidation_1-rmse:1.00679\n",
      "[8]\tvalidation_0-rmse:1.00563\tvalidation_1-rmse:1.00291\n",
      "[9]\tvalidation_0-rmse:1.00024\tvalidation_1-rmse:0.99882\n",
      "[10]\tvalidation_0-rmse:0.99268\tvalidation_1-rmse:0.99698\n",
      "[11]\tvalidation_0-rmse:0.98835\tvalidation_1-rmse:0.99507\n",
      "[12]\tvalidation_0-rmse:0.98478\tvalidation_1-rmse:0.99319\n",
      "[13]\tvalidation_0-rmse:0.98243\tvalidation_1-rmse:0.99172\n",
      "[14]\tvalidation_0-rmse:0.97861\tvalidation_1-rmse:0.98841\n",
      "[15]\tvalidation_0-rmse:0.97707\tvalidation_1-rmse:0.98671\n",
      "[16]\tvalidation_0-rmse:0.97302\tvalidation_1-rmse:0.98511\n",
      "[17]\tvalidation_0-rmse:0.97200\tvalidation_1-rmse:0.98486\n",
      "[18]\tvalidation_0-rmse:0.97034\tvalidation_1-rmse:0.98309\n",
      "[19]\tvalidation_0-rmse:0.96825\tvalidation_1-rmse:0.98117\n",
      "[20]\tvalidation_0-rmse:0.96705\tvalidation_1-rmse:0.98026\n",
      "[21]\tvalidation_0-rmse:0.96590\tvalidation_1-rmse:0.97892\n",
      "[22]\tvalidation_0-rmse:0.96540\tvalidation_1-rmse:0.97798\n",
      "[23]\tvalidation_0-rmse:0.96386\tvalidation_1-rmse:0.97790\n",
      "[24]\tvalidation_0-rmse:0.96315\tvalidation_1-rmse:0.97803\n",
      "[25]\tvalidation_0-rmse:0.96267\tvalidation_1-rmse:0.97748\n",
      "[26]\tvalidation_0-rmse:0.96102\tvalidation_1-rmse:0.97676\n",
      "[27]\tvalidation_0-rmse:0.96054\tvalidation_1-rmse:0.97612\n",
      "[28]\tvalidation_0-rmse:0.95979\tvalidation_1-rmse:0.97646\n",
      "[29]\tvalidation_0-rmse:0.95974\tvalidation_1-rmse:0.97600\n",
      "[30]\tvalidation_0-rmse:0.95924\tvalidation_1-rmse:0.97486\n",
      "[31]\tvalidation_0-rmse:0.95885\tvalidation_1-rmse:0.97521\n",
      "[32]\tvalidation_0-rmse:0.95835\tvalidation_1-rmse:0.97457\n",
      "[33]\tvalidation_0-rmse:0.95822\tvalidation_1-rmse:0.97433\n",
      "[34]\tvalidation_0-rmse:0.95786\tvalidation_1-rmse:0.97389\n",
      "[35]\tvalidation_0-rmse:0.95762\tvalidation_1-rmse:0.97329\n",
      "[36]\tvalidation_0-rmse:0.95733\tvalidation_1-rmse:0.97297\n",
      "[37]\tvalidation_0-rmse:0.95711\tvalidation_1-rmse:0.97324\n",
      "[38]\tvalidation_0-rmse:0.95699\tvalidation_1-rmse:0.97304\n",
      "[39]\tvalidation_0-rmse:0.95672\tvalidation_1-rmse:0.97277\n",
      "[40]\tvalidation_0-rmse:0.95669\tvalidation_1-rmse:0.97312\n",
      "[41]\tvalidation_0-rmse:0.95631\tvalidation_1-rmse:0.97311\n",
      "[42]\tvalidation_0-rmse:0.95636\tvalidation_1-rmse:0.97307\n",
      "[43]\tvalidation_0-rmse:0.95615\tvalidation_1-rmse:0.97306\n",
      "[44]\tvalidation_0-rmse:0.95599\tvalidation_1-rmse:0.97274\n",
      "[45]\tvalidation_0-rmse:0.95582\tvalidation_1-rmse:0.97205\n",
      "[46]\tvalidation_0-rmse:0.95587\tvalidation_1-rmse:0.97186\n",
      "[47]\tvalidation_0-rmse:0.95547\tvalidation_1-rmse:0.97204\n",
      "[48]\tvalidation_0-rmse:0.95536\tvalidation_1-rmse:0.97185\n",
      "[49]\tvalidation_0-rmse:0.95551\tvalidation_1-rmse:0.97147\n",
      "[50]\tvalidation_0-rmse:0.95514\tvalidation_1-rmse:0.97136\n",
      "[51]\tvalidation_0-rmse:0.95497\tvalidation_1-rmse:0.97117\n",
      "[52]\tvalidation_0-rmse:0.95505\tvalidation_1-rmse:0.97136\n",
      "[53]\tvalidation_0-rmse:0.95495\tvalidation_1-rmse:0.97105\n",
      "[54]\tvalidation_0-rmse:0.95476\tvalidation_1-rmse:0.97091\n",
      "[55]\tvalidation_0-rmse:0.95461\tvalidation_1-rmse:0.97070\n",
      "[56]\tvalidation_0-rmse:0.95452\tvalidation_1-rmse:0.97052\n",
      "[57]\tvalidation_0-rmse:0.95447\tvalidation_1-rmse:0.97047\n",
      "[58]\tvalidation_0-rmse:0.95429\tvalidation_1-rmse:0.97066\n",
      "[59]\tvalidation_0-rmse:0.95416\tvalidation_1-rmse:0.97065\n",
      "[60]\tvalidation_0-rmse:0.95441\tvalidation_1-rmse:0.97059\n",
      "[61]\tvalidation_0-rmse:0.95427\tvalidation_1-rmse:0.97032\n",
      "[62]\tvalidation_0-rmse:0.95426\tvalidation_1-rmse:0.96999\n",
      "[63]\tvalidation_0-rmse:0.95400\tvalidation_1-rmse:0.96998\n",
      "[64]\tvalidation_0-rmse:0.95391\tvalidation_1-rmse:0.96986\n",
      "[65]\tvalidation_0-rmse:0.95373\tvalidation_1-rmse:0.97012\n",
      "[66]\tvalidation_0-rmse:0.95367\tvalidation_1-rmse:0.97011\n",
      "[67]\tvalidation_0-rmse:0.95358\tvalidation_1-rmse:0.96988\n",
      "[68]\tvalidation_0-rmse:0.95355\tvalidation_1-rmse:0.96979\n",
      "[69]\tvalidation_0-rmse:0.95349\tvalidation_1-rmse:0.96997\n",
      "[70]\tvalidation_0-rmse:0.95341\tvalidation_1-rmse:0.97014\n",
      "[71]\tvalidation_0-rmse:0.95334\tvalidation_1-rmse:0.96984\n",
      "[72]\tvalidation_0-rmse:0.95329\tvalidation_1-rmse:0.96978\n",
      "[73]\tvalidation_0-rmse:0.95322\tvalidation_1-rmse:0.96995\n",
      "[74]\tvalidation_0-rmse:0.95313\tvalidation_1-rmse:0.96984\n",
      "[75]\tvalidation_0-rmse:0.95305\tvalidation_1-rmse:0.96968\n",
      "[76]\tvalidation_0-rmse:0.95300\tvalidation_1-rmse:0.96937\n",
      "[77]\tvalidation_0-rmse:0.95293\tvalidation_1-rmse:0.96938\n",
      "[78]\tvalidation_0-rmse:0.95296\tvalidation_1-rmse:0.96940\n",
      "[79]\tvalidation_0-rmse:0.95291\tvalidation_1-rmse:0.96916\n",
      "[80]\tvalidation_0-rmse:0.95287\tvalidation_1-rmse:0.96911\n",
      "[81]\tvalidation_0-rmse:0.95282\tvalidation_1-rmse:0.96904\n",
      "[82]\tvalidation_0-rmse:0.95276\tvalidation_1-rmse:0.96922\n",
      "[83]\tvalidation_0-rmse:0.95268\tvalidation_1-rmse:0.96940\n",
      "[84]\tvalidation_0-rmse:0.95264\tvalidation_1-rmse:0.96915\n",
      "[85]\tvalidation_0-rmse:0.95256\tvalidation_1-rmse:0.96940\n",
      "[86]\tvalidation_0-rmse:0.95252\tvalidation_1-rmse:0.96927\n"
     ]
    },
    {
     "name": "stderr",
     "output_type": "stream",
     "text": [
      "D:\\Anaconda\\lib\\site-packages\\xgboost\\data.py:112: UserWarning: Use subset (sliced data) of np.ndarray is not recommended because it will generate extra copies and increase memory consumption\n",
      "  warnings.warn(\n"
     ]
    },
    {
     "name": "stdout",
     "output_type": "stream",
     "text": [
      "[0]\tvalidation_0-rmse:1.16059\tvalidation_1-rmse:1.10665\n"
     ]
    },
    {
     "name": "stderr",
     "output_type": "stream",
     "text": [
      "D:\\Anaconda\\lib\\site-packages\\xgboost\\data.py:112: UserWarning: Use subset (sliced data) of np.ndarray is not recommended because it will generate extra copies and increase memory consumption\n",
      "  warnings.warn(\n"
     ]
    },
    {
     "name": "stdout",
     "output_type": "stream",
     "text": [
      "[0]\tvalidation_0-rmse:1.16075\tvalidation_1-rmse:1.10584\n"
     ]
    },
    {
     "name": "stderr",
     "output_type": "stream",
     "text": [
      "D:\\Anaconda\\lib\\site-packages\\xgboost\\data.py:112: UserWarning: Use subset (sliced data) of np.ndarray is not recommended because it will generate extra copies and increase memory consumption\n",
      "  warnings.warn(\n"
     ]
    },
    {
     "name": "stdout",
     "output_type": "stream",
     "text": [
      "[0]\tvalidation_0-rmse:1.16199\tvalidation_1-rmse:1.10591\n"
     ]
    },
    {
     "name": "stderr",
     "output_type": "stream",
     "text": [
      "D:\\Anaconda\\lib\\site-packages\\xgboost\\data.py:112: UserWarning: Use subset (sliced data) of np.ndarray is not recommended because it will generate extra copies and increase memory consumption\n",
      "  warnings.warn(\n"
     ]
    },
    {
     "name": "stdout",
     "output_type": "stream",
     "text": [
      "[0]\tvalidation_0-rmse:1.15980\tvalidation_1-rmse:1.10596\n"
     ]
    },
    {
     "name": "stderr",
     "output_type": "stream",
     "text": [
      "D:\\Anaconda\\lib\\site-packages\\xgboost\\data.py:112: UserWarning: Use subset (sliced data) of np.ndarray is not recommended because it will generate extra copies and increase memory consumption\n",
      "  warnings.warn(\n"
     ]
    },
    {
     "name": "stdout",
     "output_type": "stream",
     "text": [
      "[0]\tvalidation_0-rmse:1.16146\tvalidation_1-rmse:1.10607\n"
     ]
    },
    {
     "name": "stderr",
     "output_type": "stream",
     "text": [
      "D:\\Anaconda\\lib\\site-packages\\xgboost\\data.py:112: UserWarning: Use subset (sliced data) of np.ndarray is not recommended because it will generate extra copies and increase memory consumption\n",
      "  warnings.warn(\n"
     ]
    },
    {
     "name": "stdout",
     "output_type": "stream",
     "text": [
      "[0]\tvalidation_0-rmse:1.16059\tvalidation_1-rmse:1.10665\n",
      "[1]\tvalidation_0-rmse:1.12824\tvalidation_1-rmse:1.08083\n",
      "[2]\tvalidation_0-rmse:1.10247\tvalidation_1-rmse:1.06307\n",
      "[3]\tvalidation_0-rmse:1.06925\tvalidation_1-rmse:1.04014\n",
      "[4]\tvalidation_0-rmse:1.04253\tvalidation_1-rmse:1.02723\n",
      "[5]\tvalidation_0-rmse:1.03156\tvalidation_1-rmse:1.02095\n",
      "[6]\tvalidation_0-rmse:1.02500\tvalidation_1-rmse:1.01526\n",
      "[7]\tvalidation_0-rmse:1.01077\tvalidation_1-rmse:1.00604\n",
      "[8]\tvalidation_0-rmse:1.00329\tvalidation_1-rmse:1.00146\n",
      "[9]\tvalidation_0-rmse:0.99814\tvalidation_1-rmse:0.99842\n"
     ]
    },
    {
     "name": "stderr",
     "output_type": "stream",
     "text": [
      "D:\\Anaconda\\lib\\site-packages\\xgboost\\data.py:112: UserWarning: Use subset (sliced data) of np.ndarray is not recommended because it will generate extra copies and increase memory consumption\n",
      "  warnings.warn(\n"
     ]
    },
    {
     "name": "stdout",
     "output_type": "stream",
     "text": [
      "[0]\tvalidation_0-rmse:1.16075\tvalidation_1-rmse:1.10584\n",
      "[1]\tvalidation_0-rmse:1.12642\tvalidation_1-rmse:1.07954\n",
      "[2]\tvalidation_0-rmse:1.10326\tvalidation_1-rmse:1.06287\n",
      "[3]\tvalidation_0-rmse:1.06533\tvalidation_1-rmse:1.03862\n",
      "[4]\tvalidation_0-rmse:1.04473\tvalidation_1-rmse:1.02561\n",
      "[5]\tvalidation_0-rmse:1.03338\tvalidation_1-rmse:1.01999\n",
      "[6]\tvalidation_0-rmse:1.02548\tvalidation_1-rmse:1.01449\n",
      "[7]\tvalidation_0-rmse:1.01086\tvalidation_1-rmse:1.00552\n",
      "[8]\tvalidation_0-rmse:1.00312\tvalidation_1-rmse:1.00112\n",
      "[9]\tvalidation_0-rmse:0.99997\tvalidation_1-rmse:0.99831\n"
     ]
    },
    {
     "name": "stderr",
     "output_type": "stream",
     "text": [
      "D:\\Anaconda\\lib\\site-packages\\xgboost\\data.py:112: UserWarning: Use subset (sliced data) of np.ndarray is not recommended because it will generate extra copies and increase memory consumption\n",
      "  warnings.warn(\n"
     ]
    },
    {
     "name": "stdout",
     "output_type": "stream",
     "text": [
      "[0]\tvalidation_0-rmse:1.16199\tvalidation_1-rmse:1.10591\n",
      "[1]\tvalidation_0-rmse:1.12864\tvalidation_1-rmse:1.07970\n",
      "[2]\tvalidation_0-rmse:1.10602\tvalidation_1-rmse:1.06322\n",
      "[3]\tvalidation_0-rmse:1.06897\tvalidation_1-rmse:1.03923\n",
      "[4]\tvalidation_0-rmse:1.04792\tvalidation_1-rmse:1.02627\n",
      "[5]\tvalidation_0-rmse:1.03661\tvalidation_1-rmse:1.02031\n",
      "[6]\tvalidation_0-rmse:1.02774\tvalidation_1-rmse:1.01468\n",
      "[7]\tvalidation_0-rmse:1.01236\tvalidation_1-rmse:1.00558\n",
      "[8]\tvalidation_0-rmse:1.00407\tvalidation_1-rmse:1.00116\n",
      "[9]\tvalidation_0-rmse:1.00182\tvalidation_1-rmse:0.99822\n"
     ]
    },
    {
     "name": "stderr",
     "output_type": "stream",
     "text": [
      "D:\\Anaconda\\lib\\site-packages\\xgboost\\data.py:112: UserWarning: Use subset (sliced data) of np.ndarray is not recommended because it will generate extra copies and increase memory consumption\n",
      "  warnings.warn(\n"
     ]
    },
    {
     "name": "stdout",
     "output_type": "stream",
     "text": [
      "[0]\tvalidation_0-rmse:1.15980\tvalidation_1-rmse:1.10596\n",
      "[1]\tvalidation_0-rmse:1.12567\tvalidation_1-rmse:1.07977\n",
      "[2]\tvalidation_0-rmse:1.10100\tvalidation_1-rmse:1.06280\n",
      "[3]\tvalidation_0-rmse:1.06463\tvalidation_1-rmse:1.03952\n",
      "[4]\tvalidation_0-rmse:1.04402\tvalidation_1-rmse:1.02639\n",
      "[5]\tvalidation_0-rmse:1.03257\tvalidation_1-rmse:1.02046\n",
      "[6]\tvalidation_0-rmse:1.02625\tvalidation_1-rmse:1.01465\n",
      "[7]\tvalidation_0-rmse:1.01206\tvalidation_1-rmse:1.00540\n",
      "[8]\tvalidation_0-rmse:1.00155\tvalidation_1-rmse:1.00099\n",
      "[9]\tvalidation_0-rmse:0.99860\tvalidation_1-rmse:0.99792\n"
     ]
    },
    {
     "name": "stderr",
     "output_type": "stream",
     "text": [
      "D:\\Anaconda\\lib\\site-packages\\xgboost\\data.py:112: UserWarning: Use subset (sliced data) of np.ndarray is not recommended because it will generate extra copies and increase memory consumption\n",
      "  warnings.warn(\n"
     ]
    },
    {
     "name": "stdout",
     "output_type": "stream",
     "text": [
      "[0]\tvalidation_0-rmse:1.16146\tvalidation_1-rmse:1.10607\n",
      "[1]\tvalidation_0-rmse:1.12814\tvalidation_1-rmse:1.07986\n",
      "[2]\tvalidation_0-rmse:1.10435\tvalidation_1-rmse:1.06304\n",
      "[3]\tvalidation_0-rmse:1.06626\tvalidation_1-rmse:1.03902\n",
      "[4]\tvalidation_0-rmse:1.04584\tvalidation_1-rmse:1.02619\n",
      "[5]\tvalidation_0-rmse:1.03511\tvalidation_1-rmse:1.02043\n",
      "[6]\tvalidation_0-rmse:1.02863\tvalidation_1-rmse:1.01481\n",
      "[7]\tvalidation_0-rmse:1.01313\tvalidation_1-rmse:1.00679\n",
      "[8]\tvalidation_0-rmse:1.00563\tvalidation_1-rmse:1.00291\n",
      "[9]\tvalidation_0-rmse:1.00024\tvalidation_1-rmse:0.99882\n"
     ]
    },
    {
     "name": "stderr",
     "output_type": "stream",
     "text": [
      "D:\\Anaconda\\lib\\site-packages\\xgboost\\data.py:112: UserWarning: Use subset (sliced data) of np.ndarray is not recommended because it will generate extra copies and increase memory consumption\n",
      "  warnings.warn(\n"
     ]
    },
    {
     "name": "stdout",
     "output_type": "stream",
     "text": [
      "[0]\tvalidation_0-rmse:1.16059\tvalidation_1-rmse:1.10665\n",
      "[1]\tvalidation_0-rmse:1.12824\tvalidation_1-rmse:1.08083\n",
      "[2]\tvalidation_0-rmse:1.10247\tvalidation_1-rmse:1.06307\n",
      "[3]\tvalidation_0-rmse:1.06925\tvalidation_1-rmse:1.04014\n",
      "[4]\tvalidation_0-rmse:1.04253\tvalidation_1-rmse:1.02723\n",
      "[5]\tvalidation_0-rmse:1.03156\tvalidation_1-rmse:1.02095\n",
      "[6]\tvalidation_0-rmse:1.02500\tvalidation_1-rmse:1.01526\n",
      "[7]\tvalidation_0-rmse:1.01077\tvalidation_1-rmse:1.00604\n",
      "[8]\tvalidation_0-rmse:1.00329\tvalidation_1-rmse:1.00146\n",
      "[9]\tvalidation_0-rmse:0.99814\tvalidation_1-rmse:0.99842\n",
      "[10]\tvalidation_0-rmse:0.99531\tvalidation_1-rmse:0.99674\n",
      "[11]\tvalidation_0-rmse:0.99130\tvalidation_1-rmse:0.99526\n",
      "[12]\tvalidation_0-rmse:0.98342\tvalidation_1-rmse:0.99195\n",
      "[13]\tvalidation_0-rmse:0.98083\tvalidation_1-rmse:0.98992\n",
      "[14]\tvalidation_0-rmse:0.97808\tvalidation_1-rmse:0.98915\n",
      "[15]\tvalidation_0-rmse:0.97634\tvalidation_1-rmse:0.98742\n",
      "[16]\tvalidation_0-rmse:0.97393\tvalidation_1-rmse:0.98601\n",
      "[17]\tvalidation_0-rmse:0.97274\tvalidation_1-rmse:0.98537\n",
      "[18]\tvalidation_0-rmse:0.96899\tvalidation_1-rmse:0.98374\n",
      "[19]\tvalidation_0-rmse:0.96742\tvalidation_1-rmse:0.98201\n",
      "[20]\tvalidation_0-rmse:0.96678\tvalidation_1-rmse:0.98102\n",
      "[21]\tvalidation_0-rmse:0.96561\tvalidation_1-rmse:0.97976\n",
      "[22]\tvalidation_0-rmse:0.96484\tvalidation_1-rmse:0.97887\n",
      "[23]\tvalidation_0-rmse:0.96401\tvalidation_1-rmse:0.97866\n",
      "[24]\tvalidation_0-rmse:0.96305\tvalidation_1-rmse:0.97879\n",
      "[25]\tvalidation_0-rmse:0.96265\tvalidation_1-rmse:0.97859\n",
      "[26]\tvalidation_0-rmse:0.96145\tvalidation_1-rmse:0.97911\n",
      "[27]\tvalidation_0-rmse:0.96085\tvalidation_1-rmse:0.97838\n",
      "[28]\tvalidation_0-rmse:0.96043\tvalidation_1-rmse:0.97741\n",
      "[29]\tvalidation_0-rmse:0.96014\tvalidation_1-rmse:0.97728\n",
      "[30]\tvalidation_0-rmse:0.95969\tvalidation_1-rmse:0.97664\n",
      "[31]\tvalidation_0-rmse:0.95945\tvalidation_1-rmse:0.97723\n",
      "[32]\tvalidation_0-rmse:0.95906\tvalidation_1-rmse:0.97672\n",
      "[33]\tvalidation_0-rmse:0.95870\tvalidation_1-rmse:0.97615\n",
      "[34]\tvalidation_0-rmse:0.95836\tvalidation_1-rmse:0.97583\n",
      "[35]\tvalidation_0-rmse:0.95810\tvalidation_1-rmse:0.97628\n",
      "[36]\tvalidation_0-rmse:0.95813\tvalidation_1-rmse:0.97612\n",
      "[37]\tvalidation_0-rmse:0.95791\tvalidation_1-rmse:0.97643\n",
      "[38]\tvalidation_0-rmse:0.95754\tvalidation_1-rmse:0.97611\n",
      "[39]\tvalidation_0-rmse:0.95745\tvalidation_1-rmse:0.97593\n"
     ]
    },
    {
     "name": "stderr",
     "output_type": "stream",
     "text": [
      "D:\\Anaconda\\lib\\site-packages\\xgboost\\data.py:112: UserWarning: Use subset (sliced data) of np.ndarray is not recommended because it will generate extra copies and increase memory consumption\n",
      "  warnings.warn(\n"
     ]
    },
    {
     "name": "stdout",
     "output_type": "stream",
     "text": [
      "[0]\tvalidation_0-rmse:1.16075\tvalidation_1-rmse:1.10584\n",
      "[1]\tvalidation_0-rmse:1.12642\tvalidation_1-rmse:1.07954\n",
      "[2]\tvalidation_0-rmse:1.10326\tvalidation_1-rmse:1.06287\n",
      "[3]\tvalidation_0-rmse:1.06533\tvalidation_1-rmse:1.03862\n",
      "[4]\tvalidation_0-rmse:1.04473\tvalidation_1-rmse:1.02561\n",
      "[5]\tvalidation_0-rmse:1.03338\tvalidation_1-rmse:1.01999\n",
      "[6]\tvalidation_0-rmse:1.02548\tvalidation_1-rmse:1.01449\n",
      "[7]\tvalidation_0-rmse:1.01086\tvalidation_1-rmse:1.00552\n",
      "[8]\tvalidation_0-rmse:1.00312\tvalidation_1-rmse:1.00112\n",
      "[9]\tvalidation_0-rmse:0.99997\tvalidation_1-rmse:0.99831\n",
      "[10]\tvalidation_0-rmse:0.99236\tvalidation_1-rmse:0.99677\n",
      "[11]\tvalidation_0-rmse:0.98745\tvalidation_1-rmse:0.99462\n",
      "[12]\tvalidation_0-rmse:0.98432\tvalidation_1-rmse:0.99301\n",
      "[13]\tvalidation_0-rmse:0.98227\tvalidation_1-rmse:0.99188\n",
      "[14]\tvalidation_0-rmse:0.97848\tvalidation_1-rmse:0.98850\n",
      "[15]\tvalidation_0-rmse:0.97624\tvalidation_1-rmse:0.98805\n",
      "[16]\tvalidation_0-rmse:0.97198\tvalidation_1-rmse:0.98701\n",
      "[17]\tvalidation_0-rmse:0.97126\tvalidation_1-rmse:0.98564\n",
      "[18]\tvalidation_0-rmse:0.96977\tvalidation_1-rmse:0.98410\n",
      "[19]\tvalidation_0-rmse:0.96813\tvalidation_1-rmse:0.98250\n",
      "[20]\tvalidation_0-rmse:0.96666\tvalidation_1-rmse:0.98188\n",
      "[21]\tvalidation_0-rmse:0.96561\tvalidation_1-rmse:0.98059\n",
      "[22]\tvalidation_0-rmse:0.96469\tvalidation_1-rmse:0.97961\n",
      "[23]\tvalidation_0-rmse:0.96411\tvalidation_1-rmse:0.97874\n",
      "[24]\tvalidation_0-rmse:0.96365\tvalidation_1-rmse:0.97802\n",
      "[25]\tvalidation_0-rmse:0.96191\tvalidation_1-rmse:0.97746\n",
      "[26]\tvalidation_0-rmse:0.96087\tvalidation_1-rmse:0.97750\n",
      "[27]\tvalidation_0-rmse:0.96031\tvalidation_1-rmse:0.97783\n",
      "[28]\tvalidation_0-rmse:0.95987\tvalidation_1-rmse:0.97791\n",
      "[29]\tvalidation_0-rmse:0.95960\tvalidation_1-rmse:0.97789\n",
      "[30]\tvalidation_0-rmse:0.95922\tvalidation_1-rmse:0.97730\n",
      "[31]\tvalidation_0-rmse:0.95898\tvalidation_1-rmse:0.97749\n",
      "[32]\tvalidation_0-rmse:0.95870\tvalidation_1-rmse:0.97667\n",
      "[33]\tvalidation_0-rmse:0.95867\tvalidation_1-rmse:0.97636\n",
      "[34]\tvalidation_0-rmse:0.95844\tvalidation_1-rmse:0.97587\n",
      "[35]\tvalidation_0-rmse:0.95825\tvalidation_1-rmse:0.97605\n",
      "[36]\tvalidation_0-rmse:0.95786\tvalidation_1-rmse:0.97585\n",
      "[37]\tvalidation_0-rmse:0.95766\tvalidation_1-rmse:0.97505\n",
      "[38]\tvalidation_0-rmse:0.95738\tvalidation_1-rmse:0.97482\n",
      "[39]\tvalidation_0-rmse:0.95727\tvalidation_1-rmse:0.97462\n",
      "[40]\tvalidation_0-rmse:0.95709\tvalidation_1-rmse:0.97438\n",
      "[41]\tvalidation_0-rmse:0.95680\tvalidation_1-rmse:0.97410\n",
      "[42]\tvalidation_0-rmse:0.95646\tvalidation_1-rmse:0.97402\n",
      "[43]\tvalidation_0-rmse:0.95623\tvalidation_1-rmse:0.97375\n",
      "[44]\tvalidation_0-rmse:0.95610\tvalidation_1-rmse:0.97345\n",
      "[45]\tvalidation_0-rmse:0.95601\tvalidation_1-rmse:0.97312\n",
      "[46]\tvalidation_0-rmse:0.95581\tvalidation_1-rmse:0.97296\n",
      "[47]\tvalidation_0-rmse:0.95564\tvalidation_1-rmse:0.97297\n",
      "[48]\tvalidation_0-rmse:0.95552\tvalidation_1-rmse:0.97288\n",
      "[49]\tvalidation_0-rmse:0.95559\tvalidation_1-rmse:0.97282\n",
      "[50]\tvalidation_0-rmse:0.95550\tvalidation_1-rmse:0.97274\n",
      "[51]\tvalidation_0-rmse:0.95531\tvalidation_1-rmse:0.97257\n",
      "[52]\tvalidation_0-rmse:0.95520\tvalidation_1-rmse:0.97238\n",
      "[53]\tvalidation_0-rmse:0.95509\tvalidation_1-rmse:0.97187\n",
      "[54]\tvalidation_0-rmse:0.95485\tvalidation_1-rmse:0.97219\n",
      "[55]\tvalidation_0-rmse:0.95473\tvalidation_1-rmse:0.97202\n",
      "[56]\tvalidation_0-rmse:0.95460\tvalidation_1-rmse:0.97187\n",
      "[57]\tvalidation_0-rmse:0.95458\tvalidation_1-rmse:0.97173\n",
      "[58]\tvalidation_0-rmse:0.95450\tvalidation_1-rmse:0.97157\n",
      "[59]\tvalidation_0-rmse:0.95439\tvalidation_1-rmse:0.97121\n",
      "[60]\tvalidation_0-rmse:0.95428\tvalidation_1-rmse:0.97101\n",
      "[61]\tvalidation_0-rmse:0.95417\tvalidation_1-rmse:0.97081\n",
      "[62]\tvalidation_0-rmse:0.95409\tvalidation_1-rmse:0.97103\n",
      "[63]\tvalidation_0-rmse:0.95399\tvalidation_1-rmse:0.97070\n",
      "[64]\tvalidation_0-rmse:0.95390\tvalidation_1-rmse:0.97093\n",
      "[65]\tvalidation_0-rmse:0.95401\tvalidation_1-rmse:0.97116\n",
      "[66]\tvalidation_0-rmse:0.95365\tvalidation_1-rmse:0.97110\n",
      "[67]\tvalidation_0-rmse:0.95389\tvalidation_1-rmse:0.97109\n",
      "[68]\tvalidation_0-rmse:0.95383\tvalidation_1-rmse:0.97095\n"
     ]
    },
    {
     "name": "stderr",
     "output_type": "stream",
     "text": [
      "D:\\Anaconda\\lib\\site-packages\\xgboost\\data.py:112: UserWarning: Use subset (sliced data) of np.ndarray is not recommended because it will generate extra copies and increase memory consumption\n",
      "  warnings.warn(\n"
     ]
    },
    {
     "name": "stdout",
     "output_type": "stream",
     "text": [
      "[0]\tvalidation_0-rmse:1.16199\tvalidation_1-rmse:1.10591\n",
      "[1]\tvalidation_0-rmse:1.12864\tvalidation_1-rmse:1.07970\n",
      "[2]\tvalidation_0-rmse:1.10602\tvalidation_1-rmse:1.06322\n",
      "[3]\tvalidation_0-rmse:1.06897\tvalidation_1-rmse:1.03923\n",
      "[4]\tvalidation_0-rmse:1.04792\tvalidation_1-rmse:1.02627\n",
      "[5]\tvalidation_0-rmse:1.03661\tvalidation_1-rmse:1.02031\n",
      "[6]\tvalidation_0-rmse:1.02774\tvalidation_1-rmse:1.01468\n",
      "[7]\tvalidation_0-rmse:1.01236\tvalidation_1-rmse:1.00558\n",
      "[8]\tvalidation_0-rmse:1.00407\tvalidation_1-rmse:1.00116\n",
      "[9]\tvalidation_0-rmse:1.00182\tvalidation_1-rmse:0.99822\n",
      "[10]\tvalidation_0-rmse:0.99387\tvalidation_1-rmse:0.99651\n",
      "[11]\tvalidation_0-rmse:0.98902\tvalidation_1-rmse:0.99449\n",
      "[12]\tvalidation_0-rmse:0.98457\tvalidation_1-rmse:0.99261\n",
      "[13]\tvalidation_0-rmse:0.98342\tvalidation_1-rmse:0.99125\n",
      "[14]\tvalidation_0-rmse:0.97940\tvalidation_1-rmse:0.98796\n",
      "[15]\tvalidation_0-rmse:0.97729\tvalidation_1-rmse:0.98768\n",
      "[16]\tvalidation_0-rmse:0.97361\tvalidation_1-rmse:0.98652\n",
      "[17]\tvalidation_0-rmse:0.97221\tvalidation_1-rmse:0.98501\n",
      "[18]\tvalidation_0-rmse:0.97072\tvalidation_1-rmse:0.98347\n",
      "[19]\tvalidation_0-rmse:0.96901\tvalidation_1-rmse:0.98174\n",
      "[20]\tvalidation_0-rmse:0.96763\tvalidation_1-rmse:0.98098\n",
      "[21]\tvalidation_0-rmse:0.96686\tvalidation_1-rmse:0.97999\n",
      "[22]\tvalidation_0-rmse:0.96529\tvalidation_1-rmse:0.97879\n",
      "[23]\tvalidation_0-rmse:0.96407\tvalidation_1-rmse:0.97800\n",
      "[24]\tvalidation_0-rmse:0.96335\tvalidation_1-rmse:0.97818\n",
      "[25]\tvalidation_0-rmse:0.96267\tvalidation_1-rmse:0.97745\n",
      "[26]\tvalidation_0-rmse:0.96100\tvalidation_1-rmse:0.97722\n",
      "[27]\tvalidation_0-rmse:0.96067\tvalidation_1-rmse:0.97701\n",
      "[28]\tvalidation_0-rmse:0.96063\tvalidation_1-rmse:0.97659\n",
      "[29]\tvalidation_0-rmse:0.96029\tvalidation_1-rmse:0.97671\n",
      "[30]\tvalidation_0-rmse:0.95994\tvalidation_1-rmse:0.97607\n",
      "[31]\tvalidation_0-rmse:0.95965\tvalidation_1-rmse:0.97569\n",
      "[32]\tvalidation_0-rmse:0.95928\tvalidation_1-rmse:0.97479\n",
      "[33]\tvalidation_0-rmse:0.95898\tvalidation_1-rmse:0.97445\n",
      "[34]\tvalidation_0-rmse:0.95874\tvalidation_1-rmse:0.97396\n",
      "[35]\tvalidation_0-rmse:0.95820\tvalidation_1-rmse:0.97405\n",
      "[36]\tvalidation_0-rmse:0.95794\tvalidation_1-rmse:0.97321\n",
      "[37]\tvalidation_0-rmse:0.95727\tvalidation_1-rmse:0.97307\n",
      "[38]\tvalidation_0-rmse:0.95716\tvalidation_1-rmse:0.97272\n",
      "[39]\tvalidation_0-rmse:0.95697\tvalidation_1-rmse:0.97250\n",
      "[40]\tvalidation_0-rmse:0.95676\tvalidation_1-rmse:0.97225\n",
      "[41]\tvalidation_0-rmse:0.95650\tvalidation_1-rmse:0.97227\n",
      "[42]\tvalidation_0-rmse:0.95648\tvalidation_1-rmse:0.97215\n",
      "[43]\tvalidation_0-rmse:0.95627\tvalidation_1-rmse:0.97220\n",
      "[44]\tvalidation_0-rmse:0.95619\tvalidation_1-rmse:0.97204\n",
      "[45]\tvalidation_0-rmse:0.95607\tvalidation_1-rmse:0.97161\n",
      "[46]\tvalidation_0-rmse:0.95591\tvalidation_1-rmse:0.97139\n",
      "[47]\tvalidation_0-rmse:0.95575\tvalidation_1-rmse:0.97160\n",
      "[48]\tvalidation_0-rmse:0.95563\tvalidation_1-rmse:0.97130\n",
      "[49]\tvalidation_0-rmse:0.95546\tvalidation_1-rmse:0.97126\n",
      "[50]\tvalidation_0-rmse:0.95551\tvalidation_1-rmse:0.97107\n",
      "[51]\tvalidation_0-rmse:0.95539\tvalidation_1-rmse:0.97087\n",
      "[52]\tvalidation_0-rmse:0.95511\tvalidation_1-rmse:0.97088\n",
      "[53]\tvalidation_0-rmse:0.95505\tvalidation_1-rmse:0.97061\n",
      "[54]\tvalidation_0-rmse:0.95491\tvalidation_1-rmse:0.97048\n",
      "[55]\tvalidation_0-rmse:0.95483\tvalidation_1-rmse:0.97025\n",
      "[56]\tvalidation_0-rmse:0.95474\tvalidation_1-rmse:0.97020\n",
      "[57]\tvalidation_0-rmse:0.95467\tvalidation_1-rmse:0.97008\n",
      "[58]\tvalidation_0-rmse:0.95451\tvalidation_1-rmse:0.97010\n",
      "[59]\tvalidation_0-rmse:0.95451\tvalidation_1-rmse:0.97001\n",
      "[60]\tvalidation_0-rmse:0.95445\tvalidation_1-rmse:0.96986\n",
      "[61]\tvalidation_0-rmse:0.95444\tvalidation_1-rmse:0.96948\n",
      "[62]\tvalidation_0-rmse:0.95427\tvalidation_1-rmse:0.96968\n",
      "[63]\tvalidation_0-rmse:0.95428\tvalidation_1-rmse:0.96940\n",
      "[64]\tvalidation_0-rmse:0.95405\tvalidation_1-rmse:0.96935\n",
      "[65]\tvalidation_0-rmse:0.95395\tvalidation_1-rmse:0.96934\n",
      "[66]\tvalidation_0-rmse:0.95392\tvalidation_1-rmse:0.96927\n",
      "[67]\tvalidation_0-rmse:0.95385\tvalidation_1-rmse:0.96947\n",
      "[68]\tvalidation_0-rmse:0.95378\tvalidation_1-rmse:0.96930\n",
      "[69]\tvalidation_0-rmse:0.95370\tvalidation_1-rmse:0.96913\n",
      "[70]\tvalidation_0-rmse:0.95367\tvalidation_1-rmse:0.96886\n",
      "[71]\tvalidation_0-rmse:0.95359\tvalidation_1-rmse:0.96881\n",
      "[72]\tvalidation_0-rmse:0.95354\tvalidation_1-rmse:0.96881\n",
      "[73]\tvalidation_0-rmse:0.95341\tvalidation_1-rmse:0.96879\n",
      "[74]\tvalidation_0-rmse:0.95342\tvalidation_1-rmse:0.96868\n",
      "[75]\tvalidation_0-rmse:0.95321\tvalidation_1-rmse:0.96883\n",
      "[76]\tvalidation_0-rmse:0.95316\tvalidation_1-rmse:0.96850\n",
      "[77]\tvalidation_0-rmse:0.95309\tvalidation_1-rmse:0.96841\n",
      "[78]\tvalidation_0-rmse:0.95303\tvalidation_1-rmse:0.96859\n",
      "[79]\tvalidation_0-rmse:0.95298\tvalidation_1-rmse:0.96835\n",
      "[80]\tvalidation_0-rmse:0.95296\tvalidation_1-rmse:0.96832\n",
      "[81]\tvalidation_0-rmse:0.95288\tvalidation_1-rmse:0.96851\n",
      "[82]\tvalidation_0-rmse:0.95281\tvalidation_1-rmse:0.96839\n",
      "[83]\tvalidation_0-rmse:0.95275\tvalidation_1-rmse:0.96832\n",
      "[84]\tvalidation_0-rmse:0.95270\tvalidation_1-rmse:0.96823\n",
      "[85]\tvalidation_0-rmse:0.95256\tvalidation_1-rmse:0.96840\n",
      "[86]\tvalidation_0-rmse:0.95256\tvalidation_1-rmse:0.96828\n",
      "[87]\tvalidation_0-rmse:0.95250\tvalidation_1-rmse:0.96816\n",
      "[88]\tvalidation_0-rmse:0.95248\tvalidation_1-rmse:0.96818\n",
      "[89]\tvalidation_0-rmse:0.95247\tvalidation_1-rmse:0.96811\n",
      "[90]\tvalidation_0-rmse:0.95241\tvalidation_1-rmse:0.96809\n",
      "[91]\tvalidation_0-rmse:0.95235\tvalidation_1-rmse:0.96803\n",
      "[92]\tvalidation_0-rmse:0.95231\tvalidation_1-rmse:0.96793\n",
      "[93]\tvalidation_0-rmse:0.95231\tvalidation_1-rmse:0.96769\n",
      "[94]\tvalidation_0-rmse:0.95220\tvalidation_1-rmse:0.96787\n",
      "[95]\tvalidation_0-rmse:0.95221\tvalidation_1-rmse:0.96766\n",
      "[96]\tvalidation_0-rmse:0.95213\tvalidation_1-rmse:0.96782\n",
      "[97]\tvalidation_0-rmse:0.95208\tvalidation_1-rmse:0.96773\n",
      "[98]\tvalidation_0-rmse:0.95206\tvalidation_1-rmse:0.96767\n",
      "[99]\tvalidation_0-rmse:0.95202\tvalidation_1-rmse:0.96767\n"
     ]
    },
    {
     "name": "stderr",
     "output_type": "stream",
     "text": [
      "D:\\Anaconda\\lib\\site-packages\\xgboost\\data.py:112: UserWarning: Use subset (sliced data) of np.ndarray is not recommended because it will generate extra copies and increase memory consumption\n",
      "  warnings.warn(\n"
     ]
    },
    {
     "name": "stdout",
     "output_type": "stream",
     "text": [
      "[0]\tvalidation_0-rmse:1.15980\tvalidation_1-rmse:1.10596\n",
      "[1]\tvalidation_0-rmse:1.12567\tvalidation_1-rmse:1.07977\n",
      "[2]\tvalidation_0-rmse:1.10100\tvalidation_1-rmse:1.06280\n",
      "[3]\tvalidation_0-rmse:1.06463\tvalidation_1-rmse:1.03952\n",
      "[4]\tvalidation_0-rmse:1.04402\tvalidation_1-rmse:1.02639\n",
      "[5]\tvalidation_0-rmse:1.03257\tvalidation_1-rmse:1.02046\n",
      "[6]\tvalidation_0-rmse:1.02625\tvalidation_1-rmse:1.01465\n",
      "[7]\tvalidation_0-rmse:1.01206\tvalidation_1-rmse:1.00540\n",
      "[8]\tvalidation_0-rmse:1.00155\tvalidation_1-rmse:1.00099\n",
      "[9]\tvalidation_0-rmse:0.99860\tvalidation_1-rmse:0.99792\n",
      "[10]\tvalidation_0-rmse:0.99616\tvalidation_1-rmse:0.99623\n",
      "[11]\tvalidation_0-rmse:0.99228\tvalidation_1-rmse:0.99466\n",
      "[12]\tvalidation_0-rmse:0.98373\tvalidation_1-rmse:0.99141\n",
      "[13]\tvalidation_0-rmse:0.98038\tvalidation_1-rmse:0.98926\n",
      "[14]\tvalidation_0-rmse:0.97763\tvalidation_1-rmse:0.98854\n",
      "[15]\tvalidation_0-rmse:0.97629\tvalidation_1-rmse:0.98695\n",
      "[16]\tvalidation_0-rmse:0.97416\tvalidation_1-rmse:0.98554\n",
      "[17]\tvalidation_0-rmse:0.97089\tvalidation_1-rmse:0.98498\n",
      "[18]\tvalidation_0-rmse:0.96947\tvalidation_1-rmse:0.98323\n",
      "[19]\tvalidation_0-rmse:0.96784\tvalidation_1-rmse:0.98146\n",
      "[20]\tvalidation_0-rmse:0.96663\tvalidation_1-rmse:0.98036\n",
      "[21]\tvalidation_0-rmse:0.96554\tvalidation_1-rmse:0.97906\n",
      "[22]\tvalidation_0-rmse:0.96483\tvalidation_1-rmse:0.97808\n",
      "[23]\tvalidation_0-rmse:0.96408\tvalidation_1-rmse:0.97788\n",
      "[24]\tvalidation_0-rmse:0.96317\tvalidation_1-rmse:0.97805\n",
      "[25]\tvalidation_0-rmse:0.96161\tvalidation_1-rmse:0.97784\n",
      "[26]\tvalidation_0-rmse:0.96104\tvalidation_1-rmse:0.97705\n",
      "[27]\tvalidation_0-rmse:0.96060\tvalidation_1-rmse:0.97636\n",
      "[28]\tvalidation_0-rmse:0.96027\tvalidation_1-rmse:0.97676\n",
      "[29]\tvalidation_0-rmse:0.95973\tvalidation_1-rmse:0.97667\n",
      "[30]\tvalidation_0-rmse:0.95939\tvalidation_1-rmse:0.97615\n",
      "[31]\tvalidation_0-rmse:0.95909\tvalidation_1-rmse:0.97645\n",
      "[32]\tvalidation_0-rmse:0.95878\tvalidation_1-rmse:0.97549\n",
      "[33]\tvalidation_0-rmse:0.95844\tvalidation_1-rmse:0.97500\n",
      "[34]\tvalidation_0-rmse:0.95779\tvalidation_1-rmse:0.97474\n",
      "[35]\tvalidation_0-rmse:0.95756\tvalidation_1-rmse:0.97389\n",
      "[36]\tvalidation_0-rmse:0.95738\tvalidation_1-rmse:0.97354\n",
      "[37]\tvalidation_0-rmse:0.95740\tvalidation_1-rmse:0.97403\n",
      "[38]\tvalidation_0-rmse:0.95723\tvalidation_1-rmse:0.97436\n",
      "[39]\tvalidation_0-rmse:0.95717\tvalidation_1-rmse:0.97412\n",
      "[40]\tvalidation_0-rmse:0.95688\tvalidation_1-rmse:0.97387\n",
      "[41]\tvalidation_0-rmse:0.95676\tvalidation_1-rmse:0.97382\n"
     ]
    },
    {
     "name": "stderr",
     "output_type": "stream",
     "text": [
      "D:\\Anaconda\\lib\\site-packages\\xgboost\\data.py:112: UserWarning: Use subset (sliced data) of np.ndarray is not recommended because it will generate extra copies and increase memory consumption\n",
      "  warnings.warn(\n"
     ]
    },
    {
     "name": "stdout",
     "output_type": "stream",
     "text": [
      "[0]\tvalidation_0-rmse:1.16146\tvalidation_1-rmse:1.10607\n",
      "[1]\tvalidation_0-rmse:1.12814\tvalidation_1-rmse:1.07986\n",
      "[2]\tvalidation_0-rmse:1.10435\tvalidation_1-rmse:1.06304\n",
      "[3]\tvalidation_0-rmse:1.06626\tvalidation_1-rmse:1.03902\n",
      "[4]\tvalidation_0-rmse:1.04584\tvalidation_1-rmse:1.02619\n",
      "[5]\tvalidation_0-rmse:1.03511\tvalidation_1-rmse:1.02043\n",
      "[6]\tvalidation_0-rmse:1.02863\tvalidation_1-rmse:1.01481\n",
      "[7]\tvalidation_0-rmse:1.01313\tvalidation_1-rmse:1.00679\n",
      "[8]\tvalidation_0-rmse:1.00563\tvalidation_1-rmse:1.00291\n",
      "[9]\tvalidation_0-rmse:1.00024\tvalidation_1-rmse:0.99882\n",
      "[10]\tvalidation_0-rmse:0.99268\tvalidation_1-rmse:0.99698\n",
      "[11]\tvalidation_0-rmse:0.98835\tvalidation_1-rmse:0.99507\n",
      "[12]\tvalidation_0-rmse:0.98478\tvalidation_1-rmse:0.99319\n",
      "[13]\tvalidation_0-rmse:0.98243\tvalidation_1-rmse:0.99172\n",
      "[14]\tvalidation_0-rmse:0.97861\tvalidation_1-rmse:0.98841\n",
      "[15]\tvalidation_0-rmse:0.97707\tvalidation_1-rmse:0.98671\n",
      "[16]\tvalidation_0-rmse:0.97302\tvalidation_1-rmse:0.98511\n",
      "[17]\tvalidation_0-rmse:0.97200\tvalidation_1-rmse:0.98486\n",
      "[18]\tvalidation_0-rmse:0.97034\tvalidation_1-rmse:0.98309\n",
      "[19]\tvalidation_0-rmse:0.96825\tvalidation_1-rmse:0.98117\n",
      "[20]\tvalidation_0-rmse:0.96705\tvalidation_1-rmse:0.98026\n",
      "[21]\tvalidation_0-rmse:0.96590\tvalidation_1-rmse:0.97892\n",
      "[22]\tvalidation_0-rmse:0.96540\tvalidation_1-rmse:0.97798\n",
      "[23]\tvalidation_0-rmse:0.96386\tvalidation_1-rmse:0.97790\n",
      "[24]\tvalidation_0-rmse:0.96315\tvalidation_1-rmse:0.97803\n",
      "[25]\tvalidation_0-rmse:0.96267\tvalidation_1-rmse:0.97748\n",
      "[26]\tvalidation_0-rmse:0.96102\tvalidation_1-rmse:0.97676\n",
      "[27]\tvalidation_0-rmse:0.96054\tvalidation_1-rmse:0.97612\n",
      "[28]\tvalidation_0-rmse:0.95979\tvalidation_1-rmse:0.97646\n",
      "[29]\tvalidation_0-rmse:0.95974\tvalidation_1-rmse:0.97600\n",
      "[30]\tvalidation_0-rmse:0.95924\tvalidation_1-rmse:0.97486\n",
      "[31]\tvalidation_0-rmse:0.95885\tvalidation_1-rmse:0.97521\n",
      "[32]\tvalidation_0-rmse:0.95835\tvalidation_1-rmse:0.97457\n",
      "[33]\tvalidation_0-rmse:0.95822\tvalidation_1-rmse:0.97433\n",
      "[34]\tvalidation_0-rmse:0.95786\tvalidation_1-rmse:0.97389\n",
      "[35]\tvalidation_0-rmse:0.95762\tvalidation_1-rmse:0.97329\n",
      "[36]\tvalidation_0-rmse:0.95733\tvalidation_1-rmse:0.97297\n",
      "[37]\tvalidation_0-rmse:0.95711\tvalidation_1-rmse:0.97324\n",
      "[38]\tvalidation_0-rmse:0.95699\tvalidation_1-rmse:0.97304\n",
      "[39]\tvalidation_0-rmse:0.95672\tvalidation_1-rmse:0.97277\n",
      "[40]\tvalidation_0-rmse:0.95669\tvalidation_1-rmse:0.97312\n",
      "[41]\tvalidation_0-rmse:0.95631\tvalidation_1-rmse:0.97311\n",
      "[42]\tvalidation_0-rmse:0.95636\tvalidation_1-rmse:0.97307\n",
      "[43]\tvalidation_0-rmse:0.95615\tvalidation_1-rmse:0.97306\n",
      "[44]\tvalidation_0-rmse:0.95599\tvalidation_1-rmse:0.97274\n",
      "[45]\tvalidation_0-rmse:0.95582\tvalidation_1-rmse:0.97205\n",
      "[46]\tvalidation_0-rmse:0.95587\tvalidation_1-rmse:0.97186\n",
      "[47]\tvalidation_0-rmse:0.95547\tvalidation_1-rmse:0.97204\n",
      "[48]\tvalidation_0-rmse:0.95536\tvalidation_1-rmse:0.97185\n",
      "[49]\tvalidation_0-rmse:0.95551\tvalidation_1-rmse:0.97147\n",
      "[50]\tvalidation_0-rmse:0.95514\tvalidation_1-rmse:0.97136\n",
      "[51]\tvalidation_0-rmse:0.95497\tvalidation_1-rmse:0.97117\n",
      "[52]\tvalidation_0-rmse:0.95505\tvalidation_1-rmse:0.97136\n",
      "[53]\tvalidation_0-rmse:0.95495\tvalidation_1-rmse:0.97105\n",
      "[54]\tvalidation_0-rmse:0.95476\tvalidation_1-rmse:0.97091\n",
      "[55]\tvalidation_0-rmse:0.95461\tvalidation_1-rmse:0.97070\n",
      "[56]\tvalidation_0-rmse:0.95452\tvalidation_1-rmse:0.97052\n",
      "[57]\tvalidation_0-rmse:0.95447\tvalidation_1-rmse:0.97047\n",
      "[58]\tvalidation_0-rmse:0.95429\tvalidation_1-rmse:0.97066\n",
      "[59]\tvalidation_0-rmse:0.95416\tvalidation_1-rmse:0.97065\n",
      "[60]\tvalidation_0-rmse:0.95441\tvalidation_1-rmse:0.97059\n",
      "[61]\tvalidation_0-rmse:0.95427\tvalidation_1-rmse:0.97032\n",
      "[62]\tvalidation_0-rmse:0.95426\tvalidation_1-rmse:0.96999\n",
      "[63]\tvalidation_0-rmse:0.95400\tvalidation_1-rmse:0.96998\n",
      "[64]\tvalidation_0-rmse:0.95391\tvalidation_1-rmse:0.96986\n",
      "[65]\tvalidation_0-rmse:0.95373\tvalidation_1-rmse:0.97012\n",
      "[66]\tvalidation_0-rmse:0.95367\tvalidation_1-rmse:0.97011\n",
      "[67]\tvalidation_0-rmse:0.95358\tvalidation_1-rmse:0.96988\n",
      "[68]\tvalidation_0-rmse:0.95355\tvalidation_1-rmse:0.96979\n",
      "[69]\tvalidation_0-rmse:0.95349\tvalidation_1-rmse:0.96997\n",
      "[70]\tvalidation_0-rmse:0.95341\tvalidation_1-rmse:0.97014\n",
      "[71]\tvalidation_0-rmse:0.95334\tvalidation_1-rmse:0.96984\n",
      "[72]\tvalidation_0-rmse:0.95329\tvalidation_1-rmse:0.96978\n",
      "[73]\tvalidation_0-rmse:0.95322\tvalidation_1-rmse:0.96995\n",
      "[74]\tvalidation_0-rmse:0.95313\tvalidation_1-rmse:0.96984\n",
      "[75]\tvalidation_0-rmse:0.95305\tvalidation_1-rmse:0.96968\n",
      "[76]\tvalidation_0-rmse:0.95300\tvalidation_1-rmse:0.96937\n",
      "[77]\tvalidation_0-rmse:0.95293\tvalidation_1-rmse:0.96938\n",
      "[78]\tvalidation_0-rmse:0.95296\tvalidation_1-rmse:0.96940\n",
      "[79]\tvalidation_0-rmse:0.95291\tvalidation_1-rmse:0.96916\n",
      "[80]\tvalidation_0-rmse:0.95287\tvalidation_1-rmse:0.96911\n",
      "[81]\tvalidation_0-rmse:0.95282\tvalidation_1-rmse:0.96904\n",
      "[82]\tvalidation_0-rmse:0.95276\tvalidation_1-rmse:0.96922\n",
      "[83]\tvalidation_0-rmse:0.95268\tvalidation_1-rmse:0.96940\n",
      "[84]\tvalidation_0-rmse:0.95264\tvalidation_1-rmse:0.96915\n",
      "[85]\tvalidation_0-rmse:0.95256\tvalidation_1-rmse:0.96940\n"
     ]
    },
    {
     "name": "stderr",
     "output_type": "stream",
     "text": [
      "D:\\Anaconda\\lib\\site-packages\\xgboost\\data.py:112: UserWarning: Use subset (sliced data) of np.ndarray is not recommended because it will generate extra copies and increase memory consumption\n",
      "  warnings.warn(\n"
     ]
    },
    {
     "name": "stdout",
     "output_type": "stream",
     "text": [
      "[0]\tvalidation_0-rmse:1.16059\tvalidation_1-rmse:1.10665\n"
     ]
    },
    {
     "name": "stderr",
     "output_type": "stream",
     "text": [
      "D:\\Anaconda\\lib\\site-packages\\xgboost\\data.py:112: UserWarning: Use subset (sliced data) of np.ndarray is not recommended because it will generate extra copies and increase memory consumption\n",
      "  warnings.warn(\n"
     ]
    },
    {
     "name": "stdout",
     "output_type": "stream",
     "text": [
      "[0]\tvalidation_0-rmse:1.16075\tvalidation_1-rmse:1.10584\n"
     ]
    },
    {
     "name": "stderr",
     "output_type": "stream",
     "text": [
      "D:\\Anaconda\\lib\\site-packages\\xgboost\\data.py:112: UserWarning: Use subset (sliced data) of np.ndarray is not recommended because it will generate extra copies and increase memory consumption\n",
      "  warnings.warn(\n"
     ]
    },
    {
     "name": "stdout",
     "output_type": "stream",
     "text": [
      "[0]\tvalidation_0-rmse:1.16199\tvalidation_1-rmse:1.10591\n"
     ]
    },
    {
     "name": "stderr",
     "output_type": "stream",
     "text": [
      "D:\\Anaconda\\lib\\site-packages\\xgboost\\data.py:112: UserWarning: Use subset (sliced data) of np.ndarray is not recommended because it will generate extra copies and increase memory consumption\n",
      "  warnings.warn(\n"
     ]
    },
    {
     "name": "stdout",
     "output_type": "stream",
     "text": [
      "[0]\tvalidation_0-rmse:1.15980\tvalidation_1-rmse:1.10596\n"
     ]
    },
    {
     "name": "stderr",
     "output_type": "stream",
     "text": [
      "D:\\Anaconda\\lib\\site-packages\\xgboost\\data.py:112: UserWarning: Use subset (sliced data) of np.ndarray is not recommended because it will generate extra copies and increase memory consumption\n",
      "  warnings.warn(\n"
     ]
    },
    {
     "name": "stdout",
     "output_type": "stream",
     "text": [
      "[0]\tvalidation_0-rmse:1.16146\tvalidation_1-rmse:1.10607\n"
     ]
    },
    {
     "name": "stderr",
     "output_type": "stream",
     "text": [
      "D:\\Anaconda\\lib\\site-packages\\xgboost\\data.py:112: UserWarning: Use subset (sliced data) of np.ndarray is not recommended because it will generate extra copies and increase memory consumption\n",
      "  warnings.warn(\n"
     ]
    },
    {
     "name": "stdout",
     "output_type": "stream",
     "text": [
      "[0]\tvalidation_0-rmse:1.16059\tvalidation_1-rmse:1.10665\n",
      "[1]\tvalidation_0-rmse:1.12824\tvalidation_1-rmse:1.08083\n",
      "[2]\tvalidation_0-rmse:1.10247\tvalidation_1-rmse:1.06307\n",
      "[3]\tvalidation_0-rmse:1.06925\tvalidation_1-rmse:1.04014\n",
      "[4]\tvalidation_0-rmse:1.04253\tvalidation_1-rmse:1.02723\n",
      "[5]\tvalidation_0-rmse:1.03156\tvalidation_1-rmse:1.02095\n",
      "[6]\tvalidation_0-rmse:1.02500\tvalidation_1-rmse:1.01526\n",
      "[7]\tvalidation_0-rmse:1.01077\tvalidation_1-rmse:1.00604\n",
      "[8]\tvalidation_0-rmse:1.00329\tvalidation_1-rmse:1.00146\n",
      "[9]\tvalidation_0-rmse:0.99814\tvalidation_1-rmse:0.99842\n"
     ]
    },
    {
     "name": "stderr",
     "output_type": "stream",
     "text": [
      "D:\\Anaconda\\lib\\site-packages\\xgboost\\data.py:112: UserWarning: Use subset (sliced data) of np.ndarray is not recommended because it will generate extra copies and increase memory consumption\n",
      "  warnings.warn(\n"
     ]
    },
    {
     "name": "stdout",
     "output_type": "stream",
     "text": [
      "[0]\tvalidation_0-rmse:1.16075\tvalidation_1-rmse:1.10584\n",
      "[1]\tvalidation_0-rmse:1.12642\tvalidation_1-rmse:1.07954\n",
      "[2]\tvalidation_0-rmse:1.10326\tvalidation_1-rmse:1.06287\n",
      "[3]\tvalidation_0-rmse:1.06533\tvalidation_1-rmse:1.03862\n",
      "[4]\tvalidation_0-rmse:1.04473\tvalidation_1-rmse:1.02561\n",
      "[5]\tvalidation_0-rmse:1.03338\tvalidation_1-rmse:1.01999\n",
      "[6]\tvalidation_0-rmse:1.02548\tvalidation_1-rmse:1.01449\n",
      "[7]\tvalidation_0-rmse:1.01086\tvalidation_1-rmse:1.00552\n",
      "[8]\tvalidation_0-rmse:1.00312\tvalidation_1-rmse:1.00112\n",
      "[9]\tvalidation_0-rmse:0.99997\tvalidation_1-rmse:0.99831\n"
     ]
    },
    {
     "name": "stderr",
     "output_type": "stream",
     "text": [
      "D:\\Anaconda\\lib\\site-packages\\xgboost\\data.py:112: UserWarning: Use subset (sliced data) of np.ndarray is not recommended because it will generate extra copies and increase memory consumption\n",
      "  warnings.warn(\n"
     ]
    },
    {
     "name": "stdout",
     "output_type": "stream",
     "text": [
      "[0]\tvalidation_0-rmse:1.16199\tvalidation_1-rmse:1.10591\n",
      "[1]\tvalidation_0-rmse:1.12864\tvalidation_1-rmse:1.07970\n",
      "[2]\tvalidation_0-rmse:1.10602\tvalidation_1-rmse:1.06322\n",
      "[3]\tvalidation_0-rmse:1.06897\tvalidation_1-rmse:1.03923\n",
      "[4]\tvalidation_0-rmse:1.04792\tvalidation_1-rmse:1.02627\n",
      "[5]\tvalidation_0-rmse:1.03661\tvalidation_1-rmse:1.02031\n",
      "[6]\tvalidation_0-rmse:1.02774\tvalidation_1-rmse:1.01468\n",
      "[7]\tvalidation_0-rmse:1.01236\tvalidation_1-rmse:1.00558\n",
      "[8]\tvalidation_0-rmse:1.00407\tvalidation_1-rmse:1.00116\n",
      "[9]\tvalidation_0-rmse:1.00182\tvalidation_1-rmse:0.99822\n"
     ]
    },
    {
     "name": "stderr",
     "output_type": "stream",
     "text": [
      "D:\\Anaconda\\lib\\site-packages\\xgboost\\data.py:112: UserWarning: Use subset (sliced data) of np.ndarray is not recommended because it will generate extra copies and increase memory consumption\n",
      "  warnings.warn(\n"
     ]
    },
    {
     "name": "stdout",
     "output_type": "stream",
     "text": [
      "[0]\tvalidation_0-rmse:1.15980\tvalidation_1-rmse:1.10596\n",
      "[1]\tvalidation_0-rmse:1.12567\tvalidation_1-rmse:1.07977\n",
      "[2]\tvalidation_0-rmse:1.10100\tvalidation_1-rmse:1.06280\n",
      "[3]\tvalidation_0-rmse:1.06463\tvalidation_1-rmse:1.03952\n",
      "[4]\tvalidation_0-rmse:1.04402\tvalidation_1-rmse:1.02639\n",
      "[5]\tvalidation_0-rmse:1.03257\tvalidation_1-rmse:1.02046\n",
      "[6]\tvalidation_0-rmse:1.02625\tvalidation_1-rmse:1.01465\n",
      "[7]\tvalidation_0-rmse:1.01206\tvalidation_1-rmse:1.00540\n",
      "[8]\tvalidation_0-rmse:1.00155\tvalidation_1-rmse:1.00099\n",
      "[9]\tvalidation_0-rmse:0.99860\tvalidation_1-rmse:0.99792\n"
     ]
    },
    {
     "name": "stderr",
     "output_type": "stream",
     "text": [
      "D:\\Anaconda\\lib\\site-packages\\xgboost\\data.py:112: UserWarning: Use subset (sliced data) of np.ndarray is not recommended because it will generate extra copies and increase memory consumption\n",
      "  warnings.warn(\n"
     ]
    },
    {
     "name": "stdout",
     "output_type": "stream",
     "text": [
      "[0]\tvalidation_0-rmse:1.16146\tvalidation_1-rmse:1.10607\n",
      "[1]\tvalidation_0-rmse:1.12814\tvalidation_1-rmse:1.07986\n",
      "[2]\tvalidation_0-rmse:1.10435\tvalidation_1-rmse:1.06304\n",
      "[3]\tvalidation_0-rmse:1.06626\tvalidation_1-rmse:1.03902\n",
      "[4]\tvalidation_0-rmse:1.04584\tvalidation_1-rmse:1.02619\n",
      "[5]\tvalidation_0-rmse:1.03511\tvalidation_1-rmse:1.02043\n",
      "[6]\tvalidation_0-rmse:1.02863\tvalidation_1-rmse:1.01481\n",
      "[7]\tvalidation_0-rmse:1.01313\tvalidation_1-rmse:1.00679\n",
      "[8]\tvalidation_0-rmse:1.00563\tvalidation_1-rmse:1.00291\n",
      "[9]\tvalidation_0-rmse:1.00024\tvalidation_1-rmse:0.99882\n"
     ]
    },
    {
     "name": "stderr",
     "output_type": "stream",
     "text": [
      "D:\\Anaconda\\lib\\site-packages\\xgboost\\data.py:112: UserWarning: Use subset (sliced data) of np.ndarray is not recommended because it will generate extra copies and increase memory consumption\n",
      "  warnings.warn(\n"
     ]
    },
    {
     "name": "stdout",
     "output_type": "stream",
     "text": [
      "[0]\tvalidation_0-rmse:1.16059\tvalidation_1-rmse:1.10665\n",
      "[1]\tvalidation_0-rmse:1.12824\tvalidation_1-rmse:1.08083\n",
      "[2]\tvalidation_0-rmse:1.10247\tvalidation_1-rmse:1.06307\n",
      "[3]\tvalidation_0-rmse:1.06925\tvalidation_1-rmse:1.04014\n",
      "[4]\tvalidation_0-rmse:1.04253\tvalidation_1-rmse:1.02723\n",
      "[5]\tvalidation_0-rmse:1.03156\tvalidation_1-rmse:1.02095\n",
      "[6]\tvalidation_0-rmse:1.02500\tvalidation_1-rmse:1.01526\n",
      "[7]\tvalidation_0-rmse:1.01077\tvalidation_1-rmse:1.00604\n",
      "[8]\tvalidation_0-rmse:1.00329\tvalidation_1-rmse:1.00146\n",
      "[9]\tvalidation_0-rmse:0.99814\tvalidation_1-rmse:0.99842\n",
      "[10]\tvalidation_0-rmse:0.99531\tvalidation_1-rmse:0.99674\n",
      "[11]\tvalidation_0-rmse:0.99130\tvalidation_1-rmse:0.99526\n",
      "[12]\tvalidation_0-rmse:0.98342\tvalidation_1-rmse:0.99195\n",
      "[13]\tvalidation_0-rmse:0.98083\tvalidation_1-rmse:0.98992\n",
      "[14]\tvalidation_0-rmse:0.97808\tvalidation_1-rmse:0.98915\n",
      "[15]\tvalidation_0-rmse:0.97634\tvalidation_1-rmse:0.98742\n",
      "[16]\tvalidation_0-rmse:0.97393\tvalidation_1-rmse:0.98601\n",
      "[17]\tvalidation_0-rmse:0.97274\tvalidation_1-rmse:0.98537\n",
      "[18]\tvalidation_0-rmse:0.96899\tvalidation_1-rmse:0.98374\n",
      "[19]\tvalidation_0-rmse:0.96742\tvalidation_1-rmse:0.98201\n",
      "[20]\tvalidation_0-rmse:0.96678\tvalidation_1-rmse:0.98102\n",
      "[21]\tvalidation_0-rmse:0.96561\tvalidation_1-rmse:0.97976\n",
      "[22]\tvalidation_0-rmse:0.96484\tvalidation_1-rmse:0.97887\n",
      "[23]\tvalidation_0-rmse:0.96401\tvalidation_1-rmse:0.97866\n",
      "[24]\tvalidation_0-rmse:0.96305\tvalidation_1-rmse:0.97879\n",
      "[25]\tvalidation_0-rmse:0.96265\tvalidation_1-rmse:0.97859\n",
      "[26]\tvalidation_0-rmse:0.96145\tvalidation_1-rmse:0.97911\n",
      "[27]\tvalidation_0-rmse:0.96085\tvalidation_1-rmse:0.97838\n",
      "[28]\tvalidation_0-rmse:0.96043\tvalidation_1-rmse:0.97741\n",
      "[29]\tvalidation_0-rmse:0.96014\tvalidation_1-rmse:0.97728\n",
      "[30]\tvalidation_0-rmse:0.95969\tvalidation_1-rmse:0.97664\n",
      "[31]\tvalidation_0-rmse:0.95945\tvalidation_1-rmse:0.97723\n",
      "[32]\tvalidation_0-rmse:0.95906\tvalidation_1-rmse:0.97672\n",
      "[33]\tvalidation_0-rmse:0.95870\tvalidation_1-rmse:0.97615\n",
      "[34]\tvalidation_0-rmse:0.95836\tvalidation_1-rmse:0.97583\n",
      "[35]\tvalidation_0-rmse:0.95810\tvalidation_1-rmse:0.97628\n",
      "[36]\tvalidation_0-rmse:0.95813\tvalidation_1-rmse:0.97612\n",
      "[37]\tvalidation_0-rmse:0.95791\tvalidation_1-rmse:0.97643\n",
      "[38]\tvalidation_0-rmse:0.95754\tvalidation_1-rmse:0.97611\n",
      "[39]\tvalidation_0-rmse:0.95745\tvalidation_1-rmse:0.97593\n"
     ]
    },
    {
     "name": "stderr",
     "output_type": "stream",
     "text": [
      "D:\\Anaconda\\lib\\site-packages\\xgboost\\data.py:112: UserWarning: Use subset (sliced data) of np.ndarray is not recommended because it will generate extra copies and increase memory consumption\n",
      "  warnings.warn(\n"
     ]
    },
    {
     "name": "stdout",
     "output_type": "stream",
     "text": [
      "[0]\tvalidation_0-rmse:1.16075\tvalidation_1-rmse:1.10584\n",
      "[1]\tvalidation_0-rmse:1.12642\tvalidation_1-rmse:1.07954\n",
      "[2]\tvalidation_0-rmse:1.10326\tvalidation_1-rmse:1.06287\n",
      "[3]\tvalidation_0-rmse:1.06533\tvalidation_1-rmse:1.03862\n",
      "[4]\tvalidation_0-rmse:1.04473\tvalidation_1-rmse:1.02561\n",
      "[5]\tvalidation_0-rmse:1.03338\tvalidation_1-rmse:1.01999\n",
      "[6]\tvalidation_0-rmse:1.02548\tvalidation_1-rmse:1.01449\n",
      "[7]\tvalidation_0-rmse:1.01086\tvalidation_1-rmse:1.00552\n",
      "[8]\tvalidation_0-rmse:1.00312\tvalidation_1-rmse:1.00112\n",
      "[9]\tvalidation_0-rmse:0.99997\tvalidation_1-rmse:0.99831\n",
      "[10]\tvalidation_0-rmse:0.99236\tvalidation_1-rmse:0.99677\n",
      "[11]\tvalidation_0-rmse:0.98745\tvalidation_1-rmse:0.99462\n",
      "[12]\tvalidation_0-rmse:0.98432\tvalidation_1-rmse:0.99301\n",
      "[13]\tvalidation_0-rmse:0.98227\tvalidation_1-rmse:0.99188\n",
      "[14]\tvalidation_0-rmse:0.97848\tvalidation_1-rmse:0.98850\n",
      "[15]\tvalidation_0-rmse:0.97624\tvalidation_1-rmse:0.98805\n",
      "[16]\tvalidation_0-rmse:0.97198\tvalidation_1-rmse:0.98701\n",
      "[17]\tvalidation_0-rmse:0.97126\tvalidation_1-rmse:0.98564\n",
      "[18]\tvalidation_0-rmse:0.96977\tvalidation_1-rmse:0.98410\n",
      "[19]\tvalidation_0-rmse:0.96813\tvalidation_1-rmse:0.98250\n",
      "[20]\tvalidation_0-rmse:0.96666\tvalidation_1-rmse:0.98188\n",
      "[21]\tvalidation_0-rmse:0.96561\tvalidation_1-rmse:0.98059\n",
      "[22]\tvalidation_0-rmse:0.96469\tvalidation_1-rmse:0.97961\n",
      "[23]\tvalidation_0-rmse:0.96411\tvalidation_1-rmse:0.97874\n",
      "[24]\tvalidation_0-rmse:0.96365\tvalidation_1-rmse:0.97802\n",
      "[25]\tvalidation_0-rmse:0.96191\tvalidation_1-rmse:0.97746\n",
      "[26]\tvalidation_0-rmse:0.96087\tvalidation_1-rmse:0.97750\n",
      "[27]\tvalidation_0-rmse:0.96031\tvalidation_1-rmse:0.97783\n",
      "[28]\tvalidation_0-rmse:0.95987\tvalidation_1-rmse:0.97791\n",
      "[29]\tvalidation_0-rmse:0.95960\tvalidation_1-rmse:0.97789\n",
      "[30]\tvalidation_0-rmse:0.95922\tvalidation_1-rmse:0.97730\n",
      "[31]\tvalidation_0-rmse:0.95898\tvalidation_1-rmse:0.97749\n",
      "[32]\tvalidation_0-rmse:0.95870\tvalidation_1-rmse:0.97667\n",
      "[33]\tvalidation_0-rmse:0.95867\tvalidation_1-rmse:0.97636\n",
      "[34]\tvalidation_0-rmse:0.95844\tvalidation_1-rmse:0.97587\n",
      "[35]\tvalidation_0-rmse:0.95825\tvalidation_1-rmse:0.97605\n",
      "[36]\tvalidation_0-rmse:0.95786\tvalidation_1-rmse:0.97585\n",
      "[37]\tvalidation_0-rmse:0.95766\tvalidation_1-rmse:0.97505\n",
      "[38]\tvalidation_0-rmse:0.95738\tvalidation_1-rmse:0.97482\n",
      "[39]\tvalidation_0-rmse:0.95727\tvalidation_1-rmse:0.97462\n",
      "[40]\tvalidation_0-rmse:0.95709\tvalidation_1-rmse:0.97438\n",
      "[41]\tvalidation_0-rmse:0.95680\tvalidation_1-rmse:0.97410\n",
      "[42]\tvalidation_0-rmse:0.95646\tvalidation_1-rmse:0.97402\n",
      "[43]\tvalidation_0-rmse:0.95623\tvalidation_1-rmse:0.97375\n",
      "[44]\tvalidation_0-rmse:0.95610\tvalidation_1-rmse:0.97345\n",
      "[45]\tvalidation_0-rmse:0.95601\tvalidation_1-rmse:0.97312\n",
      "[46]\tvalidation_0-rmse:0.95581\tvalidation_1-rmse:0.97296\n",
      "[47]\tvalidation_0-rmse:0.95564\tvalidation_1-rmse:0.97297\n",
      "[48]\tvalidation_0-rmse:0.95552\tvalidation_1-rmse:0.97288\n",
      "[49]\tvalidation_0-rmse:0.95559\tvalidation_1-rmse:0.97282\n",
      "[50]\tvalidation_0-rmse:0.95550\tvalidation_1-rmse:0.97274\n",
      "[51]\tvalidation_0-rmse:0.95531\tvalidation_1-rmse:0.97257\n",
      "[52]\tvalidation_0-rmse:0.95520\tvalidation_1-rmse:0.97238\n",
      "[53]\tvalidation_0-rmse:0.95509\tvalidation_1-rmse:0.97187\n",
      "[54]\tvalidation_0-rmse:0.95485\tvalidation_1-rmse:0.97219\n",
      "[55]\tvalidation_0-rmse:0.95473\tvalidation_1-rmse:0.97202\n",
      "[56]\tvalidation_0-rmse:0.95460\tvalidation_1-rmse:0.97187\n",
      "[57]\tvalidation_0-rmse:0.95458\tvalidation_1-rmse:0.97173\n",
      "[58]\tvalidation_0-rmse:0.95450\tvalidation_1-rmse:0.97157\n",
      "[59]\tvalidation_0-rmse:0.95439\tvalidation_1-rmse:0.97121\n",
      "[60]\tvalidation_0-rmse:0.95428\tvalidation_1-rmse:0.97101\n",
      "[61]\tvalidation_0-rmse:0.95417\tvalidation_1-rmse:0.97081\n",
      "[62]\tvalidation_0-rmse:0.95409\tvalidation_1-rmse:0.97103\n",
      "[63]\tvalidation_0-rmse:0.95399\tvalidation_1-rmse:0.97070\n",
      "[64]\tvalidation_0-rmse:0.95390\tvalidation_1-rmse:0.97093\n",
      "[65]\tvalidation_0-rmse:0.95401\tvalidation_1-rmse:0.97116\n",
      "[66]\tvalidation_0-rmse:0.95365\tvalidation_1-rmse:0.97110\n",
      "[67]\tvalidation_0-rmse:0.95389\tvalidation_1-rmse:0.97109\n"
     ]
    },
    {
     "name": "stderr",
     "output_type": "stream",
     "text": [
      "D:\\Anaconda\\lib\\site-packages\\xgboost\\data.py:112: UserWarning: Use subset (sliced data) of np.ndarray is not recommended because it will generate extra copies and increase memory consumption\n",
      "  warnings.warn(\n"
     ]
    },
    {
     "name": "stdout",
     "output_type": "stream",
     "text": [
      "[0]\tvalidation_0-rmse:1.16199\tvalidation_1-rmse:1.10591\n",
      "[1]\tvalidation_0-rmse:1.12864\tvalidation_1-rmse:1.07970\n",
      "[2]\tvalidation_0-rmse:1.10602\tvalidation_1-rmse:1.06322\n",
      "[3]\tvalidation_0-rmse:1.06897\tvalidation_1-rmse:1.03923\n",
      "[4]\tvalidation_0-rmse:1.04792\tvalidation_1-rmse:1.02627\n",
      "[5]\tvalidation_0-rmse:1.03661\tvalidation_1-rmse:1.02031\n",
      "[6]\tvalidation_0-rmse:1.02774\tvalidation_1-rmse:1.01468\n",
      "[7]\tvalidation_0-rmse:1.01236\tvalidation_1-rmse:1.00558\n",
      "[8]\tvalidation_0-rmse:1.00407\tvalidation_1-rmse:1.00116\n",
      "[9]\tvalidation_0-rmse:1.00182\tvalidation_1-rmse:0.99822\n",
      "[10]\tvalidation_0-rmse:0.99387\tvalidation_1-rmse:0.99651\n",
      "[11]\tvalidation_0-rmse:0.98902\tvalidation_1-rmse:0.99449\n",
      "[12]\tvalidation_0-rmse:0.98457\tvalidation_1-rmse:0.99261\n",
      "[13]\tvalidation_0-rmse:0.98342\tvalidation_1-rmse:0.99125\n",
      "[14]\tvalidation_0-rmse:0.97940\tvalidation_1-rmse:0.98796\n",
      "[15]\tvalidation_0-rmse:0.97729\tvalidation_1-rmse:0.98768\n",
      "[16]\tvalidation_0-rmse:0.97361\tvalidation_1-rmse:0.98652\n",
      "[17]\tvalidation_0-rmse:0.97221\tvalidation_1-rmse:0.98501\n",
      "[18]\tvalidation_0-rmse:0.97072\tvalidation_1-rmse:0.98347\n",
      "[19]\tvalidation_0-rmse:0.96901\tvalidation_1-rmse:0.98174\n",
      "[20]\tvalidation_0-rmse:0.96763\tvalidation_1-rmse:0.98098\n",
      "[21]\tvalidation_0-rmse:0.96686\tvalidation_1-rmse:0.97999\n",
      "[22]\tvalidation_0-rmse:0.96529\tvalidation_1-rmse:0.97879\n",
      "[23]\tvalidation_0-rmse:0.96407\tvalidation_1-rmse:0.97800\n",
      "[24]\tvalidation_0-rmse:0.96335\tvalidation_1-rmse:0.97818\n",
      "[25]\tvalidation_0-rmse:0.96267\tvalidation_1-rmse:0.97745\n",
      "[26]\tvalidation_0-rmse:0.96100\tvalidation_1-rmse:0.97722\n",
      "[27]\tvalidation_0-rmse:0.96067\tvalidation_1-rmse:0.97701\n",
      "[28]\tvalidation_0-rmse:0.96063\tvalidation_1-rmse:0.97659\n",
      "[29]\tvalidation_0-rmse:0.96029\tvalidation_1-rmse:0.97671\n",
      "[30]\tvalidation_0-rmse:0.95994\tvalidation_1-rmse:0.97607\n",
      "[31]\tvalidation_0-rmse:0.95965\tvalidation_1-rmse:0.97569\n",
      "[32]\tvalidation_0-rmse:0.95928\tvalidation_1-rmse:0.97479\n",
      "[33]\tvalidation_0-rmse:0.95898\tvalidation_1-rmse:0.97445\n",
      "[34]\tvalidation_0-rmse:0.95874\tvalidation_1-rmse:0.97396\n",
      "[35]\tvalidation_0-rmse:0.95820\tvalidation_1-rmse:0.97405\n",
      "[36]\tvalidation_0-rmse:0.95794\tvalidation_1-rmse:0.97321\n",
      "[37]\tvalidation_0-rmse:0.95727\tvalidation_1-rmse:0.97307\n",
      "[38]\tvalidation_0-rmse:0.95716\tvalidation_1-rmse:0.97272\n",
      "[39]\tvalidation_0-rmse:0.95697\tvalidation_1-rmse:0.97250\n",
      "[40]\tvalidation_0-rmse:0.95676\tvalidation_1-rmse:0.97225\n",
      "[41]\tvalidation_0-rmse:0.95650\tvalidation_1-rmse:0.97227\n",
      "[42]\tvalidation_0-rmse:0.95648\tvalidation_1-rmse:0.97215\n",
      "[43]\tvalidation_0-rmse:0.95627\tvalidation_1-rmse:0.97220\n",
      "[44]\tvalidation_0-rmse:0.95619\tvalidation_1-rmse:0.97204\n",
      "[45]\tvalidation_0-rmse:0.95607\tvalidation_1-rmse:0.97161\n",
      "[46]\tvalidation_0-rmse:0.95591\tvalidation_1-rmse:0.97139\n",
      "[47]\tvalidation_0-rmse:0.95575\tvalidation_1-rmse:0.97160\n",
      "[48]\tvalidation_0-rmse:0.95563\tvalidation_1-rmse:0.97130\n",
      "[49]\tvalidation_0-rmse:0.95546\tvalidation_1-rmse:0.97126\n",
      "[50]\tvalidation_0-rmse:0.95551\tvalidation_1-rmse:0.97107\n",
      "[51]\tvalidation_0-rmse:0.95539\tvalidation_1-rmse:0.97087\n",
      "[52]\tvalidation_0-rmse:0.95511\tvalidation_1-rmse:0.97088\n",
      "[53]\tvalidation_0-rmse:0.95505\tvalidation_1-rmse:0.97061\n",
      "[54]\tvalidation_0-rmse:0.95491\tvalidation_1-rmse:0.97048\n",
      "[55]\tvalidation_0-rmse:0.95483\tvalidation_1-rmse:0.97025\n",
      "[56]\tvalidation_0-rmse:0.95474\tvalidation_1-rmse:0.97020\n",
      "[57]\tvalidation_0-rmse:0.95467\tvalidation_1-rmse:0.97008\n",
      "[58]\tvalidation_0-rmse:0.95451\tvalidation_1-rmse:0.97010\n",
      "[59]\tvalidation_0-rmse:0.95451\tvalidation_1-rmse:0.97001\n",
      "[60]\tvalidation_0-rmse:0.95445\tvalidation_1-rmse:0.96986\n",
      "[61]\tvalidation_0-rmse:0.95444\tvalidation_1-rmse:0.96948\n",
      "[62]\tvalidation_0-rmse:0.95427\tvalidation_1-rmse:0.96968\n",
      "[63]\tvalidation_0-rmse:0.95428\tvalidation_1-rmse:0.96940\n",
      "[64]\tvalidation_0-rmse:0.95405\tvalidation_1-rmse:0.96935\n",
      "[65]\tvalidation_0-rmse:0.95395\tvalidation_1-rmse:0.96934\n",
      "[66]\tvalidation_0-rmse:0.95392\tvalidation_1-rmse:0.96927\n",
      "[67]\tvalidation_0-rmse:0.95385\tvalidation_1-rmse:0.96947\n",
      "[68]\tvalidation_0-rmse:0.95378\tvalidation_1-rmse:0.96930\n",
      "[69]\tvalidation_0-rmse:0.95370\tvalidation_1-rmse:0.96913\n",
      "[70]\tvalidation_0-rmse:0.95367\tvalidation_1-rmse:0.96886\n",
      "[71]\tvalidation_0-rmse:0.95359\tvalidation_1-rmse:0.96881\n",
      "[72]\tvalidation_0-rmse:0.95354\tvalidation_1-rmse:0.96881\n",
      "[73]\tvalidation_0-rmse:0.95341\tvalidation_1-rmse:0.96879\n",
      "[74]\tvalidation_0-rmse:0.95342\tvalidation_1-rmse:0.96868\n",
      "[75]\tvalidation_0-rmse:0.95321\tvalidation_1-rmse:0.96883\n",
      "[76]\tvalidation_0-rmse:0.95316\tvalidation_1-rmse:0.96850\n",
      "[77]\tvalidation_0-rmse:0.95309\tvalidation_1-rmse:0.96841\n",
      "[78]\tvalidation_0-rmse:0.95303\tvalidation_1-rmse:0.96859\n",
      "[79]\tvalidation_0-rmse:0.95298\tvalidation_1-rmse:0.96835\n",
      "[80]\tvalidation_0-rmse:0.95296\tvalidation_1-rmse:0.96832\n",
      "[81]\tvalidation_0-rmse:0.95288\tvalidation_1-rmse:0.96851\n",
      "[82]\tvalidation_0-rmse:0.95281\tvalidation_1-rmse:0.96839\n",
      "[83]\tvalidation_0-rmse:0.95275\tvalidation_1-rmse:0.96832\n",
      "[84]\tvalidation_0-rmse:0.95270\tvalidation_1-rmse:0.96823\n",
      "[85]\tvalidation_0-rmse:0.95256\tvalidation_1-rmse:0.96840\n",
      "[86]\tvalidation_0-rmse:0.95256\tvalidation_1-rmse:0.96828\n",
      "[87]\tvalidation_0-rmse:0.95250\tvalidation_1-rmse:0.96816\n",
      "[88]\tvalidation_0-rmse:0.95248\tvalidation_1-rmse:0.96818\n",
      "[89]\tvalidation_0-rmse:0.95247\tvalidation_1-rmse:0.96811\n",
      "[90]\tvalidation_0-rmse:0.95241\tvalidation_1-rmse:0.96809\n",
      "[91]\tvalidation_0-rmse:0.95235\tvalidation_1-rmse:0.96803\n",
      "[92]\tvalidation_0-rmse:0.95231\tvalidation_1-rmse:0.96793\n",
      "[93]\tvalidation_0-rmse:0.95231\tvalidation_1-rmse:0.96769\n",
      "[94]\tvalidation_0-rmse:0.95220\tvalidation_1-rmse:0.96787\n",
      "[95]\tvalidation_0-rmse:0.95221\tvalidation_1-rmse:0.96766\n",
      "[96]\tvalidation_0-rmse:0.95213\tvalidation_1-rmse:0.96782\n",
      "[97]\tvalidation_0-rmse:0.95208\tvalidation_1-rmse:0.96773\n",
      "[98]\tvalidation_0-rmse:0.95206\tvalidation_1-rmse:0.96767\n",
      "[99]\tvalidation_0-rmse:0.95202\tvalidation_1-rmse:0.96767\n"
     ]
    },
    {
     "name": "stderr",
     "output_type": "stream",
     "text": [
      "D:\\Anaconda\\lib\\site-packages\\xgboost\\data.py:112: UserWarning: Use subset (sliced data) of np.ndarray is not recommended because it will generate extra copies and increase memory consumption\n",
      "  warnings.warn(\n"
     ]
    },
    {
     "name": "stdout",
     "output_type": "stream",
     "text": [
      "[0]\tvalidation_0-rmse:1.15980\tvalidation_1-rmse:1.10596\n",
      "[1]\tvalidation_0-rmse:1.12567\tvalidation_1-rmse:1.07977\n",
      "[2]\tvalidation_0-rmse:1.10100\tvalidation_1-rmse:1.06280\n",
      "[3]\tvalidation_0-rmse:1.06463\tvalidation_1-rmse:1.03952\n",
      "[4]\tvalidation_0-rmse:1.04402\tvalidation_1-rmse:1.02639\n",
      "[5]\tvalidation_0-rmse:1.03257\tvalidation_1-rmse:1.02046\n",
      "[6]\tvalidation_0-rmse:1.02625\tvalidation_1-rmse:1.01465\n",
      "[7]\tvalidation_0-rmse:1.01206\tvalidation_1-rmse:1.00540\n",
      "[8]\tvalidation_0-rmse:1.00155\tvalidation_1-rmse:1.00099\n",
      "[9]\tvalidation_0-rmse:0.99860\tvalidation_1-rmse:0.99792\n",
      "[10]\tvalidation_0-rmse:0.99616\tvalidation_1-rmse:0.99623\n",
      "[11]\tvalidation_0-rmse:0.99228\tvalidation_1-rmse:0.99466\n",
      "[12]\tvalidation_0-rmse:0.98373\tvalidation_1-rmse:0.99141\n",
      "[13]\tvalidation_0-rmse:0.98038\tvalidation_1-rmse:0.98926\n",
      "[14]\tvalidation_0-rmse:0.97763\tvalidation_1-rmse:0.98854\n",
      "[15]\tvalidation_0-rmse:0.97629\tvalidation_1-rmse:0.98695\n",
      "[16]\tvalidation_0-rmse:0.97416\tvalidation_1-rmse:0.98554\n",
      "[17]\tvalidation_0-rmse:0.97089\tvalidation_1-rmse:0.98498\n",
      "[18]\tvalidation_0-rmse:0.96947\tvalidation_1-rmse:0.98323\n",
      "[19]\tvalidation_0-rmse:0.96784\tvalidation_1-rmse:0.98146\n",
      "[20]\tvalidation_0-rmse:0.96663\tvalidation_1-rmse:0.98036\n",
      "[21]\tvalidation_0-rmse:0.96554\tvalidation_1-rmse:0.97906\n",
      "[22]\tvalidation_0-rmse:0.96483\tvalidation_1-rmse:0.97808\n",
      "[23]\tvalidation_0-rmse:0.96408\tvalidation_1-rmse:0.97788\n",
      "[24]\tvalidation_0-rmse:0.96317\tvalidation_1-rmse:0.97805\n",
      "[25]\tvalidation_0-rmse:0.96161\tvalidation_1-rmse:0.97784\n",
      "[26]\tvalidation_0-rmse:0.96104\tvalidation_1-rmse:0.97705\n",
      "[27]\tvalidation_0-rmse:0.96060\tvalidation_1-rmse:0.97636\n",
      "[28]\tvalidation_0-rmse:0.96027\tvalidation_1-rmse:0.97676\n",
      "[29]\tvalidation_0-rmse:0.95973\tvalidation_1-rmse:0.97667\n",
      "[30]\tvalidation_0-rmse:0.95939\tvalidation_1-rmse:0.97615\n",
      "[31]\tvalidation_0-rmse:0.95909\tvalidation_1-rmse:0.97645\n",
      "[32]\tvalidation_0-rmse:0.95878\tvalidation_1-rmse:0.97549\n",
      "[33]\tvalidation_0-rmse:0.95844\tvalidation_1-rmse:0.97500\n",
      "[34]\tvalidation_0-rmse:0.95779\tvalidation_1-rmse:0.97474\n",
      "[35]\tvalidation_0-rmse:0.95756\tvalidation_1-rmse:0.97389\n",
      "[36]\tvalidation_0-rmse:0.95738\tvalidation_1-rmse:0.97354\n",
      "[37]\tvalidation_0-rmse:0.95740\tvalidation_1-rmse:0.97403\n",
      "[38]\tvalidation_0-rmse:0.95723\tvalidation_1-rmse:0.97436\n",
      "[39]\tvalidation_0-rmse:0.95717\tvalidation_1-rmse:0.97412\n",
      "[40]\tvalidation_0-rmse:0.95688\tvalidation_1-rmse:0.97387\n",
      "[41]\tvalidation_0-rmse:0.95676\tvalidation_1-rmse:0.97382\n"
     ]
    },
    {
     "name": "stderr",
     "output_type": "stream",
     "text": [
      "D:\\Anaconda\\lib\\site-packages\\xgboost\\data.py:112: UserWarning: Use subset (sliced data) of np.ndarray is not recommended because it will generate extra copies and increase memory consumption\n",
      "  warnings.warn(\n"
     ]
    },
    {
     "name": "stdout",
     "output_type": "stream",
     "text": [
      "[0]\tvalidation_0-rmse:1.16146\tvalidation_1-rmse:1.10607\n",
      "[1]\tvalidation_0-rmse:1.12814\tvalidation_1-rmse:1.07986\n",
      "[2]\tvalidation_0-rmse:1.10435\tvalidation_1-rmse:1.06304\n",
      "[3]\tvalidation_0-rmse:1.06626\tvalidation_1-rmse:1.03902\n",
      "[4]\tvalidation_0-rmse:1.04584\tvalidation_1-rmse:1.02619\n",
      "[5]\tvalidation_0-rmse:1.03511\tvalidation_1-rmse:1.02043\n",
      "[6]\tvalidation_0-rmse:1.02863\tvalidation_1-rmse:1.01481\n",
      "[7]\tvalidation_0-rmse:1.01313\tvalidation_1-rmse:1.00679\n",
      "[8]\tvalidation_0-rmse:1.00563\tvalidation_1-rmse:1.00291\n",
      "[9]\tvalidation_0-rmse:1.00024\tvalidation_1-rmse:0.99882\n",
      "[10]\tvalidation_0-rmse:0.99268\tvalidation_1-rmse:0.99698\n",
      "[11]\tvalidation_0-rmse:0.98835\tvalidation_1-rmse:0.99507\n",
      "[12]\tvalidation_0-rmse:0.98478\tvalidation_1-rmse:0.99319\n",
      "[13]\tvalidation_0-rmse:0.98243\tvalidation_1-rmse:0.99172\n",
      "[14]\tvalidation_0-rmse:0.97861\tvalidation_1-rmse:0.98841\n",
      "[15]\tvalidation_0-rmse:0.97707\tvalidation_1-rmse:0.98671\n",
      "[16]\tvalidation_0-rmse:0.97302\tvalidation_1-rmse:0.98511\n",
      "[17]\tvalidation_0-rmse:0.97200\tvalidation_1-rmse:0.98486\n",
      "[18]\tvalidation_0-rmse:0.97034\tvalidation_1-rmse:0.98309\n",
      "[19]\tvalidation_0-rmse:0.96825\tvalidation_1-rmse:0.98117\n",
      "[20]\tvalidation_0-rmse:0.96705\tvalidation_1-rmse:0.98026\n",
      "[21]\tvalidation_0-rmse:0.96590\tvalidation_1-rmse:0.97892\n",
      "[22]\tvalidation_0-rmse:0.96540\tvalidation_1-rmse:0.97798\n",
      "[23]\tvalidation_0-rmse:0.96386\tvalidation_1-rmse:0.97790\n",
      "[24]\tvalidation_0-rmse:0.96315\tvalidation_1-rmse:0.97803\n",
      "[25]\tvalidation_0-rmse:0.96267\tvalidation_1-rmse:0.97748\n",
      "[26]\tvalidation_0-rmse:0.96102\tvalidation_1-rmse:0.97676\n",
      "[27]\tvalidation_0-rmse:0.96054\tvalidation_1-rmse:0.97612\n",
      "[28]\tvalidation_0-rmse:0.95979\tvalidation_1-rmse:0.97646\n",
      "[29]\tvalidation_0-rmse:0.95974\tvalidation_1-rmse:0.97600\n",
      "[30]\tvalidation_0-rmse:0.95924\tvalidation_1-rmse:0.97486\n",
      "[31]\tvalidation_0-rmse:0.95885\tvalidation_1-rmse:0.97521\n",
      "[32]\tvalidation_0-rmse:0.95835\tvalidation_1-rmse:0.97457\n",
      "[33]\tvalidation_0-rmse:0.95822\tvalidation_1-rmse:0.97433\n",
      "[34]\tvalidation_0-rmse:0.95786\tvalidation_1-rmse:0.97389\n",
      "[35]\tvalidation_0-rmse:0.95762\tvalidation_1-rmse:0.97329\n",
      "[36]\tvalidation_0-rmse:0.95733\tvalidation_1-rmse:0.97297\n",
      "[37]\tvalidation_0-rmse:0.95711\tvalidation_1-rmse:0.97324\n",
      "[38]\tvalidation_0-rmse:0.95699\tvalidation_1-rmse:0.97304\n",
      "[39]\tvalidation_0-rmse:0.95672\tvalidation_1-rmse:0.97277\n",
      "[40]\tvalidation_0-rmse:0.95669\tvalidation_1-rmse:0.97312\n",
      "[41]\tvalidation_0-rmse:0.95631\tvalidation_1-rmse:0.97311\n",
      "[42]\tvalidation_0-rmse:0.95636\tvalidation_1-rmse:0.97307\n",
      "[43]\tvalidation_0-rmse:0.95615\tvalidation_1-rmse:0.97306\n",
      "[44]\tvalidation_0-rmse:0.95599\tvalidation_1-rmse:0.97274\n",
      "[45]\tvalidation_0-rmse:0.95582\tvalidation_1-rmse:0.97205\n",
      "[46]\tvalidation_0-rmse:0.95587\tvalidation_1-rmse:0.97186\n",
      "[47]\tvalidation_0-rmse:0.95547\tvalidation_1-rmse:0.97204\n",
      "[48]\tvalidation_0-rmse:0.95536\tvalidation_1-rmse:0.97185\n",
      "[49]\tvalidation_0-rmse:0.95551\tvalidation_1-rmse:0.97147\n",
      "[50]\tvalidation_0-rmse:0.95514\tvalidation_1-rmse:0.97136\n",
      "[51]\tvalidation_0-rmse:0.95497\tvalidation_1-rmse:0.97117\n",
      "[52]\tvalidation_0-rmse:0.95505\tvalidation_1-rmse:0.97136\n",
      "[53]\tvalidation_0-rmse:0.95495\tvalidation_1-rmse:0.97105\n",
      "[54]\tvalidation_0-rmse:0.95476\tvalidation_1-rmse:0.97091\n",
      "[55]\tvalidation_0-rmse:0.95461\tvalidation_1-rmse:0.97070\n",
      "[56]\tvalidation_0-rmse:0.95452\tvalidation_1-rmse:0.97052\n",
      "[57]\tvalidation_0-rmse:0.95447\tvalidation_1-rmse:0.97047\n",
      "[58]\tvalidation_0-rmse:0.95429\tvalidation_1-rmse:0.97066\n",
      "[59]\tvalidation_0-rmse:0.95416\tvalidation_1-rmse:0.97065\n",
      "[60]\tvalidation_0-rmse:0.95441\tvalidation_1-rmse:0.97059\n",
      "[61]\tvalidation_0-rmse:0.95427\tvalidation_1-rmse:0.97032\n",
      "[62]\tvalidation_0-rmse:0.95426\tvalidation_1-rmse:0.96999\n",
      "[63]\tvalidation_0-rmse:0.95400\tvalidation_1-rmse:0.96998\n",
      "[64]\tvalidation_0-rmse:0.95391\tvalidation_1-rmse:0.96986\n",
      "[65]\tvalidation_0-rmse:0.95373\tvalidation_1-rmse:0.97012\n",
      "[66]\tvalidation_0-rmse:0.95367\tvalidation_1-rmse:0.97011\n",
      "[67]\tvalidation_0-rmse:0.95358\tvalidation_1-rmse:0.96988\n",
      "[68]\tvalidation_0-rmse:0.95355\tvalidation_1-rmse:0.96979\n",
      "[69]\tvalidation_0-rmse:0.95349\tvalidation_1-rmse:0.96997\n",
      "[70]\tvalidation_0-rmse:0.95341\tvalidation_1-rmse:0.97014\n",
      "[71]\tvalidation_0-rmse:0.95334\tvalidation_1-rmse:0.96984\n",
      "[72]\tvalidation_0-rmse:0.95329\tvalidation_1-rmse:0.96978\n",
      "[73]\tvalidation_0-rmse:0.95322\tvalidation_1-rmse:0.96995\n",
      "[74]\tvalidation_0-rmse:0.95313\tvalidation_1-rmse:0.96984\n",
      "[75]\tvalidation_0-rmse:0.95305\tvalidation_1-rmse:0.96968\n",
      "[76]\tvalidation_0-rmse:0.95300\tvalidation_1-rmse:0.96937\n",
      "[77]\tvalidation_0-rmse:0.95293\tvalidation_1-rmse:0.96938\n",
      "[78]\tvalidation_0-rmse:0.95296\tvalidation_1-rmse:0.96940\n",
      "[79]\tvalidation_0-rmse:0.95291\tvalidation_1-rmse:0.96916\n",
      "[80]\tvalidation_0-rmse:0.95287\tvalidation_1-rmse:0.96911\n",
      "[81]\tvalidation_0-rmse:0.95282\tvalidation_1-rmse:0.96904\n",
      "[82]\tvalidation_0-rmse:0.95276\tvalidation_1-rmse:0.96922\n",
      "[83]\tvalidation_0-rmse:0.95268\tvalidation_1-rmse:0.96940\n",
      "[84]\tvalidation_0-rmse:0.95264\tvalidation_1-rmse:0.96915\n",
      "[85]\tvalidation_0-rmse:0.95256\tvalidation_1-rmse:0.96940\n",
      "[86]\tvalidation_0-rmse:0.95252\tvalidation_1-rmse:0.96927\n"
     ]
    },
    {
     "name": "stderr",
     "output_type": "stream",
     "text": [
      "D:\\Anaconda\\lib\\site-packages\\xgboost\\data.py:112: UserWarning: Use subset (sliced data) of np.ndarray is not recommended because it will generate extra copies and increase memory consumption\n",
      "  warnings.warn(\n"
     ]
    },
    {
     "name": "stdout",
     "output_type": "stream",
     "text": [
      "[0]\tvalidation_0-rmse:1.13005\tvalidation_1-rmse:1.08260\n"
     ]
    },
    {
     "name": "stderr",
     "output_type": "stream",
     "text": [
      "D:\\Anaconda\\lib\\site-packages\\xgboost\\data.py:112: UserWarning: Use subset (sliced data) of np.ndarray is not recommended because it will generate extra copies and increase memory consumption\n",
      "  warnings.warn(\n"
     ]
    },
    {
     "name": "stdout",
     "output_type": "stream",
     "text": [
      "[0]\tvalidation_0-rmse:1.13067\tvalidation_1-rmse:1.08146\n"
     ]
    },
    {
     "name": "stderr",
     "output_type": "stream",
     "text": [
      "D:\\Anaconda\\lib\\site-packages\\xgboost\\data.py:112: UserWarning: Use subset (sliced data) of np.ndarray is not recommended because it will generate extra copies and increase memory consumption\n",
      "  warnings.warn(\n"
     ]
    },
    {
     "name": "stdout",
     "output_type": "stream",
     "text": [
      "[0]\tvalidation_0-rmse:1.13132\tvalidation_1-rmse:1.08182\n"
     ]
    },
    {
     "name": "stderr",
     "output_type": "stream",
     "text": [
      "D:\\Anaconda\\lib\\site-packages\\xgboost\\data.py:112: UserWarning: Use subset (sliced data) of np.ndarray is not recommended because it will generate extra copies and increase memory consumption\n",
      "  warnings.warn(\n"
     ]
    },
    {
     "name": "stdout",
     "output_type": "stream",
     "text": [
      "[0]\tvalidation_0-rmse:1.12986\tvalidation_1-rmse:1.08152\n"
     ]
    },
    {
     "name": "stderr",
     "output_type": "stream",
     "text": [
      "D:\\Anaconda\\lib\\site-packages\\xgboost\\data.py:112: UserWarning: Use subset (sliced data) of np.ndarray is not recommended because it will generate extra copies and increase memory consumption\n",
      "  warnings.warn(\n"
     ]
    },
    {
     "name": "stdout",
     "output_type": "stream",
     "text": [
      "[0]\tvalidation_0-rmse:1.13085\tvalidation_1-rmse:1.08213\n"
     ]
    },
    {
     "name": "stderr",
     "output_type": "stream",
     "text": [
      "D:\\Anaconda\\lib\\site-packages\\xgboost\\data.py:112: UserWarning: Use subset (sliced data) of np.ndarray is not recommended because it will generate extra copies and increase memory consumption\n",
      "  warnings.warn(\n"
     ]
    },
    {
     "name": "stdout",
     "output_type": "stream",
     "text": [
      "[0]\tvalidation_0-rmse:1.13005\tvalidation_1-rmse:1.08260\n",
      "[1]\tvalidation_0-rmse:1.08959\tvalidation_1-rmse:1.04959\n",
      "[2]\tvalidation_0-rmse:1.05179\tvalidation_1-rmse:1.02776\n",
      "[3]\tvalidation_0-rmse:1.01699\tvalidation_1-rmse:1.00499\n",
      "[4]\tvalidation_0-rmse:0.99779\tvalidation_1-rmse:0.99313\n",
      "[5]\tvalidation_0-rmse:0.98693\tvalidation_1-rmse:0.98711\n",
      "[6]\tvalidation_0-rmse:0.97483\tvalidation_1-rmse:0.98034\n",
      "[7]\tvalidation_0-rmse:0.96852\tvalidation_1-rmse:0.97665\n",
      "[8]\tvalidation_0-rmse:0.96455\tvalidation_1-rmse:0.97488\n",
      "[9]\tvalidation_0-rmse:0.96242\tvalidation_1-rmse:0.97230\n"
     ]
    },
    {
     "name": "stderr",
     "output_type": "stream",
     "text": [
      "D:\\Anaconda\\lib\\site-packages\\xgboost\\data.py:112: UserWarning: Use subset (sliced data) of np.ndarray is not recommended because it will generate extra copies and increase memory consumption\n",
      "  warnings.warn(\n"
     ]
    },
    {
     "name": "stdout",
     "output_type": "stream",
     "text": [
      "[0]\tvalidation_0-rmse:1.13067\tvalidation_1-rmse:1.08146\n",
      "[1]\tvalidation_0-rmse:1.09024\tvalidation_1-rmse:1.04882\n",
      "[2]\tvalidation_0-rmse:1.05056\tvalidation_1-rmse:1.02632\n",
      "[3]\tvalidation_0-rmse:1.01483\tvalidation_1-rmse:1.00350\n",
      "[4]\tvalidation_0-rmse:0.99599\tvalidation_1-rmse:0.99179\n",
      "[5]\tvalidation_0-rmse:0.98191\tvalidation_1-rmse:0.98628\n",
      "[6]\tvalidation_0-rmse:0.97594\tvalidation_1-rmse:0.97983\n",
      "[7]\tvalidation_0-rmse:0.96979\tvalidation_1-rmse:0.97692\n",
      "[8]\tvalidation_0-rmse:0.96366\tvalidation_1-rmse:0.97361\n",
      "[9]\tvalidation_0-rmse:0.96128\tvalidation_1-rmse:0.97108\n"
     ]
    },
    {
     "name": "stderr",
     "output_type": "stream",
     "text": [
      "D:\\Anaconda\\lib\\site-packages\\xgboost\\data.py:112: UserWarning: Use subset (sliced data) of np.ndarray is not recommended because it will generate extra copies and increase memory consumption\n",
      "  warnings.warn(\n"
     ]
    },
    {
     "name": "stdout",
     "output_type": "stream",
     "text": [
      "[0]\tvalidation_0-rmse:1.13132\tvalidation_1-rmse:1.08182\n",
      "[1]\tvalidation_0-rmse:1.09114\tvalidation_1-rmse:1.04859\n",
      "[2]\tvalidation_0-rmse:1.05374\tvalidation_1-rmse:1.02763\n",
      "[3]\tvalidation_0-rmse:1.01824\tvalidation_1-rmse:1.00511\n",
      "[4]\tvalidation_0-rmse:1.00014\tvalidation_1-rmse:0.99406\n",
      "[5]\tvalidation_0-rmse:0.98493\tvalidation_1-rmse:0.98668\n",
      "[6]\tvalidation_0-rmse:0.97661\tvalidation_1-rmse:0.97999\n",
      "[7]\tvalidation_0-rmse:0.97226\tvalidation_1-rmse:0.97597\n",
      "[8]\tvalidation_0-rmse:0.96545\tvalidation_1-rmse:0.97386\n",
      "[9]\tvalidation_0-rmse:0.96345\tvalidation_1-rmse:0.97098\n"
     ]
    },
    {
     "name": "stderr",
     "output_type": "stream",
     "text": [
      "D:\\Anaconda\\lib\\site-packages\\xgboost\\data.py:112: UserWarning: Use subset (sliced data) of np.ndarray is not recommended because it will generate extra copies and increase memory consumption\n",
      "  warnings.warn(\n"
     ]
    },
    {
     "name": "stdout",
     "output_type": "stream",
     "text": [
      "[0]\tvalidation_0-rmse:1.12986\tvalidation_1-rmse:1.08152\n",
      "[1]\tvalidation_0-rmse:1.08925\tvalidation_1-rmse:1.04820\n",
      "[2]\tvalidation_0-rmse:1.05242\tvalidation_1-rmse:1.02676\n",
      "[3]\tvalidation_0-rmse:1.01707\tvalidation_1-rmse:1.00415\n",
      "[4]\tvalidation_0-rmse:0.99850\tvalidation_1-rmse:0.99241\n",
      "[5]\tvalidation_0-rmse:0.98659\tvalidation_1-rmse:0.98632\n",
      "[6]\tvalidation_0-rmse:0.97554\tvalidation_1-rmse:0.97956\n",
      "[7]\tvalidation_0-rmse:0.96813\tvalidation_1-rmse:0.97598\n",
      "[8]\tvalidation_0-rmse:0.96462\tvalidation_1-rmse:0.97406\n",
      "[9]\tvalidation_0-rmse:0.96042\tvalidation_1-rmse:0.97157\n"
     ]
    },
    {
     "name": "stderr",
     "output_type": "stream",
     "text": [
      "D:\\Anaconda\\lib\\site-packages\\xgboost\\data.py:112: UserWarning: Use subset (sliced data) of np.ndarray is not recommended because it will generate extra copies and increase memory consumption\n",
      "  warnings.warn(\n"
     ]
    },
    {
     "name": "stdout",
     "output_type": "stream",
     "text": [
      "[0]\tvalidation_0-rmse:1.13085\tvalidation_1-rmse:1.08213\n",
      "[1]\tvalidation_0-rmse:1.09060\tvalidation_1-rmse:1.04888\n",
      "[2]\tvalidation_0-rmse:1.05499\tvalidation_1-rmse:1.02737\n",
      "[3]\tvalidation_0-rmse:1.01720\tvalidation_1-rmse:1.00484\n",
      "[4]\tvalidation_0-rmse:0.99900\tvalidation_1-rmse:0.99301\n",
      "[5]\tvalidation_0-rmse:0.98904\tvalidation_1-rmse:0.98675\n",
      "[6]\tvalidation_0-rmse:0.97690\tvalidation_1-rmse:0.98001\n",
      "[7]\tvalidation_0-rmse:0.96989\tvalidation_1-rmse:0.97630\n",
      "[8]\tvalidation_0-rmse:0.96566\tvalidation_1-rmse:0.97285\n",
      "[9]\tvalidation_0-rmse:0.96152\tvalidation_1-rmse:0.97030\n"
     ]
    },
    {
     "name": "stderr",
     "output_type": "stream",
     "text": [
      "D:\\Anaconda\\lib\\site-packages\\xgboost\\data.py:112: UserWarning: Use subset (sliced data) of np.ndarray is not recommended because it will generate extra copies and increase memory consumption\n",
      "  warnings.warn(\n"
     ]
    },
    {
     "name": "stdout",
     "output_type": "stream",
     "text": [
      "[0]\tvalidation_0-rmse:1.13005\tvalidation_1-rmse:1.08260\n",
      "[1]\tvalidation_0-rmse:1.08959\tvalidation_1-rmse:1.04959\n",
      "[2]\tvalidation_0-rmse:1.05179\tvalidation_1-rmse:1.02776\n",
      "[3]\tvalidation_0-rmse:1.01699\tvalidation_1-rmse:1.00499\n",
      "[4]\tvalidation_0-rmse:0.99779\tvalidation_1-rmse:0.99313\n",
      "[5]\tvalidation_0-rmse:0.98693\tvalidation_1-rmse:0.98711\n",
      "[6]\tvalidation_0-rmse:0.97483\tvalidation_1-rmse:0.98034\n",
      "[7]\tvalidation_0-rmse:0.96852\tvalidation_1-rmse:0.97665\n",
      "[8]\tvalidation_0-rmse:0.96455\tvalidation_1-rmse:0.97488\n",
      "[9]\tvalidation_0-rmse:0.96242\tvalidation_1-rmse:0.97230\n",
      "[10]\tvalidation_0-rmse:0.95947\tvalidation_1-rmse:0.97189\n",
      "[11]\tvalidation_0-rmse:0.95753\tvalidation_1-rmse:0.97106\n",
      "[12]\tvalidation_0-rmse:0.95499\tvalidation_1-rmse:0.97082\n",
      "[13]\tvalidation_0-rmse:0.95327\tvalidation_1-rmse:0.96894\n",
      "[14]\tvalidation_0-rmse:0.95198\tvalidation_1-rmse:0.96820\n",
      "[15]\tvalidation_0-rmse:0.95093\tvalidation_1-rmse:0.96759\n",
      "[16]\tvalidation_0-rmse:0.95013\tvalidation_1-rmse:0.96771\n",
      "[17]\tvalidation_0-rmse:0.94959\tvalidation_1-rmse:0.96703\n",
      "[18]\tvalidation_0-rmse:0.94884\tvalidation_1-rmse:0.96657\n",
      "[19]\tvalidation_0-rmse:0.94793\tvalidation_1-rmse:0.96559\n",
      "[20]\tvalidation_0-rmse:0.94774\tvalidation_1-rmse:0.96583\n",
      "[21]\tvalidation_0-rmse:0.94700\tvalidation_1-rmse:0.96536\n",
      "[22]\tvalidation_0-rmse:0.94640\tvalidation_1-rmse:0.96535\n",
      "[23]\tvalidation_0-rmse:0.94597\tvalidation_1-rmse:0.96459\n",
      "[24]\tvalidation_0-rmse:0.94578\tvalidation_1-rmse:0.96418\n",
      "[25]\tvalidation_0-rmse:0.94532\tvalidation_1-rmse:0.96420\n",
      "[26]\tvalidation_0-rmse:0.94498\tvalidation_1-rmse:0.96519\n",
      "[27]\tvalidation_0-rmse:0.94476\tvalidation_1-rmse:0.96498\n",
      "[28]\tvalidation_0-rmse:0.94424\tvalidation_1-rmse:0.96505\n",
      "[29]\tvalidation_0-rmse:0.94369\tvalidation_1-rmse:0.96505\n"
     ]
    },
    {
     "name": "stderr",
     "output_type": "stream",
     "text": [
      "D:\\Anaconda\\lib\\site-packages\\xgboost\\data.py:112: UserWarning: Use subset (sliced data) of np.ndarray is not recommended because it will generate extra copies and increase memory consumption\n",
      "  warnings.warn(\n"
     ]
    },
    {
     "name": "stdout",
     "output_type": "stream",
     "text": [
      "[0]\tvalidation_0-rmse:1.13067\tvalidation_1-rmse:1.08146\n",
      "[1]\tvalidation_0-rmse:1.09024\tvalidation_1-rmse:1.04882\n",
      "[2]\tvalidation_0-rmse:1.05056\tvalidation_1-rmse:1.02632\n",
      "[3]\tvalidation_0-rmse:1.01483\tvalidation_1-rmse:1.00350\n",
      "[4]\tvalidation_0-rmse:0.99599\tvalidation_1-rmse:0.99179\n",
      "[5]\tvalidation_0-rmse:0.98191\tvalidation_1-rmse:0.98628\n",
      "[6]\tvalidation_0-rmse:0.97594\tvalidation_1-rmse:0.97983\n",
      "[7]\tvalidation_0-rmse:0.96979\tvalidation_1-rmse:0.97692\n",
      "[8]\tvalidation_0-rmse:0.96366\tvalidation_1-rmse:0.97361\n",
      "[9]\tvalidation_0-rmse:0.96128\tvalidation_1-rmse:0.97108\n",
      "[10]\tvalidation_0-rmse:0.96062\tvalidation_1-rmse:0.97086\n",
      "[11]\tvalidation_0-rmse:0.95859\tvalidation_1-rmse:0.96956\n",
      "[12]\tvalidation_0-rmse:0.95560\tvalidation_1-rmse:0.96901\n",
      "[13]\tvalidation_0-rmse:0.95400\tvalidation_1-rmse:0.96727\n",
      "[14]\tvalidation_0-rmse:0.95240\tvalidation_1-rmse:0.96781\n",
      "[15]\tvalidation_0-rmse:0.95132\tvalidation_1-rmse:0.96638\n",
      "[16]\tvalidation_0-rmse:0.95071\tvalidation_1-rmse:0.96626\n",
      "[17]\tvalidation_0-rmse:0.95003\tvalidation_1-rmse:0.96615\n",
      "[18]\tvalidation_0-rmse:0.94919\tvalidation_1-rmse:0.96606\n",
      "[19]\tvalidation_0-rmse:0.94848\tvalidation_1-rmse:0.96520\n",
      "[20]\tvalidation_0-rmse:0.94802\tvalidation_1-rmse:0.96520\n",
      "[21]\tvalidation_0-rmse:0.94743\tvalidation_1-rmse:0.96469\n",
      "[22]\tvalidation_0-rmse:0.94701\tvalidation_1-rmse:0.96458\n",
      "[23]\tvalidation_0-rmse:0.94644\tvalidation_1-rmse:0.96393\n",
      "[24]\tvalidation_0-rmse:0.94613\tvalidation_1-rmse:0.96362\n",
      "[25]\tvalidation_0-rmse:0.94589\tvalidation_1-rmse:0.96326\n",
      "[26]\tvalidation_0-rmse:0.94559\tvalidation_1-rmse:0.96404\n",
      "[27]\tvalidation_0-rmse:0.94551\tvalidation_1-rmse:0.96416\n",
      "[28]\tvalidation_0-rmse:0.94518\tvalidation_1-rmse:0.96407\n",
      "[29]\tvalidation_0-rmse:0.94485\tvalidation_1-rmse:0.96411\n"
     ]
    },
    {
     "name": "stderr",
     "output_type": "stream",
     "text": [
      "D:\\Anaconda\\lib\\site-packages\\xgboost\\data.py:112: UserWarning: Use subset (sliced data) of np.ndarray is not recommended because it will generate extra copies and increase memory consumption\n",
      "  warnings.warn(\n"
     ]
    },
    {
     "name": "stdout",
     "output_type": "stream",
     "text": [
      "[0]\tvalidation_0-rmse:1.13132\tvalidation_1-rmse:1.08182\n",
      "[1]\tvalidation_0-rmse:1.09114\tvalidation_1-rmse:1.04859\n",
      "[2]\tvalidation_0-rmse:1.05374\tvalidation_1-rmse:1.02763\n",
      "[3]\tvalidation_0-rmse:1.01824\tvalidation_1-rmse:1.00511\n",
      "[4]\tvalidation_0-rmse:1.00014\tvalidation_1-rmse:0.99406\n",
      "[5]\tvalidation_0-rmse:0.98493\tvalidation_1-rmse:0.98668\n",
      "[6]\tvalidation_0-rmse:0.97661\tvalidation_1-rmse:0.97999\n",
      "[7]\tvalidation_0-rmse:0.97226\tvalidation_1-rmse:0.97597\n",
      "[8]\tvalidation_0-rmse:0.96545\tvalidation_1-rmse:0.97386\n",
      "[9]\tvalidation_0-rmse:0.96345\tvalidation_1-rmse:0.97098\n",
      "[10]\tvalidation_0-rmse:0.96181\tvalidation_1-rmse:0.97012\n",
      "[11]\tvalidation_0-rmse:0.95971\tvalidation_1-rmse:0.96865\n",
      "[12]\tvalidation_0-rmse:0.95695\tvalidation_1-rmse:0.96750\n",
      "[13]\tvalidation_0-rmse:0.95532\tvalidation_1-rmse:0.96575\n",
      "[14]\tvalidation_0-rmse:0.95348\tvalidation_1-rmse:0.96554\n",
      "[15]\tvalidation_0-rmse:0.95239\tvalidation_1-rmse:0.96546\n",
      "[16]\tvalidation_0-rmse:0.95121\tvalidation_1-rmse:0.96510\n",
      "[17]\tvalidation_0-rmse:0.95057\tvalidation_1-rmse:0.96502\n",
      "[18]\tvalidation_0-rmse:0.94996\tvalidation_1-rmse:0.96451\n",
      "[19]\tvalidation_0-rmse:0.94894\tvalidation_1-rmse:0.96363\n",
      "[20]\tvalidation_0-rmse:0.94861\tvalidation_1-rmse:0.96360\n",
      "[21]\tvalidation_0-rmse:0.94789\tvalidation_1-rmse:0.96327\n",
      "[22]\tvalidation_0-rmse:0.94710\tvalidation_1-rmse:0.96293\n",
      "[23]\tvalidation_0-rmse:0.94676\tvalidation_1-rmse:0.96225\n",
      "[24]\tvalidation_0-rmse:0.94635\tvalidation_1-rmse:0.96184\n",
      "[25]\tvalidation_0-rmse:0.94596\tvalidation_1-rmse:0.96226\n",
      "[26]\tvalidation_0-rmse:0.94590\tvalidation_1-rmse:0.96240\n",
      "[27]\tvalidation_0-rmse:0.94573\tvalidation_1-rmse:0.96171\n",
      "[28]\tvalidation_0-rmse:0.94551\tvalidation_1-rmse:0.96171\n",
      "[29]\tvalidation_0-rmse:0.94512\tvalidation_1-rmse:0.96155\n",
      "[30]\tvalidation_0-rmse:0.94479\tvalidation_1-rmse:0.96149\n",
      "[31]\tvalidation_0-rmse:0.94452\tvalidation_1-rmse:0.96175\n",
      "[32]\tvalidation_0-rmse:0.94426\tvalidation_1-rmse:0.96195\n",
      "[33]\tvalidation_0-rmse:0.94398\tvalidation_1-rmse:0.96189\n",
      "[34]\tvalidation_0-rmse:0.94376\tvalidation_1-rmse:0.96208\n",
      "[35]\tvalidation_0-rmse:0.94348\tvalidation_1-rmse:0.96207\n"
     ]
    },
    {
     "name": "stderr",
     "output_type": "stream",
     "text": [
      "D:\\Anaconda\\lib\\site-packages\\xgboost\\data.py:112: UserWarning: Use subset (sliced data) of np.ndarray is not recommended because it will generate extra copies and increase memory consumption\n",
      "  warnings.warn(\n"
     ]
    },
    {
     "name": "stdout",
     "output_type": "stream",
     "text": [
      "[0]\tvalidation_0-rmse:1.12986\tvalidation_1-rmse:1.08152\n",
      "[1]\tvalidation_0-rmse:1.08925\tvalidation_1-rmse:1.04820\n",
      "[2]\tvalidation_0-rmse:1.05242\tvalidation_1-rmse:1.02676\n",
      "[3]\tvalidation_0-rmse:1.01707\tvalidation_1-rmse:1.00415\n",
      "[4]\tvalidation_0-rmse:0.99850\tvalidation_1-rmse:0.99241\n",
      "[5]\tvalidation_0-rmse:0.98659\tvalidation_1-rmse:0.98632\n",
      "[6]\tvalidation_0-rmse:0.97554\tvalidation_1-rmse:0.97956\n",
      "[7]\tvalidation_0-rmse:0.96813\tvalidation_1-rmse:0.97598\n",
      "[8]\tvalidation_0-rmse:0.96462\tvalidation_1-rmse:0.97406\n",
      "[9]\tvalidation_0-rmse:0.96042\tvalidation_1-rmse:0.97157\n",
      "[10]\tvalidation_0-rmse:0.95946\tvalidation_1-rmse:0.97049\n",
      "[11]\tvalidation_0-rmse:0.95745\tvalidation_1-rmse:0.96963\n",
      "[12]\tvalidation_0-rmse:0.95484\tvalidation_1-rmse:0.96913\n",
      "[13]\tvalidation_0-rmse:0.95348\tvalidation_1-rmse:0.96735\n",
      "[14]\tvalidation_0-rmse:0.95190\tvalidation_1-rmse:0.96739\n",
      "[15]\tvalidation_0-rmse:0.95087\tvalidation_1-rmse:0.96703\n",
      "[16]\tvalidation_0-rmse:0.95030\tvalidation_1-rmse:0.96723\n",
      "[17]\tvalidation_0-rmse:0.94983\tvalidation_1-rmse:0.96743\n",
      "[18]\tvalidation_0-rmse:0.94947\tvalidation_1-rmse:0.96765\n",
      "[19]\tvalidation_0-rmse:0.94856\tvalidation_1-rmse:0.96674\n",
      "[20]\tvalidation_0-rmse:0.94814\tvalidation_1-rmse:0.96675\n",
      "[21]\tvalidation_0-rmse:0.94753\tvalidation_1-rmse:0.96628\n",
      "[22]\tvalidation_0-rmse:0.94705\tvalidation_1-rmse:0.96609\n",
      "[23]\tvalidation_0-rmse:0.94658\tvalidation_1-rmse:0.96640\n",
      "[24]\tvalidation_0-rmse:0.94629\tvalidation_1-rmse:0.96607\n",
      "[25]\tvalidation_0-rmse:0.94595\tvalidation_1-rmse:0.96595\n",
      "[26]\tvalidation_0-rmse:0.94575\tvalidation_1-rmse:0.96547\n",
      "[27]\tvalidation_0-rmse:0.94538\tvalidation_1-rmse:0.96502\n",
      "[28]\tvalidation_0-rmse:0.94517\tvalidation_1-rmse:0.96503\n",
      "[29]\tvalidation_0-rmse:0.94483\tvalidation_1-rmse:0.96505\n",
      "[30]\tvalidation_0-rmse:0.94456\tvalidation_1-rmse:0.96457\n",
      "[31]\tvalidation_0-rmse:0.94440\tvalidation_1-rmse:0.96482\n",
      "[32]\tvalidation_0-rmse:0.94411\tvalidation_1-rmse:0.96526\n",
      "[33]\tvalidation_0-rmse:0.94390\tvalidation_1-rmse:0.96488\n",
      "[34]\tvalidation_0-rmse:0.94367\tvalidation_1-rmse:0.96440\n",
      "[35]\tvalidation_0-rmse:0.94355\tvalidation_1-rmse:0.96407\n",
      "[36]\tvalidation_0-rmse:0.94328\tvalidation_1-rmse:0.96402\n",
      "[37]\tvalidation_0-rmse:0.94312\tvalidation_1-rmse:0.96404\n",
      "[38]\tvalidation_0-rmse:0.94299\tvalidation_1-rmse:0.96414\n",
      "[39]\tvalidation_0-rmse:0.94289\tvalidation_1-rmse:0.96383\n",
      "[40]\tvalidation_0-rmse:0.94275\tvalidation_1-rmse:0.96409\n",
      "[41]\tvalidation_0-rmse:0.94262\tvalidation_1-rmse:0.96371\n",
      "[42]\tvalidation_0-rmse:0.94219\tvalidation_1-rmse:0.96345\n",
      "[43]\tvalidation_0-rmse:0.94182\tvalidation_1-rmse:0.96331\n",
      "[44]\tvalidation_0-rmse:0.94160\tvalidation_1-rmse:0.96325\n",
      "[45]\tvalidation_0-rmse:0.94137\tvalidation_1-rmse:0.96255\n",
      "[46]\tvalidation_0-rmse:0.94119\tvalidation_1-rmse:0.96245\n",
      "[47]\tvalidation_0-rmse:0.94095\tvalidation_1-rmse:0.96224\n",
      "[48]\tvalidation_0-rmse:0.94066\tvalidation_1-rmse:0.96219\n",
      "[49]\tvalidation_0-rmse:0.94045\tvalidation_1-rmse:0.96242\n",
      "[50]\tvalidation_0-rmse:0.94012\tvalidation_1-rmse:0.96260\n",
      "[51]\tvalidation_0-rmse:0.93992\tvalidation_1-rmse:0.96218\n",
      "[52]\tvalidation_0-rmse:0.93969\tvalidation_1-rmse:0.96171\n",
      "[53]\tvalidation_0-rmse:0.93958\tvalidation_1-rmse:0.96156\n",
      "[54]\tvalidation_0-rmse:0.93949\tvalidation_1-rmse:0.96185\n",
      "[55]\tvalidation_0-rmse:0.93934\tvalidation_1-rmse:0.96225\n",
      "[56]\tvalidation_0-rmse:0.93922\tvalidation_1-rmse:0.96187\n",
      "[57]\tvalidation_0-rmse:0.93911\tvalidation_1-rmse:0.96192\n"
     ]
    },
    {
     "name": "stderr",
     "output_type": "stream",
     "text": [
      "D:\\Anaconda\\lib\\site-packages\\xgboost\\data.py:112: UserWarning: Use subset (sliced data) of np.ndarray is not recommended because it will generate extra copies and increase memory consumption\n",
      "  warnings.warn(\n"
     ]
    },
    {
     "name": "stdout",
     "output_type": "stream",
     "text": [
      "[0]\tvalidation_0-rmse:1.13085\tvalidation_1-rmse:1.08213\n",
      "[1]\tvalidation_0-rmse:1.09060\tvalidation_1-rmse:1.04888\n",
      "[2]\tvalidation_0-rmse:1.05499\tvalidation_1-rmse:1.02737\n",
      "[3]\tvalidation_0-rmse:1.01720\tvalidation_1-rmse:1.00484\n",
      "[4]\tvalidation_0-rmse:0.99900\tvalidation_1-rmse:0.99301\n",
      "[5]\tvalidation_0-rmse:0.98904\tvalidation_1-rmse:0.98675\n",
      "[6]\tvalidation_0-rmse:0.97690\tvalidation_1-rmse:0.98001\n",
      "[7]\tvalidation_0-rmse:0.96989\tvalidation_1-rmse:0.97630\n",
      "[8]\tvalidation_0-rmse:0.96566\tvalidation_1-rmse:0.97285\n",
      "[9]\tvalidation_0-rmse:0.96152\tvalidation_1-rmse:0.97030\n",
      "[10]\tvalidation_0-rmse:0.96016\tvalidation_1-rmse:0.96899\n",
      "[11]\tvalidation_0-rmse:0.95796\tvalidation_1-rmse:0.96790\n",
      "[12]\tvalidation_0-rmse:0.95523\tvalidation_1-rmse:0.96733\n",
      "[13]\tvalidation_0-rmse:0.95380\tvalidation_1-rmse:0.96645\n",
      "[14]\tvalidation_0-rmse:0.95226\tvalidation_1-rmse:0.96634\n",
      "[15]\tvalidation_0-rmse:0.95106\tvalidation_1-rmse:0.96498\n",
      "[16]\tvalidation_0-rmse:0.95039\tvalidation_1-rmse:0.96483\n",
      "[17]\tvalidation_0-rmse:0.94992\tvalidation_1-rmse:0.96460\n",
      "[18]\tvalidation_0-rmse:0.94933\tvalidation_1-rmse:0.96476\n",
      "[19]\tvalidation_0-rmse:0.94841\tvalidation_1-rmse:0.96383\n",
      "[20]\tvalidation_0-rmse:0.94805\tvalidation_1-rmse:0.96358\n",
      "[21]\tvalidation_0-rmse:0.94748\tvalidation_1-rmse:0.96256\n",
      "[22]\tvalidation_0-rmse:0.94707\tvalidation_1-rmse:0.96233\n",
      "[23]\tvalidation_0-rmse:0.94654\tvalidation_1-rmse:0.96266\n",
      "[24]\tvalidation_0-rmse:0.94622\tvalidation_1-rmse:0.96262\n",
      "[25]\tvalidation_0-rmse:0.94596\tvalidation_1-rmse:0.96238\n",
      "[26]\tvalidation_0-rmse:0.94579\tvalidation_1-rmse:0.96211\n",
      "[27]\tvalidation_0-rmse:0.94541\tvalidation_1-rmse:0.96179\n",
      "[28]\tvalidation_0-rmse:0.94506\tvalidation_1-rmse:0.96179\n",
      "[29]\tvalidation_0-rmse:0.94491\tvalidation_1-rmse:0.96149\n",
      "[30]\tvalidation_0-rmse:0.94476\tvalidation_1-rmse:0.96149\n",
      "[31]\tvalidation_0-rmse:0.94461\tvalidation_1-rmse:0.96154\n",
      "[32]\tvalidation_0-rmse:0.94425\tvalidation_1-rmse:0.96166\n",
      "[33]\tvalidation_0-rmse:0.94402\tvalidation_1-rmse:0.96174\n"
     ]
    },
    {
     "name": "stderr",
     "output_type": "stream",
     "text": [
      "D:\\Anaconda\\lib\\site-packages\\xgboost\\data.py:112: UserWarning: Use subset (sliced data) of np.ndarray is not recommended because it will generate extra copies and increase memory consumption\n",
      "  warnings.warn(\n"
     ]
    },
    {
     "name": "stdout",
     "output_type": "stream",
     "text": [
      "[0]\tvalidation_0-rmse:1.13005\tvalidation_1-rmse:1.08260\n"
     ]
    },
    {
     "name": "stderr",
     "output_type": "stream",
     "text": [
      "D:\\Anaconda\\lib\\site-packages\\xgboost\\data.py:112: UserWarning: Use subset (sliced data) of np.ndarray is not recommended because it will generate extra copies and increase memory consumption\n",
      "  warnings.warn(\n"
     ]
    },
    {
     "name": "stdout",
     "output_type": "stream",
     "text": [
      "[0]\tvalidation_0-rmse:1.13067\tvalidation_1-rmse:1.08146\n"
     ]
    },
    {
     "name": "stderr",
     "output_type": "stream",
     "text": [
      "D:\\Anaconda\\lib\\site-packages\\xgboost\\data.py:112: UserWarning: Use subset (sliced data) of np.ndarray is not recommended because it will generate extra copies and increase memory consumption\n",
      "  warnings.warn(\n"
     ]
    },
    {
     "name": "stdout",
     "output_type": "stream",
     "text": [
      "[0]\tvalidation_0-rmse:1.13132\tvalidation_1-rmse:1.08182\n"
     ]
    },
    {
     "name": "stderr",
     "output_type": "stream",
     "text": [
      "D:\\Anaconda\\lib\\site-packages\\xgboost\\data.py:112: UserWarning: Use subset (sliced data) of np.ndarray is not recommended because it will generate extra copies and increase memory consumption\n",
      "  warnings.warn(\n"
     ]
    },
    {
     "name": "stdout",
     "output_type": "stream",
     "text": [
      "[0]\tvalidation_0-rmse:1.12986\tvalidation_1-rmse:1.08152\n"
     ]
    },
    {
     "name": "stderr",
     "output_type": "stream",
     "text": [
      "D:\\Anaconda\\lib\\site-packages\\xgboost\\data.py:112: UserWarning: Use subset (sliced data) of np.ndarray is not recommended because it will generate extra copies and increase memory consumption\n",
      "  warnings.warn(\n"
     ]
    },
    {
     "name": "stdout",
     "output_type": "stream",
     "text": [
      "[0]\tvalidation_0-rmse:1.13085\tvalidation_1-rmse:1.08213\n"
     ]
    },
    {
     "name": "stderr",
     "output_type": "stream",
     "text": [
      "D:\\Anaconda\\lib\\site-packages\\xgboost\\data.py:112: UserWarning: Use subset (sliced data) of np.ndarray is not recommended because it will generate extra copies and increase memory consumption\n",
      "  warnings.warn(\n"
     ]
    },
    {
     "name": "stdout",
     "output_type": "stream",
     "text": [
      "[0]\tvalidation_0-rmse:1.13005\tvalidation_1-rmse:1.08260\n",
      "[1]\tvalidation_0-rmse:1.08959\tvalidation_1-rmse:1.04959\n",
      "[2]\tvalidation_0-rmse:1.05179\tvalidation_1-rmse:1.02776\n",
      "[3]\tvalidation_0-rmse:1.01699\tvalidation_1-rmse:1.00499\n",
      "[4]\tvalidation_0-rmse:0.99779\tvalidation_1-rmse:0.99313\n",
      "[5]\tvalidation_0-rmse:0.98693\tvalidation_1-rmse:0.98711\n",
      "[6]\tvalidation_0-rmse:0.97483\tvalidation_1-rmse:0.98034\n",
      "[7]\tvalidation_0-rmse:0.96852\tvalidation_1-rmse:0.97665\n",
      "[8]\tvalidation_0-rmse:0.96455\tvalidation_1-rmse:0.97488\n",
      "[9]\tvalidation_0-rmse:0.96242\tvalidation_1-rmse:0.97230\n"
     ]
    },
    {
     "name": "stderr",
     "output_type": "stream",
     "text": [
      "D:\\Anaconda\\lib\\site-packages\\xgboost\\data.py:112: UserWarning: Use subset (sliced data) of np.ndarray is not recommended because it will generate extra copies and increase memory consumption\n",
      "  warnings.warn(\n"
     ]
    },
    {
     "name": "stdout",
     "output_type": "stream",
     "text": [
      "[0]\tvalidation_0-rmse:1.13067\tvalidation_1-rmse:1.08146\n",
      "[1]\tvalidation_0-rmse:1.09024\tvalidation_1-rmse:1.04882\n",
      "[2]\tvalidation_0-rmse:1.05056\tvalidation_1-rmse:1.02632\n",
      "[3]\tvalidation_0-rmse:1.01483\tvalidation_1-rmse:1.00350\n",
      "[4]\tvalidation_0-rmse:0.99599\tvalidation_1-rmse:0.99179\n",
      "[5]\tvalidation_0-rmse:0.98191\tvalidation_1-rmse:0.98628\n",
      "[6]\tvalidation_0-rmse:0.97594\tvalidation_1-rmse:0.97983\n",
      "[7]\tvalidation_0-rmse:0.96979\tvalidation_1-rmse:0.97692\n",
      "[8]\tvalidation_0-rmse:0.96366\tvalidation_1-rmse:0.97361\n",
      "[9]\tvalidation_0-rmse:0.96128\tvalidation_1-rmse:0.97108\n"
     ]
    },
    {
     "name": "stderr",
     "output_type": "stream",
     "text": [
      "D:\\Anaconda\\lib\\site-packages\\xgboost\\data.py:112: UserWarning: Use subset (sliced data) of np.ndarray is not recommended because it will generate extra copies and increase memory consumption\n",
      "  warnings.warn(\n"
     ]
    },
    {
     "name": "stdout",
     "output_type": "stream",
     "text": [
      "[0]\tvalidation_0-rmse:1.13132\tvalidation_1-rmse:1.08182\n",
      "[1]\tvalidation_0-rmse:1.09114\tvalidation_1-rmse:1.04859\n",
      "[2]\tvalidation_0-rmse:1.05374\tvalidation_1-rmse:1.02763\n",
      "[3]\tvalidation_0-rmse:1.01824\tvalidation_1-rmse:1.00511\n",
      "[4]\tvalidation_0-rmse:1.00014\tvalidation_1-rmse:0.99406\n",
      "[5]\tvalidation_0-rmse:0.98493\tvalidation_1-rmse:0.98668\n",
      "[6]\tvalidation_0-rmse:0.97661\tvalidation_1-rmse:0.97999\n",
      "[7]\tvalidation_0-rmse:0.97226\tvalidation_1-rmse:0.97597\n",
      "[8]\tvalidation_0-rmse:0.96545\tvalidation_1-rmse:0.97386\n",
      "[9]\tvalidation_0-rmse:0.96345\tvalidation_1-rmse:0.97098\n"
     ]
    },
    {
     "name": "stderr",
     "output_type": "stream",
     "text": [
      "D:\\Anaconda\\lib\\site-packages\\xgboost\\data.py:112: UserWarning: Use subset (sliced data) of np.ndarray is not recommended because it will generate extra copies and increase memory consumption\n",
      "  warnings.warn(\n"
     ]
    },
    {
     "name": "stdout",
     "output_type": "stream",
     "text": [
      "[0]\tvalidation_0-rmse:1.12986\tvalidation_1-rmse:1.08152\n",
      "[1]\tvalidation_0-rmse:1.08925\tvalidation_1-rmse:1.04820\n",
      "[2]\tvalidation_0-rmse:1.05242\tvalidation_1-rmse:1.02676\n",
      "[3]\tvalidation_0-rmse:1.01707\tvalidation_1-rmse:1.00415\n",
      "[4]\tvalidation_0-rmse:0.99850\tvalidation_1-rmse:0.99241\n",
      "[5]\tvalidation_0-rmse:0.98659\tvalidation_1-rmse:0.98632\n",
      "[6]\tvalidation_0-rmse:0.97554\tvalidation_1-rmse:0.97956\n",
      "[7]\tvalidation_0-rmse:0.96813\tvalidation_1-rmse:0.97598\n",
      "[8]\tvalidation_0-rmse:0.96462\tvalidation_1-rmse:0.97406\n",
      "[9]\tvalidation_0-rmse:0.96042\tvalidation_1-rmse:0.97157\n"
     ]
    },
    {
     "name": "stderr",
     "output_type": "stream",
     "text": [
      "D:\\Anaconda\\lib\\site-packages\\xgboost\\data.py:112: UserWarning: Use subset (sliced data) of np.ndarray is not recommended because it will generate extra copies and increase memory consumption\n",
      "  warnings.warn(\n"
     ]
    },
    {
     "name": "stdout",
     "output_type": "stream",
     "text": [
      "[0]\tvalidation_0-rmse:1.13085\tvalidation_1-rmse:1.08213\n",
      "[1]\tvalidation_0-rmse:1.09060\tvalidation_1-rmse:1.04888\n",
      "[2]\tvalidation_0-rmse:1.05499\tvalidation_1-rmse:1.02737\n",
      "[3]\tvalidation_0-rmse:1.01720\tvalidation_1-rmse:1.00484\n",
      "[4]\tvalidation_0-rmse:0.99900\tvalidation_1-rmse:0.99301\n",
      "[5]\tvalidation_0-rmse:0.98904\tvalidation_1-rmse:0.98675\n",
      "[6]\tvalidation_0-rmse:0.97690\tvalidation_1-rmse:0.98001\n",
      "[7]\tvalidation_0-rmse:0.96989\tvalidation_1-rmse:0.97630\n",
      "[8]\tvalidation_0-rmse:0.96566\tvalidation_1-rmse:0.97285\n",
      "[9]\tvalidation_0-rmse:0.96152\tvalidation_1-rmse:0.97030\n"
     ]
    },
    {
     "name": "stderr",
     "output_type": "stream",
     "text": [
      "D:\\Anaconda\\lib\\site-packages\\xgboost\\data.py:112: UserWarning: Use subset (sliced data) of np.ndarray is not recommended because it will generate extra copies and increase memory consumption\n",
      "  warnings.warn(\n"
     ]
    },
    {
     "name": "stdout",
     "output_type": "stream",
     "text": [
      "[0]\tvalidation_0-rmse:1.13005\tvalidation_1-rmse:1.08260\n",
      "[1]\tvalidation_0-rmse:1.08959\tvalidation_1-rmse:1.04959\n",
      "[2]\tvalidation_0-rmse:1.05179\tvalidation_1-rmse:1.02776\n",
      "[3]\tvalidation_0-rmse:1.01699\tvalidation_1-rmse:1.00499\n",
      "[4]\tvalidation_0-rmse:0.99779\tvalidation_1-rmse:0.99313\n",
      "[5]\tvalidation_0-rmse:0.98693\tvalidation_1-rmse:0.98711\n",
      "[6]\tvalidation_0-rmse:0.97483\tvalidation_1-rmse:0.98034\n",
      "[7]\tvalidation_0-rmse:0.96852\tvalidation_1-rmse:0.97665\n",
      "[8]\tvalidation_0-rmse:0.96455\tvalidation_1-rmse:0.97488\n",
      "[9]\tvalidation_0-rmse:0.96242\tvalidation_1-rmse:0.97230\n",
      "[10]\tvalidation_0-rmse:0.95947\tvalidation_1-rmse:0.97189\n",
      "[11]\tvalidation_0-rmse:0.95753\tvalidation_1-rmse:0.97106\n",
      "[12]\tvalidation_0-rmse:0.95499\tvalidation_1-rmse:0.97082\n",
      "[13]\tvalidation_0-rmse:0.95327\tvalidation_1-rmse:0.96894\n",
      "[14]\tvalidation_0-rmse:0.95198\tvalidation_1-rmse:0.96820\n",
      "[15]\tvalidation_0-rmse:0.95093\tvalidation_1-rmse:0.96759\n",
      "[16]\tvalidation_0-rmse:0.95013\tvalidation_1-rmse:0.96771\n",
      "[17]\tvalidation_0-rmse:0.94959\tvalidation_1-rmse:0.96703\n",
      "[18]\tvalidation_0-rmse:0.94884\tvalidation_1-rmse:0.96657\n",
      "[19]\tvalidation_0-rmse:0.94793\tvalidation_1-rmse:0.96559\n",
      "[20]\tvalidation_0-rmse:0.94774\tvalidation_1-rmse:0.96583\n",
      "[21]\tvalidation_0-rmse:0.94700\tvalidation_1-rmse:0.96536\n",
      "[22]\tvalidation_0-rmse:0.94640\tvalidation_1-rmse:0.96535\n",
      "[23]\tvalidation_0-rmse:0.94597\tvalidation_1-rmse:0.96459\n",
      "[24]\tvalidation_0-rmse:0.94578\tvalidation_1-rmse:0.96418\n",
      "[25]\tvalidation_0-rmse:0.94532\tvalidation_1-rmse:0.96420\n",
      "[26]\tvalidation_0-rmse:0.94498\tvalidation_1-rmse:0.96519\n",
      "[27]\tvalidation_0-rmse:0.94476\tvalidation_1-rmse:0.96498\n",
      "[28]\tvalidation_0-rmse:0.94424\tvalidation_1-rmse:0.96505\n"
     ]
    },
    {
     "name": "stderr",
     "output_type": "stream",
     "text": [
      "D:\\Anaconda\\lib\\site-packages\\xgboost\\data.py:112: UserWarning: Use subset (sliced data) of np.ndarray is not recommended because it will generate extra copies and increase memory consumption\n",
      "  warnings.warn(\n"
     ]
    },
    {
     "name": "stdout",
     "output_type": "stream",
     "text": [
      "[0]\tvalidation_0-rmse:1.13067\tvalidation_1-rmse:1.08146\n",
      "[1]\tvalidation_0-rmse:1.09024\tvalidation_1-rmse:1.04882\n",
      "[2]\tvalidation_0-rmse:1.05056\tvalidation_1-rmse:1.02632\n",
      "[3]\tvalidation_0-rmse:1.01483\tvalidation_1-rmse:1.00350\n",
      "[4]\tvalidation_0-rmse:0.99599\tvalidation_1-rmse:0.99179\n",
      "[5]\tvalidation_0-rmse:0.98191\tvalidation_1-rmse:0.98628\n",
      "[6]\tvalidation_0-rmse:0.97594\tvalidation_1-rmse:0.97983\n",
      "[7]\tvalidation_0-rmse:0.96979\tvalidation_1-rmse:0.97692\n",
      "[8]\tvalidation_0-rmse:0.96366\tvalidation_1-rmse:0.97361\n",
      "[9]\tvalidation_0-rmse:0.96128\tvalidation_1-rmse:0.97108\n",
      "[10]\tvalidation_0-rmse:0.96062\tvalidation_1-rmse:0.97086\n",
      "[11]\tvalidation_0-rmse:0.95859\tvalidation_1-rmse:0.96956\n",
      "[12]\tvalidation_0-rmse:0.95560\tvalidation_1-rmse:0.96901\n",
      "[13]\tvalidation_0-rmse:0.95400\tvalidation_1-rmse:0.96727\n",
      "[14]\tvalidation_0-rmse:0.95240\tvalidation_1-rmse:0.96781\n",
      "[15]\tvalidation_0-rmse:0.95132\tvalidation_1-rmse:0.96638\n",
      "[16]\tvalidation_0-rmse:0.95071\tvalidation_1-rmse:0.96626\n",
      "[17]\tvalidation_0-rmse:0.95003\tvalidation_1-rmse:0.96615\n",
      "[18]\tvalidation_0-rmse:0.94919\tvalidation_1-rmse:0.96606\n",
      "[19]\tvalidation_0-rmse:0.94848\tvalidation_1-rmse:0.96520\n",
      "[20]\tvalidation_0-rmse:0.94802\tvalidation_1-rmse:0.96520\n",
      "[21]\tvalidation_0-rmse:0.94743\tvalidation_1-rmse:0.96469\n",
      "[22]\tvalidation_0-rmse:0.94701\tvalidation_1-rmse:0.96458\n",
      "[23]\tvalidation_0-rmse:0.94644\tvalidation_1-rmse:0.96393\n",
      "[24]\tvalidation_0-rmse:0.94613\tvalidation_1-rmse:0.96362\n",
      "[25]\tvalidation_0-rmse:0.94589\tvalidation_1-rmse:0.96326\n",
      "[26]\tvalidation_0-rmse:0.94559\tvalidation_1-rmse:0.96404\n",
      "[27]\tvalidation_0-rmse:0.94551\tvalidation_1-rmse:0.96416\n",
      "[28]\tvalidation_0-rmse:0.94518\tvalidation_1-rmse:0.96407\n",
      "[29]\tvalidation_0-rmse:0.94485\tvalidation_1-rmse:0.96411\n"
     ]
    },
    {
     "name": "stderr",
     "output_type": "stream",
     "text": [
      "D:\\Anaconda\\lib\\site-packages\\xgboost\\data.py:112: UserWarning: Use subset (sliced data) of np.ndarray is not recommended because it will generate extra copies and increase memory consumption\n",
      "  warnings.warn(\n"
     ]
    },
    {
     "name": "stdout",
     "output_type": "stream",
     "text": [
      "[0]\tvalidation_0-rmse:1.13132\tvalidation_1-rmse:1.08182\n",
      "[1]\tvalidation_0-rmse:1.09114\tvalidation_1-rmse:1.04859\n",
      "[2]\tvalidation_0-rmse:1.05374\tvalidation_1-rmse:1.02763\n",
      "[3]\tvalidation_0-rmse:1.01824\tvalidation_1-rmse:1.00511\n",
      "[4]\tvalidation_0-rmse:1.00014\tvalidation_1-rmse:0.99406\n",
      "[5]\tvalidation_0-rmse:0.98493\tvalidation_1-rmse:0.98668\n",
      "[6]\tvalidation_0-rmse:0.97661\tvalidation_1-rmse:0.97999\n",
      "[7]\tvalidation_0-rmse:0.97226\tvalidation_1-rmse:0.97597\n",
      "[8]\tvalidation_0-rmse:0.96545\tvalidation_1-rmse:0.97386\n",
      "[9]\tvalidation_0-rmse:0.96345\tvalidation_1-rmse:0.97098\n",
      "[10]\tvalidation_0-rmse:0.96181\tvalidation_1-rmse:0.97012\n",
      "[11]\tvalidation_0-rmse:0.95971\tvalidation_1-rmse:0.96865\n",
      "[12]\tvalidation_0-rmse:0.95695\tvalidation_1-rmse:0.96750\n",
      "[13]\tvalidation_0-rmse:0.95532\tvalidation_1-rmse:0.96575\n",
      "[14]\tvalidation_0-rmse:0.95348\tvalidation_1-rmse:0.96554\n",
      "[15]\tvalidation_0-rmse:0.95239\tvalidation_1-rmse:0.96546\n",
      "[16]\tvalidation_0-rmse:0.95121\tvalidation_1-rmse:0.96510\n",
      "[17]\tvalidation_0-rmse:0.95057\tvalidation_1-rmse:0.96502\n",
      "[18]\tvalidation_0-rmse:0.94996\tvalidation_1-rmse:0.96451\n",
      "[19]\tvalidation_0-rmse:0.94894\tvalidation_1-rmse:0.96363\n",
      "[20]\tvalidation_0-rmse:0.94861\tvalidation_1-rmse:0.96360\n",
      "[21]\tvalidation_0-rmse:0.94789\tvalidation_1-rmse:0.96327\n",
      "[22]\tvalidation_0-rmse:0.94710\tvalidation_1-rmse:0.96293\n",
      "[23]\tvalidation_0-rmse:0.94676\tvalidation_1-rmse:0.96225\n",
      "[24]\tvalidation_0-rmse:0.94635\tvalidation_1-rmse:0.96184\n",
      "[25]\tvalidation_0-rmse:0.94596\tvalidation_1-rmse:0.96226\n",
      "[26]\tvalidation_0-rmse:0.94590\tvalidation_1-rmse:0.96240\n",
      "[27]\tvalidation_0-rmse:0.94573\tvalidation_1-rmse:0.96171\n",
      "[28]\tvalidation_0-rmse:0.94551\tvalidation_1-rmse:0.96171\n",
      "[29]\tvalidation_0-rmse:0.94512\tvalidation_1-rmse:0.96155\n",
      "[30]\tvalidation_0-rmse:0.94479\tvalidation_1-rmse:0.96149\n",
      "[31]\tvalidation_0-rmse:0.94452\tvalidation_1-rmse:0.96175\n",
      "[32]\tvalidation_0-rmse:0.94426\tvalidation_1-rmse:0.96195\n",
      "[33]\tvalidation_0-rmse:0.94398\tvalidation_1-rmse:0.96189\n",
      "[34]\tvalidation_0-rmse:0.94376\tvalidation_1-rmse:0.96208\n"
     ]
    },
    {
     "name": "stderr",
     "output_type": "stream",
     "text": [
      "D:\\Anaconda\\lib\\site-packages\\xgboost\\data.py:112: UserWarning: Use subset (sliced data) of np.ndarray is not recommended because it will generate extra copies and increase memory consumption\n",
      "  warnings.warn(\n"
     ]
    },
    {
     "name": "stdout",
     "output_type": "stream",
     "text": [
      "[0]\tvalidation_0-rmse:1.12986\tvalidation_1-rmse:1.08152\n",
      "[1]\tvalidation_0-rmse:1.08925\tvalidation_1-rmse:1.04820\n",
      "[2]\tvalidation_0-rmse:1.05242\tvalidation_1-rmse:1.02676\n",
      "[3]\tvalidation_0-rmse:1.01707\tvalidation_1-rmse:1.00415\n",
      "[4]\tvalidation_0-rmse:0.99850\tvalidation_1-rmse:0.99241\n",
      "[5]\tvalidation_0-rmse:0.98659\tvalidation_1-rmse:0.98632\n",
      "[6]\tvalidation_0-rmse:0.97554\tvalidation_1-rmse:0.97956\n",
      "[7]\tvalidation_0-rmse:0.96813\tvalidation_1-rmse:0.97598\n",
      "[8]\tvalidation_0-rmse:0.96462\tvalidation_1-rmse:0.97406\n",
      "[9]\tvalidation_0-rmse:0.96042\tvalidation_1-rmse:0.97157\n",
      "[10]\tvalidation_0-rmse:0.95946\tvalidation_1-rmse:0.97049\n",
      "[11]\tvalidation_0-rmse:0.95745\tvalidation_1-rmse:0.96963\n",
      "[12]\tvalidation_0-rmse:0.95484\tvalidation_1-rmse:0.96913\n",
      "[13]\tvalidation_0-rmse:0.95348\tvalidation_1-rmse:0.96735\n",
      "[14]\tvalidation_0-rmse:0.95190\tvalidation_1-rmse:0.96739\n",
      "[15]\tvalidation_0-rmse:0.95087\tvalidation_1-rmse:0.96703\n",
      "[16]\tvalidation_0-rmse:0.95030\tvalidation_1-rmse:0.96723\n",
      "[17]\tvalidation_0-rmse:0.94983\tvalidation_1-rmse:0.96743\n",
      "[18]\tvalidation_0-rmse:0.94947\tvalidation_1-rmse:0.96765\n",
      "[19]\tvalidation_0-rmse:0.94856\tvalidation_1-rmse:0.96674\n",
      "[20]\tvalidation_0-rmse:0.94814\tvalidation_1-rmse:0.96675\n",
      "[21]\tvalidation_0-rmse:0.94753\tvalidation_1-rmse:0.96628\n",
      "[22]\tvalidation_0-rmse:0.94705\tvalidation_1-rmse:0.96609\n",
      "[23]\tvalidation_0-rmse:0.94658\tvalidation_1-rmse:0.96640\n",
      "[24]\tvalidation_0-rmse:0.94629\tvalidation_1-rmse:0.96607\n",
      "[25]\tvalidation_0-rmse:0.94595\tvalidation_1-rmse:0.96595\n",
      "[26]\tvalidation_0-rmse:0.94575\tvalidation_1-rmse:0.96547\n",
      "[27]\tvalidation_0-rmse:0.94538\tvalidation_1-rmse:0.96502\n",
      "[28]\tvalidation_0-rmse:0.94517\tvalidation_1-rmse:0.96503\n",
      "[29]\tvalidation_0-rmse:0.94483\tvalidation_1-rmse:0.96505\n",
      "[30]\tvalidation_0-rmse:0.94456\tvalidation_1-rmse:0.96457\n",
      "[31]\tvalidation_0-rmse:0.94440\tvalidation_1-rmse:0.96482\n",
      "[32]\tvalidation_0-rmse:0.94411\tvalidation_1-rmse:0.96526\n",
      "[33]\tvalidation_0-rmse:0.94390\tvalidation_1-rmse:0.96488\n",
      "[34]\tvalidation_0-rmse:0.94368\tvalidation_1-rmse:0.96440\n",
      "[35]\tvalidation_0-rmse:0.94356\tvalidation_1-rmse:0.96406\n",
      "[36]\tvalidation_0-rmse:0.94328\tvalidation_1-rmse:0.96402\n",
      "[37]\tvalidation_0-rmse:0.94312\tvalidation_1-rmse:0.96404\n",
      "[38]\tvalidation_0-rmse:0.94299\tvalidation_1-rmse:0.96414\n",
      "[39]\tvalidation_0-rmse:0.94289\tvalidation_1-rmse:0.96383\n",
      "[40]\tvalidation_0-rmse:0.94275\tvalidation_1-rmse:0.96409\n",
      "[41]\tvalidation_0-rmse:0.94262\tvalidation_1-rmse:0.96371\n",
      "[42]\tvalidation_0-rmse:0.94219\tvalidation_1-rmse:0.96345\n",
      "[43]\tvalidation_0-rmse:0.94183\tvalidation_1-rmse:0.96331\n",
      "[44]\tvalidation_0-rmse:0.94160\tvalidation_1-rmse:0.96325\n",
      "[45]\tvalidation_0-rmse:0.94137\tvalidation_1-rmse:0.96255\n",
      "[46]\tvalidation_0-rmse:0.94120\tvalidation_1-rmse:0.96245\n",
      "[47]\tvalidation_0-rmse:0.94095\tvalidation_1-rmse:0.96224\n",
      "[48]\tvalidation_0-rmse:0.94066\tvalidation_1-rmse:0.96219\n",
      "[49]\tvalidation_0-rmse:0.94045\tvalidation_1-rmse:0.96242\n",
      "[50]\tvalidation_0-rmse:0.94012\tvalidation_1-rmse:0.96260\n",
      "[51]\tvalidation_0-rmse:0.93993\tvalidation_1-rmse:0.96218\n",
      "[52]\tvalidation_0-rmse:0.93969\tvalidation_1-rmse:0.96171\n",
      "[53]\tvalidation_0-rmse:0.93958\tvalidation_1-rmse:0.96156\n",
      "[54]\tvalidation_0-rmse:0.93949\tvalidation_1-rmse:0.96185\n",
      "[55]\tvalidation_0-rmse:0.93934\tvalidation_1-rmse:0.96225\n",
      "[56]\tvalidation_0-rmse:0.93922\tvalidation_1-rmse:0.96187\n",
      "[57]\tvalidation_0-rmse:0.93911\tvalidation_1-rmse:0.96192\n"
     ]
    },
    {
     "name": "stderr",
     "output_type": "stream",
     "text": [
      "D:\\Anaconda\\lib\\site-packages\\xgboost\\data.py:112: UserWarning: Use subset (sliced data) of np.ndarray is not recommended because it will generate extra copies and increase memory consumption\n",
      "  warnings.warn(\n"
     ]
    },
    {
     "name": "stdout",
     "output_type": "stream",
     "text": [
      "[0]\tvalidation_0-rmse:1.13085\tvalidation_1-rmse:1.08213\n",
      "[1]\tvalidation_0-rmse:1.09060\tvalidation_1-rmse:1.04888\n",
      "[2]\tvalidation_0-rmse:1.05499\tvalidation_1-rmse:1.02737\n",
      "[3]\tvalidation_0-rmse:1.01720\tvalidation_1-rmse:1.00484\n",
      "[4]\tvalidation_0-rmse:0.99900\tvalidation_1-rmse:0.99301\n",
      "[5]\tvalidation_0-rmse:0.98904\tvalidation_1-rmse:0.98675\n",
      "[6]\tvalidation_0-rmse:0.97690\tvalidation_1-rmse:0.98001\n",
      "[7]\tvalidation_0-rmse:0.96989\tvalidation_1-rmse:0.97630\n",
      "[8]\tvalidation_0-rmse:0.96566\tvalidation_1-rmse:0.97285\n",
      "[9]\tvalidation_0-rmse:0.96152\tvalidation_1-rmse:0.97030\n",
      "[10]\tvalidation_0-rmse:0.96016\tvalidation_1-rmse:0.96899\n",
      "[11]\tvalidation_0-rmse:0.95796\tvalidation_1-rmse:0.96790\n",
      "[12]\tvalidation_0-rmse:0.95523\tvalidation_1-rmse:0.96733\n",
      "[13]\tvalidation_0-rmse:0.95380\tvalidation_1-rmse:0.96645\n",
      "[14]\tvalidation_0-rmse:0.95226\tvalidation_1-rmse:0.96634\n",
      "[15]\tvalidation_0-rmse:0.95106\tvalidation_1-rmse:0.96498\n",
      "[16]\tvalidation_0-rmse:0.95039\tvalidation_1-rmse:0.96483\n",
      "[17]\tvalidation_0-rmse:0.94992\tvalidation_1-rmse:0.96460\n",
      "[18]\tvalidation_0-rmse:0.94933\tvalidation_1-rmse:0.96476\n",
      "[19]\tvalidation_0-rmse:0.94841\tvalidation_1-rmse:0.96383\n",
      "[20]\tvalidation_0-rmse:0.94805\tvalidation_1-rmse:0.96358\n",
      "[21]\tvalidation_0-rmse:0.94748\tvalidation_1-rmse:0.96256\n",
      "[22]\tvalidation_0-rmse:0.94707\tvalidation_1-rmse:0.96233\n",
      "[23]\tvalidation_0-rmse:0.94654\tvalidation_1-rmse:0.96266\n",
      "[24]\tvalidation_0-rmse:0.94622\tvalidation_1-rmse:0.96262\n",
      "[25]\tvalidation_0-rmse:0.94596\tvalidation_1-rmse:0.96238\n",
      "[26]\tvalidation_0-rmse:0.94579\tvalidation_1-rmse:0.96211\n",
      "[27]\tvalidation_0-rmse:0.94541\tvalidation_1-rmse:0.96179\n",
      "[28]\tvalidation_0-rmse:0.94506\tvalidation_1-rmse:0.96179\n",
      "[29]\tvalidation_0-rmse:0.94491\tvalidation_1-rmse:0.96149\n",
      "[30]\tvalidation_0-rmse:0.94476\tvalidation_1-rmse:0.96149\n",
      "[31]\tvalidation_0-rmse:0.94461\tvalidation_1-rmse:0.96154\n",
      "[32]\tvalidation_0-rmse:0.94425\tvalidation_1-rmse:0.96166\n",
      "[33]\tvalidation_0-rmse:0.94402\tvalidation_1-rmse:0.96174\n"
     ]
    },
    {
     "name": "stderr",
     "output_type": "stream",
     "text": [
      "D:\\Anaconda\\lib\\site-packages\\xgboost\\data.py:112: UserWarning: Use subset (sliced data) of np.ndarray is not recommended because it will generate extra copies and increase memory consumption\n",
      "  warnings.warn(\n"
     ]
    },
    {
     "name": "stdout",
     "output_type": "stream",
     "text": [
      "[0]\tvalidation_0-rmse:1.13005\tvalidation_1-rmse:1.08260\n"
     ]
    },
    {
     "name": "stderr",
     "output_type": "stream",
     "text": [
      "D:\\Anaconda\\lib\\site-packages\\xgboost\\data.py:112: UserWarning: Use subset (sliced data) of np.ndarray is not recommended because it will generate extra copies and increase memory consumption\n",
      "  warnings.warn(\n"
     ]
    },
    {
     "name": "stdout",
     "output_type": "stream",
     "text": [
      "[0]\tvalidation_0-rmse:1.13067\tvalidation_1-rmse:1.08146\n"
     ]
    },
    {
     "name": "stderr",
     "output_type": "stream",
     "text": [
      "D:\\Anaconda\\lib\\site-packages\\xgboost\\data.py:112: UserWarning: Use subset (sliced data) of np.ndarray is not recommended because it will generate extra copies and increase memory consumption\n",
      "  warnings.warn(\n"
     ]
    },
    {
     "name": "stdout",
     "output_type": "stream",
     "text": [
      "[0]\tvalidation_0-rmse:1.13132\tvalidation_1-rmse:1.08182\n"
     ]
    },
    {
     "name": "stderr",
     "output_type": "stream",
     "text": [
      "D:\\Anaconda\\lib\\site-packages\\xgboost\\data.py:112: UserWarning: Use subset (sliced data) of np.ndarray is not recommended because it will generate extra copies and increase memory consumption\n",
      "  warnings.warn(\n"
     ]
    },
    {
     "name": "stdout",
     "output_type": "stream",
     "text": [
      "[0]\tvalidation_0-rmse:1.12986\tvalidation_1-rmse:1.08152\n"
     ]
    },
    {
     "name": "stderr",
     "output_type": "stream",
     "text": [
      "D:\\Anaconda\\lib\\site-packages\\xgboost\\data.py:112: UserWarning: Use subset (sliced data) of np.ndarray is not recommended because it will generate extra copies and increase memory consumption\n",
      "  warnings.warn(\n"
     ]
    },
    {
     "name": "stdout",
     "output_type": "stream",
     "text": [
      "[0]\tvalidation_0-rmse:1.13085\tvalidation_1-rmse:1.08213\n"
     ]
    },
    {
     "name": "stderr",
     "output_type": "stream",
     "text": [
      "D:\\Anaconda\\lib\\site-packages\\xgboost\\data.py:112: UserWarning: Use subset (sliced data) of np.ndarray is not recommended because it will generate extra copies and increase memory consumption\n",
      "  warnings.warn(\n"
     ]
    },
    {
     "name": "stdout",
     "output_type": "stream",
     "text": [
      "[0]\tvalidation_0-rmse:1.13005\tvalidation_1-rmse:1.08260\n",
      "[1]\tvalidation_0-rmse:1.08959\tvalidation_1-rmse:1.04959\n",
      "[2]\tvalidation_0-rmse:1.05179\tvalidation_1-rmse:1.02776\n",
      "[3]\tvalidation_0-rmse:1.01699\tvalidation_1-rmse:1.00499\n",
      "[4]\tvalidation_0-rmse:0.99779\tvalidation_1-rmse:0.99313\n",
      "[5]\tvalidation_0-rmse:0.98693\tvalidation_1-rmse:0.98711\n",
      "[6]\tvalidation_0-rmse:0.97483\tvalidation_1-rmse:0.98034\n",
      "[7]\tvalidation_0-rmse:0.96852\tvalidation_1-rmse:0.97665\n",
      "[8]\tvalidation_0-rmse:0.96455\tvalidation_1-rmse:0.97488\n",
      "[9]\tvalidation_0-rmse:0.96242\tvalidation_1-rmse:0.97230\n"
     ]
    },
    {
     "name": "stderr",
     "output_type": "stream",
     "text": [
      "D:\\Anaconda\\lib\\site-packages\\xgboost\\data.py:112: UserWarning: Use subset (sliced data) of np.ndarray is not recommended because it will generate extra copies and increase memory consumption\n",
      "  warnings.warn(\n"
     ]
    },
    {
     "name": "stdout",
     "output_type": "stream",
     "text": [
      "[0]\tvalidation_0-rmse:1.13067\tvalidation_1-rmse:1.08146\n",
      "[1]\tvalidation_0-rmse:1.09024\tvalidation_1-rmse:1.04882\n",
      "[2]\tvalidation_0-rmse:1.05056\tvalidation_1-rmse:1.02632\n",
      "[3]\tvalidation_0-rmse:1.01483\tvalidation_1-rmse:1.00350\n",
      "[4]\tvalidation_0-rmse:0.99599\tvalidation_1-rmse:0.99179\n",
      "[5]\tvalidation_0-rmse:0.98191\tvalidation_1-rmse:0.98628\n",
      "[6]\tvalidation_0-rmse:0.97594\tvalidation_1-rmse:0.97983\n",
      "[7]\tvalidation_0-rmse:0.96979\tvalidation_1-rmse:0.97692\n",
      "[8]\tvalidation_0-rmse:0.96366\tvalidation_1-rmse:0.97361\n",
      "[9]\tvalidation_0-rmse:0.96128\tvalidation_1-rmse:0.97108\n"
     ]
    },
    {
     "name": "stderr",
     "output_type": "stream",
     "text": [
      "D:\\Anaconda\\lib\\site-packages\\xgboost\\data.py:112: UserWarning: Use subset (sliced data) of np.ndarray is not recommended because it will generate extra copies and increase memory consumption\n",
      "  warnings.warn(\n"
     ]
    },
    {
     "name": "stdout",
     "output_type": "stream",
     "text": [
      "[0]\tvalidation_0-rmse:1.13132\tvalidation_1-rmse:1.08182\n",
      "[1]\tvalidation_0-rmse:1.09114\tvalidation_1-rmse:1.04859\n",
      "[2]\tvalidation_0-rmse:1.05374\tvalidation_1-rmse:1.02763\n",
      "[3]\tvalidation_0-rmse:1.01824\tvalidation_1-rmse:1.00511\n",
      "[4]\tvalidation_0-rmse:1.00014\tvalidation_1-rmse:0.99406\n",
      "[5]\tvalidation_0-rmse:0.98493\tvalidation_1-rmse:0.98668\n",
      "[6]\tvalidation_0-rmse:0.97661\tvalidation_1-rmse:0.97999\n",
      "[7]\tvalidation_0-rmse:0.97226\tvalidation_1-rmse:0.97597\n",
      "[8]\tvalidation_0-rmse:0.96545\tvalidation_1-rmse:0.97386\n",
      "[9]\tvalidation_0-rmse:0.96345\tvalidation_1-rmse:0.97098\n"
     ]
    },
    {
     "name": "stderr",
     "output_type": "stream",
     "text": [
      "D:\\Anaconda\\lib\\site-packages\\xgboost\\data.py:112: UserWarning: Use subset (sliced data) of np.ndarray is not recommended because it will generate extra copies and increase memory consumption\n",
      "  warnings.warn(\n"
     ]
    },
    {
     "name": "stdout",
     "output_type": "stream",
     "text": [
      "[0]\tvalidation_0-rmse:1.12986\tvalidation_1-rmse:1.08152\n",
      "[1]\tvalidation_0-rmse:1.08925\tvalidation_1-rmse:1.04820\n",
      "[2]\tvalidation_0-rmse:1.05242\tvalidation_1-rmse:1.02676\n",
      "[3]\tvalidation_0-rmse:1.01707\tvalidation_1-rmse:1.00415\n",
      "[4]\tvalidation_0-rmse:0.99850\tvalidation_1-rmse:0.99241\n",
      "[5]\tvalidation_0-rmse:0.98659\tvalidation_1-rmse:0.98632\n",
      "[6]\tvalidation_0-rmse:0.97554\tvalidation_1-rmse:0.97956\n",
      "[7]\tvalidation_0-rmse:0.96813\tvalidation_1-rmse:0.97598\n",
      "[8]\tvalidation_0-rmse:0.96462\tvalidation_1-rmse:0.97406\n",
      "[9]\tvalidation_0-rmse:0.96042\tvalidation_1-rmse:0.97157\n"
     ]
    },
    {
     "name": "stderr",
     "output_type": "stream",
     "text": [
      "D:\\Anaconda\\lib\\site-packages\\xgboost\\data.py:112: UserWarning: Use subset (sliced data) of np.ndarray is not recommended because it will generate extra copies and increase memory consumption\n",
      "  warnings.warn(\n"
     ]
    },
    {
     "name": "stdout",
     "output_type": "stream",
     "text": [
      "[0]\tvalidation_0-rmse:1.13085\tvalidation_1-rmse:1.08213\n",
      "[1]\tvalidation_0-rmse:1.09060\tvalidation_1-rmse:1.04888\n",
      "[2]\tvalidation_0-rmse:1.05499\tvalidation_1-rmse:1.02737\n",
      "[3]\tvalidation_0-rmse:1.01720\tvalidation_1-rmse:1.00484\n",
      "[4]\tvalidation_0-rmse:0.99900\tvalidation_1-rmse:0.99301\n",
      "[5]\tvalidation_0-rmse:0.98904\tvalidation_1-rmse:0.98675\n",
      "[6]\tvalidation_0-rmse:0.97690\tvalidation_1-rmse:0.98001\n",
      "[7]\tvalidation_0-rmse:0.96989\tvalidation_1-rmse:0.97630\n",
      "[8]\tvalidation_0-rmse:0.96566\tvalidation_1-rmse:0.97285\n",
      "[9]\tvalidation_0-rmse:0.96152\tvalidation_1-rmse:0.97030\n"
     ]
    },
    {
     "name": "stderr",
     "output_type": "stream",
     "text": [
      "D:\\Anaconda\\lib\\site-packages\\xgboost\\data.py:112: UserWarning: Use subset (sliced data) of np.ndarray is not recommended because it will generate extra copies and increase memory consumption\n",
      "  warnings.warn(\n"
     ]
    },
    {
     "name": "stdout",
     "output_type": "stream",
     "text": [
      "[0]\tvalidation_0-rmse:1.13005\tvalidation_1-rmse:1.08260\n",
      "[1]\tvalidation_0-rmse:1.08959\tvalidation_1-rmse:1.04959\n",
      "[2]\tvalidation_0-rmse:1.05179\tvalidation_1-rmse:1.02776\n",
      "[3]\tvalidation_0-rmse:1.01699\tvalidation_1-rmse:1.00499\n",
      "[4]\tvalidation_0-rmse:0.99779\tvalidation_1-rmse:0.99313\n",
      "[5]\tvalidation_0-rmse:0.98693\tvalidation_1-rmse:0.98711\n",
      "[6]\tvalidation_0-rmse:0.97483\tvalidation_1-rmse:0.98034\n",
      "[7]\tvalidation_0-rmse:0.96852\tvalidation_1-rmse:0.97665\n",
      "[8]\tvalidation_0-rmse:0.96455\tvalidation_1-rmse:0.97488\n",
      "[9]\tvalidation_0-rmse:0.96242\tvalidation_1-rmse:0.97230\n",
      "[10]\tvalidation_0-rmse:0.95947\tvalidation_1-rmse:0.97189\n",
      "[11]\tvalidation_0-rmse:0.95753\tvalidation_1-rmse:0.97106\n",
      "[12]\tvalidation_0-rmse:0.95499\tvalidation_1-rmse:0.97082\n",
      "[13]\tvalidation_0-rmse:0.95327\tvalidation_1-rmse:0.96894\n",
      "[14]\tvalidation_0-rmse:0.95198\tvalidation_1-rmse:0.96820\n",
      "[15]\tvalidation_0-rmse:0.95093\tvalidation_1-rmse:0.96759\n",
      "[16]\tvalidation_0-rmse:0.95013\tvalidation_1-rmse:0.96771\n",
      "[17]\tvalidation_0-rmse:0.94959\tvalidation_1-rmse:0.96703\n",
      "[18]\tvalidation_0-rmse:0.94884\tvalidation_1-rmse:0.96657\n",
      "[19]\tvalidation_0-rmse:0.94793\tvalidation_1-rmse:0.96559\n",
      "[20]\tvalidation_0-rmse:0.94774\tvalidation_1-rmse:0.96583\n",
      "[21]\tvalidation_0-rmse:0.94700\tvalidation_1-rmse:0.96536\n",
      "[22]\tvalidation_0-rmse:0.94640\tvalidation_1-rmse:0.96535\n",
      "[23]\tvalidation_0-rmse:0.94597\tvalidation_1-rmse:0.96459\n",
      "[24]\tvalidation_0-rmse:0.94578\tvalidation_1-rmse:0.96418\n",
      "[25]\tvalidation_0-rmse:0.94532\tvalidation_1-rmse:0.96420\n",
      "[26]\tvalidation_0-rmse:0.94498\tvalidation_1-rmse:0.96519\n",
      "[27]\tvalidation_0-rmse:0.94476\tvalidation_1-rmse:0.96498\n",
      "[28]\tvalidation_0-rmse:0.94424\tvalidation_1-rmse:0.96505\n",
      "[29]\tvalidation_0-rmse:0.94369\tvalidation_1-rmse:0.96505\n"
     ]
    },
    {
     "name": "stderr",
     "output_type": "stream",
     "text": [
      "D:\\Anaconda\\lib\\site-packages\\xgboost\\data.py:112: UserWarning: Use subset (sliced data) of np.ndarray is not recommended because it will generate extra copies and increase memory consumption\n",
      "  warnings.warn(\n"
     ]
    },
    {
     "name": "stdout",
     "output_type": "stream",
     "text": [
      "[0]\tvalidation_0-rmse:1.13067\tvalidation_1-rmse:1.08146\n",
      "[1]\tvalidation_0-rmse:1.09024\tvalidation_1-rmse:1.04882\n",
      "[2]\tvalidation_0-rmse:1.05056\tvalidation_1-rmse:1.02632\n",
      "[3]\tvalidation_0-rmse:1.01483\tvalidation_1-rmse:1.00350\n",
      "[4]\tvalidation_0-rmse:0.99599\tvalidation_1-rmse:0.99179\n",
      "[5]\tvalidation_0-rmse:0.98191\tvalidation_1-rmse:0.98628\n",
      "[6]\tvalidation_0-rmse:0.97594\tvalidation_1-rmse:0.97983\n",
      "[7]\tvalidation_0-rmse:0.96979\tvalidation_1-rmse:0.97692\n",
      "[8]\tvalidation_0-rmse:0.96366\tvalidation_1-rmse:0.97361\n",
      "[9]\tvalidation_0-rmse:0.96128\tvalidation_1-rmse:0.97108\n",
      "[10]\tvalidation_0-rmse:0.96062\tvalidation_1-rmse:0.97086\n",
      "[11]\tvalidation_0-rmse:0.95859\tvalidation_1-rmse:0.96956\n",
      "[12]\tvalidation_0-rmse:0.95560\tvalidation_1-rmse:0.96901\n",
      "[13]\tvalidation_0-rmse:0.95400\tvalidation_1-rmse:0.96727\n",
      "[14]\tvalidation_0-rmse:0.95240\tvalidation_1-rmse:0.96781\n",
      "[15]\tvalidation_0-rmse:0.95132\tvalidation_1-rmse:0.96638\n",
      "[16]\tvalidation_0-rmse:0.95071\tvalidation_1-rmse:0.96626\n",
      "[17]\tvalidation_0-rmse:0.95003\tvalidation_1-rmse:0.96615\n",
      "[18]\tvalidation_0-rmse:0.94919\tvalidation_1-rmse:0.96606\n",
      "[19]\tvalidation_0-rmse:0.94848\tvalidation_1-rmse:0.96520\n",
      "[20]\tvalidation_0-rmse:0.94802\tvalidation_1-rmse:0.96520\n",
      "[21]\tvalidation_0-rmse:0.94743\tvalidation_1-rmse:0.96469\n",
      "[22]\tvalidation_0-rmse:0.94701\tvalidation_1-rmse:0.96458\n",
      "[23]\tvalidation_0-rmse:0.94644\tvalidation_1-rmse:0.96393\n",
      "[24]\tvalidation_0-rmse:0.94613\tvalidation_1-rmse:0.96362\n",
      "[25]\tvalidation_0-rmse:0.94589\tvalidation_1-rmse:0.96326\n",
      "[26]\tvalidation_0-rmse:0.94559\tvalidation_1-rmse:0.96404\n",
      "[27]\tvalidation_0-rmse:0.94551\tvalidation_1-rmse:0.96416\n",
      "[28]\tvalidation_0-rmse:0.94518\tvalidation_1-rmse:0.96407\n",
      "[29]\tvalidation_0-rmse:0.94485\tvalidation_1-rmse:0.96411\n",
      "[30]\tvalidation_0-rmse:0.94473\tvalidation_1-rmse:0.96396\n"
     ]
    },
    {
     "name": "stderr",
     "output_type": "stream",
     "text": [
      "D:\\Anaconda\\lib\\site-packages\\xgboost\\data.py:112: UserWarning: Use subset (sliced data) of np.ndarray is not recommended because it will generate extra copies and increase memory consumption\n",
      "  warnings.warn(\n"
     ]
    },
    {
     "name": "stdout",
     "output_type": "stream",
     "text": [
      "[0]\tvalidation_0-rmse:1.13132\tvalidation_1-rmse:1.08182\n",
      "[1]\tvalidation_0-rmse:1.09114\tvalidation_1-rmse:1.04859\n",
      "[2]\tvalidation_0-rmse:1.05374\tvalidation_1-rmse:1.02763\n",
      "[3]\tvalidation_0-rmse:1.01824\tvalidation_1-rmse:1.00511\n",
      "[4]\tvalidation_0-rmse:1.00014\tvalidation_1-rmse:0.99406\n",
      "[5]\tvalidation_0-rmse:0.98493\tvalidation_1-rmse:0.98668\n",
      "[6]\tvalidation_0-rmse:0.97661\tvalidation_1-rmse:0.97999\n",
      "[7]\tvalidation_0-rmse:0.97226\tvalidation_1-rmse:0.97597\n",
      "[8]\tvalidation_0-rmse:0.96545\tvalidation_1-rmse:0.97386\n",
      "[9]\tvalidation_0-rmse:0.96345\tvalidation_1-rmse:0.97098\n",
      "[10]\tvalidation_0-rmse:0.96181\tvalidation_1-rmse:0.97012\n",
      "[11]\tvalidation_0-rmse:0.95971\tvalidation_1-rmse:0.96865\n",
      "[12]\tvalidation_0-rmse:0.95695\tvalidation_1-rmse:0.96750\n",
      "[13]\tvalidation_0-rmse:0.95532\tvalidation_1-rmse:0.96575\n",
      "[14]\tvalidation_0-rmse:0.95348\tvalidation_1-rmse:0.96554\n",
      "[15]\tvalidation_0-rmse:0.95239\tvalidation_1-rmse:0.96546\n",
      "[16]\tvalidation_0-rmse:0.95121\tvalidation_1-rmse:0.96510\n",
      "[17]\tvalidation_0-rmse:0.95057\tvalidation_1-rmse:0.96502\n",
      "[18]\tvalidation_0-rmse:0.94996\tvalidation_1-rmse:0.96451\n",
      "[19]\tvalidation_0-rmse:0.94894\tvalidation_1-rmse:0.96363\n",
      "[20]\tvalidation_0-rmse:0.94861\tvalidation_1-rmse:0.96360\n",
      "[21]\tvalidation_0-rmse:0.94789\tvalidation_1-rmse:0.96327\n",
      "[22]\tvalidation_0-rmse:0.94710\tvalidation_1-rmse:0.96293\n",
      "[23]\tvalidation_0-rmse:0.94676\tvalidation_1-rmse:0.96225\n",
      "[24]\tvalidation_0-rmse:0.94635\tvalidation_1-rmse:0.96184\n",
      "[25]\tvalidation_0-rmse:0.94596\tvalidation_1-rmse:0.96226\n",
      "[26]\tvalidation_0-rmse:0.94590\tvalidation_1-rmse:0.96240\n",
      "[27]\tvalidation_0-rmse:0.94573\tvalidation_1-rmse:0.96171\n",
      "[28]\tvalidation_0-rmse:0.94551\tvalidation_1-rmse:0.96171\n",
      "[29]\tvalidation_0-rmse:0.94512\tvalidation_1-rmse:0.96155\n",
      "[30]\tvalidation_0-rmse:0.94479\tvalidation_1-rmse:0.96149\n",
      "[31]\tvalidation_0-rmse:0.94452\tvalidation_1-rmse:0.96175\n",
      "[32]\tvalidation_0-rmse:0.94426\tvalidation_1-rmse:0.96195\n",
      "[33]\tvalidation_0-rmse:0.94398\tvalidation_1-rmse:0.96189\n",
      "[34]\tvalidation_0-rmse:0.94376\tvalidation_1-rmse:0.96208\n",
      "[35]\tvalidation_0-rmse:0.94348\tvalidation_1-rmse:0.96207\n"
     ]
    },
    {
     "name": "stderr",
     "output_type": "stream",
     "text": [
      "D:\\Anaconda\\lib\\site-packages\\xgboost\\data.py:112: UserWarning: Use subset (sliced data) of np.ndarray is not recommended because it will generate extra copies and increase memory consumption\n",
      "  warnings.warn(\n"
     ]
    },
    {
     "name": "stdout",
     "output_type": "stream",
     "text": [
      "[0]\tvalidation_0-rmse:1.12986\tvalidation_1-rmse:1.08152\n",
      "[1]\tvalidation_0-rmse:1.08925\tvalidation_1-rmse:1.04820\n",
      "[2]\tvalidation_0-rmse:1.05242\tvalidation_1-rmse:1.02676\n",
      "[3]\tvalidation_0-rmse:1.01707\tvalidation_1-rmse:1.00415\n",
      "[4]\tvalidation_0-rmse:0.99850\tvalidation_1-rmse:0.99241\n",
      "[5]\tvalidation_0-rmse:0.98659\tvalidation_1-rmse:0.98632\n",
      "[6]\tvalidation_0-rmse:0.97554\tvalidation_1-rmse:0.97956\n",
      "[7]\tvalidation_0-rmse:0.96813\tvalidation_1-rmse:0.97598\n",
      "[8]\tvalidation_0-rmse:0.96462\tvalidation_1-rmse:0.97406\n",
      "[9]\tvalidation_0-rmse:0.96042\tvalidation_1-rmse:0.97157\n",
      "[10]\tvalidation_0-rmse:0.95946\tvalidation_1-rmse:0.97049\n",
      "[11]\tvalidation_0-rmse:0.95745\tvalidation_1-rmse:0.96963\n",
      "[12]\tvalidation_0-rmse:0.95484\tvalidation_1-rmse:0.96913\n",
      "[13]\tvalidation_0-rmse:0.95348\tvalidation_1-rmse:0.96735\n",
      "[14]\tvalidation_0-rmse:0.95190\tvalidation_1-rmse:0.96739\n",
      "[15]\tvalidation_0-rmse:0.95087\tvalidation_1-rmse:0.96703\n",
      "[16]\tvalidation_0-rmse:0.95030\tvalidation_1-rmse:0.96723\n",
      "[17]\tvalidation_0-rmse:0.94983\tvalidation_1-rmse:0.96743\n",
      "[18]\tvalidation_0-rmse:0.94947\tvalidation_1-rmse:0.96765\n",
      "[19]\tvalidation_0-rmse:0.94856\tvalidation_1-rmse:0.96674\n",
      "[20]\tvalidation_0-rmse:0.94814\tvalidation_1-rmse:0.96675\n",
      "[21]\tvalidation_0-rmse:0.94753\tvalidation_1-rmse:0.96628\n",
      "[22]\tvalidation_0-rmse:0.94705\tvalidation_1-rmse:0.96609\n",
      "[23]\tvalidation_0-rmse:0.94658\tvalidation_1-rmse:0.96640\n",
      "[24]\tvalidation_0-rmse:0.94629\tvalidation_1-rmse:0.96607\n",
      "[25]\tvalidation_0-rmse:0.94595\tvalidation_1-rmse:0.96595\n",
      "[26]\tvalidation_0-rmse:0.94575\tvalidation_1-rmse:0.96547\n",
      "[27]\tvalidation_0-rmse:0.94538\tvalidation_1-rmse:0.96502\n",
      "[28]\tvalidation_0-rmse:0.94517\tvalidation_1-rmse:0.96503\n",
      "[29]\tvalidation_0-rmse:0.94483\tvalidation_1-rmse:0.96505\n",
      "[30]\tvalidation_0-rmse:0.94456\tvalidation_1-rmse:0.96457\n",
      "[31]\tvalidation_0-rmse:0.94440\tvalidation_1-rmse:0.96482\n",
      "[32]\tvalidation_0-rmse:0.94411\tvalidation_1-rmse:0.96526\n",
      "[33]\tvalidation_0-rmse:0.94390\tvalidation_1-rmse:0.96488\n",
      "[34]\tvalidation_0-rmse:0.94368\tvalidation_1-rmse:0.96440\n",
      "[35]\tvalidation_0-rmse:0.94356\tvalidation_1-rmse:0.96407\n",
      "[36]\tvalidation_0-rmse:0.94328\tvalidation_1-rmse:0.96402\n",
      "[37]\tvalidation_0-rmse:0.94312\tvalidation_1-rmse:0.96404\n",
      "[38]\tvalidation_0-rmse:0.94299\tvalidation_1-rmse:0.96414\n",
      "[39]\tvalidation_0-rmse:0.94289\tvalidation_1-rmse:0.96383\n",
      "[40]\tvalidation_0-rmse:0.94275\tvalidation_1-rmse:0.96409\n",
      "[41]\tvalidation_0-rmse:0.94262\tvalidation_1-rmse:0.96371\n",
      "[42]\tvalidation_0-rmse:0.94219\tvalidation_1-rmse:0.96345\n",
      "[43]\tvalidation_0-rmse:0.94183\tvalidation_1-rmse:0.96331\n",
      "[44]\tvalidation_0-rmse:0.94160\tvalidation_1-rmse:0.96325\n",
      "[45]\tvalidation_0-rmse:0.94137\tvalidation_1-rmse:0.96255\n",
      "[46]\tvalidation_0-rmse:0.94120\tvalidation_1-rmse:0.96244\n",
      "[47]\tvalidation_0-rmse:0.94095\tvalidation_1-rmse:0.96224\n",
      "[48]\tvalidation_0-rmse:0.94066\tvalidation_1-rmse:0.96219\n",
      "[49]\tvalidation_0-rmse:0.94045\tvalidation_1-rmse:0.96242\n",
      "[50]\tvalidation_0-rmse:0.94012\tvalidation_1-rmse:0.96260\n",
      "[51]\tvalidation_0-rmse:0.93993\tvalidation_1-rmse:0.96218\n",
      "[52]\tvalidation_0-rmse:0.93969\tvalidation_1-rmse:0.96171\n",
      "[53]\tvalidation_0-rmse:0.93958\tvalidation_1-rmse:0.96156\n",
      "[54]\tvalidation_0-rmse:0.93949\tvalidation_1-rmse:0.96185\n",
      "[55]\tvalidation_0-rmse:0.93934\tvalidation_1-rmse:0.96225\n",
      "[56]\tvalidation_0-rmse:0.93922\tvalidation_1-rmse:0.96187\n",
      "[57]\tvalidation_0-rmse:0.93911\tvalidation_1-rmse:0.96192\n",
      "[58]\tvalidation_0-rmse:0.93890\tvalidation_1-rmse:0.96163\n"
     ]
    },
    {
     "name": "stderr",
     "output_type": "stream",
     "text": [
      "D:\\Anaconda\\lib\\site-packages\\xgboost\\data.py:112: UserWarning: Use subset (sliced data) of np.ndarray is not recommended because it will generate extra copies and increase memory consumption\n",
      "  warnings.warn(\n"
     ]
    },
    {
     "name": "stdout",
     "output_type": "stream",
     "text": [
      "[0]\tvalidation_0-rmse:1.13085\tvalidation_1-rmse:1.08213\n",
      "[1]\tvalidation_0-rmse:1.09060\tvalidation_1-rmse:1.04888\n",
      "[2]\tvalidation_0-rmse:1.05499\tvalidation_1-rmse:1.02737\n",
      "[3]\tvalidation_0-rmse:1.01720\tvalidation_1-rmse:1.00484\n",
      "[4]\tvalidation_0-rmse:0.99900\tvalidation_1-rmse:0.99301\n",
      "[5]\tvalidation_0-rmse:0.98904\tvalidation_1-rmse:0.98675\n",
      "[6]\tvalidation_0-rmse:0.97690\tvalidation_1-rmse:0.98001\n",
      "[7]\tvalidation_0-rmse:0.96989\tvalidation_1-rmse:0.97630\n",
      "[8]\tvalidation_0-rmse:0.96566\tvalidation_1-rmse:0.97285\n",
      "[9]\tvalidation_0-rmse:0.96152\tvalidation_1-rmse:0.97030\n",
      "[10]\tvalidation_0-rmse:0.96016\tvalidation_1-rmse:0.96899\n",
      "[11]\tvalidation_0-rmse:0.95796\tvalidation_1-rmse:0.96790\n",
      "[12]\tvalidation_0-rmse:0.95523\tvalidation_1-rmse:0.96733\n",
      "[13]\tvalidation_0-rmse:0.95380\tvalidation_1-rmse:0.96645\n",
      "[14]\tvalidation_0-rmse:0.95226\tvalidation_1-rmse:0.96634\n",
      "[15]\tvalidation_0-rmse:0.95106\tvalidation_1-rmse:0.96498\n",
      "[16]\tvalidation_0-rmse:0.95039\tvalidation_1-rmse:0.96483\n",
      "[17]\tvalidation_0-rmse:0.94992\tvalidation_1-rmse:0.96460\n",
      "[18]\tvalidation_0-rmse:0.94933\tvalidation_1-rmse:0.96476\n",
      "[19]\tvalidation_0-rmse:0.94841\tvalidation_1-rmse:0.96383\n",
      "[20]\tvalidation_0-rmse:0.94805\tvalidation_1-rmse:0.96358\n",
      "[21]\tvalidation_0-rmse:0.94748\tvalidation_1-rmse:0.96256\n",
      "[22]\tvalidation_0-rmse:0.94707\tvalidation_1-rmse:0.96233\n",
      "[23]\tvalidation_0-rmse:0.94654\tvalidation_1-rmse:0.96266\n",
      "[24]\tvalidation_0-rmse:0.94622\tvalidation_1-rmse:0.96262\n",
      "[25]\tvalidation_0-rmse:0.94596\tvalidation_1-rmse:0.96238\n",
      "[26]\tvalidation_0-rmse:0.94579\tvalidation_1-rmse:0.96211\n",
      "[27]\tvalidation_0-rmse:0.94541\tvalidation_1-rmse:0.96179\n",
      "[28]\tvalidation_0-rmse:0.94506\tvalidation_1-rmse:0.96179\n",
      "[29]\tvalidation_0-rmse:0.94491\tvalidation_1-rmse:0.96149\n",
      "[30]\tvalidation_0-rmse:0.94476\tvalidation_1-rmse:0.96149\n",
      "[31]\tvalidation_0-rmse:0.94461\tvalidation_1-rmse:0.96154\n",
      "[32]\tvalidation_0-rmse:0.94425\tvalidation_1-rmse:0.96166\n",
      "[33]\tvalidation_0-rmse:0.94402\tvalidation_1-rmse:0.96174\n"
     ]
    },
    {
     "name": "stderr",
     "output_type": "stream",
     "text": [
      "D:\\Anaconda\\lib\\site-packages\\xgboost\\data.py:112: UserWarning: Use subset (sliced data) of np.ndarray is not recommended because it will generate extra copies and increase memory consumption\n",
      "  warnings.warn(\n"
     ]
    },
    {
     "name": "stdout",
     "output_type": "stream",
     "text": [
      "[0]\tvalidation_0-rmse:1.11100\tvalidation_1-rmse:1.07079\n"
     ]
    },
    {
     "name": "stderr",
     "output_type": "stream",
     "text": [
      "D:\\Anaconda\\lib\\site-packages\\xgboost\\data.py:112: UserWarning: Use subset (sliced data) of np.ndarray is not recommended because it will generate extra copies and increase memory consumption\n",
      "  warnings.warn(\n"
     ]
    },
    {
     "name": "stdout",
     "output_type": "stream",
     "text": [
      "[0]\tvalidation_0-rmse:1.11104\tvalidation_1-rmse:1.07017\n"
     ]
    },
    {
     "name": "stderr",
     "output_type": "stream",
     "text": [
      "D:\\Anaconda\\lib\\site-packages\\xgboost\\data.py:112: UserWarning: Use subset (sliced data) of np.ndarray is not recommended because it will generate extra copies and increase memory consumption\n",
      "  warnings.warn(\n"
     ]
    },
    {
     "name": "stdout",
     "output_type": "stream",
     "text": [
      "[0]\tvalidation_0-rmse:1.11250\tvalidation_1-rmse:1.07058\n"
     ]
    },
    {
     "name": "stderr",
     "output_type": "stream",
     "text": [
      "D:\\Anaconda\\lib\\site-packages\\xgboost\\data.py:112: UserWarning: Use subset (sliced data) of np.ndarray is not recommended because it will generate extra copies and increase memory consumption\n",
      "  warnings.warn(\n"
     ]
    },
    {
     "name": "stdout",
     "output_type": "stream",
     "text": [
      "[0]\tvalidation_0-rmse:1.11063\tvalidation_1-rmse:1.07006\n"
     ]
    },
    {
     "name": "stderr",
     "output_type": "stream",
     "text": [
      "D:\\Anaconda\\lib\\site-packages\\xgboost\\data.py:112: UserWarning: Use subset (sliced data) of np.ndarray is not recommended because it will generate extra copies and increase memory consumption\n",
      "  warnings.warn(\n"
     ]
    },
    {
     "name": "stdout",
     "output_type": "stream",
     "text": [
      "[0]\tvalidation_0-rmse:1.11154\tvalidation_1-rmse:1.07058\n"
     ]
    },
    {
     "name": "stderr",
     "output_type": "stream",
     "text": [
      "D:\\Anaconda\\lib\\site-packages\\xgboost\\data.py:112: UserWarning: Use subset (sliced data) of np.ndarray is not recommended because it will generate extra copies and increase memory consumption\n",
      "  warnings.warn(\n"
     ]
    },
    {
     "name": "stdout",
     "output_type": "stream",
     "text": [
      "[0]\tvalidation_0-rmse:1.11100\tvalidation_1-rmse:1.07079\n",
      "[1]\tvalidation_0-rmse:1.05666\tvalidation_1-rmse:1.02649\n",
      "[2]\tvalidation_0-rmse:1.01808\tvalidation_1-rmse:1.00281\n",
      "[3]\tvalidation_0-rmse:0.98639\tvalidation_1-rmse:0.98173\n",
      "[4]\tvalidation_0-rmse:0.96643\tvalidation_1-rmse:0.97329\n",
      "[5]\tvalidation_0-rmse:0.95827\tvalidation_1-rmse:0.96916\n",
      "[6]\tvalidation_0-rmse:0.95169\tvalidation_1-rmse:0.96434\n",
      "[7]\tvalidation_0-rmse:0.94599\tvalidation_1-rmse:0.96306\n",
      "[8]\tvalidation_0-rmse:0.94322\tvalidation_1-rmse:0.96180\n",
      "[9]\tvalidation_0-rmse:0.94177\tvalidation_1-rmse:0.95984\n"
     ]
    },
    {
     "name": "stderr",
     "output_type": "stream",
     "text": [
      "D:\\Anaconda\\lib\\site-packages\\xgboost\\data.py:112: UserWarning: Use subset (sliced data) of np.ndarray is not recommended because it will generate extra copies and increase memory consumption\n",
      "  warnings.warn(\n"
     ]
    },
    {
     "name": "stdout",
     "output_type": "stream",
     "text": [
      "[0]\tvalidation_0-rmse:1.11104\tvalidation_1-rmse:1.07017\n",
      "[1]\tvalidation_0-rmse:1.05765\tvalidation_1-rmse:1.02558\n",
      "[2]\tvalidation_0-rmse:1.01999\tvalidation_1-rmse:1.00182\n",
      "[3]\tvalidation_0-rmse:0.98834\tvalidation_1-rmse:0.98104\n",
      "[4]\tvalidation_0-rmse:0.96812\tvalidation_1-rmse:0.97260\n",
      "[5]\tvalidation_0-rmse:0.95951\tvalidation_1-rmse:0.96740\n",
      "[6]\tvalidation_0-rmse:0.95230\tvalidation_1-rmse:0.96264\n",
      "[7]\tvalidation_0-rmse:0.94666\tvalidation_1-rmse:0.96186\n",
      "[8]\tvalidation_0-rmse:0.94367\tvalidation_1-rmse:0.96036\n",
      "[9]\tvalidation_0-rmse:0.94259\tvalidation_1-rmse:0.95825\n"
     ]
    },
    {
     "name": "stderr",
     "output_type": "stream",
     "text": [
      "D:\\Anaconda\\lib\\site-packages\\xgboost\\data.py:112: UserWarning: Use subset (sliced data) of np.ndarray is not recommended because it will generate extra copies and increase memory consumption\n",
      "  warnings.warn(\n"
     ]
    },
    {
     "name": "stdout",
     "output_type": "stream",
     "text": [
      "[0]\tvalidation_0-rmse:1.11250\tvalidation_1-rmse:1.07058\n",
      "[1]\tvalidation_0-rmse:1.05943\tvalidation_1-rmse:1.02620\n",
      "[2]\tvalidation_0-rmse:1.02232\tvalidation_1-rmse:1.00123\n",
      "[3]\tvalidation_0-rmse:0.99044\tvalidation_1-rmse:0.98099\n",
      "[4]\tvalidation_0-rmse:0.96993\tvalidation_1-rmse:0.97184\n",
      "[5]\tvalidation_0-rmse:0.96133\tvalidation_1-rmse:0.96708\n",
      "[6]\tvalidation_0-rmse:0.95330\tvalidation_1-rmse:0.96181\n",
      "[7]\tvalidation_0-rmse:0.94769\tvalidation_1-rmse:0.96051\n",
      "[8]\tvalidation_0-rmse:0.94400\tvalidation_1-rmse:0.95917\n",
      "[9]\tvalidation_0-rmse:0.94249\tvalidation_1-rmse:0.95733\n"
     ]
    },
    {
     "name": "stderr",
     "output_type": "stream",
     "text": [
      "D:\\Anaconda\\lib\\site-packages\\xgboost\\data.py:112: UserWarning: Use subset (sliced data) of np.ndarray is not recommended because it will generate extra copies and increase memory consumption\n",
      "  warnings.warn(\n"
     ]
    },
    {
     "name": "stdout",
     "output_type": "stream",
     "text": [
      "[0]\tvalidation_0-rmse:1.11063\tvalidation_1-rmse:1.07006\n",
      "[1]\tvalidation_0-rmse:1.05638\tvalidation_1-rmse:1.02577\n",
      "[2]\tvalidation_0-rmse:1.01833\tvalidation_1-rmse:1.00192\n",
      "[3]\tvalidation_0-rmse:0.98714\tvalidation_1-rmse:0.98115\n",
      "[4]\tvalidation_0-rmse:0.96725\tvalidation_1-rmse:0.97235\n",
      "[5]\tvalidation_0-rmse:0.95908\tvalidation_1-rmse:0.96749\n",
      "[6]\tvalidation_0-rmse:0.95153\tvalidation_1-rmse:0.96339\n",
      "[7]\tvalidation_0-rmse:0.94635\tvalidation_1-rmse:0.96249\n",
      "[8]\tvalidation_0-rmse:0.94286\tvalidation_1-rmse:0.96116\n",
      "[9]\tvalidation_0-rmse:0.94163\tvalidation_1-rmse:0.95888\n"
     ]
    },
    {
     "name": "stderr",
     "output_type": "stream",
     "text": [
      "D:\\Anaconda\\lib\\site-packages\\xgboost\\data.py:112: UserWarning: Use subset (sliced data) of np.ndarray is not recommended because it will generate extra copies and increase memory consumption\n",
      "  warnings.warn(\n"
     ]
    },
    {
     "name": "stdout",
     "output_type": "stream",
     "text": [
      "[0]\tvalidation_0-rmse:1.11154\tvalidation_1-rmse:1.07058\n",
      "[1]\tvalidation_0-rmse:1.05798\tvalidation_1-rmse:1.02588\n",
      "[2]\tvalidation_0-rmse:1.01864\tvalidation_1-rmse:1.00046\n",
      "[3]\tvalidation_0-rmse:0.98763\tvalidation_1-rmse:0.97991\n",
      "[4]\tvalidation_0-rmse:0.96726\tvalidation_1-rmse:0.97127\n",
      "[5]\tvalidation_0-rmse:0.95900\tvalidation_1-rmse:0.96738\n",
      "[6]\tvalidation_0-rmse:0.95235\tvalidation_1-rmse:0.96284\n",
      "[7]\tvalidation_0-rmse:0.94630\tvalidation_1-rmse:0.96187\n",
      "[8]\tvalidation_0-rmse:0.94329\tvalidation_1-rmse:0.95997\n",
      "[9]\tvalidation_0-rmse:0.94201\tvalidation_1-rmse:0.95842\n"
     ]
    },
    {
     "name": "stderr",
     "output_type": "stream",
     "text": [
      "D:\\Anaconda\\lib\\site-packages\\xgboost\\data.py:112: UserWarning: Use subset (sliced data) of np.ndarray is not recommended because it will generate extra copies and increase memory consumption\n",
      "  warnings.warn(\n"
     ]
    },
    {
     "name": "stdout",
     "output_type": "stream",
     "text": [
      "[0]\tvalidation_0-rmse:1.11100\tvalidation_1-rmse:1.07079\n",
      "[1]\tvalidation_0-rmse:1.05666\tvalidation_1-rmse:1.02649\n",
      "[2]\tvalidation_0-rmse:1.01808\tvalidation_1-rmse:1.00281\n",
      "[3]\tvalidation_0-rmse:0.98639\tvalidation_1-rmse:0.98173\n",
      "[4]\tvalidation_0-rmse:0.96643\tvalidation_1-rmse:0.97329\n",
      "[5]\tvalidation_0-rmse:0.95827\tvalidation_1-rmse:0.96916\n",
      "[6]\tvalidation_0-rmse:0.95169\tvalidation_1-rmse:0.96434\n",
      "[7]\tvalidation_0-rmse:0.94599\tvalidation_1-rmse:0.96306\n",
      "[8]\tvalidation_0-rmse:0.94322\tvalidation_1-rmse:0.96180\n",
      "[9]\tvalidation_0-rmse:0.94177\tvalidation_1-rmse:0.95984\n",
      "[10]\tvalidation_0-rmse:0.93995\tvalidation_1-rmse:0.95936\n",
      "[11]\tvalidation_0-rmse:0.93863\tvalidation_1-rmse:0.95936\n",
      "[12]\tvalidation_0-rmse:0.93635\tvalidation_1-rmse:0.95779\n",
      "[13]\tvalidation_0-rmse:0.93529\tvalidation_1-rmse:0.95766\n",
      "[14]\tvalidation_0-rmse:0.93412\tvalidation_1-rmse:0.95726\n",
      "[15]\tvalidation_0-rmse:0.93267\tvalidation_1-rmse:0.95731\n",
      "[16]\tvalidation_0-rmse:0.93166\tvalidation_1-rmse:0.95747\n",
      "[17]\tvalidation_0-rmse:0.93067\tvalidation_1-rmse:0.95677\n",
      "[18]\tvalidation_0-rmse:0.92973\tvalidation_1-rmse:0.95652\n",
      "[19]\tvalidation_0-rmse:0.92922\tvalidation_1-rmse:0.95640\n",
      "[20]\tvalidation_0-rmse:0.92875\tvalidation_1-rmse:0.95577\n",
      "[21]\tvalidation_0-rmse:0.92820\tvalidation_1-rmse:0.95541\n",
      "[22]\tvalidation_0-rmse:0.92745\tvalidation_1-rmse:0.95549\n",
      "[23]\tvalidation_0-rmse:0.92703\tvalidation_1-rmse:0.95624\n",
      "[24]\tvalidation_0-rmse:0.92671\tvalidation_1-rmse:0.95575\n",
      "[25]\tvalidation_0-rmse:0.92625\tvalidation_1-rmse:0.95509\n",
      "[26]\tvalidation_0-rmse:0.92614\tvalidation_1-rmse:0.95490\n",
      "[27]\tvalidation_0-rmse:0.92543\tvalidation_1-rmse:0.95471\n",
      "[28]\tvalidation_0-rmse:0.92510\tvalidation_1-rmse:0.95476\n",
      "[29]\tvalidation_0-rmse:0.92445\tvalidation_1-rmse:0.95439\n",
      "[30]\tvalidation_0-rmse:0.92386\tvalidation_1-rmse:0.95295\n",
      "[31]\tvalidation_0-rmse:0.92370\tvalidation_1-rmse:0.95306\n",
      "[32]\tvalidation_0-rmse:0.92316\tvalidation_1-rmse:0.95278\n",
      "[33]\tvalidation_0-rmse:0.92273\tvalidation_1-rmse:0.95259\n",
      "[34]\tvalidation_0-rmse:0.92235\tvalidation_1-rmse:0.95228\n",
      "[35]\tvalidation_0-rmse:0.92197\tvalidation_1-rmse:0.95251\n",
      "[36]\tvalidation_0-rmse:0.92167\tvalidation_1-rmse:0.95241\n",
      "[37]\tvalidation_0-rmse:0.92147\tvalidation_1-rmse:0.95265\n",
      "[38]\tvalidation_0-rmse:0.92126\tvalidation_1-rmse:0.95257\n",
      "[39]\tvalidation_0-rmse:0.92089\tvalidation_1-rmse:0.95257\n"
     ]
    },
    {
     "name": "stderr",
     "output_type": "stream",
     "text": [
      "D:\\Anaconda\\lib\\site-packages\\xgboost\\data.py:112: UserWarning: Use subset (sliced data) of np.ndarray is not recommended because it will generate extra copies and increase memory consumption\n",
      "  warnings.warn(\n"
     ]
    },
    {
     "name": "stdout",
     "output_type": "stream",
     "text": [
      "[0]\tvalidation_0-rmse:1.11104\tvalidation_1-rmse:1.07017\n",
      "[1]\tvalidation_0-rmse:1.05765\tvalidation_1-rmse:1.02558\n",
      "[2]\tvalidation_0-rmse:1.01999\tvalidation_1-rmse:1.00182\n",
      "[3]\tvalidation_0-rmse:0.98834\tvalidation_1-rmse:0.98104\n",
      "[4]\tvalidation_0-rmse:0.96812\tvalidation_1-rmse:0.97260\n",
      "[5]\tvalidation_0-rmse:0.95951\tvalidation_1-rmse:0.96740\n",
      "[6]\tvalidation_0-rmse:0.95230\tvalidation_1-rmse:0.96264\n",
      "[7]\tvalidation_0-rmse:0.94666\tvalidation_1-rmse:0.96186\n",
      "[8]\tvalidation_0-rmse:0.94367\tvalidation_1-rmse:0.96036\n",
      "[9]\tvalidation_0-rmse:0.94259\tvalidation_1-rmse:0.95825\n",
      "[10]\tvalidation_0-rmse:0.94081\tvalidation_1-rmse:0.95812\n",
      "[11]\tvalidation_0-rmse:0.93965\tvalidation_1-rmse:0.95778\n",
      "[12]\tvalidation_0-rmse:0.93828\tvalidation_1-rmse:0.95729\n",
      "[13]\tvalidation_0-rmse:0.93712\tvalidation_1-rmse:0.95723\n",
      "[14]\tvalidation_0-rmse:0.93597\tvalidation_1-rmse:0.95656\n",
      "[15]\tvalidation_0-rmse:0.93490\tvalidation_1-rmse:0.95640\n",
      "[16]\tvalidation_0-rmse:0.93351\tvalidation_1-rmse:0.95600\n",
      "[17]\tvalidation_0-rmse:0.93277\tvalidation_1-rmse:0.95560\n",
      "[18]\tvalidation_0-rmse:0.93201\tvalidation_1-rmse:0.95484\n",
      "[19]\tvalidation_0-rmse:0.93126\tvalidation_1-rmse:0.95449\n",
      "[20]\tvalidation_0-rmse:0.93051\tvalidation_1-rmse:0.95449\n",
      "[21]\tvalidation_0-rmse:0.92994\tvalidation_1-rmse:0.95413\n",
      "[22]\tvalidation_0-rmse:0.92926\tvalidation_1-rmse:0.95428\n",
      "[23]\tvalidation_0-rmse:0.92866\tvalidation_1-rmse:0.95442\n",
      "[24]\tvalidation_0-rmse:0.92819\tvalidation_1-rmse:0.95440\n",
      "[25]\tvalidation_0-rmse:0.92777\tvalidation_1-rmse:0.95290\n",
      "[26]\tvalidation_0-rmse:0.92754\tvalidation_1-rmse:0.95254\n",
      "[27]\tvalidation_0-rmse:0.92706\tvalidation_1-rmse:0.95231\n",
      "[28]\tvalidation_0-rmse:0.92653\tvalidation_1-rmse:0.95157\n",
      "[29]\tvalidation_0-rmse:0.92590\tvalidation_1-rmse:0.95087\n",
      "[30]\tvalidation_0-rmse:0.92559\tvalidation_1-rmse:0.95078\n",
      "[31]\tvalidation_0-rmse:0.92533\tvalidation_1-rmse:0.95060\n",
      "[32]\tvalidation_0-rmse:0.92514\tvalidation_1-rmse:0.95053\n",
      "[33]\tvalidation_0-rmse:0.92482\tvalidation_1-rmse:0.95039\n",
      "[34]\tvalidation_0-rmse:0.92464\tvalidation_1-rmse:0.95026\n",
      "[35]\tvalidation_0-rmse:0.92425\tvalidation_1-rmse:0.95146\n",
      "[36]\tvalidation_0-rmse:0.92318\tvalidation_1-rmse:0.95087\n",
      "[37]\tvalidation_0-rmse:0.92295\tvalidation_1-rmse:0.95057\n",
      "[38]\tvalidation_0-rmse:0.92283\tvalidation_1-rmse:0.95046\n",
      "[39]\tvalidation_0-rmse:0.92271\tvalidation_1-rmse:0.94998\n",
      "[40]\tvalidation_0-rmse:0.92250\tvalidation_1-rmse:0.94917\n",
      "[41]\tvalidation_0-rmse:0.92208\tvalidation_1-rmse:0.94898\n",
      "[42]\tvalidation_0-rmse:0.92176\tvalidation_1-rmse:0.94916\n",
      "[43]\tvalidation_0-rmse:0.92151\tvalidation_1-rmse:0.94892\n",
      "[44]\tvalidation_0-rmse:0.92126\tvalidation_1-rmse:0.94859\n",
      "[45]\tvalidation_0-rmse:0.92100\tvalidation_1-rmse:0.94855\n",
      "[46]\tvalidation_0-rmse:0.92079\tvalidation_1-rmse:0.94839\n",
      "[47]\tvalidation_0-rmse:0.92052\tvalidation_1-rmse:0.95064\n",
      "[48]\tvalidation_0-rmse:0.92028\tvalidation_1-rmse:0.95056\n",
      "[49]\tvalidation_0-rmse:0.92006\tvalidation_1-rmse:0.94937\n",
      "[50]\tvalidation_0-rmse:0.91981\tvalidation_1-rmse:0.94910\n",
      "[51]\tvalidation_0-rmse:0.91969\tvalidation_1-rmse:0.94892\n"
     ]
    },
    {
     "name": "stderr",
     "output_type": "stream",
     "text": [
      "D:\\Anaconda\\lib\\site-packages\\xgboost\\data.py:112: UserWarning: Use subset (sliced data) of np.ndarray is not recommended because it will generate extra copies and increase memory consumption\n",
      "  warnings.warn(\n"
     ]
    },
    {
     "name": "stdout",
     "output_type": "stream",
     "text": [
      "[0]\tvalidation_0-rmse:1.11250\tvalidation_1-rmse:1.07058\n",
      "[1]\tvalidation_0-rmse:1.05943\tvalidation_1-rmse:1.02620\n",
      "[2]\tvalidation_0-rmse:1.02232\tvalidation_1-rmse:1.00123\n",
      "[3]\tvalidation_0-rmse:0.99044\tvalidation_1-rmse:0.98099\n",
      "[4]\tvalidation_0-rmse:0.96993\tvalidation_1-rmse:0.97184\n",
      "[5]\tvalidation_0-rmse:0.96133\tvalidation_1-rmse:0.96708\n",
      "[6]\tvalidation_0-rmse:0.95330\tvalidation_1-rmse:0.96181\n",
      "[7]\tvalidation_0-rmse:0.94769\tvalidation_1-rmse:0.96051\n",
      "[8]\tvalidation_0-rmse:0.94400\tvalidation_1-rmse:0.95917\n",
      "[9]\tvalidation_0-rmse:0.94249\tvalidation_1-rmse:0.95733\n",
      "[10]\tvalidation_0-rmse:0.94102\tvalidation_1-rmse:0.95666\n",
      "[11]\tvalidation_0-rmse:0.93974\tvalidation_1-rmse:0.95615\n",
      "[12]\tvalidation_0-rmse:0.93829\tvalidation_1-rmse:0.95573\n",
      "[13]\tvalidation_0-rmse:0.93709\tvalidation_1-rmse:0.95551\n",
      "[14]\tvalidation_0-rmse:0.93583\tvalidation_1-rmse:0.95616\n",
      "[15]\tvalidation_0-rmse:0.93467\tvalidation_1-rmse:0.95616\n",
      "[16]\tvalidation_0-rmse:0.93347\tvalidation_1-rmse:0.95611\n",
      "[17]\tvalidation_0-rmse:0.93281\tvalidation_1-rmse:0.95632\n",
      "[18]\tvalidation_0-rmse:0.93217\tvalidation_1-rmse:0.95632\n"
     ]
    },
    {
     "name": "stderr",
     "output_type": "stream",
     "text": [
      "D:\\Anaconda\\lib\\site-packages\\xgboost\\data.py:112: UserWarning: Use subset (sliced data) of np.ndarray is not recommended because it will generate extra copies and increase memory consumption\n",
      "  warnings.warn(\n"
     ]
    },
    {
     "name": "stdout",
     "output_type": "stream",
     "text": [
      "[0]\tvalidation_0-rmse:1.11063\tvalidation_1-rmse:1.07006\n",
      "[1]\tvalidation_0-rmse:1.05638\tvalidation_1-rmse:1.02577\n",
      "[2]\tvalidation_0-rmse:1.01833\tvalidation_1-rmse:1.00192\n",
      "[3]\tvalidation_0-rmse:0.98714\tvalidation_1-rmse:0.98115\n",
      "[4]\tvalidation_0-rmse:0.96725\tvalidation_1-rmse:0.97235\n",
      "[5]\tvalidation_0-rmse:0.95908\tvalidation_1-rmse:0.96749\n",
      "[6]\tvalidation_0-rmse:0.95153\tvalidation_1-rmse:0.96339\n",
      "[7]\tvalidation_0-rmse:0.94635\tvalidation_1-rmse:0.96249\n",
      "[8]\tvalidation_0-rmse:0.94286\tvalidation_1-rmse:0.96116\n",
      "[9]\tvalidation_0-rmse:0.94163\tvalidation_1-rmse:0.95888\n",
      "[10]\tvalidation_0-rmse:0.93993\tvalidation_1-rmse:0.95857\n",
      "[11]\tvalidation_0-rmse:0.93883\tvalidation_1-rmse:0.95825\n",
      "[12]\tvalidation_0-rmse:0.93747\tvalidation_1-rmse:0.95688\n",
      "[13]\tvalidation_0-rmse:0.93629\tvalidation_1-rmse:0.95661\n",
      "[14]\tvalidation_0-rmse:0.93487\tvalidation_1-rmse:0.95633\n",
      "[15]\tvalidation_0-rmse:0.93344\tvalidation_1-rmse:0.95616\n",
      "[16]\tvalidation_0-rmse:0.93253\tvalidation_1-rmse:0.95616\n",
      "[17]\tvalidation_0-rmse:0.93103\tvalidation_1-rmse:0.95479\n",
      "[18]\tvalidation_0-rmse:0.93047\tvalidation_1-rmse:0.95465\n",
      "[19]\tvalidation_0-rmse:0.93014\tvalidation_1-rmse:0.95421\n",
      "[20]\tvalidation_0-rmse:0.92963\tvalidation_1-rmse:0.95412\n",
      "[21]\tvalidation_0-rmse:0.92921\tvalidation_1-rmse:0.95374\n",
      "[22]\tvalidation_0-rmse:0.92861\tvalidation_1-rmse:0.95369\n",
      "[23]\tvalidation_0-rmse:0.92830\tvalidation_1-rmse:0.95354\n",
      "[24]\tvalidation_0-rmse:0.92769\tvalidation_1-rmse:0.95349\n",
      "[25]\tvalidation_0-rmse:0.92729\tvalidation_1-rmse:0.95291\n",
      "[26]\tvalidation_0-rmse:0.92718\tvalidation_1-rmse:0.95239\n",
      "[27]\tvalidation_0-rmse:0.92657\tvalidation_1-rmse:0.95212\n",
      "[28]\tvalidation_0-rmse:0.92630\tvalidation_1-rmse:0.95207\n",
      "[29]\tvalidation_0-rmse:0.92584\tvalidation_1-rmse:0.95208\n",
      "[30]\tvalidation_0-rmse:0.92525\tvalidation_1-rmse:0.95157\n",
      "[31]\tvalidation_0-rmse:0.92502\tvalidation_1-rmse:0.95162\n",
      "[32]\tvalidation_0-rmse:0.92443\tvalidation_1-rmse:0.95034\n",
      "[33]\tvalidation_0-rmse:0.92396\tvalidation_1-rmse:0.95067\n",
      "[34]\tvalidation_0-rmse:0.92372\tvalidation_1-rmse:0.95061\n",
      "[35]\tvalidation_0-rmse:0.92317\tvalidation_1-rmse:0.95024\n",
      "[36]\tvalidation_0-rmse:0.92277\tvalidation_1-rmse:0.95000\n",
      "[37]\tvalidation_0-rmse:0.92229\tvalidation_1-rmse:0.95016\n",
      "[38]\tvalidation_0-rmse:0.92219\tvalidation_1-rmse:0.95014\n",
      "[39]\tvalidation_0-rmse:0.92201\tvalidation_1-rmse:0.95009\n",
      "[40]\tvalidation_0-rmse:0.92166\tvalidation_1-rmse:0.95118\n",
      "[41]\tvalidation_0-rmse:0.92116\tvalidation_1-rmse:0.95031\n"
     ]
    },
    {
     "name": "stderr",
     "output_type": "stream",
     "text": [
      "D:\\Anaconda\\lib\\site-packages\\xgboost\\data.py:112: UserWarning: Use subset (sliced data) of np.ndarray is not recommended because it will generate extra copies and increase memory consumption\n",
      "  warnings.warn(\n"
     ]
    },
    {
     "name": "stdout",
     "output_type": "stream",
     "text": [
      "[0]\tvalidation_0-rmse:1.11154\tvalidation_1-rmse:1.07058\n",
      "[1]\tvalidation_0-rmse:1.05798\tvalidation_1-rmse:1.02588\n",
      "[2]\tvalidation_0-rmse:1.01864\tvalidation_1-rmse:1.00046\n",
      "[3]\tvalidation_0-rmse:0.98763\tvalidation_1-rmse:0.97991\n",
      "[4]\tvalidation_0-rmse:0.96726\tvalidation_1-rmse:0.97127\n",
      "[5]\tvalidation_0-rmse:0.95900\tvalidation_1-rmse:0.96738\n",
      "[6]\tvalidation_0-rmse:0.95235\tvalidation_1-rmse:0.96284\n",
      "[7]\tvalidation_0-rmse:0.94630\tvalidation_1-rmse:0.96187\n",
      "[8]\tvalidation_0-rmse:0.94329\tvalidation_1-rmse:0.95997\n",
      "[9]\tvalidation_0-rmse:0.94201\tvalidation_1-rmse:0.95842\n",
      "[10]\tvalidation_0-rmse:0.94054\tvalidation_1-rmse:0.95769\n",
      "[11]\tvalidation_0-rmse:0.93923\tvalidation_1-rmse:0.95759\n",
      "[12]\tvalidation_0-rmse:0.93799\tvalidation_1-rmse:0.95745\n",
      "[13]\tvalidation_0-rmse:0.93674\tvalidation_1-rmse:0.95701\n",
      "[14]\tvalidation_0-rmse:0.93566\tvalidation_1-rmse:0.95715\n",
      "[15]\tvalidation_0-rmse:0.93454\tvalidation_1-rmse:0.95668\n",
      "[16]\tvalidation_0-rmse:0.93290\tvalidation_1-rmse:0.95506\n",
      "[17]\tvalidation_0-rmse:0.93174\tvalidation_1-rmse:0.95429\n",
      "[18]\tvalidation_0-rmse:0.93125\tvalidation_1-rmse:0.95439\n",
      "[19]\tvalidation_0-rmse:0.93077\tvalidation_1-rmse:0.95415\n",
      "[20]\tvalidation_0-rmse:0.92995\tvalidation_1-rmse:0.95401\n",
      "[21]\tvalidation_0-rmse:0.92950\tvalidation_1-rmse:0.95329\n",
      "[22]\tvalidation_0-rmse:0.92889\tvalidation_1-rmse:0.95348\n",
      "[23]\tvalidation_0-rmse:0.92845\tvalidation_1-rmse:0.95243\n",
      "[24]\tvalidation_0-rmse:0.92784\tvalidation_1-rmse:0.95233\n",
      "[25]\tvalidation_0-rmse:0.92700\tvalidation_1-rmse:0.95131\n",
      "[26]\tvalidation_0-rmse:0.92677\tvalidation_1-rmse:0.95105\n",
      "[27]\tvalidation_0-rmse:0.92625\tvalidation_1-rmse:0.95128\n",
      "[28]\tvalidation_0-rmse:0.92569\tvalidation_1-rmse:0.95158\n",
      "[29]\tvalidation_0-rmse:0.92515\tvalidation_1-rmse:0.95131\n",
      "[30]\tvalidation_0-rmse:0.92501\tvalidation_1-rmse:0.95118\n",
      "[31]\tvalidation_0-rmse:0.92473\tvalidation_1-rmse:0.95122\n"
     ]
    },
    {
     "name": "stderr",
     "output_type": "stream",
     "text": [
      "D:\\Anaconda\\lib\\site-packages\\xgboost\\data.py:112: UserWarning: Use subset (sliced data) of np.ndarray is not recommended because it will generate extra copies and increase memory consumption\n",
      "  warnings.warn(\n"
     ]
    },
    {
     "name": "stdout",
     "output_type": "stream",
     "text": [
      "[0]\tvalidation_0-rmse:1.11100\tvalidation_1-rmse:1.07079\n"
     ]
    },
    {
     "name": "stderr",
     "output_type": "stream",
     "text": [
      "D:\\Anaconda\\lib\\site-packages\\xgboost\\data.py:112: UserWarning: Use subset (sliced data) of np.ndarray is not recommended because it will generate extra copies and increase memory consumption\n",
      "  warnings.warn(\n"
     ]
    },
    {
     "name": "stdout",
     "output_type": "stream",
     "text": [
      "[0]\tvalidation_0-rmse:1.11104\tvalidation_1-rmse:1.07017\n"
     ]
    },
    {
     "name": "stderr",
     "output_type": "stream",
     "text": [
      "D:\\Anaconda\\lib\\site-packages\\xgboost\\data.py:112: UserWarning: Use subset (sliced data) of np.ndarray is not recommended because it will generate extra copies and increase memory consumption\n",
      "  warnings.warn(\n"
     ]
    },
    {
     "name": "stdout",
     "output_type": "stream",
     "text": [
      "[0]\tvalidation_0-rmse:1.11250\tvalidation_1-rmse:1.07058\n"
     ]
    },
    {
     "name": "stderr",
     "output_type": "stream",
     "text": [
      "D:\\Anaconda\\lib\\site-packages\\xgboost\\data.py:112: UserWarning: Use subset (sliced data) of np.ndarray is not recommended because it will generate extra copies and increase memory consumption\n",
      "  warnings.warn(\n"
     ]
    },
    {
     "name": "stdout",
     "output_type": "stream",
     "text": [
      "[0]\tvalidation_0-rmse:1.11063\tvalidation_1-rmse:1.07006\n"
     ]
    },
    {
     "name": "stderr",
     "output_type": "stream",
     "text": [
      "D:\\Anaconda\\lib\\site-packages\\xgboost\\data.py:112: UserWarning: Use subset (sliced data) of np.ndarray is not recommended because it will generate extra copies and increase memory consumption\n",
      "  warnings.warn(\n"
     ]
    },
    {
     "name": "stdout",
     "output_type": "stream",
     "text": [
      "[0]\tvalidation_0-rmse:1.11154\tvalidation_1-rmse:1.07058\n"
     ]
    },
    {
     "name": "stderr",
     "output_type": "stream",
     "text": [
      "D:\\Anaconda\\lib\\site-packages\\xgboost\\data.py:112: UserWarning: Use subset (sliced data) of np.ndarray is not recommended because it will generate extra copies and increase memory consumption\n",
      "  warnings.warn(\n"
     ]
    },
    {
     "name": "stdout",
     "output_type": "stream",
     "text": [
      "[0]\tvalidation_0-rmse:1.11100\tvalidation_1-rmse:1.07079\n",
      "[1]\tvalidation_0-rmse:1.05666\tvalidation_1-rmse:1.02649\n",
      "[2]\tvalidation_0-rmse:1.01808\tvalidation_1-rmse:1.00281\n",
      "[3]\tvalidation_0-rmse:0.98642\tvalidation_1-rmse:0.98168\n",
      "[4]\tvalidation_0-rmse:0.96646\tvalidation_1-rmse:0.97323\n",
      "[5]\tvalidation_0-rmse:0.95829\tvalidation_1-rmse:0.96909\n",
      "[6]\tvalidation_0-rmse:0.95171\tvalidation_1-rmse:0.96427\n",
      "[7]\tvalidation_0-rmse:0.94601\tvalidation_1-rmse:0.96305\n",
      "[8]\tvalidation_0-rmse:0.94325\tvalidation_1-rmse:0.96185\n",
      "[9]\tvalidation_0-rmse:0.94178\tvalidation_1-rmse:0.95964\n"
     ]
    },
    {
     "name": "stderr",
     "output_type": "stream",
     "text": [
      "D:\\Anaconda\\lib\\site-packages\\xgboost\\data.py:112: UserWarning: Use subset (sliced data) of np.ndarray is not recommended because it will generate extra copies and increase memory consumption\n",
      "  warnings.warn(\n"
     ]
    },
    {
     "name": "stdout",
     "output_type": "stream",
     "text": [
      "[0]\tvalidation_0-rmse:1.11104\tvalidation_1-rmse:1.07017\n",
      "[1]\tvalidation_0-rmse:1.05765\tvalidation_1-rmse:1.02558\n",
      "[2]\tvalidation_0-rmse:1.01999\tvalidation_1-rmse:1.00182\n",
      "[3]\tvalidation_0-rmse:0.98836\tvalidation_1-rmse:0.98101\n",
      "[4]\tvalidation_0-rmse:0.96814\tvalidation_1-rmse:0.97255\n",
      "[5]\tvalidation_0-rmse:0.95952\tvalidation_1-rmse:0.96734\n",
      "[6]\tvalidation_0-rmse:0.95231\tvalidation_1-rmse:0.96258\n",
      "[7]\tvalidation_0-rmse:0.94682\tvalidation_1-rmse:0.96171\n",
      "[8]\tvalidation_0-rmse:0.94392\tvalidation_1-rmse:0.96044\n",
      "[9]\tvalidation_0-rmse:0.94282\tvalidation_1-rmse:0.95817\n"
     ]
    },
    {
     "name": "stderr",
     "output_type": "stream",
     "text": [
      "D:\\Anaconda\\lib\\site-packages\\xgboost\\data.py:112: UserWarning: Use subset (sliced data) of np.ndarray is not recommended because it will generate extra copies and increase memory consumption\n",
      "  warnings.warn(\n"
     ]
    },
    {
     "name": "stdout",
     "output_type": "stream",
     "text": [
      "[0]\tvalidation_0-rmse:1.11250\tvalidation_1-rmse:1.07058\n",
      "[1]\tvalidation_0-rmse:1.05943\tvalidation_1-rmse:1.02620\n",
      "[2]\tvalidation_0-rmse:1.02232\tvalidation_1-rmse:1.00121\n",
      "[3]\tvalidation_0-rmse:0.99045\tvalidation_1-rmse:0.98173\n",
      "[4]\tvalidation_0-rmse:0.96992\tvalidation_1-rmse:0.97193\n",
      "[5]\tvalidation_0-rmse:0.96128\tvalidation_1-rmse:0.96709\n",
      "[6]\tvalidation_0-rmse:0.95326\tvalidation_1-rmse:0.96190\n",
      "[7]\tvalidation_0-rmse:0.94773\tvalidation_1-rmse:0.96052\n",
      "[8]\tvalidation_0-rmse:0.94413\tvalidation_1-rmse:0.95900\n",
      "[9]\tvalidation_0-rmse:0.94264\tvalidation_1-rmse:0.95704\n"
     ]
    },
    {
     "name": "stderr",
     "output_type": "stream",
     "text": [
      "D:\\Anaconda\\lib\\site-packages\\xgboost\\data.py:112: UserWarning: Use subset (sliced data) of np.ndarray is not recommended because it will generate extra copies and increase memory consumption\n",
      "  warnings.warn(\n"
     ]
    },
    {
     "name": "stdout",
     "output_type": "stream",
     "text": [
      "[0]\tvalidation_0-rmse:1.11063\tvalidation_1-rmse:1.07006\n",
      "[1]\tvalidation_0-rmse:1.05638\tvalidation_1-rmse:1.02577\n",
      "[2]\tvalidation_0-rmse:1.01833\tvalidation_1-rmse:1.00192\n",
      "[3]\tvalidation_0-rmse:0.98715\tvalidation_1-rmse:0.98118\n",
      "[4]\tvalidation_0-rmse:0.96726\tvalidation_1-rmse:0.97241\n",
      "[5]\tvalidation_0-rmse:0.95910\tvalidation_1-rmse:0.96756\n",
      "[6]\tvalidation_0-rmse:0.95154\tvalidation_1-rmse:0.96345\n",
      "[7]\tvalidation_0-rmse:0.94637\tvalidation_1-rmse:0.96254\n",
      "[8]\tvalidation_0-rmse:0.94287\tvalidation_1-rmse:0.96122\n",
      "[9]\tvalidation_0-rmse:0.94164\tvalidation_1-rmse:0.95895\n"
     ]
    },
    {
     "name": "stderr",
     "output_type": "stream",
     "text": [
      "D:\\Anaconda\\lib\\site-packages\\xgboost\\data.py:112: UserWarning: Use subset (sliced data) of np.ndarray is not recommended because it will generate extra copies and increase memory consumption\n",
      "  warnings.warn(\n"
     ]
    },
    {
     "name": "stdout",
     "output_type": "stream",
     "text": [
      "[0]\tvalidation_0-rmse:1.11154\tvalidation_1-rmse:1.07058\n",
      "[1]\tvalidation_0-rmse:1.05798\tvalidation_1-rmse:1.02588\n",
      "[2]\tvalidation_0-rmse:1.01864\tvalidation_1-rmse:1.00046\n",
      "[3]\tvalidation_0-rmse:0.98766\tvalidation_1-rmse:0.97988\n",
      "[4]\tvalidation_0-rmse:0.96728\tvalidation_1-rmse:0.97124\n",
      "[5]\tvalidation_0-rmse:0.95901\tvalidation_1-rmse:0.96735\n",
      "[6]\tvalidation_0-rmse:0.95237\tvalidation_1-rmse:0.96280\n",
      "[7]\tvalidation_0-rmse:0.94632\tvalidation_1-rmse:0.96183\n",
      "[8]\tvalidation_0-rmse:0.94334\tvalidation_1-rmse:0.96001\n",
      "[9]\tvalidation_0-rmse:0.94207\tvalidation_1-rmse:0.95842\n"
     ]
    },
    {
     "name": "stderr",
     "output_type": "stream",
     "text": [
      "D:\\Anaconda\\lib\\site-packages\\xgboost\\data.py:112: UserWarning: Use subset (sliced data) of np.ndarray is not recommended because it will generate extra copies and increase memory consumption\n",
      "  warnings.warn(\n"
     ]
    },
    {
     "name": "stdout",
     "output_type": "stream",
     "text": [
      "[0]\tvalidation_0-rmse:1.11100\tvalidation_1-rmse:1.07079\n",
      "[1]\tvalidation_0-rmse:1.05666\tvalidation_1-rmse:1.02649\n",
      "[2]\tvalidation_0-rmse:1.01808\tvalidation_1-rmse:1.00281\n",
      "[3]\tvalidation_0-rmse:0.98642\tvalidation_1-rmse:0.98168\n",
      "[4]\tvalidation_0-rmse:0.96646\tvalidation_1-rmse:0.97323\n",
      "[5]\tvalidation_0-rmse:0.95829\tvalidation_1-rmse:0.96909\n",
      "[6]\tvalidation_0-rmse:0.95171\tvalidation_1-rmse:0.96427\n",
      "[7]\tvalidation_0-rmse:0.94601\tvalidation_1-rmse:0.96305\n",
      "[8]\tvalidation_0-rmse:0.94325\tvalidation_1-rmse:0.96185\n",
      "[9]\tvalidation_0-rmse:0.94178\tvalidation_1-rmse:0.95964\n",
      "[10]\tvalidation_0-rmse:0.93996\tvalidation_1-rmse:0.95916\n",
      "[11]\tvalidation_0-rmse:0.93863\tvalidation_1-rmse:0.95932\n",
      "[12]\tvalidation_0-rmse:0.93712\tvalidation_1-rmse:0.95871\n",
      "[13]\tvalidation_0-rmse:0.93616\tvalidation_1-rmse:0.95802\n",
      "[14]\tvalidation_0-rmse:0.93380\tvalidation_1-rmse:0.95661\n",
      "[15]\tvalidation_0-rmse:0.93239\tvalidation_1-rmse:0.95670\n",
      "[16]\tvalidation_0-rmse:0.93129\tvalidation_1-rmse:0.95759\n",
      "[17]\tvalidation_0-rmse:0.93082\tvalidation_1-rmse:0.95761\n",
      "[18]\tvalidation_0-rmse:0.92983\tvalidation_1-rmse:0.95678\n",
      "[19]\tvalidation_0-rmse:0.92930\tvalidation_1-rmse:0.95633\n",
      "[20]\tvalidation_0-rmse:0.92850\tvalidation_1-rmse:0.95567\n",
      "[21]\tvalidation_0-rmse:0.92805\tvalidation_1-rmse:0.95508\n",
      "[22]\tvalidation_0-rmse:0.92766\tvalidation_1-rmse:0.95434\n",
      "[23]\tvalidation_0-rmse:0.92720\tvalidation_1-rmse:0.95427\n",
      "[24]\tvalidation_0-rmse:0.92690\tvalidation_1-rmse:0.95452\n",
      "[25]\tvalidation_0-rmse:0.92650\tvalidation_1-rmse:0.95444\n",
      "[26]\tvalidation_0-rmse:0.92634\tvalidation_1-rmse:0.95443\n",
      "[27]\tvalidation_0-rmse:0.92573\tvalidation_1-rmse:0.95535\n"
     ]
    },
    {
     "name": "stderr",
     "output_type": "stream",
     "text": [
      "D:\\Anaconda\\lib\\site-packages\\xgboost\\data.py:112: UserWarning: Use subset (sliced data) of np.ndarray is not recommended because it will generate extra copies and increase memory consumption\n",
      "  warnings.warn(\n"
     ]
    },
    {
     "name": "stdout",
     "output_type": "stream",
     "text": [
      "[0]\tvalidation_0-rmse:1.11104\tvalidation_1-rmse:1.07017\n",
      "[1]\tvalidation_0-rmse:1.05765\tvalidation_1-rmse:1.02558\n",
      "[2]\tvalidation_0-rmse:1.01999\tvalidation_1-rmse:1.00182\n",
      "[3]\tvalidation_0-rmse:0.98836\tvalidation_1-rmse:0.98101\n",
      "[4]\tvalidation_0-rmse:0.96814\tvalidation_1-rmse:0.97255\n",
      "[5]\tvalidation_0-rmse:0.95952\tvalidation_1-rmse:0.96734\n",
      "[6]\tvalidation_0-rmse:0.95231\tvalidation_1-rmse:0.96258\n",
      "[7]\tvalidation_0-rmse:0.94682\tvalidation_1-rmse:0.96171\n",
      "[8]\tvalidation_0-rmse:0.94392\tvalidation_1-rmse:0.96044\n",
      "[9]\tvalidation_0-rmse:0.94282\tvalidation_1-rmse:0.95817\n",
      "[10]\tvalidation_0-rmse:0.94103\tvalidation_1-rmse:0.95804\n",
      "[11]\tvalidation_0-rmse:0.93997\tvalidation_1-rmse:0.95793\n",
      "[12]\tvalidation_0-rmse:0.93834\tvalidation_1-rmse:0.95747\n",
      "[13]\tvalidation_0-rmse:0.93719\tvalidation_1-rmse:0.95699\n",
      "[14]\tvalidation_0-rmse:0.93579\tvalidation_1-rmse:0.95581\n",
      "[15]\tvalidation_0-rmse:0.93470\tvalidation_1-rmse:0.95567\n",
      "[16]\tvalidation_0-rmse:0.93353\tvalidation_1-rmse:0.95515\n",
      "[17]\tvalidation_0-rmse:0.93283\tvalidation_1-rmse:0.95486\n",
      "[18]\tvalidation_0-rmse:0.93200\tvalidation_1-rmse:0.95398\n",
      "[19]\tvalidation_0-rmse:0.93155\tvalidation_1-rmse:0.95361\n",
      "[20]\tvalidation_0-rmse:0.93062\tvalidation_1-rmse:0.95327\n",
      "[21]\tvalidation_0-rmse:0.93017\tvalidation_1-rmse:0.95296\n",
      "[22]\tvalidation_0-rmse:0.92945\tvalidation_1-rmse:0.95273\n",
      "[23]\tvalidation_0-rmse:0.92902\tvalidation_1-rmse:0.95307\n",
      "[24]\tvalidation_0-rmse:0.92855\tvalidation_1-rmse:0.95264\n",
      "[25]\tvalidation_0-rmse:0.92814\tvalidation_1-rmse:0.95133\n",
      "[26]\tvalidation_0-rmse:0.92795\tvalidation_1-rmse:0.95113\n",
      "[27]\tvalidation_0-rmse:0.92722\tvalidation_1-rmse:0.95092\n",
      "[28]\tvalidation_0-rmse:0.92667\tvalidation_1-rmse:0.95124\n",
      "[29]\tvalidation_0-rmse:0.92602\tvalidation_1-rmse:0.95030\n",
      "[30]\tvalidation_0-rmse:0.92561\tvalidation_1-rmse:0.95034\n",
      "[31]\tvalidation_0-rmse:0.92528\tvalidation_1-rmse:0.95026\n",
      "[32]\tvalidation_0-rmse:0.92489\tvalidation_1-rmse:0.95000\n",
      "[33]\tvalidation_0-rmse:0.92449\tvalidation_1-rmse:0.94986\n",
      "[34]\tvalidation_0-rmse:0.92425\tvalidation_1-rmse:0.95043\n",
      "[35]\tvalidation_0-rmse:0.92382\tvalidation_1-rmse:0.95158\n",
      "[36]\tvalidation_0-rmse:0.92346\tvalidation_1-rmse:0.95146\n",
      "[37]\tvalidation_0-rmse:0.92316\tvalidation_1-rmse:0.95245\n",
      "[38]\tvalidation_0-rmse:0.92303\tvalidation_1-rmse:0.95185\n"
     ]
    },
    {
     "name": "stderr",
     "output_type": "stream",
     "text": [
      "D:\\Anaconda\\lib\\site-packages\\xgboost\\data.py:112: UserWarning: Use subset (sliced data) of np.ndarray is not recommended because it will generate extra copies and increase memory consumption\n",
      "  warnings.warn(\n"
     ]
    },
    {
     "name": "stdout",
     "output_type": "stream",
     "text": [
      "[0]\tvalidation_0-rmse:1.11250\tvalidation_1-rmse:1.07058\n",
      "[1]\tvalidation_0-rmse:1.05943\tvalidation_1-rmse:1.02620\n",
      "[2]\tvalidation_0-rmse:1.02232\tvalidation_1-rmse:1.00121\n",
      "[3]\tvalidation_0-rmse:0.99045\tvalidation_1-rmse:0.98173\n",
      "[4]\tvalidation_0-rmse:0.96992\tvalidation_1-rmse:0.97193\n",
      "[5]\tvalidation_0-rmse:0.96128\tvalidation_1-rmse:0.96709\n",
      "[6]\tvalidation_0-rmse:0.95326\tvalidation_1-rmse:0.96190\n",
      "[7]\tvalidation_0-rmse:0.94773\tvalidation_1-rmse:0.96052\n",
      "[8]\tvalidation_0-rmse:0.94413\tvalidation_1-rmse:0.95900\n",
      "[9]\tvalidation_0-rmse:0.94264\tvalidation_1-rmse:0.95704\n",
      "[10]\tvalidation_0-rmse:0.94118\tvalidation_1-rmse:0.95633\n",
      "[11]\tvalidation_0-rmse:0.93999\tvalidation_1-rmse:0.95522\n",
      "[12]\tvalidation_0-rmse:0.93853\tvalidation_1-rmse:0.95476\n",
      "[13]\tvalidation_0-rmse:0.93722\tvalidation_1-rmse:0.95432\n",
      "[14]\tvalidation_0-rmse:0.93599\tvalidation_1-rmse:0.95400\n",
      "[15]\tvalidation_0-rmse:0.93461\tvalidation_1-rmse:0.95395\n",
      "[16]\tvalidation_0-rmse:0.93371\tvalidation_1-rmse:0.95427\n",
      "[17]\tvalidation_0-rmse:0.93323\tvalidation_1-rmse:0.95427\n",
      "[18]\tvalidation_0-rmse:0.93260\tvalidation_1-rmse:0.95441\n",
      "[19]\tvalidation_0-rmse:0.93204\tvalidation_1-rmse:0.95381\n",
      "[20]\tvalidation_0-rmse:0.93139\tvalidation_1-rmse:0.95326\n",
      "[21]\tvalidation_0-rmse:0.93098\tvalidation_1-rmse:0.95335\n",
      "[22]\tvalidation_0-rmse:0.93012\tvalidation_1-rmse:0.95358\n",
      "[23]\tvalidation_0-rmse:0.92976\tvalidation_1-rmse:0.95330\n",
      "[24]\tvalidation_0-rmse:0.92923\tvalidation_1-rmse:0.95209\n",
      "[25]\tvalidation_0-rmse:0.92881\tvalidation_1-rmse:0.95200\n",
      "[26]\tvalidation_0-rmse:0.92862\tvalidation_1-rmse:0.95209\n",
      "[27]\tvalidation_0-rmse:0.92830\tvalidation_1-rmse:0.95215\n",
      "[28]\tvalidation_0-rmse:0.92785\tvalidation_1-rmse:0.95298\n",
      "[29]\tvalidation_0-rmse:0.92720\tvalidation_1-rmse:0.95244\n",
      "[30]\tvalidation_0-rmse:0.92667\tvalidation_1-rmse:0.95108\n",
      "[31]\tvalidation_0-rmse:0.92650\tvalidation_1-rmse:0.95114\n",
      "[32]\tvalidation_0-rmse:0.92598\tvalidation_1-rmse:0.94987\n",
      "[33]\tvalidation_0-rmse:0.92541\tvalidation_1-rmse:0.94985\n",
      "[34]\tvalidation_0-rmse:0.92515\tvalidation_1-rmse:0.94960\n",
      "[35]\tvalidation_0-rmse:0.92479\tvalidation_1-rmse:0.95066\n",
      "[36]\tvalidation_0-rmse:0.92413\tvalidation_1-rmse:0.95066\n",
      "[37]\tvalidation_0-rmse:0.92400\tvalidation_1-rmse:0.95060\n",
      "[38]\tvalidation_0-rmse:0.92383\tvalidation_1-rmse:0.95061\n"
     ]
    },
    {
     "name": "stderr",
     "output_type": "stream",
     "text": [
      "D:\\Anaconda\\lib\\site-packages\\xgboost\\data.py:112: UserWarning: Use subset (sliced data) of np.ndarray is not recommended because it will generate extra copies and increase memory consumption\n",
      "  warnings.warn(\n"
     ]
    },
    {
     "name": "stdout",
     "output_type": "stream",
     "text": [
      "[0]\tvalidation_0-rmse:1.11063\tvalidation_1-rmse:1.07006\n",
      "[1]\tvalidation_0-rmse:1.05638\tvalidation_1-rmse:1.02577\n",
      "[2]\tvalidation_0-rmse:1.01833\tvalidation_1-rmse:1.00192\n",
      "[3]\tvalidation_0-rmse:0.98715\tvalidation_1-rmse:0.98118\n",
      "[4]\tvalidation_0-rmse:0.96726\tvalidation_1-rmse:0.97241\n",
      "[5]\tvalidation_0-rmse:0.95910\tvalidation_1-rmse:0.96756\n",
      "[6]\tvalidation_0-rmse:0.95154\tvalidation_1-rmse:0.96345\n",
      "[7]\tvalidation_0-rmse:0.94637\tvalidation_1-rmse:0.96254\n",
      "[8]\tvalidation_0-rmse:0.94287\tvalidation_1-rmse:0.96122\n",
      "[9]\tvalidation_0-rmse:0.94164\tvalidation_1-rmse:0.95895\n",
      "[10]\tvalidation_0-rmse:0.93995\tvalidation_1-rmse:0.95863\n",
      "[11]\tvalidation_0-rmse:0.93885\tvalidation_1-rmse:0.95833\n",
      "[12]\tvalidation_0-rmse:0.93766\tvalidation_1-rmse:0.95789\n",
      "[13]\tvalidation_0-rmse:0.93625\tvalidation_1-rmse:0.95772\n",
      "[14]\tvalidation_0-rmse:0.93485\tvalidation_1-rmse:0.95752\n",
      "[15]\tvalidation_0-rmse:0.93356\tvalidation_1-rmse:0.95733\n",
      "[16]\tvalidation_0-rmse:0.93264\tvalidation_1-rmse:0.95735\n",
      "[17]\tvalidation_0-rmse:0.93114\tvalidation_1-rmse:0.95600\n",
      "[18]\tvalidation_0-rmse:0.93053\tvalidation_1-rmse:0.95592\n",
      "[19]\tvalidation_0-rmse:0.93022\tvalidation_1-rmse:0.95523\n",
      "[20]\tvalidation_0-rmse:0.92973\tvalidation_1-rmse:0.95514\n",
      "[21]\tvalidation_0-rmse:0.92937\tvalidation_1-rmse:0.95477\n",
      "[22]\tvalidation_0-rmse:0.92873\tvalidation_1-rmse:0.95503\n",
      "[23]\tvalidation_0-rmse:0.92849\tvalidation_1-rmse:0.95494\n",
      "[24]\tvalidation_0-rmse:0.92794\tvalidation_1-rmse:0.95485\n",
      "[25]\tvalidation_0-rmse:0.92752\tvalidation_1-rmse:0.95420\n",
      "[26]\tvalidation_0-rmse:0.92731\tvalidation_1-rmse:0.95354\n",
      "[27]\tvalidation_0-rmse:0.92677\tvalidation_1-rmse:0.95323\n",
      "[28]\tvalidation_0-rmse:0.92644\tvalidation_1-rmse:0.95344\n",
      "[29]\tvalidation_0-rmse:0.92610\tvalidation_1-rmse:0.95320\n",
      "[30]\tvalidation_0-rmse:0.92551\tvalidation_1-rmse:0.95270\n",
      "[31]\tvalidation_0-rmse:0.92530\tvalidation_1-rmse:0.95274\n",
      "[32]\tvalidation_0-rmse:0.92470\tvalidation_1-rmse:0.95163\n",
      "[33]\tvalidation_0-rmse:0.92424\tvalidation_1-rmse:0.95176\n",
      "[34]\tvalidation_0-rmse:0.92401\tvalidation_1-rmse:0.95159\n",
      "[35]\tvalidation_0-rmse:0.92329\tvalidation_1-rmse:0.95156\n",
      "[36]\tvalidation_0-rmse:0.92278\tvalidation_1-rmse:0.95104\n",
      "[37]\tvalidation_0-rmse:0.92238\tvalidation_1-rmse:0.95220\n",
      "[38]\tvalidation_0-rmse:0.92214\tvalidation_1-rmse:0.95201\n",
      "[39]\tvalidation_0-rmse:0.92197\tvalidation_1-rmse:0.95166\n",
      "[40]\tvalidation_0-rmse:0.92162\tvalidation_1-rmse:0.95116\n",
      "[41]\tvalidation_0-rmse:0.92098\tvalidation_1-rmse:0.95018\n",
      "[42]\tvalidation_0-rmse:0.92058\tvalidation_1-rmse:0.94994\n",
      "[43]\tvalidation_0-rmse:0.92016\tvalidation_1-rmse:0.94813\n",
      "[44]\tvalidation_0-rmse:0.91980\tvalidation_1-rmse:0.94865\n",
      "[45]\tvalidation_0-rmse:0.91957\tvalidation_1-rmse:0.94859\n",
      "[46]\tvalidation_0-rmse:0.91932\tvalidation_1-rmse:0.94857\n",
      "[47]\tvalidation_0-rmse:0.91892\tvalidation_1-rmse:0.94867\n"
     ]
    },
    {
     "name": "stderr",
     "output_type": "stream",
     "text": [
      "D:\\Anaconda\\lib\\site-packages\\xgboost\\data.py:112: UserWarning: Use subset (sliced data) of np.ndarray is not recommended because it will generate extra copies and increase memory consumption\n",
      "  warnings.warn(\n"
     ]
    },
    {
     "name": "stdout",
     "output_type": "stream",
     "text": [
      "[0]\tvalidation_0-rmse:1.11154\tvalidation_1-rmse:1.07058\n",
      "[1]\tvalidation_0-rmse:1.05798\tvalidation_1-rmse:1.02588\n",
      "[2]\tvalidation_0-rmse:1.01864\tvalidation_1-rmse:1.00046\n",
      "[3]\tvalidation_0-rmse:0.98766\tvalidation_1-rmse:0.97988\n",
      "[4]\tvalidation_0-rmse:0.96728\tvalidation_1-rmse:0.97124\n",
      "[5]\tvalidation_0-rmse:0.95901\tvalidation_1-rmse:0.96735\n",
      "[6]\tvalidation_0-rmse:0.95237\tvalidation_1-rmse:0.96280\n",
      "[7]\tvalidation_0-rmse:0.94632\tvalidation_1-rmse:0.96183\n",
      "[8]\tvalidation_0-rmse:0.94334\tvalidation_1-rmse:0.96001\n",
      "[9]\tvalidation_0-rmse:0.94207\tvalidation_1-rmse:0.95842\n",
      "[10]\tvalidation_0-rmse:0.94060\tvalidation_1-rmse:0.95769\n",
      "[11]\tvalidation_0-rmse:0.93935\tvalidation_1-rmse:0.95766\n",
      "[12]\tvalidation_0-rmse:0.93808\tvalidation_1-rmse:0.95749\n",
      "[13]\tvalidation_0-rmse:0.93680\tvalidation_1-rmse:0.95701\n",
      "[14]\tvalidation_0-rmse:0.93573\tvalidation_1-rmse:0.95718\n",
      "[15]\tvalidation_0-rmse:0.93464\tvalidation_1-rmse:0.95670\n",
      "[16]\tvalidation_0-rmse:0.93305\tvalidation_1-rmse:0.95537\n",
      "[17]\tvalidation_0-rmse:0.93198\tvalidation_1-rmse:0.95425\n",
      "[18]\tvalidation_0-rmse:0.93108\tvalidation_1-rmse:0.95425\n",
      "[19]\tvalidation_0-rmse:0.93047\tvalidation_1-rmse:0.95408\n",
      "[20]\tvalidation_0-rmse:0.92976\tvalidation_1-rmse:0.95332\n",
      "[21]\tvalidation_0-rmse:0.92924\tvalidation_1-rmse:0.95288\n",
      "[22]\tvalidation_0-rmse:0.92853\tvalidation_1-rmse:0.95323\n",
      "[23]\tvalidation_0-rmse:0.92781\tvalidation_1-rmse:0.95295\n",
      "[24]\tvalidation_0-rmse:0.92730\tvalidation_1-rmse:0.95316\n",
      "[25]\tvalidation_0-rmse:0.92701\tvalidation_1-rmse:0.95156\n",
      "[26]\tvalidation_0-rmse:0.92678\tvalidation_1-rmse:0.95121\n",
      "[27]\tvalidation_0-rmse:0.92632\tvalidation_1-rmse:0.95191\n",
      "[28]\tvalidation_0-rmse:0.92578\tvalidation_1-rmse:0.95100\n",
      "[29]\tvalidation_0-rmse:0.92509\tvalidation_1-rmse:0.95070\n",
      "[30]\tvalidation_0-rmse:0.92415\tvalidation_1-rmse:0.94936\n",
      "[31]\tvalidation_0-rmse:0.92388\tvalidation_1-rmse:0.94930\n",
      "[32]\tvalidation_0-rmse:0.92362\tvalidation_1-rmse:0.94881\n",
      "[33]\tvalidation_0-rmse:0.92315\tvalidation_1-rmse:0.94860\n",
      "[34]\tvalidation_0-rmse:0.92279\tvalidation_1-rmse:0.94837\n",
      "[35]\tvalidation_0-rmse:0.92232\tvalidation_1-rmse:0.94826\n",
      "[36]\tvalidation_0-rmse:0.92138\tvalidation_1-rmse:0.94761\n",
      "[37]\tvalidation_0-rmse:0.92090\tvalidation_1-rmse:0.94892\n",
      "[38]\tvalidation_0-rmse:0.92062\tvalidation_1-rmse:0.94858\n",
      "[39]\tvalidation_0-rmse:0.92024\tvalidation_1-rmse:0.94853\n",
      "[40]\tvalidation_0-rmse:0.91999\tvalidation_1-rmse:0.94827\n",
      "[41]\tvalidation_0-rmse:0.91981\tvalidation_1-rmse:0.94748\n",
      "[42]\tvalidation_0-rmse:0.91940\tvalidation_1-rmse:0.94776\n",
      "[43]\tvalidation_0-rmse:0.91929\tvalidation_1-rmse:0.94780\n",
      "[44]\tvalidation_0-rmse:0.91918\tvalidation_1-rmse:0.94787\n",
      "[45]\tvalidation_0-rmse:0.91886\tvalidation_1-rmse:0.94806\n"
     ]
    },
    {
     "name": "stderr",
     "output_type": "stream",
     "text": [
      "D:\\Anaconda\\lib\\site-packages\\xgboost\\data.py:112: UserWarning: Use subset (sliced data) of np.ndarray is not recommended because it will generate extra copies and increase memory consumption\n",
      "  warnings.warn(\n"
     ]
    },
    {
     "name": "stdout",
     "output_type": "stream",
     "text": [
      "[0]\tvalidation_0-rmse:1.11100\tvalidation_1-rmse:1.07079\n"
     ]
    },
    {
     "name": "stderr",
     "output_type": "stream",
     "text": [
      "D:\\Anaconda\\lib\\site-packages\\xgboost\\data.py:112: UserWarning: Use subset (sliced data) of np.ndarray is not recommended because it will generate extra copies and increase memory consumption\n",
      "  warnings.warn(\n"
     ]
    },
    {
     "name": "stdout",
     "output_type": "stream",
     "text": [
      "[0]\tvalidation_0-rmse:1.11104\tvalidation_1-rmse:1.07017\n"
     ]
    },
    {
     "name": "stderr",
     "output_type": "stream",
     "text": [
      "D:\\Anaconda\\lib\\site-packages\\xgboost\\data.py:112: UserWarning: Use subset (sliced data) of np.ndarray is not recommended because it will generate extra copies and increase memory consumption\n",
      "  warnings.warn(\n"
     ]
    },
    {
     "name": "stdout",
     "output_type": "stream",
     "text": [
      "[0]\tvalidation_0-rmse:1.11250\tvalidation_1-rmse:1.07058\n"
     ]
    },
    {
     "name": "stderr",
     "output_type": "stream",
     "text": [
      "D:\\Anaconda\\lib\\site-packages\\xgboost\\data.py:112: UserWarning: Use subset (sliced data) of np.ndarray is not recommended because it will generate extra copies and increase memory consumption\n",
      "  warnings.warn(\n"
     ]
    },
    {
     "name": "stdout",
     "output_type": "stream",
     "text": [
      "[0]\tvalidation_0-rmse:1.11063\tvalidation_1-rmse:1.07006\n"
     ]
    },
    {
     "name": "stderr",
     "output_type": "stream",
     "text": [
      "D:\\Anaconda\\lib\\site-packages\\xgboost\\data.py:112: UserWarning: Use subset (sliced data) of np.ndarray is not recommended because it will generate extra copies and increase memory consumption\n",
      "  warnings.warn(\n"
     ]
    },
    {
     "name": "stdout",
     "output_type": "stream",
     "text": [
      "[0]\tvalidation_0-rmse:1.11154\tvalidation_1-rmse:1.07058\n"
     ]
    },
    {
     "name": "stderr",
     "output_type": "stream",
     "text": [
      "D:\\Anaconda\\lib\\site-packages\\xgboost\\data.py:112: UserWarning: Use subset (sliced data) of np.ndarray is not recommended because it will generate extra copies and increase memory consumption\n",
      "  warnings.warn(\n"
     ]
    },
    {
     "name": "stdout",
     "output_type": "stream",
     "text": [
      "[0]\tvalidation_0-rmse:1.11100\tvalidation_1-rmse:1.07079\n",
      "[1]\tvalidation_0-rmse:1.05666\tvalidation_1-rmse:1.02649\n",
      "[2]\tvalidation_0-rmse:1.01808\tvalidation_1-rmse:1.00281\n",
      "[3]\tvalidation_0-rmse:0.98642\tvalidation_1-rmse:0.98168\n",
      "[4]\tvalidation_0-rmse:0.96646\tvalidation_1-rmse:0.97323\n",
      "[5]\tvalidation_0-rmse:0.95829\tvalidation_1-rmse:0.96908\n",
      "[6]\tvalidation_0-rmse:0.95171\tvalidation_1-rmse:0.96425\n",
      "[7]\tvalidation_0-rmse:0.94601\tvalidation_1-rmse:0.96302\n",
      "[8]\tvalidation_0-rmse:0.94324\tvalidation_1-rmse:0.96183\n",
      "[9]\tvalidation_0-rmse:0.94178\tvalidation_1-rmse:0.95962\n"
     ]
    },
    {
     "name": "stderr",
     "output_type": "stream",
     "text": [
      "D:\\Anaconda\\lib\\site-packages\\xgboost\\data.py:112: UserWarning: Use subset (sliced data) of np.ndarray is not recommended because it will generate extra copies and increase memory consumption\n",
      "  warnings.warn(\n"
     ]
    },
    {
     "name": "stdout",
     "output_type": "stream",
     "text": [
      "[0]\tvalidation_0-rmse:1.11104\tvalidation_1-rmse:1.07017\n",
      "[1]\tvalidation_0-rmse:1.05765\tvalidation_1-rmse:1.02558\n",
      "[2]\tvalidation_0-rmse:1.01999\tvalidation_1-rmse:1.00182\n",
      "[3]\tvalidation_0-rmse:0.98839\tvalidation_1-rmse:0.98092\n",
      "[4]\tvalidation_0-rmse:0.96818\tvalidation_1-rmse:0.97246\n",
      "[5]\tvalidation_0-rmse:0.95959\tvalidation_1-rmse:0.96735\n",
      "[6]\tvalidation_0-rmse:0.95241\tvalidation_1-rmse:0.96320\n",
      "[7]\tvalidation_0-rmse:0.94694\tvalidation_1-rmse:0.96219\n",
      "[8]\tvalidation_0-rmse:0.94398\tvalidation_1-rmse:0.96074\n",
      "[9]\tvalidation_0-rmse:0.94288\tvalidation_1-rmse:0.95871\n"
     ]
    },
    {
     "name": "stderr",
     "output_type": "stream",
     "text": [
      "D:\\Anaconda\\lib\\site-packages\\xgboost\\data.py:112: UserWarning: Use subset (sliced data) of np.ndarray is not recommended because it will generate extra copies and increase memory consumption\n",
      "  warnings.warn(\n"
     ]
    },
    {
     "name": "stdout",
     "output_type": "stream",
     "text": [
      "[0]\tvalidation_0-rmse:1.11250\tvalidation_1-rmse:1.07058\n",
      "[1]\tvalidation_0-rmse:1.05943\tvalidation_1-rmse:1.02620\n",
      "[2]\tvalidation_0-rmse:1.02252\tvalidation_1-rmse:1.00163\n",
      "[3]\tvalidation_0-rmse:0.99061\tvalidation_1-rmse:0.98204\n",
      "[4]\tvalidation_0-rmse:0.97010\tvalidation_1-rmse:0.97273\n",
      "[5]\tvalidation_0-rmse:0.96147\tvalidation_1-rmse:0.96792\n",
      "[6]\tvalidation_0-rmse:0.95340\tvalidation_1-rmse:0.96264\n",
      "[7]\tvalidation_0-rmse:0.94784\tvalidation_1-rmse:0.96123\n",
      "[8]\tvalidation_0-rmse:0.94419\tvalidation_1-rmse:0.95963\n",
      "[9]\tvalidation_0-rmse:0.94270\tvalidation_1-rmse:0.95764\n"
     ]
    },
    {
     "name": "stderr",
     "output_type": "stream",
     "text": [
      "D:\\Anaconda\\lib\\site-packages\\xgboost\\data.py:112: UserWarning: Use subset (sliced data) of np.ndarray is not recommended because it will generate extra copies and increase memory consumption\n",
      "  warnings.warn(\n"
     ]
    },
    {
     "name": "stdout",
     "output_type": "stream",
     "text": [
      "[0]\tvalidation_0-rmse:1.11063\tvalidation_1-rmse:1.07006\n",
      "[1]\tvalidation_0-rmse:1.05638\tvalidation_1-rmse:1.02577\n",
      "[2]\tvalidation_0-rmse:1.01833\tvalidation_1-rmse:1.00192\n",
      "[3]\tvalidation_0-rmse:0.98719\tvalidation_1-rmse:0.98140\n",
      "[4]\tvalidation_0-rmse:0.96740\tvalidation_1-rmse:0.97286\n",
      "[5]\tvalidation_0-rmse:0.95916\tvalidation_1-rmse:0.96784\n",
      "[6]\tvalidation_0-rmse:0.95149\tvalidation_1-rmse:0.96359\n",
      "[7]\tvalidation_0-rmse:0.94604\tvalidation_1-rmse:0.96248\n",
      "[8]\tvalidation_0-rmse:0.94310\tvalidation_1-rmse:0.96113\n",
      "[9]\tvalidation_0-rmse:0.94167\tvalidation_1-rmse:0.95913\n"
     ]
    },
    {
     "name": "stderr",
     "output_type": "stream",
     "text": [
      "D:\\Anaconda\\lib\\site-packages\\xgboost\\data.py:112: UserWarning: Use subset (sliced data) of np.ndarray is not recommended because it will generate extra copies and increase memory consumption\n",
      "  warnings.warn(\n"
     ]
    },
    {
     "name": "stdout",
     "output_type": "stream",
     "text": [
      "[0]\tvalidation_0-rmse:1.11154\tvalidation_1-rmse:1.07058\n",
      "[1]\tvalidation_0-rmse:1.05798\tvalidation_1-rmse:1.02588\n",
      "[2]\tvalidation_0-rmse:1.01864\tvalidation_1-rmse:1.00046\n",
      "[3]\tvalidation_0-rmse:0.98767\tvalidation_1-rmse:0.98046\n",
      "[4]\tvalidation_0-rmse:0.96729\tvalidation_1-rmse:0.97149\n",
      "[5]\tvalidation_0-rmse:0.95902\tvalidation_1-rmse:0.96754\n",
      "[6]\tvalidation_0-rmse:0.95236\tvalidation_1-rmse:0.96296\n",
      "[7]\tvalidation_0-rmse:0.94643\tvalidation_1-rmse:0.96169\n",
      "[8]\tvalidation_0-rmse:0.94334\tvalidation_1-rmse:0.95988\n",
      "[9]\tvalidation_0-rmse:0.94210\tvalidation_1-rmse:0.95843\n"
     ]
    },
    {
     "name": "stderr",
     "output_type": "stream",
     "text": [
      "D:\\Anaconda\\lib\\site-packages\\xgboost\\data.py:112: UserWarning: Use subset (sliced data) of np.ndarray is not recommended because it will generate extra copies and increase memory consumption\n",
      "  warnings.warn(\n"
     ]
    },
    {
     "name": "stdout",
     "output_type": "stream",
     "text": [
      "[0]\tvalidation_0-rmse:1.11100\tvalidation_1-rmse:1.07079\n",
      "[1]\tvalidation_0-rmse:1.05666\tvalidation_1-rmse:1.02649\n",
      "[2]\tvalidation_0-rmse:1.01808\tvalidation_1-rmse:1.00281\n",
      "[3]\tvalidation_0-rmse:0.98642\tvalidation_1-rmse:0.98168\n",
      "[4]\tvalidation_0-rmse:0.96646\tvalidation_1-rmse:0.97323\n",
      "[5]\tvalidation_0-rmse:0.95829\tvalidation_1-rmse:0.96908\n",
      "[6]\tvalidation_0-rmse:0.95171\tvalidation_1-rmse:0.96425\n",
      "[7]\tvalidation_0-rmse:0.94601\tvalidation_1-rmse:0.96302\n",
      "[8]\tvalidation_0-rmse:0.94324\tvalidation_1-rmse:0.96183\n",
      "[9]\tvalidation_0-rmse:0.94178\tvalidation_1-rmse:0.95962\n",
      "[10]\tvalidation_0-rmse:0.93996\tvalidation_1-rmse:0.95914\n",
      "[11]\tvalidation_0-rmse:0.93863\tvalidation_1-rmse:0.95930\n",
      "[12]\tvalidation_0-rmse:0.93713\tvalidation_1-rmse:0.95873\n",
      "[13]\tvalidation_0-rmse:0.93619\tvalidation_1-rmse:0.95815\n",
      "[14]\tvalidation_0-rmse:0.93383\tvalidation_1-rmse:0.95673\n",
      "[15]\tvalidation_0-rmse:0.93242\tvalidation_1-rmse:0.95682\n",
      "[16]\tvalidation_0-rmse:0.93132\tvalidation_1-rmse:0.95771\n",
      "[17]\tvalidation_0-rmse:0.93085\tvalidation_1-rmse:0.95774\n",
      "[18]\tvalidation_0-rmse:0.92986\tvalidation_1-rmse:0.95691\n",
      "[19]\tvalidation_0-rmse:0.92934\tvalidation_1-rmse:0.95647\n",
      "[20]\tvalidation_0-rmse:0.92855\tvalidation_1-rmse:0.95580\n",
      "[21]\tvalidation_0-rmse:0.92810\tvalidation_1-rmse:0.95522\n",
      "[22]\tvalidation_0-rmse:0.92771\tvalidation_1-rmse:0.95447\n",
      "[23]\tvalidation_0-rmse:0.92725\tvalidation_1-rmse:0.95441\n",
      "[24]\tvalidation_0-rmse:0.92678\tvalidation_1-rmse:0.95426\n",
      "[25]\tvalidation_0-rmse:0.92640\tvalidation_1-rmse:0.95400\n",
      "[26]\tvalidation_0-rmse:0.92622\tvalidation_1-rmse:0.95417\n",
      "[27]\tvalidation_0-rmse:0.92575\tvalidation_1-rmse:0.95392\n",
      "[28]\tvalidation_0-rmse:0.92525\tvalidation_1-rmse:0.95422\n",
      "[29]\tvalidation_0-rmse:0.92463\tvalidation_1-rmse:0.95306\n",
      "[30]\tvalidation_0-rmse:0.92401\tvalidation_1-rmse:0.95250\n",
      "[31]\tvalidation_0-rmse:0.92387\tvalidation_1-rmse:0.95262\n",
      "[32]\tvalidation_0-rmse:0.92369\tvalidation_1-rmse:0.95226\n",
      "[33]\tvalidation_0-rmse:0.92320\tvalidation_1-rmse:0.95202\n",
      "[34]\tvalidation_0-rmse:0.92270\tvalidation_1-rmse:0.95207\n",
      "[35]\tvalidation_0-rmse:0.92246\tvalidation_1-rmse:0.95221\n",
      "[36]\tvalidation_0-rmse:0.92185\tvalidation_1-rmse:0.95219\n",
      "[37]\tvalidation_0-rmse:0.92154\tvalidation_1-rmse:0.95373\n",
      "[38]\tvalidation_0-rmse:0.92128\tvalidation_1-rmse:0.95362\n"
     ]
    },
    {
     "name": "stderr",
     "output_type": "stream",
     "text": [
      "D:\\Anaconda\\lib\\site-packages\\xgboost\\data.py:112: UserWarning: Use subset (sliced data) of np.ndarray is not recommended because it will generate extra copies and increase memory consumption\n",
      "  warnings.warn(\n"
     ]
    },
    {
     "name": "stdout",
     "output_type": "stream",
     "text": [
      "[0]\tvalidation_0-rmse:1.11104\tvalidation_1-rmse:1.07017\n",
      "[1]\tvalidation_0-rmse:1.05765\tvalidation_1-rmse:1.02558\n",
      "[2]\tvalidation_0-rmse:1.01999\tvalidation_1-rmse:1.00182\n",
      "[3]\tvalidation_0-rmse:0.98839\tvalidation_1-rmse:0.98092\n",
      "[4]\tvalidation_0-rmse:0.96818\tvalidation_1-rmse:0.97246\n",
      "[5]\tvalidation_0-rmse:0.95959\tvalidation_1-rmse:0.96735\n",
      "[6]\tvalidation_0-rmse:0.95241\tvalidation_1-rmse:0.96320\n",
      "[7]\tvalidation_0-rmse:0.94694\tvalidation_1-rmse:0.96219\n",
      "[8]\tvalidation_0-rmse:0.94398\tvalidation_1-rmse:0.96074\n",
      "[9]\tvalidation_0-rmse:0.94288\tvalidation_1-rmse:0.95871\n",
      "[10]\tvalidation_0-rmse:0.94110\tvalidation_1-rmse:0.95858\n",
      "[11]\tvalidation_0-rmse:0.94012\tvalidation_1-rmse:0.95848\n",
      "[12]\tvalidation_0-rmse:0.93850\tvalidation_1-rmse:0.95819\n",
      "[13]\tvalidation_0-rmse:0.93754\tvalidation_1-rmse:0.95798\n",
      "[14]\tvalidation_0-rmse:0.93578\tvalidation_1-rmse:0.95729\n",
      "[15]\tvalidation_0-rmse:0.93471\tvalidation_1-rmse:0.95714\n",
      "[16]\tvalidation_0-rmse:0.93357\tvalidation_1-rmse:0.95673\n",
      "[17]\tvalidation_0-rmse:0.93289\tvalidation_1-rmse:0.95644\n",
      "[18]\tvalidation_0-rmse:0.93203\tvalidation_1-rmse:0.95567\n",
      "[19]\tvalidation_0-rmse:0.93105\tvalidation_1-rmse:0.95547\n",
      "[20]\tvalidation_0-rmse:0.93031\tvalidation_1-rmse:0.95517\n",
      "[21]\tvalidation_0-rmse:0.92999\tvalidation_1-rmse:0.95465\n",
      "[22]\tvalidation_0-rmse:0.92938\tvalidation_1-rmse:0.95438\n",
      "[23]\tvalidation_0-rmse:0.92905\tvalidation_1-rmse:0.95404\n",
      "[24]\tvalidation_0-rmse:0.92838\tvalidation_1-rmse:0.95375\n",
      "[25]\tvalidation_0-rmse:0.92802\tvalidation_1-rmse:0.95274\n",
      "[26]\tvalidation_0-rmse:0.92785\tvalidation_1-rmse:0.95282\n",
      "[27]\tvalidation_0-rmse:0.92696\tvalidation_1-rmse:0.95223\n",
      "[28]\tvalidation_0-rmse:0.92637\tvalidation_1-rmse:0.95262\n",
      "[29]\tvalidation_0-rmse:0.92575\tvalidation_1-rmse:0.95160\n",
      "[30]\tvalidation_0-rmse:0.92516\tvalidation_1-rmse:0.95143\n",
      "[31]\tvalidation_0-rmse:0.92494\tvalidation_1-rmse:0.95154\n",
      "[32]\tvalidation_0-rmse:0.92472\tvalidation_1-rmse:0.95100\n",
      "[33]\tvalidation_0-rmse:0.92444\tvalidation_1-rmse:0.95079\n",
      "[34]\tvalidation_0-rmse:0.92428\tvalidation_1-rmse:0.95079\n",
      "[35]\tvalidation_0-rmse:0.92386\tvalidation_1-rmse:0.95086\n",
      "[36]\tvalidation_0-rmse:0.92339\tvalidation_1-rmse:0.95100\n",
      "[37]\tvalidation_0-rmse:0.92311\tvalidation_1-rmse:0.95046\n",
      "[38]\tvalidation_0-rmse:0.92299\tvalidation_1-rmse:0.95014\n",
      "[39]\tvalidation_0-rmse:0.92260\tvalidation_1-rmse:0.95011\n",
      "[40]\tvalidation_0-rmse:0.92231\tvalidation_1-rmse:0.94929\n",
      "[41]\tvalidation_0-rmse:0.92216\tvalidation_1-rmse:0.94917\n",
      "[42]\tvalidation_0-rmse:0.92177\tvalidation_1-rmse:0.94949\n",
      "[43]\tvalidation_0-rmse:0.92116\tvalidation_1-rmse:0.94809\n",
      "[44]\tvalidation_0-rmse:0.92070\tvalidation_1-rmse:0.94800\n",
      "[45]\tvalidation_0-rmse:0.92036\tvalidation_1-rmse:0.94816\n",
      "[46]\tvalidation_0-rmse:0.91993\tvalidation_1-rmse:0.94819\n",
      "[47]\tvalidation_0-rmse:0.91955\tvalidation_1-rmse:0.94873\n",
      "[48]\tvalidation_0-rmse:0.91940\tvalidation_1-rmse:0.94856\n",
      "[49]\tvalidation_0-rmse:0.91922\tvalidation_1-rmse:0.94848\n"
     ]
    },
    {
     "name": "stderr",
     "output_type": "stream",
     "text": [
      "D:\\Anaconda\\lib\\site-packages\\xgboost\\data.py:112: UserWarning: Use subset (sliced data) of np.ndarray is not recommended because it will generate extra copies and increase memory consumption\n",
      "  warnings.warn(\n"
     ]
    },
    {
     "name": "stdout",
     "output_type": "stream",
     "text": [
      "[0]\tvalidation_0-rmse:1.11250\tvalidation_1-rmse:1.07058\n",
      "[1]\tvalidation_0-rmse:1.05943\tvalidation_1-rmse:1.02620\n",
      "[2]\tvalidation_0-rmse:1.02252\tvalidation_1-rmse:1.00163\n",
      "[3]\tvalidation_0-rmse:0.99061\tvalidation_1-rmse:0.98204\n",
      "[4]\tvalidation_0-rmse:0.97010\tvalidation_1-rmse:0.97273\n",
      "[5]\tvalidation_0-rmse:0.96147\tvalidation_1-rmse:0.96792\n",
      "[6]\tvalidation_0-rmse:0.95340\tvalidation_1-rmse:0.96264\n",
      "[7]\tvalidation_0-rmse:0.94784\tvalidation_1-rmse:0.96123\n",
      "[8]\tvalidation_0-rmse:0.94419\tvalidation_1-rmse:0.95963\n",
      "[9]\tvalidation_0-rmse:0.94270\tvalidation_1-rmse:0.95764\n",
      "[10]\tvalidation_0-rmse:0.94127\tvalidation_1-rmse:0.95693\n",
      "[11]\tvalidation_0-rmse:0.93993\tvalidation_1-rmse:0.95632\n",
      "[12]\tvalidation_0-rmse:0.93870\tvalidation_1-rmse:0.95532\n",
      "[13]\tvalidation_0-rmse:0.93740\tvalidation_1-rmse:0.95535\n",
      "[14]\tvalidation_0-rmse:0.93614\tvalidation_1-rmse:0.95460\n",
      "[15]\tvalidation_0-rmse:0.93480\tvalidation_1-rmse:0.95456\n",
      "[16]\tvalidation_0-rmse:0.93366\tvalidation_1-rmse:0.95460\n",
      "[17]\tvalidation_0-rmse:0.93319\tvalidation_1-rmse:0.95461\n",
      "[18]\tvalidation_0-rmse:0.93252\tvalidation_1-rmse:0.95419\n",
      "[19]\tvalidation_0-rmse:0.93201\tvalidation_1-rmse:0.95351\n",
      "[20]\tvalidation_0-rmse:0.93151\tvalidation_1-rmse:0.95355\n",
      "[21]\tvalidation_0-rmse:0.93109\tvalidation_1-rmse:0.95266\n",
      "[22]\tvalidation_0-rmse:0.93020\tvalidation_1-rmse:0.95243\n",
      "[23]\tvalidation_0-rmse:0.92960\tvalidation_1-rmse:0.95255\n",
      "[24]\tvalidation_0-rmse:0.92900\tvalidation_1-rmse:0.95195\n",
      "[25]\tvalidation_0-rmse:0.92858\tvalidation_1-rmse:0.95134\n",
      "[26]\tvalidation_0-rmse:0.92839\tvalidation_1-rmse:0.95116\n",
      "[27]\tvalidation_0-rmse:0.92814\tvalidation_1-rmse:0.95124\n",
      "[28]\tvalidation_0-rmse:0.92776\tvalidation_1-rmse:0.95207\n",
      "[29]\tvalidation_0-rmse:0.92698\tvalidation_1-rmse:0.95216\n",
      "[30]\tvalidation_0-rmse:0.92628\tvalidation_1-rmse:0.95091\n",
      "[31]\tvalidation_0-rmse:0.92619\tvalidation_1-rmse:0.95097\n",
      "[32]\tvalidation_0-rmse:0.92563\tvalidation_1-rmse:0.95042\n",
      "[33]\tvalidation_0-rmse:0.92494\tvalidation_1-rmse:0.95009\n",
      "[34]\tvalidation_0-rmse:0.92465\tvalidation_1-rmse:0.94989\n",
      "[35]\tvalidation_0-rmse:0.92420\tvalidation_1-rmse:0.94974\n",
      "[36]\tvalidation_0-rmse:0.92368\tvalidation_1-rmse:0.94986\n",
      "[37]\tvalidation_0-rmse:0.92334\tvalidation_1-rmse:0.95165\n",
      "[38]\tvalidation_0-rmse:0.92324\tvalidation_1-rmse:0.95132\n",
      "[39]\tvalidation_0-rmse:0.92312\tvalidation_1-rmse:0.95108\n"
     ]
    },
    {
     "name": "stderr",
     "output_type": "stream",
     "text": [
      "D:\\Anaconda\\lib\\site-packages\\xgboost\\data.py:112: UserWarning: Use subset (sliced data) of np.ndarray is not recommended because it will generate extra copies and increase memory consumption\n",
      "  warnings.warn(\n"
     ]
    },
    {
     "name": "stdout",
     "output_type": "stream",
     "text": [
      "[0]\tvalidation_0-rmse:1.11063\tvalidation_1-rmse:1.07006\n",
      "[1]\tvalidation_0-rmse:1.05638\tvalidation_1-rmse:1.02577\n",
      "[2]\tvalidation_0-rmse:1.01833\tvalidation_1-rmse:1.00192\n",
      "[3]\tvalidation_0-rmse:0.98719\tvalidation_1-rmse:0.98140\n",
      "[4]\tvalidation_0-rmse:0.96740\tvalidation_1-rmse:0.97286\n",
      "[5]\tvalidation_0-rmse:0.95916\tvalidation_1-rmse:0.96784\n",
      "[6]\tvalidation_0-rmse:0.95149\tvalidation_1-rmse:0.96359\n",
      "[7]\tvalidation_0-rmse:0.94604\tvalidation_1-rmse:0.96248\n",
      "[8]\tvalidation_0-rmse:0.94310\tvalidation_1-rmse:0.96113\n",
      "[9]\tvalidation_0-rmse:0.94167\tvalidation_1-rmse:0.95913\n",
      "[10]\tvalidation_0-rmse:0.93978\tvalidation_1-rmse:0.95855\n",
      "[11]\tvalidation_0-rmse:0.93877\tvalidation_1-rmse:0.95809\n",
      "[12]\tvalidation_0-rmse:0.93777\tvalidation_1-rmse:0.95758\n",
      "[13]\tvalidation_0-rmse:0.93635\tvalidation_1-rmse:0.95740\n",
      "[14]\tvalidation_0-rmse:0.93443\tvalidation_1-rmse:0.95616\n",
      "[15]\tvalidation_0-rmse:0.93296\tvalidation_1-rmse:0.95627\n",
      "[16]\tvalidation_0-rmse:0.93204\tvalidation_1-rmse:0.95642\n",
      "[17]\tvalidation_0-rmse:0.93083\tvalidation_1-rmse:0.95520\n",
      "[18]\tvalidation_0-rmse:0.93019\tvalidation_1-rmse:0.95454\n",
      "[19]\tvalidation_0-rmse:0.92967\tvalidation_1-rmse:0.95444\n",
      "[20]\tvalidation_0-rmse:0.92887\tvalidation_1-rmse:0.95354\n",
      "[21]\tvalidation_0-rmse:0.92844\tvalidation_1-rmse:0.95305\n",
      "[22]\tvalidation_0-rmse:0.92784\tvalidation_1-rmse:0.95277\n",
      "[23]\tvalidation_0-rmse:0.92761\tvalidation_1-rmse:0.95278\n",
      "[24]\tvalidation_0-rmse:0.92693\tvalidation_1-rmse:0.95240\n",
      "[25]\tvalidation_0-rmse:0.92656\tvalidation_1-rmse:0.95198\n",
      "[26]\tvalidation_0-rmse:0.92637\tvalidation_1-rmse:0.95131\n",
      "[27]\tvalidation_0-rmse:0.92579\tvalidation_1-rmse:0.95129\n",
      "[28]\tvalidation_0-rmse:0.92531\tvalidation_1-rmse:0.95133\n",
      "[29]\tvalidation_0-rmse:0.92477\tvalidation_1-rmse:0.95132\n",
      "[30]\tvalidation_0-rmse:0.92357\tvalidation_1-rmse:0.95013\n",
      "[31]\tvalidation_0-rmse:0.92333\tvalidation_1-rmse:0.95000\n",
      "[32]\tvalidation_0-rmse:0.92294\tvalidation_1-rmse:0.94905\n",
      "[33]\tvalidation_0-rmse:0.92258\tvalidation_1-rmse:0.94885\n",
      "[34]\tvalidation_0-rmse:0.92230\tvalidation_1-rmse:0.94934\n",
      "[35]\tvalidation_0-rmse:0.92182\tvalidation_1-rmse:0.94880\n",
      "[36]\tvalidation_0-rmse:0.92151\tvalidation_1-rmse:0.94871\n",
      "[37]\tvalidation_0-rmse:0.92133\tvalidation_1-rmse:0.94865\n",
      "[38]\tvalidation_0-rmse:0.92114\tvalidation_1-rmse:0.94848\n",
      "[39]\tvalidation_0-rmse:0.92094\tvalidation_1-rmse:0.94846\n",
      "[40]\tvalidation_0-rmse:0.92057\tvalidation_1-rmse:0.94933\n",
      "[41]\tvalidation_0-rmse:0.92044\tvalidation_1-rmse:0.94948\n",
      "[42]\tvalidation_0-rmse:0.92003\tvalidation_1-rmse:0.94931\n",
      "[43]\tvalidation_0-rmse:0.91978\tvalidation_1-rmse:0.94915\n"
     ]
    },
    {
     "name": "stderr",
     "output_type": "stream",
     "text": [
      "D:\\Anaconda\\lib\\site-packages\\xgboost\\data.py:112: UserWarning: Use subset (sliced data) of np.ndarray is not recommended because it will generate extra copies and increase memory consumption\n",
      "  warnings.warn(\n"
     ]
    },
    {
     "name": "stdout",
     "output_type": "stream",
     "text": [
      "[0]\tvalidation_0-rmse:1.11154\tvalidation_1-rmse:1.07058\n",
      "[1]\tvalidation_0-rmse:1.05798\tvalidation_1-rmse:1.02588\n",
      "[2]\tvalidation_0-rmse:1.01864\tvalidation_1-rmse:1.00046\n",
      "[3]\tvalidation_0-rmse:0.98767\tvalidation_1-rmse:0.98046\n",
      "[4]\tvalidation_0-rmse:0.96729\tvalidation_1-rmse:0.97149\n",
      "[5]\tvalidation_0-rmse:0.95902\tvalidation_1-rmse:0.96754\n",
      "[6]\tvalidation_0-rmse:0.95236\tvalidation_1-rmse:0.96296\n",
      "[7]\tvalidation_0-rmse:0.94643\tvalidation_1-rmse:0.96169\n",
      "[8]\tvalidation_0-rmse:0.94334\tvalidation_1-rmse:0.95988\n",
      "[9]\tvalidation_0-rmse:0.94210\tvalidation_1-rmse:0.95843\n",
      "[10]\tvalidation_0-rmse:0.94043\tvalidation_1-rmse:0.95822\n",
      "[11]\tvalidation_0-rmse:0.93913\tvalidation_1-rmse:0.95798\n",
      "[12]\tvalidation_0-rmse:0.93786\tvalidation_1-rmse:0.95732\n",
      "[13]\tvalidation_0-rmse:0.93647\tvalidation_1-rmse:0.95698\n",
      "[14]\tvalidation_0-rmse:0.93561\tvalidation_1-rmse:0.95735\n",
      "[15]\tvalidation_0-rmse:0.93446\tvalidation_1-rmse:0.95692\n",
      "[16]\tvalidation_0-rmse:0.93263\tvalidation_1-rmse:0.95562\n",
      "[17]\tvalidation_0-rmse:0.93170\tvalidation_1-rmse:0.95459\n",
      "[18]\tvalidation_0-rmse:0.93083\tvalidation_1-rmse:0.95324\n",
      "[19]\tvalidation_0-rmse:0.93042\tvalidation_1-rmse:0.95309\n",
      "[20]\tvalidation_0-rmse:0.92986\tvalidation_1-rmse:0.95309\n",
      "[21]\tvalidation_0-rmse:0.92947\tvalidation_1-rmse:0.95266\n",
      "[22]\tvalidation_0-rmse:0.92882\tvalidation_1-rmse:0.95273\n",
      "[23]\tvalidation_0-rmse:0.92850\tvalidation_1-rmse:0.95299\n",
      "[24]\tvalidation_0-rmse:0.92794\tvalidation_1-rmse:0.95257\n",
      "[25]\tvalidation_0-rmse:0.92754\tvalidation_1-rmse:0.95212\n",
      "[26]\tvalidation_0-rmse:0.92747\tvalidation_1-rmse:0.95228\n",
      "[27]\tvalidation_0-rmse:0.92708\tvalidation_1-rmse:0.95193\n",
      "[28]\tvalidation_0-rmse:0.92646\tvalidation_1-rmse:0.95190\n",
      "[29]\tvalidation_0-rmse:0.92603\tvalidation_1-rmse:0.95190\n",
      "[30]\tvalidation_0-rmse:0.92505\tvalidation_1-rmse:0.94936\n",
      "[31]\tvalidation_0-rmse:0.92476\tvalidation_1-rmse:0.94938\n",
      "[32]\tvalidation_0-rmse:0.92439\tvalidation_1-rmse:0.94879\n",
      "[33]\tvalidation_0-rmse:0.92393\tvalidation_1-rmse:0.94896\n",
      "[34]\tvalidation_0-rmse:0.92366\tvalidation_1-rmse:0.94936\n",
      "[35]\tvalidation_0-rmse:0.92323\tvalidation_1-rmse:0.94966\n",
      "[36]\tvalidation_0-rmse:0.92306\tvalidation_1-rmse:0.94964\n"
     ]
    },
    {
     "name": "stderr",
     "output_type": "stream",
     "text": [
      "D:\\Anaconda\\lib\\site-packages\\xgboost\\data.py:112: UserWarning: Use subset (sliced data) of np.ndarray is not recommended because it will generate extra copies and increase memory consumption\n",
      "  warnings.warn(\n"
     ]
    },
    {
     "name": "stdout",
     "output_type": "stream",
     "text": [
      "[0]\tvalidation_0-rmse:1.16059\tvalidation_1-rmse:1.10665\n"
     ]
    },
    {
     "name": "stderr",
     "output_type": "stream",
     "text": [
      "D:\\Anaconda\\lib\\site-packages\\xgboost\\data.py:112: UserWarning: Use subset (sliced data) of np.ndarray is not recommended because it will generate extra copies and increase memory consumption\n",
      "  warnings.warn(\n"
     ]
    },
    {
     "name": "stdout",
     "output_type": "stream",
     "text": [
      "[0]\tvalidation_0-rmse:1.16075\tvalidation_1-rmse:1.10584\n"
     ]
    },
    {
     "name": "stderr",
     "output_type": "stream",
     "text": [
      "D:\\Anaconda\\lib\\site-packages\\xgboost\\data.py:112: UserWarning: Use subset (sliced data) of np.ndarray is not recommended because it will generate extra copies and increase memory consumption\n",
      "  warnings.warn(\n"
     ]
    },
    {
     "name": "stdout",
     "output_type": "stream",
     "text": [
      "[0]\tvalidation_0-rmse:1.16199\tvalidation_1-rmse:1.10591\n"
     ]
    },
    {
     "name": "stderr",
     "output_type": "stream",
     "text": [
      "D:\\Anaconda\\lib\\site-packages\\xgboost\\data.py:112: UserWarning: Use subset (sliced data) of np.ndarray is not recommended because it will generate extra copies and increase memory consumption\n",
      "  warnings.warn(\n"
     ]
    },
    {
     "name": "stdout",
     "output_type": "stream",
     "text": [
      "[0]\tvalidation_0-rmse:1.15980\tvalidation_1-rmse:1.10596\n"
     ]
    },
    {
     "name": "stderr",
     "output_type": "stream",
     "text": [
      "D:\\Anaconda\\lib\\site-packages\\xgboost\\data.py:112: UserWarning: Use subset (sliced data) of np.ndarray is not recommended because it will generate extra copies and increase memory consumption\n",
      "  warnings.warn(\n"
     ]
    },
    {
     "name": "stdout",
     "output_type": "stream",
     "text": [
      "[0]\tvalidation_0-rmse:1.16146\tvalidation_1-rmse:1.10607\n"
     ]
    },
    {
     "name": "stderr",
     "output_type": "stream",
     "text": [
      "D:\\Anaconda\\lib\\site-packages\\xgboost\\data.py:112: UserWarning: Use subset (sliced data) of np.ndarray is not recommended because it will generate extra copies and increase memory consumption\n",
      "  warnings.warn(\n"
     ]
    },
    {
     "name": "stdout",
     "output_type": "stream",
     "text": [
      "[0]\tvalidation_0-rmse:1.16059\tvalidation_1-rmse:1.10665\n",
      "[1]\tvalidation_0-rmse:1.12140\tvalidation_1-rmse:1.08268\n",
      "[2]\tvalidation_0-rmse:1.08741\tvalidation_1-rmse:1.05602\n",
      "[3]\tvalidation_0-rmse:1.05789\tvalidation_1-rmse:1.03907\n",
      "[4]\tvalidation_0-rmse:1.03971\tvalidation_1-rmse:1.02647\n",
      "[5]\tvalidation_0-rmse:1.02608\tvalidation_1-rmse:1.01722\n",
      "[6]\tvalidation_0-rmse:1.01629\tvalidation_1-rmse:1.01197\n",
      "[7]\tvalidation_0-rmse:1.00858\tvalidation_1-rmse:1.00719\n",
      "[8]\tvalidation_0-rmse:1.00032\tvalidation_1-rmse:1.00333\n",
      "[9]\tvalidation_0-rmse:0.99579\tvalidation_1-rmse:0.99934\n"
     ]
    },
    {
     "name": "stderr",
     "output_type": "stream",
     "text": [
      "D:\\Anaconda\\lib\\site-packages\\xgboost\\data.py:112: UserWarning: Use subset (sliced data) of np.ndarray is not recommended because it will generate extra copies and increase memory consumption\n",
      "  warnings.warn(\n"
     ]
    },
    {
     "name": "stdout",
     "output_type": "stream",
     "text": [
      "[0]\tvalidation_0-rmse:1.16075\tvalidation_1-rmse:1.10584\n",
      "[1]\tvalidation_0-rmse:1.12452\tvalidation_1-rmse:1.08252\n",
      "[2]\tvalidation_0-rmse:1.08820\tvalidation_1-rmse:1.05546\n",
      "[3]\tvalidation_0-rmse:1.05965\tvalidation_1-rmse:1.03840\n",
      "[4]\tvalidation_0-rmse:1.03926\tvalidation_1-rmse:1.02581\n",
      "[5]\tvalidation_0-rmse:1.02603\tvalidation_1-rmse:1.01643\n",
      "[6]\tvalidation_0-rmse:1.01981\tvalidation_1-rmse:1.01144\n",
      "[7]\tvalidation_0-rmse:1.00830\tvalidation_1-rmse:1.00666\n",
      "[8]\tvalidation_0-rmse:1.00121\tvalidation_1-rmse:1.00273\n",
      "[9]\tvalidation_0-rmse:0.99698\tvalidation_1-rmse:0.99872\n"
     ]
    },
    {
     "name": "stderr",
     "output_type": "stream",
     "text": [
      "D:\\Anaconda\\lib\\site-packages\\xgboost\\data.py:112: UserWarning: Use subset (sliced data) of np.ndarray is not recommended because it will generate extra copies and increase memory consumption\n",
      "  warnings.warn(\n"
     ]
    },
    {
     "name": "stdout",
     "output_type": "stream",
     "text": [
      "[0]\tvalidation_0-rmse:1.16199\tvalidation_1-rmse:1.10591\n",
      "[1]\tvalidation_0-rmse:1.12848\tvalidation_1-rmse:1.08302\n",
      "[2]\tvalidation_0-rmse:1.09094\tvalidation_1-rmse:1.05543\n",
      "[3]\tvalidation_0-rmse:1.06032\tvalidation_1-rmse:1.03833\n",
      "[4]\tvalidation_0-rmse:1.04340\tvalidation_1-rmse:1.02676\n",
      "[5]\tvalidation_0-rmse:1.02812\tvalidation_1-rmse:1.01720\n",
      "[6]\tvalidation_0-rmse:1.01926\tvalidation_1-rmse:1.01221\n",
      "[7]\tvalidation_0-rmse:1.00985\tvalidation_1-rmse:1.00779\n",
      "[8]\tvalidation_0-rmse:1.00464\tvalidation_1-rmse:1.00391\n",
      "[9]\tvalidation_0-rmse:0.99423\tvalidation_1-rmse:1.00005\n"
     ]
    },
    {
     "name": "stderr",
     "output_type": "stream",
     "text": [
      "D:\\Anaconda\\lib\\site-packages\\xgboost\\data.py:112: UserWarning: Use subset (sliced data) of np.ndarray is not recommended because it will generate extra copies and increase memory consumption\n",
      "  warnings.warn(\n"
     ]
    },
    {
     "name": "stdout",
     "output_type": "stream",
     "text": [
      "[0]\tvalidation_0-rmse:1.15980\tvalidation_1-rmse:1.10596\n",
      "[1]\tvalidation_0-rmse:1.12227\tvalidation_1-rmse:1.08256\n",
      "[2]\tvalidation_0-rmse:1.08595\tvalidation_1-rmse:1.05544\n",
      "[3]\tvalidation_0-rmse:1.05790\tvalidation_1-rmse:1.03830\n",
      "[4]\tvalidation_0-rmse:1.03801\tvalidation_1-rmse:1.02571\n",
      "[5]\tvalidation_0-rmse:1.02716\tvalidation_1-rmse:1.01633\n",
      "[6]\tvalidation_0-rmse:1.01761\tvalidation_1-rmse:1.00982\n",
      "[7]\tvalidation_0-rmse:1.00864\tvalidation_1-rmse:1.00498\n",
      "[8]\tvalidation_0-rmse:0.99974\tvalidation_1-rmse:1.00061\n",
      "[9]\tvalidation_0-rmse:0.99538\tvalidation_1-rmse:0.99813\n"
     ]
    },
    {
     "name": "stderr",
     "output_type": "stream",
     "text": [
      "D:\\Anaconda\\lib\\site-packages\\xgboost\\data.py:112: UserWarning: Use subset (sliced data) of np.ndarray is not recommended because it will generate extra copies and increase memory consumption\n",
      "  warnings.warn(\n"
     ]
    },
    {
     "name": "stdout",
     "output_type": "stream",
     "text": [
      "[0]\tvalidation_0-rmse:1.16146\tvalidation_1-rmse:1.10607\n",
      "[1]\tvalidation_0-rmse:1.12526\tvalidation_1-rmse:1.08255\n",
      "[2]\tvalidation_0-rmse:1.08804\tvalidation_1-rmse:1.05535\n",
      "[3]\tvalidation_0-rmse:1.06080\tvalidation_1-rmse:1.03821\n",
      "[4]\tvalidation_0-rmse:1.04105\tvalidation_1-rmse:1.02644\n",
      "[5]\tvalidation_0-rmse:1.02715\tvalidation_1-rmse:1.01703\n",
      "[6]\tvalidation_0-rmse:1.01809\tvalidation_1-rmse:1.01183\n",
      "[7]\tvalidation_0-rmse:1.00974\tvalidation_1-rmse:1.00778\n",
      "[8]\tvalidation_0-rmse:1.00349\tvalidation_1-rmse:1.00406\n",
      "[9]\tvalidation_0-rmse:0.99947\tvalidation_1-rmse:1.00019\n"
     ]
    },
    {
     "name": "stderr",
     "output_type": "stream",
     "text": [
      "D:\\Anaconda\\lib\\site-packages\\xgboost\\data.py:112: UserWarning: Use subset (sliced data) of np.ndarray is not recommended because it will generate extra copies and increase memory consumption\n",
      "  warnings.warn(\n"
     ]
    },
    {
     "name": "stdout",
     "output_type": "stream",
     "text": [
      "[0]\tvalidation_0-rmse:1.16059\tvalidation_1-rmse:1.10665\n",
      "[1]\tvalidation_0-rmse:1.12140\tvalidation_1-rmse:1.08268\n",
      "[2]\tvalidation_0-rmse:1.08741\tvalidation_1-rmse:1.05602\n",
      "[3]\tvalidation_0-rmse:1.05789\tvalidation_1-rmse:1.03907\n",
      "[4]\tvalidation_0-rmse:1.03971\tvalidation_1-rmse:1.02647\n",
      "[5]\tvalidation_0-rmse:1.02608\tvalidation_1-rmse:1.01722\n",
      "[6]\tvalidation_0-rmse:1.01629\tvalidation_1-rmse:1.01197\n",
      "[7]\tvalidation_0-rmse:1.00858\tvalidation_1-rmse:1.00719\n",
      "[8]\tvalidation_0-rmse:1.00032\tvalidation_1-rmse:1.00333\n",
      "[9]\tvalidation_0-rmse:0.99579\tvalidation_1-rmse:0.99934\n",
      "[10]\tvalidation_0-rmse:0.99227\tvalidation_1-rmse:0.99824\n",
      "[11]\tvalidation_0-rmse:0.98925\tvalidation_1-rmse:0.99642\n",
      "[12]\tvalidation_0-rmse:0.98132\tvalidation_1-rmse:0.99343\n",
      "[13]\tvalidation_0-rmse:0.97874\tvalidation_1-rmse:0.99097\n",
      "[14]\tvalidation_0-rmse:0.97712\tvalidation_1-rmse:0.98964\n",
      "[15]\tvalidation_0-rmse:0.97425\tvalidation_1-rmse:0.98766\n",
      "[16]\tvalidation_0-rmse:0.97313\tvalidation_1-rmse:0.98603\n",
      "[17]\tvalidation_0-rmse:0.97135\tvalidation_1-rmse:0.98403\n",
      "[18]\tvalidation_0-rmse:0.96971\tvalidation_1-rmse:0.98267\n",
      "[19]\tvalidation_0-rmse:0.96865\tvalidation_1-rmse:0.98195\n",
      "[20]\tvalidation_0-rmse:0.96613\tvalidation_1-rmse:0.98140\n",
      "[21]\tvalidation_0-rmse:0.96452\tvalidation_1-rmse:0.98143\n",
      "[22]\tvalidation_0-rmse:0.96357\tvalidation_1-rmse:0.98030\n",
      "[23]\tvalidation_0-rmse:0.96301\tvalidation_1-rmse:0.97953\n",
      "[24]\tvalidation_0-rmse:0.96252\tvalidation_1-rmse:0.97886\n",
      "[25]\tvalidation_0-rmse:0.96191\tvalidation_1-rmse:0.97912\n",
      "[26]\tvalidation_0-rmse:0.96065\tvalidation_1-rmse:0.97842\n",
      "[27]\tvalidation_0-rmse:0.95997\tvalidation_1-rmse:0.97764\n",
      "[28]\tvalidation_0-rmse:0.95972\tvalidation_1-rmse:0.97790\n",
      "[29]\tvalidation_0-rmse:0.95920\tvalidation_1-rmse:0.97822\n",
      "[30]\tvalidation_0-rmse:0.95870\tvalidation_1-rmse:0.97766\n",
      "[31]\tvalidation_0-rmse:0.95854\tvalidation_1-rmse:0.97733\n",
      "[32]\tvalidation_0-rmse:0.95812\tvalidation_1-rmse:0.97636\n",
      "[33]\tvalidation_0-rmse:0.95790\tvalidation_1-rmse:0.97675\n",
      "[34]\tvalidation_0-rmse:0.95752\tvalidation_1-rmse:0.97627\n",
      "[35]\tvalidation_0-rmse:0.95729\tvalidation_1-rmse:0.97567\n",
      "[36]\tvalidation_0-rmse:0.95686\tvalidation_1-rmse:0.97553\n",
      "[37]\tvalidation_0-rmse:0.95663\tvalidation_1-rmse:0.97519\n",
      "[38]\tvalidation_0-rmse:0.95653\tvalidation_1-rmse:0.97570\n",
      "[39]\tvalidation_0-rmse:0.95644\tvalidation_1-rmse:0.97544\n",
      "[40]\tvalidation_0-rmse:0.95629\tvalidation_1-rmse:0.97525\n",
      "[41]\tvalidation_0-rmse:0.95625\tvalidation_1-rmse:0.97516\n",
      "[42]\tvalidation_0-rmse:0.95595\tvalidation_1-rmse:0.97520\n",
      "[43]\tvalidation_0-rmse:0.95586\tvalidation_1-rmse:0.97498\n",
      "[44]\tvalidation_0-rmse:0.95564\tvalidation_1-rmse:0.97444\n",
      "[45]\tvalidation_0-rmse:0.95568\tvalidation_1-rmse:0.97440\n",
      "[46]\tvalidation_0-rmse:0.95556\tvalidation_1-rmse:0.97466\n",
      "[47]\tvalidation_0-rmse:0.95540\tvalidation_1-rmse:0.97441\n",
      "[48]\tvalidation_0-rmse:0.95526\tvalidation_1-rmse:0.97381\n",
      "[49]\tvalidation_0-rmse:0.95491\tvalidation_1-rmse:0.97424\n",
      "[50]\tvalidation_0-rmse:0.95480\tvalidation_1-rmse:0.97401\n",
      "[51]\tvalidation_0-rmse:0.95462\tvalidation_1-rmse:0.97363\n",
      "[52]\tvalidation_0-rmse:0.95456\tvalidation_1-rmse:0.97387\n",
      "[53]\tvalidation_0-rmse:0.95448\tvalidation_1-rmse:0.97376\n",
      "[54]\tvalidation_0-rmse:0.95432\tvalidation_1-rmse:0.97339\n",
      "[55]\tvalidation_0-rmse:0.95425\tvalidation_1-rmse:0.97328\n",
      "[56]\tvalidation_0-rmse:0.95407\tvalidation_1-rmse:0.97312\n",
      "[57]\tvalidation_0-rmse:0.95424\tvalidation_1-rmse:0.97312\n",
      "[58]\tvalidation_0-rmse:0.95401\tvalidation_1-rmse:0.97313\n",
      "[59]\tvalidation_0-rmse:0.95396\tvalidation_1-rmse:0.97291\n",
      "[60]\tvalidation_0-rmse:0.95416\tvalidation_1-rmse:0.97336\n",
      "[61]\tvalidation_0-rmse:0.95413\tvalidation_1-rmse:0.97350\n",
      "[62]\tvalidation_0-rmse:0.95397\tvalidation_1-rmse:0.97320\n",
      "[63]\tvalidation_0-rmse:0.95388\tvalidation_1-rmse:0.97303\n",
      "[64]\tvalidation_0-rmse:0.95380\tvalidation_1-rmse:0.97284\n",
      "[65]\tvalidation_0-rmse:0.95367\tvalidation_1-rmse:0.97269\n",
      "[66]\tvalidation_0-rmse:0.95364\tvalidation_1-rmse:0.97260\n",
      "[67]\tvalidation_0-rmse:0.95363\tvalidation_1-rmse:0.97281\n",
      "[68]\tvalidation_0-rmse:0.95349\tvalidation_1-rmse:0.97248\n",
      "[69]\tvalidation_0-rmse:0.95332\tvalidation_1-rmse:0.97238\n",
      "[70]\tvalidation_0-rmse:0.95327\tvalidation_1-rmse:0.97232\n",
      "[71]\tvalidation_0-rmse:0.95339\tvalidation_1-rmse:0.97263\n",
      "[72]\tvalidation_0-rmse:0.95332\tvalidation_1-rmse:0.97267\n",
      "[73]\tvalidation_0-rmse:0.95328\tvalidation_1-rmse:0.97272\n",
      "[74]\tvalidation_0-rmse:0.95321\tvalidation_1-rmse:0.97257\n"
     ]
    },
    {
     "name": "stderr",
     "output_type": "stream",
     "text": [
      "D:\\Anaconda\\lib\\site-packages\\xgboost\\data.py:112: UserWarning: Use subset (sliced data) of np.ndarray is not recommended because it will generate extra copies and increase memory consumption\n",
      "  warnings.warn(\n"
     ]
    },
    {
     "name": "stdout",
     "output_type": "stream",
     "text": [
      "[0]\tvalidation_0-rmse:1.16075\tvalidation_1-rmse:1.10584\n",
      "[1]\tvalidation_0-rmse:1.12452\tvalidation_1-rmse:1.08252\n",
      "[2]\tvalidation_0-rmse:1.08820\tvalidation_1-rmse:1.05546\n",
      "[3]\tvalidation_0-rmse:1.05965\tvalidation_1-rmse:1.03840\n",
      "[4]\tvalidation_0-rmse:1.03926\tvalidation_1-rmse:1.02581\n",
      "[5]\tvalidation_0-rmse:1.02603\tvalidation_1-rmse:1.01643\n",
      "[6]\tvalidation_0-rmse:1.01981\tvalidation_1-rmse:1.01144\n",
      "[7]\tvalidation_0-rmse:1.00830\tvalidation_1-rmse:1.00666\n",
      "[8]\tvalidation_0-rmse:1.00121\tvalidation_1-rmse:1.00273\n",
      "[9]\tvalidation_0-rmse:0.99698\tvalidation_1-rmse:0.99872\n",
      "[10]\tvalidation_0-rmse:0.99320\tvalidation_1-rmse:0.99763\n",
      "[11]\tvalidation_0-rmse:0.98555\tvalidation_1-rmse:0.99580\n",
      "[12]\tvalidation_0-rmse:0.98192\tvalidation_1-rmse:0.99282\n",
      "[13]\tvalidation_0-rmse:0.97966\tvalidation_1-rmse:0.99015\n",
      "[14]\tvalidation_0-rmse:0.97810\tvalidation_1-rmse:0.98880\n",
      "[15]\tvalidation_0-rmse:0.97586\tvalidation_1-rmse:0.98725\n",
      "[16]\tvalidation_0-rmse:0.97448\tvalidation_1-rmse:0.98579\n",
      "[17]\tvalidation_0-rmse:0.97038\tvalidation_1-rmse:0.98394\n",
      "[18]\tvalidation_0-rmse:0.96974\tvalidation_1-rmse:0.98272\n",
      "[19]\tvalidation_0-rmse:0.96805\tvalidation_1-rmse:0.98179\n",
      "[20]\tvalidation_0-rmse:0.96674\tvalidation_1-rmse:0.98049\n",
      "[21]\tvalidation_0-rmse:0.96522\tvalidation_1-rmse:0.97925\n",
      "[22]\tvalidation_0-rmse:0.96401\tvalidation_1-rmse:0.97932\n",
      "[23]\tvalidation_0-rmse:0.96377\tvalidation_1-rmse:0.97843\n",
      "[24]\tvalidation_0-rmse:0.96315\tvalidation_1-rmse:0.97813\n",
      "[25]\tvalidation_0-rmse:0.96127\tvalidation_1-rmse:0.97813\n",
      "[26]\tvalidation_0-rmse:0.96061\tvalidation_1-rmse:0.97727\n",
      "[27]\tvalidation_0-rmse:0.96020\tvalidation_1-rmse:0.97628\n",
      "[28]\tvalidation_0-rmse:0.96001\tvalidation_1-rmse:0.97563\n",
      "[29]\tvalidation_0-rmse:0.95932\tvalidation_1-rmse:0.97569\n",
      "[30]\tvalidation_0-rmse:0.95902\tvalidation_1-rmse:0.97520\n",
      "[31]\tvalidation_0-rmse:0.95860\tvalidation_1-rmse:0.97550\n",
      "[32]\tvalidation_0-rmse:0.95819\tvalidation_1-rmse:0.97486\n",
      "[33]\tvalidation_0-rmse:0.95774\tvalidation_1-rmse:0.97477\n",
      "[34]\tvalidation_0-rmse:0.95746\tvalidation_1-rmse:0.97436\n",
      "[35]\tvalidation_0-rmse:0.95725\tvalidation_1-rmse:0.97449\n",
      "[36]\tvalidation_0-rmse:0.95705\tvalidation_1-rmse:0.97361\n",
      "[37]\tvalidation_0-rmse:0.95660\tvalidation_1-rmse:0.97342\n",
      "[38]\tvalidation_0-rmse:0.95642\tvalidation_1-rmse:0.97305\n",
      "[39]\tvalidation_0-rmse:0.95637\tvalidation_1-rmse:0.97336\n",
      "[40]\tvalidation_0-rmse:0.95626\tvalidation_1-rmse:0.97320\n",
      "[41]\tvalidation_0-rmse:0.95611\tvalidation_1-rmse:0.97291\n",
      "[42]\tvalidation_0-rmse:0.95598\tvalidation_1-rmse:0.97291\n",
      "[43]\tvalidation_0-rmse:0.95584\tvalidation_1-rmse:0.97275\n",
      "[44]\tvalidation_0-rmse:0.95572\tvalidation_1-rmse:0.97265\n",
      "[45]\tvalidation_0-rmse:0.95562\tvalidation_1-rmse:0.97218\n",
      "[46]\tvalidation_0-rmse:0.95550\tvalidation_1-rmse:0.97244\n",
      "[47]\tvalidation_0-rmse:0.95537\tvalidation_1-rmse:0.97243\n",
      "[48]\tvalidation_0-rmse:0.95535\tvalidation_1-rmse:0.97203\n",
      "[49]\tvalidation_0-rmse:0.95493\tvalidation_1-rmse:0.97230\n",
      "[50]\tvalidation_0-rmse:0.95485\tvalidation_1-rmse:0.97220\n",
      "[51]\tvalidation_0-rmse:0.95474\tvalidation_1-rmse:0.97206\n",
      "[52]\tvalidation_0-rmse:0.95462\tvalidation_1-rmse:0.97187\n",
      "[53]\tvalidation_0-rmse:0.95449\tvalidation_1-rmse:0.97149\n",
      "[54]\tvalidation_0-rmse:0.95449\tvalidation_1-rmse:0.97152\n",
      "[55]\tvalidation_0-rmse:0.95433\tvalidation_1-rmse:0.97132\n",
      "[56]\tvalidation_0-rmse:0.95426\tvalidation_1-rmse:0.97116\n",
      "[57]\tvalidation_0-rmse:0.95419\tvalidation_1-rmse:0.97096\n",
      "[58]\tvalidation_0-rmse:0.95403\tvalidation_1-rmse:0.97096\n",
      "[59]\tvalidation_0-rmse:0.95390\tvalidation_1-rmse:0.97062\n",
      "[60]\tvalidation_0-rmse:0.95383\tvalidation_1-rmse:0.97086\n",
      "[61]\tvalidation_0-rmse:0.95368\tvalidation_1-rmse:0.97108\n",
      "[62]\tvalidation_0-rmse:0.95362\tvalidation_1-rmse:0.97089\n",
      "[63]\tvalidation_0-rmse:0.95353\tvalidation_1-rmse:0.97057\n",
      "[64]\tvalidation_0-rmse:0.95347\tvalidation_1-rmse:0.97076\n",
      "[65]\tvalidation_0-rmse:0.95344\tvalidation_1-rmse:0.97071\n",
      "[66]\tvalidation_0-rmse:0.95333\tvalidation_1-rmse:0.97059\n",
      "[67]\tvalidation_0-rmse:0.95334\tvalidation_1-rmse:0.97052\n",
      "[68]\tvalidation_0-rmse:0.95328\tvalidation_1-rmse:0.97016\n",
      "[69]\tvalidation_0-rmse:0.95319\tvalidation_1-rmse:0.97002\n",
      "[70]\tvalidation_0-rmse:0.95316\tvalidation_1-rmse:0.96977\n",
      "[71]\tvalidation_0-rmse:0.95308\tvalidation_1-rmse:0.97000\n",
      "[72]\tvalidation_0-rmse:0.95303\tvalidation_1-rmse:0.96992\n",
      "[73]\tvalidation_0-rmse:0.95296\tvalidation_1-rmse:0.96964\n",
      "[74]\tvalidation_0-rmse:0.95292\tvalidation_1-rmse:0.96984\n",
      "[75]\tvalidation_0-rmse:0.95302\tvalidation_1-rmse:0.97004\n",
      "[76]\tvalidation_0-rmse:0.95298\tvalidation_1-rmse:0.97010\n",
      "[77]\tvalidation_0-rmse:0.95302\tvalidation_1-rmse:0.97011\n",
      "[78]\tvalidation_0-rmse:0.95294\tvalidation_1-rmse:0.97018\n"
     ]
    },
    {
     "name": "stderr",
     "output_type": "stream",
     "text": [
      "D:\\Anaconda\\lib\\site-packages\\xgboost\\data.py:112: UserWarning: Use subset (sliced data) of np.ndarray is not recommended because it will generate extra copies and increase memory consumption\n",
      "  warnings.warn(\n"
     ]
    },
    {
     "name": "stdout",
     "output_type": "stream",
     "text": [
      "[0]\tvalidation_0-rmse:1.16199\tvalidation_1-rmse:1.10591\n",
      "[1]\tvalidation_0-rmse:1.12848\tvalidation_1-rmse:1.08302\n",
      "[2]\tvalidation_0-rmse:1.09094\tvalidation_1-rmse:1.05543\n",
      "[3]\tvalidation_0-rmse:1.06032\tvalidation_1-rmse:1.03833\n",
      "[4]\tvalidation_0-rmse:1.04340\tvalidation_1-rmse:1.02676\n",
      "[5]\tvalidation_0-rmse:1.02812\tvalidation_1-rmse:1.01720\n",
      "[6]\tvalidation_0-rmse:1.01926\tvalidation_1-rmse:1.01221\n",
      "[7]\tvalidation_0-rmse:1.00985\tvalidation_1-rmse:1.00779\n",
      "[8]\tvalidation_0-rmse:1.00464\tvalidation_1-rmse:1.00391\n",
      "[9]\tvalidation_0-rmse:0.99423\tvalidation_1-rmse:1.00005\n",
      "[10]\tvalidation_0-rmse:0.98935\tvalidation_1-rmse:0.99800\n",
      "[11]\tvalidation_0-rmse:0.98700\tvalidation_1-rmse:0.99623\n",
      "[12]\tvalidation_0-rmse:0.98401\tvalidation_1-rmse:0.99328\n",
      "[13]\tvalidation_0-rmse:0.98155\tvalidation_1-rmse:0.99071\n",
      "[14]\tvalidation_0-rmse:0.97910\tvalidation_1-rmse:0.98855\n",
      "[15]\tvalidation_0-rmse:0.97700\tvalidation_1-rmse:0.98665\n",
      "[16]\tvalidation_0-rmse:0.97503\tvalidation_1-rmse:0.98523\n",
      "[17]\tvalidation_0-rmse:0.97094\tvalidation_1-rmse:0.98335\n",
      "[18]\tvalidation_0-rmse:0.97033\tvalidation_1-rmse:0.98208\n",
      "[19]\tvalidation_0-rmse:0.96885\tvalidation_1-rmse:0.98122\n",
      "[20]\tvalidation_0-rmse:0.96720\tvalidation_1-rmse:0.97992\n",
      "[21]\tvalidation_0-rmse:0.96571\tvalidation_1-rmse:0.97980\n",
      "[22]\tvalidation_0-rmse:0.96417\tvalidation_1-rmse:0.97860\n",
      "[23]\tvalidation_0-rmse:0.96394\tvalidation_1-rmse:0.97821\n",
      "[24]\tvalidation_0-rmse:0.96320\tvalidation_1-rmse:0.97723\n",
      "[25]\tvalidation_0-rmse:0.96240\tvalidation_1-rmse:0.97692\n",
      "[26]\tvalidation_0-rmse:0.96097\tvalidation_1-rmse:0.97622\n",
      "[27]\tvalidation_0-rmse:0.96059\tvalidation_1-rmse:0.97564\n",
      "[28]\tvalidation_0-rmse:0.96016\tvalidation_1-rmse:0.97570\n",
      "[29]\tvalidation_0-rmse:0.95960\tvalidation_1-rmse:0.97599\n",
      "[30]\tvalidation_0-rmse:0.95910\tvalidation_1-rmse:0.97484\n",
      "[31]\tvalidation_0-rmse:0.95856\tvalidation_1-rmse:0.97440\n",
      "[32]\tvalidation_0-rmse:0.95822\tvalidation_1-rmse:0.97387\n",
      "[33]\tvalidation_0-rmse:0.95805\tvalidation_1-rmse:0.97356\n",
      "[34]\tvalidation_0-rmse:0.95779\tvalidation_1-rmse:0.97323\n",
      "[35]\tvalidation_0-rmse:0.95725\tvalidation_1-rmse:0.97346\n",
      "[36]\tvalidation_0-rmse:0.95704\tvalidation_1-rmse:0.97332\n",
      "[37]\tvalidation_0-rmse:0.95670\tvalidation_1-rmse:0.97301\n",
      "[38]\tvalidation_0-rmse:0.95648\tvalidation_1-rmse:0.97214\n",
      "[39]\tvalidation_0-rmse:0.95616\tvalidation_1-rmse:0.97227\n",
      "[40]\tvalidation_0-rmse:0.95603\tvalidation_1-rmse:0.97202\n",
      "[41]\tvalidation_0-rmse:0.95586\tvalidation_1-rmse:0.97157\n",
      "[42]\tvalidation_0-rmse:0.95570\tvalidation_1-rmse:0.97111\n",
      "[43]\tvalidation_0-rmse:0.95568\tvalidation_1-rmse:0.97102\n",
      "[44]\tvalidation_0-rmse:0.95545\tvalidation_1-rmse:0.97104\n",
      "[45]\tvalidation_0-rmse:0.95531\tvalidation_1-rmse:0.97130\n",
      "[46]\tvalidation_0-rmse:0.95511\tvalidation_1-rmse:0.97116\n",
      "[47]\tvalidation_0-rmse:0.95507\tvalidation_1-rmse:0.97084\n",
      "[48]\tvalidation_0-rmse:0.95508\tvalidation_1-rmse:0.97070\n",
      "[49]\tvalidation_0-rmse:0.95496\tvalidation_1-rmse:0.97033\n",
      "[50]\tvalidation_0-rmse:0.95483\tvalidation_1-rmse:0.97024\n",
      "[51]\tvalidation_0-rmse:0.95454\tvalidation_1-rmse:0.97000\n",
      "[52]\tvalidation_0-rmse:0.95454\tvalidation_1-rmse:0.97015\n",
      "[53]\tvalidation_0-rmse:0.95449\tvalidation_1-rmse:0.96997\n",
      "[54]\tvalidation_0-rmse:0.95431\tvalidation_1-rmse:0.96996\n",
      "[55]\tvalidation_0-rmse:0.95423\tvalidation_1-rmse:0.96977\n",
      "[56]\tvalidation_0-rmse:0.95411\tvalidation_1-rmse:0.96966\n",
      "[57]\tvalidation_0-rmse:0.95401\tvalidation_1-rmse:0.96955\n",
      "[58]\tvalidation_0-rmse:0.95393\tvalidation_1-rmse:0.96925\n",
      "[59]\tvalidation_0-rmse:0.95383\tvalidation_1-rmse:0.96942\n",
      "[60]\tvalidation_0-rmse:0.95389\tvalidation_1-rmse:0.96948\n",
      "[61]\tvalidation_0-rmse:0.95379\tvalidation_1-rmse:0.96933\n",
      "[62]\tvalidation_0-rmse:0.95378\tvalidation_1-rmse:0.96933\n",
      "[63]\tvalidation_0-rmse:0.95360\tvalidation_1-rmse:0.96933\n"
     ]
    },
    {
     "name": "stderr",
     "output_type": "stream",
     "text": [
      "D:\\Anaconda\\lib\\site-packages\\xgboost\\data.py:112: UserWarning: Use subset (sliced data) of np.ndarray is not recommended because it will generate extra copies and increase memory consumption\n",
      "  warnings.warn(\n"
     ]
    },
    {
     "name": "stdout",
     "output_type": "stream",
     "text": [
      "[0]\tvalidation_0-rmse:1.15980\tvalidation_1-rmse:1.10596\n",
      "[1]\tvalidation_0-rmse:1.12227\tvalidation_1-rmse:1.08256\n",
      "[2]\tvalidation_0-rmse:1.08595\tvalidation_1-rmse:1.05544\n",
      "[3]\tvalidation_0-rmse:1.05790\tvalidation_1-rmse:1.03830\n",
      "[4]\tvalidation_0-rmse:1.03801\tvalidation_1-rmse:1.02571\n",
      "[5]\tvalidation_0-rmse:1.02716\tvalidation_1-rmse:1.01633\n",
      "[6]\tvalidation_0-rmse:1.01761\tvalidation_1-rmse:1.00982\n",
      "[7]\tvalidation_0-rmse:1.00864\tvalidation_1-rmse:1.00498\n",
      "[8]\tvalidation_0-rmse:0.99974\tvalidation_1-rmse:1.00061\n",
      "[9]\tvalidation_0-rmse:0.99538\tvalidation_1-rmse:0.99813\n",
      "[10]\tvalidation_0-rmse:0.99234\tvalidation_1-rmse:0.99698\n",
      "[11]\tvalidation_0-rmse:0.98408\tvalidation_1-rmse:0.99525\n",
      "[12]\tvalidation_0-rmse:0.98153\tvalidation_1-rmse:0.99204\n",
      "[13]\tvalidation_0-rmse:0.97897\tvalidation_1-rmse:0.99160\n",
      "[14]\tvalidation_0-rmse:0.97666\tvalidation_1-rmse:0.98928\n",
      "[15]\tvalidation_0-rmse:0.97495\tvalidation_1-rmse:0.98787\n",
      "[16]\tvalidation_0-rmse:0.97321\tvalidation_1-rmse:0.98662\n",
      "[17]\tvalidation_0-rmse:0.97133\tvalidation_1-rmse:0.98462\n",
      "[18]\tvalidation_0-rmse:0.96965\tvalidation_1-rmse:0.98337\n",
      "[19]\tvalidation_0-rmse:0.96663\tvalidation_1-rmse:0.98275\n",
      "[20]\tvalidation_0-rmse:0.96598\tvalidation_1-rmse:0.98143\n",
      "[21]\tvalidation_0-rmse:0.96462\tvalidation_1-rmse:0.98012\n",
      "[22]\tvalidation_0-rmse:0.96367\tvalidation_1-rmse:0.97916\n",
      "[23]\tvalidation_0-rmse:0.96285\tvalidation_1-rmse:0.97820\n",
      "[24]\tvalidation_0-rmse:0.96260\tvalidation_1-rmse:0.97752\n",
      "[25]\tvalidation_0-rmse:0.96185\tvalidation_1-rmse:0.97766\n",
      "[26]\tvalidation_0-rmse:0.96151\tvalidation_1-rmse:0.97699\n",
      "[27]\tvalidation_0-rmse:0.96032\tvalidation_1-rmse:0.97673\n",
      "[28]\tvalidation_0-rmse:0.95974\tvalidation_1-rmse:0.97690\n",
      "[29]\tvalidation_0-rmse:0.95914\tvalidation_1-rmse:0.97724\n",
      "[30]\tvalidation_0-rmse:0.95874\tvalidation_1-rmse:0.97629\n",
      "[31]\tvalidation_0-rmse:0.95833\tvalidation_1-rmse:0.97594\n",
      "[32]\tvalidation_0-rmse:0.95793\tvalidation_1-rmse:0.97534\n",
      "[33]\tvalidation_0-rmse:0.95779\tvalidation_1-rmse:0.97571\n",
      "[34]\tvalidation_0-rmse:0.95751\tvalidation_1-rmse:0.97531\n",
      "[35]\tvalidation_0-rmse:0.95728\tvalidation_1-rmse:0.97439\n",
      "[36]\tvalidation_0-rmse:0.95678\tvalidation_1-rmse:0.97425\n",
      "[37]\tvalidation_0-rmse:0.95660\tvalidation_1-rmse:0.97407\n",
      "[38]\tvalidation_0-rmse:0.95674\tvalidation_1-rmse:0.97439\n",
      "[39]\tvalidation_0-rmse:0.95655\tvalidation_1-rmse:0.97416\n",
      "[40]\tvalidation_0-rmse:0.95634\tvalidation_1-rmse:0.97367\n",
      "[41]\tvalidation_0-rmse:0.95618\tvalidation_1-rmse:0.97358\n",
      "[42]\tvalidation_0-rmse:0.95608\tvalidation_1-rmse:0.97345\n",
      "[43]\tvalidation_0-rmse:0.95589\tvalidation_1-rmse:0.97320\n",
      "[44]\tvalidation_0-rmse:0.95573\tvalidation_1-rmse:0.97317\n",
      "[45]\tvalidation_0-rmse:0.95562\tvalidation_1-rmse:0.97320\n",
      "[46]\tvalidation_0-rmse:0.95550\tvalidation_1-rmse:0.97294\n",
      "[47]\tvalidation_0-rmse:0.95543\tvalidation_1-rmse:0.97265\n",
      "[48]\tvalidation_0-rmse:0.95524\tvalidation_1-rmse:0.97222\n",
      "[49]\tvalidation_0-rmse:0.95487\tvalidation_1-rmse:0.97261\n",
      "[50]\tvalidation_0-rmse:0.95474\tvalidation_1-rmse:0.97291\n",
      "[51]\tvalidation_0-rmse:0.95462\tvalidation_1-rmse:0.97273\n",
      "[52]\tvalidation_0-rmse:0.95454\tvalidation_1-rmse:0.97254\n",
      "[53]\tvalidation_0-rmse:0.95446\tvalidation_1-rmse:0.97220\n",
      "[54]\tvalidation_0-rmse:0.95437\tvalidation_1-rmse:0.97225\n",
      "[55]\tvalidation_0-rmse:0.95429\tvalidation_1-rmse:0.97211\n",
      "[56]\tvalidation_0-rmse:0.95413\tvalidation_1-rmse:0.97167\n",
      "[57]\tvalidation_0-rmse:0.95407\tvalidation_1-rmse:0.97158\n",
      "[58]\tvalidation_0-rmse:0.95393\tvalidation_1-rmse:0.97120\n",
      "[59]\tvalidation_0-rmse:0.95385\tvalidation_1-rmse:0.97145\n",
      "[60]\tvalidation_0-rmse:0.95373\tvalidation_1-rmse:0.97181\n",
      "[61]\tvalidation_0-rmse:0.95359\tvalidation_1-rmse:0.97182\n",
      "[62]\tvalidation_0-rmse:0.95362\tvalidation_1-rmse:0.97174\n"
     ]
    },
    {
     "name": "stderr",
     "output_type": "stream",
     "text": [
      "D:\\Anaconda\\lib\\site-packages\\xgboost\\data.py:112: UserWarning: Use subset (sliced data) of np.ndarray is not recommended because it will generate extra copies and increase memory consumption\n",
      "  warnings.warn(\n"
     ]
    },
    {
     "name": "stdout",
     "output_type": "stream",
     "text": [
      "[0]\tvalidation_0-rmse:1.16146\tvalidation_1-rmse:1.10607\n",
      "[1]\tvalidation_0-rmse:1.12526\tvalidation_1-rmse:1.08255\n",
      "[2]\tvalidation_0-rmse:1.08804\tvalidation_1-rmse:1.05535\n",
      "[3]\tvalidation_0-rmse:1.06080\tvalidation_1-rmse:1.03821\n",
      "[4]\tvalidation_0-rmse:1.04105\tvalidation_1-rmse:1.02644\n",
      "[5]\tvalidation_0-rmse:1.02715\tvalidation_1-rmse:1.01703\n",
      "[6]\tvalidation_0-rmse:1.01809\tvalidation_1-rmse:1.01183\n",
      "[7]\tvalidation_0-rmse:1.00974\tvalidation_1-rmse:1.00778\n",
      "[8]\tvalidation_0-rmse:1.00349\tvalidation_1-rmse:1.00406\n",
      "[9]\tvalidation_0-rmse:0.99947\tvalidation_1-rmse:1.00019\n",
      "[10]\tvalidation_0-rmse:0.99440\tvalidation_1-rmse:0.99791\n",
      "[11]\tvalidation_0-rmse:0.98593\tvalidation_1-rmse:0.99619\n",
      "[12]\tvalidation_0-rmse:0.98298\tvalidation_1-rmse:0.99315\n",
      "[13]\tvalidation_0-rmse:0.98054\tvalidation_1-rmse:0.99054\n",
      "[14]\tvalidation_0-rmse:0.97879\tvalidation_1-rmse:0.98885\n",
      "[15]\tvalidation_0-rmse:0.97611\tvalidation_1-rmse:0.98630\n",
      "[16]\tvalidation_0-rmse:0.97450\tvalidation_1-rmse:0.98463\n",
      "[17]\tvalidation_0-rmse:0.97101\tvalidation_1-rmse:0.98308\n",
      "[18]\tvalidation_0-rmse:0.96938\tvalidation_1-rmse:0.98147\n",
      "[19]\tvalidation_0-rmse:0.96796\tvalidation_1-rmse:0.98099\n",
      "[20]\tvalidation_0-rmse:0.96686\tvalidation_1-rmse:0.98036\n",
      "[21]\tvalidation_0-rmse:0.96536\tvalidation_1-rmse:0.98023\n",
      "[22]\tvalidation_0-rmse:0.96435\tvalidation_1-rmse:0.97898\n",
      "[23]\tvalidation_0-rmse:0.96357\tvalidation_1-rmse:0.97823\n",
      "[24]\tvalidation_0-rmse:0.96326\tvalidation_1-rmse:0.97751\n",
      "[25]\tvalidation_0-rmse:0.96161\tvalidation_1-rmse:0.97741\n",
      "[26]\tvalidation_0-rmse:0.96079\tvalidation_1-rmse:0.97765\n",
      "[27]\tvalidation_0-rmse:0.96025\tvalidation_1-rmse:0.97690\n",
      "[28]\tvalidation_0-rmse:0.95966\tvalidation_1-rmse:0.97622\n",
      "[29]\tvalidation_0-rmse:0.95947\tvalidation_1-rmse:0.97651\n",
      "[30]\tvalidation_0-rmse:0.95862\tvalidation_1-rmse:0.97596\n",
      "[31]\tvalidation_0-rmse:0.95834\tvalidation_1-rmse:0.97553\n",
      "[32]\tvalidation_0-rmse:0.95791\tvalidation_1-rmse:0.97438\n",
      "[33]\tvalidation_0-rmse:0.95772\tvalidation_1-rmse:0.97470\n",
      "[34]\tvalidation_0-rmse:0.95741\tvalidation_1-rmse:0.97416\n",
      "[35]\tvalidation_0-rmse:0.95690\tvalidation_1-rmse:0.97350\n",
      "[36]\tvalidation_0-rmse:0.95670\tvalidation_1-rmse:0.97332\n",
      "[37]\tvalidation_0-rmse:0.95656\tvalidation_1-rmse:0.97306\n",
      "[38]\tvalidation_0-rmse:0.95633\tvalidation_1-rmse:0.97270\n",
      "[39]\tvalidation_0-rmse:0.95604\tvalidation_1-rmse:0.97309\n",
      "[40]\tvalidation_0-rmse:0.95586\tvalidation_1-rmse:0.97264\n",
      "[41]\tvalidation_0-rmse:0.95561\tvalidation_1-rmse:0.97234\n",
      "[42]\tvalidation_0-rmse:0.95544\tvalidation_1-rmse:0.97214\n",
      "[43]\tvalidation_0-rmse:0.95526\tvalidation_1-rmse:0.97238\n",
      "[44]\tvalidation_0-rmse:0.95517\tvalidation_1-rmse:0.97243\n",
      "[45]\tvalidation_0-rmse:0.95502\tvalidation_1-rmse:0.97200\n",
      "[46]\tvalidation_0-rmse:0.95489\tvalidation_1-rmse:0.97175\n",
      "[47]\tvalidation_0-rmse:0.95496\tvalidation_1-rmse:0.97166\n",
      "[48]\tvalidation_0-rmse:0.95485\tvalidation_1-rmse:0.97106\n",
      "[49]\tvalidation_0-rmse:0.95491\tvalidation_1-rmse:0.97140\n",
      "[50]\tvalidation_0-rmse:0.95477\tvalidation_1-rmse:0.97126\n",
      "[51]\tvalidation_0-rmse:0.95466\tvalidation_1-rmse:0.97091\n",
      "[52]\tvalidation_0-rmse:0.95455\tvalidation_1-rmse:0.97067\n",
      "[53]\tvalidation_0-rmse:0.95451\tvalidation_1-rmse:0.97040\n",
      "[54]\tvalidation_0-rmse:0.95435\tvalidation_1-rmse:0.97000\n",
      "[55]\tvalidation_0-rmse:0.95423\tvalidation_1-rmse:0.96989\n",
      "[56]\tvalidation_0-rmse:0.95415\tvalidation_1-rmse:0.96983\n",
      "[57]\tvalidation_0-rmse:0.95406\tvalidation_1-rmse:0.96957\n",
      "[58]\tvalidation_0-rmse:0.95388\tvalidation_1-rmse:0.96988\n",
      "[59]\tvalidation_0-rmse:0.95387\tvalidation_1-rmse:0.96976\n",
      "[60]\tvalidation_0-rmse:0.95377\tvalidation_1-rmse:0.96998\n",
      "[61]\tvalidation_0-rmse:0.95363\tvalidation_1-rmse:0.96998\n"
     ]
    },
    {
     "name": "stderr",
     "output_type": "stream",
     "text": [
      "D:\\Anaconda\\lib\\site-packages\\xgboost\\data.py:112: UserWarning: Use subset (sliced data) of np.ndarray is not recommended because it will generate extra copies and increase memory consumption\n",
      "  warnings.warn(\n"
     ]
    },
    {
     "name": "stdout",
     "output_type": "stream",
     "text": [
      "[0]\tvalidation_0-rmse:1.16059\tvalidation_1-rmse:1.10665\n"
     ]
    },
    {
     "name": "stderr",
     "output_type": "stream",
     "text": [
      "D:\\Anaconda\\lib\\site-packages\\xgboost\\data.py:112: UserWarning: Use subset (sliced data) of np.ndarray is not recommended because it will generate extra copies and increase memory consumption\n",
      "  warnings.warn(\n"
     ]
    },
    {
     "name": "stdout",
     "output_type": "stream",
     "text": [
      "[0]\tvalidation_0-rmse:1.16075\tvalidation_1-rmse:1.10584\n"
     ]
    },
    {
     "name": "stderr",
     "output_type": "stream",
     "text": [
      "D:\\Anaconda\\lib\\site-packages\\xgboost\\data.py:112: UserWarning: Use subset (sliced data) of np.ndarray is not recommended because it will generate extra copies and increase memory consumption\n",
      "  warnings.warn(\n"
     ]
    },
    {
     "name": "stdout",
     "output_type": "stream",
     "text": [
      "[0]\tvalidation_0-rmse:1.16199\tvalidation_1-rmse:1.10591\n"
     ]
    },
    {
     "name": "stderr",
     "output_type": "stream",
     "text": [
      "D:\\Anaconda\\lib\\site-packages\\xgboost\\data.py:112: UserWarning: Use subset (sliced data) of np.ndarray is not recommended because it will generate extra copies and increase memory consumption\n",
      "  warnings.warn(\n"
     ]
    },
    {
     "name": "stdout",
     "output_type": "stream",
     "text": [
      "[0]\tvalidation_0-rmse:1.15980\tvalidation_1-rmse:1.10596\n"
     ]
    },
    {
     "name": "stderr",
     "output_type": "stream",
     "text": [
      "D:\\Anaconda\\lib\\site-packages\\xgboost\\data.py:112: UserWarning: Use subset (sliced data) of np.ndarray is not recommended because it will generate extra copies and increase memory consumption\n",
      "  warnings.warn(\n"
     ]
    },
    {
     "name": "stdout",
     "output_type": "stream",
     "text": [
      "[0]\tvalidation_0-rmse:1.16146\tvalidation_1-rmse:1.10607\n"
     ]
    },
    {
     "name": "stderr",
     "output_type": "stream",
     "text": [
      "D:\\Anaconda\\lib\\site-packages\\xgboost\\data.py:112: UserWarning: Use subset (sliced data) of np.ndarray is not recommended because it will generate extra copies and increase memory consumption\n",
      "  warnings.warn(\n"
     ]
    },
    {
     "name": "stdout",
     "output_type": "stream",
     "text": [
      "[0]\tvalidation_0-rmse:1.16059\tvalidation_1-rmse:1.10665\n",
      "[1]\tvalidation_0-rmse:1.12140\tvalidation_1-rmse:1.08268\n",
      "[2]\tvalidation_0-rmse:1.08741\tvalidation_1-rmse:1.05602\n",
      "[3]\tvalidation_0-rmse:1.05789\tvalidation_1-rmse:1.03907\n",
      "[4]\tvalidation_0-rmse:1.03971\tvalidation_1-rmse:1.02647\n",
      "[5]\tvalidation_0-rmse:1.02608\tvalidation_1-rmse:1.01722\n",
      "[6]\tvalidation_0-rmse:1.01629\tvalidation_1-rmse:1.01197\n",
      "[7]\tvalidation_0-rmse:1.00858\tvalidation_1-rmse:1.00719\n",
      "[8]\tvalidation_0-rmse:1.00032\tvalidation_1-rmse:1.00333\n",
      "[9]\tvalidation_0-rmse:0.99579\tvalidation_1-rmse:0.99934\n"
     ]
    },
    {
     "name": "stderr",
     "output_type": "stream",
     "text": [
      "D:\\Anaconda\\lib\\site-packages\\xgboost\\data.py:112: UserWarning: Use subset (sliced data) of np.ndarray is not recommended because it will generate extra copies and increase memory consumption\n",
      "  warnings.warn(\n"
     ]
    },
    {
     "name": "stdout",
     "output_type": "stream",
     "text": [
      "[0]\tvalidation_0-rmse:1.16075\tvalidation_1-rmse:1.10584\n",
      "[1]\tvalidation_0-rmse:1.12452\tvalidation_1-rmse:1.08252\n",
      "[2]\tvalidation_0-rmse:1.08820\tvalidation_1-rmse:1.05546\n",
      "[3]\tvalidation_0-rmse:1.05965\tvalidation_1-rmse:1.03840\n",
      "[4]\tvalidation_0-rmse:1.03926\tvalidation_1-rmse:1.02581\n",
      "[5]\tvalidation_0-rmse:1.02603\tvalidation_1-rmse:1.01643\n",
      "[6]\tvalidation_0-rmse:1.01981\tvalidation_1-rmse:1.01144\n",
      "[7]\tvalidation_0-rmse:1.00830\tvalidation_1-rmse:1.00666\n",
      "[8]\tvalidation_0-rmse:1.00121\tvalidation_1-rmse:1.00273\n",
      "[9]\tvalidation_0-rmse:0.99698\tvalidation_1-rmse:0.99872\n"
     ]
    },
    {
     "name": "stderr",
     "output_type": "stream",
     "text": [
      "D:\\Anaconda\\lib\\site-packages\\xgboost\\data.py:112: UserWarning: Use subset (sliced data) of np.ndarray is not recommended because it will generate extra copies and increase memory consumption\n",
      "  warnings.warn(\n"
     ]
    },
    {
     "name": "stdout",
     "output_type": "stream",
     "text": [
      "[0]\tvalidation_0-rmse:1.16199\tvalidation_1-rmse:1.10591\n",
      "[1]\tvalidation_0-rmse:1.12848\tvalidation_1-rmse:1.08302\n",
      "[2]\tvalidation_0-rmse:1.09094\tvalidation_1-rmse:1.05543\n",
      "[3]\tvalidation_0-rmse:1.06032\tvalidation_1-rmse:1.03833\n",
      "[4]\tvalidation_0-rmse:1.04340\tvalidation_1-rmse:1.02676\n",
      "[5]\tvalidation_0-rmse:1.02812\tvalidation_1-rmse:1.01720\n",
      "[6]\tvalidation_0-rmse:1.01926\tvalidation_1-rmse:1.01221\n",
      "[7]\tvalidation_0-rmse:1.00985\tvalidation_1-rmse:1.00779\n",
      "[8]\tvalidation_0-rmse:1.00464\tvalidation_1-rmse:1.00391\n",
      "[9]\tvalidation_0-rmse:0.99423\tvalidation_1-rmse:1.00005\n"
     ]
    },
    {
     "name": "stderr",
     "output_type": "stream",
     "text": [
      "D:\\Anaconda\\lib\\site-packages\\xgboost\\data.py:112: UserWarning: Use subset (sliced data) of np.ndarray is not recommended because it will generate extra copies and increase memory consumption\n",
      "  warnings.warn(\n"
     ]
    },
    {
     "name": "stdout",
     "output_type": "stream",
     "text": [
      "[0]\tvalidation_0-rmse:1.15980\tvalidation_1-rmse:1.10596\n",
      "[1]\tvalidation_0-rmse:1.12227\tvalidation_1-rmse:1.08256\n",
      "[2]\tvalidation_0-rmse:1.08595\tvalidation_1-rmse:1.05544\n",
      "[3]\tvalidation_0-rmse:1.05790\tvalidation_1-rmse:1.03830\n",
      "[4]\tvalidation_0-rmse:1.03801\tvalidation_1-rmse:1.02571\n",
      "[5]\tvalidation_0-rmse:1.02716\tvalidation_1-rmse:1.01633\n",
      "[6]\tvalidation_0-rmse:1.01761\tvalidation_1-rmse:1.00982\n",
      "[7]\tvalidation_0-rmse:1.00864\tvalidation_1-rmse:1.00498\n",
      "[8]\tvalidation_0-rmse:0.99974\tvalidation_1-rmse:1.00061\n",
      "[9]\tvalidation_0-rmse:0.99538\tvalidation_1-rmse:0.99813\n"
     ]
    },
    {
     "name": "stderr",
     "output_type": "stream",
     "text": [
      "D:\\Anaconda\\lib\\site-packages\\xgboost\\data.py:112: UserWarning: Use subset (sliced data) of np.ndarray is not recommended because it will generate extra copies and increase memory consumption\n",
      "  warnings.warn(\n"
     ]
    },
    {
     "name": "stdout",
     "output_type": "stream",
     "text": [
      "[0]\tvalidation_0-rmse:1.16146\tvalidation_1-rmse:1.10607\n",
      "[1]\tvalidation_0-rmse:1.12526\tvalidation_1-rmse:1.08255\n",
      "[2]\tvalidation_0-rmse:1.08804\tvalidation_1-rmse:1.05535\n",
      "[3]\tvalidation_0-rmse:1.06080\tvalidation_1-rmse:1.03821\n",
      "[4]\tvalidation_0-rmse:1.04105\tvalidation_1-rmse:1.02644\n",
      "[5]\tvalidation_0-rmse:1.02715\tvalidation_1-rmse:1.01703\n",
      "[6]\tvalidation_0-rmse:1.01809\tvalidation_1-rmse:1.01183\n",
      "[7]\tvalidation_0-rmse:1.00974\tvalidation_1-rmse:1.00778\n",
      "[8]\tvalidation_0-rmse:1.00349\tvalidation_1-rmse:1.00406\n",
      "[9]\tvalidation_0-rmse:0.99947\tvalidation_1-rmse:1.00019\n"
     ]
    },
    {
     "name": "stderr",
     "output_type": "stream",
     "text": [
      "D:\\Anaconda\\lib\\site-packages\\xgboost\\data.py:112: UserWarning: Use subset (sliced data) of np.ndarray is not recommended because it will generate extra copies and increase memory consumption\n",
      "  warnings.warn(\n"
     ]
    },
    {
     "name": "stdout",
     "output_type": "stream",
     "text": [
      "[0]\tvalidation_0-rmse:1.16059\tvalidation_1-rmse:1.10665\n",
      "[1]\tvalidation_0-rmse:1.12140\tvalidation_1-rmse:1.08268\n",
      "[2]\tvalidation_0-rmse:1.08741\tvalidation_1-rmse:1.05602\n",
      "[3]\tvalidation_0-rmse:1.05789\tvalidation_1-rmse:1.03907\n",
      "[4]\tvalidation_0-rmse:1.03971\tvalidation_1-rmse:1.02647\n",
      "[5]\tvalidation_0-rmse:1.02608\tvalidation_1-rmse:1.01722\n",
      "[6]\tvalidation_0-rmse:1.01629\tvalidation_1-rmse:1.01197\n",
      "[7]\tvalidation_0-rmse:1.00858\tvalidation_1-rmse:1.00719\n",
      "[8]\tvalidation_0-rmse:1.00032\tvalidation_1-rmse:1.00333\n",
      "[9]\tvalidation_0-rmse:0.99579\tvalidation_1-rmse:0.99934\n",
      "[10]\tvalidation_0-rmse:0.99227\tvalidation_1-rmse:0.99824\n",
      "[11]\tvalidation_0-rmse:0.98925\tvalidation_1-rmse:0.99642\n",
      "[12]\tvalidation_0-rmse:0.98132\tvalidation_1-rmse:0.99343\n",
      "[13]\tvalidation_0-rmse:0.97874\tvalidation_1-rmse:0.99097\n",
      "[14]\tvalidation_0-rmse:0.97712\tvalidation_1-rmse:0.98964\n",
      "[15]\tvalidation_0-rmse:0.97425\tvalidation_1-rmse:0.98766\n",
      "[16]\tvalidation_0-rmse:0.97313\tvalidation_1-rmse:0.98603\n",
      "[17]\tvalidation_0-rmse:0.97135\tvalidation_1-rmse:0.98403\n",
      "[18]\tvalidation_0-rmse:0.96971\tvalidation_1-rmse:0.98267\n",
      "[19]\tvalidation_0-rmse:0.96865\tvalidation_1-rmse:0.98195\n",
      "[20]\tvalidation_0-rmse:0.96613\tvalidation_1-rmse:0.98140\n",
      "[21]\tvalidation_0-rmse:0.96452\tvalidation_1-rmse:0.98143\n",
      "[22]\tvalidation_0-rmse:0.96357\tvalidation_1-rmse:0.98030\n",
      "[23]\tvalidation_0-rmse:0.96301\tvalidation_1-rmse:0.97953\n",
      "[24]\tvalidation_0-rmse:0.96252\tvalidation_1-rmse:0.97886\n",
      "[25]\tvalidation_0-rmse:0.96191\tvalidation_1-rmse:0.97912\n",
      "[26]\tvalidation_0-rmse:0.96065\tvalidation_1-rmse:0.97842\n",
      "[27]\tvalidation_0-rmse:0.95997\tvalidation_1-rmse:0.97764\n",
      "[28]\tvalidation_0-rmse:0.95972\tvalidation_1-rmse:0.97790\n",
      "[29]\tvalidation_0-rmse:0.95920\tvalidation_1-rmse:0.97822\n",
      "[30]\tvalidation_0-rmse:0.95870\tvalidation_1-rmse:0.97766\n",
      "[31]\tvalidation_0-rmse:0.95854\tvalidation_1-rmse:0.97733\n",
      "[32]\tvalidation_0-rmse:0.95812\tvalidation_1-rmse:0.97636\n",
      "[33]\tvalidation_0-rmse:0.95790\tvalidation_1-rmse:0.97675\n",
      "[34]\tvalidation_0-rmse:0.95752\tvalidation_1-rmse:0.97627\n",
      "[35]\tvalidation_0-rmse:0.95729\tvalidation_1-rmse:0.97567\n",
      "[36]\tvalidation_0-rmse:0.95686\tvalidation_1-rmse:0.97553\n",
      "[37]\tvalidation_0-rmse:0.95663\tvalidation_1-rmse:0.97519\n",
      "[38]\tvalidation_0-rmse:0.95653\tvalidation_1-rmse:0.97570\n",
      "[39]\tvalidation_0-rmse:0.95644\tvalidation_1-rmse:0.97544\n",
      "[40]\tvalidation_0-rmse:0.95629\tvalidation_1-rmse:0.97525\n",
      "[41]\tvalidation_0-rmse:0.95625\tvalidation_1-rmse:0.97516\n",
      "[42]\tvalidation_0-rmse:0.95595\tvalidation_1-rmse:0.97520\n",
      "[43]\tvalidation_0-rmse:0.95586\tvalidation_1-rmse:0.97498\n",
      "[44]\tvalidation_0-rmse:0.95564\tvalidation_1-rmse:0.97444\n",
      "[45]\tvalidation_0-rmse:0.95568\tvalidation_1-rmse:0.97440\n",
      "[46]\tvalidation_0-rmse:0.95556\tvalidation_1-rmse:0.97466\n",
      "[47]\tvalidation_0-rmse:0.95540\tvalidation_1-rmse:0.97441\n",
      "[48]\tvalidation_0-rmse:0.95526\tvalidation_1-rmse:0.97381\n",
      "[49]\tvalidation_0-rmse:0.95491\tvalidation_1-rmse:0.97424\n",
      "[50]\tvalidation_0-rmse:0.95480\tvalidation_1-rmse:0.97401\n",
      "[51]\tvalidation_0-rmse:0.95462\tvalidation_1-rmse:0.97363\n",
      "[52]\tvalidation_0-rmse:0.95456\tvalidation_1-rmse:0.97387\n",
      "[53]\tvalidation_0-rmse:0.95448\tvalidation_1-rmse:0.97376\n",
      "[54]\tvalidation_0-rmse:0.95432\tvalidation_1-rmse:0.97339\n",
      "[55]\tvalidation_0-rmse:0.95425\tvalidation_1-rmse:0.97328\n",
      "[56]\tvalidation_0-rmse:0.95407\tvalidation_1-rmse:0.97312\n",
      "[57]\tvalidation_0-rmse:0.95424\tvalidation_1-rmse:0.97312\n",
      "[58]\tvalidation_0-rmse:0.95401\tvalidation_1-rmse:0.97313\n",
      "[59]\tvalidation_0-rmse:0.95396\tvalidation_1-rmse:0.97291\n",
      "[60]\tvalidation_0-rmse:0.95416\tvalidation_1-rmse:0.97336\n",
      "[61]\tvalidation_0-rmse:0.95413\tvalidation_1-rmse:0.97350\n",
      "[62]\tvalidation_0-rmse:0.95397\tvalidation_1-rmse:0.97320\n",
      "[63]\tvalidation_0-rmse:0.95388\tvalidation_1-rmse:0.97303\n",
      "[64]\tvalidation_0-rmse:0.95380\tvalidation_1-rmse:0.97284\n",
      "[65]\tvalidation_0-rmse:0.95367\tvalidation_1-rmse:0.97269\n",
      "[66]\tvalidation_0-rmse:0.95364\tvalidation_1-rmse:0.97260\n",
      "[67]\tvalidation_0-rmse:0.95363\tvalidation_1-rmse:0.97281\n",
      "[68]\tvalidation_0-rmse:0.95349\tvalidation_1-rmse:0.97248\n",
      "[69]\tvalidation_0-rmse:0.95332\tvalidation_1-rmse:0.97238\n",
      "[70]\tvalidation_0-rmse:0.95327\tvalidation_1-rmse:0.97232\n",
      "[71]\tvalidation_0-rmse:0.95339\tvalidation_1-rmse:0.97263\n",
      "[72]\tvalidation_0-rmse:0.95332\tvalidation_1-rmse:0.97267\n",
      "[73]\tvalidation_0-rmse:0.95328\tvalidation_1-rmse:0.97272\n",
      "[74]\tvalidation_0-rmse:0.95321\tvalidation_1-rmse:0.97257\n",
      "[75]\tvalidation_0-rmse:0.95318\tvalidation_1-rmse:0.97250\n"
     ]
    },
    {
     "name": "stderr",
     "output_type": "stream",
     "text": [
      "D:\\Anaconda\\lib\\site-packages\\xgboost\\data.py:112: UserWarning: Use subset (sliced data) of np.ndarray is not recommended because it will generate extra copies and increase memory consumption\n",
      "  warnings.warn(\n"
     ]
    },
    {
     "name": "stdout",
     "output_type": "stream",
     "text": [
      "[0]\tvalidation_0-rmse:1.16075\tvalidation_1-rmse:1.10584\n",
      "[1]\tvalidation_0-rmse:1.12452\tvalidation_1-rmse:1.08252\n",
      "[2]\tvalidation_0-rmse:1.08820\tvalidation_1-rmse:1.05546\n",
      "[3]\tvalidation_0-rmse:1.05965\tvalidation_1-rmse:1.03840\n",
      "[4]\tvalidation_0-rmse:1.03926\tvalidation_1-rmse:1.02581\n",
      "[5]\tvalidation_0-rmse:1.02603\tvalidation_1-rmse:1.01643\n",
      "[6]\tvalidation_0-rmse:1.01981\tvalidation_1-rmse:1.01144\n",
      "[7]\tvalidation_0-rmse:1.00830\tvalidation_1-rmse:1.00666\n",
      "[8]\tvalidation_0-rmse:1.00121\tvalidation_1-rmse:1.00273\n",
      "[9]\tvalidation_0-rmse:0.99698\tvalidation_1-rmse:0.99872\n",
      "[10]\tvalidation_0-rmse:0.99320\tvalidation_1-rmse:0.99763\n",
      "[11]\tvalidation_0-rmse:0.98555\tvalidation_1-rmse:0.99580\n",
      "[12]\tvalidation_0-rmse:0.98192\tvalidation_1-rmse:0.99282\n",
      "[13]\tvalidation_0-rmse:0.97966\tvalidation_1-rmse:0.99015\n",
      "[14]\tvalidation_0-rmse:0.97810\tvalidation_1-rmse:0.98880\n",
      "[15]\tvalidation_0-rmse:0.97586\tvalidation_1-rmse:0.98725\n",
      "[16]\tvalidation_0-rmse:0.97448\tvalidation_1-rmse:0.98579\n",
      "[17]\tvalidation_0-rmse:0.97038\tvalidation_1-rmse:0.98394\n",
      "[18]\tvalidation_0-rmse:0.96974\tvalidation_1-rmse:0.98272\n",
      "[19]\tvalidation_0-rmse:0.96805\tvalidation_1-rmse:0.98179\n",
      "[20]\tvalidation_0-rmse:0.96674\tvalidation_1-rmse:0.98049\n",
      "[21]\tvalidation_0-rmse:0.96522\tvalidation_1-rmse:0.97925\n",
      "[22]\tvalidation_0-rmse:0.96401\tvalidation_1-rmse:0.97932\n",
      "[23]\tvalidation_0-rmse:0.96377\tvalidation_1-rmse:0.97843\n",
      "[24]\tvalidation_0-rmse:0.96315\tvalidation_1-rmse:0.97813\n",
      "[25]\tvalidation_0-rmse:0.96127\tvalidation_1-rmse:0.97813\n",
      "[26]\tvalidation_0-rmse:0.96061\tvalidation_1-rmse:0.97727\n",
      "[27]\tvalidation_0-rmse:0.96020\tvalidation_1-rmse:0.97628\n",
      "[28]\tvalidation_0-rmse:0.96001\tvalidation_1-rmse:0.97563\n",
      "[29]\tvalidation_0-rmse:0.95932\tvalidation_1-rmse:0.97569\n",
      "[30]\tvalidation_0-rmse:0.95902\tvalidation_1-rmse:0.97520\n",
      "[31]\tvalidation_0-rmse:0.95860\tvalidation_1-rmse:0.97550\n",
      "[32]\tvalidation_0-rmse:0.95819\tvalidation_1-rmse:0.97486\n",
      "[33]\tvalidation_0-rmse:0.95774\tvalidation_1-rmse:0.97477\n",
      "[34]\tvalidation_0-rmse:0.95746\tvalidation_1-rmse:0.97436\n",
      "[35]\tvalidation_0-rmse:0.95725\tvalidation_1-rmse:0.97449\n",
      "[36]\tvalidation_0-rmse:0.95705\tvalidation_1-rmse:0.97361\n",
      "[37]\tvalidation_0-rmse:0.95660\tvalidation_1-rmse:0.97342\n",
      "[38]\tvalidation_0-rmse:0.95642\tvalidation_1-rmse:0.97305\n",
      "[39]\tvalidation_0-rmse:0.95637\tvalidation_1-rmse:0.97336\n",
      "[40]\tvalidation_0-rmse:0.95626\tvalidation_1-rmse:0.97320\n",
      "[41]\tvalidation_0-rmse:0.95611\tvalidation_1-rmse:0.97291\n",
      "[42]\tvalidation_0-rmse:0.95598\tvalidation_1-rmse:0.97291\n",
      "[43]\tvalidation_0-rmse:0.95584\tvalidation_1-rmse:0.97275\n",
      "[44]\tvalidation_0-rmse:0.95572\tvalidation_1-rmse:0.97265\n",
      "[45]\tvalidation_0-rmse:0.95562\tvalidation_1-rmse:0.97218\n",
      "[46]\tvalidation_0-rmse:0.95550\tvalidation_1-rmse:0.97244\n",
      "[47]\tvalidation_0-rmse:0.95537\tvalidation_1-rmse:0.97243\n",
      "[48]\tvalidation_0-rmse:0.95535\tvalidation_1-rmse:0.97203\n",
      "[49]\tvalidation_0-rmse:0.95493\tvalidation_1-rmse:0.97230\n",
      "[50]\tvalidation_0-rmse:0.95485\tvalidation_1-rmse:0.97220\n",
      "[51]\tvalidation_0-rmse:0.95474\tvalidation_1-rmse:0.97206\n",
      "[52]\tvalidation_0-rmse:0.95462\tvalidation_1-rmse:0.97187\n",
      "[53]\tvalidation_0-rmse:0.95449\tvalidation_1-rmse:0.97149\n",
      "[54]\tvalidation_0-rmse:0.95449\tvalidation_1-rmse:0.97152\n",
      "[55]\tvalidation_0-rmse:0.95433\tvalidation_1-rmse:0.97132\n",
      "[56]\tvalidation_0-rmse:0.95426\tvalidation_1-rmse:0.97116\n",
      "[57]\tvalidation_0-rmse:0.95419\tvalidation_1-rmse:0.97096\n",
      "[58]\tvalidation_0-rmse:0.95403\tvalidation_1-rmse:0.97096\n",
      "[59]\tvalidation_0-rmse:0.95390\tvalidation_1-rmse:0.97062\n",
      "[60]\tvalidation_0-rmse:0.95383\tvalidation_1-rmse:0.97086\n",
      "[61]\tvalidation_0-rmse:0.95368\tvalidation_1-rmse:0.97108\n",
      "[62]\tvalidation_0-rmse:0.95362\tvalidation_1-rmse:0.97089\n",
      "[63]\tvalidation_0-rmse:0.95353\tvalidation_1-rmse:0.97057\n",
      "[64]\tvalidation_0-rmse:0.95347\tvalidation_1-rmse:0.97076\n",
      "[65]\tvalidation_0-rmse:0.95344\tvalidation_1-rmse:0.97071\n",
      "[66]\tvalidation_0-rmse:0.95333\tvalidation_1-rmse:0.97059\n",
      "[67]\tvalidation_0-rmse:0.95334\tvalidation_1-rmse:0.97052\n",
      "[68]\tvalidation_0-rmse:0.95328\tvalidation_1-rmse:0.97016\n",
      "[69]\tvalidation_0-rmse:0.95319\tvalidation_1-rmse:0.97002\n",
      "[70]\tvalidation_0-rmse:0.95316\tvalidation_1-rmse:0.96977\n",
      "[71]\tvalidation_0-rmse:0.95308\tvalidation_1-rmse:0.97000\n",
      "[72]\tvalidation_0-rmse:0.95303\tvalidation_1-rmse:0.96992\n",
      "[73]\tvalidation_0-rmse:0.95296\tvalidation_1-rmse:0.96964\n",
      "[74]\tvalidation_0-rmse:0.95292\tvalidation_1-rmse:0.96984\n",
      "[75]\tvalidation_0-rmse:0.95302\tvalidation_1-rmse:0.97004\n",
      "[76]\tvalidation_0-rmse:0.95298\tvalidation_1-rmse:0.97010\n",
      "[77]\tvalidation_0-rmse:0.95302\tvalidation_1-rmse:0.97011\n"
     ]
    },
    {
     "name": "stderr",
     "output_type": "stream",
     "text": [
      "D:\\Anaconda\\lib\\site-packages\\xgboost\\data.py:112: UserWarning: Use subset (sliced data) of np.ndarray is not recommended because it will generate extra copies and increase memory consumption\n",
      "  warnings.warn(\n"
     ]
    },
    {
     "name": "stdout",
     "output_type": "stream",
     "text": [
      "[0]\tvalidation_0-rmse:1.16199\tvalidation_1-rmse:1.10591\n",
      "[1]\tvalidation_0-rmse:1.12848\tvalidation_1-rmse:1.08302\n",
      "[2]\tvalidation_0-rmse:1.09094\tvalidation_1-rmse:1.05543\n",
      "[3]\tvalidation_0-rmse:1.06032\tvalidation_1-rmse:1.03833\n",
      "[4]\tvalidation_0-rmse:1.04340\tvalidation_1-rmse:1.02676\n",
      "[5]\tvalidation_0-rmse:1.02812\tvalidation_1-rmse:1.01720\n",
      "[6]\tvalidation_0-rmse:1.01926\tvalidation_1-rmse:1.01221\n",
      "[7]\tvalidation_0-rmse:1.00985\tvalidation_1-rmse:1.00779\n",
      "[8]\tvalidation_0-rmse:1.00464\tvalidation_1-rmse:1.00391\n",
      "[9]\tvalidation_0-rmse:0.99423\tvalidation_1-rmse:1.00005\n",
      "[10]\tvalidation_0-rmse:0.98935\tvalidation_1-rmse:0.99800\n",
      "[11]\tvalidation_0-rmse:0.98700\tvalidation_1-rmse:0.99623\n",
      "[12]\tvalidation_0-rmse:0.98401\tvalidation_1-rmse:0.99328\n",
      "[13]\tvalidation_0-rmse:0.98155\tvalidation_1-rmse:0.99071\n",
      "[14]\tvalidation_0-rmse:0.97910\tvalidation_1-rmse:0.98855\n",
      "[15]\tvalidation_0-rmse:0.97700\tvalidation_1-rmse:0.98665\n",
      "[16]\tvalidation_0-rmse:0.97503\tvalidation_1-rmse:0.98523\n",
      "[17]\tvalidation_0-rmse:0.97094\tvalidation_1-rmse:0.98335\n",
      "[18]\tvalidation_0-rmse:0.97033\tvalidation_1-rmse:0.98208\n",
      "[19]\tvalidation_0-rmse:0.96885\tvalidation_1-rmse:0.98122\n",
      "[20]\tvalidation_0-rmse:0.96720\tvalidation_1-rmse:0.97992\n",
      "[21]\tvalidation_0-rmse:0.96571\tvalidation_1-rmse:0.97980\n",
      "[22]\tvalidation_0-rmse:0.96417\tvalidation_1-rmse:0.97860\n",
      "[23]\tvalidation_0-rmse:0.96394\tvalidation_1-rmse:0.97821\n",
      "[24]\tvalidation_0-rmse:0.96320\tvalidation_1-rmse:0.97723\n",
      "[25]\tvalidation_0-rmse:0.96240\tvalidation_1-rmse:0.97692\n",
      "[26]\tvalidation_0-rmse:0.96097\tvalidation_1-rmse:0.97622\n",
      "[27]\tvalidation_0-rmse:0.96059\tvalidation_1-rmse:0.97564\n",
      "[28]\tvalidation_0-rmse:0.96016\tvalidation_1-rmse:0.97570\n",
      "[29]\tvalidation_0-rmse:0.95960\tvalidation_1-rmse:0.97599\n",
      "[30]\tvalidation_0-rmse:0.95910\tvalidation_1-rmse:0.97484\n",
      "[31]\tvalidation_0-rmse:0.95856\tvalidation_1-rmse:0.97440\n",
      "[32]\tvalidation_0-rmse:0.95822\tvalidation_1-rmse:0.97387\n",
      "[33]\tvalidation_0-rmse:0.95805\tvalidation_1-rmse:0.97356\n",
      "[34]\tvalidation_0-rmse:0.95779\tvalidation_1-rmse:0.97323\n",
      "[35]\tvalidation_0-rmse:0.95725\tvalidation_1-rmse:0.97346\n",
      "[36]\tvalidation_0-rmse:0.95704\tvalidation_1-rmse:0.97332\n",
      "[37]\tvalidation_0-rmse:0.95670\tvalidation_1-rmse:0.97301\n",
      "[38]\tvalidation_0-rmse:0.95648\tvalidation_1-rmse:0.97214\n",
      "[39]\tvalidation_0-rmse:0.95616\tvalidation_1-rmse:0.97227\n",
      "[40]\tvalidation_0-rmse:0.95603\tvalidation_1-rmse:0.97202\n",
      "[41]\tvalidation_0-rmse:0.95586\tvalidation_1-rmse:0.97157\n",
      "[42]\tvalidation_0-rmse:0.95570\tvalidation_1-rmse:0.97111\n",
      "[43]\tvalidation_0-rmse:0.95568\tvalidation_1-rmse:0.97102\n",
      "[44]\tvalidation_0-rmse:0.95545\tvalidation_1-rmse:0.97104\n",
      "[45]\tvalidation_0-rmse:0.95531\tvalidation_1-rmse:0.97130\n",
      "[46]\tvalidation_0-rmse:0.95511\tvalidation_1-rmse:0.97116\n",
      "[47]\tvalidation_0-rmse:0.95507\tvalidation_1-rmse:0.97084\n",
      "[48]\tvalidation_0-rmse:0.95508\tvalidation_1-rmse:0.97070\n",
      "[49]\tvalidation_0-rmse:0.95496\tvalidation_1-rmse:0.97033\n",
      "[50]\tvalidation_0-rmse:0.95483\tvalidation_1-rmse:0.97024\n",
      "[51]\tvalidation_0-rmse:0.95454\tvalidation_1-rmse:0.97000\n",
      "[52]\tvalidation_0-rmse:0.95454\tvalidation_1-rmse:0.97015\n",
      "[53]\tvalidation_0-rmse:0.95449\tvalidation_1-rmse:0.96997\n",
      "[54]\tvalidation_0-rmse:0.95431\tvalidation_1-rmse:0.96996\n",
      "[55]\tvalidation_0-rmse:0.95423\tvalidation_1-rmse:0.96977\n",
      "[56]\tvalidation_0-rmse:0.95411\tvalidation_1-rmse:0.96966\n",
      "[57]\tvalidation_0-rmse:0.95401\tvalidation_1-rmse:0.96955\n",
      "[58]\tvalidation_0-rmse:0.95393\tvalidation_1-rmse:0.96925\n",
      "[59]\tvalidation_0-rmse:0.95383\tvalidation_1-rmse:0.96942\n",
      "[60]\tvalidation_0-rmse:0.95389\tvalidation_1-rmse:0.96948\n",
      "[61]\tvalidation_0-rmse:0.95379\tvalidation_1-rmse:0.96933\n",
      "[62]\tvalidation_0-rmse:0.95378\tvalidation_1-rmse:0.96933\n"
     ]
    },
    {
     "name": "stderr",
     "output_type": "stream",
     "text": [
      "D:\\Anaconda\\lib\\site-packages\\xgboost\\data.py:112: UserWarning: Use subset (sliced data) of np.ndarray is not recommended because it will generate extra copies and increase memory consumption\n",
      "  warnings.warn(\n"
     ]
    },
    {
     "name": "stdout",
     "output_type": "stream",
     "text": [
      "[0]\tvalidation_0-rmse:1.15980\tvalidation_1-rmse:1.10596\n",
      "[1]\tvalidation_0-rmse:1.12227\tvalidation_1-rmse:1.08256\n",
      "[2]\tvalidation_0-rmse:1.08595\tvalidation_1-rmse:1.05544\n",
      "[3]\tvalidation_0-rmse:1.05790\tvalidation_1-rmse:1.03830\n",
      "[4]\tvalidation_0-rmse:1.03801\tvalidation_1-rmse:1.02571\n",
      "[5]\tvalidation_0-rmse:1.02716\tvalidation_1-rmse:1.01633\n",
      "[6]\tvalidation_0-rmse:1.01761\tvalidation_1-rmse:1.00982\n",
      "[7]\tvalidation_0-rmse:1.00864\tvalidation_1-rmse:1.00498\n",
      "[8]\tvalidation_0-rmse:0.99974\tvalidation_1-rmse:1.00061\n",
      "[9]\tvalidation_0-rmse:0.99538\tvalidation_1-rmse:0.99813\n",
      "[10]\tvalidation_0-rmse:0.99234\tvalidation_1-rmse:0.99698\n",
      "[11]\tvalidation_0-rmse:0.98408\tvalidation_1-rmse:0.99525\n",
      "[12]\tvalidation_0-rmse:0.98153\tvalidation_1-rmse:0.99204\n",
      "[13]\tvalidation_0-rmse:0.97897\tvalidation_1-rmse:0.99160\n",
      "[14]\tvalidation_0-rmse:0.97666\tvalidation_1-rmse:0.98928\n",
      "[15]\tvalidation_0-rmse:0.97495\tvalidation_1-rmse:0.98787\n",
      "[16]\tvalidation_0-rmse:0.97321\tvalidation_1-rmse:0.98662\n",
      "[17]\tvalidation_0-rmse:0.97133\tvalidation_1-rmse:0.98462\n",
      "[18]\tvalidation_0-rmse:0.96965\tvalidation_1-rmse:0.98337\n",
      "[19]\tvalidation_0-rmse:0.96663\tvalidation_1-rmse:0.98275\n",
      "[20]\tvalidation_0-rmse:0.96598\tvalidation_1-rmse:0.98143\n",
      "[21]\tvalidation_0-rmse:0.96462\tvalidation_1-rmse:0.98012\n",
      "[22]\tvalidation_0-rmse:0.96367\tvalidation_1-rmse:0.97916\n",
      "[23]\tvalidation_0-rmse:0.96285\tvalidation_1-rmse:0.97820\n",
      "[24]\tvalidation_0-rmse:0.96260\tvalidation_1-rmse:0.97752\n",
      "[25]\tvalidation_0-rmse:0.96185\tvalidation_1-rmse:0.97766\n",
      "[26]\tvalidation_0-rmse:0.96151\tvalidation_1-rmse:0.97699\n",
      "[27]\tvalidation_0-rmse:0.96032\tvalidation_1-rmse:0.97673\n",
      "[28]\tvalidation_0-rmse:0.95974\tvalidation_1-rmse:0.97690\n",
      "[29]\tvalidation_0-rmse:0.95914\tvalidation_1-rmse:0.97724\n",
      "[30]\tvalidation_0-rmse:0.95874\tvalidation_1-rmse:0.97629\n",
      "[31]\tvalidation_0-rmse:0.95833\tvalidation_1-rmse:0.97594\n",
      "[32]\tvalidation_0-rmse:0.95793\tvalidation_1-rmse:0.97534\n",
      "[33]\tvalidation_0-rmse:0.95779\tvalidation_1-rmse:0.97571\n",
      "[34]\tvalidation_0-rmse:0.95751\tvalidation_1-rmse:0.97531\n",
      "[35]\tvalidation_0-rmse:0.95728\tvalidation_1-rmse:0.97439\n",
      "[36]\tvalidation_0-rmse:0.95678\tvalidation_1-rmse:0.97425\n",
      "[37]\tvalidation_0-rmse:0.95660\tvalidation_1-rmse:0.97407\n",
      "[38]\tvalidation_0-rmse:0.95674\tvalidation_1-rmse:0.97439\n",
      "[39]\tvalidation_0-rmse:0.95655\tvalidation_1-rmse:0.97416\n",
      "[40]\tvalidation_0-rmse:0.95634\tvalidation_1-rmse:0.97367\n",
      "[41]\tvalidation_0-rmse:0.95618\tvalidation_1-rmse:0.97358\n",
      "[42]\tvalidation_0-rmse:0.95608\tvalidation_1-rmse:0.97345\n",
      "[43]\tvalidation_0-rmse:0.95589\tvalidation_1-rmse:0.97320\n",
      "[44]\tvalidation_0-rmse:0.95573\tvalidation_1-rmse:0.97317\n",
      "[45]\tvalidation_0-rmse:0.95562\tvalidation_1-rmse:0.97320\n",
      "[46]\tvalidation_0-rmse:0.95550\tvalidation_1-rmse:0.97294\n",
      "[47]\tvalidation_0-rmse:0.95543\tvalidation_1-rmse:0.97265\n",
      "[48]\tvalidation_0-rmse:0.95524\tvalidation_1-rmse:0.97222\n",
      "[49]\tvalidation_0-rmse:0.95487\tvalidation_1-rmse:0.97261\n",
      "[50]\tvalidation_0-rmse:0.95474\tvalidation_1-rmse:0.97291\n",
      "[51]\tvalidation_0-rmse:0.95462\tvalidation_1-rmse:0.97273\n",
      "[52]\tvalidation_0-rmse:0.95454\tvalidation_1-rmse:0.97254\n",
      "[53]\tvalidation_0-rmse:0.95446\tvalidation_1-rmse:0.97220\n",
      "[54]\tvalidation_0-rmse:0.95437\tvalidation_1-rmse:0.97225\n",
      "[55]\tvalidation_0-rmse:0.95429\tvalidation_1-rmse:0.97211\n",
      "[56]\tvalidation_0-rmse:0.95413\tvalidation_1-rmse:0.97167\n",
      "[57]\tvalidation_0-rmse:0.95407\tvalidation_1-rmse:0.97158\n",
      "[58]\tvalidation_0-rmse:0.95393\tvalidation_1-rmse:0.97120\n",
      "[59]\tvalidation_0-rmse:0.95385\tvalidation_1-rmse:0.97145\n",
      "[60]\tvalidation_0-rmse:0.95373\tvalidation_1-rmse:0.97181\n",
      "[61]\tvalidation_0-rmse:0.95359\tvalidation_1-rmse:0.97182\n",
      "[62]\tvalidation_0-rmse:0.95362\tvalidation_1-rmse:0.97174\n",
      "[63]\tvalidation_0-rmse:0.95352\tvalidation_1-rmse:0.97143\n"
     ]
    },
    {
     "name": "stderr",
     "output_type": "stream",
     "text": [
      "D:\\Anaconda\\lib\\site-packages\\xgboost\\data.py:112: UserWarning: Use subset (sliced data) of np.ndarray is not recommended because it will generate extra copies and increase memory consumption\n",
      "  warnings.warn(\n"
     ]
    },
    {
     "name": "stdout",
     "output_type": "stream",
     "text": [
      "[0]\tvalidation_0-rmse:1.16146\tvalidation_1-rmse:1.10607\n",
      "[1]\tvalidation_0-rmse:1.12526\tvalidation_1-rmse:1.08255\n",
      "[2]\tvalidation_0-rmse:1.08804\tvalidation_1-rmse:1.05535\n",
      "[3]\tvalidation_0-rmse:1.06080\tvalidation_1-rmse:1.03821\n",
      "[4]\tvalidation_0-rmse:1.04105\tvalidation_1-rmse:1.02644\n",
      "[5]\tvalidation_0-rmse:1.02715\tvalidation_1-rmse:1.01703\n",
      "[6]\tvalidation_0-rmse:1.01809\tvalidation_1-rmse:1.01183\n",
      "[7]\tvalidation_0-rmse:1.00974\tvalidation_1-rmse:1.00778\n",
      "[8]\tvalidation_0-rmse:1.00349\tvalidation_1-rmse:1.00406\n",
      "[9]\tvalidation_0-rmse:0.99947\tvalidation_1-rmse:1.00019\n",
      "[10]\tvalidation_0-rmse:0.99440\tvalidation_1-rmse:0.99791\n",
      "[11]\tvalidation_0-rmse:0.98593\tvalidation_1-rmse:0.99619\n",
      "[12]\tvalidation_0-rmse:0.98298\tvalidation_1-rmse:0.99315\n",
      "[13]\tvalidation_0-rmse:0.98054\tvalidation_1-rmse:0.99054\n",
      "[14]\tvalidation_0-rmse:0.97879\tvalidation_1-rmse:0.98885\n",
      "[15]\tvalidation_0-rmse:0.97611\tvalidation_1-rmse:0.98630\n",
      "[16]\tvalidation_0-rmse:0.97450\tvalidation_1-rmse:0.98463\n",
      "[17]\tvalidation_0-rmse:0.97101\tvalidation_1-rmse:0.98308\n",
      "[18]\tvalidation_0-rmse:0.96938\tvalidation_1-rmse:0.98147\n",
      "[19]\tvalidation_0-rmse:0.96796\tvalidation_1-rmse:0.98099\n",
      "[20]\tvalidation_0-rmse:0.96686\tvalidation_1-rmse:0.98036\n",
      "[21]\tvalidation_0-rmse:0.96536\tvalidation_1-rmse:0.98023\n",
      "[22]\tvalidation_0-rmse:0.96435\tvalidation_1-rmse:0.97898\n",
      "[23]\tvalidation_0-rmse:0.96357\tvalidation_1-rmse:0.97823\n",
      "[24]\tvalidation_0-rmse:0.96326\tvalidation_1-rmse:0.97751\n",
      "[25]\tvalidation_0-rmse:0.96161\tvalidation_1-rmse:0.97741\n",
      "[26]\tvalidation_0-rmse:0.96079\tvalidation_1-rmse:0.97765\n",
      "[27]\tvalidation_0-rmse:0.96025\tvalidation_1-rmse:0.97690\n",
      "[28]\tvalidation_0-rmse:0.95966\tvalidation_1-rmse:0.97622\n",
      "[29]\tvalidation_0-rmse:0.95947\tvalidation_1-rmse:0.97651\n",
      "[30]\tvalidation_0-rmse:0.95862\tvalidation_1-rmse:0.97596\n",
      "[31]\tvalidation_0-rmse:0.95834\tvalidation_1-rmse:0.97553\n",
      "[32]\tvalidation_0-rmse:0.95791\tvalidation_1-rmse:0.97438\n",
      "[33]\tvalidation_0-rmse:0.95772\tvalidation_1-rmse:0.97470\n",
      "[34]\tvalidation_0-rmse:0.95741\tvalidation_1-rmse:0.97416\n",
      "[35]\tvalidation_0-rmse:0.95690\tvalidation_1-rmse:0.97350\n",
      "[36]\tvalidation_0-rmse:0.95670\tvalidation_1-rmse:0.97332\n",
      "[37]\tvalidation_0-rmse:0.95656\tvalidation_1-rmse:0.97306\n",
      "[38]\tvalidation_0-rmse:0.95633\tvalidation_1-rmse:0.97270\n",
      "[39]\tvalidation_0-rmse:0.95604\tvalidation_1-rmse:0.97309\n",
      "[40]\tvalidation_0-rmse:0.95586\tvalidation_1-rmse:0.97264\n",
      "[41]\tvalidation_0-rmse:0.95561\tvalidation_1-rmse:0.97234\n",
      "[42]\tvalidation_0-rmse:0.95544\tvalidation_1-rmse:0.97214\n",
      "[43]\tvalidation_0-rmse:0.95526\tvalidation_1-rmse:0.97238\n",
      "[44]\tvalidation_0-rmse:0.95517\tvalidation_1-rmse:0.97243\n",
      "[45]\tvalidation_0-rmse:0.95502\tvalidation_1-rmse:0.97200\n",
      "[46]\tvalidation_0-rmse:0.95489\tvalidation_1-rmse:0.97175\n",
      "[47]\tvalidation_0-rmse:0.95496\tvalidation_1-rmse:0.97166\n",
      "[48]\tvalidation_0-rmse:0.95485\tvalidation_1-rmse:0.97106\n",
      "[49]\tvalidation_0-rmse:0.95491\tvalidation_1-rmse:0.97140\n",
      "[50]\tvalidation_0-rmse:0.95477\tvalidation_1-rmse:0.97126\n",
      "[51]\tvalidation_0-rmse:0.95466\tvalidation_1-rmse:0.97091\n",
      "[52]\tvalidation_0-rmse:0.95455\tvalidation_1-rmse:0.97067\n",
      "[53]\tvalidation_0-rmse:0.95451\tvalidation_1-rmse:0.97040\n",
      "[54]\tvalidation_0-rmse:0.95435\tvalidation_1-rmse:0.97000\n",
      "[55]\tvalidation_0-rmse:0.95423\tvalidation_1-rmse:0.96989\n",
      "[56]\tvalidation_0-rmse:0.95415\tvalidation_1-rmse:0.96983\n",
      "[57]\tvalidation_0-rmse:0.95406\tvalidation_1-rmse:0.96957\n",
      "[58]\tvalidation_0-rmse:0.95388\tvalidation_1-rmse:0.96988\n",
      "[59]\tvalidation_0-rmse:0.95387\tvalidation_1-rmse:0.96976\n",
      "[60]\tvalidation_0-rmse:0.95377\tvalidation_1-rmse:0.96998\n",
      "[61]\tvalidation_0-rmse:0.95363\tvalidation_1-rmse:0.96998\n"
     ]
    },
    {
     "name": "stderr",
     "output_type": "stream",
     "text": [
      "D:\\Anaconda\\lib\\site-packages\\xgboost\\data.py:112: UserWarning: Use subset (sliced data) of np.ndarray is not recommended because it will generate extra copies and increase memory consumption\n",
      "  warnings.warn(\n"
     ]
    },
    {
     "name": "stdout",
     "output_type": "stream",
     "text": [
      "[0]\tvalidation_0-rmse:1.16059\tvalidation_1-rmse:1.10665\n"
     ]
    },
    {
     "name": "stderr",
     "output_type": "stream",
     "text": [
      "D:\\Anaconda\\lib\\site-packages\\xgboost\\data.py:112: UserWarning: Use subset (sliced data) of np.ndarray is not recommended because it will generate extra copies and increase memory consumption\n",
      "  warnings.warn(\n"
     ]
    },
    {
     "name": "stdout",
     "output_type": "stream",
     "text": [
      "[0]\tvalidation_0-rmse:1.16075\tvalidation_1-rmse:1.10584\n"
     ]
    },
    {
     "name": "stderr",
     "output_type": "stream",
     "text": [
      "D:\\Anaconda\\lib\\site-packages\\xgboost\\data.py:112: UserWarning: Use subset (sliced data) of np.ndarray is not recommended because it will generate extra copies and increase memory consumption\n",
      "  warnings.warn(\n"
     ]
    },
    {
     "name": "stdout",
     "output_type": "stream",
     "text": [
      "[0]\tvalidation_0-rmse:1.16199\tvalidation_1-rmse:1.10591\n"
     ]
    },
    {
     "name": "stderr",
     "output_type": "stream",
     "text": [
      "D:\\Anaconda\\lib\\site-packages\\xgboost\\data.py:112: UserWarning: Use subset (sliced data) of np.ndarray is not recommended because it will generate extra copies and increase memory consumption\n",
      "  warnings.warn(\n"
     ]
    },
    {
     "name": "stdout",
     "output_type": "stream",
     "text": [
      "[0]\tvalidation_0-rmse:1.15980\tvalidation_1-rmse:1.10596\n"
     ]
    },
    {
     "name": "stderr",
     "output_type": "stream",
     "text": [
      "D:\\Anaconda\\lib\\site-packages\\xgboost\\data.py:112: UserWarning: Use subset (sliced data) of np.ndarray is not recommended because it will generate extra copies and increase memory consumption\n",
      "  warnings.warn(\n"
     ]
    },
    {
     "name": "stdout",
     "output_type": "stream",
     "text": [
      "[0]\tvalidation_0-rmse:1.16146\tvalidation_1-rmse:1.10607\n"
     ]
    },
    {
     "name": "stderr",
     "output_type": "stream",
     "text": [
      "D:\\Anaconda\\lib\\site-packages\\xgboost\\data.py:112: UserWarning: Use subset (sliced data) of np.ndarray is not recommended because it will generate extra copies and increase memory consumption\n",
      "  warnings.warn(\n"
     ]
    },
    {
     "name": "stdout",
     "output_type": "stream",
     "text": [
      "[0]\tvalidation_0-rmse:1.16059\tvalidation_1-rmse:1.10665\n",
      "[1]\tvalidation_0-rmse:1.12140\tvalidation_1-rmse:1.08268\n",
      "[2]\tvalidation_0-rmse:1.08741\tvalidation_1-rmse:1.05602\n",
      "[3]\tvalidation_0-rmse:1.05789\tvalidation_1-rmse:1.03907\n",
      "[4]\tvalidation_0-rmse:1.03971\tvalidation_1-rmse:1.02647\n",
      "[5]\tvalidation_0-rmse:1.02608\tvalidation_1-rmse:1.01722\n",
      "[6]\tvalidation_0-rmse:1.01629\tvalidation_1-rmse:1.01197\n",
      "[7]\tvalidation_0-rmse:1.00858\tvalidation_1-rmse:1.00719\n",
      "[8]\tvalidation_0-rmse:1.00032\tvalidation_1-rmse:1.00333\n",
      "[9]\tvalidation_0-rmse:0.99579\tvalidation_1-rmse:0.99934\n"
     ]
    },
    {
     "name": "stderr",
     "output_type": "stream",
     "text": [
      "D:\\Anaconda\\lib\\site-packages\\xgboost\\data.py:112: UserWarning: Use subset (sliced data) of np.ndarray is not recommended because it will generate extra copies and increase memory consumption\n",
      "  warnings.warn(\n"
     ]
    },
    {
     "name": "stdout",
     "output_type": "stream",
     "text": [
      "[0]\tvalidation_0-rmse:1.16075\tvalidation_1-rmse:1.10584\n",
      "[1]\tvalidation_0-rmse:1.12452\tvalidation_1-rmse:1.08252\n",
      "[2]\tvalidation_0-rmse:1.08820\tvalidation_1-rmse:1.05546\n",
      "[3]\tvalidation_0-rmse:1.05965\tvalidation_1-rmse:1.03840\n",
      "[4]\tvalidation_0-rmse:1.03926\tvalidation_1-rmse:1.02581\n",
      "[5]\tvalidation_0-rmse:1.02603\tvalidation_1-rmse:1.01643\n",
      "[6]\tvalidation_0-rmse:1.01981\tvalidation_1-rmse:1.01144\n",
      "[7]\tvalidation_0-rmse:1.00830\tvalidation_1-rmse:1.00666\n",
      "[8]\tvalidation_0-rmse:1.00121\tvalidation_1-rmse:1.00273\n",
      "[9]\tvalidation_0-rmse:0.99698\tvalidation_1-rmse:0.99872\n"
     ]
    },
    {
     "name": "stderr",
     "output_type": "stream",
     "text": [
      "D:\\Anaconda\\lib\\site-packages\\xgboost\\data.py:112: UserWarning: Use subset (sliced data) of np.ndarray is not recommended because it will generate extra copies and increase memory consumption\n",
      "  warnings.warn(\n"
     ]
    },
    {
     "name": "stdout",
     "output_type": "stream",
     "text": [
      "[0]\tvalidation_0-rmse:1.16199\tvalidation_1-rmse:1.10591\n",
      "[1]\tvalidation_0-rmse:1.12848\tvalidation_1-rmse:1.08302\n",
      "[2]\tvalidation_0-rmse:1.09094\tvalidation_1-rmse:1.05543\n",
      "[3]\tvalidation_0-rmse:1.06032\tvalidation_1-rmse:1.03833\n",
      "[4]\tvalidation_0-rmse:1.04340\tvalidation_1-rmse:1.02676\n",
      "[5]\tvalidation_0-rmse:1.02812\tvalidation_1-rmse:1.01720\n",
      "[6]\tvalidation_0-rmse:1.01926\tvalidation_1-rmse:1.01221\n",
      "[7]\tvalidation_0-rmse:1.00985\tvalidation_1-rmse:1.00779\n",
      "[8]\tvalidation_0-rmse:1.00464\tvalidation_1-rmse:1.00391\n",
      "[9]\tvalidation_0-rmse:0.99423\tvalidation_1-rmse:1.00005\n"
     ]
    },
    {
     "name": "stderr",
     "output_type": "stream",
     "text": [
      "D:\\Anaconda\\lib\\site-packages\\xgboost\\data.py:112: UserWarning: Use subset (sliced data) of np.ndarray is not recommended because it will generate extra copies and increase memory consumption\n",
      "  warnings.warn(\n"
     ]
    },
    {
     "name": "stdout",
     "output_type": "stream",
     "text": [
      "[0]\tvalidation_0-rmse:1.15980\tvalidation_1-rmse:1.10596\n",
      "[1]\tvalidation_0-rmse:1.12227\tvalidation_1-rmse:1.08256\n",
      "[2]\tvalidation_0-rmse:1.08595\tvalidation_1-rmse:1.05544\n",
      "[3]\tvalidation_0-rmse:1.05790\tvalidation_1-rmse:1.03830\n",
      "[4]\tvalidation_0-rmse:1.03801\tvalidation_1-rmse:1.02571\n",
      "[5]\tvalidation_0-rmse:1.02716\tvalidation_1-rmse:1.01633\n",
      "[6]\tvalidation_0-rmse:1.01761\tvalidation_1-rmse:1.00982\n",
      "[7]\tvalidation_0-rmse:1.00864\tvalidation_1-rmse:1.00498\n",
      "[8]\tvalidation_0-rmse:0.99974\tvalidation_1-rmse:1.00061\n",
      "[9]\tvalidation_0-rmse:0.99538\tvalidation_1-rmse:0.99813\n"
     ]
    },
    {
     "name": "stderr",
     "output_type": "stream",
     "text": [
      "D:\\Anaconda\\lib\\site-packages\\xgboost\\data.py:112: UserWarning: Use subset (sliced data) of np.ndarray is not recommended because it will generate extra copies and increase memory consumption\n",
      "  warnings.warn(\n"
     ]
    },
    {
     "name": "stdout",
     "output_type": "stream",
     "text": [
      "[0]\tvalidation_0-rmse:1.16146\tvalidation_1-rmse:1.10607\n",
      "[1]\tvalidation_0-rmse:1.12526\tvalidation_1-rmse:1.08255\n",
      "[2]\tvalidation_0-rmse:1.08804\tvalidation_1-rmse:1.05535\n",
      "[3]\tvalidation_0-rmse:1.06080\tvalidation_1-rmse:1.03821\n",
      "[4]\tvalidation_0-rmse:1.04105\tvalidation_1-rmse:1.02644\n",
      "[5]\tvalidation_0-rmse:1.02715\tvalidation_1-rmse:1.01703\n",
      "[6]\tvalidation_0-rmse:1.01809\tvalidation_1-rmse:1.01183\n",
      "[7]\tvalidation_0-rmse:1.00974\tvalidation_1-rmse:1.00778\n",
      "[8]\tvalidation_0-rmse:1.00349\tvalidation_1-rmse:1.00406\n",
      "[9]\tvalidation_0-rmse:0.99947\tvalidation_1-rmse:1.00019\n"
     ]
    },
    {
     "name": "stderr",
     "output_type": "stream",
     "text": [
      "D:\\Anaconda\\lib\\site-packages\\xgboost\\data.py:112: UserWarning: Use subset (sliced data) of np.ndarray is not recommended because it will generate extra copies and increase memory consumption\n",
      "  warnings.warn(\n"
     ]
    },
    {
     "name": "stdout",
     "output_type": "stream",
     "text": [
      "[0]\tvalidation_0-rmse:1.16059\tvalidation_1-rmse:1.10665\n",
      "[1]\tvalidation_0-rmse:1.12140\tvalidation_1-rmse:1.08268\n",
      "[2]\tvalidation_0-rmse:1.08741\tvalidation_1-rmse:1.05602\n",
      "[3]\tvalidation_0-rmse:1.05789\tvalidation_1-rmse:1.03907\n",
      "[4]\tvalidation_0-rmse:1.03971\tvalidation_1-rmse:1.02647\n",
      "[5]\tvalidation_0-rmse:1.02608\tvalidation_1-rmse:1.01722\n",
      "[6]\tvalidation_0-rmse:1.01629\tvalidation_1-rmse:1.01197\n",
      "[7]\tvalidation_0-rmse:1.00858\tvalidation_1-rmse:1.00719\n",
      "[8]\tvalidation_0-rmse:1.00032\tvalidation_1-rmse:1.00333\n",
      "[9]\tvalidation_0-rmse:0.99579\tvalidation_1-rmse:0.99934\n",
      "[10]\tvalidation_0-rmse:0.99227\tvalidation_1-rmse:0.99824\n",
      "[11]\tvalidation_0-rmse:0.98925\tvalidation_1-rmse:0.99642\n",
      "[12]\tvalidation_0-rmse:0.98132\tvalidation_1-rmse:0.99343\n",
      "[13]\tvalidation_0-rmse:0.97874\tvalidation_1-rmse:0.99097\n",
      "[14]\tvalidation_0-rmse:0.97712\tvalidation_1-rmse:0.98964\n",
      "[15]\tvalidation_0-rmse:0.97425\tvalidation_1-rmse:0.98766\n",
      "[16]\tvalidation_0-rmse:0.97313\tvalidation_1-rmse:0.98603\n",
      "[17]\tvalidation_0-rmse:0.97135\tvalidation_1-rmse:0.98403\n",
      "[18]\tvalidation_0-rmse:0.96971\tvalidation_1-rmse:0.98267\n",
      "[19]\tvalidation_0-rmse:0.96865\tvalidation_1-rmse:0.98195\n",
      "[20]\tvalidation_0-rmse:0.96613\tvalidation_1-rmse:0.98140\n",
      "[21]\tvalidation_0-rmse:0.96452\tvalidation_1-rmse:0.98143\n",
      "[22]\tvalidation_0-rmse:0.96357\tvalidation_1-rmse:0.98030\n",
      "[23]\tvalidation_0-rmse:0.96301\tvalidation_1-rmse:0.97953\n",
      "[24]\tvalidation_0-rmse:0.96252\tvalidation_1-rmse:0.97886\n",
      "[25]\tvalidation_0-rmse:0.96191\tvalidation_1-rmse:0.97912\n",
      "[26]\tvalidation_0-rmse:0.96065\tvalidation_1-rmse:0.97842\n",
      "[27]\tvalidation_0-rmse:0.95997\tvalidation_1-rmse:0.97764\n",
      "[28]\tvalidation_0-rmse:0.95972\tvalidation_1-rmse:0.97790\n",
      "[29]\tvalidation_0-rmse:0.95920\tvalidation_1-rmse:0.97822\n",
      "[30]\tvalidation_0-rmse:0.95870\tvalidation_1-rmse:0.97766\n",
      "[31]\tvalidation_0-rmse:0.95854\tvalidation_1-rmse:0.97733\n",
      "[32]\tvalidation_0-rmse:0.95812\tvalidation_1-rmse:0.97636\n",
      "[33]\tvalidation_0-rmse:0.95790\tvalidation_1-rmse:0.97675\n",
      "[34]\tvalidation_0-rmse:0.95752\tvalidation_1-rmse:0.97627\n",
      "[35]\tvalidation_0-rmse:0.95729\tvalidation_1-rmse:0.97567\n",
      "[36]\tvalidation_0-rmse:0.95686\tvalidation_1-rmse:0.97553\n",
      "[37]\tvalidation_0-rmse:0.95663\tvalidation_1-rmse:0.97519\n",
      "[38]\tvalidation_0-rmse:0.95653\tvalidation_1-rmse:0.97570\n",
      "[39]\tvalidation_0-rmse:0.95644\tvalidation_1-rmse:0.97544\n",
      "[40]\tvalidation_0-rmse:0.95629\tvalidation_1-rmse:0.97525\n",
      "[41]\tvalidation_0-rmse:0.95625\tvalidation_1-rmse:0.97516\n",
      "[42]\tvalidation_0-rmse:0.95595\tvalidation_1-rmse:0.97520\n",
      "[43]\tvalidation_0-rmse:0.95586\tvalidation_1-rmse:0.97498\n",
      "[44]\tvalidation_0-rmse:0.95564\tvalidation_1-rmse:0.97444\n",
      "[45]\tvalidation_0-rmse:0.95568\tvalidation_1-rmse:0.97440\n",
      "[46]\tvalidation_0-rmse:0.95556\tvalidation_1-rmse:0.97466\n",
      "[47]\tvalidation_0-rmse:0.95540\tvalidation_1-rmse:0.97441\n",
      "[48]\tvalidation_0-rmse:0.95526\tvalidation_1-rmse:0.97381\n",
      "[49]\tvalidation_0-rmse:0.95491\tvalidation_1-rmse:0.97424\n",
      "[50]\tvalidation_0-rmse:0.95480\tvalidation_1-rmse:0.97401\n",
      "[51]\tvalidation_0-rmse:0.95462\tvalidation_1-rmse:0.97363\n",
      "[52]\tvalidation_0-rmse:0.95456\tvalidation_1-rmse:0.97387\n",
      "[53]\tvalidation_0-rmse:0.95448\tvalidation_1-rmse:0.97376\n",
      "[54]\tvalidation_0-rmse:0.95432\tvalidation_1-rmse:0.97339\n",
      "[55]\tvalidation_0-rmse:0.95425\tvalidation_1-rmse:0.97328\n",
      "[56]\tvalidation_0-rmse:0.95407\tvalidation_1-rmse:0.97312\n",
      "[57]\tvalidation_0-rmse:0.95424\tvalidation_1-rmse:0.97312\n",
      "[58]\tvalidation_0-rmse:0.95401\tvalidation_1-rmse:0.97313\n",
      "[59]\tvalidation_0-rmse:0.95396\tvalidation_1-rmse:0.97291\n",
      "[60]\tvalidation_0-rmse:0.95416\tvalidation_1-rmse:0.97336\n",
      "[61]\tvalidation_0-rmse:0.95413\tvalidation_1-rmse:0.97350\n",
      "[62]\tvalidation_0-rmse:0.95397\tvalidation_1-rmse:0.97320\n",
      "[63]\tvalidation_0-rmse:0.95388\tvalidation_1-rmse:0.97303\n",
      "[64]\tvalidation_0-rmse:0.95380\tvalidation_1-rmse:0.97284\n",
      "[65]\tvalidation_0-rmse:0.95367\tvalidation_1-rmse:0.97269\n",
      "[66]\tvalidation_0-rmse:0.95364\tvalidation_1-rmse:0.97260\n",
      "[67]\tvalidation_0-rmse:0.95363\tvalidation_1-rmse:0.97281\n",
      "[68]\tvalidation_0-rmse:0.95349\tvalidation_1-rmse:0.97248\n",
      "[69]\tvalidation_0-rmse:0.95332\tvalidation_1-rmse:0.97238\n",
      "[70]\tvalidation_0-rmse:0.95327\tvalidation_1-rmse:0.97232\n",
      "[71]\tvalidation_0-rmse:0.95339\tvalidation_1-rmse:0.97263\n",
      "[72]\tvalidation_0-rmse:0.95332\tvalidation_1-rmse:0.97267\n",
      "[73]\tvalidation_0-rmse:0.95328\tvalidation_1-rmse:0.97272\n",
      "[74]\tvalidation_0-rmse:0.95321\tvalidation_1-rmse:0.97257\n"
     ]
    },
    {
     "name": "stderr",
     "output_type": "stream",
     "text": [
      "D:\\Anaconda\\lib\\site-packages\\xgboost\\data.py:112: UserWarning: Use subset (sliced data) of np.ndarray is not recommended because it will generate extra copies and increase memory consumption\n",
      "  warnings.warn(\n"
     ]
    },
    {
     "name": "stdout",
     "output_type": "stream",
     "text": [
      "[0]\tvalidation_0-rmse:1.16075\tvalidation_1-rmse:1.10584\n",
      "[1]\tvalidation_0-rmse:1.12452\tvalidation_1-rmse:1.08252\n",
      "[2]\tvalidation_0-rmse:1.08820\tvalidation_1-rmse:1.05546\n",
      "[3]\tvalidation_0-rmse:1.05965\tvalidation_1-rmse:1.03840\n",
      "[4]\tvalidation_0-rmse:1.03926\tvalidation_1-rmse:1.02581\n",
      "[5]\tvalidation_0-rmse:1.02603\tvalidation_1-rmse:1.01643\n",
      "[6]\tvalidation_0-rmse:1.01981\tvalidation_1-rmse:1.01144\n",
      "[7]\tvalidation_0-rmse:1.00830\tvalidation_1-rmse:1.00666\n",
      "[8]\tvalidation_0-rmse:1.00121\tvalidation_1-rmse:1.00273\n",
      "[9]\tvalidation_0-rmse:0.99698\tvalidation_1-rmse:0.99872\n",
      "[10]\tvalidation_0-rmse:0.99320\tvalidation_1-rmse:0.99763\n",
      "[11]\tvalidation_0-rmse:0.98555\tvalidation_1-rmse:0.99580\n",
      "[12]\tvalidation_0-rmse:0.98192\tvalidation_1-rmse:0.99282\n",
      "[13]\tvalidation_0-rmse:0.97966\tvalidation_1-rmse:0.99015\n",
      "[14]\tvalidation_0-rmse:0.97810\tvalidation_1-rmse:0.98880\n",
      "[15]\tvalidation_0-rmse:0.97586\tvalidation_1-rmse:0.98725\n",
      "[16]\tvalidation_0-rmse:0.97448\tvalidation_1-rmse:0.98579\n",
      "[17]\tvalidation_0-rmse:0.97038\tvalidation_1-rmse:0.98394\n",
      "[18]\tvalidation_0-rmse:0.96974\tvalidation_1-rmse:0.98272\n",
      "[19]\tvalidation_0-rmse:0.96805\tvalidation_1-rmse:0.98179\n",
      "[20]\tvalidation_0-rmse:0.96674\tvalidation_1-rmse:0.98049\n",
      "[21]\tvalidation_0-rmse:0.96522\tvalidation_1-rmse:0.97925\n",
      "[22]\tvalidation_0-rmse:0.96401\tvalidation_1-rmse:0.97932\n",
      "[23]\tvalidation_0-rmse:0.96377\tvalidation_1-rmse:0.97843\n",
      "[24]\tvalidation_0-rmse:0.96315\tvalidation_1-rmse:0.97813\n",
      "[25]\tvalidation_0-rmse:0.96127\tvalidation_1-rmse:0.97813\n",
      "[26]\tvalidation_0-rmse:0.96061\tvalidation_1-rmse:0.97727\n",
      "[27]\tvalidation_0-rmse:0.96020\tvalidation_1-rmse:0.97628\n",
      "[28]\tvalidation_0-rmse:0.96001\tvalidation_1-rmse:0.97563\n",
      "[29]\tvalidation_0-rmse:0.95932\tvalidation_1-rmse:0.97569\n",
      "[30]\tvalidation_0-rmse:0.95902\tvalidation_1-rmse:0.97520\n",
      "[31]\tvalidation_0-rmse:0.95860\tvalidation_1-rmse:0.97550\n",
      "[32]\tvalidation_0-rmse:0.95819\tvalidation_1-rmse:0.97486\n",
      "[33]\tvalidation_0-rmse:0.95774\tvalidation_1-rmse:0.97477\n",
      "[34]\tvalidation_0-rmse:0.95746\tvalidation_1-rmse:0.97436\n",
      "[35]\tvalidation_0-rmse:0.95725\tvalidation_1-rmse:0.97449\n",
      "[36]\tvalidation_0-rmse:0.95705\tvalidation_1-rmse:0.97361\n",
      "[37]\tvalidation_0-rmse:0.95660\tvalidation_1-rmse:0.97342\n",
      "[38]\tvalidation_0-rmse:0.95642\tvalidation_1-rmse:0.97305\n",
      "[39]\tvalidation_0-rmse:0.95637\tvalidation_1-rmse:0.97336\n",
      "[40]\tvalidation_0-rmse:0.95626\tvalidation_1-rmse:0.97320\n",
      "[41]\tvalidation_0-rmse:0.95611\tvalidation_1-rmse:0.97291\n",
      "[42]\tvalidation_0-rmse:0.95598\tvalidation_1-rmse:0.97291\n",
      "[43]\tvalidation_0-rmse:0.95584\tvalidation_1-rmse:0.97275\n",
      "[44]\tvalidation_0-rmse:0.95572\tvalidation_1-rmse:0.97265\n",
      "[45]\tvalidation_0-rmse:0.95562\tvalidation_1-rmse:0.97218\n",
      "[46]\tvalidation_0-rmse:0.95550\tvalidation_1-rmse:0.97244\n",
      "[47]\tvalidation_0-rmse:0.95537\tvalidation_1-rmse:0.97243\n",
      "[48]\tvalidation_0-rmse:0.95535\tvalidation_1-rmse:0.97203\n",
      "[49]\tvalidation_0-rmse:0.95493\tvalidation_1-rmse:0.97230\n",
      "[50]\tvalidation_0-rmse:0.95485\tvalidation_1-rmse:0.97220\n",
      "[51]\tvalidation_0-rmse:0.95474\tvalidation_1-rmse:0.97206\n",
      "[52]\tvalidation_0-rmse:0.95462\tvalidation_1-rmse:0.97187\n",
      "[53]\tvalidation_0-rmse:0.95449\tvalidation_1-rmse:0.97149\n",
      "[54]\tvalidation_0-rmse:0.95449\tvalidation_1-rmse:0.97152\n",
      "[55]\tvalidation_0-rmse:0.95433\tvalidation_1-rmse:0.97132\n",
      "[56]\tvalidation_0-rmse:0.95426\tvalidation_1-rmse:0.97116\n",
      "[57]\tvalidation_0-rmse:0.95419\tvalidation_1-rmse:0.97096\n",
      "[58]\tvalidation_0-rmse:0.95403\tvalidation_1-rmse:0.97096\n",
      "[59]\tvalidation_0-rmse:0.95390\tvalidation_1-rmse:0.97062\n",
      "[60]\tvalidation_0-rmse:0.95383\tvalidation_1-rmse:0.97086\n",
      "[61]\tvalidation_0-rmse:0.95368\tvalidation_1-rmse:0.97108\n",
      "[62]\tvalidation_0-rmse:0.95362\tvalidation_1-rmse:0.97089\n",
      "[63]\tvalidation_0-rmse:0.95353\tvalidation_1-rmse:0.97057\n",
      "[64]\tvalidation_0-rmse:0.95347\tvalidation_1-rmse:0.97076\n",
      "[65]\tvalidation_0-rmse:0.95344\tvalidation_1-rmse:0.97071\n",
      "[66]\tvalidation_0-rmse:0.95333\tvalidation_1-rmse:0.97059\n",
      "[67]\tvalidation_0-rmse:0.95334\tvalidation_1-rmse:0.97052\n",
      "[68]\tvalidation_0-rmse:0.95328\tvalidation_1-rmse:0.97016\n",
      "[69]\tvalidation_0-rmse:0.95319\tvalidation_1-rmse:0.97002\n",
      "[70]\tvalidation_0-rmse:0.95316\tvalidation_1-rmse:0.96977\n",
      "[71]\tvalidation_0-rmse:0.95308\tvalidation_1-rmse:0.97000\n",
      "[72]\tvalidation_0-rmse:0.95303\tvalidation_1-rmse:0.96992\n",
      "[73]\tvalidation_0-rmse:0.95296\tvalidation_1-rmse:0.96964\n",
      "[74]\tvalidation_0-rmse:0.95292\tvalidation_1-rmse:0.96984\n",
      "[75]\tvalidation_0-rmse:0.95302\tvalidation_1-rmse:0.97004\n",
      "[76]\tvalidation_0-rmse:0.95298\tvalidation_1-rmse:0.97010\n",
      "[77]\tvalidation_0-rmse:0.95302\tvalidation_1-rmse:0.97011\n",
      "[78]\tvalidation_0-rmse:0.95294\tvalidation_1-rmse:0.97018\n"
     ]
    },
    {
     "name": "stderr",
     "output_type": "stream",
     "text": [
      "D:\\Anaconda\\lib\\site-packages\\xgboost\\data.py:112: UserWarning: Use subset (sliced data) of np.ndarray is not recommended because it will generate extra copies and increase memory consumption\n",
      "  warnings.warn(\n"
     ]
    },
    {
     "name": "stdout",
     "output_type": "stream",
     "text": [
      "[0]\tvalidation_0-rmse:1.16199\tvalidation_1-rmse:1.10591\n",
      "[1]\tvalidation_0-rmse:1.12848\tvalidation_1-rmse:1.08302\n",
      "[2]\tvalidation_0-rmse:1.09094\tvalidation_1-rmse:1.05543\n",
      "[3]\tvalidation_0-rmse:1.06032\tvalidation_1-rmse:1.03833\n",
      "[4]\tvalidation_0-rmse:1.04340\tvalidation_1-rmse:1.02676\n",
      "[5]\tvalidation_0-rmse:1.02812\tvalidation_1-rmse:1.01720\n",
      "[6]\tvalidation_0-rmse:1.01926\tvalidation_1-rmse:1.01221\n",
      "[7]\tvalidation_0-rmse:1.00985\tvalidation_1-rmse:1.00779\n",
      "[8]\tvalidation_0-rmse:1.00464\tvalidation_1-rmse:1.00391\n",
      "[9]\tvalidation_0-rmse:0.99423\tvalidation_1-rmse:1.00005\n",
      "[10]\tvalidation_0-rmse:0.98935\tvalidation_1-rmse:0.99800\n",
      "[11]\tvalidation_0-rmse:0.98700\tvalidation_1-rmse:0.99623\n",
      "[12]\tvalidation_0-rmse:0.98401\tvalidation_1-rmse:0.99328\n",
      "[13]\tvalidation_0-rmse:0.98155\tvalidation_1-rmse:0.99071\n",
      "[14]\tvalidation_0-rmse:0.97910\tvalidation_1-rmse:0.98855\n",
      "[15]\tvalidation_0-rmse:0.97700\tvalidation_1-rmse:0.98665\n",
      "[16]\tvalidation_0-rmse:0.97503\tvalidation_1-rmse:0.98523\n",
      "[17]\tvalidation_0-rmse:0.97094\tvalidation_1-rmse:0.98335\n",
      "[18]\tvalidation_0-rmse:0.97033\tvalidation_1-rmse:0.98208\n",
      "[19]\tvalidation_0-rmse:0.96885\tvalidation_1-rmse:0.98122\n",
      "[20]\tvalidation_0-rmse:0.96720\tvalidation_1-rmse:0.97992\n",
      "[21]\tvalidation_0-rmse:0.96571\tvalidation_1-rmse:0.97980\n",
      "[22]\tvalidation_0-rmse:0.96417\tvalidation_1-rmse:0.97860\n",
      "[23]\tvalidation_0-rmse:0.96394\tvalidation_1-rmse:0.97821\n",
      "[24]\tvalidation_0-rmse:0.96320\tvalidation_1-rmse:0.97723\n",
      "[25]\tvalidation_0-rmse:0.96240\tvalidation_1-rmse:0.97692\n",
      "[26]\tvalidation_0-rmse:0.96097\tvalidation_1-rmse:0.97622\n",
      "[27]\tvalidation_0-rmse:0.96059\tvalidation_1-rmse:0.97564\n",
      "[28]\tvalidation_0-rmse:0.96016\tvalidation_1-rmse:0.97570\n",
      "[29]\tvalidation_0-rmse:0.95960\tvalidation_1-rmse:0.97599\n",
      "[30]\tvalidation_0-rmse:0.95910\tvalidation_1-rmse:0.97484\n",
      "[31]\tvalidation_0-rmse:0.95856\tvalidation_1-rmse:0.97440\n",
      "[32]\tvalidation_0-rmse:0.95822\tvalidation_1-rmse:0.97387\n",
      "[33]\tvalidation_0-rmse:0.95805\tvalidation_1-rmse:0.97356\n",
      "[34]\tvalidation_0-rmse:0.95779\tvalidation_1-rmse:0.97323\n",
      "[35]\tvalidation_0-rmse:0.95725\tvalidation_1-rmse:0.97346\n",
      "[36]\tvalidation_0-rmse:0.95704\tvalidation_1-rmse:0.97332\n",
      "[37]\tvalidation_0-rmse:0.95670\tvalidation_1-rmse:0.97301\n",
      "[38]\tvalidation_0-rmse:0.95648\tvalidation_1-rmse:0.97214\n",
      "[39]\tvalidation_0-rmse:0.95616\tvalidation_1-rmse:0.97227\n",
      "[40]\tvalidation_0-rmse:0.95603\tvalidation_1-rmse:0.97202\n",
      "[41]\tvalidation_0-rmse:0.95586\tvalidation_1-rmse:0.97157\n",
      "[42]\tvalidation_0-rmse:0.95570\tvalidation_1-rmse:0.97111\n",
      "[43]\tvalidation_0-rmse:0.95568\tvalidation_1-rmse:0.97102\n",
      "[44]\tvalidation_0-rmse:0.95545\tvalidation_1-rmse:0.97104\n",
      "[45]\tvalidation_0-rmse:0.95531\tvalidation_1-rmse:0.97130\n",
      "[46]\tvalidation_0-rmse:0.95511\tvalidation_1-rmse:0.97116\n",
      "[47]\tvalidation_0-rmse:0.95507\tvalidation_1-rmse:0.97084\n",
      "[48]\tvalidation_0-rmse:0.95508\tvalidation_1-rmse:0.97070\n",
      "[49]\tvalidation_0-rmse:0.95496\tvalidation_1-rmse:0.97033\n",
      "[50]\tvalidation_0-rmse:0.95483\tvalidation_1-rmse:0.97024\n",
      "[51]\tvalidation_0-rmse:0.95454\tvalidation_1-rmse:0.97000\n",
      "[52]\tvalidation_0-rmse:0.95454\tvalidation_1-rmse:0.97015\n",
      "[53]\tvalidation_0-rmse:0.95449\tvalidation_1-rmse:0.96997\n",
      "[54]\tvalidation_0-rmse:0.95431\tvalidation_1-rmse:0.96996\n",
      "[55]\tvalidation_0-rmse:0.95423\tvalidation_1-rmse:0.96977\n",
      "[56]\tvalidation_0-rmse:0.95411\tvalidation_1-rmse:0.96966\n",
      "[57]\tvalidation_0-rmse:0.95401\tvalidation_1-rmse:0.96955\n",
      "[58]\tvalidation_0-rmse:0.95393\tvalidation_1-rmse:0.96925\n",
      "[59]\tvalidation_0-rmse:0.95383\tvalidation_1-rmse:0.96942\n",
      "[60]\tvalidation_0-rmse:0.95389\tvalidation_1-rmse:0.96948\n",
      "[61]\tvalidation_0-rmse:0.95379\tvalidation_1-rmse:0.96933\n",
      "[62]\tvalidation_0-rmse:0.95378\tvalidation_1-rmse:0.96933\n"
     ]
    },
    {
     "name": "stderr",
     "output_type": "stream",
     "text": [
      "D:\\Anaconda\\lib\\site-packages\\xgboost\\data.py:112: UserWarning: Use subset (sliced data) of np.ndarray is not recommended because it will generate extra copies and increase memory consumption\n",
      "  warnings.warn(\n"
     ]
    },
    {
     "name": "stdout",
     "output_type": "stream",
     "text": [
      "[0]\tvalidation_0-rmse:1.15980\tvalidation_1-rmse:1.10596\n",
      "[1]\tvalidation_0-rmse:1.12227\tvalidation_1-rmse:1.08256\n",
      "[2]\tvalidation_0-rmse:1.08595\tvalidation_1-rmse:1.05544\n",
      "[3]\tvalidation_0-rmse:1.05790\tvalidation_1-rmse:1.03830\n",
      "[4]\tvalidation_0-rmse:1.03801\tvalidation_1-rmse:1.02571\n",
      "[5]\tvalidation_0-rmse:1.02716\tvalidation_1-rmse:1.01633\n",
      "[6]\tvalidation_0-rmse:1.01761\tvalidation_1-rmse:1.00982\n",
      "[7]\tvalidation_0-rmse:1.00864\tvalidation_1-rmse:1.00498\n",
      "[8]\tvalidation_0-rmse:0.99974\tvalidation_1-rmse:1.00061\n",
      "[9]\tvalidation_0-rmse:0.99538\tvalidation_1-rmse:0.99813\n",
      "[10]\tvalidation_0-rmse:0.99234\tvalidation_1-rmse:0.99698\n",
      "[11]\tvalidation_0-rmse:0.98408\tvalidation_1-rmse:0.99525\n",
      "[12]\tvalidation_0-rmse:0.98153\tvalidation_1-rmse:0.99204\n",
      "[13]\tvalidation_0-rmse:0.97897\tvalidation_1-rmse:0.99160\n",
      "[14]\tvalidation_0-rmse:0.97666\tvalidation_1-rmse:0.98928\n",
      "[15]\tvalidation_0-rmse:0.97495\tvalidation_1-rmse:0.98787\n",
      "[16]\tvalidation_0-rmse:0.97321\tvalidation_1-rmse:0.98662\n",
      "[17]\tvalidation_0-rmse:0.97133\tvalidation_1-rmse:0.98462\n",
      "[18]\tvalidation_0-rmse:0.96965\tvalidation_1-rmse:0.98337\n",
      "[19]\tvalidation_0-rmse:0.96663\tvalidation_1-rmse:0.98275\n",
      "[20]\tvalidation_0-rmse:0.96598\tvalidation_1-rmse:0.98143\n",
      "[21]\tvalidation_0-rmse:0.96462\tvalidation_1-rmse:0.98012\n",
      "[22]\tvalidation_0-rmse:0.96367\tvalidation_1-rmse:0.97916\n",
      "[23]\tvalidation_0-rmse:0.96285\tvalidation_1-rmse:0.97820\n",
      "[24]\tvalidation_0-rmse:0.96260\tvalidation_1-rmse:0.97752\n",
      "[25]\tvalidation_0-rmse:0.96185\tvalidation_1-rmse:0.97766\n",
      "[26]\tvalidation_0-rmse:0.96151\tvalidation_1-rmse:0.97699\n",
      "[27]\tvalidation_0-rmse:0.96032\tvalidation_1-rmse:0.97673\n",
      "[28]\tvalidation_0-rmse:0.95974\tvalidation_1-rmse:0.97690\n",
      "[29]\tvalidation_0-rmse:0.95914\tvalidation_1-rmse:0.97724\n",
      "[30]\tvalidation_0-rmse:0.95874\tvalidation_1-rmse:0.97629\n",
      "[31]\tvalidation_0-rmse:0.95833\tvalidation_1-rmse:0.97594\n",
      "[32]\tvalidation_0-rmse:0.95793\tvalidation_1-rmse:0.97534\n",
      "[33]\tvalidation_0-rmse:0.95779\tvalidation_1-rmse:0.97571\n",
      "[34]\tvalidation_0-rmse:0.95751\tvalidation_1-rmse:0.97531\n",
      "[35]\tvalidation_0-rmse:0.95728\tvalidation_1-rmse:0.97439\n",
      "[36]\tvalidation_0-rmse:0.95678\tvalidation_1-rmse:0.97425\n",
      "[37]\tvalidation_0-rmse:0.95660\tvalidation_1-rmse:0.97407\n",
      "[38]\tvalidation_0-rmse:0.95674\tvalidation_1-rmse:0.97439\n",
      "[39]\tvalidation_0-rmse:0.95655\tvalidation_1-rmse:0.97416\n",
      "[40]\tvalidation_0-rmse:0.95634\tvalidation_1-rmse:0.97367\n",
      "[41]\tvalidation_0-rmse:0.95618\tvalidation_1-rmse:0.97358\n",
      "[42]\tvalidation_0-rmse:0.95608\tvalidation_1-rmse:0.97345\n",
      "[43]\tvalidation_0-rmse:0.95589\tvalidation_1-rmse:0.97320\n",
      "[44]\tvalidation_0-rmse:0.95573\tvalidation_1-rmse:0.97317\n",
      "[45]\tvalidation_0-rmse:0.95562\tvalidation_1-rmse:0.97320\n",
      "[46]\tvalidation_0-rmse:0.95550\tvalidation_1-rmse:0.97294\n",
      "[47]\tvalidation_0-rmse:0.95543\tvalidation_1-rmse:0.97265\n",
      "[48]\tvalidation_0-rmse:0.95524\tvalidation_1-rmse:0.97222\n",
      "[49]\tvalidation_0-rmse:0.95487\tvalidation_1-rmse:0.97261\n",
      "[50]\tvalidation_0-rmse:0.95474\tvalidation_1-rmse:0.97291\n",
      "[51]\tvalidation_0-rmse:0.95462\tvalidation_1-rmse:0.97273\n",
      "[52]\tvalidation_0-rmse:0.95454\tvalidation_1-rmse:0.97254\n",
      "[53]\tvalidation_0-rmse:0.95446\tvalidation_1-rmse:0.97220\n",
      "[54]\tvalidation_0-rmse:0.95437\tvalidation_1-rmse:0.97225\n",
      "[55]\tvalidation_0-rmse:0.95429\tvalidation_1-rmse:0.97211\n",
      "[56]\tvalidation_0-rmse:0.95413\tvalidation_1-rmse:0.97167\n",
      "[57]\tvalidation_0-rmse:0.95407\tvalidation_1-rmse:0.97158\n",
      "[58]\tvalidation_0-rmse:0.95393\tvalidation_1-rmse:0.97120\n",
      "[59]\tvalidation_0-rmse:0.95385\tvalidation_1-rmse:0.97145\n",
      "[60]\tvalidation_0-rmse:0.95373\tvalidation_1-rmse:0.97181\n",
      "[61]\tvalidation_0-rmse:0.95359\tvalidation_1-rmse:0.97182\n",
      "[62]\tvalidation_0-rmse:0.95362\tvalidation_1-rmse:0.97174\n",
      "[63]\tvalidation_0-rmse:0.95352\tvalidation_1-rmse:0.97143\n"
     ]
    },
    {
     "name": "stderr",
     "output_type": "stream",
     "text": [
      "D:\\Anaconda\\lib\\site-packages\\xgboost\\data.py:112: UserWarning: Use subset (sliced data) of np.ndarray is not recommended because it will generate extra copies and increase memory consumption\n",
      "  warnings.warn(\n"
     ]
    },
    {
     "name": "stdout",
     "output_type": "stream",
     "text": [
      "[0]\tvalidation_0-rmse:1.16146\tvalidation_1-rmse:1.10607\n",
      "[1]\tvalidation_0-rmse:1.12526\tvalidation_1-rmse:1.08255\n",
      "[2]\tvalidation_0-rmse:1.08804\tvalidation_1-rmse:1.05535\n",
      "[3]\tvalidation_0-rmse:1.06080\tvalidation_1-rmse:1.03821\n",
      "[4]\tvalidation_0-rmse:1.04105\tvalidation_1-rmse:1.02644\n",
      "[5]\tvalidation_0-rmse:1.02715\tvalidation_1-rmse:1.01703\n",
      "[6]\tvalidation_0-rmse:1.01809\tvalidation_1-rmse:1.01183\n",
      "[7]\tvalidation_0-rmse:1.00974\tvalidation_1-rmse:1.00778\n",
      "[8]\tvalidation_0-rmse:1.00349\tvalidation_1-rmse:1.00406\n",
      "[9]\tvalidation_0-rmse:0.99947\tvalidation_1-rmse:1.00019\n",
      "[10]\tvalidation_0-rmse:0.99440\tvalidation_1-rmse:0.99791\n",
      "[11]\tvalidation_0-rmse:0.98593\tvalidation_1-rmse:0.99619\n",
      "[12]\tvalidation_0-rmse:0.98298\tvalidation_1-rmse:0.99315\n",
      "[13]\tvalidation_0-rmse:0.98054\tvalidation_1-rmse:0.99054\n",
      "[14]\tvalidation_0-rmse:0.97879\tvalidation_1-rmse:0.98885\n",
      "[15]\tvalidation_0-rmse:0.97611\tvalidation_1-rmse:0.98630\n",
      "[16]\tvalidation_0-rmse:0.97450\tvalidation_1-rmse:0.98463\n",
      "[17]\tvalidation_0-rmse:0.97101\tvalidation_1-rmse:0.98308\n",
      "[18]\tvalidation_0-rmse:0.96938\tvalidation_1-rmse:0.98147\n",
      "[19]\tvalidation_0-rmse:0.96796\tvalidation_1-rmse:0.98099\n",
      "[20]\tvalidation_0-rmse:0.96686\tvalidation_1-rmse:0.98036\n",
      "[21]\tvalidation_0-rmse:0.96536\tvalidation_1-rmse:0.98023\n",
      "[22]\tvalidation_0-rmse:0.96435\tvalidation_1-rmse:0.97898\n",
      "[23]\tvalidation_0-rmse:0.96357\tvalidation_1-rmse:0.97823\n",
      "[24]\tvalidation_0-rmse:0.96326\tvalidation_1-rmse:0.97751\n",
      "[25]\tvalidation_0-rmse:0.96161\tvalidation_1-rmse:0.97741\n",
      "[26]\tvalidation_0-rmse:0.96079\tvalidation_1-rmse:0.97765\n",
      "[27]\tvalidation_0-rmse:0.96025\tvalidation_1-rmse:0.97690\n",
      "[28]\tvalidation_0-rmse:0.95966\tvalidation_1-rmse:0.97622\n",
      "[29]\tvalidation_0-rmse:0.95947\tvalidation_1-rmse:0.97651\n",
      "[30]\tvalidation_0-rmse:0.95862\tvalidation_1-rmse:0.97596\n",
      "[31]\tvalidation_0-rmse:0.95834\tvalidation_1-rmse:0.97553\n",
      "[32]\tvalidation_0-rmse:0.95791\tvalidation_1-rmse:0.97438\n",
      "[33]\tvalidation_0-rmse:0.95772\tvalidation_1-rmse:0.97470\n",
      "[34]\tvalidation_0-rmse:0.95741\tvalidation_1-rmse:0.97416\n",
      "[35]\tvalidation_0-rmse:0.95690\tvalidation_1-rmse:0.97350\n",
      "[36]\tvalidation_0-rmse:0.95670\tvalidation_1-rmse:0.97332\n",
      "[37]\tvalidation_0-rmse:0.95656\tvalidation_1-rmse:0.97306\n",
      "[38]\tvalidation_0-rmse:0.95633\tvalidation_1-rmse:0.97270\n",
      "[39]\tvalidation_0-rmse:0.95604\tvalidation_1-rmse:0.97309\n",
      "[40]\tvalidation_0-rmse:0.95586\tvalidation_1-rmse:0.97264\n",
      "[41]\tvalidation_0-rmse:0.95561\tvalidation_1-rmse:0.97234\n",
      "[42]\tvalidation_0-rmse:0.95544\tvalidation_1-rmse:0.97214\n",
      "[43]\tvalidation_0-rmse:0.95526\tvalidation_1-rmse:0.97238\n",
      "[44]\tvalidation_0-rmse:0.95517\tvalidation_1-rmse:0.97243\n",
      "[45]\tvalidation_0-rmse:0.95502\tvalidation_1-rmse:0.97200\n",
      "[46]\tvalidation_0-rmse:0.95489\tvalidation_1-rmse:0.97175\n",
      "[47]\tvalidation_0-rmse:0.95496\tvalidation_1-rmse:0.97166\n",
      "[48]\tvalidation_0-rmse:0.95485\tvalidation_1-rmse:0.97106\n",
      "[49]\tvalidation_0-rmse:0.95491\tvalidation_1-rmse:0.97140\n",
      "[50]\tvalidation_0-rmse:0.95477\tvalidation_1-rmse:0.97126\n",
      "[51]\tvalidation_0-rmse:0.95466\tvalidation_1-rmse:0.97091\n",
      "[52]\tvalidation_0-rmse:0.95455\tvalidation_1-rmse:0.97067\n",
      "[53]\tvalidation_0-rmse:0.95451\tvalidation_1-rmse:0.97040\n",
      "[54]\tvalidation_0-rmse:0.95435\tvalidation_1-rmse:0.97000\n",
      "[55]\tvalidation_0-rmse:0.95423\tvalidation_1-rmse:0.96989\n",
      "[56]\tvalidation_0-rmse:0.95415\tvalidation_1-rmse:0.96983\n",
      "[57]\tvalidation_0-rmse:0.95406\tvalidation_1-rmse:0.96957\n",
      "[58]\tvalidation_0-rmse:0.95388\tvalidation_1-rmse:0.96988\n",
      "[59]\tvalidation_0-rmse:0.95387\tvalidation_1-rmse:0.96976\n",
      "[60]\tvalidation_0-rmse:0.95377\tvalidation_1-rmse:0.96998\n",
      "[61]\tvalidation_0-rmse:0.95363\tvalidation_1-rmse:0.96998\n"
     ]
    },
    {
     "name": "stderr",
     "output_type": "stream",
     "text": [
      "D:\\Anaconda\\lib\\site-packages\\xgboost\\data.py:112: UserWarning: Use subset (sliced data) of np.ndarray is not recommended because it will generate extra copies and increase memory consumption\n",
      "  warnings.warn(\n"
     ]
    },
    {
     "name": "stdout",
     "output_type": "stream",
     "text": [
      "[0]\tvalidation_0-rmse:1.13005\tvalidation_1-rmse:1.08260\n"
     ]
    },
    {
     "name": "stderr",
     "output_type": "stream",
     "text": [
      "D:\\Anaconda\\lib\\site-packages\\xgboost\\data.py:112: UserWarning: Use subset (sliced data) of np.ndarray is not recommended because it will generate extra copies and increase memory consumption\n",
      "  warnings.warn(\n"
     ]
    },
    {
     "name": "stdout",
     "output_type": "stream",
     "text": [
      "[0]\tvalidation_0-rmse:1.13067\tvalidation_1-rmse:1.08146\n"
     ]
    },
    {
     "name": "stderr",
     "output_type": "stream",
     "text": [
      "D:\\Anaconda\\lib\\site-packages\\xgboost\\data.py:112: UserWarning: Use subset (sliced data) of np.ndarray is not recommended because it will generate extra copies and increase memory consumption\n",
      "  warnings.warn(\n"
     ]
    },
    {
     "name": "stdout",
     "output_type": "stream",
     "text": [
      "[0]\tvalidation_0-rmse:1.13132\tvalidation_1-rmse:1.08182\n"
     ]
    },
    {
     "name": "stderr",
     "output_type": "stream",
     "text": [
      "D:\\Anaconda\\lib\\site-packages\\xgboost\\data.py:112: UserWarning: Use subset (sliced data) of np.ndarray is not recommended because it will generate extra copies and increase memory consumption\n",
      "  warnings.warn(\n"
     ]
    },
    {
     "name": "stdout",
     "output_type": "stream",
     "text": [
      "[0]\tvalidation_0-rmse:1.12986\tvalidation_1-rmse:1.08152\n"
     ]
    },
    {
     "name": "stderr",
     "output_type": "stream",
     "text": [
      "D:\\Anaconda\\lib\\site-packages\\xgboost\\data.py:112: UserWarning: Use subset (sliced data) of np.ndarray is not recommended because it will generate extra copies and increase memory consumption\n",
      "  warnings.warn(\n"
     ]
    },
    {
     "name": "stdout",
     "output_type": "stream",
     "text": [
      "[0]\tvalidation_0-rmse:1.13085\tvalidation_1-rmse:1.08213\n"
     ]
    },
    {
     "name": "stderr",
     "output_type": "stream",
     "text": [
      "D:\\Anaconda\\lib\\site-packages\\xgboost\\data.py:112: UserWarning: Use subset (sliced data) of np.ndarray is not recommended because it will generate extra copies and increase memory consumption\n",
      "  warnings.warn(\n"
     ]
    },
    {
     "name": "stdout",
     "output_type": "stream",
     "text": [
      "[0]\tvalidation_0-rmse:1.13005\tvalidation_1-rmse:1.08260\n",
      "[1]\tvalidation_0-rmse:1.08313\tvalidation_1-rmse:1.04991\n",
      "[2]\tvalidation_0-rmse:1.03525\tvalidation_1-rmse:1.02106\n",
      "[3]\tvalidation_0-rmse:1.01133\tvalidation_1-rmse:1.00647\n",
      "[4]\tvalidation_0-rmse:0.99681\tvalidation_1-rmse:0.99755\n",
      "[5]\tvalidation_0-rmse:0.98372\tvalidation_1-rmse:0.98901\n",
      "[6]\tvalidation_0-rmse:0.97253\tvalidation_1-rmse:0.98446\n",
      "[7]\tvalidation_0-rmse:0.96847\tvalidation_1-rmse:0.98292\n",
      "[8]\tvalidation_0-rmse:0.96412\tvalidation_1-rmse:0.97755\n",
      "[9]\tvalidation_0-rmse:0.95864\tvalidation_1-rmse:0.97617\n"
     ]
    },
    {
     "name": "stderr",
     "output_type": "stream",
     "text": [
      "D:\\Anaconda\\lib\\site-packages\\xgboost\\data.py:112: UserWarning: Use subset (sliced data) of np.ndarray is not recommended because it will generate extra copies and increase memory consumption\n",
      "  warnings.warn(\n"
     ]
    },
    {
     "name": "stdout",
     "output_type": "stream",
     "text": [
      "[0]\tvalidation_0-rmse:1.13067\tvalidation_1-rmse:1.08146\n",
      "[1]\tvalidation_0-rmse:1.08422\tvalidation_1-rmse:1.04904\n",
      "[2]\tvalidation_0-rmse:1.03638\tvalidation_1-rmse:1.02013\n",
      "[3]\tvalidation_0-rmse:1.01144\tvalidation_1-rmse:1.00571\n",
      "[4]\tvalidation_0-rmse:0.99643\tvalidation_1-rmse:0.99684\n",
      "[5]\tvalidation_0-rmse:0.98556\tvalidation_1-rmse:0.98802\n",
      "[6]\tvalidation_0-rmse:0.97363\tvalidation_1-rmse:0.98342\n",
      "[7]\tvalidation_0-rmse:0.96872\tvalidation_1-rmse:0.97946\n",
      "[8]\tvalidation_0-rmse:0.96253\tvalidation_1-rmse:0.97438\n",
      "[9]\tvalidation_0-rmse:0.95929\tvalidation_1-rmse:0.97208\n"
     ]
    },
    {
     "name": "stderr",
     "output_type": "stream",
     "text": [
      "D:\\Anaconda\\lib\\site-packages\\xgboost\\data.py:112: UserWarning: Use subset (sliced data) of np.ndarray is not recommended because it will generate extra copies and increase memory consumption\n",
      "  warnings.warn(\n"
     ]
    },
    {
     "name": "stdout",
     "output_type": "stream",
     "text": [
      "[0]\tvalidation_0-rmse:1.13132\tvalidation_1-rmse:1.08182\n",
      "[1]\tvalidation_0-rmse:1.08550\tvalidation_1-rmse:1.05110\n",
      "[2]\tvalidation_0-rmse:1.03738\tvalidation_1-rmse:1.02218\n",
      "[3]\tvalidation_0-rmse:1.01351\tvalidation_1-rmse:1.00655\n",
      "[4]\tvalidation_0-rmse:0.99742\tvalidation_1-rmse:0.99467\n",
      "[5]\tvalidation_0-rmse:0.98669\tvalidation_1-rmse:0.98584\n",
      "[6]\tvalidation_0-rmse:0.97609\tvalidation_1-rmse:0.98200\n",
      "[7]\tvalidation_0-rmse:0.97026\tvalidation_1-rmse:0.97830\n",
      "[8]\tvalidation_0-rmse:0.96385\tvalidation_1-rmse:0.97446\n",
      "[9]\tvalidation_0-rmse:0.96029\tvalidation_1-rmse:0.97194\n"
     ]
    },
    {
     "name": "stderr",
     "output_type": "stream",
     "text": [
      "D:\\Anaconda\\lib\\site-packages\\xgboost\\data.py:112: UserWarning: Use subset (sliced data) of np.ndarray is not recommended because it will generate extra copies and increase memory consumption\n",
      "  warnings.warn(\n"
     ]
    },
    {
     "name": "stdout",
     "output_type": "stream",
     "text": [
      "[0]\tvalidation_0-rmse:1.12986\tvalidation_1-rmse:1.08152\n",
      "[1]\tvalidation_0-rmse:1.08314\tvalidation_1-rmse:1.04894\n",
      "[2]\tvalidation_0-rmse:1.03601\tvalidation_1-rmse:1.01997\n",
      "[3]\tvalidation_0-rmse:1.01007\tvalidation_1-rmse:1.00569\n",
      "[4]\tvalidation_0-rmse:0.99504\tvalidation_1-rmse:0.99680\n",
      "[5]\tvalidation_0-rmse:0.98455\tvalidation_1-rmse:0.98820\n",
      "[6]\tvalidation_0-rmse:0.97261\tvalidation_1-rmse:0.98353\n",
      "[7]\tvalidation_0-rmse:0.96785\tvalidation_1-rmse:0.97992\n",
      "[8]\tvalidation_0-rmse:0.96339\tvalidation_1-rmse:0.97465\n",
      "[9]\tvalidation_0-rmse:0.95859\tvalidation_1-rmse:0.97336\n"
     ]
    },
    {
     "name": "stderr",
     "output_type": "stream",
     "text": [
      "D:\\Anaconda\\lib\\site-packages\\xgboost\\data.py:112: UserWarning: Use subset (sliced data) of np.ndarray is not recommended because it will generate extra copies and increase memory consumption\n",
      "  warnings.warn(\n"
     ]
    },
    {
     "name": "stdout",
     "output_type": "stream",
     "text": [
      "[0]\tvalidation_0-rmse:1.13085\tvalidation_1-rmse:1.08213\n",
      "[1]\tvalidation_0-rmse:1.08379\tvalidation_1-rmse:1.05072\n",
      "[2]\tvalidation_0-rmse:1.03878\tvalidation_1-rmse:1.02176\n",
      "[3]\tvalidation_0-rmse:1.01229\tvalidation_1-rmse:1.00637\n",
      "[4]\tvalidation_0-rmse:0.99661\tvalidation_1-rmse:0.99728\n",
      "[5]\tvalidation_0-rmse:0.98585\tvalidation_1-rmse:0.98844\n",
      "[6]\tvalidation_0-rmse:0.97427\tvalidation_1-rmse:0.98449\n",
      "[7]\tvalidation_0-rmse:0.96875\tvalidation_1-rmse:0.98171\n",
      "[8]\tvalidation_0-rmse:0.96169\tvalidation_1-rmse:0.97629\n",
      "[9]\tvalidation_0-rmse:0.95930\tvalidation_1-rmse:0.97329\n"
     ]
    },
    {
     "name": "stderr",
     "output_type": "stream",
     "text": [
      "D:\\Anaconda\\lib\\site-packages\\xgboost\\data.py:112: UserWarning: Use subset (sliced data) of np.ndarray is not recommended because it will generate extra copies and increase memory consumption\n",
      "  warnings.warn(\n"
     ]
    },
    {
     "name": "stdout",
     "output_type": "stream",
     "text": [
      "[0]\tvalidation_0-rmse:1.13005\tvalidation_1-rmse:1.08260\n",
      "[1]\tvalidation_0-rmse:1.08313\tvalidation_1-rmse:1.04991\n",
      "[2]\tvalidation_0-rmse:1.03525\tvalidation_1-rmse:1.02106\n",
      "[3]\tvalidation_0-rmse:1.01133\tvalidation_1-rmse:1.00647\n",
      "[4]\tvalidation_0-rmse:0.99681\tvalidation_1-rmse:0.99755\n",
      "[5]\tvalidation_0-rmse:0.98372\tvalidation_1-rmse:0.98901\n",
      "[6]\tvalidation_0-rmse:0.97253\tvalidation_1-rmse:0.98446\n",
      "[7]\tvalidation_0-rmse:0.96847\tvalidation_1-rmse:0.98292\n",
      "[8]\tvalidation_0-rmse:0.96412\tvalidation_1-rmse:0.97755\n",
      "[9]\tvalidation_0-rmse:0.95864\tvalidation_1-rmse:0.97617\n",
      "[10]\tvalidation_0-rmse:0.95669\tvalidation_1-rmse:0.97365\n",
      "[11]\tvalidation_0-rmse:0.95519\tvalidation_1-rmse:0.97144\n",
      "[12]\tvalidation_0-rmse:0.95417\tvalidation_1-rmse:0.97068\n",
      "[13]\tvalidation_0-rmse:0.95238\tvalidation_1-rmse:0.97067\n",
      "[14]\tvalidation_0-rmse:0.95075\tvalidation_1-rmse:0.97038\n",
      "[15]\tvalidation_0-rmse:0.95010\tvalidation_1-rmse:0.96926\n",
      "[16]\tvalidation_0-rmse:0.94937\tvalidation_1-rmse:0.96945\n",
      "[17]\tvalidation_0-rmse:0.94873\tvalidation_1-rmse:0.96921\n",
      "[18]\tvalidation_0-rmse:0.94836\tvalidation_1-rmse:0.96936\n",
      "[19]\tvalidation_0-rmse:0.94791\tvalidation_1-rmse:0.96937\n",
      "[20]\tvalidation_0-rmse:0.94770\tvalidation_1-rmse:0.96930\n",
      "[21]\tvalidation_0-rmse:0.94728\tvalidation_1-rmse:0.96839\n",
      "[22]\tvalidation_0-rmse:0.94681\tvalidation_1-rmse:0.96803\n",
      "[23]\tvalidation_0-rmse:0.94658\tvalidation_1-rmse:0.96762\n",
      "[24]\tvalidation_0-rmse:0.94633\tvalidation_1-rmse:0.96733\n",
      "[25]\tvalidation_0-rmse:0.94618\tvalidation_1-rmse:0.96736\n",
      "[26]\tvalidation_0-rmse:0.94593\tvalidation_1-rmse:0.96728\n",
      "[27]\tvalidation_0-rmse:0.94540\tvalidation_1-rmse:0.96759\n",
      "[28]\tvalidation_0-rmse:0.94525\tvalidation_1-rmse:0.96774\n",
      "[29]\tvalidation_0-rmse:0.94493\tvalidation_1-rmse:0.96742\n",
      "[30]\tvalidation_0-rmse:0.94470\tvalidation_1-rmse:0.96760\n",
      "[31]\tvalidation_0-rmse:0.94454\tvalidation_1-rmse:0.96743\n"
     ]
    },
    {
     "name": "stderr",
     "output_type": "stream",
     "text": [
      "D:\\Anaconda\\lib\\site-packages\\xgboost\\data.py:112: UserWarning: Use subset (sliced data) of np.ndarray is not recommended because it will generate extra copies and increase memory consumption\n",
      "  warnings.warn(\n"
     ]
    },
    {
     "name": "stdout",
     "output_type": "stream",
     "text": [
      "[0]\tvalidation_0-rmse:1.13067\tvalidation_1-rmse:1.08146\n",
      "[1]\tvalidation_0-rmse:1.08422\tvalidation_1-rmse:1.04904\n",
      "[2]\tvalidation_0-rmse:1.03638\tvalidation_1-rmse:1.02013\n",
      "[3]\tvalidation_0-rmse:1.01144\tvalidation_1-rmse:1.00571\n",
      "[4]\tvalidation_0-rmse:0.99643\tvalidation_1-rmse:0.99684\n",
      "[5]\tvalidation_0-rmse:0.98556\tvalidation_1-rmse:0.98802\n",
      "[6]\tvalidation_0-rmse:0.97363\tvalidation_1-rmse:0.98342\n",
      "[7]\tvalidation_0-rmse:0.96872\tvalidation_1-rmse:0.97946\n",
      "[8]\tvalidation_0-rmse:0.96253\tvalidation_1-rmse:0.97438\n",
      "[9]\tvalidation_0-rmse:0.95929\tvalidation_1-rmse:0.97208\n",
      "[10]\tvalidation_0-rmse:0.95706\tvalidation_1-rmse:0.96979\n",
      "[11]\tvalidation_0-rmse:0.95520\tvalidation_1-rmse:0.96888\n",
      "[12]\tvalidation_0-rmse:0.95386\tvalidation_1-rmse:0.96804\n",
      "[13]\tvalidation_0-rmse:0.95286\tvalidation_1-rmse:0.96761\n",
      "[14]\tvalidation_0-rmse:0.95185\tvalidation_1-rmse:0.96655\n",
      "[15]\tvalidation_0-rmse:0.95049\tvalidation_1-rmse:0.96519\n",
      "[16]\tvalidation_0-rmse:0.94994\tvalidation_1-rmse:0.96482\n",
      "[17]\tvalidation_0-rmse:0.94950\tvalidation_1-rmse:0.96466\n",
      "[18]\tvalidation_0-rmse:0.94905\tvalidation_1-rmse:0.96476\n",
      "[19]\tvalidation_0-rmse:0.94849\tvalidation_1-rmse:0.96471\n",
      "[20]\tvalidation_0-rmse:0.94818\tvalidation_1-rmse:0.96476\n",
      "[21]\tvalidation_0-rmse:0.94789\tvalidation_1-rmse:0.96411\n",
      "[22]\tvalidation_0-rmse:0.94727\tvalidation_1-rmse:0.96432\n",
      "[23]\tvalidation_0-rmse:0.94693\tvalidation_1-rmse:0.96410\n",
      "[24]\tvalidation_0-rmse:0.94672\tvalidation_1-rmse:0.96361\n",
      "[25]\tvalidation_0-rmse:0.94628\tvalidation_1-rmse:0.96377\n",
      "[26]\tvalidation_0-rmse:0.94567\tvalidation_1-rmse:0.96377\n",
      "[27]\tvalidation_0-rmse:0.94557\tvalidation_1-rmse:0.96387\n",
      "[28]\tvalidation_0-rmse:0.94539\tvalidation_1-rmse:0.96367\n",
      "[29]\tvalidation_0-rmse:0.94482\tvalidation_1-rmse:0.96383\n"
     ]
    },
    {
     "name": "stderr",
     "output_type": "stream",
     "text": [
      "D:\\Anaconda\\lib\\site-packages\\xgboost\\data.py:112: UserWarning: Use subset (sliced data) of np.ndarray is not recommended because it will generate extra copies and increase memory consumption\n",
      "  warnings.warn(\n"
     ]
    },
    {
     "name": "stdout",
     "output_type": "stream",
     "text": [
      "[0]\tvalidation_0-rmse:1.13132\tvalidation_1-rmse:1.08182\n",
      "[1]\tvalidation_0-rmse:1.08550\tvalidation_1-rmse:1.05110\n",
      "[2]\tvalidation_0-rmse:1.03738\tvalidation_1-rmse:1.02218\n",
      "[3]\tvalidation_0-rmse:1.01351\tvalidation_1-rmse:1.00655\n",
      "[4]\tvalidation_0-rmse:0.99742\tvalidation_1-rmse:0.99467\n",
      "[5]\tvalidation_0-rmse:0.98669\tvalidation_1-rmse:0.98584\n",
      "[6]\tvalidation_0-rmse:0.97609\tvalidation_1-rmse:0.98200\n",
      "[7]\tvalidation_0-rmse:0.97026\tvalidation_1-rmse:0.97830\n",
      "[8]\tvalidation_0-rmse:0.96385\tvalidation_1-rmse:0.97446\n",
      "[9]\tvalidation_0-rmse:0.96029\tvalidation_1-rmse:0.97194\n",
      "[10]\tvalidation_0-rmse:0.95827\tvalidation_1-rmse:0.97036\n",
      "[11]\tvalidation_0-rmse:0.95581\tvalidation_1-rmse:0.96853\n",
      "[12]\tvalidation_0-rmse:0.95457\tvalidation_1-rmse:0.96816\n",
      "[13]\tvalidation_0-rmse:0.95380\tvalidation_1-rmse:0.96803\n",
      "[14]\tvalidation_0-rmse:0.95157\tvalidation_1-rmse:0.96682\n",
      "[15]\tvalidation_0-rmse:0.95016\tvalidation_1-rmse:0.96622\n",
      "[16]\tvalidation_0-rmse:0.94954\tvalidation_1-rmse:0.96602\n",
      "[17]\tvalidation_0-rmse:0.94898\tvalidation_1-rmse:0.96541\n",
      "[18]\tvalidation_0-rmse:0.94834\tvalidation_1-rmse:0.96561\n",
      "[19]\tvalidation_0-rmse:0.94801\tvalidation_1-rmse:0.96533\n",
      "[20]\tvalidation_0-rmse:0.94730\tvalidation_1-rmse:0.96539\n",
      "[21]\tvalidation_0-rmse:0.94680\tvalidation_1-rmse:0.96447\n",
      "[22]\tvalidation_0-rmse:0.94657\tvalidation_1-rmse:0.96469\n",
      "[23]\tvalidation_0-rmse:0.94628\tvalidation_1-rmse:0.96417\n",
      "[24]\tvalidation_0-rmse:0.94609\tvalidation_1-rmse:0.96349\n",
      "[25]\tvalidation_0-rmse:0.94582\tvalidation_1-rmse:0.96351\n",
      "[26]\tvalidation_0-rmse:0.94563\tvalidation_1-rmse:0.96337\n",
      "[27]\tvalidation_0-rmse:0.94550\tvalidation_1-rmse:0.96313\n",
      "[28]\tvalidation_0-rmse:0.94511\tvalidation_1-rmse:0.96271\n",
      "[29]\tvalidation_0-rmse:0.94480\tvalidation_1-rmse:0.96242\n",
      "[30]\tvalidation_0-rmse:0.94458\tvalidation_1-rmse:0.96230\n",
      "[31]\tvalidation_0-rmse:0.94398\tvalidation_1-rmse:0.96243\n",
      "[32]\tvalidation_0-rmse:0.94369\tvalidation_1-rmse:0.96229\n",
      "[33]\tvalidation_0-rmse:0.94337\tvalidation_1-rmse:0.96187\n",
      "[34]\tvalidation_0-rmse:0.94328\tvalidation_1-rmse:0.96179\n",
      "[35]\tvalidation_0-rmse:0.94291\tvalidation_1-rmse:0.96194\n",
      "[36]\tvalidation_0-rmse:0.94270\tvalidation_1-rmse:0.96174\n",
      "[37]\tvalidation_0-rmse:0.94248\tvalidation_1-rmse:0.96147\n",
      "[38]\tvalidation_0-rmse:0.94218\tvalidation_1-rmse:0.96160\n",
      "[39]\tvalidation_0-rmse:0.94207\tvalidation_1-rmse:0.96108\n",
      "[40]\tvalidation_0-rmse:0.94183\tvalidation_1-rmse:0.96101\n",
      "[41]\tvalidation_0-rmse:0.94168\tvalidation_1-rmse:0.96076\n",
      "[42]\tvalidation_0-rmse:0.94147\tvalidation_1-rmse:0.96129\n",
      "[43]\tvalidation_0-rmse:0.94129\tvalidation_1-rmse:0.96138\n",
      "[44]\tvalidation_0-rmse:0.94105\tvalidation_1-rmse:0.96082\n",
      "[45]\tvalidation_0-rmse:0.94083\tvalidation_1-rmse:0.96081\n"
     ]
    },
    {
     "name": "stderr",
     "output_type": "stream",
     "text": [
      "D:\\Anaconda\\lib\\site-packages\\xgboost\\data.py:112: UserWarning: Use subset (sliced data) of np.ndarray is not recommended because it will generate extra copies and increase memory consumption\n",
      "  warnings.warn(\n"
     ]
    },
    {
     "name": "stdout",
     "output_type": "stream",
     "text": [
      "[0]\tvalidation_0-rmse:1.12986\tvalidation_1-rmse:1.08152\n",
      "[1]\tvalidation_0-rmse:1.08314\tvalidation_1-rmse:1.04894\n",
      "[2]\tvalidation_0-rmse:1.03601\tvalidation_1-rmse:1.01997\n",
      "[3]\tvalidation_0-rmse:1.01007\tvalidation_1-rmse:1.00569\n",
      "[4]\tvalidation_0-rmse:0.99504\tvalidation_1-rmse:0.99680\n",
      "[5]\tvalidation_0-rmse:0.98455\tvalidation_1-rmse:0.98820\n",
      "[6]\tvalidation_0-rmse:0.97261\tvalidation_1-rmse:0.98353\n",
      "[7]\tvalidation_0-rmse:0.96785\tvalidation_1-rmse:0.97992\n",
      "[8]\tvalidation_0-rmse:0.96339\tvalidation_1-rmse:0.97465\n",
      "[9]\tvalidation_0-rmse:0.95859\tvalidation_1-rmse:0.97336\n",
      "[10]\tvalidation_0-rmse:0.95531\tvalidation_1-rmse:0.97150\n",
      "[11]\tvalidation_0-rmse:0.95400\tvalidation_1-rmse:0.96985\n",
      "[12]\tvalidation_0-rmse:0.95212\tvalidation_1-rmse:0.96880\n",
      "[13]\tvalidation_0-rmse:0.95134\tvalidation_1-rmse:0.96839\n",
      "[14]\tvalidation_0-rmse:0.95057\tvalidation_1-rmse:0.96809\n",
      "[15]\tvalidation_0-rmse:0.94970\tvalidation_1-rmse:0.96765\n",
      "[16]\tvalidation_0-rmse:0.94906\tvalidation_1-rmse:0.96793\n",
      "[17]\tvalidation_0-rmse:0.94861\tvalidation_1-rmse:0.96727\n",
      "[18]\tvalidation_0-rmse:0.94800\tvalidation_1-rmse:0.96734\n",
      "[19]\tvalidation_0-rmse:0.94764\tvalidation_1-rmse:0.96724\n",
      "[20]\tvalidation_0-rmse:0.94725\tvalidation_1-rmse:0.96735\n",
      "[21]\tvalidation_0-rmse:0.94665\tvalidation_1-rmse:0.96647\n",
      "[22]\tvalidation_0-rmse:0.94622\tvalidation_1-rmse:0.96666\n",
      "[23]\tvalidation_0-rmse:0.94587\tvalidation_1-rmse:0.96584\n",
      "[24]\tvalidation_0-rmse:0.94526\tvalidation_1-rmse:0.96584\n",
      "[25]\tvalidation_0-rmse:0.94546\tvalidation_1-rmse:0.96576\n",
      "[26]\tvalidation_0-rmse:0.94501\tvalidation_1-rmse:0.96562\n",
      "[27]\tvalidation_0-rmse:0.94490\tvalidation_1-rmse:0.96541\n",
      "[28]\tvalidation_0-rmse:0.94480\tvalidation_1-rmse:0.96569\n",
      "[29]\tvalidation_0-rmse:0.94458\tvalidation_1-rmse:0.96488\n",
      "[30]\tvalidation_0-rmse:0.94439\tvalidation_1-rmse:0.96523\n",
      "[31]\tvalidation_0-rmse:0.94382\tvalidation_1-rmse:0.96538\n",
      "[32]\tvalidation_0-rmse:0.94350\tvalidation_1-rmse:0.96539\n",
      "[33]\tvalidation_0-rmse:0.94323\tvalidation_1-rmse:0.96527\n"
     ]
    },
    {
     "name": "stderr",
     "output_type": "stream",
     "text": [
      "D:\\Anaconda\\lib\\site-packages\\xgboost\\data.py:112: UserWarning: Use subset (sliced data) of np.ndarray is not recommended because it will generate extra copies and increase memory consumption\n",
      "  warnings.warn(\n"
     ]
    },
    {
     "name": "stdout",
     "output_type": "stream",
     "text": [
      "[0]\tvalidation_0-rmse:1.13085\tvalidation_1-rmse:1.08213\n",
      "[1]\tvalidation_0-rmse:1.08379\tvalidation_1-rmse:1.05072\n",
      "[2]\tvalidation_0-rmse:1.03878\tvalidation_1-rmse:1.02176\n",
      "[3]\tvalidation_0-rmse:1.01229\tvalidation_1-rmse:1.00637\n",
      "[4]\tvalidation_0-rmse:0.99661\tvalidation_1-rmse:0.99728\n",
      "[5]\tvalidation_0-rmse:0.98585\tvalidation_1-rmse:0.98844\n",
      "[6]\tvalidation_0-rmse:0.97427\tvalidation_1-rmse:0.98449\n",
      "[7]\tvalidation_0-rmse:0.96875\tvalidation_1-rmse:0.98171\n",
      "[8]\tvalidation_0-rmse:0.96169\tvalidation_1-rmse:0.97629\n",
      "[9]\tvalidation_0-rmse:0.95930\tvalidation_1-rmse:0.97329\n",
      "[10]\tvalidation_0-rmse:0.95721\tvalidation_1-rmse:0.97176\n",
      "[11]\tvalidation_0-rmse:0.95574\tvalidation_1-rmse:0.97037\n",
      "[12]\tvalidation_0-rmse:0.95387\tvalidation_1-rmse:0.96887\n",
      "[13]\tvalidation_0-rmse:0.95290\tvalidation_1-rmse:0.96898\n",
      "[14]\tvalidation_0-rmse:0.95112\tvalidation_1-rmse:0.96863\n",
      "[15]\tvalidation_0-rmse:0.95026\tvalidation_1-rmse:0.96664\n",
      "[16]\tvalidation_0-rmse:0.94931\tvalidation_1-rmse:0.96572\n",
      "[17]\tvalidation_0-rmse:0.94873\tvalidation_1-rmse:0.96542\n",
      "[18]\tvalidation_0-rmse:0.94806\tvalidation_1-rmse:0.96510\n",
      "[19]\tvalidation_0-rmse:0.94762\tvalidation_1-rmse:0.96469\n",
      "[20]\tvalidation_0-rmse:0.94725\tvalidation_1-rmse:0.96481\n",
      "[21]\tvalidation_0-rmse:0.94685\tvalidation_1-rmse:0.96415\n",
      "[22]\tvalidation_0-rmse:0.94670\tvalidation_1-rmse:0.96371\n",
      "[23]\tvalidation_0-rmse:0.94651\tvalidation_1-rmse:0.96318\n",
      "[24]\tvalidation_0-rmse:0.94610\tvalidation_1-rmse:0.96342\n",
      "[25]\tvalidation_0-rmse:0.94575\tvalidation_1-rmse:0.96356\n",
      "[26]\tvalidation_0-rmse:0.94533\tvalidation_1-rmse:0.96254\n",
      "[27]\tvalidation_0-rmse:0.94493\tvalidation_1-rmse:0.96307\n",
      "[28]\tvalidation_0-rmse:0.94461\tvalidation_1-rmse:0.96335\n",
      "[29]\tvalidation_0-rmse:0.94427\tvalidation_1-rmse:0.96302\n",
      "[30]\tvalidation_0-rmse:0.94424\tvalidation_1-rmse:0.96322\n",
      "[31]\tvalidation_0-rmse:0.94385\tvalidation_1-rmse:0.96237\n",
      "[32]\tvalidation_0-rmse:0.94366\tvalidation_1-rmse:0.96215\n",
      "[33]\tvalidation_0-rmse:0.94347\tvalidation_1-rmse:0.96183\n",
      "[34]\tvalidation_0-rmse:0.94317\tvalidation_1-rmse:0.96163\n",
      "[35]\tvalidation_0-rmse:0.94290\tvalidation_1-rmse:0.96123\n",
      "[36]\tvalidation_0-rmse:0.94264\tvalidation_1-rmse:0.96148\n",
      "[37]\tvalidation_0-rmse:0.94235\tvalidation_1-rmse:0.96148\n",
      "[38]\tvalidation_0-rmse:0.94225\tvalidation_1-rmse:0.96134\n",
      "[39]\tvalidation_0-rmse:0.94207\tvalidation_1-rmse:0.96095\n",
      "[40]\tvalidation_0-rmse:0.94187\tvalidation_1-rmse:0.96063\n",
      "[41]\tvalidation_0-rmse:0.94161\tvalidation_1-rmse:0.96060\n",
      "[42]\tvalidation_0-rmse:0.94143\tvalidation_1-rmse:0.96054\n",
      "[43]\tvalidation_0-rmse:0.94109\tvalidation_1-rmse:0.96088\n",
      "[44]\tvalidation_0-rmse:0.94080\tvalidation_1-rmse:0.96024\n",
      "[45]\tvalidation_0-rmse:0.94064\tvalidation_1-rmse:0.96012\n",
      "[46]\tvalidation_0-rmse:0.94034\tvalidation_1-rmse:0.95995\n",
      "[47]\tvalidation_0-rmse:0.94020\tvalidation_1-rmse:0.95999\n",
      "[48]\tvalidation_0-rmse:0.93989\tvalidation_1-rmse:0.96023\n",
      "[49]\tvalidation_0-rmse:0.93959\tvalidation_1-rmse:0.95987\n",
      "[50]\tvalidation_0-rmse:0.93935\tvalidation_1-rmse:0.95976\n",
      "[51]\tvalidation_0-rmse:0.93914\tvalidation_1-rmse:0.95955\n",
      "[52]\tvalidation_0-rmse:0.93892\tvalidation_1-rmse:0.95887\n",
      "[53]\tvalidation_0-rmse:0.93878\tvalidation_1-rmse:0.95841\n",
      "[54]\tvalidation_0-rmse:0.93862\tvalidation_1-rmse:0.95859\n",
      "[55]\tvalidation_0-rmse:0.93836\tvalidation_1-rmse:0.95879\n",
      "[56]\tvalidation_0-rmse:0.93825\tvalidation_1-rmse:0.95908\n",
      "[57]\tvalidation_0-rmse:0.93819\tvalidation_1-rmse:0.95898\n",
      "[58]\tvalidation_0-rmse:0.93802\tvalidation_1-rmse:0.95838\n",
      "[59]\tvalidation_0-rmse:0.93783\tvalidation_1-rmse:0.95863\n",
      "[60]\tvalidation_0-rmse:0.93768\tvalidation_1-rmse:0.95829\n",
      "[61]\tvalidation_0-rmse:0.93743\tvalidation_1-rmse:0.95831\n",
      "[62]\tvalidation_0-rmse:0.93738\tvalidation_1-rmse:0.95828\n",
      "[63]\tvalidation_0-rmse:0.93734\tvalidation_1-rmse:0.95833\n",
      "[64]\tvalidation_0-rmse:0.93719\tvalidation_1-rmse:0.95817\n",
      "[65]\tvalidation_0-rmse:0.93699\tvalidation_1-rmse:0.95789\n",
      "[66]\tvalidation_0-rmse:0.93685\tvalidation_1-rmse:0.95792\n",
      "[67]\tvalidation_0-rmse:0.93672\tvalidation_1-rmse:0.95791\n",
      "[68]\tvalidation_0-rmse:0.93655\tvalidation_1-rmse:0.95811\n",
      "[69]\tvalidation_0-rmse:0.93644\tvalidation_1-rmse:0.95828\n"
     ]
    },
    {
     "name": "stderr",
     "output_type": "stream",
     "text": [
      "D:\\Anaconda\\lib\\site-packages\\xgboost\\data.py:112: UserWarning: Use subset (sliced data) of np.ndarray is not recommended because it will generate extra copies and increase memory consumption\n",
      "  warnings.warn(\n"
     ]
    },
    {
     "name": "stdout",
     "output_type": "stream",
     "text": [
      "[0]\tvalidation_0-rmse:1.13005\tvalidation_1-rmse:1.08260\n"
     ]
    },
    {
     "name": "stderr",
     "output_type": "stream",
     "text": [
      "D:\\Anaconda\\lib\\site-packages\\xgboost\\data.py:112: UserWarning: Use subset (sliced data) of np.ndarray is not recommended because it will generate extra copies and increase memory consumption\n",
      "  warnings.warn(\n"
     ]
    },
    {
     "name": "stdout",
     "output_type": "stream",
     "text": [
      "[0]\tvalidation_0-rmse:1.13067\tvalidation_1-rmse:1.08146\n"
     ]
    },
    {
     "name": "stderr",
     "output_type": "stream",
     "text": [
      "D:\\Anaconda\\lib\\site-packages\\xgboost\\data.py:112: UserWarning: Use subset (sliced data) of np.ndarray is not recommended because it will generate extra copies and increase memory consumption\n",
      "  warnings.warn(\n"
     ]
    },
    {
     "name": "stdout",
     "output_type": "stream",
     "text": [
      "[0]\tvalidation_0-rmse:1.13132\tvalidation_1-rmse:1.08182\n"
     ]
    },
    {
     "name": "stderr",
     "output_type": "stream",
     "text": [
      "D:\\Anaconda\\lib\\site-packages\\xgboost\\data.py:112: UserWarning: Use subset (sliced data) of np.ndarray is not recommended because it will generate extra copies and increase memory consumption\n",
      "  warnings.warn(\n"
     ]
    },
    {
     "name": "stdout",
     "output_type": "stream",
     "text": [
      "[0]\tvalidation_0-rmse:1.12986\tvalidation_1-rmse:1.08152\n"
     ]
    },
    {
     "name": "stderr",
     "output_type": "stream",
     "text": [
      "D:\\Anaconda\\lib\\site-packages\\xgboost\\data.py:112: UserWarning: Use subset (sliced data) of np.ndarray is not recommended because it will generate extra copies and increase memory consumption\n",
      "  warnings.warn(\n"
     ]
    },
    {
     "name": "stdout",
     "output_type": "stream",
     "text": [
      "[0]\tvalidation_0-rmse:1.13085\tvalidation_1-rmse:1.08213\n"
     ]
    },
    {
     "name": "stderr",
     "output_type": "stream",
     "text": [
      "D:\\Anaconda\\lib\\site-packages\\xgboost\\data.py:112: UserWarning: Use subset (sliced data) of np.ndarray is not recommended because it will generate extra copies and increase memory consumption\n",
      "  warnings.warn(\n"
     ]
    },
    {
     "name": "stdout",
     "output_type": "stream",
     "text": [
      "[0]\tvalidation_0-rmse:1.13005\tvalidation_1-rmse:1.08260\n",
      "[1]\tvalidation_0-rmse:1.08313\tvalidation_1-rmse:1.04991\n",
      "[2]\tvalidation_0-rmse:1.03525\tvalidation_1-rmse:1.02106\n",
      "[3]\tvalidation_0-rmse:1.01133\tvalidation_1-rmse:1.00647\n",
      "[4]\tvalidation_0-rmse:0.99681\tvalidation_1-rmse:0.99755\n",
      "[5]\tvalidation_0-rmse:0.98372\tvalidation_1-rmse:0.98901\n",
      "[6]\tvalidation_0-rmse:0.97253\tvalidation_1-rmse:0.98446\n",
      "[7]\tvalidation_0-rmse:0.96847\tvalidation_1-rmse:0.98292\n",
      "[8]\tvalidation_0-rmse:0.96412\tvalidation_1-rmse:0.97755\n",
      "[9]\tvalidation_0-rmse:0.95864\tvalidation_1-rmse:0.97617\n"
     ]
    },
    {
     "name": "stderr",
     "output_type": "stream",
     "text": [
      "D:\\Anaconda\\lib\\site-packages\\xgboost\\data.py:112: UserWarning: Use subset (sliced data) of np.ndarray is not recommended because it will generate extra copies and increase memory consumption\n",
      "  warnings.warn(\n"
     ]
    },
    {
     "name": "stdout",
     "output_type": "stream",
     "text": [
      "[0]\tvalidation_0-rmse:1.13067\tvalidation_1-rmse:1.08146\n",
      "[1]\tvalidation_0-rmse:1.08422\tvalidation_1-rmse:1.04904\n",
      "[2]\tvalidation_0-rmse:1.03638\tvalidation_1-rmse:1.02013\n",
      "[3]\tvalidation_0-rmse:1.01144\tvalidation_1-rmse:1.00571\n",
      "[4]\tvalidation_0-rmse:0.99643\tvalidation_1-rmse:0.99684\n",
      "[5]\tvalidation_0-rmse:0.98556\tvalidation_1-rmse:0.98802\n",
      "[6]\tvalidation_0-rmse:0.97363\tvalidation_1-rmse:0.98342\n",
      "[7]\tvalidation_0-rmse:0.96872\tvalidation_1-rmse:0.97946\n",
      "[8]\tvalidation_0-rmse:0.96253\tvalidation_1-rmse:0.97438\n",
      "[9]\tvalidation_0-rmse:0.95929\tvalidation_1-rmse:0.97208\n"
     ]
    },
    {
     "name": "stderr",
     "output_type": "stream",
     "text": [
      "D:\\Anaconda\\lib\\site-packages\\xgboost\\data.py:112: UserWarning: Use subset (sliced data) of np.ndarray is not recommended because it will generate extra copies and increase memory consumption\n",
      "  warnings.warn(\n"
     ]
    },
    {
     "name": "stdout",
     "output_type": "stream",
     "text": [
      "[0]\tvalidation_0-rmse:1.13132\tvalidation_1-rmse:1.08182\n",
      "[1]\tvalidation_0-rmse:1.08550\tvalidation_1-rmse:1.05110\n",
      "[2]\tvalidation_0-rmse:1.03738\tvalidation_1-rmse:1.02218\n",
      "[3]\tvalidation_0-rmse:1.01351\tvalidation_1-rmse:1.00655\n",
      "[4]\tvalidation_0-rmse:0.99742\tvalidation_1-rmse:0.99467\n",
      "[5]\tvalidation_0-rmse:0.98669\tvalidation_1-rmse:0.98584\n",
      "[6]\tvalidation_0-rmse:0.97609\tvalidation_1-rmse:0.98200\n",
      "[7]\tvalidation_0-rmse:0.97026\tvalidation_1-rmse:0.97830\n",
      "[8]\tvalidation_0-rmse:0.96385\tvalidation_1-rmse:0.97446\n",
      "[9]\tvalidation_0-rmse:0.96029\tvalidation_1-rmse:0.97194\n"
     ]
    },
    {
     "name": "stderr",
     "output_type": "stream",
     "text": [
      "D:\\Anaconda\\lib\\site-packages\\xgboost\\data.py:112: UserWarning: Use subset (sliced data) of np.ndarray is not recommended because it will generate extra copies and increase memory consumption\n",
      "  warnings.warn(\n"
     ]
    },
    {
     "name": "stdout",
     "output_type": "stream",
     "text": [
      "[0]\tvalidation_0-rmse:1.12986\tvalidation_1-rmse:1.08152\n",
      "[1]\tvalidation_0-rmse:1.08314\tvalidation_1-rmse:1.04894\n",
      "[2]\tvalidation_0-rmse:1.03601\tvalidation_1-rmse:1.01997\n",
      "[3]\tvalidation_0-rmse:1.01007\tvalidation_1-rmse:1.00569\n",
      "[4]\tvalidation_0-rmse:0.99504\tvalidation_1-rmse:0.99680\n",
      "[5]\tvalidation_0-rmse:0.98455\tvalidation_1-rmse:0.98820\n",
      "[6]\tvalidation_0-rmse:0.97261\tvalidation_1-rmse:0.98353\n",
      "[7]\tvalidation_0-rmse:0.96785\tvalidation_1-rmse:0.97992\n",
      "[8]\tvalidation_0-rmse:0.96339\tvalidation_1-rmse:0.97465\n",
      "[9]\tvalidation_0-rmse:0.95859\tvalidation_1-rmse:0.97336\n"
     ]
    },
    {
     "name": "stderr",
     "output_type": "stream",
     "text": [
      "D:\\Anaconda\\lib\\site-packages\\xgboost\\data.py:112: UserWarning: Use subset (sliced data) of np.ndarray is not recommended because it will generate extra copies and increase memory consumption\n",
      "  warnings.warn(\n"
     ]
    },
    {
     "name": "stdout",
     "output_type": "stream",
     "text": [
      "[0]\tvalidation_0-rmse:1.13085\tvalidation_1-rmse:1.08213\n",
      "[1]\tvalidation_0-rmse:1.08379\tvalidation_1-rmse:1.05072\n",
      "[2]\tvalidation_0-rmse:1.03878\tvalidation_1-rmse:1.02176\n",
      "[3]\tvalidation_0-rmse:1.01229\tvalidation_1-rmse:1.00637\n",
      "[4]\tvalidation_0-rmse:0.99661\tvalidation_1-rmse:0.99728\n",
      "[5]\tvalidation_0-rmse:0.98585\tvalidation_1-rmse:0.98844\n",
      "[6]\tvalidation_0-rmse:0.97427\tvalidation_1-rmse:0.98449\n",
      "[7]\tvalidation_0-rmse:0.96875\tvalidation_1-rmse:0.98171\n",
      "[8]\tvalidation_0-rmse:0.96169\tvalidation_1-rmse:0.97629\n",
      "[9]\tvalidation_0-rmse:0.95930\tvalidation_1-rmse:0.97329\n"
     ]
    },
    {
     "name": "stderr",
     "output_type": "stream",
     "text": [
      "D:\\Anaconda\\lib\\site-packages\\xgboost\\data.py:112: UserWarning: Use subset (sliced data) of np.ndarray is not recommended because it will generate extra copies and increase memory consumption\n",
      "  warnings.warn(\n"
     ]
    },
    {
     "name": "stdout",
     "output_type": "stream",
     "text": [
      "[0]\tvalidation_0-rmse:1.13005\tvalidation_1-rmse:1.08260\n",
      "[1]\tvalidation_0-rmse:1.08313\tvalidation_1-rmse:1.04991\n",
      "[2]\tvalidation_0-rmse:1.03525\tvalidation_1-rmse:1.02106\n",
      "[3]\tvalidation_0-rmse:1.01133\tvalidation_1-rmse:1.00647\n",
      "[4]\tvalidation_0-rmse:0.99681\tvalidation_1-rmse:0.99755\n",
      "[5]\tvalidation_0-rmse:0.98372\tvalidation_1-rmse:0.98901\n",
      "[6]\tvalidation_0-rmse:0.97253\tvalidation_1-rmse:0.98446\n",
      "[7]\tvalidation_0-rmse:0.96847\tvalidation_1-rmse:0.98292\n",
      "[8]\tvalidation_0-rmse:0.96412\tvalidation_1-rmse:0.97755\n",
      "[9]\tvalidation_0-rmse:0.95864\tvalidation_1-rmse:0.97617\n",
      "[10]\tvalidation_0-rmse:0.95669\tvalidation_1-rmse:0.97365\n",
      "[11]\tvalidation_0-rmse:0.95519\tvalidation_1-rmse:0.97144\n",
      "[12]\tvalidation_0-rmse:0.95417\tvalidation_1-rmse:0.97068\n",
      "[13]\tvalidation_0-rmse:0.95238\tvalidation_1-rmse:0.97067\n",
      "[14]\tvalidation_0-rmse:0.95075\tvalidation_1-rmse:0.97038\n",
      "[15]\tvalidation_0-rmse:0.95010\tvalidation_1-rmse:0.96926\n",
      "[16]\tvalidation_0-rmse:0.94937\tvalidation_1-rmse:0.96945\n",
      "[17]\tvalidation_0-rmse:0.94873\tvalidation_1-rmse:0.96921\n",
      "[18]\tvalidation_0-rmse:0.94836\tvalidation_1-rmse:0.96936\n",
      "[19]\tvalidation_0-rmse:0.94791\tvalidation_1-rmse:0.96937\n",
      "[20]\tvalidation_0-rmse:0.94770\tvalidation_1-rmse:0.96930\n",
      "[21]\tvalidation_0-rmse:0.94728\tvalidation_1-rmse:0.96839\n",
      "[22]\tvalidation_0-rmse:0.94681\tvalidation_1-rmse:0.96803\n",
      "[23]\tvalidation_0-rmse:0.94658\tvalidation_1-rmse:0.96762\n",
      "[24]\tvalidation_0-rmse:0.94633\tvalidation_1-rmse:0.96733\n",
      "[25]\tvalidation_0-rmse:0.94618\tvalidation_1-rmse:0.96736\n",
      "[26]\tvalidation_0-rmse:0.94593\tvalidation_1-rmse:0.96728\n",
      "[27]\tvalidation_0-rmse:0.94540\tvalidation_1-rmse:0.96759\n",
      "[28]\tvalidation_0-rmse:0.94525\tvalidation_1-rmse:0.96774\n",
      "[29]\tvalidation_0-rmse:0.94493\tvalidation_1-rmse:0.96742\n",
      "[30]\tvalidation_0-rmse:0.94470\tvalidation_1-rmse:0.96760\n",
      "[31]\tvalidation_0-rmse:0.94454\tvalidation_1-rmse:0.96743\n"
     ]
    },
    {
     "name": "stderr",
     "output_type": "stream",
     "text": [
      "D:\\Anaconda\\lib\\site-packages\\xgboost\\data.py:112: UserWarning: Use subset (sliced data) of np.ndarray is not recommended because it will generate extra copies and increase memory consumption\n",
      "  warnings.warn(\n"
     ]
    },
    {
     "name": "stdout",
     "output_type": "stream",
     "text": [
      "[0]\tvalidation_0-rmse:1.13067\tvalidation_1-rmse:1.08146\n",
      "[1]\tvalidation_0-rmse:1.08422\tvalidation_1-rmse:1.04904\n",
      "[2]\tvalidation_0-rmse:1.03638\tvalidation_1-rmse:1.02013\n",
      "[3]\tvalidation_0-rmse:1.01144\tvalidation_1-rmse:1.00571\n",
      "[4]\tvalidation_0-rmse:0.99643\tvalidation_1-rmse:0.99684\n",
      "[5]\tvalidation_0-rmse:0.98556\tvalidation_1-rmse:0.98802\n",
      "[6]\tvalidation_0-rmse:0.97363\tvalidation_1-rmse:0.98342\n",
      "[7]\tvalidation_0-rmse:0.96872\tvalidation_1-rmse:0.97946\n",
      "[8]\tvalidation_0-rmse:0.96253\tvalidation_1-rmse:0.97438\n",
      "[9]\tvalidation_0-rmse:0.95929\tvalidation_1-rmse:0.97208\n",
      "[10]\tvalidation_0-rmse:0.95706\tvalidation_1-rmse:0.96979\n",
      "[11]\tvalidation_0-rmse:0.95520\tvalidation_1-rmse:0.96888\n",
      "[12]\tvalidation_0-rmse:0.95386\tvalidation_1-rmse:0.96804\n",
      "[13]\tvalidation_0-rmse:0.95286\tvalidation_1-rmse:0.96761\n",
      "[14]\tvalidation_0-rmse:0.95185\tvalidation_1-rmse:0.96655\n",
      "[15]\tvalidation_0-rmse:0.95049\tvalidation_1-rmse:0.96519\n",
      "[16]\tvalidation_0-rmse:0.94994\tvalidation_1-rmse:0.96482\n",
      "[17]\tvalidation_0-rmse:0.94950\tvalidation_1-rmse:0.96466\n",
      "[18]\tvalidation_0-rmse:0.94905\tvalidation_1-rmse:0.96476\n",
      "[19]\tvalidation_0-rmse:0.94849\tvalidation_1-rmse:0.96471\n",
      "[20]\tvalidation_0-rmse:0.94818\tvalidation_1-rmse:0.96476\n",
      "[21]\tvalidation_0-rmse:0.94789\tvalidation_1-rmse:0.96411\n",
      "[22]\tvalidation_0-rmse:0.94727\tvalidation_1-rmse:0.96432\n",
      "[23]\tvalidation_0-rmse:0.94693\tvalidation_1-rmse:0.96410\n",
      "[24]\tvalidation_0-rmse:0.94672\tvalidation_1-rmse:0.96361\n",
      "[25]\tvalidation_0-rmse:0.94628\tvalidation_1-rmse:0.96377\n",
      "[26]\tvalidation_0-rmse:0.94567\tvalidation_1-rmse:0.96377\n",
      "[27]\tvalidation_0-rmse:0.94557\tvalidation_1-rmse:0.96387\n",
      "[28]\tvalidation_0-rmse:0.94539\tvalidation_1-rmse:0.96367\n",
      "[29]\tvalidation_0-rmse:0.94482\tvalidation_1-rmse:0.96383\n"
     ]
    },
    {
     "name": "stderr",
     "output_type": "stream",
     "text": [
      "D:\\Anaconda\\lib\\site-packages\\xgboost\\data.py:112: UserWarning: Use subset (sliced data) of np.ndarray is not recommended because it will generate extra copies and increase memory consumption\n",
      "  warnings.warn(\n"
     ]
    },
    {
     "name": "stdout",
     "output_type": "stream",
     "text": [
      "[0]\tvalidation_0-rmse:1.13132\tvalidation_1-rmse:1.08182\n",
      "[1]\tvalidation_0-rmse:1.08550\tvalidation_1-rmse:1.05110\n",
      "[2]\tvalidation_0-rmse:1.03738\tvalidation_1-rmse:1.02218\n",
      "[3]\tvalidation_0-rmse:1.01351\tvalidation_1-rmse:1.00655\n",
      "[4]\tvalidation_0-rmse:0.99742\tvalidation_1-rmse:0.99467\n",
      "[5]\tvalidation_0-rmse:0.98669\tvalidation_1-rmse:0.98584\n",
      "[6]\tvalidation_0-rmse:0.97609\tvalidation_1-rmse:0.98200\n",
      "[7]\tvalidation_0-rmse:0.97026\tvalidation_1-rmse:0.97830\n",
      "[8]\tvalidation_0-rmse:0.96385\tvalidation_1-rmse:0.97446\n",
      "[9]\tvalidation_0-rmse:0.96029\tvalidation_1-rmse:0.97194\n",
      "[10]\tvalidation_0-rmse:0.95827\tvalidation_1-rmse:0.97036\n",
      "[11]\tvalidation_0-rmse:0.95581\tvalidation_1-rmse:0.96853\n",
      "[12]\tvalidation_0-rmse:0.95457\tvalidation_1-rmse:0.96816\n",
      "[13]\tvalidation_0-rmse:0.95380\tvalidation_1-rmse:0.96803\n",
      "[14]\tvalidation_0-rmse:0.95157\tvalidation_1-rmse:0.96682\n",
      "[15]\tvalidation_0-rmse:0.95016\tvalidation_1-rmse:0.96622\n",
      "[16]\tvalidation_0-rmse:0.94954\tvalidation_1-rmse:0.96602\n",
      "[17]\tvalidation_0-rmse:0.94898\tvalidation_1-rmse:0.96541\n",
      "[18]\tvalidation_0-rmse:0.94834\tvalidation_1-rmse:0.96561\n",
      "[19]\tvalidation_0-rmse:0.94801\tvalidation_1-rmse:0.96533\n",
      "[20]\tvalidation_0-rmse:0.94730\tvalidation_1-rmse:0.96539\n",
      "[21]\tvalidation_0-rmse:0.94680\tvalidation_1-rmse:0.96447\n",
      "[22]\tvalidation_0-rmse:0.94657\tvalidation_1-rmse:0.96469\n",
      "[23]\tvalidation_0-rmse:0.94628\tvalidation_1-rmse:0.96417\n",
      "[24]\tvalidation_0-rmse:0.94609\tvalidation_1-rmse:0.96349\n",
      "[25]\tvalidation_0-rmse:0.94582\tvalidation_1-rmse:0.96351\n",
      "[26]\tvalidation_0-rmse:0.94563\tvalidation_1-rmse:0.96337\n",
      "[27]\tvalidation_0-rmse:0.94550\tvalidation_1-rmse:0.96313\n",
      "[28]\tvalidation_0-rmse:0.94511\tvalidation_1-rmse:0.96271\n",
      "[29]\tvalidation_0-rmse:0.94480\tvalidation_1-rmse:0.96242\n",
      "[30]\tvalidation_0-rmse:0.94458\tvalidation_1-rmse:0.96230\n",
      "[31]\tvalidation_0-rmse:0.94398\tvalidation_1-rmse:0.96243\n",
      "[32]\tvalidation_0-rmse:0.94369\tvalidation_1-rmse:0.96229\n",
      "[33]\tvalidation_0-rmse:0.94337\tvalidation_1-rmse:0.96187\n",
      "[34]\tvalidation_0-rmse:0.94328\tvalidation_1-rmse:0.96179\n",
      "[35]\tvalidation_0-rmse:0.94291\tvalidation_1-rmse:0.96194\n",
      "[36]\tvalidation_0-rmse:0.94270\tvalidation_1-rmse:0.96174\n",
      "[37]\tvalidation_0-rmse:0.94248\tvalidation_1-rmse:0.96147\n",
      "[38]\tvalidation_0-rmse:0.94218\tvalidation_1-rmse:0.96160\n",
      "[39]\tvalidation_0-rmse:0.94207\tvalidation_1-rmse:0.96108\n",
      "[40]\tvalidation_0-rmse:0.94183\tvalidation_1-rmse:0.96101\n",
      "[41]\tvalidation_0-rmse:0.94168\tvalidation_1-rmse:0.96076\n",
      "[42]\tvalidation_0-rmse:0.94147\tvalidation_1-rmse:0.96129\n",
      "[43]\tvalidation_0-rmse:0.94129\tvalidation_1-rmse:0.96138\n",
      "[44]\tvalidation_0-rmse:0.94105\tvalidation_1-rmse:0.96082\n",
      "[45]\tvalidation_0-rmse:0.94083\tvalidation_1-rmse:0.96081\n"
     ]
    },
    {
     "name": "stderr",
     "output_type": "stream",
     "text": [
      "D:\\Anaconda\\lib\\site-packages\\xgboost\\data.py:112: UserWarning: Use subset (sliced data) of np.ndarray is not recommended because it will generate extra copies and increase memory consumption\n",
      "  warnings.warn(\n"
     ]
    },
    {
     "name": "stdout",
     "output_type": "stream",
     "text": [
      "[0]\tvalidation_0-rmse:1.12986\tvalidation_1-rmse:1.08152\n",
      "[1]\tvalidation_0-rmse:1.08314\tvalidation_1-rmse:1.04894\n",
      "[2]\tvalidation_0-rmse:1.03601\tvalidation_1-rmse:1.01997\n",
      "[3]\tvalidation_0-rmse:1.01007\tvalidation_1-rmse:1.00569\n",
      "[4]\tvalidation_0-rmse:0.99504\tvalidation_1-rmse:0.99680\n",
      "[5]\tvalidation_0-rmse:0.98455\tvalidation_1-rmse:0.98820\n",
      "[6]\tvalidation_0-rmse:0.97261\tvalidation_1-rmse:0.98353\n",
      "[7]\tvalidation_0-rmse:0.96785\tvalidation_1-rmse:0.97992\n",
      "[8]\tvalidation_0-rmse:0.96339\tvalidation_1-rmse:0.97465\n",
      "[9]\tvalidation_0-rmse:0.95859\tvalidation_1-rmse:0.97336\n",
      "[10]\tvalidation_0-rmse:0.95531\tvalidation_1-rmse:0.97150\n",
      "[11]\tvalidation_0-rmse:0.95400\tvalidation_1-rmse:0.96985\n",
      "[12]\tvalidation_0-rmse:0.95212\tvalidation_1-rmse:0.96880\n",
      "[13]\tvalidation_0-rmse:0.95134\tvalidation_1-rmse:0.96839\n",
      "[14]\tvalidation_0-rmse:0.95057\tvalidation_1-rmse:0.96809\n",
      "[15]\tvalidation_0-rmse:0.94970\tvalidation_1-rmse:0.96765\n",
      "[16]\tvalidation_0-rmse:0.94906\tvalidation_1-rmse:0.96793\n",
      "[17]\tvalidation_0-rmse:0.94861\tvalidation_1-rmse:0.96727\n",
      "[18]\tvalidation_0-rmse:0.94800\tvalidation_1-rmse:0.96734\n",
      "[19]\tvalidation_0-rmse:0.94764\tvalidation_1-rmse:0.96724\n",
      "[20]\tvalidation_0-rmse:0.94725\tvalidation_1-rmse:0.96735\n",
      "[21]\tvalidation_0-rmse:0.94665\tvalidation_1-rmse:0.96647\n",
      "[22]\tvalidation_0-rmse:0.94622\tvalidation_1-rmse:0.96666\n",
      "[23]\tvalidation_0-rmse:0.94587\tvalidation_1-rmse:0.96584\n",
      "[24]\tvalidation_0-rmse:0.94526\tvalidation_1-rmse:0.96584\n",
      "[25]\tvalidation_0-rmse:0.94546\tvalidation_1-rmse:0.96576\n",
      "[26]\tvalidation_0-rmse:0.94501\tvalidation_1-rmse:0.96562\n",
      "[27]\tvalidation_0-rmse:0.94490\tvalidation_1-rmse:0.96541\n",
      "[28]\tvalidation_0-rmse:0.94480\tvalidation_1-rmse:0.96569\n",
      "[29]\tvalidation_0-rmse:0.94458\tvalidation_1-rmse:0.96488\n",
      "[30]\tvalidation_0-rmse:0.94439\tvalidation_1-rmse:0.96523\n",
      "[31]\tvalidation_0-rmse:0.94382\tvalidation_1-rmse:0.96538\n",
      "[32]\tvalidation_0-rmse:0.94350\tvalidation_1-rmse:0.96539\n",
      "[33]\tvalidation_0-rmse:0.94323\tvalidation_1-rmse:0.96527\n",
      "[34]\tvalidation_0-rmse:0.94313\tvalidation_1-rmse:0.96520\n"
     ]
    },
    {
     "name": "stderr",
     "output_type": "stream",
     "text": [
      "D:\\Anaconda\\lib\\site-packages\\xgboost\\data.py:112: UserWarning: Use subset (sliced data) of np.ndarray is not recommended because it will generate extra copies and increase memory consumption\n",
      "  warnings.warn(\n"
     ]
    },
    {
     "name": "stdout",
     "output_type": "stream",
     "text": [
      "[0]\tvalidation_0-rmse:1.13085\tvalidation_1-rmse:1.08213\n",
      "[1]\tvalidation_0-rmse:1.08379\tvalidation_1-rmse:1.05072\n",
      "[2]\tvalidation_0-rmse:1.03878\tvalidation_1-rmse:1.02176\n",
      "[3]\tvalidation_0-rmse:1.01229\tvalidation_1-rmse:1.00637\n",
      "[4]\tvalidation_0-rmse:0.99661\tvalidation_1-rmse:0.99728\n",
      "[5]\tvalidation_0-rmse:0.98585\tvalidation_1-rmse:0.98844\n",
      "[6]\tvalidation_0-rmse:0.97427\tvalidation_1-rmse:0.98449\n",
      "[7]\tvalidation_0-rmse:0.96875\tvalidation_1-rmse:0.98171\n",
      "[8]\tvalidation_0-rmse:0.96169\tvalidation_1-rmse:0.97629\n",
      "[9]\tvalidation_0-rmse:0.95930\tvalidation_1-rmse:0.97329\n",
      "[10]\tvalidation_0-rmse:0.95721\tvalidation_1-rmse:0.97176\n",
      "[11]\tvalidation_0-rmse:0.95574\tvalidation_1-rmse:0.97037\n",
      "[12]\tvalidation_0-rmse:0.95387\tvalidation_1-rmse:0.96887\n",
      "[13]\tvalidation_0-rmse:0.95290\tvalidation_1-rmse:0.96898\n",
      "[14]\tvalidation_0-rmse:0.95112\tvalidation_1-rmse:0.96863\n",
      "[15]\tvalidation_0-rmse:0.95026\tvalidation_1-rmse:0.96664\n",
      "[16]\tvalidation_0-rmse:0.94931\tvalidation_1-rmse:0.96572\n",
      "[17]\tvalidation_0-rmse:0.94873\tvalidation_1-rmse:0.96542\n",
      "[18]\tvalidation_0-rmse:0.94806\tvalidation_1-rmse:0.96510\n",
      "[19]\tvalidation_0-rmse:0.94762\tvalidation_1-rmse:0.96469\n",
      "[20]\tvalidation_0-rmse:0.94725\tvalidation_1-rmse:0.96481\n",
      "[21]\tvalidation_0-rmse:0.94685\tvalidation_1-rmse:0.96415\n",
      "[22]\tvalidation_0-rmse:0.94670\tvalidation_1-rmse:0.96371\n",
      "[23]\tvalidation_0-rmse:0.94651\tvalidation_1-rmse:0.96318\n",
      "[24]\tvalidation_0-rmse:0.94610\tvalidation_1-rmse:0.96342\n",
      "[25]\tvalidation_0-rmse:0.94575\tvalidation_1-rmse:0.96356\n",
      "[26]\tvalidation_0-rmse:0.94533\tvalidation_1-rmse:0.96254\n",
      "[27]\tvalidation_0-rmse:0.94493\tvalidation_1-rmse:0.96307\n",
      "[28]\tvalidation_0-rmse:0.94461\tvalidation_1-rmse:0.96335\n",
      "[29]\tvalidation_0-rmse:0.94427\tvalidation_1-rmse:0.96302\n",
      "[30]\tvalidation_0-rmse:0.94424\tvalidation_1-rmse:0.96322\n",
      "[31]\tvalidation_0-rmse:0.94385\tvalidation_1-rmse:0.96237\n",
      "[32]\tvalidation_0-rmse:0.94366\tvalidation_1-rmse:0.96215\n",
      "[33]\tvalidation_0-rmse:0.94347\tvalidation_1-rmse:0.96183\n",
      "[34]\tvalidation_0-rmse:0.94317\tvalidation_1-rmse:0.96163\n",
      "[35]\tvalidation_0-rmse:0.94290\tvalidation_1-rmse:0.96123\n",
      "[36]\tvalidation_0-rmse:0.94264\tvalidation_1-rmse:0.96148\n",
      "[37]\tvalidation_0-rmse:0.94235\tvalidation_1-rmse:0.96148\n",
      "[38]\tvalidation_0-rmse:0.94225\tvalidation_1-rmse:0.96134\n",
      "[39]\tvalidation_0-rmse:0.94207\tvalidation_1-rmse:0.96095\n",
      "[40]\tvalidation_0-rmse:0.94187\tvalidation_1-rmse:0.96063\n",
      "[41]\tvalidation_0-rmse:0.94161\tvalidation_1-rmse:0.96060\n",
      "[42]\tvalidation_0-rmse:0.94143\tvalidation_1-rmse:0.96054\n",
      "[43]\tvalidation_0-rmse:0.94109\tvalidation_1-rmse:0.96088\n",
      "[44]\tvalidation_0-rmse:0.94080\tvalidation_1-rmse:0.96024\n",
      "[45]\tvalidation_0-rmse:0.94064\tvalidation_1-rmse:0.96012\n",
      "[46]\tvalidation_0-rmse:0.94034\tvalidation_1-rmse:0.95995\n",
      "[47]\tvalidation_0-rmse:0.94020\tvalidation_1-rmse:0.95999\n",
      "[48]\tvalidation_0-rmse:0.93989\tvalidation_1-rmse:0.96023\n",
      "[49]\tvalidation_0-rmse:0.93959\tvalidation_1-rmse:0.95987\n",
      "[50]\tvalidation_0-rmse:0.93935\tvalidation_1-rmse:0.95976\n",
      "[51]\tvalidation_0-rmse:0.93914\tvalidation_1-rmse:0.95955\n",
      "[52]\tvalidation_0-rmse:0.93892\tvalidation_1-rmse:0.95887\n",
      "[53]\tvalidation_0-rmse:0.93878\tvalidation_1-rmse:0.95841\n",
      "[54]\tvalidation_0-rmse:0.93862\tvalidation_1-rmse:0.95859\n",
      "[55]\tvalidation_0-rmse:0.93836\tvalidation_1-rmse:0.95879\n",
      "[56]\tvalidation_0-rmse:0.93825\tvalidation_1-rmse:0.95908\n",
      "[57]\tvalidation_0-rmse:0.93819\tvalidation_1-rmse:0.95898\n",
      "[58]\tvalidation_0-rmse:0.93802\tvalidation_1-rmse:0.95838\n",
      "[59]\tvalidation_0-rmse:0.93783\tvalidation_1-rmse:0.95863\n",
      "[60]\tvalidation_0-rmse:0.93768\tvalidation_1-rmse:0.95829\n",
      "[61]\tvalidation_0-rmse:0.93743\tvalidation_1-rmse:0.95831\n",
      "[62]\tvalidation_0-rmse:0.93738\tvalidation_1-rmse:0.95828\n",
      "[63]\tvalidation_0-rmse:0.93734\tvalidation_1-rmse:0.95833\n",
      "[64]\tvalidation_0-rmse:0.93719\tvalidation_1-rmse:0.95817\n",
      "[65]\tvalidation_0-rmse:0.93699\tvalidation_1-rmse:0.95789\n",
      "[66]\tvalidation_0-rmse:0.93685\tvalidation_1-rmse:0.95792\n",
      "[67]\tvalidation_0-rmse:0.93672\tvalidation_1-rmse:0.95791\n",
      "[68]\tvalidation_0-rmse:0.93655\tvalidation_1-rmse:0.95811\n",
      "[69]\tvalidation_0-rmse:0.93644\tvalidation_1-rmse:0.95828\n",
      "[70]\tvalidation_0-rmse:0.93632\tvalidation_1-rmse:0.95804\n"
     ]
    },
    {
     "name": "stderr",
     "output_type": "stream",
     "text": [
      "D:\\Anaconda\\lib\\site-packages\\xgboost\\data.py:112: UserWarning: Use subset (sliced data) of np.ndarray is not recommended because it will generate extra copies and increase memory consumption\n",
      "  warnings.warn(\n"
     ]
    },
    {
     "name": "stdout",
     "output_type": "stream",
     "text": [
      "[0]\tvalidation_0-rmse:1.13005\tvalidation_1-rmse:1.08260\n"
     ]
    },
    {
     "name": "stderr",
     "output_type": "stream",
     "text": [
      "D:\\Anaconda\\lib\\site-packages\\xgboost\\data.py:112: UserWarning: Use subset (sliced data) of np.ndarray is not recommended because it will generate extra copies and increase memory consumption\n",
      "  warnings.warn(\n"
     ]
    },
    {
     "name": "stdout",
     "output_type": "stream",
     "text": [
      "[0]\tvalidation_0-rmse:1.13067\tvalidation_1-rmse:1.08146\n"
     ]
    },
    {
     "name": "stderr",
     "output_type": "stream",
     "text": [
      "D:\\Anaconda\\lib\\site-packages\\xgboost\\data.py:112: UserWarning: Use subset (sliced data) of np.ndarray is not recommended because it will generate extra copies and increase memory consumption\n",
      "  warnings.warn(\n"
     ]
    },
    {
     "name": "stdout",
     "output_type": "stream",
     "text": [
      "[0]\tvalidation_0-rmse:1.13132\tvalidation_1-rmse:1.08182\n"
     ]
    },
    {
     "name": "stderr",
     "output_type": "stream",
     "text": [
      "D:\\Anaconda\\lib\\site-packages\\xgboost\\data.py:112: UserWarning: Use subset (sliced data) of np.ndarray is not recommended because it will generate extra copies and increase memory consumption\n",
      "  warnings.warn(\n"
     ]
    },
    {
     "name": "stdout",
     "output_type": "stream",
     "text": [
      "[0]\tvalidation_0-rmse:1.12986\tvalidation_1-rmse:1.08152\n"
     ]
    },
    {
     "name": "stderr",
     "output_type": "stream",
     "text": [
      "D:\\Anaconda\\lib\\site-packages\\xgboost\\data.py:112: UserWarning: Use subset (sliced data) of np.ndarray is not recommended because it will generate extra copies and increase memory consumption\n",
      "  warnings.warn(\n"
     ]
    },
    {
     "name": "stdout",
     "output_type": "stream",
     "text": [
      "[0]\tvalidation_0-rmse:1.13085\tvalidation_1-rmse:1.08213\n"
     ]
    },
    {
     "name": "stderr",
     "output_type": "stream",
     "text": [
      "D:\\Anaconda\\lib\\site-packages\\xgboost\\data.py:112: UserWarning: Use subset (sliced data) of np.ndarray is not recommended because it will generate extra copies and increase memory consumption\n",
      "  warnings.warn(\n"
     ]
    },
    {
     "name": "stdout",
     "output_type": "stream",
     "text": [
      "[0]\tvalidation_0-rmse:1.13005\tvalidation_1-rmse:1.08260\n",
      "[1]\tvalidation_0-rmse:1.08313\tvalidation_1-rmse:1.04991\n",
      "[2]\tvalidation_0-rmse:1.03525\tvalidation_1-rmse:1.02106\n",
      "[3]\tvalidation_0-rmse:1.01133\tvalidation_1-rmse:1.00647\n",
      "[4]\tvalidation_0-rmse:0.99681\tvalidation_1-rmse:0.99755\n",
      "[5]\tvalidation_0-rmse:0.98372\tvalidation_1-rmse:0.98901\n",
      "[6]\tvalidation_0-rmse:0.97253\tvalidation_1-rmse:0.98446\n",
      "[7]\tvalidation_0-rmse:0.96847\tvalidation_1-rmse:0.98292\n",
      "[8]\tvalidation_0-rmse:0.96412\tvalidation_1-rmse:0.97755\n",
      "[9]\tvalidation_0-rmse:0.95864\tvalidation_1-rmse:0.97617\n"
     ]
    },
    {
     "name": "stderr",
     "output_type": "stream",
     "text": [
      "D:\\Anaconda\\lib\\site-packages\\xgboost\\data.py:112: UserWarning: Use subset (sliced data) of np.ndarray is not recommended because it will generate extra copies and increase memory consumption\n",
      "  warnings.warn(\n"
     ]
    },
    {
     "name": "stdout",
     "output_type": "stream",
     "text": [
      "[0]\tvalidation_0-rmse:1.13067\tvalidation_1-rmse:1.08146\n",
      "[1]\tvalidation_0-rmse:1.08422\tvalidation_1-rmse:1.04904\n",
      "[2]\tvalidation_0-rmse:1.03638\tvalidation_1-rmse:1.02013\n",
      "[3]\tvalidation_0-rmse:1.01144\tvalidation_1-rmse:1.00571\n",
      "[4]\tvalidation_0-rmse:0.99643\tvalidation_1-rmse:0.99684\n",
      "[5]\tvalidation_0-rmse:0.98556\tvalidation_1-rmse:0.98802\n",
      "[6]\tvalidation_0-rmse:0.97363\tvalidation_1-rmse:0.98342\n",
      "[7]\tvalidation_0-rmse:0.96872\tvalidation_1-rmse:0.97946\n",
      "[8]\tvalidation_0-rmse:0.96253\tvalidation_1-rmse:0.97438\n",
      "[9]\tvalidation_0-rmse:0.95929\tvalidation_1-rmse:0.97208\n"
     ]
    },
    {
     "name": "stderr",
     "output_type": "stream",
     "text": [
      "D:\\Anaconda\\lib\\site-packages\\xgboost\\data.py:112: UserWarning: Use subset (sliced data) of np.ndarray is not recommended because it will generate extra copies and increase memory consumption\n",
      "  warnings.warn(\n"
     ]
    },
    {
     "name": "stdout",
     "output_type": "stream",
     "text": [
      "[0]\tvalidation_0-rmse:1.13132\tvalidation_1-rmse:1.08182\n",
      "[1]\tvalidation_0-rmse:1.08550\tvalidation_1-rmse:1.05110\n",
      "[2]\tvalidation_0-rmse:1.03738\tvalidation_1-rmse:1.02218\n",
      "[3]\tvalidation_0-rmse:1.01351\tvalidation_1-rmse:1.00655\n",
      "[4]\tvalidation_0-rmse:0.99742\tvalidation_1-rmse:0.99467\n",
      "[5]\tvalidation_0-rmse:0.98669\tvalidation_1-rmse:0.98584\n",
      "[6]\tvalidation_0-rmse:0.97609\tvalidation_1-rmse:0.98200\n",
      "[7]\tvalidation_0-rmse:0.97026\tvalidation_1-rmse:0.97830\n",
      "[8]\tvalidation_0-rmse:0.96385\tvalidation_1-rmse:0.97446\n",
      "[9]\tvalidation_0-rmse:0.96029\tvalidation_1-rmse:0.97194\n"
     ]
    },
    {
     "name": "stderr",
     "output_type": "stream",
     "text": [
      "D:\\Anaconda\\lib\\site-packages\\xgboost\\data.py:112: UserWarning: Use subset (sliced data) of np.ndarray is not recommended because it will generate extra copies and increase memory consumption\n",
      "  warnings.warn(\n"
     ]
    },
    {
     "name": "stdout",
     "output_type": "stream",
     "text": [
      "[0]\tvalidation_0-rmse:1.12986\tvalidation_1-rmse:1.08152\n",
      "[1]\tvalidation_0-rmse:1.08314\tvalidation_1-rmse:1.04894\n",
      "[2]\tvalidation_0-rmse:1.03601\tvalidation_1-rmse:1.01997\n",
      "[3]\tvalidation_0-rmse:1.01007\tvalidation_1-rmse:1.00569\n",
      "[4]\tvalidation_0-rmse:0.99504\tvalidation_1-rmse:0.99680\n",
      "[5]\tvalidation_0-rmse:0.98455\tvalidation_1-rmse:0.98820\n",
      "[6]\tvalidation_0-rmse:0.97261\tvalidation_1-rmse:0.98353\n",
      "[7]\tvalidation_0-rmse:0.96785\tvalidation_1-rmse:0.97992\n",
      "[8]\tvalidation_0-rmse:0.96339\tvalidation_1-rmse:0.97465\n",
      "[9]\tvalidation_0-rmse:0.95859\tvalidation_1-rmse:0.97336\n"
     ]
    },
    {
     "name": "stderr",
     "output_type": "stream",
     "text": [
      "D:\\Anaconda\\lib\\site-packages\\xgboost\\data.py:112: UserWarning: Use subset (sliced data) of np.ndarray is not recommended because it will generate extra copies and increase memory consumption\n",
      "  warnings.warn(\n"
     ]
    },
    {
     "name": "stdout",
     "output_type": "stream",
     "text": [
      "[0]\tvalidation_0-rmse:1.13085\tvalidation_1-rmse:1.08213\n",
      "[1]\tvalidation_0-rmse:1.08379\tvalidation_1-rmse:1.05072\n",
      "[2]\tvalidation_0-rmse:1.03878\tvalidation_1-rmse:1.02176\n",
      "[3]\tvalidation_0-rmse:1.01229\tvalidation_1-rmse:1.00637\n",
      "[4]\tvalidation_0-rmse:0.99661\tvalidation_1-rmse:0.99728\n",
      "[5]\tvalidation_0-rmse:0.98585\tvalidation_1-rmse:0.98844\n",
      "[6]\tvalidation_0-rmse:0.97427\tvalidation_1-rmse:0.98449\n",
      "[7]\tvalidation_0-rmse:0.96875\tvalidation_1-rmse:0.98171\n",
      "[8]\tvalidation_0-rmse:0.96169\tvalidation_1-rmse:0.97629\n",
      "[9]\tvalidation_0-rmse:0.95930\tvalidation_1-rmse:0.97329\n"
     ]
    },
    {
     "name": "stderr",
     "output_type": "stream",
     "text": [
      "D:\\Anaconda\\lib\\site-packages\\xgboost\\data.py:112: UserWarning: Use subset (sliced data) of np.ndarray is not recommended because it will generate extra copies and increase memory consumption\n",
      "  warnings.warn(\n"
     ]
    },
    {
     "name": "stdout",
     "output_type": "stream",
     "text": [
      "[0]\tvalidation_0-rmse:1.13005\tvalidation_1-rmse:1.08260\n",
      "[1]\tvalidation_0-rmse:1.08313\tvalidation_1-rmse:1.04991\n",
      "[2]\tvalidation_0-rmse:1.03525\tvalidation_1-rmse:1.02106\n",
      "[3]\tvalidation_0-rmse:1.01133\tvalidation_1-rmse:1.00647\n",
      "[4]\tvalidation_0-rmse:0.99681\tvalidation_1-rmse:0.99755\n",
      "[5]\tvalidation_0-rmse:0.98372\tvalidation_1-rmse:0.98901\n",
      "[6]\tvalidation_0-rmse:0.97253\tvalidation_1-rmse:0.98446\n",
      "[7]\tvalidation_0-rmse:0.96847\tvalidation_1-rmse:0.98292\n",
      "[8]\tvalidation_0-rmse:0.96412\tvalidation_1-rmse:0.97755\n",
      "[9]\tvalidation_0-rmse:0.95864\tvalidation_1-rmse:0.97617\n",
      "[10]\tvalidation_0-rmse:0.95669\tvalidation_1-rmse:0.97365\n",
      "[11]\tvalidation_0-rmse:0.95519\tvalidation_1-rmse:0.97144\n",
      "[12]\tvalidation_0-rmse:0.95417\tvalidation_1-rmse:0.97068\n",
      "[13]\tvalidation_0-rmse:0.95238\tvalidation_1-rmse:0.97067\n",
      "[14]\tvalidation_0-rmse:0.95075\tvalidation_1-rmse:0.97038\n",
      "[15]\tvalidation_0-rmse:0.95010\tvalidation_1-rmse:0.96926\n",
      "[16]\tvalidation_0-rmse:0.94937\tvalidation_1-rmse:0.96945\n",
      "[17]\tvalidation_0-rmse:0.94873\tvalidation_1-rmse:0.96921\n",
      "[18]\tvalidation_0-rmse:0.94836\tvalidation_1-rmse:0.96936\n",
      "[19]\tvalidation_0-rmse:0.94791\tvalidation_1-rmse:0.96937\n",
      "[20]\tvalidation_0-rmse:0.94770\tvalidation_1-rmse:0.96930\n",
      "[21]\tvalidation_0-rmse:0.94728\tvalidation_1-rmse:0.96839\n",
      "[22]\tvalidation_0-rmse:0.94681\tvalidation_1-rmse:0.96803\n",
      "[23]\tvalidation_0-rmse:0.94658\tvalidation_1-rmse:0.96762\n",
      "[24]\tvalidation_0-rmse:0.94633\tvalidation_1-rmse:0.96733\n",
      "[25]\tvalidation_0-rmse:0.94618\tvalidation_1-rmse:0.96736\n",
      "[26]\tvalidation_0-rmse:0.94593\tvalidation_1-rmse:0.96728\n",
      "[27]\tvalidation_0-rmse:0.94540\tvalidation_1-rmse:0.96759\n",
      "[28]\tvalidation_0-rmse:0.94525\tvalidation_1-rmse:0.96774\n",
      "[29]\tvalidation_0-rmse:0.94493\tvalidation_1-rmse:0.96742\n",
      "[30]\tvalidation_0-rmse:0.94470\tvalidation_1-rmse:0.96760\n"
     ]
    },
    {
     "name": "stderr",
     "output_type": "stream",
     "text": [
      "D:\\Anaconda\\lib\\site-packages\\xgboost\\data.py:112: UserWarning: Use subset (sliced data) of np.ndarray is not recommended because it will generate extra copies and increase memory consumption\n",
      "  warnings.warn(\n"
     ]
    },
    {
     "name": "stdout",
     "output_type": "stream",
     "text": [
      "[0]\tvalidation_0-rmse:1.13067\tvalidation_1-rmse:1.08146\n",
      "[1]\tvalidation_0-rmse:1.08422\tvalidation_1-rmse:1.04904\n",
      "[2]\tvalidation_0-rmse:1.03638\tvalidation_1-rmse:1.02013\n",
      "[3]\tvalidation_0-rmse:1.01144\tvalidation_1-rmse:1.00571\n",
      "[4]\tvalidation_0-rmse:0.99643\tvalidation_1-rmse:0.99684\n",
      "[5]\tvalidation_0-rmse:0.98556\tvalidation_1-rmse:0.98802\n",
      "[6]\tvalidation_0-rmse:0.97363\tvalidation_1-rmse:0.98342\n",
      "[7]\tvalidation_0-rmse:0.96872\tvalidation_1-rmse:0.97946\n",
      "[8]\tvalidation_0-rmse:0.96253\tvalidation_1-rmse:0.97438\n",
      "[9]\tvalidation_0-rmse:0.95929\tvalidation_1-rmse:0.97208\n",
      "[10]\tvalidation_0-rmse:0.95706\tvalidation_1-rmse:0.96979\n",
      "[11]\tvalidation_0-rmse:0.95520\tvalidation_1-rmse:0.96888\n",
      "[12]\tvalidation_0-rmse:0.95386\tvalidation_1-rmse:0.96804\n",
      "[13]\tvalidation_0-rmse:0.95286\tvalidation_1-rmse:0.96761\n",
      "[14]\tvalidation_0-rmse:0.95185\tvalidation_1-rmse:0.96655\n",
      "[15]\tvalidation_0-rmse:0.95049\tvalidation_1-rmse:0.96519\n",
      "[16]\tvalidation_0-rmse:0.94994\tvalidation_1-rmse:0.96482\n",
      "[17]\tvalidation_0-rmse:0.94950\tvalidation_1-rmse:0.96466\n",
      "[18]\tvalidation_0-rmse:0.94905\tvalidation_1-rmse:0.96476\n",
      "[19]\tvalidation_0-rmse:0.94849\tvalidation_1-rmse:0.96471\n",
      "[20]\tvalidation_0-rmse:0.94818\tvalidation_1-rmse:0.96476\n",
      "[21]\tvalidation_0-rmse:0.94789\tvalidation_1-rmse:0.96411\n",
      "[22]\tvalidation_0-rmse:0.94727\tvalidation_1-rmse:0.96432\n",
      "[23]\tvalidation_0-rmse:0.94693\tvalidation_1-rmse:0.96410\n",
      "[24]\tvalidation_0-rmse:0.94672\tvalidation_1-rmse:0.96361\n",
      "[25]\tvalidation_0-rmse:0.94628\tvalidation_1-rmse:0.96377\n",
      "[26]\tvalidation_0-rmse:0.94567\tvalidation_1-rmse:0.96377\n",
      "[27]\tvalidation_0-rmse:0.94557\tvalidation_1-rmse:0.96387\n",
      "[28]\tvalidation_0-rmse:0.94539\tvalidation_1-rmse:0.96367\n",
      "[29]\tvalidation_0-rmse:0.94482\tvalidation_1-rmse:0.96383\n"
     ]
    },
    {
     "name": "stderr",
     "output_type": "stream",
     "text": [
      "D:\\Anaconda\\lib\\site-packages\\xgboost\\data.py:112: UserWarning: Use subset (sliced data) of np.ndarray is not recommended because it will generate extra copies and increase memory consumption\n",
      "  warnings.warn(\n"
     ]
    },
    {
     "name": "stdout",
     "output_type": "stream",
     "text": [
      "[0]\tvalidation_0-rmse:1.13132\tvalidation_1-rmse:1.08182\n",
      "[1]\tvalidation_0-rmse:1.08550\tvalidation_1-rmse:1.05110\n",
      "[2]\tvalidation_0-rmse:1.03738\tvalidation_1-rmse:1.02218\n",
      "[3]\tvalidation_0-rmse:1.01351\tvalidation_1-rmse:1.00655\n",
      "[4]\tvalidation_0-rmse:0.99742\tvalidation_1-rmse:0.99467\n",
      "[5]\tvalidation_0-rmse:0.98669\tvalidation_1-rmse:0.98584\n",
      "[6]\tvalidation_0-rmse:0.97609\tvalidation_1-rmse:0.98200\n",
      "[7]\tvalidation_0-rmse:0.97026\tvalidation_1-rmse:0.97830\n",
      "[8]\tvalidation_0-rmse:0.96385\tvalidation_1-rmse:0.97446\n",
      "[9]\tvalidation_0-rmse:0.96029\tvalidation_1-rmse:0.97194\n",
      "[10]\tvalidation_0-rmse:0.95827\tvalidation_1-rmse:0.97036\n",
      "[11]\tvalidation_0-rmse:0.95581\tvalidation_1-rmse:0.96853\n",
      "[12]\tvalidation_0-rmse:0.95457\tvalidation_1-rmse:0.96816\n",
      "[13]\tvalidation_0-rmse:0.95380\tvalidation_1-rmse:0.96803\n",
      "[14]\tvalidation_0-rmse:0.95157\tvalidation_1-rmse:0.96682\n",
      "[15]\tvalidation_0-rmse:0.95016\tvalidation_1-rmse:0.96622\n",
      "[16]\tvalidation_0-rmse:0.94954\tvalidation_1-rmse:0.96602\n",
      "[17]\tvalidation_0-rmse:0.94898\tvalidation_1-rmse:0.96541\n",
      "[18]\tvalidation_0-rmse:0.94834\tvalidation_1-rmse:0.96561\n",
      "[19]\tvalidation_0-rmse:0.94801\tvalidation_1-rmse:0.96533\n",
      "[20]\tvalidation_0-rmse:0.94730\tvalidation_1-rmse:0.96539\n",
      "[21]\tvalidation_0-rmse:0.94680\tvalidation_1-rmse:0.96447\n",
      "[22]\tvalidation_0-rmse:0.94657\tvalidation_1-rmse:0.96469\n",
      "[23]\tvalidation_0-rmse:0.94628\tvalidation_1-rmse:0.96417\n",
      "[24]\tvalidation_0-rmse:0.94609\tvalidation_1-rmse:0.96349\n",
      "[25]\tvalidation_0-rmse:0.94582\tvalidation_1-rmse:0.96351\n",
      "[26]\tvalidation_0-rmse:0.94563\tvalidation_1-rmse:0.96337\n",
      "[27]\tvalidation_0-rmse:0.94550\tvalidation_1-rmse:0.96313\n",
      "[28]\tvalidation_0-rmse:0.94511\tvalidation_1-rmse:0.96271\n",
      "[29]\tvalidation_0-rmse:0.94480\tvalidation_1-rmse:0.96242\n",
      "[30]\tvalidation_0-rmse:0.94458\tvalidation_1-rmse:0.96230\n",
      "[31]\tvalidation_0-rmse:0.94398\tvalidation_1-rmse:0.96243\n",
      "[32]\tvalidation_0-rmse:0.94369\tvalidation_1-rmse:0.96229\n",
      "[33]\tvalidation_0-rmse:0.94337\tvalidation_1-rmse:0.96187\n",
      "[34]\tvalidation_0-rmse:0.94328\tvalidation_1-rmse:0.96179\n",
      "[35]\tvalidation_0-rmse:0.94291\tvalidation_1-rmse:0.96194\n",
      "[36]\tvalidation_0-rmse:0.94270\tvalidation_1-rmse:0.96174\n",
      "[37]\tvalidation_0-rmse:0.94248\tvalidation_1-rmse:0.96147\n",
      "[38]\tvalidation_0-rmse:0.94218\tvalidation_1-rmse:0.96160\n",
      "[39]\tvalidation_0-rmse:0.94207\tvalidation_1-rmse:0.96108\n",
      "[40]\tvalidation_0-rmse:0.94183\tvalidation_1-rmse:0.96101\n",
      "[41]\tvalidation_0-rmse:0.94168\tvalidation_1-rmse:0.96076\n",
      "[42]\tvalidation_0-rmse:0.94147\tvalidation_1-rmse:0.96129\n",
      "[43]\tvalidation_0-rmse:0.94129\tvalidation_1-rmse:0.96138\n",
      "[44]\tvalidation_0-rmse:0.94105\tvalidation_1-rmse:0.96082\n",
      "[45]\tvalidation_0-rmse:0.94083\tvalidation_1-rmse:0.96081\n",
      "[46]\tvalidation_0-rmse:0.94066\tvalidation_1-rmse:0.96120\n"
     ]
    },
    {
     "name": "stderr",
     "output_type": "stream",
     "text": [
      "D:\\Anaconda\\lib\\site-packages\\xgboost\\data.py:112: UserWarning: Use subset (sliced data) of np.ndarray is not recommended because it will generate extra copies and increase memory consumption\n",
      "  warnings.warn(\n"
     ]
    },
    {
     "name": "stdout",
     "output_type": "stream",
     "text": [
      "[0]\tvalidation_0-rmse:1.12986\tvalidation_1-rmse:1.08152\n",
      "[1]\tvalidation_0-rmse:1.08314\tvalidation_1-rmse:1.04894\n",
      "[2]\tvalidation_0-rmse:1.03601\tvalidation_1-rmse:1.01997\n",
      "[3]\tvalidation_0-rmse:1.01007\tvalidation_1-rmse:1.00569\n",
      "[4]\tvalidation_0-rmse:0.99504\tvalidation_1-rmse:0.99680\n",
      "[5]\tvalidation_0-rmse:0.98455\tvalidation_1-rmse:0.98820\n",
      "[6]\tvalidation_0-rmse:0.97261\tvalidation_1-rmse:0.98353\n",
      "[7]\tvalidation_0-rmse:0.96785\tvalidation_1-rmse:0.97992\n",
      "[8]\tvalidation_0-rmse:0.96339\tvalidation_1-rmse:0.97465\n",
      "[9]\tvalidation_0-rmse:0.95859\tvalidation_1-rmse:0.97336\n",
      "[10]\tvalidation_0-rmse:0.95531\tvalidation_1-rmse:0.97150\n",
      "[11]\tvalidation_0-rmse:0.95400\tvalidation_1-rmse:0.96985\n",
      "[12]\tvalidation_0-rmse:0.95212\tvalidation_1-rmse:0.96880\n",
      "[13]\tvalidation_0-rmse:0.95134\tvalidation_1-rmse:0.96839\n",
      "[14]\tvalidation_0-rmse:0.95057\tvalidation_1-rmse:0.96809\n",
      "[15]\tvalidation_0-rmse:0.94970\tvalidation_1-rmse:0.96765\n",
      "[16]\tvalidation_0-rmse:0.94906\tvalidation_1-rmse:0.96793\n",
      "[17]\tvalidation_0-rmse:0.94861\tvalidation_1-rmse:0.96727\n",
      "[18]\tvalidation_0-rmse:0.94800\tvalidation_1-rmse:0.96734\n",
      "[19]\tvalidation_0-rmse:0.94764\tvalidation_1-rmse:0.96724\n",
      "[20]\tvalidation_0-rmse:0.94725\tvalidation_1-rmse:0.96735\n",
      "[21]\tvalidation_0-rmse:0.94665\tvalidation_1-rmse:0.96647\n",
      "[22]\tvalidation_0-rmse:0.94622\tvalidation_1-rmse:0.96666\n",
      "[23]\tvalidation_0-rmse:0.94587\tvalidation_1-rmse:0.96584\n",
      "[24]\tvalidation_0-rmse:0.94526\tvalidation_1-rmse:0.96584\n",
      "[25]\tvalidation_0-rmse:0.94546\tvalidation_1-rmse:0.96576\n",
      "[26]\tvalidation_0-rmse:0.94501\tvalidation_1-rmse:0.96562\n",
      "[27]\tvalidation_0-rmse:0.94490\tvalidation_1-rmse:0.96541\n",
      "[28]\tvalidation_0-rmse:0.94480\tvalidation_1-rmse:0.96569\n",
      "[29]\tvalidation_0-rmse:0.94458\tvalidation_1-rmse:0.96488\n",
      "[30]\tvalidation_0-rmse:0.94439\tvalidation_1-rmse:0.96523\n",
      "[31]\tvalidation_0-rmse:0.94382\tvalidation_1-rmse:0.96538\n",
      "[32]\tvalidation_0-rmse:0.94350\tvalidation_1-rmse:0.96539\n",
      "[33]\tvalidation_0-rmse:0.94323\tvalidation_1-rmse:0.96527\n"
     ]
    },
    {
     "name": "stderr",
     "output_type": "stream",
     "text": [
      "D:\\Anaconda\\lib\\site-packages\\xgboost\\data.py:112: UserWarning: Use subset (sliced data) of np.ndarray is not recommended because it will generate extra copies and increase memory consumption\n",
      "  warnings.warn(\n"
     ]
    },
    {
     "name": "stdout",
     "output_type": "stream",
     "text": [
      "[0]\tvalidation_0-rmse:1.13085\tvalidation_1-rmse:1.08213\n",
      "[1]\tvalidation_0-rmse:1.08379\tvalidation_1-rmse:1.05072\n",
      "[2]\tvalidation_0-rmse:1.03878\tvalidation_1-rmse:1.02176\n",
      "[3]\tvalidation_0-rmse:1.01229\tvalidation_1-rmse:1.00637\n",
      "[4]\tvalidation_0-rmse:0.99661\tvalidation_1-rmse:0.99728\n",
      "[5]\tvalidation_0-rmse:0.98585\tvalidation_1-rmse:0.98844\n",
      "[6]\tvalidation_0-rmse:0.97427\tvalidation_1-rmse:0.98449\n",
      "[7]\tvalidation_0-rmse:0.96875\tvalidation_1-rmse:0.98171\n",
      "[8]\tvalidation_0-rmse:0.96169\tvalidation_1-rmse:0.97629\n",
      "[9]\tvalidation_0-rmse:0.95930\tvalidation_1-rmse:0.97329\n",
      "[10]\tvalidation_0-rmse:0.95721\tvalidation_1-rmse:0.97176\n",
      "[11]\tvalidation_0-rmse:0.95574\tvalidation_1-rmse:0.97037\n",
      "[12]\tvalidation_0-rmse:0.95387\tvalidation_1-rmse:0.96887\n",
      "[13]\tvalidation_0-rmse:0.95290\tvalidation_1-rmse:0.96898\n",
      "[14]\tvalidation_0-rmse:0.95112\tvalidation_1-rmse:0.96863\n",
      "[15]\tvalidation_0-rmse:0.95026\tvalidation_1-rmse:0.96664\n",
      "[16]\tvalidation_0-rmse:0.94931\tvalidation_1-rmse:0.96572\n",
      "[17]\tvalidation_0-rmse:0.94873\tvalidation_1-rmse:0.96542\n",
      "[18]\tvalidation_0-rmse:0.94806\tvalidation_1-rmse:0.96510\n",
      "[19]\tvalidation_0-rmse:0.94762\tvalidation_1-rmse:0.96469\n",
      "[20]\tvalidation_0-rmse:0.94725\tvalidation_1-rmse:0.96481\n",
      "[21]\tvalidation_0-rmse:0.94685\tvalidation_1-rmse:0.96415\n",
      "[22]\tvalidation_0-rmse:0.94670\tvalidation_1-rmse:0.96371\n",
      "[23]\tvalidation_0-rmse:0.94650\tvalidation_1-rmse:0.96297\n",
      "[24]\tvalidation_0-rmse:0.94611\tvalidation_1-rmse:0.96324\n",
      "[25]\tvalidation_0-rmse:0.94576\tvalidation_1-rmse:0.96338\n",
      "[26]\tvalidation_0-rmse:0.94534\tvalidation_1-rmse:0.96236\n",
      "[27]\tvalidation_0-rmse:0.94490\tvalidation_1-rmse:0.96191\n",
      "[28]\tvalidation_0-rmse:0.94459\tvalidation_1-rmse:0.96182\n",
      "[29]\tvalidation_0-rmse:0.94414\tvalidation_1-rmse:0.96180\n",
      "[30]\tvalidation_0-rmse:0.94399\tvalidation_1-rmse:0.96195\n",
      "[31]\tvalidation_0-rmse:0.94354\tvalidation_1-rmse:0.96209\n",
      "[32]\tvalidation_0-rmse:0.94323\tvalidation_1-rmse:0.96191\n",
      "[33]\tvalidation_0-rmse:0.94298\tvalidation_1-rmse:0.96137\n",
      "[34]\tvalidation_0-rmse:0.94288\tvalidation_1-rmse:0.96126\n",
      "[35]\tvalidation_0-rmse:0.94265\tvalidation_1-rmse:0.96096\n",
      "[36]\tvalidation_0-rmse:0.94251\tvalidation_1-rmse:0.96081\n",
      "[37]\tvalidation_0-rmse:0.94216\tvalidation_1-rmse:0.96108\n",
      "[38]\tvalidation_0-rmse:0.94190\tvalidation_1-rmse:0.96117\n",
      "[39]\tvalidation_0-rmse:0.94181\tvalidation_1-rmse:0.96074\n",
      "[40]\tvalidation_0-rmse:0.94164\tvalidation_1-rmse:0.96027\n",
      "[41]\tvalidation_0-rmse:0.94136\tvalidation_1-rmse:0.96026\n",
      "[42]\tvalidation_0-rmse:0.94113\tvalidation_1-rmse:0.96031\n",
      "[43]\tvalidation_0-rmse:0.94096\tvalidation_1-rmse:0.96004\n",
      "[44]\tvalidation_0-rmse:0.94077\tvalidation_1-rmse:0.95995\n",
      "[45]\tvalidation_0-rmse:0.94046\tvalidation_1-rmse:0.96027\n",
      "[46]\tvalidation_0-rmse:0.94027\tvalidation_1-rmse:0.96061\n",
      "[47]\tvalidation_0-rmse:0.94012\tvalidation_1-rmse:0.96060\n",
      "[48]\tvalidation_0-rmse:0.94005\tvalidation_1-rmse:0.96070\n"
     ]
    },
    {
     "name": "stderr",
     "output_type": "stream",
     "text": [
      "D:\\Anaconda\\lib\\site-packages\\xgboost\\data.py:112: UserWarning: Use subset (sliced data) of np.ndarray is not recommended because it will generate extra copies and increase memory consumption\n",
      "  warnings.warn(\n"
     ]
    },
    {
     "name": "stdout",
     "output_type": "stream",
     "text": [
      "[0]\tvalidation_0-rmse:1.10869\tvalidation_1-rmse:1.06859\n"
     ]
    },
    {
     "name": "stderr",
     "output_type": "stream",
     "text": [
      "D:\\Anaconda\\lib\\site-packages\\xgboost\\data.py:112: UserWarning: Use subset (sliced data) of np.ndarray is not recommended because it will generate extra copies and increase memory consumption\n",
      "  warnings.warn(\n"
     ]
    },
    {
     "name": "stdout",
     "output_type": "stream",
     "text": [
      "[0]\tvalidation_0-rmse:1.10892\tvalidation_1-rmse:1.06833\n"
     ]
    },
    {
     "name": "stderr",
     "output_type": "stream",
     "text": [
      "D:\\Anaconda\\lib\\site-packages\\xgboost\\data.py:112: UserWarning: Use subset (sliced data) of np.ndarray is not recommended because it will generate extra copies and increase memory consumption\n",
      "  warnings.warn(\n"
     ]
    },
    {
     "name": "stdout",
     "output_type": "stream",
     "text": [
      "[0]\tvalidation_0-rmse:1.11042\tvalidation_1-rmse:1.06895\n"
     ]
    },
    {
     "name": "stderr",
     "output_type": "stream",
     "text": [
      "D:\\Anaconda\\lib\\site-packages\\xgboost\\data.py:112: UserWarning: Use subset (sliced data) of np.ndarray is not recommended because it will generate extra copies and increase memory consumption\n",
      "  warnings.warn(\n"
     ]
    },
    {
     "name": "stdout",
     "output_type": "stream",
     "text": [
      "[0]\tvalidation_0-rmse:1.10904\tvalidation_1-rmse:1.06812\n"
     ]
    },
    {
     "name": "stderr",
     "output_type": "stream",
     "text": [
      "D:\\Anaconda\\lib\\site-packages\\xgboost\\data.py:112: UserWarning: Use subset (sliced data) of np.ndarray is not recommended because it will generate extra copies and increase memory consumption\n",
      "  warnings.warn(\n"
     ]
    },
    {
     "name": "stdout",
     "output_type": "stream",
     "text": [
      "[0]\tvalidation_0-rmse:1.10976\tvalidation_1-rmse:1.06909\n"
     ]
    },
    {
     "name": "stderr",
     "output_type": "stream",
     "text": [
      "D:\\Anaconda\\lib\\site-packages\\xgboost\\data.py:112: UserWarning: Use subset (sliced data) of np.ndarray is not recommended because it will generate extra copies and increase memory consumption\n",
      "  warnings.warn(\n"
     ]
    },
    {
     "name": "stdout",
     "output_type": "stream",
     "text": [
      "[0]\tvalidation_0-rmse:1.10869\tvalidation_1-rmse:1.06859\n",
      "[1]\tvalidation_0-rmse:1.05006\tvalidation_1-rmse:1.02564\n",
      "[2]\tvalidation_0-rmse:1.00500\tvalidation_1-rmse:0.99574\n",
      "[3]\tvalidation_0-rmse:0.98023\tvalidation_1-rmse:0.97996\n",
      "[4]\tvalidation_0-rmse:0.96401\tvalidation_1-rmse:0.97265\n",
      "[5]\tvalidation_0-rmse:0.95489\tvalidation_1-rmse:0.96834\n",
      "[6]\tvalidation_0-rmse:0.94924\tvalidation_1-rmse:0.96502\n",
      "[7]\tvalidation_0-rmse:0.94543\tvalidation_1-rmse:0.96457\n",
      "[8]\tvalidation_0-rmse:0.94271\tvalidation_1-rmse:0.96340\n",
      "[9]\tvalidation_0-rmse:0.94068\tvalidation_1-rmse:0.96265\n"
     ]
    },
    {
     "name": "stderr",
     "output_type": "stream",
     "text": [
      "D:\\Anaconda\\lib\\site-packages\\xgboost\\data.py:112: UserWarning: Use subset (sliced data) of np.ndarray is not recommended because it will generate extra copies and increase memory consumption\n",
      "  warnings.warn(\n"
     ]
    },
    {
     "name": "stdout",
     "output_type": "stream",
     "text": [
      "[0]\tvalidation_0-rmse:1.10892\tvalidation_1-rmse:1.06833\n",
      "[1]\tvalidation_0-rmse:1.05168\tvalidation_1-rmse:1.02557\n",
      "[2]\tvalidation_0-rmse:1.00587\tvalidation_1-rmse:0.99507\n",
      "[3]\tvalidation_0-rmse:0.98198\tvalidation_1-rmse:0.97988\n",
      "[4]\tvalidation_0-rmse:0.96531\tvalidation_1-rmse:0.97127\n",
      "[5]\tvalidation_0-rmse:0.95627\tvalidation_1-rmse:0.96676\n",
      "[6]\tvalidation_0-rmse:0.94963\tvalidation_1-rmse:0.96371\n",
      "[7]\tvalidation_0-rmse:0.94581\tvalidation_1-rmse:0.96267\n",
      "[8]\tvalidation_0-rmse:0.94294\tvalidation_1-rmse:0.96095\n",
      "[9]\tvalidation_0-rmse:0.94080\tvalidation_1-rmse:0.96016\n"
     ]
    },
    {
     "name": "stderr",
     "output_type": "stream",
     "text": [
      "D:\\Anaconda\\lib\\site-packages\\xgboost\\data.py:112: UserWarning: Use subset (sliced data) of np.ndarray is not recommended because it will generate extra copies and increase memory consumption\n",
      "  warnings.warn(\n"
     ]
    },
    {
     "name": "stdout",
     "output_type": "stream",
     "text": [
      "[0]\tvalidation_0-rmse:1.11042\tvalidation_1-rmse:1.06895\n",
      "[1]\tvalidation_0-rmse:1.05455\tvalidation_1-rmse:1.02395\n",
      "[2]\tvalidation_0-rmse:1.00740\tvalidation_1-rmse:0.99376\n",
      "[3]\tvalidation_0-rmse:0.98305\tvalidation_1-rmse:0.97806\n",
      "[4]\tvalidation_0-rmse:0.96580\tvalidation_1-rmse:0.97003\n",
      "[5]\tvalidation_0-rmse:0.95721\tvalidation_1-rmse:0.96628\n",
      "[6]\tvalidation_0-rmse:0.95059\tvalidation_1-rmse:0.96244\n",
      "[7]\tvalidation_0-rmse:0.94658\tvalidation_1-rmse:0.96170\n",
      "[8]\tvalidation_0-rmse:0.94361\tvalidation_1-rmse:0.95965\n",
      "[9]\tvalidation_0-rmse:0.94133\tvalidation_1-rmse:0.95852\n"
     ]
    },
    {
     "name": "stderr",
     "output_type": "stream",
     "text": [
      "D:\\Anaconda\\lib\\site-packages\\xgboost\\data.py:112: UserWarning: Use subset (sliced data) of np.ndarray is not recommended because it will generate extra copies and increase memory consumption\n",
      "  warnings.warn(\n"
     ]
    },
    {
     "name": "stdout",
     "output_type": "stream",
     "text": [
      "[0]\tvalidation_0-rmse:1.10904\tvalidation_1-rmse:1.06812\n",
      "[1]\tvalidation_0-rmse:1.05141\tvalidation_1-rmse:1.02510\n",
      "[2]\tvalidation_0-rmse:1.00461\tvalidation_1-rmse:0.99503\n",
      "[3]\tvalidation_0-rmse:0.98102\tvalidation_1-rmse:0.98109\n",
      "[4]\tvalidation_0-rmse:0.96417\tvalidation_1-rmse:0.97182\n",
      "[5]\tvalidation_0-rmse:0.95471\tvalidation_1-rmse:0.96822\n",
      "[6]\tvalidation_0-rmse:0.94862\tvalidation_1-rmse:0.96505\n",
      "[7]\tvalidation_0-rmse:0.94415\tvalidation_1-rmse:0.96372\n",
      "[8]\tvalidation_0-rmse:0.94225\tvalidation_1-rmse:0.96283\n",
      "[9]\tvalidation_0-rmse:0.93994\tvalidation_1-rmse:0.96220\n"
     ]
    },
    {
     "name": "stderr",
     "output_type": "stream",
     "text": [
      "D:\\Anaconda\\lib\\site-packages\\xgboost\\data.py:112: UserWarning: Use subset (sliced data) of np.ndarray is not recommended because it will generate extra copies and increase memory consumption\n",
      "  warnings.warn(\n"
     ]
    },
    {
     "name": "stdout",
     "output_type": "stream",
     "text": [
      "[0]\tvalidation_0-rmse:1.10976\tvalidation_1-rmse:1.06909\n",
      "[1]\tvalidation_0-rmse:1.05235\tvalidation_1-rmse:1.02604\n",
      "[2]\tvalidation_0-rmse:1.00678\tvalidation_1-rmse:0.99581\n",
      "[3]\tvalidation_0-rmse:0.98225\tvalidation_1-rmse:0.98097\n",
      "[4]\tvalidation_0-rmse:0.96527\tvalidation_1-rmse:0.97160\n",
      "[5]\tvalidation_0-rmse:0.95621\tvalidation_1-rmse:0.96755\n",
      "[6]\tvalidation_0-rmse:0.95020\tvalidation_1-rmse:0.96412\n",
      "[7]\tvalidation_0-rmse:0.94544\tvalidation_1-rmse:0.96286\n",
      "[8]\tvalidation_0-rmse:0.94295\tvalidation_1-rmse:0.96169\n",
      "[9]\tvalidation_0-rmse:0.94059\tvalidation_1-rmse:0.96099\n"
     ]
    },
    {
     "name": "stderr",
     "output_type": "stream",
     "text": [
      "D:\\Anaconda\\lib\\site-packages\\xgboost\\data.py:112: UserWarning: Use subset (sliced data) of np.ndarray is not recommended because it will generate extra copies and increase memory consumption\n",
      "  warnings.warn(\n"
     ]
    },
    {
     "name": "stdout",
     "output_type": "stream",
     "text": [
      "[0]\tvalidation_0-rmse:1.10869\tvalidation_1-rmse:1.06859\n",
      "[1]\tvalidation_0-rmse:1.05006\tvalidation_1-rmse:1.02564\n",
      "[2]\tvalidation_0-rmse:1.00500\tvalidation_1-rmse:0.99574\n",
      "[3]\tvalidation_0-rmse:0.98023\tvalidation_1-rmse:0.97996\n",
      "[4]\tvalidation_0-rmse:0.96401\tvalidation_1-rmse:0.97265\n",
      "[5]\tvalidation_0-rmse:0.95489\tvalidation_1-rmse:0.96834\n",
      "[6]\tvalidation_0-rmse:0.94924\tvalidation_1-rmse:0.96502\n",
      "[7]\tvalidation_0-rmse:0.94543\tvalidation_1-rmse:0.96457\n",
      "[8]\tvalidation_0-rmse:0.94271\tvalidation_1-rmse:0.96340\n",
      "[9]\tvalidation_0-rmse:0.94068\tvalidation_1-rmse:0.96265\n",
      "[10]\tvalidation_0-rmse:0.93937\tvalidation_1-rmse:0.96145\n",
      "[11]\tvalidation_0-rmse:0.93847\tvalidation_1-rmse:0.96134\n",
      "[12]\tvalidation_0-rmse:0.93742\tvalidation_1-rmse:0.96066\n",
      "[13]\tvalidation_0-rmse:0.93647\tvalidation_1-rmse:0.96093\n",
      "[14]\tvalidation_0-rmse:0.93515\tvalidation_1-rmse:0.95948\n",
      "[15]\tvalidation_0-rmse:0.93415\tvalidation_1-rmse:0.95830\n",
      "[16]\tvalidation_0-rmse:0.93310\tvalidation_1-rmse:0.95827\n",
      "[17]\tvalidation_0-rmse:0.93193\tvalidation_1-rmse:0.95681\n",
      "[18]\tvalidation_0-rmse:0.93103\tvalidation_1-rmse:0.95647\n",
      "[19]\tvalidation_0-rmse:0.93000\tvalidation_1-rmse:0.95523\n",
      "[20]\tvalidation_0-rmse:0.92898\tvalidation_1-rmse:0.95562\n",
      "[21]\tvalidation_0-rmse:0.92847\tvalidation_1-rmse:0.95492\n",
      "[22]\tvalidation_0-rmse:0.92757\tvalidation_1-rmse:0.95453\n",
      "[23]\tvalidation_0-rmse:0.92712\tvalidation_1-rmse:0.95448\n",
      "[24]\tvalidation_0-rmse:0.92640\tvalidation_1-rmse:0.95411\n",
      "[25]\tvalidation_0-rmse:0.92605\tvalidation_1-rmse:0.95366\n",
      "[26]\tvalidation_0-rmse:0.92524\tvalidation_1-rmse:0.95298\n",
      "[27]\tvalidation_0-rmse:0.92487\tvalidation_1-rmse:0.95264\n",
      "[28]\tvalidation_0-rmse:0.92443\tvalidation_1-rmse:0.95232\n",
      "[29]\tvalidation_0-rmse:0.92393\tvalidation_1-rmse:0.95302\n",
      "[30]\tvalidation_0-rmse:0.92367\tvalidation_1-rmse:0.95282\n",
      "[31]\tvalidation_0-rmse:0.92294\tvalidation_1-rmse:0.95295\n",
      "[32]\tvalidation_0-rmse:0.92238\tvalidation_1-rmse:0.95292\n",
      "[33]\tvalidation_0-rmse:0.92185\tvalidation_1-rmse:0.95295\n"
     ]
    },
    {
     "name": "stderr",
     "output_type": "stream",
     "text": [
      "D:\\Anaconda\\lib\\site-packages\\xgboost\\data.py:112: UserWarning: Use subset (sliced data) of np.ndarray is not recommended because it will generate extra copies and increase memory consumption\n",
      "  warnings.warn(\n"
     ]
    },
    {
     "name": "stdout",
     "output_type": "stream",
     "text": [
      "[0]\tvalidation_0-rmse:1.10892\tvalidation_1-rmse:1.06833\n",
      "[1]\tvalidation_0-rmse:1.05168\tvalidation_1-rmse:1.02557\n",
      "[2]\tvalidation_0-rmse:1.00587\tvalidation_1-rmse:0.99507\n",
      "[3]\tvalidation_0-rmse:0.98198\tvalidation_1-rmse:0.97988\n",
      "[4]\tvalidation_0-rmse:0.96531\tvalidation_1-rmse:0.97127\n",
      "[5]\tvalidation_0-rmse:0.95627\tvalidation_1-rmse:0.96676\n",
      "[6]\tvalidation_0-rmse:0.94963\tvalidation_1-rmse:0.96371\n",
      "[7]\tvalidation_0-rmse:0.94581\tvalidation_1-rmse:0.96267\n",
      "[8]\tvalidation_0-rmse:0.94294\tvalidation_1-rmse:0.96095\n",
      "[9]\tvalidation_0-rmse:0.94080\tvalidation_1-rmse:0.96016\n",
      "[10]\tvalidation_0-rmse:0.93949\tvalidation_1-rmse:0.95917\n",
      "[11]\tvalidation_0-rmse:0.93862\tvalidation_1-rmse:0.95772\n",
      "[12]\tvalidation_0-rmse:0.93683\tvalidation_1-rmse:0.95732\n",
      "[13]\tvalidation_0-rmse:0.93586\tvalidation_1-rmse:0.95706\n",
      "[14]\tvalidation_0-rmse:0.93456\tvalidation_1-rmse:0.95605\n",
      "[15]\tvalidation_0-rmse:0.93345\tvalidation_1-rmse:0.95578\n",
      "[16]\tvalidation_0-rmse:0.93284\tvalidation_1-rmse:0.95510\n",
      "[17]\tvalidation_0-rmse:0.93227\tvalidation_1-rmse:0.95490\n",
      "[18]\tvalidation_0-rmse:0.93134\tvalidation_1-rmse:0.95452\n",
      "[19]\tvalidation_0-rmse:0.93059\tvalidation_1-rmse:0.95445\n",
      "[20]\tvalidation_0-rmse:0.93001\tvalidation_1-rmse:0.95446\n",
      "[21]\tvalidation_0-rmse:0.92932\tvalidation_1-rmse:0.95393\n",
      "[22]\tvalidation_0-rmse:0.92862\tvalidation_1-rmse:0.95434\n",
      "[23]\tvalidation_0-rmse:0.92822\tvalidation_1-rmse:0.95445\n",
      "[24]\tvalidation_0-rmse:0.92740\tvalidation_1-rmse:0.95415\n",
      "[25]\tvalidation_0-rmse:0.92665\tvalidation_1-rmse:0.95377\n",
      "[26]\tvalidation_0-rmse:0.92549\tvalidation_1-rmse:0.95193\n",
      "[27]\tvalidation_0-rmse:0.92503\tvalidation_1-rmse:0.95153\n",
      "[28]\tvalidation_0-rmse:0.92437\tvalidation_1-rmse:0.95180\n",
      "[29]\tvalidation_0-rmse:0.92372\tvalidation_1-rmse:0.95187\n",
      "[30]\tvalidation_0-rmse:0.92344\tvalidation_1-rmse:0.95181\n",
      "[31]\tvalidation_0-rmse:0.92299\tvalidation_1-rmse:0.95187\n"
     ]
    },
    {
     "name": "stderr",
     "output_type": "stream",
     "text": [
      "D:\\Anaconda\\lib\\site-packages\\xgboost\\data.py:112: UserWarning: Use subset (sliced data) of np.ndarray is not recommended because it will generate extra copies and increase memory consumption\n",
      "  warnings.warn(\n"
     ]
    },
    {
     "name": "stdout",
     "output_type": "stream",
     "text": [
      "[0]\tvalidation_0-rmse:1.11042\tvalidation_1-rmse:1.06895\n",
      "[1]\tvalidation_0-rmse:1.05455\tvalidation_1-rmse:1.02395\n",
      "[2]\tvalidation_0-rmse:1.00740\tvalidation_1-rmse:0.99376\n",
      "[3]\tvalidation_0-rmse:0.98305\tvalidation_1-rmse:0.97806\n",
      "[4]\tvalidation_0-rmse:0.96580\tvalidation_1-rmse:0.97003\n",
      "[5]\tvalidation_0-rmse:0.95721\tvalidation_1-rmse:0.96628\n",
      "[6]\tvalidation_0-rmse:0.95059\tvalidation_1-rmse:0.96244\n",
      "[7]\tvalidation_0-rmse:0.94658\tvalidation_1-rmse:0.96170\n",
      "[8]\tvalidation_0-rmse:0.94361\tvalidation_1-rmse:0.95965\n",
      "[9]\tvalidation_0-rmse:0.94133\tvalidation_1-rmse:0.95852\n",
      "[10]\tvalidation_0-rmse:0.94000\tvalidation_1-rmse:0.95742\n",
      "[11]\tvalidation_0-rmse:0.93895\tvalidation_1-rmse:0.95643\n",
      "[12]\tvalidation_0-rmse:0.93798\tvalidation_1-rmse:0.95572\n",
      "[13]\tvalidation_0-rmse:0.93653\tvalidation_1-rmse:0.95542\n",
      "[14]\tvalidation_0-rmse:0.93557\tvalidation_1-rmse:0.95527\n",
      "[15]\tvalidation_0-rmse:0.93474\tvalidation_1-rmse:0.95451\n",
      "[16]\tvalidation_0-rmse:0.93400\tvalidation_1-rmse:0.95431\n",
      "[17]\tvalidation_0-rmse:0.93291\tvalidation_1-rmse:0.95256\n",
      "[18]\tvalidation_0-rmse:0.93205\tvalidation_1-rmse:0.95222\n",
      "[19]\tvalidation_0-rmse:0.93140\tvalidation_1-rmse:0.95218\n",
      "[20]\tvalidation_0-rmse:0.93066\tvalidation_1-rmse:0.95241\n",
      "[21]\tvalidation_0-rmse:0.93002\tvalidation_1-rmse:0.95153\n",
      "[22]\tvalidation_0-rmse:0.92931\tvalidation_1-rmse:0.95185\n",
      "[23]\tvalidation_0-rmse:0.92891\tvalidation_1-rmse:0.95166\n",
      "[24]\tvalidation_0-rmse:0.92812\tvalidation_1-rmse:0.95195\n",
      "[25]\tvalidation_0-rmse:0.92765\tvalidation_1-rmse:0.95119\n",
      "[26]\tvalidation_0-rmse:0.92730\tvalidation_1-rmse:0.95086\n",
      "[27]\tvalidation_0-rmse:0.92690\tvalidation_1-rmse:0.95059\n",
      "[28]\tvalidation_0-rmse:0.92608\tvalidation_1-rmse:0.95014\n",
      "[29]\tvalidation_0-rmse:0.92559\tvalidation_1-rmse:0.95107\n",
      "[30]\tvalidation_0-rmse:0.92545\tvalidation_1-rmse:0.95022\n",
      "[31]\tvalidation_0-rmse:0.92502\tvalidation_1-rmse:0.95187\n",
      "[32]\tvalidation_0-rmse:0.92468\tvalidation_1-rmse:0.95060\n",
      "[33]\tvalidation_0-rmse:0.92446\tvalidation_1-rmse:0.95048\n"
     ]
    },
    {
     "name": "stderr",
     "output_type": "stream",
     "text": [
      "D:\\Anaconda\\lib\\site-packages\\xgboost\\data.py:112: UserWarning: Use subset (sliced data) of np.ndarray is not recommended because it will generate extra copies and increase memory consumption\n",
      "  warnings.warn(\n"
     ]
    },
    {
     "name": "stdout",
     "output_type": "stream",
     "text": [
      "[0]\tvalidation_0-rmse:1.10904\tvalidation_1-rmse:1.06812\n",
      "[1]\tvalidation_0-rmse:1.05141\tvalidation_1-rmse:1.02510\n",
      "[2]\tvalidation_0-rmse:1.00461\tvalidation_1-rmse:0.99503\n",
      "[3]\tvalidation_0-rmse:0.98102\tvalidation_1-rmse:0.98109\n",
      "[4]\tvalidation_0-rmse:0.96417\tvalidation_1-rmse:0.97182\n",
      "[5]\tvalidation_0-rmse:0.95471\tvalidation_1-rmse:0.96822\n",
      "[6]\tvalidation_0-rmse:0.94862\tvalidation_1-rmse:0.96505\n",
      "[7]\tvalidation_0-rmse:0.94415\tvalidation_1-rmse:0.96372\n",
      "[8]\tvalidation_0-rmse:0.94225\tvalidation_1-rmse:0.96283\n",
      "[9]\tvalidation_0-rmse:0.93994\tvalidation_1-rmse:0.96220\n",
      "[10]\tvalidation_0-rmse:0.93896\tvalidation_1-rmse:0.96181\n",
      "[11]\tvalidation_0-rmse:0.93802\tvalidation_1-rmse:0.96062\n",
      "[12]\tvalidation_0-rmse:0.93699\tvalidation_1-rmse:0.96039\n",
      "[13]\tvalidation_0-rmse:0.93571\tvalidation_1-rmse:0.96040\n",
      "[14]\tvalidation_0-rmse:0.93445\tvalidation_1-rmse:0.95948\n",
      "[15]\tvalidation_0-rmse:0.93372\tvalidation_1-rmse:0.95943\n",
      "[16]\tvalidation_0-rmse:0.93310\tvalidation_1-rmse:0.95936\n",
      "[17]\tvalidation_0-rmse:0.93208\tvalidation_1-rmse:0.95809\n",
      "[18]\tvalidation_0-rmse:0.93130\tvalidation_1-rmse:0.95777\n",
      "[19]\tvalidation_0-rmse:0.93080\tvalidation_1-rmse:0.95731\n",
      "[20]\tvalidation_0-rmse:0.93022\tvalidation_1-rmse:0.95671\n",
      "[21]\tvalidation_0-rmse:0.92908\tvalidation_1-rmse:0.95448\n",
      "[22]\tvalidation_0-rmse:0.92839\tvalidation_1-rmse:0.95435\n",
      "[23]\tvalidation_0-rmse:0.92785\tvalidation_1-rmse:0.95453\n",
      "[24]\tvalidation_0-rmse:0.92700\tvalidation_1-rmse:0.95436\n",
      "[25]\tvalidation_0-rmse:0.92620\tvalidation_1-rmse:0.95305\n",
      "[26]\tvalidation_0-rmse:0.92580\tvalidation_1-rmse:0.95397\n",
      "[27]\tvalidation_0-rmse:0.92537\tvalidation_1-rmse:0.95394\n",
      "[28]\tvalidation_0-rmse:0.92504\tvalidation_1-rmse:0.95385\n",
      "[29]\tvalidation_0-rmse:0.92438\tvalidation_1-rmse:0.95374\n"
     ]
    },
    {
     "name": "stderr",
     "output_type": "stream",
     "text": [
      "D:\\Anaconda\\lib\\site-packages\\xgboost\\data.py:112: UserWarning: Use subset (sliced data) of np.ndarray is not recommended because it will generate extra copies and increase memory consumption\n",
      "  warnings.warn(\n"
     ]
    },
    {
     "name": "stdout",
     "output_type": "stream",
     "text": [
      "[0]\tvalidation_0-rmse:1.10976\tvalidation_1-rmse:1.06909\n",
      "[1]\tvalidation_0-rmse:1.05235\tvalidation_1-rmse:1.02604\n",
      "[2]\tvalidation_0-rmse:1.00678\tvalidation_1-rmse:0.99581\n",
      "[3]\tvalidation_0-rmse:0.98225\tvalidation_1-rmse:0.98097\n",
      "[4]\tvalidation_0-rmse:0.96527\tvalidation_1-rmse:0.97160\n",
      "[5]\tvalidation_0-rmse:0.95621\tvalidation_1-rmse:0.96755\n",
      "[6]\tvalidation_0-rmse:0.95020\tvalidation_1-rmse:0.96412\n",
      "[7]\tvalidation_0-rmse:0.94544\tvalidation_1-rmse:0.96286\n",
      "[8]\tvalidation_0-rmse:0.94295\tvalidation_1-rmse:0.96169\n",
      "[9]\tvalidation_0-rmse:0.94059\tvalidation_1-rmse:0.96099\n",
      "[10]\tvalidation_0-rmse:0.93911\tvalidation_1-rmse:0.96004\n",
      "[11]\tvalidation_0-rmse:0.93812\tvalidation_1-rmse:0.95840\n",
      "[12]\tvalidation_0-rmse:0.93681\tvalidation_1-rmse:0.95720\n",
      "[13]\tvalidation_0-rmse:0.93525\tvalidation_1-rmse:0.95733\n",
      "[14]\tvalidation_0-rmse:0.93401\tvalidation_1-rmse:0.95573\n",
      "[15]\tvalidation_0-rmse:0.93325\tvalidation_1-rmse:0.95510\n",
      "[16]\tvalidation_0-rmse:0.93269\tvalidation_1-rmse:0.95506\n",
      "[17]\tvalidation_0-rmse:0.93195\tvalidation_1-rmse:0.95481\n",
      "[18]\tvalidation_0-rmse:0.93122\tvalidation_1-rmse:0.95476\n",
      "[19]\tvalidation_0-rmse:0.93037\tvalidation_1-rmse:0.95307\n",
      "[20]\tvalidation_0-rmse:0.92975\tvalidation_1-rmse:0.95335\n",
      "[21]\tvalidation_0-rmse:0.92932\tvalidation_1-rmse:0.95339\n",
      "[22]\tvalidation_0-rmse:0.92861\tvalidation_1-rmse:0.95387\n",
      "[23]\tvalidation_0-rmse:0.92826\tvalidation_1-rmse:0.95289\n",
      "[24]\tvalidation_0-rmse:0.92769\tvalidation_1-rmse:0.95349\n",
      "[25]\tvalidation_0-rmse:0.92651\tvalidation_1-rmse:0.95092\n",
      "[26]\tvalidation_0-rmse:0.92621\tvalidation_1-rmse:0.95070\n",
      "[27]\tvalidation_0-rmse:0.92542\tvalidation_1-rmse:0.95029\n",
      "[28]\tvalidation_0-rmse:0.92498\tvalidation_1-rmse:0.95071\n",
      "[29]\tvalidation_0-rmse:0.92451\tvalidation_1-rmse:0.95031\n",
      "[30]\tvalidation_0-rmse:0.92423\tvalidation_1-rmse:0.95025\n",
      "[31]\tvalidation_0-rmse:0.92359\tvalidation_1-rmse:0.94887\n",
      "[32]\tvalidation_0-rmse:0.92340\tvalidation_1-rmse:0.94909\n",
      "[33]\tvalidation_0-rmse:0.92268\tvalidation_1-rmse:0.94827\n",
      "[34]\tvalidation_0-rmse:0.92235\tvalidation_1-rmse:0.94795\n",
      "[35]\tvalidation_0-rmse:0.92200\tvalidation_1-rmse:0.94785\n",
      "[36]\tvalidation_0-rmse:0.92155\tvalidation_1-rmse:0.94765\n",
      "[37]\tvalidation_0-rmse:0.92131\tvalidation_1-rmse:0.94778\n",
      "[38]\tvalidation_0-rmse:0.92110\tvalidation_1-rmse:0.94734\n",
      "[39]\tvalidation_0-rmse:0.92065\tvalidation_1-rmse:0.94713\n",
      "[40]\tvalidation_0-rmse:0.92024\tvalidation_1-rmse:0.94635\n",
      "[41]\tvalidation_0-rmse:0.91992\tvalidation_1-rmse:0.94585\n",
      "[42]\tvalidation_0-rmse:0.91963\tvalidation_1-rmse:0.94595\n",
      "[43]\tvalidation_0-rmse:0.91933\tvalidation_1-rmse:0.94658\n",
      "[44]\tvalidation_0-rmse:0.91914\tvalidation_1-rmse:0.94644\n",
      "[45]\tvalidation_0-rmse:0.91892\tvalidation_1-rmse:0.94640\n",
      "[46]\tvalidation_0-rmse:0.91861\tvalidation_1-rmse:0.94610\n"
     ]
    },
    {
     "name": "stderr",
     "output_type": "stream",
     "text": [
      "D:\\Anaconda\\lib\\site-packages\\xgboost\\data.py:112: UserWarning: Use subset (sliced data) of np.ndarray is not recommended because it will generate extra copies and increase memory consumption\n",
      "  warnings.warn(\n"
     ]
    },
    {
     "name": "stdout",
     "output_type": "stream",
     "text": [
      "[0]\tvalidation_0-rmse:1.10869\tvalidation_1-rmse:1.06859\n"
     ]
    },
    {
     "name": "stderr",
     "output_type": "stream",
     "text": [
      "D:\\Anaconda\\lib\\site-packages\\xgboost\\data.py:112: UserWarning: Use subset (sliced data) of np.ndarray is not recommended because it will generate extra copies and increase memory consumption\n",
      "  warnings.warn(\n"
     ]
    },
    {
     "name": "stdout",
     "output_type": "stream",
     "text": [
      "[0]\tvalidation_0-rmse:1.10892\tvalidation_1-rmse:1.06833\n"
     ]
    },
    {
     "name": "stderr",
     "output_type": "stream",
     "text": [
      "D:\\Anaconda\\lib\\site-packages\\xgboost\\data.py:112: UserWarning: Use subset (sliced data) of np.ndarray is not recommended because it will generate extra copies and increase memory consumption\n",
      "  warnings.warn(\n"
     ]
    },
    {
     "name": "stdout",
     "output_type": "stream",
     "text": [
      "[0]\tvalidation_0-rmse:1.11042\tvalidation_1-rmse:1.06895\n"
     ]
    },
    {
     "name": "stderr",
     "output_type": "stream",
     "text": [
      "D:\\Anaconda\\lib\\site-packages\\xgboost\\data.py:112: UserWarning: Use subset (sliced data) of np.ndarray is not recommended because it will generate extra copies and increase memory consumption\n",
      "  warnings.warn(\n"
     ]
    },
    {
     "name": "stdout",
     "output_type": "stream",
     "text": [
      "[0]\tvalidation_0-rmse:1.10904\tvalidation_1-rmse:1.06812\n"
     ]
    },
    {
     "name": "stderr",
     "output_type": "stream",
     "text": [
      "D:\\Anaconda\\lib\\site-packages\\xgboost\\data.py:112: UserWarning: Use subset (sliced data) of np.ndarray is not recommended because it will generate extra copies and increase memory consumption\n",
      "  warnings.warn(\n"
     ]
    },
    {
     "name": "stdout",
     "output_type": "stream",
     "text": [
      "[0]\tvalidation_0-rmse:1.10976\tvalidation_1-rmse:1.06909\n"
     ]
    },
    {
     "name": "stderr",
     "output_type": "stream",
     "text": [
      "D:\\Anaconda\\lib\\site-packages\\xgboost\\data.py:112: UserWarning: Use subset (sliced data) of np.ndarray is not recommended because it will generate extra copies and increase memory consumption\n",
      "  warnings.warn(\n"
     ]
    },
    {
     "name": "stdout",
     "output_type": "stream",
     "text": [
      "[0]\tvalidation_0-rmse:1.10869\tvalidation_1-rmse:1.06859\n",
      "[1]\tvalidation_0-rmse:1.05006\tvalidation_1-rmse:1.02564\n",
      "[2]\tvalidation_0-rmse:1.00500\tvalidation_1-rmse:0.99574\n",
      "[3]\tvalidation_0-rmse:0.98023\tvalidation_1-rmse:0.97996\n",
      "[4]\tvalidation_0-rmse:0.96401\tvalidation_1-rmse:0.97265\n",
      "[5]\tvalidation_0-rmse:0.95490\tvalidation_1-rmse:0.96838\n",
      "[6]\tvalidation_0-rmse:0.94925\tvalidation_1-rmse:0.96506\n",
      "[7]\tvalidation_0-rmse:0.94544\tvalidation_1-rmse:0.96464\n",
      "[8]\tvalidation_0-rmse:0.94272\tvalidation_1-rmse:0.96347\n",
      "[9]\tvalidation_0-rmse:0.94069\tvalidation_1-rmse:0.96271\n"
     ]
    },
    {
     "name": "stderr",
     "output_type": "stream",
     "text": [
      "D:\\Anaconda\\lib\\site-packages\\xgboost\\data.py:112: UserWarning: Use subset (sliced data) of np.ndarray is not recommended because it will generate extra copies and increase memory consumption\n",
      "  warnings.warn(\n"
     ]
    },
    {
     "name": "stdout",
     "output_type": "stream",
     "text": [
      "[0]\tvalidation_0-rmse:1.10892\tvalidation_1-rmse:1.06833\n",
      "[1]\tvalidation_0-rmse:1.05168\tvalidation_1-rmse:1.02557\n",
      "[2]\tvalidation_0-rmse:1.00587\tvalidation_1-rmse:0.99507\n",
      "[3]\tvalidation_0-rmse:0.98198\tvalidation_1-rmse:0.97988\n",
      "[4]\tvalidation_0-rmse:0.96531\tvalidation_1-rmse:0.97127\n",
      "[5]\tvalidation_0-rmse:0.95627\tvalidation_1-rmse:0.96676\n",
      "[6]\tvalidation_0-rmse:0.94963\tvalidation_1-rmse:0.96371\n",
      "[7]\tvalidation_0-rmse:0.94583\tvalidation_1-rmse:0.96269\n",
      "[8]\tvalidation_0-rmse:0.94298\tvalidation_1-rmse:0.96105\n",
      "[9]\tvalidation_0-rmse:0.94084\tvalidation_1-rmse:0.96024\n"
     ]
    },
    {
     "name": "stderr",
     "output_type": "stream",
     "text": [
      "D:\\Anaconda\\lib\\site-packages\\xgboost\\data.py:112: UserWarning: Use subset (sliced data) of np.ndarray is not recommended because it will generate extra copies and increase memory consumption\n",
      "  warnings.warn(\n"
     ]
    },
    {
     "name": "stdout",
     "output_type": "stream",
     "text": [
      "[0]\tvalidation_0-rmse:1.11042\tvalidation_1-rmse:1.06895\n",
      "[1]\tvalidation_0-rmse:1.05455\tvalidation_1-rmse:1.02395\n",
      "[2]\tvalidation_0-rmse:1.00740\tvalidation_1-rmse:0.99376\n",
      "[3]\tvalidation_0-rmse:0.98305\tvalidation_1-rmse:0.97806\n",
      "[4]\tvalidation_0-rmse:0.96580\tvalidation_1-rmse:0.97003\n",
      "[5]\tvalidation_0-rmse:0.95721\tvalidation_1-rmse:0.96628\n",
      "[6]\tvalidation_0-rmse:0.95059\tvalidation_1-rmse:0.96244\n",
      "[7]\tvalidation_0-rmse:0.94659\tvalidation_1-rmse:0.96170\n",
      "[8]\tvalidation_0-rmse:0.94362\tvalidation_1-rmse:0.95965\n",
      "[9]\tvalidation_0-rmse:0.94135\tvalidation_1-rmse:0.95852\n"
     ]
    },
    {
     "name": "stderr",
     "output_type": "stream",
     "text": [
      "D:\\Anaconda\\lib\\site-packages\\xgboost\\data.py:112: UserWarning: Use subset (sliced data) of np.ndarray is not recommended because it will generate extra copies and increase memory consumption\n",
      "  warnings.warn(\n"
     ]
    },
    {
     "name": "stdout",
     "output_type": "stream",
     "text": [
      "[0]\tvalidation_0-rmse:1.10904\tvalidation_1-rmse:1.06812\n",
      "[1]\tvalidation_0-rmse:1.05141\tvalidation_1-rmse:1.02510\n",
      "[2]\tvalidation_0-rmse:1.00461\tvalidation_1-rmse:0.99503\n",
      "[3]\tvalidation_0-rmse:0.98102\tvalidation_1-rmse:0.98109\n",
      "[4]\tvalidation_0-rmse:0.96417\tvalidation_1-rmse:0.97187\n",
      "[5]\tvalidation_0-rmse:0.95472\tvalidation_1-rmse:0.96825\n",
      "[6]\tvalidation_0-rmse:0.94863\tvalidation_1-rmse:0.96508\n",
      "[7]\tvalidation_0-rmse:0.94417\tvalidation_1-rmse:0.96382\n",
      "[8]\tvalidation_0-rmse:0.94226\tvalidation_1-rmse:0.96306\n",
      "[9]\tvalidation_0-rmse:0.93996\tvalidation_1-rmse:0.96244\n"
     ]
    },
    {
     "name": "stderr",
     "output_type": "stream",
     "text": [
      "D:\\Anaconda\\lib\\site-packages\\xgboost\\data.py:112: UserWarning: Use subset (sliced data) of np.ndarray is not recommended because it will generate extra copies and increase memory consumption\n",
      "  warnings.warn(\n"
     ]
    },
    {
     "name": "stdout",
     "output_type": "stream",
     "text": [
      "[0]\tvalidation_0-rmse:1.10976\tvalidation_1-rmse:1.06909\n",
      "[1]\tvalidation_0-rmse:1.05235\tvalidation_1-rmse:1.02604\n",
      "[2]\tvalidation_0-rmse:1.00678\tvalidation_1-rmse:0.99581\n",
      "[3]\tvalidation_0-rmse:0.98225\tvalidation_1-rmse:0.98097\n",
      "[4]\tvalidation_0-rmse:0.96527\tvalidation_1-rmse:0.97160\n",
      "[5]\tvalidation_0-rmse:0.95627\tvalidation_1-rmse:0.96777\n",
      "[6]\tvalidation_0-rmse:0.95026\tvalidation_1-rmse:0.96432\n",
      "[7]\tvalidation_0-rmse:0.94549\tvalidation_1-rmse:0.96304\n",
      "[8]\tvalidation_0-rmse:0.94300\tvalidation_1-rmse:0.96186\n",
      "[9]\tvalidation_0-rmse:0.94063\tvalidation_1-rmse:0.96116\n"
     ]
    },
    {
     "name": "stderr",
     "output_type": "stream",
     "text": [
      "D:\\Anaconda\\lib\\site-packages\\xgboost\\data.py:112: UserWarning: Use subset (sliced data) of np.ndarray is not recommended because it will generate extra copies and increase memory consumption\n",
      "  warnings.warn(\n"
     ]
    },
    {
     "name": "stdout",
     "output_type": "stream",
     "text": [
      "[0]\tvalidation_0-rmse:1.10869\tvalidation_1-rmse:1.06859\n",
      "[1]\tvalidation_0-rmse:1.05006\tvalidation_1-rmse:1.02564\n",
      "[2]\tvalidation_0-rmse:1.00500\tvalidation_1-rmse:0.99574\n",
      "[3]\tvalidation_0-rmse:0.98023\tvalidation_1-rmse:0.97996\n",
      "[4]\tvalidation_0-rmse:0.96401\tvalidation_1-rmse:0.97265\n",
      "[5]\tvalidation_0-rmse:0.95490\tvalidation_1-rmse:0.96838\n",
      "[6]\tvalidation_0-rmse:0.94925\tvalidation_1-rmse:0.96506\n",
      "[7]\tvalidation_0-rmse:0.94544\tvalidation_1-rmse:0.96464\n",
      "[8]\tvalidation_0-rmse:0.94272\tvalidation_1-rmse:0.96347\n",
      "[9]\tvalidation_0-rmse:0.94069\tvalidation_1-rmse:0.96271\n",
      "[10]\tvalidation_0-rmse:0.93933\tvalidation_1-rmse:0.96143\n",
      "[11]\tvalidation_0-rmse:0.93848\tvalidation_1-rmse:0.96151\n",
      "[12]\tvalidation_0-rmse:0.93664\tvalidation_1-rmse:0.96161\n",
      "[13]\tvalidation_0-rmse:0.93566\tvalidation_1-rmse:0.96044\n",
      "[14]\tvalidation_0-rmse:0.93440\tvalidation_1-rmse:0.95924\n",
      "[15]\tvalidation_0-rmse:0.93299\tvalidation_1-rmse:0.95922\n",
      "[16]\tvalidation_0-rmse:0.93221\tvalidation_1-rmse:0.95920\n",
      "[17]\tvalidation_0-rmse:0.93179\tvalidation_1-rmse:0.95912\n",
      "[18]\tvalidation_0-rmse:0.93014\tvalidation_1-rmse:0.95832\n",
      "[19]\tvalidation_0-rmse:0.92910\tvalidation_1-rmse:0.95688\n",
      "[20]\tvalidation_0-rmse:0.92864\tvalidation_1-rmse:0.95564\n",
      "[21]\tvalidation_0-rmse:0.92817\tvalidation_1-rmse:0.95513\n",
      "[22]\tvalidation_0-rmse:0.92766\tvalidation_1-rmse:0.95460\n",
      "[23]\tvalidation_0-rmse:0.92739\tvalidation_1-rmse:0.95441\n",
      "[24]\tvalidation_0-rmse:0.92670\tvalidation_1-rmse:0.95444\n",
      "[25]\tvalidation_0-rmse:0.92585\tvalidation_1-rmse:0.95359\n",
      "[26]\tvalidation_0-rmse:0.92538\tvalidation_1-rmse:0.95450\n",
      "[27]\tvalidation_0-rmse:0.92477\tvalidation_1-rmse:0.95433\n",
      "[28]\tvalidation_0-rmse:0.92441\tvalidation_1-rmse:0.95450\n",
      "[29]\tvalidation_0-rmse:0.92368\tvalidation_1-rmse:0.95322\n",
      "[30]\tvalidation_0-rmse:0.92318\tvalidation_1-rmse:0.95258\n",
      "[31]\tvalidation_0-rmse:0.92288\tvalidation_1-rmse:0.95237\n",
      "[32]\tvalidation_0-rmse:0.92248\tvalidation_1-rmse:0.95194\n",
      "[33]\tvalidation_0-rmse:0.92189\tvalidation_1-rmse:0.95247\n",
      "[34]\tvalidation_0-rmse:0.92152\tvalidation_1-rmse:0.95234\n",
      "[35]\tvalidation_0-rmse:0.92116\tvalidation_1-rmse:0.95258\n",
      "[36]\tvalidation_0-rmse:0.92053\tvalidation_1-rmse:0.95259\n",
      "[37]\tvalidation_0-rmse:0.92019\tvalidation_1-rmse:0.95239\n"
     ]
    },
    {
     "name": "stderr",
     "output_type": "stream",
     "text": [
      "D:\\Anaconda\\lib\\site-packages\\xgboost\\data.py:112: UserWarning: Use subset (sliced data) of np.ndarray is not recommended because it will generate extra copies and increase memory consumption\n",
      "  warnings.warn(\n"
     ]
    },
    {
     "name": "stdout",
     "output_type": "stream",
     "text": [
      "[0]\tvalidation_0-rmse:1.10892\tvalidation_1-rmse:1.06833\n",
      "[1]\tvalidation_0-rmse:1.05168\tvalidation_1-rmse:1.02557\n",
      "[2]\tvalidation_0-rmse:1.00587\tvalidation_1-rmse:0.99507\n",
      "[3]\tvalidation_0-rmse:0.98198\tvalidation_1-rmse:0.97988\n",
      "[4]\tvalidation_0-rmse:0.96531\tvalidation_1-rmse:0.97127\n",
      "[5]\tvalidation_0-rmse:0.95627\tvalidation_1-rmse:0.96676\n",
      "[6]\tvalidation_0-rmse:0.94963\tvalidation_1-rmse:0.96371\n",
      "[7]\tvalidation_0-rmse:0.94583\tvalidation_1-rmse:0.96269\n",
      "[8]\tvalidation_0-rmse:0.94298\tvalidation_1-rmse:0.96105\n",
      "[9]\tvalidation_0-rmse:0.94084\tvalidation_1-rmse:0.96024\n",
      "[10]\tvalidation_0-rmse:0.93955\tvalidation_1-rmse:0.95925\n",
      "[11]\tvalidation_0-rmse:0.93869\tvalidation_1-rmse:0.95765\n",
      "[12]\tvalidation_0-rmse:0.93688\tvalidation_1-rmse:0.95738\n",
      "[13]\tvalidation_0-rmse:0.93585\tvalidation_1-rmse:0.95705\n",
      "[14]\tvalidation_0-rmse:0.93470\tvalidation_1-rmse:0.95604\n",
      "[15]\tvalidation_0-rmse:0.93383\tvalidation_1-rmse:0.95546\n",
      "[16]\tvalidation_0-rmse:0.93327\tvalidation_1-rmse:0.95511\n",
      "[17]\tvalidation_0-rmse:0.93234\tvalidation_1-rmse:0.95450\n",
      "[18]\tvalidation_0-rmse:0.93149\tvalidation_1-rmse:0.95464\n",
      "[19]\tvalidation_0-rmse:0.93055\tvalidation_1-rmse:0.95407\n",
      "[20]\tvalidation_0-rmse:0.92992\tvalidation_1-rmse:0.95433\n",
      "[21]\tvalidation_0-rmse:0.92912\tvalidation_1-rmse:0.95216\n",
      "[22]\tvalidation_0-rmse:0.92823\tvalidation_1-rmse:0.95197\n",
      "[23]\tvalidation_0-rmse:0.92780\tvalidation_1-rmse:0.95242\n",
      "[24]\tvalidation_0-rmse:0.92723\tvalidation_1-rmse:0.95192\n",
      "[25]\tvalidation_0-rmse:0.92692\tvalidation_1-rmse:0.95121\n",
      "[26]\tvalidation_0-rmse:0.92659\tvalidation_1-rmse:0.95139\n",
      "[27]\tvalidation_0-rmse:0.92555\tvalidation_1-rmse:0.95140\n",
      "[28]\tvalidation_0-rmse:0.92478\tvalidation_1-rmse:0.95129\n",
      "[29]\tvalidation_0-rmse:0.92444\tvalidation_1-rmse:0.95087\n",
      "[30]\tvalidation_0-rmse:0.92423\tvalidation_1-rmse:0.95050\n",
      "[31]\tvalidation_0-rmse:0.92386\tvalidation_1-rmse:0.95056\n",
      "[32]\tvalidation_0-rmse:0.92367\tvalidation_1-rmse:0.95088\n",
      "[33]\tvalidation_0-rmse:0.92346\tvalidation_1-rmse:0.95068\n",
      "[34]\tvalidation_0-rmse:0.92316\tvalidation_1-rmse:0.95054\n",
      "[35]\tvalidation_0-rmse:0.92258\tvalidation_1-rmse:0.95010\n",
      "[36]\tvalidation_0-rmse:0.92211\tvalidation_1-rmse:0.95003\n",
      "[37]\tvalidation_0-rmse:0.92177\tvalidation_1-rmse:0.95005\n",
      "[38]\tvalidation_0-rmse:0.92146\tvalidation_1-rmse:0.94997\n",
      "[39]\tvalidation_0-rmse:0.92116\tvalidation_1-rmse:0.94981\n",
      "[40]\tvalidation_0-rmse:0.92086\tvalidation_1-rmse:0.94975\n",
      "[41]\tvalidation_0-rmse:0.92057\tvalidation_1-rmse:0.95007\n",
      "[42]\tvalidation_0-rmse:0.92025\tvalidation_1-rmse:0.95017\n",
      "[43]\tvalidation_0-rmse:0.91991\tvalidation_1-rmse:0.95052\n",
      "[44]\tvalidation_0-rmse:0.91978\tvalidation_1-rmse:0.95034\n"
     ]
    },
    {
     "name": "stderr",
     "output_type": "stream",
     "text": [
      "D:\\Anaconda\\lib\\site-packages\\xgboost\\data.py:112: UserWarning: Use subset (sliced data) of np.ndarray is not recommended because it will generate extra copies and increase memory consumption\n",
      "  warnings.warn(\n"
     ]
    },
    {
     "name": "stdout",
     "output_type": "stream",
     "text": [
      "[0]\tvalidation_0-rmse:1.11042\tvalidation_1-rmse:1.06895\n",
      "[1]\tvalidation_0-rmse:1.05455\tvalidation_1-rmse:1.02395\n",
      "[2]\tvalidation_0-rmse:1.00740\tvalidation_1-rmse:0.99376\n",
      "[3]\tvalidation_0-rmse:0.98305\tvalidation_1-rmse:0.97806\n",
      "[4]\tvalidation_0-rmse:0.96580\tvalidation_1-rmse:0.97003\n",
      "[5]\tvalidation_0-rmse:0.95721\tvalidation_1-rmse:0.96628\n",
      "[6]\tvalidation_0-rmse:0.95059\tvalidation_1-rmse:0.96244\n",
      "[7]\tvalidation_0-rmse:0.94659\tvalidation_1-rmse:0.96170\n",
      "[8]\tvalidation_0-rmse:0.94362\tvalidation_1-rmse:0.95965\n",
      "[9]\tvalidation_0-rmse:0.94135\tvalidation_1-rmse:0.95852\n",
      "[10]\tvalidation_0-rmse:0.94003\tvalidation_1-rmse:0.95825\n",
      "[11]\tvalidation_0-rmse:0.93903\tvalidation_1-rmse:0.95700\n",
      "[12]\tvalidation_0-rmse:0.93817\tvalidation_1-rmse:0.95613\n",
      "[13]\tvalidation_0-rmse:0.93669\tvalidation_1-rmse:0.95611\n",
      "[14]\tvalidation_0-rmse:0.93568\tvalidation_1-rmse:0.95603\n",
      "[15]\tvalidation_0-rmse:0.93509\tvalidation_1-rmse:0.95581\n",
      "[16]\tvalidation_0-rmse:0.93418\tvalidation_1-rmse:0.95576\n",
      "[17]\tvalidation_0-rmse:0.93301\tvalidation_1-rmse:0.95398\n",
      "[18]\tvalidation_0-rmse:0.93209\tvalidation_1-rmse:0.95393\n",
      "[19]\tvalidation_0-rmse:0.93152\tvalidation_1-rmse:0.95383\n",
      "[20]\tvalidation_0-rmse:0.93084\tvalidation_1-rmse:0.95384\n",
      "[21]\tvalidation_0-rmse:0.93022\tvalidation_1-rmse:0.95293\n",
      "[22]\tvalidation_0-rmse:0.92971\tvalidation_1-rmse:0.95278\n",
      "[23]\tvalidation_0-rmse:0.92901\tvalidation_1-rmse:0.95264\n",
      "[24]\tvalidation_0-rmse:0.92862\tvalidation_1-rmse:0.95187\n",
      "[25]\tvalidation_0-rmse:0.92806\tvalidation_1-rmse:0.95169\n",
      "[26]\tvalidation_0-rmse:0.92721\tvalidation_1-rmse:0.95122\n",
      "[27]\tvalidation_0-rmse:0.92640\tvalidation_1-rmse:0.95115\n",
      "[28]\tvalidation_0-rmse:0.92570\tvalidation_1-rmse:0.95166\n",
      "[29]\tvalidation_0-rmse:0.92525\tvalidation_1-rmse:0.95213\n",
      "[30]\tvalidation_0-rmse:0.92508\tvalidation_1-rmse:0.95171\n",
      "[31]\tvalidation_0-rmse:0.92470\tvalidation_1-rmse:0.95159\n"
     ]
    },
    {
     "name": "stderr",
     "output_type": "stream",
     "text": [
      "D:\\Anaconda\\lib\\site-packages\\xgboost\\data.py:112: UserWarning: Use subset (sliced data) of np.ndarray is not recommended because it will generate extra copies and increase memory consumption\n",
      "  warnings.warn(\n"
     ]
    },
    {
     "name": "stdout",
     "output_type": "stream",
     "text": [
      "[0]\tvalidation_0-rmse:1.10904\tvalidation_1-rmse:1.06812\n",
      "[1]\tvalidation_0-rmse:1.05141\tvalidation_1-rmse:1.02510\n",
      "[2]\tvalidation_0-rmse:1.00461\tvalidation_1-rmse:0.99503\n",
      "[3]\tvalidation_0-rmse:0.98102\tvalidation_1-rmse:0.98109\n",
      "[4]\tvalidation_0-rmse:0.96417\tvalidation_1-rmse:0.97187\n",
      "[5]\tvalidation_0-rmse:0.95472\tvalidation_1-rmse:0.96825\n",
      "[6]\tvalidation_0-rmse:0.94863\tvalidation_1-rmse:0.96508\n",
      "[7]\tvalidation_0-rmse:0.94417\tvalidation_1-rmse:0.96382\n",
      "[8]\tvalidation_0-rmse:0.94226\tvalidation_1-rmse:0.96306\n",
      "[9]\tvalidation_0-rmse:0.93996\tvalidation_1-rmse:0.96244\n",
      "[10]\tvalidation_0-rmse:0.93900\tvalidation_1-rmse:0.96207\n",
      "[11]\tvalidation_0-rmse:0.93807\tvalidation_1-rmse:0.96098\n",
      "[12]\tvalidation_0-rmse:0.93709\tvalidation_1-rmse:0.96047\n",
      "[13]\tvalidation_0-rmse:0.93573\tvalidation_1-rmse:0.96047\n",
      "[14]\tvalidation_0-rmse:0.93445\tvalidation_1-rmse:0.95951\n",
      "[15]\tvalidation_0-rmse:0.93338\tvalidation_1-rmse:0.95859\n",
      "[16]\tvalidation_0-rmse:0.93268\tvalidation_1-rmse:0.95866\n",
      "[17]\tvalidation_0-rmse:0.93184\tvalidation_1-rmse:0.95775\n",
      "[18]\tvalidation_0-rmse:0.93121\tvalidation_1-rmse:0.95755\n",
      "[19]\tvalidation_0-rmse:0.93068\tvalidation_1-rmse:0.95709\n",
      "[20]\tvalidation_0-rmse:0.92932\tvalidation_1-rmse:0.95498\n",
      "[21]\tvalidation_0-rmse:0.92871\tvalidation_1-rmse:0.95365\n",
      "[22]\tvalidation_0-rmse:0.92799\tvalidation_1-rmse:0.95339\n",
      "[23]\tvalidation_0-rmse:0.92749\tvalidation_1-rmse:0.95335\n",
      "[24]\tvalidation_0-rmse:0.92677\tvalidation_1-rmse:0.95326\n",
      "[25]\tvalidation_0-rmse:0.92649\tvalidation_1-rmse:0.95296\n",
      "[26]\tvalidation_0-rmse:0.92616\tvalidation_1-rmse:0.95238\n",
      "[27]\tvalidation_0-rmse:0.92557\tvalidation_1-rmse:0.95221\n",
      "[28]\tvalidation_0-rmse:0.92502\tvalidation_1-rmse:0.95244\n",
      "[29]\tvalidation_0-rmse:0.92483\tvalidation_1-rmse:0.95256\n",
      "[30]\tvalidation_0-rmse:0.92420\tvalidation_1-rmse:0.95169\n",
      "[31]\tvalidation_0-rmse:0.92380\tvalidation_1-rmse:0.95095\n",
      "[32]\tvalidation_0-rmse:0.92341\tvalidation_1-rmse:0.95025\n",
      "[33]\tvalidation_0-rmse:0.92278\tvalidation_1-rmse:0.94961\n",
      "[34]\tvalidation_0-rmse:0.92247\tvalidation_1-rmse:0.94961\n",
      "[35]\tvalidation_0-rmse:0.92175\tvalidation_1-rmse:0.94911\n",
      "[36]\tvalidation_0-rmse:0.92114\tvalidation_1-rmse:0.94908\n",
      "[37]\tvalidation_0-rmse:0.92083\tvalidation_1-rmse:0.94867\n",
      "[38]\tvalidation_0-rmse:0.92054\tvalidation_1-rmse:0.94850\n",
      "[39]\tvalidation_0-rmse:0.92021\tvalidation_1-rmse:0.94859\n",
      "[40]\tvalidation_0-rmse:0.91982\tvalidation_1-rmse:0.94867\n",
      "[41]\tvalidation_0-rmse:0.91949\tvalidation_1-rmse:0.94837\n",
      "[42]\tvalidation_0-rmse:0.91923\tvalidation_1-rmse:0.94795\n",
      "[43]\tvalidation_0-rmse:0.91896\tvalidation_1-rmse:0.94782\n",
      "[44]\tvalidation_0-rmse:0.91853\tvalidation_1-rmse:0.94615\n",
      "[45]\tvalidation_0-rmse:0.91828\tvalidation_1-rmse:0.94605\n",
      "[46]\tvalidation_0-rmse:0.91814\tvalidation_1-rmse:0.94673\n",
      "[47]\tvalidation_0-rmse:0.91777\tvalidation_1-rmse:0.94649\n",
      "[48]\tvalidation_0-rmse:0.91754\tvalidation_1-rmse:0.94621\n",
      "[49]\tvalidation_0-rmse:0.91699\tvalidation_1-rmse:0.94539\n",
      "[50]\tvalidation_0-rmse:0.91658\tvalidation_1-rmse:0.94527\n",
      "[51]\tvalidation_0-rmse:0.91640\tvalidation_1-rmse:0.94522\n",
      "[52]\tvalidation_0-rmse:0.91616\tvalidation_1-rmse:0.94450\n",
      "[53]\tvalidation_0-rmse:0.91607\tvalidation_1-rmse:0.94437\n",
      "[54]\tvalidation_0-rmse:0.91587\tvalidation_1-rmse:0.94415\n",
      "[55]\tvalidation_0-rmse:0.91564\tvalidation_1-rmse:0.94427\n",
      "[56]\tvalidation_0-rmse:0.91523\tvalidation_1-rmse:0.94427\n",
      "[57]\tvalidation_0-rmse:0.91501\tvalidation_1-rmse:0.94409\n",
      "[58]\tvalidation_0-rmse:0.91462\tvalidation_1-rmse:0.94405\n",
      "[59]\tvalidation_0-rmse:0.91448\tvalidation_1-rmse:0.94376\n",
      "[60]\tvalidation_0-rmse:0.91422\tvalidation_1-rmse:0.94353\n",
      "[61]\tvalidation_0-rmse:0.91411\tvalidation_1-rmse:0.94345\n",
      "[62]\tvalidation_0-rmse:0.91395\tvalidation_1-rmse:0.94339\n",
      "[63]\tvalidation_0-rmse:0.91376\tvalidation_1-rmse:0.94356\n",
      "[64]\tvalidation_0-rmse:0.91356\tvalidation_1-rmse:0.94339\n",
      "[65]\tvalidation_0-rmse:0.91343\tvalidation_1-rmse:0.94324\n",
      "[66]\tvalidation_0-rmse:0.91333\tvalidation_1-rmse:0.94329\n",
      "[67]\tvalidation_0-rmse:0.91323\tvalidation_1-rmse:0.94333\n",
      "[68]\tvalidation_0-rmse:0.91304\tvalidation_1-rmse:0.94319\n",
      "[69]\tvalidation_0-rmse:0.91287\tvalidation_1-rmse:0.94265\n",
      "[70]\tvalidation_0-rmse:0.91263\tvalidation_1-rmse:0.94215\n",
      "[71]\tvalidation_0-rmse:0.91247\tvalidation_1-rmse:0.94170\n",
      "[72]\tvalidation_0-rmse:0.91222\tvalidation_1-rmse:0.94166\n",
      "[73]\tvalidation_0-rmse:0.91204\tvalidation_1-rmse:0.94192\n",
      "[74]\tvalidation_0-rmse:0.91185\tvalidation_1-rmse:0.94177\n",
      "[75]\tvalidation_0-rmse:0.91172\tvalidation_1-rmse:0.94175\n",
      "[76]\tvalidation_0-rmse:0.91140\tvalidation_1-rmse:0.94161\n",
      "[77]\tvalidation_0-rmse:0.91112\tvalidation_1-rmse:0.94166\n",
      "[78]\tvalidation_0-rmse:0.91099\tvalidation_1-rmse:0.94166\n",
      "[79]\tvalidation_0-rmse:0.91075\tvalidation_1-rmse:0.94161\n",
      "[80]\tvalidation_0-rmse:0.91033\tvalidation_1-rmse:0.94139\n",
      "[81]\tvalidation_0-rmse:0.91022\tvalidation_1-rmse:0.94124\n",
      "[82]\tvalidation_0-rmse:0.91013\tvalidation_1-rmse:0.94125\n",
      "[83]\tvalidation_0-rmse:0.91008\tvalidation_1-rmse:0.94122\n",
      "[84]\tvalidation_0-rmse:0.90996\tvalidation_1-rmse:0.94135\n",
      "[85]\tvalidation_0-rmse:0.90976\tvalidation_1-rmse:0.94137\n",
      "[86]\tvalidation_0-rmse:0.90960\tvalidation_1-rmse:0.94087\n",
      "[87]\tvalidation_0-rmse:0.90944\tvalidation_1-rmse:0.94094\n",
      "[88]\tvalidation_0-rmse:0.90929\tvalidation_1-rmse:0.94082\n",
      "[89]\tvalidation_0-rmse:0.90920\tvalidation_1-rmse:0.94078\n",
      "[90]\tvalidation_0-rmse:0.90914\tvalidation_1-rmse:0.94070\n",
      "[91]\tvalidation_0-rmse:0.90904\tvalidation_1-rmse:0.94062\n",
      "[92]\tvalidation_0-rmse:0.90879\tvalidation_1-rmse:0.94065\n",
      "[93]\tvalidation_0-rmse:0.90857\tvalidation_1-rmse:0.94076\n",
      "[94]\tvalidation_0-rmse:0.90843\tvalidation_1-rmse:0.94067\n",
      "[95]\tvalidation_0-rmse:0.90835\tvalidation_1-rmse:0.94072\n",
      "[96]\tvalidation_0-rmse:0.90819\tvalidation_1-rmse:0.94036\n",
      "[97]\tvalidation_0-rmse:0.90799\tvalidation_1-rmse:0.94044\n",
      "[98]\tvalidation_0-rmse:0.90774\tvalidation_1-rmse:0.94073\n",
      "[99]\tvalidation_0-rmse:0.90766\tvalidation_1-rmse:0.94098\n"
     ]
    },
    {
     "name": "stderr",
     "output_type": "stream",
     "text": [
      "D:\\Anaconda\\lib\\site-packages\\xgboost\\data.py:112: UserWarning: Use subset (sliced data) of np.ndarray is not recommended because it will generate extra copies and increase memory consumption\n",
      "  warnings.warn(\n"
     ]
    },
    {
     "name": "stdout",
     "output_type": "stream",
     "text": [
      "[0]\tvalidation_0-rmse:1.10976\tvalidation_1-rmse:1.06909\n",
      "[1]\tvalidation_0-rmse:1.05235\tvalidation_1-rmse:1.02604\n",
      "[2]\tvalidation_0-rmse:1.00678\tvalidation_1-rmse:0.99581\n",
      "[3]\tvalidation_0-rmse:0.98225\tvalidation_1-rmse:0.98097\n",
      "[4]\tvalidation_0-rmse:0.96527\tvalidation_1-rmse:0.97160\n",
      "[5]\tvalidation_0-rmse:0.95627\tvalidation_1-rmse:0.96777\n",
      "[6]\tvalidation_0-rmse:0.95026\tvalidation_1-rmse:0.96432\n",
      "[7]\tvalidation_0-rmse:0.94549\tvalidation_1-rmse:0.96304\n",
      "[8]\tvalidation_0-rmse:0.94300\tvalidation_1-rmse:0.96186\n",
      "[9]\tvalidation_0-rmse:0.94063\tvalidation_1-rmse:0.96116\n",
      "[10]\tvalidation_0-rmse:0.93919\tvalidation_1-rmse:0.96020\n",
      "[11]\tvalidation_0-rmse:0.93820\tvalidation_1-rmse:0.95857\n",
      "[12]\tvalidation_0-rmse:0.93690\tvalidation_1-rmse:0.95737\n",
      "[13]\tvalidation_0-rmse:0.93533\tvalidation_1-rmse:0.95748\n",
      "[14]\tvalidation_0-rmse:0.93409\tvalidation_1-rmse:0.95586\n",
      "[15]\tvalidation_0-rmse:0.93336\tvalidation_1-rmse:0.95476\n",
      "[16]\tvalidation_0-rmse:0.93279\tvalidation_1-rmse:0.95473\n",
      "[17]\tvalidation_0-rmse:0.93208\tvalidation_1-rmse:0.95448\n",
      "[18]\tvalidation_0-rmse:0.93133\tvalidation_1-rmse:0.95442\n",
      "[19]\tvalidation_0-rmse:0.93049\tvalidation_1-rmse:0.95276\n",
      "[20]\tvalidation_0-rmse:0.92965\tvalidation_1-rmse:0.95307\n",
      "[21]\tvalidation_0-rmse:0.92880\tvalidation_1-rmse:0.95114\n",
      "[22]\tvalidation_0-rmse:0.92817\tvalidation_1-rmse:0.95139\n",
      "[23]\tvalidation_0-rmse:0.92744\tvalidation_1-rmse:0.95129\n",
      "[24]\tvalidation_0-rmse:0.92688\tvalidation_1-rmse:0.95278\n",
      "[25]\tvalidation_0-rmse:0.92660\tvalidation_1-rmse:0.95221\n",
      "[26]\tvalidation_0-rmse:0.92616\tvalidation_1-rmse:0.95172\n"
     ]
    },
    {
     "name": "stderr",
     "output_type": "stream",
     "text": [
      "D:\\Anaconda\\lib\\site-packages\\xgboost\\data.py:112: UserWarning: Use subset (sliced data) of np.ndarray is not recommended because it will generate extra copies and increase memory consumption\n",
      "  warnings.warn(\n"
     ]
    },
    {
     "name": "stdout",
     "output_type": "stream",
     "text": [
      "[0]\tvalidation_0-rmse:1.10869\tvalidation_1-rmse:1.06859\n"
     ]
    },
    {
     "name": "stderr",
     "output_type": "stream",
     "text": [
      "D:\\Anaconda\\lib\\site-packages\\xgboost\\data.py:112: UserWarning: Use subset (sliced data) of np.ndarray is not recommended because it will generate extra copies and increase memory consumption\n",
      "  warnings.warn(\n"
     ]
    },
    {
     "name": "stdout",
     "output_type": "stream",
     "text": [
      "[0]\tvalidation_0-rmse:1.10892\tvalidation_1-rmse:1.06833\n"
     ]
    },
    {
     "name": "stderr",
     "output_type": "stream",
     "text": [
      "D:\\Anaconda\\lib\\site-packages\\xgboost\\data.py:112: UserWarning: Use subset (sliced data) of np.ndarray is not recommended because it will generate extra copies and increase memory consumption\n",
      "  warnings.warn(\n"
     ]
    },
    {
     "name": "stdout",
     "output_type": "stream",
     "text": [
      "[0]\tvalidation_0-rmse:1.11042\tvalidation_1-rmse:1.06895\n"
     ]
    },
    {
     "name": "stderr",
     "output_type": "stream",
     "text": [
      "D:\\Anaconda\\lib\\site-packages\\xgboost\\data.py:112: UserWarning: Use subset (sliced data) of np.ndarray is not recommended because it will generate extra copies and increase memory consumption\n",
      "  warnings.warn(\n"
     ]
    },
    {
     "name": "stdout",
     "output_type": "stream",
     "text": [
      "[0]\tvalidation_0-rmse:1.10904\tvalidation_1-rmse:1.06812\n"
     ]
    },
    {
     "name": "stderr",
     "output_type": "stream",
     "text": [
      "D:\\Anaconda\\lib\\site-packages\\xgboost\\data.py:112: UserWarning: Use subset (sliced data) of np.ndarray is not recommended because it will generate extra copies and increase memory consumption\n",
      "  warnings.warn(\n"
     ]
    },
    {
     "name": "stdout",
     "output_type": "stream",
     "text": [
      "[0]\tvalidation_0-rmse:1.10976\tvalidation_1-rmse:1.06909\n"
     ]
    },
    {
     "name": "stderr",
     "output_type": "stream",
     "text": [
      "D:\\Anaconda\\lib\\site-packages\\xgboost\\data.py:112: UserWarning: Use subset (sliced data) of np.ndarray is not recommended because it will generate extra copies and increase memory consumption\n",
      "  warnings.warn(\n"
     ]
    },
    {
     "name": "stdout",
     "output_type": "stream",
     "text": [
      "[0]\tvalidation_0-rmse:1.10869\tvalidation_1-rmse:1.06859\n",
      "[1]\tvalidation_0-rmse:1.05006\tvalidation_1-rmse:1.02564\n",
      "[2]\tvalidation_0-rmse:1.00500\tvalidation_1-rmse:0.99574\n",
      "[3]\tvalidation_0-rmse:0.98023\tvalidation_1-rmse:0.97996\n",
      "[4]\tvalidation_0-rmse:0.96401\tvalidation_1-rmse:0.97273\n",
      "[5]\tvalidation_0-rmse:0.95500\tvalidation_1-rmse:0.96850\n",
      "[6]\tvalidation_0-rmse:0.94934\tvalidation_1-rmse:0.96506\n",
      "[7]\tvalidation_0-rmse:0.94552\tvalidation_1-rmse:0.96448\n",
      "[8]\tvalidation_0-rmse:0.94276\tvalidation_1-rmse:0.96230\n",
      "[9]\tvalidation_0-rmse:0.94076\tvalidation_1-rmse:0.96150\n"
     ]
    },
    {
     "name": "stderr",
     "output_type": "stream",
     "text": [
      "D:\\Anaconda\\lib\\site-packages\\xgboost\\data.py:112: UserWarning: Use subset (sliced data) of np.ndarray is not recommended because it will generate extra copies and increase memory consumption\n",
      "  warnings.warn(\n"
     ]
    },
    {
     "name": "stdout",
     "output_type": "stream",
     "text": [
      "[0]\tvalidation_0-rmse:1.10892\tvalidation_1-rmse:1.06833\n",
      "[1]\tvalidation_0-rmse:1.05168\tvalidation_1-rmse:1.02557\n",
      "[2]\tvalidation_0-rmse:1.00587\tvalidation_1-rmse:0.99507\n",
      "[3]\tvalidation_0-rmse:0.98201\tvalidation_1-rmse:0.97981\n",
      "[4]\tvalidation_0-rmse:0.96534\tvalidation_1-rmse:0.97133\n",
      "[5]\tvalidation_0-rmse:0.95631\tvalidation_1-rmse:0.96677\n",
      "[6]\tvalidation_0-rmse:0.94967\tvalidation_1-rmse:0.96371\n",
      "[7]\tvalidation_0-rmse:0.94585\tvalidation_1-rmse:0.96271\n",
      "[8]\tvalidation_0-rmse:0.94305\tvalidation_1-rmse:0.96095\n",
      "[9]\tvalidation_0-rmse:0.94095\tvalidation_1-rmse:0.95977\n"
     ]
    },
    {
     "name": "stderr",
     "output_type": "stream",
     "text": [
      "D:\\Anaconda\\lib\\site-packages\\xgboost\\data.py:112: UserWarning: Use subset (sliced data) of np.ndarray is not recommended because it will generate extra copies and increase memory consumption\n",
      "  warnings.warn(\n"
     ]
    },
    {
     "name": "stdout",
     "output_type": "stream",
     "text": [
      "[0]\tvalidation_0-rmse:1.11042\tvalidation_1-rmse:1.06895\n",
      "[1]\tvalidation_0-rmse:1.05455\tvalidation_1-rmse:1.02395\n",
      "[2]\tvalidation_0-rmse:1.00750\tvalidation_1-rmse:0.99394\n",
      "[3]\tvalidation_0-rmse:0.98317\tvalidation_1-rmse:0.97899\n",
      "[4]\tvalidation_0-rmse:0.96593\tvalidation_1-rmse:0.97053\n",
      "[5]\tvalidation_0-rmse:0.95732\tvalidation_1-rmse:0.96656\n",
      "[6]\tvalidation_0-rmse:0.95068\tvalidation_1-rmse:0.96261\n",
      "[7]\tvalidation_0-rmse:0.94671\tvalidation_1-rmse:0.96156\n",
      "[8]\tvalidation_0-rmse:0.94374\tvalidation_1-rmse:0.95948\n",
      "[9]\tvalidation_0-rmse:0.94147\tvalidation_1-rmse:0.95829\n"
     ]
    },
    {
     "name": "stderr",
     "output_type": "stream",
     "text": [
      "D:\\Anaconda\\lib\\site-packages\\xgboost\\data.py:112: UserWarning: Use subset (sliced data) of np.ndarray is not recommended because it will generate extra copies and increase memory consumption\n",
      "  warnings.warn(\n"
     ]
    },
    {
     "name": "stdout",
     "output_type": "stream",
     "text": [
      "[0]\tvalidation_0-rmse:1.10904\tvalidation_1-rmse:1.06812\n",
      "[1]\tvalidation_0-rmse:1.05141\tvalidation_1-rmse:1.02510\n",
      "[2]\tvalidation_0-rmse:1.00459\tvalidation_1-rmse:0.99536\n",
      "[3]\tvalidation_0-rmse:0.98101\tvalidation_1-rmse:0.98136\n",
      "[4]\tvalidation_0-rmse:0.96419\tvalidation_1-rmse:0.97253\n",
      "[5]\tvalidation_0-rmse:0.95479\tvalidation_1-rmse:0.96901\n",
      "[6]\tvalidation_0-rmse:0.94872\tvalidation_1-rmse:0.96583\n",
      "[7]\tvalidation_0-rmse:0.94423\tvalidation_1-rmse:0.96447\n",
      "[8]\tvalidation_0-rmse:0.94230\tvalidation_1-rmse:0.96338\n",
      "[9]\tvalidation_0-rmse:0.93996\tvalidation_1-rmse:0.96263\n"
     ]
    },
    {
     "name": "stderr",
     "output_type": "stream",
     "text": [
      "D:\\Anaconda\\lib\\site-packages\\xgboost\\data.py:112: UserWarning: Use subset (sliced data) of np.ndarray is not recommended because it will generate extra copies and increase memory consumption\n",
      "  warnings.warn(\n"
     ]
    },
    {
     "name": "stdout",
     "output_type": "stream",
     "text": [
      "[0]\tvalidation_0-rmse:1.10976\tvalidation_1-rmse:1.06909\n",
      "[1]\tvalidation_0-rmse:1.05235\tvalidation_1-rmse:1.02604\n",
      "[2]\tvalidation_0-rmse:1.00678\tvalidation_1-rmse:0.99581\n",
      "[3]\tvalidation_0-rmse:0.98225\tvalidation_1-rmse:0.98097\n",
      "[4]\tvalidation_0-rmse:0.96530\tvalidation_1-rmse:0.97162\n",
      "[5]\tvalidation_0-rmse:0.95632\tvalidation_1-rmse:0.96779\n",
      "[6]\tvalidation_0-rmse:0.95047\tvalidation_1-rmse:0.96434\n",
      "[7]\tvalidation_0-rmse:0.94574\tvalidation_1-rmse:0.96381\n",
      "[8]\tvalidation_0-rmse:0.94304\tvalidation_1-rmse:0.96202\n",
      "[9]\tvalidation_0-rmse:0.94088\tvalidation_1-rmse:0.96061\n"
     ]
    },
    {
     "name": "stderr",
     "output_type": "stream",
     "text": [
      "D:\\Anaconda\\lib\\site-packages\\xgboost\\data.py:112: UserWarning: Use subset (sliced data) of np.ndarray is not recommended because it will generate extra copies and increase memory consumption\n",
      "  warnings.warn(\n"
     ]
    },
    {
     "name": "stdout",
     "output_type": "stream",
     "text": [
      "[0]\tvalidation_0-rmse:1.10869\tvalidation_1-rmse:1.06859\n",
      "[1]\tvalidation_0-rmse:1.05006\tvalidation_1-rmse:1.02564\n",
      "[2]\tvalidation_0-rmse:1.00500\tvalidation_1-rmse:0.99574\n",
      "[3]\tvalidation_0-rmse:0.98023\tvalidation_1-rmse:0.97996\n",
      "[4]\tvalidation_0-rmse:0.96401\tvalidation_1-rmse:0.97273\n",
      "[5]\tvalidation_0-rmse:0.95500\tvalidation_1-rmse:0.96850\n",
      "[6]\tvalidation_0-rmse:0.94934\tvalidation_1-rmse:0.96506\n",
      "[7]\tvalidation_0-rmse:0.94552\tvalidation_1-rmse:0.96448\n",
      "[8]\tvalidation_0-rmse:0.94276\tvalidation_1-rmse:0.96230\n",
      "[9]\tvalidation_0-rmse:0.94076\tvalidation_1-rmse:0.96150\n",
      "[10]\tvalidation_0-rmse:0.93940\tvalidation_1-rmse:0.95985\n",
      "[11]\tvalidation_0-rmse:0.93851\tvalidation_1-rmse:0.95900\n",
      "[12]\tvalidation_0-rmse:0.93743\tvalidation_1-rmse:0.95791\n",
      "[13]\tvalidation_0-rmse:0.93587\tvalidation_1-rmse:0.95798\n",
      "[14]\tvalidation_0-rmse:0.93458\tvalidation_1-rmse:0.95675\n",
      "[15]\tvalidation_0-rmse:0.93325\tvalidation_1-rmse:0.95619\n",
      "[16]\tvalidation_0-rmse:0.93187\tvalidation_1-rmse:0.95526\n",
      "[17]\tvalidation_0-rmse:0.93086\tvalidation_1-rmse:0.95422\n",
      "[18]\tvalidation_0-rmse:0.93025\tvalidation_1-rmse:0.95398\n",
      "[19]\tvalidation_0-rmse:0.92971\tvalidation_1-rmse:0.95389\n",
      "[20]\tvalidation_0-rmse:0.92884\tvalidation_1-rmse:0.95342\n",
      "[21]\tvalidation_0-rmse:0.92833\tvalidation_1-rmse:0.95246\n",
      "[22]\tvalidation_0-rmse:0.92762\tvalidation_1-rmse:0.95296\n",
      "[23]\tvalidation_0-rmse:0.92710\tvalidation_1-rmse:0.95289\n",
      "[24]\tvalidation_0-rmse:0.92656\tvalidation_1-rmse:0.95252\n",
      "[25]\tvalidation_0-rmse:0.92619\tvalidation_1-rmse:0.95186\n",
      "[26]\tvalidation_0-rmse:0.92544\tvalidation_1-rmse:0.95139\n",
      "[27]\tvalidation_0-rmse:0.92517\tvalidation_1-rmse:0.95143\n",
      "[28]\tvalidation_0-rmse:0.92470\tvalidation_1-rmse:0.95191\n",
      "[29]\tvalidation_0-rmse:0.92438\tvalidation_1-rmse:0.95198\n",
      "[30]\tvalidation_0-rmse:0.92381\tvalidation_1-rmse:0.95124\n",
      "[31]\tvalidation_0-rmse:0.92336\tvalidation_1-rmse:0.95103\n",
      "[32]\tvalidation_0-rmse:0.92279\tvalidation_1-rmse:0.95022\n",
      "[33]\tvalidation_0-rmse:0.92216\tvalidation_1-rmse:0.94891\n",
      "[34]\tvalidation_0-rmse:0.92201\tvalidation_1-rmse:0.94882\n",
      "[35]\tvalidation_0-rmse:0.92157\tvalidation_1-rmse:0.94886\n",
      "[36]\tvalidation_0-rmse:0.92117\tvalidation_1-rmse:0.94978\n",
      "[37]\tvalidation_0-rmse:0.92087\tvalidation_1-rmse:0.94934\n",
      "[38]\tvalidation_0-rmse:0.92044\tvalidation_1-rmse:0.94956\n"
     ]
    },
    {
     "name": "stderr",
     "output_type": "stream",
     "text": [
      "D:\\Anaconda\\lib\\site-packages\\xgboost\\data.py:112: UserWarning: Use subset (sliced data) of np.ndarray is not recommended because it will generate extra copies and increase memory consumption\n",
      "  warnings.warn(\n"
     ]
    },
    {
     "name": "stdout",
     "output_type": "stream",
     "text": [
      "[0]\tvalidation_0-rmse:1.10892\tvalidation_1-rmse:1.06833\n",
      "[1]\tvalidation_0-rmse:1.05168\tvalidation_1-rmse:1.02557\n",
      "[2]\tvalidation_0-rmse:1.00587\tvalidation_1-rmse:0.99507\n",
      "[3]\tvalidation_0-rmse:0.98201\tvalidation_1-rmse:0.97981\n",
      "[4]\tvalidation_0-rmse:0.96534\tvalidation_1-rmse:0.97133\n",
      "[5]\tvalidation_0-rmse:0.95631\tvalidation_1-rmse:0.96677\n",
      "[6]\tvalidation_0-rmse:0.94967\tvalidation_1-rmse:0.96371\n",
      "[7]\tvalidation_0-rmse:0.94585\tvalidation_1-rmse:0.96271\n",
      "[8]\tvalidation_0-rmse:0.94305\tvalidation_1-rmse:0.96095\n",
      "[9]\tvalidation_0-rmse:0.94095\tvalidation_1-rmse:0.95977\n",
      "[10]\tvalidation_0-rmse:0.93959\tvalidation_1-rmse:0.95825\n",
      "[11]\tvalidation_0-rmse:0.93878\tvalidation_1-rmse:0.95696\n",
      "[12]\tvalidation_0-rmse:0.93696\tvalidation_1-rmse:0.95665\n",
      "[13]\tvalidation_0-rmse:0.93570\tvalidation_1-rmse:0.95626\n",
      "[14]\tvalidation_0-rmse:0.93445\tvalidation_1-rmse:0.95497\n",
      "[15]\tvalidation_0-rmse:0.93368\tvalidation_1-rmse:0.95479\n",
      "[16]\tvalidation_0-rmse:0.93277\tvalidation_1-rmse:0.95479\n",
      "[17]\tvalidation_0-rmse:0.93197\tvalidation_1-rmse:0.95324\n",
      "[18]\tvalidation_0-rmse:0.93119\tvalidation_1-rmse:0.95323\n",
      "[19]\tvalidation_0-rmse:0.93034\tvalidation_1-rmse:0.95274\n",
      "[20]\tvalidation_0-rmse:0.92964\tvalidation_1-rmse:0.95231\n",
      "[21]\tvalidation_0-rmse:0.92868\tvalidation_1-rmse:0.95157\n",
      "[22]\tvalidation_0-rmse:0.92794\tvalidation_1-rmse:0.95147\n",
      "[23]\tvalidation_0-rmse:0.92746\tvalidation_1-rmse:0.95102\n",
      "[24]\tvalidation_0-rmse:0.92673\tvalidation_1-rmse:0.95087\n",
      "[25]\tvalidation_0-rmse:0.92647\tvalidation_1-rmse:0.94988\n",
      "[26]\tvalidation_0-rmse:0.92577\tvalidation_1-rmse:0.94883\n",
      "[27]\tvalidation_0-rmse:0.92531\tvalidation_1-rmse:0.94810\n",
      "[28]\tvalidation_0-rmse:0.92497\tvalidation_1-rmse:0.94834\n",
      "[29]\tvalidation_0-rmse:0.92439\tvalidation_1-rmse:0.94817\n",
      "[30]\tvalidation_0-rmse:0.92402\tvalidation_1-rmse:0.94788\n",
      "[31]\tvalidation_0-rmse:0.92330\tvalidation_1-rmse:0.94771\n",
      "[32]\tvalidation_0-rmse:0.92288\tvalidation_1-rmse:0.94844\n",
      "[33]\tvalidation_0-rmse:0.92249\tvalidation_1-rmse:0.94844\n",
      "[34]\tvalidation_0-rmse:0.92231\tvalidation_1-rmse:0.94776\n",
      "[35]\tvalidation_0-rmse:0.92203\tvalidation_1-rmse:0.94803\n"
     ]
    },
    {
     "name": "stderr",
     "output_type": "stream",
     "text": [
      "D:\\Anaconda\\lib\\site-packages\\xgboost\\data.py:112: UserWarning: Use subset (sliced data) of np.ndarray is not recommended because it will generate extra copies and increase memory consumption\n",
      "  warnings.warn(\n"
     ]
    },
    {
     "name": "stdout",
     "output_type": "stream",
     "text": [
      "[0]\tvalidation_0-rmse:1.11042\tvalidation_1-rmse:1.06895\n",
      "[1]\tvalidation_0-rmse:1.05455\tvalidation_1-rmse:1.02395\n",
      "[2]\tvalidation_0-rmse:1.00750\tvalidation_1-rmse:0.99394\n",
      "[3]\tvalidation_0-rmse:0.98317\tvalidation_1-rmse:0.97899\n",
      "[4]\tvalidation_0-rmse:0.96593\tvalidation_1-rmse:0.97053\n",
      "[5]\tvalidation_0-rmse:0.95732\tvalidation_1-rmse:0.96656\n",
      "[6]\tvalidation_0-rmse:0.95068\tvalidation_1-rmse:0.96261\n",
      "[7]\tvalidation_0-rmse:0.94671\tvalidation_1-rmse:0.96156\n",
      "[8]\tvalidation_0-rmse:0.94374\tvalidation_1-rmse:0.95948\n",
      "[9]\tvalidation_0-rmse:0.94147\tvalidation_1-rmse:0.95829\n",
      "[10]\tvalidation_0-rmse:0.94015\tvalidation_1-rmse:0.95774\n",
      "[11]\tvalidation_0-rmse:0.93916\tvalidation_1-rmse:0.95657\n",
      "[12]\tvalidation_0-rmse:0.93828\tvalidation_1-rmse:0.95570\n",
      "[13]\tvalidation_0-rmse:0.93675\tvalidation_1-rmse:0.95568\n",
      "[14]\tvalidation_0-rmse:0.93575\tvalidation_1-rmse:0.95556\n",
      "[15]\tvalidation_0-rmse:0.93514\tvalidation_1-rmse:0.95531\n",
      "[16]\tvalidation_0-rmse:0.93426\tvalidation_1-rmse:0.95514\n",
      "[17]\tvalidation_0-rmse:0.93309\tvalidation_1-rmse:0.95330\n",
      "[18]\tvalidation_0-rmse:0.93217\tvalidation_1-rmse:0.95319\n",
      "[19]\tvalidation_0-rmse:0.93158\tvalidation_1-rmse:0.95308\n",
      "[20]\tvalidation_0-rmse:0.93092\tvalidation_1-rmse:0.95310\n",
      "[21]\tvalidation_0-rmse:0.93019\tvalidation_1-rmse:0.95257\n",
      "[22]\tvalidation_0-rmse:0.92959\tvalidation_1-rmse:0.95200\n",
      "[23]\tvalidation_0-rmse:0.92889\tvalidation_1-rmse:0.95176\n",
      "[24]\tvalidation_0-rmse:0.92823\tvalidation_1-rmse:0.95141\n",
      "[25]\tvalidation_0-rmse:0.92781\tvalidation_1-rmse:0.95124\n",
      "[26]\tvalidation_0-rmse:0.92739\tvalidation_1-rmse:0.95076\n",
      "[27]\tvalidation_0-rmse:0.92694\tvalidation_1-rmse:0.95054\n",
      "[28]\tvalidation_0-rmse:0.92620\tvalidation_1-rmse:0.95015\n",
      "[29]\tvalidation_0-rmse:0.92561\tvalidation_1-rmse:0.95131\n",
      "[30]\tvalidation_0-rmse:0.92544\tvalidation_1-rmse:0.95119\n",
      "[31]\tvalidation_0-rmse:0.92502\tvalidation_1-rmse:0.95071\n",
      "[32]\tvalidation_0-rmse:0.92470\tvalidation_1-rmse:0.95126\n"
     ]
    },
    {
     "name": "stderr",
     "output_type": "stream",
     "text": [
      "D:\\Anaconda\\lib\\site-packages\\xgboost\\data.py:112: UserWarning: Use subset (sliced data) of np.ndarray is not recommended because it will generate extra copies and increase memory consumption\n",
      "  warnings.warn(\n"
     ]
    },
    {
     "name": "stdout",
     "output_type": "stream",
     "text": [
      "[0]\tvalidation_0-rmse:1.10904\tvalidation_1-rmse:1.06812\n",
      "[1]\tvalidation_0-rmse:1.05141\tvalidation_1-rmse:1.02510\n",
      "[2]\tvalidation_0-rmse:1.00459\tvalidation_1-rmse:0.99536\n",
      "[3]\tvalidation_0-rmse:0.98101\tvalidation_1-rmse:0.98136\n",
      "[4]\tvalidation_0-rmse:0.96419\tvalidation_1-rmse:0.97253\n",
      "[5]\tvalidation_0-rmse:0.95479\tvalidation_1-rmse:0.96901\n",
      "[6]\tvalidation_0-rmse:0.94872\tvalidation_1-rmse:0.96583\n",
      "[7]\tvalidation_0-rmse:0.94423\tvalidation_1-rmse:0.96447\n",
      "[8]\tvalidation_0-rmse:0.94230\tvalidation_1-rmse:0.96338\n",
      "[9]\tvalidation_0-rmse:0.93996\tvalidation_1-rmse:0.96263\n",
      "[10]\tvalidation_0-rmse:0.93897\tvalidation_1-rmse:0.96218\n",
      "[11]\tvalidation_0-rmse:0.93802\tvalidation_1-rmse:0.96100\n",
      "[12]\tvalidation_0-rmse:0.93695\tvalidation_1-rmse:0.96100\n",
      "[13]\tvalidation_0-rmse:0.93561\tvalidation_1-rmse:0.96100\n",
      "[14]\tvalidation_0-rmse:0.93443\tvalidation_1-rmse:0.96009\n",
      "[15]\tvalidation_0-rmse:0.93388\tvalidation_1-rmse:0.95967\n",
      "[16]\tvalidation_0-rmse:0.93319\tvalidation_1-rmse:0.95776\n",
      "[17]\tvalidation_0-rmse:0.93238\tvalidation_1-rmse:0.95657\n",
      "[18]\tvalidation_0-rmse:0.93160\tvalidation_1-rmse:0.95670\n",
      "[19]\tvalidation_0-rmse:0.93080\tvalidation_1-rmse:0.95570\n",
      "[20]\tvalidation_0-rmse:0.92963\tvalidation_1-rmse:0.95533\n",
      "[21]\tvalidation_0-rmse:0.92910\tvalidation_1-rmse:0.95438\n",
      "[22]\tvalidation_0-rmse:0.92869\tvalidation_1-rmse:0.95459\n",
      "[23]\tvalidation_0-rmse:0.92830\tvalidation_1-rmse:0.95389\n",
      "[24]\tvalidation_0-rmse:0.92753\tvalidation_1-rmse:0.95384\n",
      "[25]\tvalidation_0-rmse:0.92637\tvalidation_1-rmse:0.95217\n",
      "[26]\tvalidation_0-rmse:0.92614\tvalidation_1-rmse:0.95190\n",
      "[27]\tvalidation_0-rmse:0.92581\tvalidation_1-rmse:0.95183\n",
      "[28]\tvalidation_0-rmse:0.92516\tvalidation_1-rmse:0.95078\n",
      "[29]\tvalidation_0-rmse:0.92458\tvalidation_1-rmse:0.95022\n",
      "[30]\tvalidation_0-rmse:0.92438\tvalidation_1-rmse:0.94951\n",
      "[31]\tvalidation_0-rmse:0.92402\tvalidation_1-rmse:0.94878\n",
      "[32]\tvalidation_0-rmse:0.92363\tvalidation_1-rmse:0.94989\n",
      "[33]\tvalidation_0-rmse:0.92294\tvalidation_1-rmse:0.95007\n",
      "[34]\tvalidation_0-rmse:0.92249\tvalidation_1-rmse:0.95006\n",
      "[35]\tvalidation_0-rmse:0.92212\tvalidation_1-rmse:0.94990\n",
      "[36]\tvalidation_0-rmse:0.92182\tvalidation_1-rmse:0.94991\n"
     ]
    },
    {
     "name": "stderr",
     "output_type": "stream",
     "text": [
      "D:\\Anaconda\\lib\\site-packages\\xgboost\\data.py:112: UserWarning: Use subset (sliced data) of np.ndarray is not recommended because it will generate extra copies and increase memory consumption\n",
      "  warnings.warn(\n"
     ]
    },
    {
     "name": "stdout",
     "output_type": "stream",
     "text": [
      "[0]\tvalidation_0-rmse:1.10976\tvalidation_1-rmse:1.06909\n",
      "[1]\tvalidation_0-rmse:1.05235\tvalidation_1-rmse:1.02604\n",
      "[2]\tvalidation_0-rmse:1.00678\tvalidation_1-rmse:0.99581\n",
      "[3]\tvalidation_0-rmse:0.98225\tvalidation_1-rmse:0.98097\n",
      "[4]\tvalidation_0-rmse:0.96530\tvalidation_1-rmse:0.97162\n",
      "[5]\tvalidation_0-rmse:0.95632\tvalidation_1-rmse:0.96779\n",
      "[6]\tvalidation_0-rmse:0.95047\tvalidation_1-rmse:0.96434\n",
      "[7]\tvalidation_0-rmse:0.94574\tvalidation_1-rmse:0.96381\n",
      "[8]\tvalidation_0-rmse:0.94304\tvalidation_1-rmse:0.96202\n",
      "[9]\tvalidation_0-rmse:0.94088\tvalidation_1-rmse:0.96061\n",
      "[10]\tvalidation_0-rmse:0.93976\tvalidation_1-rmse:0.95996\n",
      "[11]\tvalidation_0-rmse:0.93876\tvalidation_1-rmse:0.95786\n",
      "[12]\tvalidation_0-rmse:0.93767\tvalidation_1-rmse:0.95747\n",
      "[13]\tvalidation_0-rmse:0.93607\tvalidation_1-rmse:0.95696\n",
      "[14]\tvalidation_0-rmse:0.93444\tvalidation_1-rmse:0.95568\n",
      "[15]\tvalidation_0-rmse:0.93331\tvalidation_1-rmse:0.95522\n",
      "[16]\tvalidation_0-rmse:0.93268\tvalidation_1-rmse:0.95508\n",
      "[17]\tvalidation_0-rmse:0.93190\tvalidation_1-rmse:0.95376\n",
      "[18]\tvalidation_0-rmse:0.93090\tvalidation_1-rmse:0.95364\n",
      "[19]\tvalidation_0-rmse:0.93035\tvalidation_1-rmse:0.95380\n",
      "[20]\tvalidation_0-rmse:0.92978\tvalidation_1-rmse:0.95303\n",
      "[21]\tvalidation_0-rmse:0.92833\tvalidation_1-rmse:0.95149\n",
      "[22]\tvalidation_0-rmse:0.92763\tvalidation_1-rmse:0.95180\n",
      "[23]\tvalidation_0-rmse:0.92739\tvalidation_1-rmse:0.95085\n",
      "[24]\tvalidation_0-rmse:0.92693\tvalidation_1-rmse:0.95083\n",
      "[25]\tvalidation_0-rmse:0.92634\tvalidation_1-rmse:0.94998\n",
      "[26]\tvalidation_0-rmse:0.92583\tvalidation_1-rmse:0.94963\n",
      "[27]\tvalidation_0-rmse:0.92517\tvalidation_1-rmse:0.94993\n",
      "[28]\tvalidation_0-rmse:0.92460\tvalidation_1-rmse:0.94991\n",
      "[29]\tvalidation_0-rmse:0.92426\tvalidation_1-rmse:0.94955\n",
      "[30]\tvalidation_0-rmse:0.92408\tvalidation_1-rmse:0.94906\n",
      "[31]\tvalidation_0-rmse:0.92377\tvalidation_1-rmse:0.94894\n",
      "[32]\tvalidation_0-rmse:0.92345\tvalidation_1-rmse:0.94894\n",
      "[33]\tvalidation_0-rmse:0.92288\tvalidation_1-rmse:0.94925\n",
      "[34]\tvalidation_0-rmse:0.92261\tvalidation_1-rmse:0.94906\n",
      "[35]\tvalidation_0-rmse:0.92212\tvalidation_1-rmse:0.95028\n"
     ]
    },
    {
     "name": "stderr",
     "output_type": "stream",
     "text": [
      "D:\\Anaconda\\lib\\site-packages\\xgboost\\data.py:112: UserWarning: Use subset (sliced data) of np.ndarray is not recommended because it will generate extra copies and increase memory consumption\n",
      "  warnings.warn(\n"
     ]
    },
    {
     "name": "stdout",
     "output_type": "stream",
     "text": [
      "[0]\tvalidation_0-rmse:1.10887\tvalidation_1-rmse:1.06880\n",
      "[1]\tvalidation_0-rmse:1.05130\tvalidation_1-rmse:1.02583\n",
      "[2]\tvalidation_0-rmse:1.00534\tvalidation_1-rmse:0.99485\n",
      "[3]\tvalidation_0-rmse:0.98143\tvalidation_1-rmse:0.98049\n",
      "[4]\tvalidation_0-rmse:0.96404\tvalidation_1-rmse:0.97213\n",
      "[5]\tvalidation_0-rmse:0.95547\tvalidation_1-rmse:0.96743\n",
      "[6]\tvalidation_0-rmse:0.94939\tvalidation_1-rmse:0.96402\n",
      "[7]\tvalidation_0-rmse:0.94534\tvalidation_1-rmse:0.96358\n",
      "[8]\tvalidation_0-rmse:0.94245\tvalidation_1-rmse:0.96154\n",
      "[9]\tvalidation_0-rmse:0.94056\tvalidation_1-rmse:0.96058\n",
      "[10]\tvalidation_0-rmse:0.93918\tvalidation_1-rmse:0.95930\n",
      "[11]\tvalidation_0-rmse:0.93838\tvalidation_1-rmse:0.95871\n",
      "[12]\tvalidation_0-rmse:0.93696\tvalidation_1-rmse:0.95843\n",
      "[13]\tvalidation_0-rmse:0.93534\tvalidation_1-rmse:0.95792\n",
      "[14]\tvalidation_0-rmse:0.93385\tvalidation_1-rmse:0.95680\n",
      "[15]\tvalidation_0-rmse:0.93312\tvalidation_1-rmse:0.95621\n",
      "[16]\tvalidation_0-rmse:0.93193\tvalidation_1-rmse:0.95528\n",
      "[17]\tvalidation_0-rmse:0.93127\tvalidation_1-rmse:0.95495\n",
      "[18]\tvalidation_0-rmse:0.93062\tvalidation_1-rmse:0.95425\n",
      "[19]\tvalidation_0-rmse:0.92986\tvalidation_1-rmse:0.95418\n",
      "[20]\tvalidation_0-rmse:0.92902\tvalidation_1-rmse:0.95404\n",
      "[21]\tvalidation_0-rmse:0.92845\tvalidation_1-rmse:0.95331\n",
      "[22]\tvalidation_0-rmse:0.92785\tvalidation_1-rmse:0.95345\n",
      "[23]\tvalidation_0-rmse:0.92745\tvalidation_1-rmse:0.95321\n",
      "[24]\tvalidation_0-rmse:0.92703\tvalidation_1-rmse:0.95277\n",
      "[25]\tvalidation_0-rmse:0.92668\tvalidation_1-rmse:0.95231\n",
      "[26]\tvalidation_0-rmse:0.92620\tvalidation_1-rmse:0.95306\n",
      "[27]\tvalidation_0-rmse:0.92551\tvalidation_1-rmse:0.95492\n",
      "[28]\tvalidation_0-rmse:0.92504\tvalidation_1-rmse:0.95446\n",
      "[29]\tvalidation_0-rmse:0.92454\tvalidation_1-rmse:0.95404\n",
      "[30]\tvalidation_0-rmse:0.92412\tvalidation_1-rmse:0.95391\n"
     ]
    },
    {
     "data": {
      "text/plain": [
       "GridSearchCV(cv=5,\n",
       "             estimator=XGBRegressor(base_score=None, booster=None,\n",
       "                                    colsample_bylevel=None,\n",
       "                                    colsample_bynode=None,\n",
       "                                    colsample_bytree=None, gamma=None,\n",
       "                                    gpu_id=None, importance_type='gain',\n",
       "                                    interaction_constraints=None,\n",
       "                                    learning_rate=None, max_delta_step=None,\n",
       "                                    max_depth=None, min_child_weight=None,\n",
       "                                    missing=nan, monotone_constraints=None,\n",
       "                                    n_estimators=100, n_jobs=None,\n",
       "                                    num_parallel_tree=None, random_state=None,\n",
       "                                    reg_alpha=None, reg_lambda=None,\n",
       "                                    scale_pos_weight=None, subsample=None,\n",
       "                                    tree_method=None, validate_parameters=None,\n",
       "                                    verbosity=None),\n",
       "             param_grid={'colsample_bytree': [0.2, 0.4, 0.6],\n",
       "                         'max_depth': [1, 2, 4],\n",
       "                         'min_child_weight': [100, 200, 300],\n",
       "                         'n_estimators': [1, 10, 100], 'seed': [42]})"
      ]
     },
     "execution_count": 40,
     "metadata": {},
     "output_type": "execute_result"
    }
   ],
   "source": [
    "cv.fit(\n",
    "    X_train,\n",
    "    Y_train,\n",
    "    eval_metric=\"rmse\",\n",
    "    eval_set=[(X_train, Y_train), (X_valid, Y_valid)],\n",
    "    verbose=True,\n",
    "    early_stopping_rounds = 5\n",
    ")"
   ]
  },
  {
   "cell_type": "code",
   "execution_count": 41,
   "metadata": {},
   "outputs": [
    {
     "name": "stderr",
     "output_type": "stream",
     "text": [
      "D:\\Anaconda\\lib\\site-packages\\xgboost\\data.py:112: UserWarning: Use subset (sliced data) of np.ndarray is not recommended because it will generate extra copies and increase memory consumption\n",
      "  warnings.warn(\n"
     ]
    }
   ],
   "source": [
    "y_pred = cv.predict(X_test).clip(0,20)\n",
    "sample['item_cnt_month'] = y_pred \n",
    "sample.to_csv('xgb_cvfeat.csv', index=False)"
   ]
  },
  {
   "cell_type": "code",
   "execution_count": 43,
   "metadata": {},
   "outputs": [
    {
     "name": "stdout",
     "output_type": "stream",
     "text": [
      "[0]\tvalidation_0-rmse:1.19034\tvalidation_1-rmse:1.12468\n",
      "[1]\tvalidation_0-rmse:1.14488\tvalidation_1-rmse:1.09202\n",
      "[2]\tvalidation_0-rmse:1.10907\tvalidation_1-rmse:1.06573\n",
      "[3]\tvalidation_0-rmse:1.07900\tvalidation_1-rmse:1.04382\n",
      "[4]\tvalidation_0-rmse:1.05478\tvalidation_1-rmse:1.02493\n",
      "[5]\tvalidation_0-rmse:1.03270\tvalidation_1-rmse:1.01059\n",
      "[6]\tvalidation_0-rmse:1.01392\tvalidation_1-rmse:0.99864\n",
      "[7]\tvalidation_0-rmse:0.99862\tvalidation_1-rmse:0.98865\n",
      "[8]\tvalidation_0-rmse:0.98582\tvalidation_1-rmse:0.98061\n",
      "[9]\tvalidation_0-rmse:0.97474\tvalidation_1-rmse:0.97371\n",
      "[10]\tvalidation_0-rmse:0.96615\tvalidation_1-rmse:0.96817\n",
      "[11]\tvalidation_0-rmse:0.95659\tvalidation_1-rmse:0.96333\n",
      "[12]\tvalidation_0-rmse:0.94973\tvalidation_1-rmse:0.96002\n",
      "[13]\tvalidation_0-rmse:0.94456\tvalidation_1-rmse:0.95707\n",
      "[14]\tvalidation_0-rmse:0.93990\tvalidation_1-rmse:0.95444\n",
      "[15]\tvalidation_0-rmse:0.93534\tvalidation_1-rmse:0.95242\n",
      "[16]\tvalidation_0-rmse:0.93180\tvalidation_1-rmse:0.95091\n",
      "[17]\tvalidation_0-rmse:0.92871\tvalidation_1-rmse:0.94894\n",
      "[18]\tvalidation_0-rmse:0.92613\tvalidation_1-rmse:0.94770\n",
      "[19]\tvalidation_0-rmse:0.92341\tvalidation_1-rmse:0.94648\n",
      "[20]\tvalidation_0-rmse:0.92141\tvalidation_1-rmse:0.94563\n",
      "[21]\tvalidation_0-rmse:0.91960\tvalidation_1-rmse:0.94500\n",
      "[22]\tvalidation_0-rmse:0.91817\tvalidation_1-rmse:0.94470\n",
      "[23]\tvalidation_0-rmse:0.91633\tvalidation_1-rmse:0.94466\n",
      "[24]\tvalidation_0-rmse:0.91475\tvalidation_1-rmse:0.94385\n",
      "[25]\tvalidation_0-rmse:0.91346\tvalidation_1-rmse:0.94360\n",
      "[26]\tvalidation_0-rmse:0.91213\tvalidation_1-rmse:0.94325\n",
      "[27]\tvalidation_0-rmse:0.91124\tvalidation_1-rmse:0.94295\n",
      "[28]\tvalidation_0-rmse:0.91020\tvalidation_1-rmse:0.94268\n",
      "[29]\tvalidation_0-rmse:0.90934\tvalidation_1-rmse:0.94258\n",
      "[30]\tvalidation_0-rmse:0.90835\tvalidation_1-rmse:0.94196\n",
      "[31]\tvalidation_0-rmse:0.90736\tvalidation_1-rmse:0.94200\n",
      "[32]\tvalidation_0-rmse:0.90662\tvalidation_1-rmse:0.94181\n",
      "[33]\tvalidation_0-rmse:0.90601\tvalidation_1-rmse:0.94159\n",
      "[34]\tvalidation_0-rmse:0.90524\tvalidation_1-rmse:0.94149\n",
      "[35]\tvalidation_0-rmse:0.90458\tvalidation_1-rmse:0.94152\n",
      "[36]\tvalidation_0-rmse:0.90410\tvalidation_1-rmse:0.94139\n",
      "[37]\tvalidation_0-rmse:0.90336\tvalidation_1-rmse:0.94159\n",
      "[38]\tvalidation_0-rmse:0.90283\tvalidation_1-rmse:0.94176\n",
      "[39]\tvalidation_0-rmse:0.90206\tvalidation_1-rmse:0.94162\n",
      "[40]\tvalidation_0-rmse:0.90152\tvalidation_1-rmse:0.94125\n",
      "[41]\tvalidation_0-rmse:0.90080\tvalidation_1-rmse:0.94151\n",
      "[42]\tvalidation_0-rmse:0.90034\tvalidation_1-rmse:0.94154\n",
      "[43]\tvalidation_0-rmse:0.89987\tvalidation_1-rmse:0.94119\n",
      "[44]\tvalidation_0-rmse:0.89931\tvalidation_1-rmse:0.94119\n",
      "[45]\tvalidation_0-rmse:0.89875\tvalidation_1-rmse:0.94147\n",
      "[46]\tvalidation_0-rmse:0.89842\tvalidation_1-rmse:0.94126\n",
      "[47]\tvalidation_0-rmse:0.89812\tvalidation_1-rmse:0.94106\n",
      "[48]\tvalidation_0-rmse:0.89765\tvalidation_1-rmse:0.94092\n",
      "[49]\tvalidation_0-rmse:0.89741\tvalidation_1-rmse:0.94054\n",
      "[50]\tvalidation_0-rmse:0.89717\tvalidation_1-rmse:0.94042\n",
      "[51]\tvalidation_0-rmse:0.89681\tvalidation_1-rmse:0.94053\n",
      "[52]\tvalidation_0-rmse:0.89633\tvalidation_1-rmse:0.94082\n",
      "[53]\tvalidation_0-rmse:0.89597\tvalidation_1-rmse:0.94109\n",
      "[54]\tvalidation_0-rmse:0.89573\tvalidation_1-rmse:0.94098\n",
      "[55]\tvalidation_0-rmse:0.89549\tvalidation_1-rmse:0.94073\n",
      "[56]\tvalidation_0-rmse:0.89525\tvalidation_1-rmse:0.94071\n",
      "[57]\tvalidation_0-rmse:0.89464\tvalidation_1-rmse:0.94133\n",
      "[58]\tvalidation_0-rmse:0.89415\tvalidation_1-rmse:0.94128\n",
      "[59]\tvalidation_0-rmse:0.89388\tvalidation_1-rmse:0.94129\n"
     ]
    },
    {
     "data": {
      "text/plain": [
       "XGBRegressor(base_score=0.5, booster='gbtree', colsample_bylevel=1,\n",
       "             colsample_bynode=1, colsample_bytree=0.8, eta=0.1, gamma=0,\n",
       "             gpu_id=-1, importance_type='gain', interaction_constraints='',\n",
       "             learning_rate=0.100000001, max_delta_step=0, max_depth=8,\n",
       "             min_child_weight=300, missing=nan, monotone_constraints='()',\n",
       "             n_estimators=1000, n_jobs=12, num_parallel_tree=1, random_state=42,\n",
       "             reg_alpha=0, reg_lambda=1, scale_pos_weight=1, seed=42,\n",
       "             subsample=0.8, tree_method='approx', validate_parameters=1,\n",
       "             verbosity=None)"
      ]
     },
     "execution_count": 43,
     "metadata": {},
     "output_type": "execute_result"
    }
   ],
   "source": [
    "model = XGBRegressor(\n",
    "    max_depth=8,\n",
    "    n_estimators=1000,\n",
    "    min_child_weight=300, \n",
    "    colsample_bytree=0.8, \n",
    "    subsample=0.8, \n",
    "    eta=0.1,    \n",
    "    seed=42)\n",
    "\n",
    "model.fit(\n",
    "    X_train,\n",
    "    Y_train,\n",
    "    eval_metric=\"rmse\",\n",
    "    eval_set=[(X_train, Y_train), (X_valid, Y_valid)],\n",
    "    verbose=True,\n",
    "    early_stopping_rounds = 10)"
   ]
  },
  {
   "cell_type": "code",
   "execution_count": 45,
   "metadata": {},
   "outputs": [],
   "source": [
    "y_pred = model.predict(X_test).clip(0,20)\n",
    "sample['item_cnt_month'] = y_pred \n",
    "sample.to_csv('xgb_feat.csv', index=False)"
   ]
  },
  {
   "cell_type": "code",
   "execution_count": 44,
   "metadata": {},
   "outputs": [
    {
     "data": {
      "text/plain": [
       "1.932595218494313"
      ]
     },
     "execution_count": 44,
     "metadata": {},
     "output_type": "execute_result"
    }
   ],
   "source": [
    "dtr = DecisionTreeRegressor().fit(X_train, Y_train)\n",
    "y_preds = dtr.predict(X_valid)\n",
    "mean_squared_error(Y_valid, y_preds)"
   ]
  },
  {
   "cell_type": "code",
   "execution_count": 151,
   "metadata": {},
   "outputs": [],
   "source": [
    "y_pred = dtr.predict(X_test).clip(0,20)\n",
    "sample['item_cnt_month'] = y_pred\n",
    "sample.to_csv('dtr_lag.csv', index=False)"
   ]
  },
  {
   "cell_type": "code",
   "execution_count": null,
   "metadata": {},
   "outputs": [],
   "source": [
    "rfr = RandomForestRegressor().fit(X_train, Y_train)\n",
    "y_preds = rfr.predict(X_valid)\n",
    "mean_squared_error(Y_valid, y_preds)"
   ]
  },
  {
   "cell_type": "code",
   "execution_count": 153,
   "metadata": {},
   "outputs": [],
   "source": [
    "y_pred = rfr.predict(X_test).clip(0,20)\n",
    "sample['item_cnt_month'] = y_pred\n",
    "sample.to_csv('rfr_lag.csv', index=False)"
   ]
  },
  {
   "cell_type": "code",
   "execution_count": null,
   "metadata": {},
   "outputs": [],
   "source": [
    "df_sales = df_sales[df_sales['item_price'] > 0]\n",
    "df_sales = df_sales[df_sales['item_price'] < 50000]\n",
    "df_sales = df_sales[df_sales['item_cnt_day'] > 0]\n",
    "df_sales = df_sales[df_sales['item_cnt_day'] < 1000]"
   ]
  },
  {
   "cell_type": "code",
   "execution_count": 53,
   "metadata": {},
   "outputs": [
    {
     "data": {
      "text/html": [
       "<div>\n",
       "<style scoped>\n",
       "    .dataframe tbody tr th:only-of-type {\n",
       "        vertical-align: middle;\n",
       "    }\n",
       "\n",
       "    .dataframe tbody tr th {\n",
       "        vertical-align: top;\n",
       "    }\n",
       "\n",
       "    .dataframe thead th {\n",
       "        text-align: right;\n",
       "    }\n",
       "</style>\n",
       "<table border=\"1\" class=\"dataframe\">\n",
       "  <thead>\n",
       "    <tr style=\"text-align: right;\">\n",
       "      <th></th>\n",
       "      <th>date</th>\n",
       "      <th>date_block_num</th>\n",
       "      <th>shop_id</th>\n",
       "      <th>item_id</th>\n",
       "      <th>item_price</th>\n",
       "      <th>item_cnt_day</th>\n",
       "      <th>revenue</th>\n",
       "    </tr>\n",
       "  </thead>\n",
       "  <tbody>\n",
       "    <tr>\n",
       "      <th>2720000</th>\n",
       "      <td>2015-07-23</td>\n",
       "      <td>30</td>\n",
       "      <td>4</td>\n",
       "      <td>5820</td>\n",
       "      <td>3199.0</td>\n",
       "      <td>1.0</td>\n",
       "      <td>3199.0</td>\n",
       "    </tr>\n",
       "    <tr>\n",
       "      <th>2720001</th>\n",
       "      <td>2015-07-22</td>\n",
       "      <td>30</td>\n",
       "      <td>4</td>\n",
       "      <td>5816</td>\n",
       "      <td>1199.0</td>\n",
       "      <td>1.0</td>\n",
       "      <td>1199.0</td>\n",
       "    </tr>\n",
       "    <tr>\n",
       "      <th>2720002</th>\n",
       "      <td>2015-07-05</td>\n",
       "      <td>30</td>\n",
       "      <td>4</td>\n",
       "      <td>5814</td>\n",
       "      <td>1199.0</td>\n",
       "      <td>1.0</td>\n",
       "      <td>1199.0</td>\n",
       "    </tr>\n",
       "    <tr>\n",
       "      <th>2720003</th>\n",
       "      <td>2015-07-23</td>\n",
       "      <td>30</td>\n",
       "      <td>4</td>\n",
       "      <td>5516</td>\n",
       "      <td>299.0</td>\n",
       "      <td>1.0</td>\n",
       "      <td>299.0</td>\n",
       "    </tr>\n",
       "    <tr>\n",
       "      <th>2720004</th>\n",
       "      <td>2015-07-27</td>\n",
       "      <td>30</td>\n",
       "      <td>4</td>\n",
       "      <td>5490</td>\n",
       "      <td>1399.0</td>\n",
       "      <td>1.0</td>\n",
       "      <td>1399.0</td>\n",
       "    </tr>\n",
       "    <tr>\n",
       "      <th>...</th>\n",
       "      <td>...</td>\n",
       "      <td>...</td>\n",
       "      <td>...</td>\n",
       "      <td>...</td>\n",
       "      <td>...</td>\n",
       "      <td>...</td>\n",
       "      <td>...</td>\n",
       "    </tr>\n",
       "    <tr>\n",
       "      <th>2935844</th>\n",
       "      <td>2015-10-10</td>\n",
       "      <td>33</td>\n",
       "      <td>25</td>\n",
       "      <td>7409</td>\n",
       "      <td>299.0</td>\n",
       "      <td>1.0</td>\n",
       "      <td>299.0</td>\n",
       "    </tr>\n",
       "    <tr>\n",
       "      <th>2935845</th>\n",
       "      <td>2015-10-09</td>\n",
       "      <td>33</td>\n",
       "      <td>25</td>\n",
       "      <td>7460</td>\n",
       "      <td>299.0</td>\n",
       "      <td>1.0</td>\n",
       "      <td>299.0</td>\n",
       "    </tr>\n",
       "    <tr>\n",
       "      <th>2935846</th>\n",
       "      <td>2015-10-14</td>\n",
       "      <td>33</td>\n",
       "      <td>25</td>\n",
       "      <td>7459</td>\n",
       "      <td>349.0</td>\n",
       "      <td>1.0</td>\n",
       "      <td>349.0</td>\n",
       "    </tr>\n",
       "    <tr>\n",
       "      <th>2935847</th>\n",
       "      <td>2015-10-22</td>\n",
       "      <td>33</td>\n",
       "      <td>25</td>\n",
       "      <td>7440</td>\n",
       "      <td>299.0</td>\n",
       "      <td>1.0</td>\n",
       "      <td>299.0</td>\n",
       "    </tr>\n",
       "    <tr>\n",
       "      <th>2935848</th>\n",
       "      <td>2015-10-03</td>\n",
       "      <td>33</td>\n",
       "      <td>25</td>\n",
       "      <td>7460</td>\n",
       "      <td>299.0</td>\n",
       "      <td>1.0</td>\n",
       "      <td>299.0</td>\n",
       "    </tr>\n",
       "  </tbody>\n",
       "</table>\n",
       "<p>215332 rows × 7 columns</p>\n",
       "</div>"
      ],
      "text/plain": [
       "              date  date_block_num  shop_id  item_id  item_price  \\\n",
       "2720000 2015-07-23              30        4     5820      3199.0   \n",
       "2720001 2015-07-22              30        4     5816      1199.0   \n",
       "2720002 2015-07-05              30        4     5814      1199.0   \n",
       "2720003 2015-07-23              30        4     5516       299.0   \n",
       "2720004 2015-07-27              30        4     5490      1399.0   \n",
       "...            ...             ...      ...      ...         ...   \n",
       "2935844 2015-10-10              33       25     7409       299.0   \n",
       "2935845 2015-10-09              33       25     7460       299.0   \n",
       "2935846 2015-10-14              33       25     7459       349.0   \n",
       "2935847 2015-10-22              33       25     7440       299.0   \n",
       "2935848 2015-10-03              33       25     7460       299.0   \n",
       "\n",
       "         item_cnt_day  revenue  \n",
       "2720000           1.0   3199.0  \n",
       "2720001           1.0   1199.0  \n",
       "2720002           1.0   1199.0  \n",
       "2720003           1.0    299.0  \n",
       "2720004           1.0   1399.0  \n",
       "...               ...      ...  \n",
       "2935844           1.0    299.0  \n",
       "2935845           1.0    299.0  \n",
       "2935846           1.0    349.0  \n",
       "2935847           1.0    299.0  \n",
       "2935848           1.0    299.0  \n",
       "\n",
       "[215332 rows x 7 columns]"
      ]
     },
     "execution_count": 53,
     "metadata": {},
     "output_type": "execute_result"
    }
   ],
   "source": [
    "df_sales.loc[df_sales:]"
   ]
  },
  {
   "cell_type": "code",
   "execution_count": 56,
   "metadata": {},
   "outputs": [
    {
     "data": {
      "text/html": [
       "<div>\n",
       "<style scoped>\n",
       "    .dataframe tbody tr th:only-of-type {\n",
       "        vertical-align: middle;\n",
       "    }\n",
       "\n",
       "    .dataframe tbody tr th {\n",
       "        vertical-align: top;\n",
       "    }\n",
       "\n",
       "    .dataframe thead th {\n",
       "        text-align: right;\n",
       "    }\n",
       "</style>\n",
       "<table border=\"1\" class=\"dataframe\">\n",
       "  <thead>\n",
       "    <tr style=\"text-align: right;\">\n",
       "      <th></th>\n",
       "      <th>item_category_name</th>\n",
       "      <th>item_category_id</th>\n",
       "      <th>type</th>\n",
       "      <th>type_code</th>\n",
       "      <th>sub_type</th>\n",
       "      <th>sub_type_code</th>\n",
       "    </tr>\n",
       "  </thead>\n",
       "  <tbody>\n",
       "    <tr>\n",
       "      <th>0</th>\n",
       "      <td>PC - Гарнитуры/Наушники</td>\n",
       "      <td>0</td>\n",
       "      <td>PC</td>\n",
       "      <td>0</td>\n",
       "      <td>Гарнитуры/Наушники</td>\n",
       "      <td>29</td>\n",
       "    </tr>\n",
       "    <tr>\n",
       "      <th>1</th>\n",
       "      <td>Аксессуары - PS2</td>\n",
       "      <td>1</td>\n",
       "      <td>Аксессуары</td>\n",
       "      <td>1</td>\n",
       "      <td>PS2</td>\n",
       "      <td>9</td>\n",
       "    </tr>\n",
       "    <tr>\n",
       "      <th>2</th>\n",
       "      <td>Аксессуары - PS3</td>\n",
       "      <td>2</td>\n",
       "      <td>Аксессуары</td>\n",
       "      <td>1</td>\n",
       "      <td>PS3</td>\n",
       "      <td>10</td>\n",
       "    </tr>\n",
       "    <tr>\n",
       "      <th>3</th>\n",
       "      <td>Аксессуары - PS4</td>\n",
       "      <td>3</td>\n",
       "      <td>Аксессуары</td>\n",
       "      <td>1</td>\n",
       "      <td>PS4</td>\n",
       "      <td>11</td>\n",
       "    </tr>\n",
       "    <tr>\n",
       "      <th>4</th>\n",
       "      <td>Аксессуары - PSP</td>\n",
       "      <td>4</td>\n",
       "      <td>Аксессуары</td>\n",
       "      <td>1</td>\n",
       "      <td>PSP</td>\n",
       "      <td>13</td>\n",
       "    </tr>\n",
       "  </tbody>\n",
       "</table>\n",
       "</div>"
      ],
      "text/plain": [
       "        item_category_name  item_category_id         type  type_code  \\\n",
       "0  PC - Гарнитуры/Наушники                 0          PC           0   \n",
       "1         Аксессуары - PS2                 1  Аксессуары           1   \n",
       "2         Аксессуары - PS3                 2  Аксессуары           1   \n",
       "3         Аксессуары - PS4                 3  Аксессуары           1   \n",
       "4         Аксессуары - PSP                 4  Аксессуары           1   \n",
       "\n",
       "             sub_type  sub_type_code  \n",
       "0  Гарнитуры/Наушники             29  \n",
       "1                 PS2              9  \n",
       "2                 PS3             10  \n",
       "3                 PS4             11  \n",
       "4                 PSP             13  "
      ]
     },
     "execution_count": 56,
     "metadata": {},
     "output_type": "execute_result"
    }
   ],
   "source": [
    "# df_shops\n",
    "\n",
    "# create type and type_code cols\n",
    "df_cat['type'] = df_cat['item_category_name'].str.split('-').map(lambda x:x[0])\n",
    "df_cat['type_code'] = LabelEncoder().fit_transform(df_cat['type'])\n",
    "\n",
    "# get subtype and subtype_code cols\n",
    "df_cat['sub_type'] = df_cat['item_category_name'].str.split('-').map(lambda x:x[1].strip() if len(x) > 1 else x[0].strip())\n",
    "df_cat['sub_type_code'] = LabelEncoder().fit_transform(df_cat['sub_type'])\n",
    "df_cat.head()"
   ]
  },
  {
   "cell_type": "code",
   "execution_count": 57,
   "metadata": {},
   "outputs": [
    {
     "data": {
      "text/html": [
       "<div>\n",
       "<style scoped>\n",
       "    .dataframe tbody tr th:only-of-type {\n",
       "        vertical-align: middle;\n",
       "    }\n",
       "\n",
       "    .dataframe tbody tr th {\n",
       "        vertical-align: top;\n",
       "    }\n",
       "\n",
       "    .dataframe thead th {\n",
       "        text-align: right;\n",
       "    }\n",
       "</style>\n",
       "<table border=\"1\" class=\"dataframe\">\n",
       "  <thead>\n",
       "    <tr style=\"text-align: right;\">\n",
       "      <th></th>\n",
       "      <th>date</th>\n",
       "      <th>date_block_num</th>\n",
       "      <th>shop_id</th>\n",
       "      <th>item_id</th>\n",
       "      <th>item_price</th>\n",
       "      <th>item_cnt_day</th>\n",
       "      <th>revenue</th>\n",
       "    </tr>\n",
       "  </thead>\n",
       "  <tbody>\n",
       "    <tr>\n",
       "      <th>0</th>\n",
       "      <td>2013-01-02</td>\n",
       "      <td>0</td>\n",
       "      <td>59</td>\n",
       "      <td>22154</td>\n",
       "      <td>999.00</td>\n",
       "      <td>1.0</td>\n",
       "      <td>999.00</td>\n",
       "    </tr>\n",
       "    <tr>\n",
       "      <th>1</th>\n",
       "      <td>2013-01-03</td>\n",
       "      <td>0</td>\n",
       "      <td>25</td>\n",
       "      <td>2552</td>\n",
       "      <td>899.00</td>\n",
       "      <td>1.0</td>\n",
       "      <td>899.00</td>\n",
       "    </tr>\n",
       "    <tr>\n",
       "      <th>3</th>\n",
       "      <td>2013-01-06</td>\n",
       "      <td>0</td>\n",
       "      <td>25</td>\n",
       "      <td>2554</td>\n",
       "      <td>1709.05</td>\n",
       "      <td>1.0</td>\n",
       "      <td>1709.05</td>\n",
       "    </tr>\n",
       "    <tr>\n",
       "      <th>4</th>\n",
       "      <td>2013-01-15</td>\n",
       "      <td>0</td>\n",
       "      <td>25</td>\n",
       "      <td>2555</td>\n",
       "      <td>1099.00</td>\n",
       "      <td>1.0</td>\n",
       "      <td>1099.00</td>\n",
       "    </tr>\n",
       "    <tr>\n",
       "      <th>5</th>\n",
       "      <td>2013-01-10</td>\n",
       "      <td>0</td>\n",
       "      <td>25</td>\n",
       "      <td>2564</td>\n",
       "      <td>349.00</td>\n",
       "      <td>1.0</td>\n",
       "      <td>349.00</td>\n",
       "    </tr>\n",
       "  </tbody>\n",
       "</table>\n",
       "</div>"
      ],
      "text/plain": [
       "        date  date_block_num  shop_id  item_id  item_price  item_cnt_day  \\\n",
       "0 2013-01-02               0       59    22154      999.00           1.0   \n",
       "1 2013-01-03               0       25     2552      899.00           1.0   \n",
       "3 2013-01-06               0       25     2554     1709.05           1.0   \n",
       "4 2013-01-15               0       25     2555     1099.00           1.0   \n",
       "5 2013-01-10               0       25     2564      349.00           1.0   \n",
       "\n",
       "   revenue  \n",
       "0   999.00  \n",
       "1   899.00  \n",
       "3  1709.05  \n",
       "4  1099.00  \n",
       "5   349.00  "
      ]
     },
     "execution_count": 57,
     "metadata": {},
     "output_type": "execute_result"
    }
   ],
   "source": [
    "# df_sales\n",
    "\n",
    "# replace the negative item_price to mean value\n",
    "mean = df_sales[(df_sales[\"shop_id\"] == 32) & (df_sales[\"item_id\"] == 2973) & \n",
    "                (df_sales[\"date_block_num\"] == 4) & (df_sales[\"item_price\"] > 0)][\"item_price\"].mean()\n",
    "df_sales.loc[df_sales.item_price < 0, 'item_price'] = mean\n",
    "\n",
    "# clean the outliers\n",
    "df_sales = df_sales[df_sales[\"item_price\"] < np.percentile(df_sales[\"item_price\"], q = 100)]\n",
    "df_sales = df_sales[(df_sales[\"item_cnt_day\"] >= 0) & (df_sales[\"item_cnt_day\"] < np.percentile(df_sales[\"item_cnt_day\"], q = 100))]\n",
    "\n",
    "# change the format of date\n",
    "df_sales[\"date\"] = pd.to_datetime(df_sales[\"date\"], format = \"%d.%m.%Y\")\n",
    "df_sales.head()"
   ]
  },
  {
   "cell_type": "code",
   "execution_count": 58,
   "metadata": {},
   "outputs": [],
   "source": [
    "for i in [(0, 57), (1, 58), (10, 11)]:\n",
    "    df_sales.loc[df_sales['shop_id'] == i[0], 'shop_id'] = i[1]\n",
    "    df_test.loc[df_test['shop_id'] == i[0], 'shop_id'] = i[1]"
   ]
  },
  {
   "cell_type": "code",
   "execution_count": 59,
   "metadata": {},
   "outputs": [],
   "source": [
    "df_sales['revenue'] = df_sales['item_cnt_day'] * df_sales['item_price']"
   ]
  },
  {
   "cell_type": "code",
   "execution_count": 60,
   "metadata": {},
   "outputs": [
    {
     "name": "stderr",
     "output_type": "stream",
     "text": [
      "<ipython-input-60-f6abc034c128>:4: FutureWarning: Columnar iteration over characters will be deprecated in future releases.\n",
      "  df_items['name1'], df_items['name2'] = df_items['item_name'].str.split('[', 1).str\n",
      "<ipython-input-60-f6abc034c128>:5: FutureWarning: Columnar iteration over characters will be deprecated in future releases.\n",
      "  df_items['name1'], df_items['name3'] = df_items['item_name'].str.split('(', 1).str\n"
     ]
    }
   ],
   "source": [
    "# df_items\n",
    "\n",
    "# split item names by first bracket\n",
    "df_items['name1'], df_items['name2'] = df_items['item_name'].str.split('[', 1).str\n",
    "df_items['name1'], df_items['name3'] = df_items['item_name'].str.split('(', 1).str\n",
    "\n",
    "# replace special characters and turn to lower case\n",
    "df_items['name2'] = df_items['name2'].str.replace('[^A-Za-z0-9А-Яа-я]+', \" \").str.lower()\n",
    "df_items['name3'] = df_items['name3'].str.replace('[^A-Za-z0-9А-Яа-я]+', \" \").str.lower()\n",
    "\n",
    "# fill nulls with '0'\n",
    "df_items = df_items.fillna('0')\n",
    "\n",
    "# return all characters except the last if name 2 is not \"0\" - the closing bracket\n",
    "df_items['name2'] = df_items['name2'].apply(lambda x: x[:-1] if x != '0' else '0')"
   ]
  },
  {
   "cell_type": "code",
   "execution_count": 61,
   "metadata": {},
   "outputs": [],
   "source": [
    "df_items['type'] = (df_items['name2'].apply(lambda x: x[0:8] if x.split(' ')[0] == 'xbox' else x.split(' ')[0]))\n",
    "\n",
    "df_items.loc[(df_items['type'] == 'x360')|(df_items['type'] == 'xbox360')|(df_items['type'] == 'xbox 360'),'type'] = 'xbox 360'\n",
    "df_items.loc[df_items['type'] == '', 'type'] = 'mac'\n",
    "df_items.type = (df_items['type'].apply(lambda x: x.replace(' ', '')))\n",
    "df_items.loc[(df_items['type'] == 'pc' )|(df_items['type'] == 'pс')|(df_items['type'] == 'pс'),'type'] = 'pс'\n",
    "\n",
    "df_items.loc[df_items['type'] == 'рs3' , 'type'] = 'рs3'"
   ]
  },
  {
   "cell_type": "code",
   "execution_count": 62,
   "metadata": {},
   "outputs": [],
   "source": [
    "# Create \"grid\" with columns\n",
    "index_cols = ['shop_id', 'item_id', 'date_block_num']\n",
    "\n",
    "# For every month we create a grid from all shops/items combinations from that month\n",
    "grid = [] \n",
    "for month in df_sales['date_block_num'].unique():\n",
    "    cur_shops = df_sales.loc[df_sales['date_block_num'] == month, 'shop_id'].unique()\n",
    "    cur_items = df_sales.loc[df_sales['date_block_num'] == month, 'item_id'].unique()\n",
    "    grid.append(np.array(list(product(*[cur_shops, cur_items, [month]])),dtype='int32'))\n",
    "\n",
    "# Turn the grid into a dataframe\n",
    "grid = pd.DataFrame(np.vstack(grid), columns = index_cols,dtype=np.int32)\n",
    "\n",
    "# Groupby data to get shop-item-month aggregates\n",
    "gb = df_sales.groupby(index_cols,as_index=False).agg({'item_cnt_day':'sum'})\n",
    "gb.rename(columns ={'item_cnt_day':'item_cnt_month'},inplace = True)\n",
    "train_data = pd.merge(grid, gb, how='left', on=index_cols).fillna(0)\n",
    "\n",
    "#Clip target values\n",
    "train_data['item_cnt_month'] = np.clip(train_data['item_cnt_month'],0,20)\n",
    "train_data.sort_values(index_cols, inplace = True)"
   ]
  },
  {
   "cell_type": "code",
   "execution_count": 64,
   "metadata": {},
   "outputs": [],
   "source": [
    "#lag feature\n",
    "for i in [1,2,3,6,12]:\n",
    "    shifted = train_data[['date_block_num','shop_id','item_id','item_cnt_month']].copy()\n",
    "    shifted.columns = ['date_block_num','shop_id','item_id', 'item_cnt_month'+'_lag_'+str(i)]\n",
    "    shifted['date_block_num'] += i\n",
    "    train_data = pd.merge(train_data, shifted, on=['date_block_num','shop_id','item_id'], how='left')"
   ]
  },
  {
   "cell_type": "code",
   "execution_count": 65,
   "metadata": {},
   "outputs": [],
   "source": [
    "group = train_data.groupby(['date_block_num','item_id'])['item_cnt_month'].mean().rename('date_item_avg_cnt').reset_index()\n",
    "train_data = pd.merge(train_data, group, on=['date_block_num', 'item_id'], how='left')\n",
    "for i in [1,2,3,6,12]:\n",
    "    shifted = train_data[['date_block_num','shop_id','item_id','date_item_avg_cnt']].copy()\n",
    "    shifted.columns = ['date_block_num','shop_id','item_id', 'date_item_avg_cnt'+'_lag_'+str(i)]\n",
    "    shifted['date_block_num'] += i\n",
    "    train_data = pd.merge(train_data, shifted, on=['date_block_num','shop_id','item_id'], how='left')\n",
    "train_data.drop(['date_item_avg_cnt'], axis=1, inplace=True)"
   ]
  },
  {
   "cell_type": "code",
   "execution_count": 66,
   "metadata": {},
   "outputs": [],
   "source": [
    "group = train_data.groupby(['date_block_num','shop_id'])['item_cnt_month'].mean().rename('date_shop_avg_cnt').reset_index()\n",
    "train_data = pd.merge(train_data, group, on=['date_block_num', 'shop_id'], how='left')\n",
    "for i in [1,2,3,6,12]:\n",
    "    shifted = train_data[['date_block_num','shop_id','item_id','date_shop_avg_cnt']].copy()\n",
    "    shifted.columns = ['date_block_num','shop_id','item_id', 'date_shop_avg_cnt'+'_lag_'+str(i)]\n",
    "    shifted['date_block_num'] += i\n",
    "    train_data = pd.merge(train_data, shifted, on=['date_block_num','shop_id','item_id'], how='left')\n",
    "train_data.drop(['date_shop_avg_cnt'], axis=1, inplace=True)"
   ]
  },
  {
   "cell_type": "code",
   "execution_count": 67,
   "metadata": {},
   "outputs": [],
   "source": [
    "group = train_data.groupby(['date_block_num'])['item_cnt_month'].mean().rename('date_avg_cnt').reset_index()\n",
    "train_data = pd.merge(train_data, group, on=['date_block_num'], how='left')\n",
    "shifted = train_data[['date_block_num','shop_id','item_id','date_avg_cnt']].copy()\n",
    "shifted.columns = ['date_block_num','shop_id','item_id', 'date_avg_cnt'+'_lag_'+str(1)]\n",
    "shifted['date_block_num'] += 1\n",
    "train_data = pd.merge(train_data, shifted, on=['date_block_num','shop_id','item_id'], how='left')\n",
    "train_data.drop(['date_avg_cnt'], axis=1, inplace=True)"
   ]
  },
  {
   "cell_type": "code",
   "execution_count": 68,
   "metadata": {},
   "outputs": [],
   "source": [
    "group = train_data.groupby(['date_block_num','shop_id','item_id'])['item_cnt_month'].mean().rename('date_shop_item_avg_cnt').reset_index()\n",
    "train_data = pd.merge(train_data, group, on=['date_block_num', 'shop_id','item_id'], how='left')\n",
    "for i in [1,2,3]:\n",
    "    shifted = train_data[['date_block_num','shop_id','item_id','date_shop_item_avg_cnt']].copy()\n",
    "    shifted.columns = ['date_block_num','shop_id','item_id', 'date_shop_item_avg_cnt'+'_lag_'+str(i)]\n",
    "    shifted['date_block_num'] += i\n",
    "    train_data = pd.merge(train_data, shifted, on=['date_block_num','shop_id','item_id'], how='left')\n",
    "train_data.drop(['date_shop_item_avg_cnt'], axis=1, inplace=True)"
   ]
  },
  {
   "cell_type": "code",
   "execution_count": 69,
   "metadata": {},
   "outputs": [],
   "source": [
    "#trend\n",
    "group = df_sales.groupby(['item_id'])['item_price'].mean().rename('item_avg_price').reset_index()\n",
    "train_data = pd.merge(train_data, group, on=['item_id'], how='left')"
   ]
  },
  {
   "cell_type": "code",
   "execution_count": 70,
   "metadata": {},
   "outputs": [],
   "source": [
    "group = df_sales.groupby(['date_block_num','item_id'])['item_price'].mean().rename('date_item_avg_price').reset_index()\n",
    "train_data = pd.merge(train_data, group, on=['date_block_num','item_id'], how='left')"
   ]
  },
  {
   "cell_type": "code",
   "execution_count": 71,
   "metadata": {},
   "outputs": [],
   "source": [
    "lags = [1,2,3,4,5,6]\n",
    "for i in lags:\n",
    "    shifted = train_data[['date_block_num','shop_id','item_id','date_item_avg_price']].copy()\n",
    "    shifted.columns = ['date_block_num','shop_id','item_id', 'date_item_avg_price'+'_lag_'+str(i)]\n",
    "    shifted['date_block_num'] += i\n",
    "    train_data = pd.merge(train_data, shifted, on=['date_block_num','shop_id','item_id'], how='left')"
   ]
  },
  {
   "cell_type": "code",
   "execution_count": 72,
   "metadata": {},
   "outputs": [],
   "source": [
    "for i in lags:\n",
    "    train_data['trend_price_lag_'+str(i)] = (train_data['date_item_avg_price_lag_'+str(i)] - train_data['item_avg_price']) / train_data['item_avg_price']"
   ]
  },
  {
   "cell_type": "code",
   "execution_count": 73,
   "metadata": {},
   "outputs": [],
   "source": [
    "def trend(row):\n",
    "    for i in lags:\n",
    "        if row['trend_price_lag_'+str(i)]:\n",
    "            return row['trend_price_lag_'+str(i)]\n",
    "    return 0\n",
    "train_data['trend_price_lag'] = train_data.apply(trend, axis=1)"
   ]
  },
  {
   "cell_type": "code",
   "execution_count": 74,
   "metadata": {},
   "outputs": [],
   "source": [
    "fetures_to_drop = ['item_avg_price', 'date_item_avg_price']\n",
    "for i in lags:\n",
    "    fetures_to_drop += ['date_item_avg_price_lag_'+str(i)]\n",
    "    fetures_to_drop += ['trend_price_lag_'+str(i)]\n",
    "train_data.drop(fetures_to_drop, axis=1, inplace=True)"
   ]
  },
  {
   "cell_type": "code",
   "execution_count": 75,
   "metadata": {},
   "outputs": [],
   "source": [
    "group = df_sales.groupby(['date_block_num','shop_id',])['revenue'].sum().rename('sum_date_shops_revenue').reset_index()\n",
    "train_data = pd.merge(train_data, group, on=['date_block_num','shop_id'], how='left')"
   ]
  },
  {
   "cell_type": "code",
   "execution_count": 76,
   "metadata": {},
   "outputs": [],
   "source": [
    "group = df_sales.groupby(['date_block_num','shop_id',])['revenue'].sum().rename('sum_date_shops_revenue').reset_index()\n",
    "train_data = pd.merge(train_data, group, on=['date_block_num','shop_id'], how='left')"
   ]
  },
  {
   "cell_type": "code",
   "execution_count": 77,
   "metadata": {},
   "outputs": [],
   "source": [
    "group = group.groupby(['shop_id',])['sum_date_shops_revenue'].mean().rename('mean_shops_revenue').reset_index()\n",
    "train_data = pd.merge(train_data, group, on=['shop_id'], how='left')"
   ]
  },
  {
   "cell_type": "code",
   "execution_count": 79,
   "metadata": {},
   "outputs": [],
   "source": [
    "train_data['trend_revenue'] = (train_data['sum_date_shops_revenue'] - train_data['mean_shops_revenue']) / train_data['mean_shops_revenue']\n",
    "shifted = train_data[['date_block_num','shop_id','item_id','trend_revenue']].copy()\n",
    "shifted.columns = ['date_block_num','shop_id','item_id', 'trend_revenue'+'_lag_'+str(1)]\n",
    "shifted['date_block_num'] += 1\n",
    "train_data = pd.merge(train_data, shifted, on=['date_block_num','shop_id','item_id'], how='left')"
   ]
  },
  {
   "cell_type": "code",
   "execution_count": 82,
   "metadata": {},
   "outputs": [],
   "source": [
    "train_data.drop(['sum_date_shops_revenue'], axis=1, inplace=True)\n",
    "train_data.drop(['mean_shops_revenue'], axis=1, inplace=True)\n",
    "train_data.drop(['trend_revenue'], axis=1, inplace=True)"
   ]
  },
  {
   "cell_type": "code",
   "execution_count": 83,
   "metadata": {},
   "outputs": [],
   "source": [
    "train_data['item_shop_first_sale'] = (\n",
    "    train_data['date_block_num'] - train_data.groupby(['item_id', 'shop_id'])['date_block_num'].transform('min')\n",
    ")\n",
    "train_data['item_first_sale'] = (\n",
    "    train_data['date_block_num'] - train_data.groupby(['item_id'])['date_block_num'].transform('min')\n",
    ")"
   ]
  },
  {
   "cell_type": "code",
   "execution_count": 84,
   "metadata": {},
   "outputs": [],
   "source": [
    "train_data.fillna(0,inplace = True)"
   ]
  },
  {
   "cell_type": "code",
   "execution_count": 85,
   "metadata": {},
   "outputs": [
    {
     "data": {
      "text/html": [
       "<div>\n",
       "<style scoped>\n",
       "    .dataframe tbody tr th:only-of-type {\n",
       "        vertical-align: middle;\n",
       "    }\n",
       "\n",
       "    .dataframe tbody tr th {\n",
       "        vertical-align: top;\n",
       "    }\n",
       "\n",
       "    .dataframe thead th {\n",
       "        text-align: right;\n",
       "    }\n",
       "</style>\n",
       "<table border=\"1\" class=\"dataframe\">\n",
       "  <thead>\n",
       "    <tr style=\"text-align: right;\">\n",
       "      <th></th>\n",
       "      <th>shop_id</th>\n",
       "      <th>item_id</th>\n",
       "      <th>date_block_num</th>\n",
       "      <th>item_cnt_month</th>\n",
       "      <th>item_cnt_month_lag_1</th>\n",
       "      <th>item_cnt_month_lag_2</th>\n",
       "      <th>item_cnt_month_lag_3</th>\n",
       "      <th>item_cnt_month_lag_6</th>\n",
       "      <th>item_cnt_month_lag_12</th>\n",
       "      <th>date_item_avg_cnt_lag_1</th>\n",
       "      <th>...</th>\n",
       "      <th>date_avg_cnt_lag_1</th>\n",
       "      <th>date_shop_item_avg_cnt_lag_1</th>\n",
       "      <th>date_shop_item_avg_cnt_lag_2</th>\n",
       "      <th>date_shop_item_avg_cnt_lag_3</th>\n",
       "      <th>trend_price_lag</th>\n",
       "      <th>sum_date_shops_revenue_x</th>\n",
       "      <th>sum_date_shops_revenue_y</th>\n",
       "      <th>mean_shops_revenue</th>\n",
       "      <th>item_shop_first_sale</th>\n",
       "      <th>item_first_sale</th>\n",
       "    </tr>\n",
       "  </thead>\n",
       "  <tbody>\n",
       "    <tr>\n",
       "      <th>0</th>\n",
       "      <td>2</td>\n",
       "      <td>0</td>\n",
       "      <td>20</td>\n",
       "      <td>0.0</td>\n",
       "      <td>0.0</td>\n",
       "      <td>0.0</td>\n",
       "      <td>0.0</td>\n",
       "      <td>0.0</td>\n",
       "      <td>0.0</td>\n",
       "      <td>0.000000</td>\n",
       "      <td>...</td>\n",
       "      <td>0.000000</td>\n",
       "      <td>0.0</td>\n",
       "      <td>0.0</td>\n",
       "      <td>0.0</td>\n",
       "      <td>0.000000</td>\n",
       "      <td>1479538.0</td>\n",
       "      <td>1479538.0</td>\n",
       "      <td>1.300397e+06</td>\n",
       "      <td>0</td>\n",
       "      <td>0</td>\n",
       "    </tr>\n",
       "    <tr>\n",
       "      <th>1</th>\n",
       "      <td>2</td>\n",
       "      <td>1</td>\n",
       "      <td>15</td>\n",
       "      <td>0.0</td>\n",
       "      <td>0.0</td>\n",
       "      <td>0.0</td>\n",
       "      <td>0.0</td>\n",
       "      <td>0.0</td>\n",
       "      <td>0.0</td>\n",
       "      <td>0.000000</td>\n",
       "      <td>...</td>\n",
       "      <td>0.000000</td>\n",
       "      <td>0.0</td>\n",
       "      <td>0.0</td>\n",
       "      <td>0.0</td>\n",
       "      <td>0.000000</td>\n",
       "      <td>1084938.0</td>\n",
       "      <td>1084938.0</td>\n",
       "      <td>1.300397e+06</td>\n",
       "      <td>0</td>\n",
       "      <td>0</td>\n",
       "    </tr>\n",
       "    <tr>\n",
       "      <th>2</th>\n",
       "      <td>2</td>\n",
       "      <td>1</td>\n",
       "      <td>18</td>\n",
       "      <td>0.0</td>\n",
       "      <td>0.0</td>\n",
       "      <td>0.0</td>\n",
       "      <td>0.0</td>\n",
       "      <td>0.0</td>\n",
       "      <td>0.0</td>\n",
       "      <td>0.000000</td>\n",
       "      <td>...</td>\n",
       "      <td>0.000000</td>\n",
       "      <td>0.0</td>\n",
       "      <td>0.0</td>\n",
       "      <td>0.0</td>\n",
       "      <td>0.000000</td>\n",
       "      <td>1107408.5</td>\n",
       "      <td>1107408.5</td>\n",
       "      <td>1.300397e+06</td>\n",
       "      <td>3</td>\n",
       "      <td>3</td>\n",
       "    </tr>\n",
       "    <tr>\n",
       "      <th>3</th>\n",
       "      <td>2</td>\n",
       "      <td>1</td>\n",
       "      <td>19</td>\n",
       "      <td>0.0</td>\n",
       "      <td>0.0</td>\n",
       "      <td>0.0</td>\n",
       "      <td>0.0</td>\n",
       "      <td>0.0</td>\n",
       "      <td>0.0</td>\n",
       "      <td>0.020408</td>\n",
       "      <td>...</td>\n",
       "      <td>0.260610</td>\n",
       "      <td>0.0</td>\n",
       "      <td>0.0</td>\n",
       "      <td>0.0</td>\n",
       "      <td>0.000000</td>\n",
       "      <td>1194669.0</td>\n",
       "      <td>1194669.0</td>\n",
       "      <td>1.300397e+06</td>\n",
       "      <td>4</td>\n",
       "      <td>4</td>\n",
       "    </tr>\n",
       "    <tr>\n",
       "      <th>4</th>\n",
       "      <td>2</td>\n",
       "      <td>1</td>\n",
       "      <td>20</td>\n",
       "      <td>0.0</td>\n",
       "      <td>0.0</td>\n",
       "      <td>0.0</td>\n",
       "      <td>0.0</td>\n",
       "      <td>0.0</td>\n",
       "      <td>0.0</td>\n",
       "      <td>0.020000</td>\n",
       "      <td>...</td>\n",
       "      <td>0.296927</td>\n",
       "      <td>0.0</td>\n",
       "      <td>0.0</td>\n",
       "      <td>0.0</td>\n",
       "      <td>0.000000</td>\n",
       "      <td>1479538.0</td>\n",
       "      <td>1479538.0</td>\n",
       "      <td>1.300397e+06</td>\n",
       "      <td>5</td>\n",
       "      <td>5</td>\n",
       "    </tr>\n",
       "    <tr>\n",
       "      <th>10812711</th>\n",
       "      <td>59</td>\n",
       "      <td>22167</td>\n",
       "      <td>31</td>\n",
       "      <td>0.0</td>\n",
       "      <td>0.0</td>\n",
       "      <td>0.0</td>\n",
       "      <td>0.0</td>\n",
       "      <td>0.0</td>\n",
       "      <td>0.0</td>\n",
       "      <td>0.790698</td>\n",
       "      <td>...</td>\n",
       "      <td>0.259977</td>\n",
       "      <td>0.0</td>\n",
       "      <td>0.0</td>\n",
       "      <td>0.0</td>\n",
       "      <td>0.004416</td>\n",
       "      <td>1001123.0</td>\n",
       "      <td>1001123.0</td>\n",
       "      <td>1.335571e+06</td>\n",
       "      <td>23</td>\n",
       "      <td>23</td>\n",
       "    </tr>\n",
       "    <tr>\n",
       "      <th>10812712</th>\n",
       "      <td>59</td>\n",
       "      <td>22167</td>\n",
       "      <td>32</td>\n",
       "      <td>0.0</td>\n",
       "      <td>0.0</td>\n",
       "      <td>0.0</td>\n",
       "      <td>0.0</td>\n",
       "      <td>0.0</td>\n",
       "      <td>0.0</td>\n",
       "      <td>0.690476</td>\n",
       "      <td>...</td>\n",
       "      <td>0.288634</td>\n",
       "      <td>0.0</td>\n",
       "      <td>0.0</td>\n",
       "      <td>0.0</td>\n",
       "      <td>0.004416</td>\n",
       "      <td>1100853.0</td>\n",
       "      <td>1100853.0</td>\n",
       "      <td>1.335571e+06</td>\n",
       "      <td>24</td>\n",
       "      <td>24</td>\n",
       "    </tr>\n",
       "    <tr>\n",
       "      <th>10812713</th>\n",
       "      <td>59</td>\n",
       "      <td>22167</td>\n",
       "      <td>33</td>\n",
       "      <td>0.0</td>\n",
       "      <td>0.0</td>\n",
       "      <td>0.0</td>\n",
       "      <td>0.0</td>\n",
       "      <td>0.0</td>\n",
       "      <td>0.0</td>\n",
       "      <td>0.500000</td>\n",
       "      <td>...</td>\n",
       "      <td>0.270697</td>\n",
       "      <td>0.0</td>\n",
       "      <td>0.0</td>\n",
       "      <td>0.0</td>\n",
       "      <td>0.004416</td>\n",
       "      <td>974885.0</td>\n",
       "      <td>974885.0</td>\n",
       "      <td>1.335571e+06</td>\n",
       "      <td>25</td>\n",
       "      <td>25</td>\n",
       "    </tr>\n",
       "    <tr>\n",
       "      <th>10812717</th>\n",
       "      <td>59</td>\n",
       "      <td>22168</td>\n",
       "      <td>8</td>\n",
       "      <td>0.0</td>\n",
       "      <td>0.0</td>\n",
       "      <td>0.0</td>\n",
       "      <td>0.0</td>\n",
       "      <td>0.0</td>\n",
       "      <td>0.0</td>\n",
       "      <td>0.000000</td>\n",
       "      <td>...</td>\n",
       "      <td>0.000000</td>\n",
       "      <td>0.0</td>\n",
       "      <td>0.0</td>\n",
       "      <td>0.0</td>\n",
       "      <td>0.000000</td>\n",
       "      <td>1662343.0</td>\n",
       "      <td>1662343.0</td>\n",
       "      <td>1.335571e+06</td>\n",
       "      <td>8</td>\n",
       "      <td>8</td>\n",
       "    </tr>\n",
       "    <tr>\n",
       "      <th>10812718</th>\n",
       "      <td>59</td>\n",
       "      <td>22169</td>\n",
       "      <td>14</td>\n",
       "      <td>0.0</td>\n",
       "      <td>0.0</td>\n",
       "      <td>0.0</td>\n",
       "      <td>0.0</td>\n",
       "      <td>0.0</td>\n",
       "      <td>0.0</td>\n",
       "      <td>0.000000</td>\n",
       "      <td>...</td>\n",
       "      <td>0.000000</td>\n",
       "      <td>0.0</td>\n",
       "      <td>0.0</td>\n",
       "      <td>0.0</td>\n",
       "      <td>0.000000</td>\n",
       "      <td>1506388.0</td>\n",
       "      <td>1506388.0</td>\n",
       "      <td>1.335571e+06</td>\n",
       "      <td>0</td>\n",
       "      <td>0</td>\n",
       "    </tr>\n",
       "  </tbody>\n",
       "</table>\n",
       "<p>10 rows × 29 columns</p>\n",
       "</div>"
      ],
      "text/plain": [
       "          shop_id  item_id  date_block_num  item_cnt_month  \\\n",
       "0               2        0              20             0.0   \n",
       "1               2        1              15             0.0   \n",
       "2               2        1              18             0.0   \n",
       "3               2        1              19             0.0   \n",
       "4               2        1              20             0.0   \n",
       "10812711       59    22167              31             0.0   \n",
       "10812712       59    22167              32             0.0   \n",
       "10812713       59    22167              33             0.0   \n",
       "10812717       59    22168               8             0.0   \n",
       "10812718       59    22169              14             0.0   \n",
       "\n",
       "          item_cnt_month_lag_1  item_cnt_month_lag_2  item_cnt_month_lag_3  \\\n",
       "0                          0.0                   0.0                   0.0   \n",
       "1                          0.0                   0.0                   0.0   \n",
       "2                          0.0                   0.0                   0.0   \n",
       "3                          0.0                   0.0                   0.0   \n",
       "4                          0.0                   0.0                   0.0   \n",
       "10812711                   0.0                   0.0                   0.0   \n",
       "10812712                   0.0                   0.0                   0.0   \n",
       "10812713                   0.0                   0.0                   0.0   \n",
       "10812717                   0.0                   0.0                   0.0   \n",
       "10812718                   0.0                   0.0                   0.0   \n",
       "\n",
       "          item_cnt_month_lag_6  item_cnt_month_lag_12  \\\n",
       "0                          0.0                    0.0   \n",
       "1                          0.0                    0.0   \n",
       "2                          0.0                    0.0   \n",
       "3                          0.0                    0.0   \n",
       "4                          0.0                    0.0   \n",
       "10812711                   0.0                    0.0   \n",
       "10812712                   0.0                    0.0   \n",
       "10812713                   0.0                    0.0   \n",
       "10812717                   0.0                    0.0   \n",
       "10812718                   0.0                    0.0   \n",
       "\n",
       "          date_item_avg_cnt_lag_1  ...  date_avg_cnt_lag_1  \\\n",
       "0                        0.000000  ...            0.000000   \n",
       "1                        0.000000  ...            0.000000   \n",
       "2                        0.000000  ...            0.000000   \n",
       "3                        0.020408  ...            0.260610   \n",
       "4                        0.020000  ...            0.296927   \n",
       "10812711                 0.790698  ...            0.259977   \n",
       "10812712                 0.690476  ...            0.288634   \n",
       "10812713                 0.500000  ...            0.270697   \n",
       "10812717                 0.000000  ...            0.000000   \n",
       "10812718                 0.000000  ...            0.000000   \n",
       "\n",
       "          date_shop_item_avg_cnt_lag_1  date_shop_item_avg_cnt_lag_2  \\\n",
       "0                                  0.0                           0.0   \n",
       "1                                  0.0                           0.0   \n",
       "2                                  0.0                           0.0   \n",
       "3                                  0.0                           0.0   \n",
       "4                                  0.0                           0.0   \n",
       "10812711                           0.0                           0.0   \n",
       "10812712                           0.0                           0.0   \n",
       "10812713                           0.0                           0.0   \n",
       "10812717                           0.0                           0.0   \n",
       "10812718                           0.0                           0.0   \n",
       "\n",
       "          date_shop_item_avg_cnt_lag_3  trend_price_lag  \\\n",
       "0                                  0.0         0.000000   \n",
       "1                                  0.0         0.000000   \n",
       "2                                  0.0         0.000000   \n",
       "3                                  0.0         0.000000   \n",
       "4                                  0.0         0.000000   \n",
       "10812711                           0.0         0.004416   \n",
       "10812712                           0.0         0.004416   \n",
       "10812713                           0.0         0.004416   \n",
       "10812717                           0.0         0.000000   \n",
       "10812718                           0.0         0.000000   \n",
       "\n",
       "          sum_date_shops_revenue_x  sum_date_shops_revenue_y  \\\n",
       "0                        1479538.0                 1479538.0   \n",
       "1                        1084938.0                 1084938.0   \n",
       "2                        1107408.5                 1107408.5   \n",
       "3                        1194669.0                 1194669.0   \n",
       "4                        1479538.0                 1479538.0   \n",
       "10812711                 1001123.0                 1001123.0   \n",
       "10812712                 1100853.0                 1100853.0   \n",
       "10812713                  974885.0                  974885.0   \n",
       "10812717                 1662343.0                 1662343.0   \n",
       "10812718                 1506388.0                 1506388.0   \n",
       "\n",
       "          mean_shops_revenue  item_shop_first_sale  item_first_sale  \n",
       "0               1.300397e+06                     0                0  \n",
       "1               1.300397e+06                     0                0  \n",
       "2               1.300397e+06                     3                3  \n",
       "3               1.300397e+06                     4                4  \n",
       "4               1.300397e+06                     5                5  \n",
       "10812711        1.335571e+06                    23               23  \n",
       "10812712        1.335571e+06                    24               24  \n",
       "10812713        1.335571e+06                    25               25  \n",
       "10812717        1.335571e+06                     8                8  \n",
       "10812718        1.335571e+06                     0                0  \n",
       "\n",
       "[10 rows x 29 columns]"
      ]
     },
     "execution_count": 85,
     "metadata": {},
     "output_type": "execute_result"
    }
   ],
   "source": [
    "train_data = train_data[train_data['date_block_num'] > 3]\n",
    "train_data.head().append(train_data.tail())"
   ]
  },
  {
   "cell_type": "code",
   "execution_count": 86,
   "metadata": {},
   "outputs": [],
   "source": [
    "X_train = train_data[train_data.date_block_num < 33].drop(['item_cnt_month'], axis=1)\n",
    "Y_train = train_data[train_data.date_block_num < 33]['item_cnt_month']\n",
    "X_valid = train_data[train_data.date_block_num == 33].drop(['item_cnt_month'], axis=1)\n",
    "Y_valid = train_data[train_data.date_block_num == 33]['item_cnt_month']\n",
    "X_test = train_data[train_data.date_block_num == 34].drop(['item_cnt_month'], axis=1)"
   ]
  },
  {
   "cell_type": "code",
   "execution_count": 87,
   "metadata": {},
   "outputs": [],
   "source": [
    "model = XGBRegressor(\n",
    "    max_depth=8,\n",
    "    n_estimators=1000,\n",
    "    min_child_weight=300, \n",
    "    colsample_bytree=0.8, \n",
    "    subsample=0.8, \n",
    "    eta=0.1,    \n",
    "    seed=42)\n",
    "\n",
    "saved_model = model.fit(\n",
    "    X_train,\n",
    "    Y_train,\n",
    "    eval_metric=\"rmse\",\n",
    "    eval_set=[(X_train, Y_train), (X_valid, Y_valid)],\n",
    "    verbose=True,\n",
    "    early_stopping_rounds = 10)"
   ]
  },
  {
   "cell_type": "code",
   "execution_count": 88,
   "metadata": {},
   "outputs": [],
   "source": [
    "y_pred = model.predict(X_test).clip(0,20)\n",
    "sample['item_cnt_month'] = y_pred \n",
    "sample.to_csv('xgb_mon3.csv', index=False)"
   ]
  },
  {
   "cell_type": "code",
   "execution_count": 6,
   "metadata": {},
   "outputs": [
    {
     "name": "stdout",
     "output_type": "stream",
     "text": [
      "1.414263515118312\n"
     ]
    }
   ],
   "source": [
    "dtr = DecisionTreeRegressor().fit(X_train, Y_train)\n",
    "y_preds = dtr.predict(X_valid)\n",
    "mean_squared_error(Y_valid, y_preds)"
   ]
  },
  {
   "cell_type": "code",
   "execution_count": 7,
   "metadata": {},
   "outputs": [],
   "source": [
    "y_pred = dtr.predict(X_test).clip(0,20)\n",
    "sample['item_cnt_month'] = y_pred\n",
    "sample.to_csv('dtr_mon3.csv', index=False)"
   ]
  },
  {
   "cell_type": "code",
   "execution_count": 8,
   "metadata": {},
   "outputs": [
    {
     "name": "stdout",
     "output_type": "stream",
     "text": [
      "1.847283291835324\n"
     ]
    }
   ],
   "source": [
    "rfr = RandomForestRegressor().fit(X_train, Y_train)\n",
    "y_preds = rfr.predict(X_valid)\n",
    "mean_squared_error(Y_valid, y_preds)"
   ]
  },
  {
   "cell_type": "code",
   "execution_count": 9,
   "metadata": {},
   "outputs": [],
   "source": [
    "y_pred = rfr.predict(X_test).clip(0,20)\n",
    "sample['item_cnt_month'] = y_pred\n",
    "sample.to_csv('rfr_mon3.csv', index=False)"
   ]
  },
  {
   "cell_type": "code",
   "execution_count": 10,
   "metadata": {},
   "outputs": [],
   "source": [
    "import lightgbm as lgb\n",
    "params = {'metric': 'rmse',\n",
    "          'num_leaves': 255,\n",
    "          'learning_rate': 0.005,\n",
    "          'feature_fraction': 0.75,\n",
    "          'bagging_fraction': 0.75,\n",
    "          'bagging_freq': 5,\n",
    "          'force_col_wise' : True,\n",
    "          'random_state': 10}"
   ]
  },
  {
   "cell_type": "code",
   "execution_count": 11,
   "metadata": {},
   "outputs": [],
   "source": [
    "cat_features = ['shop_id', 'month']\n",
    "\n",
    "# lgb train and valid dataset\n",
    "dtrain = lgb.Dataset(X_train, Y_train)\n",
    "dvalid = lgb.Dataset(X_valid, Y_valid)\n",
    " \n",
    "# Train LightGBM model\n",
    "lgb_model = lgb.train(params=params,\n",
    "                      train_set=dtrain,\n",
    "                      num_boost_round=1500,\n",
    "                      valid_sets=(dtrain, dvalid),\n",
    "                      early_stopping_rounds=150,\n",
    "                      categorical_feature=cat_features,\n",
    "                      verbose_eval=100)"
   ]
  },
  {
   "cell_type": "code",
   "execution_count": 12,
   "metadata": {},
   "outputs": [],
   "source": [
    "y_pred = lgb.predict(X_test).clip(0,20)\n",
    "sample['item_cnt_month'] = y_pred\n",
    "sample.to_csv('lgb_mon3.csv', index=False)"
   ]
  }
 ],
 "metadata": {
  "kernelspec": {
   "display_name": "Python 3",
   "language": "python",
   "name": "python3"
  },
  "language_info": {
   "codemirror_mode": {
    "name": "ipython",
    "version": 3
   },
   "file_extension": ".py",
   "mimetype": "text/x-python",
   "name": "python",
   "nbconvert_exporter": "python",
   "pygments_lexer": "ipython3",
   "version": "3.8.5"
  }
 },
 "nbformat": 4,
 "nbformat_minor": 4
}
